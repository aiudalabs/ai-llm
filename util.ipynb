{
 "cells": [
  {
   "cell_type": "code",
   "execution_count": 8,
   "metadata": {},
   "outputs": [
    {
     "name": "stderr",
     "output_type": "stream",
     "text": [
      "[...]1/site-packages/sympy/core/power.py:1217  call      => _eval_derivative(self=1/(exp(x) + exp(-x)), s=x)\n",
      "[...]1/site-packages/sympy/core/power.py:1217  call         => _eval_derivative(self=<sympy.core.power.Pow object at 0x767f942aeb40>, s=<sympy.core.symbol.Symbol object at 0x767f8aeaba60>)\n",
      "[...]1/site-packages/sympy/core/power.py:1221  return       <= _eval_derivative: (-exp(x) + exp(-x))/(exp(x) + exp(-x))**2\n",
      "[...]1/site-packages/sympy/core/power.py:1221  return    <= _eval_derivative: <sympy.core.mul.Mul object at 0x767f8b128cc0>\n"
     ]
    },
    {
     "data": {
      "text/latex": [
       "$\\displaystyle \\frac{\\left(2 \\left(1 - e^{2 x}\\right)^{2} - \\left(e^{2 x} + 1\\right)^{2}\\right) e^{x}}{\\left(e^{2 x} + 1\\right)^{3}}$"
      ],
      "text/plain": [
       "(2*(1 - exp(2*x))**2 - (exp(2*x) + 1)**2)*exp(x)/(exp(2*x) + 1)**3"
      ]
     },
     "execution_count": 8,
     "metadata": {},
     "output_type": "execute_result"
    }
   ],
   "source": [
    "from sympy import symbols, exp, diff, simplify\n",
    "from sympy.integrals.integrals import integrate\n",
    "\n",
    "# from sympy.printing.pdf import preview\n",
    "import hunter\n",
    "from hunter import Q, When, Stop\n",
    "\n",
    "hunter.trace(\n",
    "    Q(\n",
    "        module_contains=\"sympy\",\n",
    "        function=\"_eval_derivative\",\n",
    "        kind_in=[\"call\", \"return\"],\n",
    "        action=hunter.CallPrinter(repr_func=str),\n",
    "    )\n",
    ")\n",
    "\n",
    "# Definir la variable y la función\n",
    "x = symbols(\"x\")\n",
    "f = 1 / (exp(x) + exp(-x))\n",
    "\n",
    "# Calcular la primera derivada\n",
    "f_prime = diff(f, x)\n",
    "\n",
    "# Calcular la segunda derivada\n",
    "f_double_prime = diff(f_prime, x)\n",
    "\n",
    "# Simplificar la segunda derivada\n",
    "f_double_prime_simplified = simplify(f_double_prime)\n",
    "\n",
    "# Crear el archivo PDF con la segunda derivada\n",
    "# preview(f_double_prime_simplified, output='pdf', viewer='file', filename=\"/mnt/data/second_derivative.pdf\")\n",
    "\n",
    "f_double_prime_simplified"
   ]
  },
  {
   "cell_type": "code",
   "execution_count": null,
   "metadata": {},
   "outputs": [],
   "source": []
  }
 ],
 "metadata": {
  "kernelspec": {
   "display_name": "Python 3",
   "language": "python",
   "name": "python3"
  },
  "language_info": {
   "codemirror_mode": {
    "name": "ipython",
    "version": 3
   },
   "file_extension": ".py",
   "mimetype": "text/x-python",
   "name": "python",
   "nbconvert_exporter": "python",
   "pygments_lexer": "ipython3",
   "version": "3.11.9"
  }
 },
 "nbformat": 4,
 "nbformat_minor": 2
}
