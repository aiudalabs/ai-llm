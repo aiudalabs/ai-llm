{
 "cells": [
  {
   "cell_type": "markdown",
   "metadata": {},
   "source": [
    "**Table of contents**<a id='toc0_'></a>    \n",
    "- [LangGraph Multi-Agent Supervisor](#toc1_)    \n",
    "- [LangChain MCP Adapters](#toc2_)    \n",
    "  - [Server](#toc2_1_)    \n",
    "- [Connect to WhatsApp](#toc3_)    \n",
    "\n",
    "<!-- vscode-jupyter-toc-config\n",
    "\tnumbering=false\n",
    "\tanchor=true\n",
    "\tflat=false\n",
    "\tminLevel=1\n",
    "\tmaxLevel=6\n",
    "\t/vscode-jupyter-toc-config -->\n",
    "<!-- THIS CELL WILL BE REPLACED ON TOC UPDATE. DO NOT WRITE YOUR TEXT IN THIS CELL -->"
   ]
  },
  {
   "cell_type": "markdown",
   "metadata": {},
   "source": []
  },
  {
   "cell_type": "markdown",
   "metadata": {},
   "source": [
    "# <a id='toc1_'></a>[LangGraph Multi-Agent Supervisor](#toc0_)"
   ]
  },
  {
   "cell_type": "code",
   "execution_count": 1,
   "metadata": {},
   "outputs": [],
   "source": [
    "from langchain_openai import ChatOpenAI\n",
    "\n",
    "from langgraph_supervisor import create_supervisor\n",
    "from langgraph.prebuilt import create_react_agent\n",
    "\n",
    "model = ChatOpenAI(model=\"gpt-4o\")\n",
    "\n",
    "# Create specialized agents\n",
    "\n",
    "def add(a: float, b: float) -> float:\n",
    "    \"\"\"Add two numbers.\"\"\"\n",
    "    return a + b\n",
    "\n",
    "def multiply(a: float, b: float) -> float:\n",
    "    \"\"\"Multiply two numbers.\"\"\"\n",
    "    return a * b\n",
    "\n",
    "def web_search(query: str) -> str:\n",
    "    \"\"\"Search the web for information.\"\"\"\n",
    "    return (\n",
    "        \"Here are the headcounts for each of the FAANG companies in 2024:\\n\"\n",
    "        \"1. **Facebook (Meta)**: 67,317 employees.\\n\"\n",
    "        \"2. **Apple**: 164,000 employees.\\n\"\n",
    "        \"3. **Amazon**: 1,551,000 employees.\\n\"\n",
    "        \"4. **Netflix**: 14,000 employees.\\n\"\n",
    "        \"5. **Google (Alphabet)**: 181,269 employees.\"\n",
    "    )\n",
    "\n",
    "math_agent = create_react_agent(\n",
    "    model=model,\n",
    "    tools=[add, multiply],\n",
    "    name=\"math_expert\",\n",
    "    prompt=\"You are a math expert. Always use one tool at a time.\"\n",
    ")\n",
    "\n",
    "research_agent = create_react_agent(\n",
    "    model=model,\n",
    "    tools=[web_search],\n",
    "    name=\"research_expert\",\n",
    "    prompt=\"You are a world class researcher with access to web search. Do not do any math.\"\n",
    ")\n",
    "\n",
    "# Create supervisor workflow\n",
    "workflow = create_supervisor(\n",
    "    [research_agent, math_agent],\n",
    "    model=model,\n",
    "    prompt=(\n",
    "        \"You are a team supervisor managing a research expert and a math expert. \"\n",
    "        \"For current events, use research_agent. \"\n",
    "        \"For math problems, use math_agent.\"\n",
    "    )\n",
    ")\n",
    "\n",
    "# Compile and run\n",
    "app = workflow.compile()\n",
    "result = app.invoke({\n",
    "    \"messages\": [\n",
    "        {\n",
    "            \"role\": \"user\",\n",
    "            \"content\": \"what's the combined headcount of the FAANG companies in 2024?\"\n",
    "        }\n",
    "    ]\n",
    "})"
   ]
  },
  {
   "cell_type": "code",
   "execution_count": 2,
   "metadata": {},
   "outputs": [
    {
     "data": {
      "text/plain": [
       "{'messages': [HumanMessage(content=\"what's the combined headcount of the FAANG companies in 2024?\", additional_kwargs={}, response_metadata={}, id='cd127337-1ea7-4017-b8c6-49cc0e541dac'),\n",
       "  AIMessage(content='', additional_kwargs={'tool_calls': [{'id': 'call_lJO7fB9tRJw2FhBoesBpvd9I', 'function': {'arguments': '{}', 'name': 'transfer_to_research_expert'}, 'type': 'function'}], 'refusal': None}, response_metadata={'token_usage': {'completion_tokens': 15, 'prompt_tokens': 112, 'total_tokens': 127, 'completion_tokens_details': {'accepted_prediction_tokens': 0, 'audio_tokens': 0, 'reasoning_tokens': 0, 'rejected_prediction_tokens': 0}, 'prompt_tokens_details': {'audio_tokens': 0, 'cached_tokens': 0}}, 'model_name': 'gpt-4o-2024-08-06', 'system_fingerprint': 'fp_6dd05565ef', 'id': 'chatcmpl-BIhVlJZHroAdUdJbEsL08RFUQPxOC', 'finish_reason': 'tool_calls', 'logprobs': None}, name='supervisor', id='run-23587dbc-426f-4e85-9415-b8fd1936791a-0', tool_calls=[{'name': 'transfer_to_research_expert', 'args': {}, 'id': 'call_lJO7fB9tRJw2FhBoesBpvd9I', 'type': 'tool_call'}], usage_metadata={'input_tokens': 112, 'output_tokens': 15, 'total_tokens': 127, 'input_token_details': {'audio': 0, 'cache_read': 0}, 'output_token_details': {'audio': 0, 'reasoning': 0}}),\n",
       "  ToolMessage(content='Successfully transferred to research_expert', name='transfer_to_research_expert', id='21cd050f-42b8-4cc9-8e89-992377064853', tool_call_id='call_lJO7fB9tRJw2FhBoesBpvd9I'),\n",
       "  AIMessage(content='The combined headcount of the FAANG companies in 2024 is as follows:\\n\\n1. **Facebook (Meta)**: 67,317 employees\\n2. **Apple**: 164,000 employees\\n3. **Amazon**: 1,551,000 employees\\n4. **Netflix**: 14,000 employees\\n5. **Google (Alphabet)**: 181,269 employees\\n\\nTo find the combined headcount, add these numbers together.', additional_kwargs={'refusal': None}, response_metadata={'token_usage': {'completion_tokens': 97, 'prompt_tokens': 685, 'total_tokens': 782, 'completion_tokens_details': {'accepted_prediction_tokens': 0, 'audio_tokens': 0, 'reasoning_tokens': 0, 'rejected_prediction_tokens': 0}, 'prompt_tokens_details': {'audio_tokens': 0, 'cached_tokens': 0}}, 'model_name': 'gpt-4o-2024-08-06', 'system_fingerprint': 'fp_898ac29719', 'id': 'chatcmpl-BIhVonuvCVzWYp74QulgnTh4AzUPs', 'finish_reason': 'stop', 'logprobs': None}, name='research_expert', id='run-7cb6861f-967b-4fc2-be07-7bd67a25e06b-0', usage_metadata={'input_tokens': 685, 'output_tokens': 97, 'total_tokens': 782, 'input_token_details': {'audio': 0, 'cache_read': 0}, 'output_token_details': {'audio': 0, 'reasoning': 0}}),\n",
       "  AIMessage(content='Transferring back to supervisor', additional_kwargs={}, response_metadata={'__is_handoff_back': True}, name='research_expert', id='3fe2d134-ff97-4e77-adf1-1d26a8aa9b17', tool_calls=[{'name': 'transfer_back_to_supervisor', 'args': {}, 'id': '2167baf5-b434-4690-b613-7faa0420b34e', 'type': 'tool_call'}]),\n",
       "  ToolMessage(content='Successfully transferred back to supervisor', name='transfer_back_to_supervisor', id='64788767-951d-4c2e-8e47-379acfdd565a', tool_call_id='2167baf5-b434-4690-b613-7faa0420b34e'),\n",
       "  AIMessage(content='', additional_kwargs={'tool_calls': [{'id': 'call_QVossgMRvMGSMgCFog49OlnL', 'function': {'arguments': '{}', 'name': 'transfer_to_math_expert'}, 'type': 'function'}], 'refusal': None}, response_metadata={'token_usage': {'completion_tokens': 14, 'prompt_tokens': 297, 'total_tokens': 311, 'completion_tokens_details': {'accepted_prediction_tokens': 0, 'audio_tokens': 0, 'reasoning_tokens': 0, 'rejected_prediction_tokens': 0}, 'prompt_tokens_details': {'audio_tokens': 0, 'cached_tokens': 0}}, 'model_name': 'gpt-4o-2024-08-06', 'system_fingerprint': 'fp_6dd05565ef', 'id': 'chatcmpl-BIhW07qYGUj9uaGtjDkN4dNcQ6XRf', 'finish_reason': 'tool_calls', 'logprobs': None}, name='supervisor', id='run-ac4df63a-d74a-44a7-b6c0-1bd7517fb920-0', tool_calls=[{'name': 'transfer_to_math_expert', 'args': {}, 'id': 'call_QVossgMRvMGSMgCFog49OlnL', 'type': 'tool_call'}], usage_metadata={'input_tokens': 297, 'output_tokens': 14, 'total_tokens': 311, 'input_token_details': {'audio': 0, 'cache_read': 0}, 'output_token_details': {'audio': 0, 'reasoning': 0}}),\n",
       "  ToolMessage(content='Successfully transferred to math_expert', name='transfer_to_math_expert', id='8a024a7a-4307-42ab-a5f2-a05d06123b40', tool_call_id='call_QVossgMRvMGSMgCFog49OlnL'),\n",
       "  AIMessage(content='The combined headcount of the FAANG companies in 2024 is 1,977,586 employees.', additional_kwargs={'refusal': None}, response_metadata={'token_usage': {'completion_tokens': 24, 'prompt_tokens': 536, 'total_tokens': 560, 'completion_tokens_details': {'accepted_prediction_tokens': 0, 'audio_tokens': 0, 'reasoning_tokens': 0, 'rejected_prediction_tokens': 0}, 'prompt_tokens_details': {'audio_tokens': 0, 'cached_tokens': 0}}, 'model_name': 'gpt-4o-2024-08-06', 'system_fingerprint': 'fp_6dd05565ef', 'id': 'chatcmpl-BIhW5DmNqbDqWbo474Ntceyexy0iW', 'finish_reason': 'stop', 'logprobs': None}, name='math_expert', id='run-4368475c-1820-48a5-8609-16f9d22d0bef-0', usage_metadata={'input_tokens': 536, 'output_tokens': 24, 'total_tokens': 560, 'input_token_details': {'audio': 0, 'cache_read': 0}, 'output_token_details': {'audio': 0, 'reasoning': 0}}),\n",
       "  AIMessage(content='Transferring back to supervisor', additional_kwargs={}, response_metadata={'__is_handoff_back': True}, name='math_expert', id='82351c7f-8570-40b9-bcac-ac7b4f36b0e5', tool_calls=[{'name': 'transfer_back_to_supervisor', 'args': {}, 'id': '5291d5ce-4c8c-4a2d-b0e1-7d9299a131be', 'type': 'tool_call'}]),\n",
       "  ToolMessage(content='Successfully transferred back to supervisor', name='transfer_back_to_supervisor', id='bf92d2e0-4609-427f-b400-c00eed379b31', tool_call_id='5291d5ce-4c8c-4a2d-b0e1-7d9299a131be'),\n",
       "  AIMessage(content='The combined headcount of the FAANG companies in 2024 is 1,977,586 employees.', additional_kwargs={'refusal': None}, response_metadata={'token_usage': {'completion_tokens': 24, 'prompt_tokens': 407, 'total_tokens': 431, 'completion_tokens_details': {'accepted_prediction_tokens': 0, 'audio_tokens': 0, 'reasoning_tokens': 0, 'rejected_prediction_tokens': 0}, 'prompt_tokens_details': {'audio_tokens': 0, 'cached_tokens': 0}}, 'model_name': 'gpt-4o-2024-08-06', 'system_fingerprint': 'fp_6dd05565ef', 'id': 'chatcmpl-BIhW61z3Y3aRZ6dHTN5BLDJTcK9JE', 'finish_reason': 'stop', 'logprobs': None}, name='supervisor', id='run-f31c9b5d-44fb-437a-afff-be4c9c552e4b-0', usage_metadata={'input_tokens': 407, 'output_tokens': 24, 'total_tokens': 431, 'input_token_details': {'audio': 0, 'cache_read': 0}, 'output_token_details': {'audio': 0, 'reasoning': 0}})]}"
      ]
     },
     "execution_count": 2,
     "metadata": {},
     "output_type": "execute_result"
    }
   ],
   "source": [
    "result"
   ]
  },
  {
   "cell_type": "code",
   "execution_count": 3,
   "metadata": {},
   "outputs": [
    {
     "data": {
      "image/png": "[encoded data removed]",
      "text/plain": [
       "<IPython.core.display.Image object>"
      ]
     },
     "metadata": {},
     "output_type": "display_data"
    }
   ],
   "source": [
    "from IPython.display import Image, display\n",
    "\n",
    "try:\n",
    "    display(Image(app.get_graph().draw_mermaid_png()))\n",
    "except Exception:\n",
    "    # This requires some extra dependencies and is optional\n",
    "    pass"
   ]
  },
  {
   "cell_type": "markdown",
   "metadata": {},
   "source": [
    "# <a id='toc2_'></a>[LangChain MCP Adapters](#toc0_)"
   ]
  },
  {
   "cell_type": "code",
   "execution_count": 9,
   "metadata": {},
   "outputs": [
    {
     "name": "stdout",
     "output_type": "stream",
     "text": [
      "Collecting langchain-mcp-adapters\n",
      "  Downloading langchain_mcp_adapters-0.0.7-py3-none-any.whl.metadata (5.6 kB)\n",
      "Requirement already satisfied: langchain-core<0.4,>=0.3.36 in /Users/nmlemus/miniforge3/envs/yomap/lib/python3.13/site-packages (from langchain-mcp-adapters) (0.3.51)\n",
      "Collecting mcp<1.7,>=1.4.1 (from langchain-mcp-adapters)\n",
      "  Downloading mcp-1.6.0-py3-none-any.whl.metadata (20 kB)\n",
      "Requirement already satisfied: langsmith<0.4,>=0.1.125 in /Users/nmlemus/miniforge3/envs/yomap/lib/python3.13/site-packages (from langchain-core<0.4,>=0.3.36->langchain-mcp-adapters) (0.3.24)\n",
      "Requirement already satisfied: tenacity!=8.4.0,<10.0.0,>=8.1.0 in /Users/nmlemus/miniforge3/envs/yomap/lib/python3.13/site-packages (from langchain-core<0.4,>=0.3.36->langchain-mcp-adapters) (9.1.2)\n",
      "Requirement already satisfied: jsonpatch<2.0,>=1.33 in /Users/nmlemus/miniforge3/envs/yomap/lib/python3.13/site-packages (from langchain-core<0.4,>=0.3.36->langchain-mcp-adapters) (1.33)\n",
      "Requirement already satisfied: PyYAML>=5.3 in /Users/nmlemus/miniforge3/envs/yomap/lib/python3.13/site-packages (from langchain-core<0.4,>=0.3.36->langchain-mcp-adapters) (6.0.2)\n",
      "Requirement already satisfied: packaging<25,>=23.2 in /Users/nmlemus/miniforge3/envs/yomap/lib/python3.13/site-packages (from langchain-core<0.4,>=0.3.36->langchain-mcp-adapters) (24.2)\n",
      "Requirement already satisfied: typing-extensions>=4.7 in /Users/nmlemus/miniforge3/envs/yomap/lib/python3.13/site-packages (from langchain-core<0.4,>=0.3.36->langchain-mcp-adapters) (4.13.1)\n",
      "Requirement already satisfied: pydantic<3.0.0,>=2.7.4 in /Users/nmlemus/miniforge3/envs/yomap/lib/python3.13/site-packages (from langchain-core<0.4,>=0.3.36->langchain-mcp-adapters) (2.11.2)\n",
      "Requirement already satisfied: anyio>=4.5 in /Users/nmlemus/miniforge3/envs/yomap/lib/python3.13/site-packages (from mcp<1.7,>=1.4.1->langchain-mcp-adapters) (4.9.0)\n",
      "Requirement already satisfied: httpx-sse>=0.4 in /Users/nmlemus/miniforge3/envs/yomap/lib/python3.13/site-packages (from mcp<1.7,>=1.4.1->langchain-mcp-adapters) (0.4.0)\n",
      "Requirement already satisfied: httpx>=0.27 in /Users/nmlemus/miniforge3/envs/yomap/lib/python3.13/site-packages (from mcp<1.7,>=1.4.1->langchain-mcp-adapters) (0.28.1)\n",
      "Requirement already satisfied: pydantic-settings>=2.5.2 in /Users/nmlemus/miniforge3/envs/yomap/lib/python3.13/site-packages (from mcp<1.7,>=1.4.1->langchain-mcp-adapters) (2.8.1)\n",
      "Requirement already satisfied: sse-starlette>=1.6.1 in /Users/nmlemus/miniforge3/envs/yomap/lib/python3.13/site-packages (from mcp<1.7,>=1.4.1->langchain-mcp-adapters) (2.1.3)\n",
      "Requirement already satisfied: starlette>=0.27 in /Users/nmlemus/miniforge3/envs/yomap/lib/python3.13/site-packages (from mcp<1.7,>=1.4.1->langchain-mcp-adapters) (0.46.1)\n",
      "Requirement already satisfied: uvicorn>=0.23.1 in /Users/nmlemus/miniforge3/envs/yomap/lib/python3.13/site-packages (from mcp<1.7,>=1.4.1->langchain-mcp-adapters) (0.34.0)\n",
      "Requirement already satisfied: idna>=2.8 in /Users/nmlemus/miniforge3/envs/yomap/lib/python3.13/site-packages (from anyio>=4.5->mcp<1.7,>=1.4.1->langchain-mcp-adapters) (3.10)\n",
      "Requirement already satisfied: sniffio>=1.1 in /Users/nmlemus/miniforge3/envs/yomap/lib/python3.13/site-packages (from anyio>=4.5->mcp<1.7,>=1.4.1->langchain-mcp-adapters) (1.3.1)\n",
      "Requirement already satisfied: certifi in /Users/nmlemus/miniforge3/envs/yomap/lib/python3.13/site-packages (from httpx>=0.27->mcp<1.7,>=1.4.1->langchain-mcp-adapters) (2025.1.31)\n",
      "Requirement already satisfied: httpcore==1.* in /Users/nmlemus/miniforge3/envs/yomap/lib/python3.13/site-packages (from httpx>=0.27->mcp<1.7,>=1.4.1->langchain-mcp-adapters) (1.0.7)\n",
      "Requirement already satisfied: h11<0.15,>=0.13 in /Users/nmlemus/miniforge3/envs/yomap/lib/python3.13/site-packages (from httpcore==1.*->httpx>=0.27->mcp<1.7,>=1.4.1->langchain-mcp-adapters) (0.14.0)\n",
      "Requirement already satisfied: jsonpointer>=1.9 in /Users/nmlemus/miniforge3/envs/yomap/lib/python3.13/site-packages (from jsonpatch<2.0,>=1.33->langchain-core<0.4,>=0.3.36->langchain-mcp-adapters) (3.0.0)\n",
      "Requirement already satisfied: orjson<4.0.0,>=3.9.14 in /Users/nmlemus/miniforge3/envs/yomap/lib/python3.13/site-packages (from langsmith<0.4,>=0.1.125->langchain-core<0.4,>=0.3.36->langchain-mcp-adapters) (3.10.16)\n",
      "Requirement already satisfied: requests<3,>=2 in /Users/nmlemus/miniforge3/envs/yomap/lib/python3.13/site-packages (from langsmith<0.4,>=0.1.125->langchain-core<0.4,>=0.3.36->langchain-mcp-adapters) (2.32.3)\n",
      "Requirement already satisfied: requests-toolbelt<2.0.0,>=1.0.0 in /Users/nmlemus/miniforge3/envs/yomap/lib/python3.13/site-packages (from langsmith<0.4,>=0.1.125->langchain-core<0.4,>=0.3.36->langchain-mcp-adapters) (1.0.0)\n",
      "Requirement already satisfied: zstandard<0.24.0,>=0.23.0 in /Users/nmlemus/miniforge3/envs/yomap/lib/python3.13/site-packages (from langsmith<0.4,>=0.1.125->langchain-core<0.4,>=0.3.36->langchain-mcp-adapters) (0.23.0)\n",
      "Requirement already satisfied: annotated-types>=0.6.0 in /Users/nmlemus/miniforge3/envs/yomap/lib/python3.13/site-packages (from pydantic<3.0.0,>=2.7.4->langchain-core<0.4,>=0.3.36->langchain-mcp-adapters) (0.7.0)\n",
      "Requirement already satisfied: pydantic-core==2.33.1 in /Users/nmlemus/miniforge3/envs/yomap/lib/python3.13/site-packages (from pydantic<3.0.0,>=2.7.4->langchain-core<0.4,>=0.3.36->langchain-mcp-adapters) (2.33.1)\n",
      "Requirement already satisfied: typing-inspection>=0.4.0 in /Users/nmlemus/miniforge3/envs/yomap/lib/python3.13/site-packages (from pydantic<3.0.0,>=2.7.4->langchain-core<0.4,>=0.3.36->langchain-mcp-adapters) (0.4.0)\n",
      "Requirement already satisfied: python-dotenv>=0.21.0 in /Users/nmlemus/miniforge3/envs/yomap/lib/python3.13/site-packages (from pydantic-settings>=2.5.2->mcp<1.7,>=1.4.1->langchain-mcp-adapters) (1.1.0)\n",
      "Requirement already satisfied: click>=7.0 in /Users/nmlemus/miniforge3/envs/yomap/lib/python3.13/site-packages (from uvicorn>=0.23.1->mcp<1.7,>=1.4.1->langchain-mcp-adapters) (8.1.8)\n",
      "Requirement already satisfied: charset-normalizer<4,>=2 in /Users/nmlemus/miniforge3/envs/yomap/lib/python3.13/site-packages (from requests<3,>=2->langsmith<0.4,>=0.1.125->langchain-core<0.4,>=0.3.36->langchain-mcp-adapters) (3.4.1)\n",
      "Requirement already satisfied: urllib3<3,>=1.21.1 in /Users/nmlemus/miniforge3/envs/yomap/lib/python3.13/site-packages (from requests<3,>=2->langsmith<0.4,>=0.1.125->langchain-core<0.4,>=0.3.36->langchain-mcp-adapters) (2.3.0)\n",
      "Downloading langchain_mcp_adapters-0.0.7-py3-none-any.whl (8.6 kB)\n",
      "Downloading mcp-1.6.0-py3-none-any.whl (76 kB)\n",
      "Installing collected packages: mcp, langchain-mcp-adapters\n",
      "Successfully installed langchain-mcp-adapters-0.0.7 mcp-1.6.0\n"
     ]
    }
   ],
   "source": [
    "!pip install langchain-mcp-adapters"
   ]
  },
  {
   "cell_type": "markdown",
   "metadata": {},
   "source": [
    "## <a id='toc2_1_'></a>[Server](#toc0_)\n",
    "First, let's create an MCP server that can add and multiply numbers.\n",
    "\n",
    "```python\n",
    "# math_server.py\n",
    "from mcp.server.fastmcp import FastMCP\n",
    "\n",
    "mcp = FastMCP(\"Math\")\n",
    "\n",
    "@mcp.tool()\n",
    "def add(a: int, b: int) -> int:\n",
    "    \"\"\"Add two numbers\"\"\"\n",
    "    return a + b\n",
    "\n",
    "@mcp.tool()\n",
    "def multiply(a: int, b: int) -> int:\n",
    "    \"\"\"Multiply two numbers\"\"\"\n",
    "    return a * b\n",
    "\n",
    "if __name__ == \"__main__\":\n",
    "    mcp.run(transport=\"stdio\")\n",
    "```"
   ]
  },
  {
   "cell_type": "code",
   "execution_count": 27,
   "metadata": {},
   "outputs": [],
   "source": [
    "# Create server parameters for stdio connection\n",
    "from mcp import ClientSession, StdioServerParameters\n",
    "from mcp.client.stdio import stdio_client\n",
    "\n",
    "from langchain_mcp_adapters.tools import load_mcp_tools\n",
    "from langgraph.prebuilt import create_react_agent\n",
    "\n",
    "from langchain_openai import ChatOpenAI\n",
    "model = ChatOpenAI(model=\"gpt-4o\")\n",
    "\n",
    "server_params = StdioServerParameters(\n",
    "    command=\"python\",\n",
    "    # Make sure to update to the full absolute path to your math_server.py file\n",
    "    args=[\"math_server.py\"],\n",
    ")\n",
    "\n",
    "async with stdio_client(server_params) as (read, write):\n",
    "    async with ClientSession(read, write) as session:\n",
    "        # Initialize the connection\n",
    "        await session.initialize()\n",
    "\n",
    "        # Get tools\n",
    "        tools = await load_mcp_tools(session)\n",
    "\n",
    "        # Create and run the agent\n",
    "        agent = create_react_agent(model, tools)\n",
    "        agent_response = await agent.ainvoke({\"messages\": \"what's (3 + 10) x 12?\"})"
   ]
  },
  {
   "cell_type": "code",
   "execution_count": 28,
   "metadata": {},
   "outputs": [
    {
     "data": {
      "text/plain": [
       "{'messages': [HumanMessage(content=\"what's (3 + 10) x 12?\", additional_kwargs={}, response_metadata={}, id='a888a30c-6d4d-47dc-86db-a45e770bf857'),\n",
       "  AIMessage(content='', additional_kwargs={'tool_calls': [{'id': 'call_4LsD5w5shnktu7ekZO41lyHT', 'function': {'arguments': '{\"a\": 3, \"b\": 10}', 'name': 'add'}, 'type': 'function'}, {'id': 'call_22ZMbcNjgoxn63rUFDpYd6Wk', 'function': {'arguments': '{\"a\": 13, \"b\": 12}', 'name': 'multiply'}, 'type': 'function'}], 'refusal': None}, response_metadata={'token_usage': {'completion_tokens': 51, 'prompt_tokens': 77, 'total_tokens': 128, 'completion_tokens_details': {'accepted_prediction_tokens': 0, 'audio_tokens': 0, 'reasoning_tokens': 0, 'rejected_prediction_tokens': 0}, 'prompt_tokens_details': {'audio_tokens': 0, 'cached_tokens': 0}}, 'model_name': 'gpt-4o-2024-08-06', 'system_fingerprint': 'fp_898ac29719', 'id': 'chatcmpl-BIkVvkCpoI4e9MpyEzPEd2WlhhZ3b', 'finish_reason': 'tool_calls', 'logprobs': None}, id='run-d8c06b7c-267b-4c2d-9fd8-935dcfbf32ec-0', tool_calls=[{'name': 'add', 'args': {'a': 3, 'b': 10}, 'id': 'call_4LsD5w5shnktu7ekZO41lyHT', 'type': 'tool_call'}, {'name': 'multiply', 'args': {'a': 13, 'b': 12}, 'id': 'call_22ZMbcNjgoxn63rUFDpYd6Wk', 'type': 'tool_call'}], usage_metadata={'input_tokens': 77, 'output_tokens': 51, 'total_tokens': 128, 'input_token_details': {'audio': 0, 'cache_read': 0}, 'output_token_details': {'audio': 0, 'reasoning': 0}}),\n",
       "  ToolMessage(content='13', name='add', id='4689d844-a827-4bdd-be49-c95ffbace488', tool_call_id='call_4LsD5w5shnktu7ekZO41lyHT'),\n",
       "  ToolMessage(content='156', name='multiply', id='f6778cc1-3a9a-4e6d-9d66-a9e7dc05c70f', tool_call_id='call_22ZMbcNjgoxn63rUFDpYd6Wk'),\n",
       "  AIMessage(content='The result of \\\\((3 + 10) \\\\times 12\\\\) is 156.', additional_kwargs={'refusal': None}, response_metadata={'token_usage': {'completion_tokens': 22, 'prompt_tokens': 143, 'total_tokens': 165, 'completion_tokens_details': {'accepted_prediction_tokens': 0, 'audio_tokens': 0, 'reasoning_tokens': 0, 'rejected_prediction_tokens': 0}, 'prompt_tokens_details': {'audio_tokens': 0, 'cached_tokens': 0}}, 'model_name': 'gpt-4o-2024-08-06', 'system_fingerprint': 'fp_898ac29719', 'id': 'chatcmpl-BIkVwg5l8wnoowOx6J2knk1yhdIm8', 'finish_reason': 'stop', 'logprobs': None}, id='run-a5dbb179-7ed3-4381-a7e4-d21d91746433-0', usage_metadata={'input_tokens': 143, 'output_tokens': 22, 'total_tokens': 165, 'input_token_details': {'audio': 0, 'cache_read': 0}, 'output_token_details': {'audio': 0, 'reasoning': 0}})]}"
      ]
     },
     "execution_count": 28,
     "metadata": {},
     "output_type": "execute_result"
    }
   ],
   "source": [
    "agent_response"
   ]
  },
  {
   "cell_type": "code",
   "execution_count": null,
   "metadata": {},
   "outputs": [],
   "source": []
  },
  {
   "cell_type": "code",
   "execution_count": 29,
   "metadata": {},
   "outputs": [],
   "source": [
    "from langchain_mcp_adapters.client import MultiServerMCPClient\n",
    "from langgraph.prebuilt import create_react_agent\n",
    "\n",
    "from langchain_openai import ChatOpenAI\n",
    "model = ChatOpenAI(model=\"gpt-4o\")\n",
    "\n",
    "async with MultiServerMCPClient(\n",
    "    {\n",
    "        \"math\": {\n",
    "            \"command\": \"python\",\n",
    "            # Make sure to update to the full absolute path to your math_server.py file\n",
    "            \"args\": [\"math_server.py\"],\n",
    "            \"transport\": \"stdio\",\n",
    "        },\n",
    "        \"weather\": {\n",
    "            # make sure you start your weather server on port 8000\n",
    "            \"url\": \"http://localhost:8000/sse\",\n",
    "            \"transport\": \"sse\",\n",
    "        }\n",
    "    }\n",
    ") as client:\n",
    "    agent = create_react_agent(model, client.get_tools())\n",
    "    math_response = await agent.ainvoke({\"messages\": \"what's (3 + 5) x 12?\"})\n",
    "    weather_response = await agent.ainvoke({\"messages\": \"what is the weather in nyc?\"})"
   ]
  },
  {
   "cell_type": "code",
   "execution_count": 30,
   "metadata": {},
   "outputs": [
    {
     "data": {
      "text/plain": [
       "{'messages': [HumanMessage(content=\"what's (3 + 5) x 12?\", additional_kwargs={}, response_metadata={}, id='e527619f-76df-4549-882f-df2231758603'),\n",
       "  AIMessage(content='', additional_kwargs={'tool_calls': [{'id': 'call_JIdbJaVyQNoeitnoHkMeppiT', 'function': {'arguments': '{\"a\": 3, \"b\": 5}', 'name': 'add'}, 'type': 'function'}, {'id': 'call_g0mdsXnom9bZUdG9CLbcl0iR', 'function': {'arguments': '{\"a\": 8, \"b\": 12}', 'name': 'multiply'}, 'type': 'function'}], 'refusal': None}, response_metadata={'token_usage': {'completion_tokens': 51, 'prompt_tokens': 96, 'total_tokens': 147, 'completion_tokens_details': {'accepted_prediction_tokens': 0, 'audio_tokens': 0, 'reasoning_tokens': 0, 'rejected_prediction_tokens': 0}, 'prompt_tokens_details': {'audio_tokens': 0, 'cached_tokens': 0}}, 'model_name': 'gpt-4o-2024-08-06', 'system_fingerprint': 'fp_898ac29719', 'id': 'chatcmpl-BIkWUdK1oJdpHDxgs1Okl2TRtzidI', 'finish_reason': 'tool_calls', 'logprobs': None}, id='run-cf4f1b3c-859b-410f-bf47-6f9ef81cb949-0', tool_calls=[{'name': 'add', 'args': {'a': 3, 'b': 5}, 'id': 'call_JIdbJaVyQNoeitnoHkMeppiT', 'type': 'tool_call'}, {'name': 'multiply', 'args': {'a': 8, 'b': 12}, 'id': 'call_g0mdsXnom9bZUdG9CLbcl0iR', 'type': 'tool_call'}], usage_metadata={'input_tokens': 96, 'output_tokens': 51, 'total_tokens': 147, 'input_token_details': {'audio': 0, 'cache_read': 0}, 'output_token_details': {'audio': 0, 'reasoning': 0}}),\n",
       "  ToolMessage(content='8', name='add', id='b00aebc1-19b0-44fe-a1e0-9f04e1bc6d6f', tool_call_id='call_JIdbJaVyQNoeitnoHkMeppiT'),\n",
       "  ToolMessage(content='96', name='multiply', id='ef2bb360-f00f-4171-976d-c4eb26590d70', tool_call_id='call_g0mdsXnom9bZUdG9CLbcl0iR'),\n",
       "  AIMessage(content='The result of (3 + 5) x 12 is 96.', additional_kwargs={'refusal': None}, response_metadata={'token_usage': {'completion_tokens': 18, 'prompt_tokens': 162, 'total_tokens': 180, 'completion_tokens_details': {'accepted_prediction_tokens': 0, 'audio_tokens': 0, 'reasoning_tokens': 0, 'rejected_prediction_tokens': 0}, 'prompt_tokens_details': {'audio_tokens': 0, 'cached_tokens': 0}}, 'model_name': 'gpt-4o-2024-08-06', 'system_fingerprint': 'fp_898ac29719', 'id': 'chatcmpl-BIkWVYUUROQ4oYZSZME9K6ulFwO62', 'finish_reason': 'stop', 'logprobs': None}, id='run-edb7f76a-29f3-4a76-a149-def95e35db72-0', usage_metadata={'input_tokens': 162, 'output_tokens': 18, 'total_tokens': 180, 'input_token_details': {'audio': 0, 'cache_read': 0}, 'output_token_details': {'audio': 0, 'reasoning': 0}})]}"
      ]
     },
     "execution_count": 30,
     "metadata": {},
     "output_type": "execute_result"
    }
   ],
   "source": [
    "math_response"
   ]
  },
  {
   "cell_type": "code",
   "execution_count": 31,
   "metadata": {},
   "outputs": [
    {
     "data": {
      "text/plain": [
       "{'messages': [HumanMessage(content='what is the weather in nyc?', additional_kwargs={}, response_metadata={}, id='b51c33a2-62fe-44e2-9acf-3a3c037c66dd'),\n",
       "  AIMessage(content='', additional_kwargs={'tool_calls': [{'id': 'call_D55ccXnDDS6wMdjJ6iRwLJqr', 'function': {'arguments': '{\"location\":\"new york city\"}', 'name': 'get_weather'}, 'type': 'function'}], 'refusal': None}, response_metadata={'token_usage': {'completion_tokens': 17, 'prompt_tokens': 92, 'total_tokens': 109, 'completion_tokens_details': {'accepted_prediction_tokens': 0, 'audio_tokens': 0, 'reasoning_tokens': 0, 'rejected_prediction_tokens': 0}, 'prompt_tokens_details': {'audio_tokens': 0, 'cached_tokens': 0}}, 'model_name': 'gpt-4o-2024-08-06', 'system_fingerprint': 'fp_898ac29719', 'id': 'chatcmpl-BIkWWxiGTi9mafElKKolFmpIGdupg', 'finish_reason': 'tool_calls', 'logprobs': None}, id='run-4339a18f-bfb4-4b54-9b47-ce7cd14dc77a-0', tool_calls=[{'name': 'get_weather', 'args': {'location': 'new york city'}, 'id': 'call_D55ccXnDDS6wMdjJ6iRwLJqr', 'type': 'tool_call'}], usage_metadata={'input_tokens': 92, 'output_tokens': 17, 'total_tokens': 109, 'input_token_details': {'audio': 0, 'cache_read': 0}, 'output_token_details': {'audio': 0, 'reasoning': 0}}),\n",
       "  ToolMessage(content=\"It's always sunny in New York\", name='get_weather', id='97ed8f01-e012-4561-8c83-f5aff325e733', tool_call_id='call_D55ccXnDDS6wMdjJ6iRwLJqr'),\n",
       "  AIMessage(content='The weather in New York City is always sunny.', additional_kwargs={'refusal': None}, response_metadata={'token_usage': {'completion_tokens': 12, 'prompt_tokens': 122, 'total_tokens': 134, 'completion_tokens_details': {'accepted_prediction_tokens': 0, 'audio_tokens': 0, 'reasoning_tokens': 0, 'rejected_prediction_tokens': 0}, 'prompt_tokens_details': {'audio_tokens': 0, 'cached_tokens': 0}}, 'model_name': 'gpt-4o-2024-08-06', 'system_fingerprint': 'fp_898ac29719', 'id': 'chatcmpl-BIkWWND4yW1PsV28b8OA79UuWxDRV', 'finish_reason': 'stop', 'logprobs': None}, id='run-2e217328-dce2-495a-ba86-47ff5e4fea6f-0', usage_metadata={'input_tokens': 122, 'output_tokens': 12, 'total_tokens': 134, 'input_token_details': {'audio': 0, 'cache_read': 0}, 'output_token_details': {'audio': 0, 'reasoning': 0}})]}"
      ]
     },
     "execution_count": 31,
     "metadata": {},
     "output_type": "execute_result"
    }
   ],
   "source": [
    "weather_response"
   ]
  },
  {
   "cell_type": "markdown",
   "metadata": {},
   "source": [
    "# <a id='toc3_'></a>[Connect to WhatsApp](#toc0_)"
   ]
  },
  {
   "cell_type": "code",
   "execution_count": 1,
   "metadata": {},
   "outputs": [
    {
     "name": "stdout",
     "output_type": "stream",
     "text": [
      "[StructuredTool(name='search_contacts', description='Search WhatsApp contacts by name or phone number.\\n    \\n    Args:\\n        query: Search term to match against contact names or phone numbers\\n    ', args_schema={'properties': {'query': {'title': 'Query', 'type': 'string'}}, 'required': ['query'], 'title': 'search_contactsArguments', 'type': 'object'}, response_format='content_and_artifact', coroutine=<function convert_mcp_tool_to_langchain_tool.<locals>.call_tool at 0x10e4487c0>), StructuredTool(name='list_chats', description='Get WhatsApp chats matching specified criteria.\\n    \\n    Args:\\n        query: Optional search term to filter chats by name or JID\\n        limit: Maximum number of chats to return (default 20)\\n        page: Page number for pagination (default 0)\\n        include_last_message: Whether to include the last message in each chat (default True)\\n        sort_by: Field to sort results by, either \"last_active\" or \"name\" (default \"last_active\")\\n    ', args_schema={'properties': {'query': {'anyOf': [{'type': 'string'}, {'type': 'null'}], 'default': None, 'title': 'Query'}, 'limit': {'default': 20, 'title': 'Limit', 'type': 'integer'}, 'page': {'default': 0, 'title': 'Page', 'type': 'integer'}, 'include_last_message': {'default': True, 'title': 'Include Last Message', 'type': 'boolean'}, 'sort_by': {'default': 'last_active', 'title': 'Sort By', 'type': 'string'}}, 'title': 'list_chatsArguments', 'type': 'object'}, response_format='content_and_artifact', coroutine=<function convert_mcp_tool_to_langchain_tool.<locals>.call_tool at 0x10e448900>), StructuredTool(name='get_chat', description='Get WhatsApp chat metadata by JID.\\n    \\n    Args:\\n        chat_jid: The JID of the chat to retrieve\\n        include_last_message: Whether to include the last message (default True)\\n    ', args_schema={'properties': {'chat_jid': {'title': 'Chat Jid', 'type': 'string'}, 'include_last_message': {'default': True, 'title': 'Include Last Message', 'type': 'boolean'}}, 'required': ['chat_jid'], 'title': 'get_chatArguments', 'type': 'object'}, response_format='content_and_artifact', coroutine=<function convert_mcp_tool_to_langchain_tool.<locals>.call_tool at 0x10e4489a0>), StructuredTool(name='get_direct_chat_by_contact', description='Get WhatsApp chat metadata by sender phone number.\\n    \\n    Args:\\n        sender_phone_number: The phone number to search for\\n    ', args_schema={'properties': {'sender_phone_number': {'title': 'Sender Phone Number', 'type': 'string'}}, 'required': ['sender_phone_number'], 'title': 'get_direct_chat_by_contactArguments', 'type': 'object'}, response_format='content_and_artifact', coroutine=<function convert_mcp_tool_to_langchain_tool.<locals>.call_tool at 0x10e448a40>), StructuredTool(name='get_contact_chats', description=\"Get all WhatsApp chats involving the contact.\\n    \\n    Args:\\n        jid: The contact's JID to search for\\n        limit: Maximum number of chats to return (default 20)\\n        page: Page number for pagination (default 0)\\n    \", args_schema={'properties': {'jid': {'title': 'Jid', 'type': 'string'}, 'limit': {'default': 20, 'title': 'Limit', 'type': 'integer'}, 'page': {'default': 0, 'title': 'Page', 'type': 'integer'}}, 'required': ['jid'], 'title': 'get_contact_chatsArguments', 'type': 'object'}, response_format='content_and_artifact', coroutine=<function convert_mcp_tool_to_langchain_tool.<locals>.call_tool at 0x10e448ae0>), StructuredTool(name='get_last_interaction', description='Get most recent WhatsApp message involving the contact.\\n    \\n    Args:\\n        jid: The JID of the contact to search for\\n    ', args_schema={'properties': {'jid': {'title': 'Jid', 'type': 'string'}}, 'required': ['jid'], 'title': 'get_last_interactionArguments', 'type': 'object'}, response_format='content_and_artifact', coroutine=<function convert_mcp_tool_to_langchain_tool.<locals>.call_tool at 0x10e448b80>), StructuredTool(name='get_message_context', description='Get context around a specific WhatsApp message.\\n    \\n    Args:\\n        message_id: The ID of the message to get context for\\n        before: Number of messages to include before the target message (default 5)\\n        after: Number of messages to include after the target message (default 5)\\n    ', args_schema={'properties': {'message_id': {'title': 'Message Id', 'type': 'string'}, 'before': {'default': 5, 'title': 'Before', 'type': 'integer'}, 'after': {'default': 5, 'title': 'After', 'type': 'integer'}}, 'required': ['message_id'], 'title': 'get_message_contextArguments', 'type': 'object'}, response_format='content_and_artifact', coroutine=<function convert_mcp_tool_to_langchain_tool.<locals>.call_tool at 0x10e448c20>), StructuredTool(name='send_message', description='Send a WhatsApp message to a person or group. For group chats use the JID.\\n\\n    Args:\\n        recipient: The recipient - either a phone number with country code but no + or other symbols,\\n                 or a JID (e.g., \"123456789@s.whatsapp.net\" or a group JID like \"123456789@g.us\")\\n        message: The message text to send\\n    \\n    Returns:\\n        A dictionary containing success status and a status message\\n    ', args_schema={'properties': {'recipient': {'title': 'Recipient', 'type': 'string'}, 'message': {'title': 'Message', 'type': 'string'}}, 'required': ['recipient', 'message'], 'title': 'send_messageArguments', 'type': 'object'}, response_format='content_and_artifact', coroutine=<function convert_mcp_tool_to_langchain_tool.<locals>.call_tool at 0x10e448cc0>), StructuredTool(name='read_notes', description=\"Read the contents of multiple notes. Each note's content is returned with its path as a reference. Failed reads for individual notes won't stop the entire operation. Reading too many at once may result in an error.\", args_schema={'type': 'object', 'properties': {'paths': {'type': 'array', 'items': {'type': 'string'}}}, 'required': ['paths'], 'additionalProperties': False, '$schema': 'http://json-schema.org/draft-07/schema#'}, response_format='content_and_artifact', coroutine=<function convert_mcp_tool_to_langchain_tool.<locals>.call_tool at 0x10e4498a0>), StructuredTool(name='search_notes', description='Searches for a note by its name. The search is case-insensitive and matches partial names. Queries can also be a valid regex. Returns paths of the notes that match the query.', args_schema={'type': 'object', 'properties': {'query': {'type': 'string'}}, 'required': ['query'], 'additionalProperties': False, '$schema': 'http://json-schema.org/draft-07/schema#'}, response_format='content_and_artifact', coroutine=<function convert_mcp_tool_to_langchain_tool.<locals>.call_tool at 0x10e4499e0>), StructuredTool(name='create-container', description='Create a new standalone Docker container', args_schema={'type': 'object', 'properties': {'image': {'type': 'string'}, 'name': {'type': 'string'}, 'ports': {'type': 'object', 'additionalProperties': {'type': 'string'}}, 'environment': {'type': 'object', 'additionalProperties': {'type': 'string'}}}, 'required': ['image']}, response_format='content_and_artifact', coroutine=<function convert_mcp_tool_to_langchain_tool.<locals>.call_tool at 0x10e44a2a0>), StructuredTool(name='deploy-compose', description='Deploy a Docker Compose stack', args_schema={'type': 'object', 'properties': {'compose_yaml': {'type': 'string'}, 'project_name': {'type': 'string'}}, 'required': ['compose_yaml', 'project_name']}, response_format='content_and_artifact', coroutine=<function convert_mcp_tool_to_langchain_tool.<locals>.call_tool at 0x10e44a200>), StructuredTool(name='get-logs', description='Retrieve the latest logs for a specified Docker container', args_schema={'type': 'object', 'properties': {'container_name': {'type': 'string'}}, 'required': ['container_name']}, response_format='content_and_artifact', coroutine=<function convert_mcp_tool_to_langchain_tool.<locals>.call_tool at 0x10e44a8e0>), StructuredTool(name='list-containers', description='List all Docker containers', args_schema={'type': 'object', 'properties': {}}, response_format='content_and_artifact', coroutine=<function convert_mcp_tool_to_langchain_tool.<locals>.call_tool at 0x10e44a980>)]\n"
     ]
    },
    {
     "ename": "CancelledError",
     "evalue": "",
     "output_type": "error",
     "traceback": [
      "\u001b[0;31m---------------------------------------------------------------------------\u001b[0m",
      "\u001b[0;31mCancelledError\u001b[0m                            Traceback (most recent call last)",
      "Cell \u001b[0;32mIn[1], line 8\u001b[0m\n\u001b[1;32m      4\u001b[0m \u001b[38;5;28;01mfrom\u001b[39;00m \u001b[38;5;21;01mlangchain_openai\u001b[39;00m \u001b[38;5;28;01mimport\u001b[39;00m ChatOpenAI\n\u001b[1;32m      6\u001b[0m model \u001b[38;5;241m=\u001b[39m ChatOpenAI(model\u001b[38;5;241m=\u001b[39m\u001b[38;5;124m\"\u001b[39m\u001b[38;5;124mgpt-4o\u001b[39m\u001b[38;5;124m\"\u001b[39m)\n\u001b[0;32m----> 8\u001b[0m \u001b[38;5;28;01masync\u001b[39;00m \u001b[38;5;28;01mwith\u001b[39;00m MultiServerMCPClient(\n\u001b[1;32m      9\u001b[0m     {\n\u001b[1;32m     10\u001b[0m         \u001b[38;5;124m\"\u001b[39m\u001b[38;5;124mwhatsapp\u001b[39m\u001b[38;5;124m\"\u001b[39m: {\n\u001b[1;32m     11\u001b[0m             \u001b[38;5;124m\"\u001b[39m\u001b[38;5;124mcommand\u001b[39m\u001b[38;5;124m\"\u001b[39m: \u001b[38;5;124m\"\u001b[39m\u001b[38;5;124m/Users/nmlemus/.local/bin/uv\u001b[39m\u001b[38;5;124m\"\u001b[39m,\n\u001b[1;32m     12\u001b[0m             \u001b[38;5;124m\"\u001b[39m\u001b[38;5;124margs\u001b[39m\u001b[38;5;124m\"\u001b[39m: [\n\u001b[1;32m     13\u001b[0m                 \u001b[38;5;124m\"\u001b[39m\u001b[38;5;124m--directory\u001b[39m\u001b[38;5;124m\"\u001b[39m,\n\u001b[1;32m     14\u001b[0m                 \u001b[38;5;124m\"\u001b[39m\u001b[38;5;124m/Users/nmlemus/projects/mcp/whatsapp-mcp/whatsapp-mcp-server\u001b[39m\u001b[38;5;124m\"\u001b[39m,\n\u001b[1;32m     15\u001b[0m                 \u001b[38;5;124m\"\u001b[39m\u001b[38;5;124mrun\u001b[39m\u001b[38;5;124m\"\u001b[39m,\n\u001b[1;32m     16\u001b[0m                 \u001b[38;5;124m\"\u001b[39m\u001b[38;5;124mmain.py\u001b[39m\u001b[38;5;124m\"\u001b[39m,\n\u001b[1;32m     17\u001b[0m             ],\n\u001b[1;32m     18\u001b[0m             \u001b[38;5;124m\"\u001b[39m\u001b[38;5;124mtransport\u001b[39m\u001b[38;5;124m\"\u001b[39m: \u001b[38;5;124m\"\u001b[39m\u001b[38;5;124mstdio\u001b[39m\u001b[38;5;124m\"\u001b[39m,\n\u001b[1;32m     19\u001b[0m         },\n\u001b[1;32m     20\u001b[0m         \u001b[38;5;124m\"\u001b[39m\u001b[38;5;124mmcp-obsidian\u001b[39m\u001b[38;5;124m\"\u001b[39m: {\n\u001b[1;32m     21\u001b[0m             \u001b[38;5;124m\"\u001b[39m\u001b[38;5;124mcommand\u001b[39m\u001b[38;5;124m\"\u001b[39m: \u001b[38;5;124m\"\u001b[39m\u001b[38;5;124mnpx\u001b[39m\u001b[38;5;124m\"\u001b[39m,\n\u001b[1;32m     22\u001b[0m             \u001b[38;5;124m\"\u001b[39m\u001b[38;5;124margs\u001b[39m\u001b[38;5;124m\"\u001b[39m: [\n\u001b[1;32m     23\u001b[0m                 \u001b[38;5;124m\"\u001b[39m\u001b[38;5;124m-y\u001b[39m\u001b[38;5;124m\"\u001b[39m,\n\u001b[1;32m     24\u001b[0m                 \u001b[38;5;124m\"\u001b[39m\u001b[38;5;124m@smithery/cli@latest\u001b[39m\u001b[38;5;124m\"\u001b[39m,\n\u001b[1;32m     25\u001b[0m                 \u001b[38;5;124m\"\u001b[39m\u001b[38;5;124mrun\u001b[39m\u001b[38;5;124m\"\u001b[39m,\n\u001b[1;32m     26\u001b[0m                 \u001b[38;5;124m\"\u001b[39m\u001b[38;5;124mmcp-obsidian\u001b[39m\u001b[38;5;124m\"\u001b[39m,\n\u001b[1;32m     27\u001b[0m                 \u001b[38;5;124m\"\u001b[39m\u001b[38;5;124m--config\u001b[39m\u001b[38;5;124m\"\u001b[39m,\n\u001b[1;32m     28\u001b[0m                 \u001b[38;5;124m'\u001b[39m\u001b[38;5;124m\"\u001b[39m\u001b[38;5;124m{\u001b[39m\u001b[38;5;130;01m\\\\\u001b[39;00m\u001b[38;5;124m\"\u001b[39m\u001b[38;5;124mvaultPath\u001b[39m\u001b[38;5;130;01m\\\\\u001b[39;00m\u001b[38;5;124m\"\u001b[39m\u001b[38;5;124m:\u001b[39m\u001b[38;5;130;01m\\\\\u001b[39;00m\u001b[38;5;124m\"\u001b[39m\u001b[38;5;124m/Users/nmlemus/projects/notes\u001b[39m\u001b[38;5;130;01m\\\\\u001b[39;00m\u001b[38;5;124m\"\u001b[39m\u001b[38;5;124m}\u001b[39m\u001b[38;5;124m\"\u001b[39m\u001b[38;5;124m'\u001b[39m,\n\u001b[1;32m     29\u001b[0m             ],\n\u001b[1;32m     30\u001b[0m         },\n\u001b[1;32m     31\u001b[0m         \u001b[38;5;124m\"\u001b[39m\u001b[38;5;124mdocker-mcp\u001b[39m\u001b[38;5;124m\"\u001b[39m: {\n\u001b[1;32m     32\u001b[0m             \u001b[38;5;124m\"\u001b[39m\u001b[38;5;124mcommand\u001b[39m\u001b[38;5;124m\"\u001b[39m: \u001b[38;5;124m\"\u001b[39m\u001b[38;5;124mnpx\u001b[39m\u001b[38;5;124m\"\u001b[39m,\n\u001b[1;32m     33\u001b[0m             \u001b[38;5;124m\"\u001b[39m\u001b[38;5;124margs\u001b[39m\u001b[38;5;124m\"\u001b[39m: [\u001b[38;5;124m\"\u001b[39m\u001b[38;5;124m-y\u001b[39m\u001b[38;5;124m\"\u001b[39m, \u001b[38;5;124m\"\u001b[39m\u001b[38;5;124m@smithery/cli@latest\u001b[39m\u001b[38;5;124m\"\u001b[39m, \u001b[38;5;124m\"\u001b[39m\u001b[38;5;124mrun\u001b[39m\u001b[38;5;124m\"\u001b[39m, \u001b[38;5;124m\"\u001b[39m\u001b[38;5;124mdocker-mcp\u001b[39m\u001b[38;5;124m\"\u001b[39m],\n\u001b[1;32m     34\u001b[0m         },\n\u001b[1;32m     35\u001b[0m     }\n\u001b[1;32m     36\u001b[0m ) \u001b[38;5;28;01mas\u001b[39;00m client:\n\u001b[1;32m     37\u001b[0m     agent \u001b[38;5;241m=\u001b[39m create_react_agent(model, client\u001b[38;5;241m.\u001b[39mget_tools())\n\u001b[1;32m     38\u001b[0m     \u001b[38;5;28mprint\u001b[39m(client\u001b[38;5;241m.\u001b[39mget_tools())\n",
      "File \u001b[0;32m~/miniforge3/envs/yomap/lib/python3.13/site-packages/langchain_mcp_adapters/client.py:296\u001b[0m, in \u001b[0;36mMultiServerMCPClient.__aexit__\u001b[0;34m(self, exc_type, exc_val, exc_tb)\u001b[0m\n\u001b[1;32m    290\u001b[0m \u001b[38;5;28;01masync\u001b[39;00m \u001b[38;5;28;01mdef\u001b[39;00m \u001b[38;5;21m__aexit__\u001b[39m(\n\u001b[1;32m    291\u001b[0m     \u001b[38;5;28mself\u001b[39m,\n\u001b[1;32m    292\u001b[0m     exc_type: \u001b[38;5;28mtype\u001b[39m[\u001b[38;5;167;01mBaseException\u001b[39;00m] \u001b[38;5;241m|\u001b[39m \u001b[38;5;28;01mNone\u001b[39;00m,\n\u001b[1;32m    293\u001b[0m     exc_val: \u001b[38;5;167;01mBaseException\u001b[39;00m \u001b[38;5;241m|\u001b[39m \u001b[38;5;28;01mNone\u001b[39;00m,\n\u001b[1;32m    294\u001b[0m     exc_tb: TracebackType \u001b[38;5;241m|\u001b[39m \u001b[38;5;28;01mNone\u001b[39;00m,\n\u001b[1;32m    295\u001b[0m ) \u001b[38;5;241m-\u001b[39m\u001b[38;5;241m>\u001b[39m \u001b[38;5;28;01mNone\u001b[39;00m:\n\u001b[0;32m--> 296\u001b[0m     \u001b[38;5;28;01mawait\u001b[39;00m \u001b[38;5;28mself\u001b[39m\u001b[38;5;241m.\u001b[39mexit_stack\u001b[38;5;241m.\u001b[39maclose()\n",
      "File \u001b[0;32m~/miniforge3/envs/yomap/lib/python3.13/contextlib.py:705\u001b[0m, in \u001b[0;36mAsyncExitStack.aclose\u001b[0;34m(self)\u001b[0m\n\u001b[1;32m    703\u001b[0m \u001b[38;5;28;01masync\u001b[39;00m \u001b[38;5;28;01mdef\u001b[39;00m \u001b[38;5;21maclose\u001b[39m(\u001b[38;5;28mself\u001b[39m):\n\u001b[1;32m    704\u001b[0m \u001b[38;5;250m    \u001b[39m\u001b[38;5;124;03m\"\"\"Immediately unwind the context stack.\"\"\"\u001b[39;00m\n\u001b[0;32m--> 705\u001b[0m     \u001b[38;5;28;01mawait\u001b[39;00m \u001b[38;5;28mself\u001b[39m\u001b[38;5;241m.\u001b[39m\u001b[38;5;21m__aexit__\u001b[39m(\u001b[38;5;28;01mNone\u001b[39;00m, \u001b[38;5;28;01mNone\u001b[39;00m, \u001b[38;5;28;01mNone\u001b[39;00m)\n",
      "File \u001b[0;32m~/miniforge3/envs/yomap/lib/python3.13/contextlib.py:768\u001b[0m, in \u001b[0;36mAsyncExitStack.__aexit__\u001b[0;34m(self, *exc_details)\u001b[0m\n\u001b[1;32m    764\u001b[0m \u001b[38;5;28;01mtry\u001b[39;00m:\n\u001b[1;32m    765\u001b[0m     \u001b[38;5;66;03m# bare \"raise exc\" replaces our carefully\u001b[39;00m\n\u001b[1;32m    766\u001b[0m     \u001b[38;5;66;03m# set-up context\u001b[39;00m\n\u001b[1;32m    767\u001b[0m     fixed_ctx \u001b[38;5;241m=\u001b[39m exc\u001b[38;5;241m.\u001b[39m__context__\n\u001b[0;32m--> 768\u001b[0m     \u001b[38;5;28;01mraise\u001b[39;00m exc\n\u001b[1;32m    769\u001b[0m \u001b[38;5;28;01mexcept\u001b[39;00m \u001b[38;5;167;01mBaseException\u001b[39;00m:\n\u001b[1;32m    770\u001b[0m     exc\u001b[38;5;241m.\u001b[39m__context__ \u001b[38;5;241m=\u001b[39m fixed_ctx\n",
      "File \u001b[0;32m~/miniforge3/envs/yomap/lib/python3.13/contextlib.py:751\u001b[0m, in \u001b[0;36mAsyncExitStack.__aexit__\u001b[0;34m(self, *exc_details)\u001b[0m\n\u001b[1;32m    749\u001b[0m     cb_suppress \u001b[38;5;241m=\u001b[39m cb(\u001b[38;5;241m*\u001b[39mexc_details)\n\u001b[1;32m    750\u001b[0m \u001b[38;5;28;01melse\u001b[39;00m:\n\u001b[0;32m--> 751\u001b[0m     cb_suppress \u001b[38;5;241m=\u001b[39m \u001b[38;5;28;01mawait\u001b[39;00m cb(\u001b[38;5;241m*\u001b[39mexc_details)\n\u001b[1;32m    753\u001b[0m \u001b[38;5;28;01mif\u001b[39;00m cb_suppress:\n\u001b[1;32m    754\u001b[0m     suppressed_exc \u001b[38;5;241m=\u001b[39m \u001b[38;5;28;01mTrue\u001b[39;00m\n",
      "File \u001b[0;32m~/miniforge3/envs/yomap/lib/python3.13/site-packages/mcp/shared/session.py:210\u001b[0m, in \u001b[0;36mBaseSession.__aexit__\u001b[0;34m(self, exc_type, exc_val, exc_tb)\u001b[0m\n\u001b[1;32m    206\u001b[0m \u001b[38;5;66;03m# Using BaseSession as a context manager should not block on exit (this\u001b[39;00m\n\u001b[1;32m    207\u001b[0m \u001b[38;5;66;03m# would be very surprising behavior), so make sure to cancel the tasks\u001b[39;00m\n\u001b[1;32m    208\u001b[0m \u001b[38;5;66;03m# in the task group.\u001b[39;00m\n\u001b[1;32m    209\u001b[0m \u001b[38;5;28mself\u001b[39m\u001b[38;5;241m.\u001b[39m_task_group\u001b[38;5;241m.\u001b[39mcancel_scope\u001b[38;5;241m.\u001b[39mcancel()\n\u001b[0;32m--> 210\u001b[0m \u001b[38;5;28;01mreturn\u001b[39;00m \u001b[38;5;28;01mawait\u001b[39;00m \u001b[38;5;28mself\u001b[39m\u001b[38;5;241m.\u001b[39m_task_group\u001b[38;5;241m.\u001b[39m\u001b[38;5;21m__aexit__\u001b[39m(exc_type, exc_val, exc_tb)\n",
      "File \u001b[0;32m~/miniforge3/envs/yomap/lib/python3.13/site-packages/anyio/_backends/_asyncio.py:776\u001b[0m, in \u001b[0;36mTaskGroup.__aexit__\u001b[0;34m(***failed resolving arguments***)\u001b[0m\n\u001b[1;32m    772\u001b[0m         \u001b[38;5;28;01mraise\u001b[39;00m BaseExceptionGroup(\n\u001b[1;32m    773\u001b[0m             \u001b[38;5;124m\"\u001b[39m\u001b[38;5;124munhandled errors in a TaskGroup\u001b[39m\u001b[38;5;124m\"\u001b[39m, \u001b[38;5;28mself\u001b[39m\u001b[38;5;241m.\u001b[39m_exceptions\n\u001b[1;32m    774\u001b[0m         ) \u001b[38;5;28;01mfrom\u001b[39;00m \u001b[38;5;28;01mNone\u001b[39;00m\n\u001b[1;32m    775\u001b[0m     \u001b[38;5;28;01melif\u001b[39;00m exc_val:\n\u001b[0;32m--> 776\u001b[0m         \u001b[38;5;28;01mraise\u001b[39;00m exc_val\n\u001b[1;32m    777\u001b[0m \u001b[38;5;28;01mexcept\u001b[39;00m \u001b[38;5;167;01mBaseException\u001b[39;00m \u001b[38;5;28;01mas\u001b[39;00m exc:\n\u001b[1;32m    778\u001b[0m     \u001b[38;5;28;01mif\u001b[39;00m \u001b[38;5;28mself\u001b[39m\u001b[38;5;241m.\u001b[39mcancel_scope\u001b[38;5;241m.\u001b[39m\u001b[38;5;21m__exit__\u001b[39m(\u001b[38;5;28mtype\u001b[39m(exc), exc, exc\u001b[38;5;241m.\u001b[39m__traceback__):\n",
      "File \u001b[0;32m~/miniforge3/envs/yomap/lib/python3.13/contextlib.py:751\u001b[0m, in \u001b[0;36mAsyncExitStack.__aexit__\u001b[0;34m(self, *exc_details)\u001b[0m\n\u001b[1;32m    749\u001b[0m     cb_suppress \u001b[38;5;241m=\u001b[39m cb(\u001b[38;5;241m*\u001b[39mexc_details)\n\u001b[1;32m    750\u001b[0m \u001b[38;5;28;01melse\u001b[39;00m:\n\u001b[0;32m--> 751\u001b[0m     cb_suppress \u001b[38;5;241m=\u001b[39m \u001b[38;5;28;01mawait\u001b[39;00m cb(\u001b[38;5;241m*\u001b[39mexc_details)\n\u001b[1;32m    753\u001b[0m \u001b[38;5;28;01mif\u001b[39;00m cb_suppress:\n\u001b[1;32m    754\u001b[0m     suppressed_exc \u001b[38;5;241m=\u001b[39m \u001b[38;5;28;01mTrue\u001b[39;00m\n",
      "File \u001b[0;32m~/miniforge3/envs/yomap/lib/python3.13/site-packages/mcp/shared/session.py:210\u001b[0m, in \u001b[0;36mBaseSession.__aexit__\u001b[0;34m(self, exc_type, exc_val, exc_tb)\u001b[0m\n\u001b[1;32m    206\u001b[0m \u001b[38;5;66;03m# Using BaseSession as a context manager should not block on exit (this\u001b[39;00m\n\u001b[1;32m    207\u001b[0m \u001b[38;5;66;03m# would be very surprising behavior), so make sure to cancel the tasks\u001b[39;00m\n\u001b[1;32m    208\u001b[0m \u001b[38;5;66;03m# in the task group.\u001b[39;00m\n\u001b[1;32m    209\u001b[0m \u001b[38;5;28mself\u001b[39m\u001b[38;5;241m.\u001b[39m_task_group\u001b[38;5;241m.\u001b[39mcancel_scope\u001b[38;5;241m.\u001b[39mcancel()\n\u001b[0;32m--> 210\u001b[0m \u001b[38;5;28;01mreturn\u001b[39;00m \u001b[38;5;28;01mawait\u001b[39;00m \u001b[38;5;28mself\u001b[39m\u001b[38;5;241m.\u001b[39m_task_group\u001b[38;5;241m.\u001b[39m\u001b[38;5;21m__aexit__\u001b[39m(exc_type, exc_val, exc_tb)\n",
      "File \u001b[0;32m~/miniforge3/envs/yomap/lib/python3.13/site-packages/anyio/_backends/_asyncio.py:776\u001b[0m, in \u001b[0;36mTaskGroup.__aexit__\u001b[0;34m(***failed resolving arguments***)\u001b[0m\n\u001b[1;32m    772\u001b[0m         \u001b[38;5;28;01mraise\u001b[39;00m BaseExceptionGroup(\n\u001b[1;32m    773\u001b[0m             \u001b[38;5;124m\"\u001b[39m\u001b[38;5;124munhandled errors in a TaskGroup\u001b[39m\u001b[38;5;124m\"\u001b[39m, \u001b[38;5;28mself\u001b[39m\u001b[38;5;241m.\u001b[39m_exceptions\n\u001b[1;32m    774\u001b[0m         ) \u001b[38;5;28;01mfrom\u001b[39;00m \u001b[38;5;28;01mNone\u001b[39;00m\n\u001b[1;32m    775\u001b[0m     \u001b[38;5;28;01melif\u001b[39;00m exc_val:\n\u001b[0;32m--> 776\u001b[0m         \u001b[38;5;28;01mraise\u001b[39;00m exc_val\n\u001b[1;32m    777\u001b[0m \u001b[38;5;28;01mexcept\u001b[39;00m \u001b[38;5;167;01mBaseException\u001b[39;00m \u001b[38;5;28;01mas\u001b[39;00m exc:\n\u001b[1;32m    778\u001b[0m     \u001b[38;5;28;01mif\u001b[39;00m \u001b[38;5;28mself\u001b[39m\u001b[38;5;241m.\u001b[39mcancel_scope\u001b[38;5;241m.\u001b[39m\u001b[38;5;21m__exit__\u001b[39m(\u001b[38;5;28mtype\u001b[39m(exc), exc, exc\u001b[38;5;241m.\u001b[39m__traceback__):\n",
      "File \u001b[0;32m~/miniforge3/envs/yomap/lib/python3.13/contextlib.py:751\u001b[0m, in \u001b[0;36mAsyncExitStack.__aexit__\u001b[0;34m(self, *exc_details)\u001b[0m\n\u001b[1;32m    749\u001b[0m     cb_suppress \u001b[38;5;241m=\u001b[39m cb(\u001b[38;5;241m*\u001b[39mexc_details)\n\u001b[1;32m    750\u001b[0m \u001b[38;5;28;01melse\u001b[39;00m:\n\u001b[0;32m--> 751\u001b[0m     cb_suppress \u001b[38;5;241m=\u001b[39m \u001b[38;5;28;01mawait\u001b[39;00m cb(\u001b[38;5;241m*\u001b[39mexc_details)\n\u001b[1;32m    753\u001b[0m \u001b[38;5;28;01mif\u001b[39;00m cb_suppress:\n\u001b[1;32m    754\u001b[0m     suppressed_exc \u001b[38;5;241m=\u001b[39m \u001b[38;5;28;01mTrue\u001b[39;00m\n",
      "File \u001b[0;32m~/miniforge3/envs/yomap/lib/python3.13/contextlib.py:221\u001b[0m, in \u001b[0;36m_AsyncGeneratorContextManager.__aexit__\u001b[0;34m(self, typ, value, traceback)\u001b[0m\n\u001b[1;32m    219\u001b[0m \u001b[38;5;28;01mif\u001b[39;00m typ \u001b[38;5;129;01mis\u001b[39;00m \u001b[38;5;28;01mNone\u001b[39;00m:\n\u001b[1;32m    220\u001b[0m     \u001b[38;5;28;01mtry\u001b[39;00m:\n\u001b[0;32m--> 221\u001b[0m         \u001b[38;5;28;01mawait\u001b[39;00m anext(\u001b[38;5;28mself\u001b[39m\u001b[38;5;241m.\u001b[39mgen)\n\u001b[1;32m    222\u001b[0m     \u001b[38;5;28;01mexcept\u001b[39;00m \u001b[38;5;167;01mStopAsyncIteration\u001b[39;00m:\n\u001b[1;32m    223\u001b[0m         \u001b[38;5;28;01mreturn\u001b[39;00m \u001b[38;5;28;01mFalse\u001b[39;00m\n",
      "File \u001b[0;32m~/miniforge3/envs/yomap/lib/python3.13/site-packages/mcp/client/stdio/__init__.py:167\u001b[0m, in \u001b[0;36mstdio_client\u001b[0;34m(server, errlog)\u001b[0m\n\u001b[1;32m    163\u001b[0m     \u001b[38;5;28;01mexcept\u001b[39;00m anyio\u001b[38;5;241m.\u001b[39mClosedResourceError:\n\u001b[1;32m    164\u001b[0m         \u001b[38;5;28;01mawait\u001b[39;00m anyio\u001b[38;5;241m.\u001b[39mlowlevel\u001b[38;5;241m.\u001b[39mcheckpoint()\n\u001b[1;32m    166\u001b[0m \u001b[38;5;28;01masync\u001b[39;00m \u001b[38;5;28;01mwith\u001b[39;00m (\n\u001b[0;32m--> 167\u001b[0m     anyio\u001b[38;5;241m.\u001b[39mcreate_task_group() \u001b[38;5;28;01mas\u001b[39;00m tg,\n\u001b[1;32m    168\u001b[0m     process,\n\u001b[1;32m    169\u001b[0m ):\n\u001b[1;32m    170\u001b[0m     tg\u001b[38;5;241m.\u001b[39mstart_soon(stdout_reader)\n\u001b[1;32m    171\u001b[0m     tg\u001b[38;5;241m.\u001b[39mstart_soon(stdin_writer)\n",
      "File \u001b[0;32m~/miniforge3/envs/yomap/lib/python3.13/site-packages/anyio/_backends/_asyncio.py:776\u001b[0m, in \u001b[0;36mTaskGroup.__aexit__\u001b[0;34m(***failed resolving arguments***)\u001b[0m\n\u001b[1;32m    772\u001b[0m         \u001b[38;5;28;01mraise\u001b[39;00m BaseExceptionGroup(\n\u001b[1;32m    773\u001b[0m             \u001b[38;5;124m\"\u001b[39m\u001b[38;5;124munhandled errors in a TaskGroup\u001b[39m\u001b[38;5;124m\"\u001b[39m, \u001b[38;5;28mself\u001b[39m\u001b[38;5;241m.\u001b[39m_exceptions\n\u001b[1;32m    774\u001b[0m         ) \u001b[38;5;28;01mfrom\u001b[39;00m \u001b[38;5;28;01mNone\u001b[39;00m\n\u001b[1;32m    775\u001b[0m     \u001b[38;5;28;01melif\u001b[39;00m exc_val:\n\u001b[0;32m--> 776\u001b[0m         \u001b[38;5;28;01mraise\u001b[39;00m exc_val\n\u001b[1;32m    777\u001b[0m \u001b[38;5;28;01mexcept\u001b[39;00m \u001b[38;5;167;01mBaseException\u001b[39;00m \u001b[38;5;28;01mas\u001b[39;00m exc:\n\u001b[1;32m    778\u001b[0m     \u001b[38;5;28;01mif\u001b[39;00m \u001b[38;5;28mself\u001b[39m\u001b[38;5;241m.\u001b[39mcancel_scope\u001b[38;5;241m.\u001b[39m\u001b[38;5;21m__exit__\u001b[39m(\u001b[38;5;28mtype\u001b[39m(exc), exc, exc\u001b[38;5;241m.\u001b[39m__traceback__):\n",
      "File \u001b[0;32m~/miniforge3/envs/yomap/lib/python3.13/site-packages/mcp/client/stdio/__init__.py:168\u001b[0m, in \u001b[0;36mstdio_client\u001b[0;34m(server, errlog)\u001b[0m\n\u001b[1;32m    163\u001b[0m     \u001b[38;5;28;01mexcept\u001b[39;00m anyio\u001b[38;5;241m.\u001b[39mClosedResourceError:\n\u001b[1;32m    164\u001b[0m         \u001b[38;5;28;01mawait\u001b[39;00m anyio\u001b[38;5;241m.\u001b[39mlowlevel\u001b[38;5;241m.\u001b[39mcheckpoint()\n\u001b[1;32m    166\u001b[0m \u001b[38;5;28;01masync\u001b[39;00m \u001b[38;5;28;01mwith\u001b[39;00m (\n\u001b[1;32m    167\u001b[0m     anyio\u001b[38;5;241m.\u001b[39mcreate_task_group() \u001b[38;5;28;01mas\u001b[39;00m tg,\n\u001b[0;32m--> 168\u001b[0m     process,\n\u001b[1;32m    169\u001b[0m ):\n\u001b[1;32m    170\u001b[0m     tg\u001b[38;5;241m.\u001b[39mstart_soon(stdout_reader)\n\u001b[1;32m    171\u001b[0m     tg\u001b[38;5;241m.\u001b[39mstart_soon(stdin_writer)\n",
      "File \u001b[0;32m~/miniforge3/envs/yomap/lib/python3.13/site-packages/anyio/abc/_resources.py:29\u001b[0m, in \u001b[0;36mAsyncResource.__aexit__\u001b[0;34m(self, exc_type, exc_val, exc_tb)\u001b[0m\n\u001b[1;32m     23\u001b[0m \u001b[38;5;28;01masync\u001b[39;00m \u001b[38;5;28;01mdef\u001b[39;00m \u001b[38;5;21m__aexit__\u001b[39m(\n\u001b[1;32m     24\u001b[0m     \u001b[38;5;28mself\u001b[39m,\n\u001b[1;32m     25\u001b[0m     exc_type: \u001b[38;5;28mtype\u001b[39m[\u001b[38;5;167;01mBaseException\u001b[39;00m] \u001b[38;5;241m|\u001b[39m \u001b[38;5;28;01mNone\u001b[39;00m,\n\u001b[1;32m     26\u001b[0m     exc_val: \u001b[38;5;167;01mBaseException\u001b[39;00m \u001b[38;5;241m|\u001b[39m \u001b[38;5;28;01mNone\u001b[39;00m,\n\u001b[1;32m     27\u001b[0m     exc_tb: TracebackType \u001b[38;5;241m|\u001b[39m \u001b[38;5;28;01mNone\u001b[39;00m,\n\u001b[1;32m     28\u001b[0m ) \u001b[38;5;241m-\u001b[39m\u001b[38;5;241m>\u001b[39m \u001b[38;5;28;01mNone\u001b[39;00m:\n\u001b[0;32m---> 29\u001b[0m     \u001b[38;5;28;01mawait\u001b[39;00m \u001b[38;5;28mself\u001b[39m\u001b[38;5;241m.\u001b[39maclose()\n",
      "File \u001b[0;32m~/miniforge3/envs/yomap/lib/python3.13/site-packages/anyio/_backends/_asyncio.py:1074\u001b[0m, in \u001b[0;36mProcess.aclose\u001b[0;34m(self)\u001b[0m\n\u001b[1;32m   1072\u001b[0m scope\u001b[38;5;241m.\u001b[39mshield \u001b[38;5;241m=\u001b[39m \u001b[38;5;28;01mFalse\u001b[39;00m\n\u001b[1;32m   1073\u001b[0m \u001b[38;5;28;01mtry\u001b[39;00m:\n\u001b[0;32m-> 1074\u001b[0m     \u001b[38;5;28;01mawait\u001b[39;00m \u001b[38;5;28mself\u001b[39m\u001b[38;5;241m.\u001b[39mwait()\n\u001b[1;32m   1075\u001b[0m \u001b[38;5;28;01mexcept\u001b[39;00m \u001b[38;5;167;01mBaseException\u001b[39;00m:\n\u001b[1;32m   1076\u001b[0m     scope\u001b[38;5;241m.\u001b[39mshield \u001b[38;5;241m=\u001b[39m \u001b[38;5;28;01mTrue\u001b[39;00m\n",
      "File \u001b[0;32m~/miniforge3/envs/yomap/lib/python3.13/site-packages/anyio/_backends/_asyncio.py:1082\u001b[0m, in \u001b[0;36mProcess.wait\u001b[0;34m(self)\u001b[0m\n\u001b[1;32m   1081\u001b[0m \u001b[38;5;28;01masync\u001b[39;00m \u001b[38;5;28;01mdef\u001b[39;00m \u001b[38;5;21mwait\u001b[39m(\u001b[38;5;28mself\u001b[39m) \u001b[38;5;241m-\u001b[39m\u001b[38;5;241m>\u001b[39m \u001b[38;5;28mint\u001b[39m:\n\u001b[0;32m-> 1082\u001b[0m     \u001b[38;5;28;01mreturn\u001b[39;00m \u001b[38;5;28;01mawait\u001b[39;00m \u001b[38;5;28mself\u001b[39m\u001b[38;5;241m.\u001b[39m_process\u001b[38;5;241m.\u001b[39mwait()\n",
      "File \u001b[0;32m~/miniforge3/envs/yomap/lib/python3.13/asyncio/subprocess.py:137\u001b[0m, in \u001b[0;36mProcess.wait\u001b[0;34m(self)\u001b[0m\n\u001b[1;32m    135\u001b[0m \u001b[38;5;28;01masync\u001b[39;00m \u001b[38;5;28;01mdef\u001b[39;00m \u001b[38;5;21mwait\u001b[39m(\u001b[38;5;28mself\u001b[39m):\n\u001b[1;32m    136\u001b[0m \u001b[38;5;250m    \u001b[39m\u001b[38;5;124;03m\"\"\"Wait until the process exit and return the process return code.\"\"\"\u001b[39;00m\n\u001b[0;32m--> 137\u001b[0m     \u001b[38;5;28;01mreturn\u001b[39;00m \u001b[38;5;28;01mawait\u001b[39;00m \u001b[38;5;28mself\u001b[39m\u001b[38;5;241m.\u001b[39m_transport\u001b[38;5;241m.\u001b[39m_wait()\n",
      "File \u001b[0;32m~/miniforge3/envs/yomap/lib/python3.13/asyncio/base_subprocess.py:248\u001b[0m, in \u001b[0;36mBaseSubprocessTransport._wait\u001b[0;34m(self)\u001b[0m\n\u001b[1;32m    246\u001b[0m waiter \u001b[38;5;241m=\u001b[39m \u001b[38;5;28mself\u001b[39m\u001b[38;5;241m.\u001b[39m_loop\u001b[38;5;241m.\u001b[39mcreate_future()\n\u001b[1;32m    247\u001b[0m \u001b[38;5;28mself\u001b[39m\u001b[38;5;241m.\u001b[39m_exit_waiters\u001b[38;5;241m.\u001b[39mappend(waiter)\n\u001b[0;32m--> 248\u001b[0m \u001b[38;5;28;01mreturn\u001b[39;00m \u001b[38;5;28;01mawait\u001b[39;00m waiter\n",
      "\u001b[0;31mCancelledError\u001b[0m: "
     ]
    }
   ],
   "source": [
    "from langchain_mcp_adapters.client import MultiServerMCPClient\n",
    "from langgraph.prebuilt import create_react_agent\n",
    "\n",
    "from langchain_openai import ChatOpenAI\n",
    "\n",
    "model = ChatOpenAI(model=\"gpt-4o\")\n",
    "\n",
    "async with MultiServerMCPClient(\n",
    "    {\n",
    "        \"whatsapp\": {\n",
    "            \"command\": \"/Users/nmlemus/.local/bin/uv\",\n",
    "            \"args\": [\n",
    "                \"--directory\",\n",
    "                \"/Users/nmlemus/projects/mcp/whatsapp-mcp/whatsapp-mcp-server\",\n",
    "                \"run\",\n",
    "                \"main.py\",\n",
    "            ],\n",
    "            \"transport\": \"stdio\",\n",
    "        },\n",
    "        \"mcp-obsidian\": {\n",
    "            \"command\": \"npx\",\n",
    "            \"args\": [\n",
    "                \"-y\",\n",
    "                \"@smithery/cli@latest\",\n",
    "                \"run\",\n",
    "                \"mcp-obsidian\",\n",
    "                \"--config\",\n",
    "                '\"{\\\\\"vaultPath\\\\\":\\\\\"/Users/nmlemus/projects/notes\\\\\"}\"',\n",
    "            ],\n",
    "        },\n",
    "        \"docker-mcp\": {\n",
    "            \"command\": \"npx\",\n",
    "            \"args\": [\"-y\", \"@smithery/cli@latest\", \"run\", \"docker-mcp\"],\n",
    "        },\n",
    "    }\n",
    ") as client:\n",
    "    agent = create_react_agent(model, client.get_tools())\n",
    "    print(client.get_tools())\n",
    "    # math_response = await agent.ainvoke({\"messages\": \"what's (3 + 5) x 12?\"})\n",
    "    weather_response = await agent.ainvoke(\n",
    "        {\n",
    "            \"messages\": \"Deploy a wordpress server using docker compose\",\n",
    "        }\n",
    "    )"
   ]
  },
  {
   "cell_type": "code",
   "execution_count": 48,
   "metadata": {},
   "outputs": [
    {
     "data": {
      "text/plain": [
       "{'messages': [HumanMessage(content=\"what's (3 + 5) x 12?\", additional_kwargs={}, response_metadata={}, id='ff8c09ee-7789-4d9e-8a70-a0f70b7d4a35'),\n",
       "  AIMessage(content='', additional_kwargs={'tool_calls': [{'id': 'call_M1DyRWRPFv1S4goQ8yqXxF8z', 'function': {'arguments': '{\"a\":3,\"b\":5}', 'name': 'add'}, 'type': 'function'}], 'refusal': None}, response_metadata={'token_usage': {'completion_tokens': 18, 'prompt_tokens': 225, 'total_tokens': 243, 'completion_tokens_details': {'accepted_prediction_tokens': 0, 'audio_tokens': 0, 'reasoning_tokens': 0, 'rejected_prediction_tokens': 0}, 'prompt_tokens_details': {'audio_tokens': 0, 'cached_tokens': 0}}, 'model_name': 'gpt-4o-2024-08-06', 'system_fingerprint': 'fp_898ac29719', 'id': 'chatcmpl-BIkkgWhWj2lV6NfbJB3syZheksupW', 'finish_reason': 'tool_calls', 'logprobs': None}, id='run-6df07191-d28b-494a-8c44-93315fa64e8a-0', tool_calls=[{'name': 'add', 'args': {'a': 3, 'b': 5}, 'id': 'call_M1DyRWRPFv1S4goQ8yqXxF8z', 'type': 'tool_call'}], usage_metadata={'input_tokens': 225, 'output_tokens': 18, 'total_tokens': 243, 'input_token_details': {'audio': 0, 'cache_read': 0}, 'output_token_details': {'audio': 0, 'reasoning': 0}}),\n",
       "  ToolMessage(content='8', name='add', id='c3503a49-6918-4441-9187-fb0faaa103c7', tool_call_id='call_M1DyRWRPFv1S4goQ8yqXxF8z'),\n",
       "  AIMessage(content='', additional_kwargs={'tool_calls': [{'id': 'call_RYtzuWeO4fjJsxqTALXPYnZI', 'function': {'arguments': '{\"a\":8,\"b\":12}', 'name': 'multiply'}, 'type': 'function'}], 'refusal': None}, response_metadata={'token_usage': {'completion_tokens': 18, 'prompt_tokens': 250, 'total_tokens': 268, 'completion_tokens_details': {'accepted_prediction_tokens': 0, 'audio_tokens': 0, 'reasoning_tokens': 0, 'rejected_prediction_tokens': 0}, 'prompt_tokens_details': {'audio_tokens': 0, 'cached_tokens': 0}}, 'model_name': 'gpt-4o-2024-08-06', 'system_fingerprint': 'fp_898ac29719', 'id': 'chatcmpl-BIkkhJ7wfTOoeejigOlwWmt6vhYIP', 'finish_reason': 'tool_calls', 'logprobs': None}, id='run-865e410e-1b1b-4939-ae1a-82271006bed3-0', tool_calls=[{'name': 'multiply', 'args': {'a': 8, 'b': 12}, 'id': 'call_RYtzuWeO4fjJsxqTALXPYnZI', 'type': 'tool_call'}], usage_metadata={'input_tokens': 250, 'output_tokens': 18, 'total_tokens': 268, 'input_token_details': {'audio': 0, 'cache_read': 0}, 'output_token_details': {'audio': 0, 'reasoning': 0}}),\n",
       "  ToolMessage(content='96', name='multiply', id='d0c41289-9ac3-4592-8528-386301631935', tool_call_id='call_RYtzuWeO4fjJsxqTALXPYnZI'),\n",
       "  AIMessage(content='The result of \\\\((3 + 5) \\\\times 12\\\\) is 96.', additional_kwargs={'refusal': None}, response_metadata={'token_usage': {'completion_tokens': 22, 'prompt_tokens': 275, 'total_tokens': 297, 'completion_tokens_details': {'accepted_prediction_tokens': 0, 'audio_tokens': 0, 'reasoning_tokens': 0, 'rejected_prediction_tokens': 0}, 'prompt_tokens_details': {'audio_tokens': 0, 'cached_tokens': 0}}, 'model_name': 'gpt-4o-2024-08-06', 'system_fingerprint': 'fp_898ac29719', 'id': 'chatcmpl-BIkkikWczUqSElLigWJz5OTdViXiQ', 'finish_reason': 'stop', 'logprobs': None}, id='run-f9dab755-f9d2-4bfc-87bd-2871fbfbba5e-0', usage_metadata={'input_tokens': 275, 'output_tokens': 22, 'total_tokens': 297, 'input_token_details': {'audio': 0, 'cache_read': 0}, 'output_token_details': {'audio': 0, 'reasoning': 0}})]}"
      ]
     },
     "execution_count": 48,
     "metadata": {},
     "output_type": "execute_result"
    }
   ],
   "source": [
    "math_response"
   ]
  },
  {
   "cell_type": "code",
   "execution_count": 21,
   "metadata": {},
   "outputs": [
    {
     "name": "stdout",
     "output_type": "stream",
     "text": [
      "Yes, you have a note on \"topic modeling\". Here's a summary of its contents:\n",
      "\n",
      "**Topic Modeling:**  \n",
      "Topic modeling is an unsupervised machine learning technique used to discover and identify the abstract topics that appear in a collection of documents or text data. It's often used in natural language processing (NLP) to organize, understand, and summarize large sets of textual information. The method involves text preprocessing (tokenization, stop-word removal, stemming/lemmatization), and the output is a set of topics each represented by a distribution of words, and each document represented as a distribution of topics.\n",
      "\n",
      "**Example Use Case:**  \n",
      "For instance, in a dataset with customer reviews for a product, topic modeling can uncover common themes like \"product quality,\" \"shipping experience,\" or \"customer support.\"\n",
      "\n",
      "**BERTopic:**  \n",
      "BERTopic is highlighted as a technique leveraging Transformers and c-TF-IDF to create dense clusters that allow for easily interpretable topics, while maintaining significant words in the topic descriptions.\n",
      "\n",
      "**Topic Modeling in YoMap Using BERTopic:**\n",
      "- **Create Dataset:** A method is shown using ChatGPT for creating a training dataset for topic modeling with service provider categories.\n",
      "- **Train Model:** An example using BERTopic without performing clustering is illustrated.\n",
      "- **Use the Model:** Code snippets are provided to demonstrate how to train and use a BERTopic model.\n",
      "\n",
      "The note provides a mix of theoretical knowledge and practical code snippets for applying topic modeling using BERTopic.\n"
     ]
    }
   ],
   "source": [
    "print(weather_response['messages'][-1].content)"
   ]
  },
  {
   "cell_type": "code",
   "execution_count": 10,
   "metadata": {},
   "outputs": [
    {
     "data": {
      "text/plain": [
       "{'messages': [HumanMessage(content='get last chats from +50763994214 and 50763644604', additional_kwargs={}, response_metadata={}, id='bac33171-3acd-41a9-ba2b-0e72d3087a37'),\n",
       "  AIMessage(content='', additional_kwargs={'tool_calls': [{'id': 'call_5dFk0YGdUEO9HIle5gAHU0UD', 'function': {'arguments': '{\"sender_phone_number\": \"50763994214\"}', 'name': 'get_direct_chat_by_contact'}, 'type': 'function'}, {'id': 'call_GavkaFoOwbI8V3ectSpUoSs4', 'function': {'arguments': '{\"sender_phone_number\": \"50763644604\"}', 'name': 'get_direct_chat_by_contact'}, 'type': 'function'}], 'refusal': None}, response_metadata={'token_usage': {'completion_tokens': 61, 'prompt_tokens': 669, 'total_tokens': 730, 'completion_tokens_details': {'accepted_prediction_tokens': 0, 'audio_tokens': 0, 'reasoning_tokens': 0, 'rejected_prediction_tokens': 0}, 'prompt_tokens_details': {'audio_tokens': 0, 'cached_tokens': 0}}, 'model_name': 'gpt-4o-2024-08-06', 'system_fingerprint': 'fp_6dd05565ef', 'id': 'chatcmpl-BJOYy4BcMChDSx7cG7ewAkFr4mvhX', 'finish_reason': 'tool_calls', 'logprobs': None}, id='run-1826002a-ac94-48f0-9274-0182c7090e5f-0', tool_calls=[{'name': 'get_direct_chat_by_contact', 'args': {'sender_phone_number': '50763994214'}, 'id': 'call_5dFk0YGdUEO9HIle5gAHU0UD', 'type': 'tool_call'}, {'name': 'get_direct_chat_by_contact', 'args': {'sender_phone_number': '50763644604'}, 'id': 'call_GavkaFoOwbI8V3ectSpUoSs4', 'type': 'tool_call'}], usage_metadata={'input_tokens': 669, 'output_tokens': 61, 'total_tokens': 730, 'input_token_details': {'audio': 0, 'cache_read': 0}, 'output_token_details': {'audio': 0, 'reasoning': 0}}),\n",
       "  ToolMessage(content='Error: ClosedResourceError()\\n Please fix your mistakes.', name='get_direct_chat_by_contact', id='b6da4dd9-9af8-490b-b012-5d0f850f3d7c', tool_call_id='call_5dFk0YGdUEO9HIle5gAHU0UD', status='error'),\n",
       "  ToolMessage(content='Error: ClosedResourceError()\\n Please fix your mistakes.', name='get_direct_chat_by_contact', id='1a424836-4585-4d46-aa74-c8551115c1e9', tool_call_id='call_GavkaFoOwbI8V3ectSpUoSs4', status='error'),\n",
       "  AIMessage(content='It seems there was an error retrieving the chat information for both contacts with the phone numbers +50763994214 and 50763644604. Let me try another approach to get the chat details.', additional_kwargs={'tool_calls': [{'id': 'call_JZmnntVAwndwNkmEOd2cP36N', 'function': {'arguments': '{\"query\": \"50763994214\"}', 'name': 'search_contacts'}, 'type': 'function'}, {'id': 'call_htCukalLjM77NxqZNpkjmax2', 'function': {'arguments': '{\"query\": \"50763644604\"}', 'name': 'search_contacts'}, 'type': 'function'}], 'refusal': None}, response_metadata={'token_usage': {'completion_tokens': 93, 'prompt_tokens': 766, 'total_tokens': 859, 'completion_tokens_details': {'accepted_prediction_tokens': 0, 'audio_tokens': 0, 'reasoning_tokens': 0, 'rejected_prediction_tokens': 0}, 'prompt_tokens_details': {'audio_tokens': 0, 'cached_tokens': 0}}, 'model_name': 'gpt-4o-2024-08-06', 'system_fingerprint': 'fp_6dd05565ef', 'id': 'chatcmpl-BJOYzBN0KSdKyCt2gSup0kpp1J4z2', 'finish_reason': 'tool_calls', 'logprobs': None}, id='run-8dddd951-10ef-43e8-973e-40b86ed5df0a-0', tool_calls=[{'name': 'search_contacts', 'args': {'query': '50763994214'}, 'id': 'call_JZmnntVAwndwNkmEOd2cP36N', 'type': 'tool_call'}, {'name': 'search_contacts', 'args': {'query': '50763644604'}, 'id': 'call_htCukalLjM77NxqZNpkjmax2', 'type': 'tool_call'}], usage_metadata={'input_tokens': 766, 'output_tokens': 93, 'total_tokens': 859, 'input_token_details': {'audio': 0, 'cache_read': 0}, 'output_token_details': {'audio': 0, 'reasoning': 0}}),\n",
       "  ToolMessage(content='Error: ClosedResourceError()\\n Please fix your mistakes.', name='search_contacts', id='c216b36d-45f1-4a4e-8c07-eadbf6174b9f', tool_call_id='call_JZmnntVAwndwNkmEOd2cP36N', status='error'),\n",
       "  ToolMessage(content='Error: ClosedResourceError()\\n Please fix your mistakes.', name='search_contacts', id='7cbd2b70-f93f-474f-8b1c-272d2e07729e', tool_call_id='call_htCukalLjM77NxqZNpkjmax2', status='error'),\n",
       "  AIMessage(content='It seems that I am currently unable to retrieve information from the provided phone numbers due to an issue with the system. Please try again later or check the input details for any discrepancies.', additional_kwargs={'refusal': None}, response_metadata={'token_usage': {'completion_tokens': 38, 'prompt_tokens': 897, 'total_tokens': 935, 'completion_tokens_details': {'accepted_prediction_tokens': 0, 'audio_tokens': 0, 'reasoning_tokens': 0, 'rejected_prediction_tokens': 0}, 'prompt_tokens_details': {'audio_tokens': 0, 'cached_tokens': 0}}, 'model_name': 'gpt-4o-2024-08-06', 'system_fingerprint': 'fp_6dd05565ef', 'id': 'chatcmpl-BJOZ3BBVu1o0dblXMZwxsLXbr95Rh', 'finish_reason': 'stop', 'logprobs': None}, id='run-fc40ce2c-361f-48f7-855d-600d10e9bc51-0', usage_metadata={'input_tokens': 897, 'output_tokens': 38, 'total_tokens': 935, 'input_token_details': {'audio': 0, 'cache_read': 0}, 'output_token_details': {'audio': 0, 'reasoning': 0}})]}"
      ]
     },
     "execution_count": 10,
     "metadata": {},
     "output_type": "execute_result"
    }
   ],
   "source": [
    "await agent.ainvoke(\n",
    "        {\n",
    "            \"messages\": \"get last chats from +50763994214 and 50763644604\"\n",
    "        }\n",
    "    )"
   ]
  }
 ],
 "metadata": {
  "kernelspec": {
   "display_name": "yomap",
   "language": "python",
   "name": "python3"
  },
  "language_info": {
   "codemirror_mode": {
    "name": "ipython",
    "version": 3
   },
   "file_extension": ".py",
   "mimetype": "text/x-python",
   "name": "python",
   "nbconvert_exporter": "python",
   "pygments_lexer": "ipython3",
   "version": "3.13.2"
  }
 },
 "nbformat": 4,
 "nbformat_minor": 2
}
