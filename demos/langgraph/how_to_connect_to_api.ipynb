{
 "cells": [
  {
   "cell_type": "code",
   "execution_count": 39,
   "metadata": {},
   "outputs": [],
   "source": [
    "import requests\n",
    "\n",
    "inputs = {\n",
    "    \"input\": {\"messages\": [\"Puedes buscar un proveedor de servicios spa\"]},\n",
    "    \"config\": {\"configurable\": {\"thread_id\": \"\", \"thread_ts\": \"string\"}},\n",
    "    \"kwargs\": {},\n",
    "}\n",
    "response = requests.post(\"http://localhost:8000/bot/invoke\", json=inputs)"
   ]
  },
  {
   "cell_type": "code",
   "execution_count": 40,
   "metadata": {},
   "outputs": [
    {
     "data": {
      "text/plain": [
       "{'output': {'messages': [{'content': 'Puedes buscar un proveedor de servicios spa',\n",
       "    'additional_kwargs': {},\n",
       "    'response_metadata': {},\n",
       "    'type': 'human',\n",
       "    'name': None,\n",
       "    'id': '3cc073ab-18b2-420e-8877-a264d406968b',\n",
       "    'example': False},\n",
       "   {'content': '',\n",
       "    'additional_kwargs': {'tool_calls': [{'index': 0,\n",
       "       'id': 'call_1HI8cN7mmPjgYyvXt6evfpfa',\n",
       "       'function': {'arguments': '{\"tag\":\"spa\"}',\n",
       "        'name': 'get_service_provider_from_firebase'},\n",
       "       'type': 'function'}]},\n",
       "    'response_metadata': {'finish_reason': 'tool_calls',\n",
       "     'model_name': 'gpt-3.5-turbo-0125'},\n",
       "    'type': 'ai',\n",
       "    'name': None,\n",
       "    'id': 'run-e5847648-9332-4bd5-a19c-800d001f5df9-0',\n",
       "    'example': False,\n",
       "    'tool_calls': [{'name': 'get_service_provider_from_firebase',\n",
       "      'args': {'tag': 'spa'},\n",
       "      'id': 'call_1HI8cN7mmPjgYyvXt6evfpfa'}],\n",
       "    'invalid_tool_calls': [],\n",
       "    'usage_metadata': None},\n",
       "   {'content': '[\"Carolina\", \"Angela \", \"Emulator 66980917\"]',\n",
       "    'additional_kwargs': {},\n",
       "    'response_metadata': {},\n",
       "    'type': 'tool',\n",
       "    'name': 'get_service_provider_from_firebase',\n",
       "    'id': 'd44f801f-0b8a-4d6d-be54-384cb44b8ddf',\n",
       "    'tool_call_id': 'call_1HI8cN7mmPjgYyvXt6evfpfa'},\n",
       "   {'content': 'He encontrado algunos proveedores de servicios de spa para ti:\\n\\n1. Carolina\\n2. Angela\\n3. Emulator 66980917\\n\\n¿Te gustaría más información sobre alguno de ellos?',\n",
       "    'additional_kwargs': {},\n",
       "    'response_metadata': {'finish_reason': 'stop',\n",
       "     'model_name': 'gpt-3.5-turbo-0125'},\n",
       "    'type': 'ai',\n",
       "    'name': None,\n",
       "    'id': 'run-a7f5884e-28ad-44d8-882a-97790510ea2f-0',\n",
       "    'example': False,\n",
       "    'tool_calls': [],\n",
       "    'invalid_tool_calls': [],\n",
       "    'usage_metadata': None}]},\n",
       " 'metadata': {'run_id': 'b18f7907-aa49-4bd2-9fba-0f9cc4ad9559',\n",
       "  'feedback_tokens': []}}"
      ]
     },
     "execution_count": 40,
     "metadata": {},
     "output_type": "execute_result"
    }
   ],
   "source": [
    "response.json()"
   ]
  },
  {
   "cell_type": "markdown",
   "metadata": {},
   "source": [
    "# Stream"
   ]
  },
  {
   "cell_type": "code",
   "execution_count": 41,
   "metadata": {},
   "outputs": [],
   "source": [
    "from langserve import RemoteRunnable\n",
    "from langchain_core.messages import HumanMessage, AIMessage\n",
    "\n",
    "remote_runnable = RemoteRunnable(\"http://localhost:8000/bot/\")"
   ]
  },
  {
   "cell_type": "code",
   "execution_count": 42,
   "metadata": {},
   "outputs": [
    {
     "name": "stdout",
     "output_type": "stream",
     "text": [
      "AI: \n",
      "{'assistant': {'messages': AIMessage(content='', additional_kwargs={'tool_calls': [{'index': 0, 'id': 'call_rb69VLCu7nXEMTJAdXZex1YV', 'function': {'arguments': '{}', 'name': 'get_yomap_service_categories'}, 'type': 'function'}]}, response_metadata={'finish_reason': 'tool_calls', 'model_name': 'gpt-3.5-turbo-0125'}, id='run-b366f183-d98d-4bec-97d3-3d77566c6a4d-0', tool_calls=[{'name': 'get_yomap_service_categories', 'args': {}, 'id': 'call_rb69VLCu7nXEMTJAdXZex1YV'}])}}\n",
      "------\n",
      "{'tools': {'messages': [{'content': '[\"cerrajeria\", \"piano\", \"asistente_virtual\", \"8_56_hierro\", \"assistant\", \"tutorias\", \"muebles\", \"transporte_de_alimentos\", \"carrozas\", \"plomero\", \"taxi\", \"tv\", \"ai\", \"musica\", \"depilacion\", \"llaves_perdidas\", \"mototaxi\", \"moda\", \"asistente\", \"indriver\", \"cerrajeria_automotriz\", \"musica\", \"nevera\", \"musico\", \"piano\", \"taxi\", \"ayuda\", \"aseo\", \"delivery\", \"paseo_de_aves\", \"vegetariano\", \"health_panama\", \"iphone\", \"fisioterapia\", \"nueva_salud\", \"costurera\", \"1\", \"albanil\", \"street_food\", \"masajes\", \"llaves_para_autos\", \"yomap\", \"moto\", \"uber\", \"delivery\", \"manos_y_pies\", \"marketing\", \"computadoras\", \"educacion\", \"desarrollo_de_software\", \"portuguese\", \"pizza\", \"pet_care\", \"health\", \"travel_agency\", \"transport\", \"psicopedagoga\", \"spa\", \"plantas\", \"paseo_de_perros\", \"smartphone\", \"food\", \"dog_sitting\", \"pets\", \"repair\", \"home\", \"misc\", \"user\"]', 'additional_kwargs': {}, 'response_metadata': {}, 'type': 'tool', 'name': 'get_yomap_service_categories', 'id': None, 'tool_call_id': 'call_rb69VLCu7nXEMTJAdXZex1YV'}]}}\n",
      "------\n",
      "{'assistant': {'messages': AIMessage(content='', additional_kwargs={'tool_calls': [{'index': 0, 'id': 'call_glnE3Pr91KSOy2guZMSzohDH', 'function': {'arguments': '{\"tag\":\"plomero\"}', 'name': 'get_service_provider_from_firebase'}, 'type': 'function'}]}, response_metadata={'finish_reason': 'tool_calls', 'model_name': 'gpt-3.5-turbo-0125'}, id='run-390fbc4e-68f0-4779-873a-201b72ac80bc-0', tool_calls=[{'name': 'get_service_provider_from_firebase', 'args': {'tag': 'plomero'}, 'id': 'call_glnE3Pr91KSOy2guZMSzohDH'}])}}\n",
      "------\n",
      "{'tools': {'messages': [{'content': '[]', 'additional_kwargs': {}, 'response_metadata': {}, 'type': 'tool', 'name': 'get_service_provider_from_firebase', 'id': None, 'tool_call_id': 'call_glnE3Pr91KSOy2guZMSzohDH'}]}}\n",
      "------\n",
      "{'assistant': {'messages': AIMessage(content='Lo siento, no se encontraron proveedores de servicios de plomería en este momento. ¿Hay algo más en lo que pueda ayudarte?', response_metadata={'finish_reason': 'stop', 'model_name': 'gpt-3.5-turbo-0125'}, id='run-b66c6f29-39fd-4e5e-a56b-e2e8f7eb4f7d-0')}}\n",
      "------\n",
      "AI: \n",
      "{'assistant': {'messages': AIMessage(content='', additional_kwargs={'tool_calls': [{'index': 0, 'id': 'call_7fJ9OGMkzVDUUpQHD0SpgCgL', 'function': {'arguments': '{\"tag\":\"spa\"}', 'name': 'get_service_provider_from_firebase'}, 'type': 'function'}]}, response_metadata={'finish_reason': 'tool_calls', 'model_name': 'gpt-3.5-turbo-0125'}, id='run-97faa194-45aa-48c7-8b40-7dfcb93373b8-0', tool_calls=[{'name': 'get_service_provider_from_firebase', 'args': {'tag': 'spa'}, 'id': 'call_7fJ9OGMkzVDUUpQHD0SpgCgL'}])}}\n",
      "------\n",
      "{'tools': {'messages': [{'content': '[\"Carolina\", \"Angela \", \"Emulator 66980917\"]', 'additional_kwargs': {}, 'response_metadata': {}, 'type': 'tool', 'name': 'get_service_provider_from_firebase', 'id': None, 'tool_call_id': 'call_7fJ9OGMkzVDUUpQHD0SpgCgL'}]}}\n",
      "------\n",
      "{'assistant': {'messages': AIMessage(content='He encontrado algunos proveedores de servicios relacionados con spa. Aquí están algunos de ellos:\\n1. Carolina\\n2. Angela\\n3. Emulator 66980917\\n\\n¿Te gustaría obtener más información sobre alguno de estos proveedores?', response_metadata={'finish_reason': 'stop', 'model_name': 'gpt-3.5-turbo-0125'}, id='run-d406f881-76bc-4442-b4b2-f9efc1aedce7-0')}}\n",
      "------\n",
      "AI: \n",
      "{'assistant': {'messages': AIMessage(content='', additional_kwargs={'tool_calls': [{'index': 0, 'id': 'call_Rm3oxCtEeH7wUkdOUJwjR3k6', 'function': {'arguments': '{}', 'name': 'get_yomap_service_categories'}, 'type': 'function'}]}, response_metadata={'finish_reason': 'tool_calls', 'model_name': 'gpt-3.5-turbo-0125'}, id='run-22cbee34-3f40-45bc-9345-b3c34aea5994-0', tool_calls=[{'name': 'get_yomap_service_categories', 'args': {}, 'id': 'call_Rm3oxCtEeH7wUkdOUJwjR3k6'}])}}\n",
      "------\n",
      "{'tools': {'messages': [{'content': '[\"cerrajeria\", \"piano\", \"asistente_virtual\", \"8_56_hierro\", \"assistant\", \"tutorias\", \"muebles\", \"transporte_de_alimentos\", \"carrozas\", \"plomero\", \"taxi\", \"tv\", \"ai\", \"musica\", \"depilacion\", \"llaves_perdidas\", \"mototaxi\", \"moda\", \"asistente\", \"indriver\", \"cerrajeria_automotriz\", \"musica\", \"nevera\", \"musico\", \"piano\", \"taxi\", \"ayuda\", \"aseo\", \"delivery\", \"paseo_de_aves\", \"vegetariano\", \"health_panama\", \"iphone\", \"fisioterapia\", \"nueva_salud\", \"costurera\", \"1\", \"albanil\", \"street_food\", \"masajes\", \"llaves_para_autos\", \"yomap\", \"moto\", \"uber\", \"delivery\", \"manos_y_pies\", \"marketing\", \"computadoras\", \"educacion\", \"desarrollo_de_software\", \"portuguese\", \"pizza\", \"pet_care\", \"health\", \"travel_agency\", \"transport\", \"psicopedagoga\", \"spa\", \"plantas\", \"paseo_de_perros\", \"smartphone\", \"food\", \"dog_sitting\", \"pets\", \"repair\", \"home\", \"misc\", \"user\"]', 'additional_kwargs': {}, 'response_metadata': {}, 'type': 'tool', 'name': 'get_yomap_service_categories', 'id': None, 'tool_call_id': 'call_Rm3oxCtEeH7wUkdOUJwjR3k6'}]}}\n",
      "------\n",
      "{'assistant': {'messages': AIMessage(content='', additional_kwargs={'tool_calls': [{'index': 0, 'id': 'call_9LTn6RhozXEzMkGuAxtCGrIU', 'function': {'arguments': '{\"tag\":\"home\"}', 'name': 'get_service_provider_from_firebase'}, 'type': 'function'}]}, response_metadata={'finish_reason': 'tool_calls', 'model_name': 'gpt-3.5-turbo-0125'}, id='run-2b9f97da-d77a-408f-b2c6-1ed9e438ea3c-0', tool_calls=[{'name': 'get_service_provider_from_firebase', 'args': {'tag': 'home'}, 'id': 'call_9LTn6RhozXEzMkGuAxtCGrIU'}])}}\n",
      "------\n",
      "{'tools': {'messages': [{'content': '[\"Akshdeep\", \"shankar\", \"joginder singh\", \"Harpreet Singh\", \"abhi\", \"Rutiner Dasheeri\", \"Navratan Singh \", \"Test user 63636363\", \"Kuldeep Singh \", \"Test Real Number Colombia\", \"Millycen Hurtado\"]', 'additional_kwargs': {}, 'response_metadata': {}, 'type': 'tool', 'name': 'get_service_provider_from_firebase', 'id': None, 'tool_call_id': 'call_9LTn6RhozXEzMkGuAxtCGrIU'}]}}\n",
      "------\n",
      "{'assistant': {'messages': AIMessage(content='I found some service providers who offer home services. Here are a few of them:\\n1. Akshdeep\\n2. Shankar\\n3. Joginder Singh\\n4. Harpreet Singh\\n5. Abhi\\n\\nIf you need more information about any specific provider, feel free to ask!', response_metadata={'finish_reason': 'stop', 'model_name': 'gpt-3.5-turbo-0125'}, id='run-10ea8e59-686b-4625-b0ef-42153255d42a-0')}}\n",
      "------\n",
      "AI: \n",
      "{'assistant': {'messages': AIMessage(content='¡De nada! ¿En qué puedo ayudarte hoy?', response_metadata={'finish_reason': 'stop', 'model_name': 'gpt-3.5-turbo-0125'}, id='run-1c5667fb-b00b-413f-96b9-91e33e3400a6-0')}}\n",
      "------\n",
      "AI: \n",
      "{'assistant': {'messages': AIMessage(content='La última solicitud que realizaste fue para obtener información sobre los proveedores de servicios basados en una etiqueta o nombre de categoría. ¿En qué puedo ayudarte esta vez?', response_metadata={'finish_reason': 'stop', 'model_name': 'gpt-3.5-turbo-0125'}, id='run-c2cdde2c-081c-45cb-aa11-e15b27530e1d-0')}}\n",
      "------\n",
      "AI: Bye bye human\n"
     ]
    }
   ],
   "source": [
    "chat_history = []\n",
    "\n",
    "while True:\n",
    "    human = input(\"Human (Q/q to quit): \")\n",
    "    if human in {\"q\", \"Q\"}:\n",
    "        print(\"AI: Bye bye human\")\n",
    "        break\n",
    "\n",
    "    ai = None\n",
    "    print(\"AI: \")\n",
    "    async for chunk in remote_runnable.astream(\n",
    "        input={\"messages\": [human]},\n",
    "        config={\"configurable\": {\"thread_id\": \"\", \"thread_ts\": \"string\"}},\n",
    "    ):\n",
    "        # Agent Action\n",
    "        if \"actions\" in chunk:\n",
    "            for action in chunk[\"actions\"]:\n",
    "                print(\n",
    "                    f\"Calling Tool ```{action['tool']}``` with input ```{action['tool_input']}```\"\n",
    "                )\n",
    "        # Observation\n",
    "        elif \"steps\" in chunk:\n",
    "            for step in chunk[\"steps\"]:\n",
    "                print(f\"Got result: ```{step['observation']}```\")\n",
    "        # Final result\n",
    "        elif \"output\" in chunk:\n",
    "            print(chunk)\n",
    "            ai = AIMessage(content=chunk[\"output\"])\n",
    "        else:\n",
    "            print(chunk)\n",
    "        print(\"------\")\n",
    "    chat_history.extend([HumanMessage(content=human), ai])"
   ]
  },
  {
   "cell_type": "code",
   "execution_count": null,
   "metadata": {},
   "outputs": [],
   "source": []
  },
  {
   "cell_type": "code",
   "execution_count": 43,
   "metadata": {},
   "outputs": [],
   "source": [
    "def _print_event(event: dict, _printed: set, max_length=1500):\n",
    "    current_state = event.get(\"dialog_state\")\n",
    "    if current_state:\n",
    "        print(\"Currently in: \", current_state[-1])\n",
    "    message = event.get(\"messages\")\n",
    "    if message:\n",
    "        if isinstance(message, list):\n",
    "            message = message[-1]\n",
    "        if message.id not in _printed:\n",
    "            msg_repr = message.pretty_repr(html=True)\n",
    "            if len(msg_repr) > max_length:\n",
    "                msg_repr = msg_repr[:max_length] + \" ... (truncated)\"\n",
    "            print(msg_repr)\n",
    "            _printed.add(message.id)"
   ]
  },
  {
   "cell_type": "code",
   "execution_count": 44,
   "metadata": {},
   "outputs": [],
   "source": [
    "_printed = set()"
   ]
  },
  {
   "cell_type": "code",
   "execution_count": 68,
   "metadata": {},
   "outputs": [
    {
     "name": "stdout",
     "output_type": "stream",
     "text": [
      "AI: \n",
      "¡Hola! ¿En qué puedo ayudarte hoy?\n",
      "AI: \n",
      "¡Hola! Para ayudarte a encontrar un servicio de fontanería que pueda solucionar el problema de tu salidero de agua, necesitaría saber en qué ubicación te encuentras. ¿Podrías proporcionarme la ciudad o el código postal donde necesitas este servicio de fontanería?\n",
      "AI: \n",
      "¡Hola! ¿En qué puedo ayudarte hoy?\n",
      "AI: \n",
      "\n",
      "I couldn't find any service providers under the tag \"Panam.\" Let me try searching for service categories related to \"Panam\" to see if we can find a better match.\n",
      "\n",
      "It seems there are no service providers listed under the category \"health_panama\" either. Let's try searching for service providers related to \"health\" to see if we can find relevant options.\n",
      "I found some service providers related to \"health\":\n",
      "\n",
      "1. Anita\n",
      "2. Ummed Ali\n",
      "\n",
      "If you need more information about any of these providers, feel free to ask!\n",
      "AI: \n",
      "\n",
      "No se encontró información sobre Anita en este momento. Permíteme intentar buscar de nuevo.\n",
      "No se encontraron proveedores de servicios relacionados con Anita. ¿Hay algo más en lo que pueda ayudarte?\n",
      "AI: \n",
      "\n",
      "Noel Xiaomi es un profesional apasionado de la tecnología, con 44 años de edad. Se especializa en la reparación de smartphones y computadoras. Su enfoque en estas áreas le permite ofrecer soluciones eficientes y de alta calidad. Noel se compromete a brindar un servicio profesional y amigable para garantizar la satisfacción de sus clientes. Su calificación promedio es de 4.5 y ha recibido un total de 4 reseñas. \n",
      "\n",
      "Dirección: XFJG+JM2, Calle San Lucas, Panamá, Provincia de Panamá, Panamá.\n",
      "\n",
      "![Imagen de perfil de Noel Xiaomi](Files/Users/qzRlQh52a3XOLJRqs7j4MDIxVI12/file_1701135102132-202547_681b884018232b7e84d1eac97d9dd16c.jpg) \n",
      "\n",
      "¿Hay algo más en lo que pueda ayudarte?\n",
      "AI: \n",
      "\n",
      "He encontrado algunos proveedores de servicios de spa para ti. Aquí están:\n",
      "\n",
      "1. Carolina\n",
      "2. Angela\n",
      "3. Emulator 66980917\n",
      "\n",
      "¿Te gustaría más información sobre alguno de ellos?\n",
      "AI: \n",
      "\n",
      "\n",
      "Lo siento, no se encontró información sobre un proveedor de servicios llamado Angela en este momento. ¿Hay algo más en lo que pueda ayudarte?\n",
      "AI: \n",
      "¡Hola! ¿En qué puedo ayudarte hoy?\n",
      "AI: \n",
      "\n",
      "\n",
      "Lo siento, no se encontró información sobre un proveedor de servicios llamado Angela en este momento. ¿Hay algo más en lo que pueda ayudarte?\n",
      "AI: \n",
      "\n",
      "Carolina is a 29-year-old female service provider specializing in spa services. She offers nails design and care, and she is an award-winning manicurist for weddings, shows, and movies. Carolina has an average rating of 4.5 based on 6 reviews. \n",
      "\n",
      "### About Carolina:\n",
      "- **Services:** Spa\n",
      "- **Address:** 3602, Nicanor de Obarrio O 4ta Sur, Panamá, Provincia de Panamá, Panamá\n",
      "- **Social Media:**\n",
      "  - [Tiktok](https://www.tiktok.com/@fisicamr/video/7304286339388804385)\n",
      "  - [Instagram](https://instagram.com/tendencia_unas?igshid=OGQ5ZDc2ODk2ZA==)\n",
      "  - [Facebook](https://m.facebook.com/spamanospty)\n",
      "- **Photo:** ![Carolina's Photo](Files/Users/kJxLOBl87FbWJhmVIOPac3bHSeY2/file_1720458441813-157994_Screenshot_2022-02-14-17-46-04-448_com.google.android.googlequicksearchbox.jpg)\n",
      "\n",
      "If you're interested in spa services, Carolina is the right choice!\n",
      "AI: \n",
      "\n",
      "Carolina tiene presencia en redes sociales. Puedes encontrarla en las siguientes plataformas:\n",
      "\n",
      "1. Tiktok: [Tiktok - Carolina](https://www.tiktok.com/@fisicamr/video/7304286339388804385)\n",
      "2. Instagram: [Instagram - Carolina](https://instagram.com/tendencia_unas?igshid=OGQ5ZDc2ODk2ZA==)\n",
      "3. Facebook: [Facebook - Carolina](https://m.facebook.com/spamanospty)\n",
      "\n",
      "¡No dudes en seguirla para estar al tanto de sus servicios y novedades!\n",
      "AI: \n",
      "¡Hola! ¿En qué puedo ayudarte hoy?\n",
      "AI: Bye bye human\n"
     ]
    }
   ],
   "source": [
    "chat_history = []\n",
    "\n",
    "while True:\n",
    "    human = input(\"Human (Q/q to quit): \")\n",
    "    if human in {\"q\", \"Q\"}:\n",
    "        print(\"AI: Bye bye human\")\n",
    "        break\n",
    "\n",
    "    ai = None\n",
    "    print(\"AI: \")\n",
    "    async for chunk in remote_runnable.astream(\n",
    "        input={\"messages\": [human]},\n",
    "        config={\"configurable\": {\"thread_id\": \"\", \"thread_ts\": \"string\"}},\n",
    "    ):\n",
    "        if \"assistant\" in chunk.keys():\n",
    "            print(chunk[\"assistant\"][\"messages\"].content)"
   ]
  },
  {
   "cell_type": "code",
   "execution_count": 67,
   "metadata": {},
   "outputs": [
    {
     "data": {
      "text/plain": [
       "'Akshdeep is a 15-year-old male service provider located in Sudan, Punjab, India. He specializes in home services. If you need assistance with home-related tasks, Akshdeep may be able to help.'"
      ]
     },
     "execution_count": 67,
     "metadata": {},
     "output_type": "execute_result"
    }
   ],
   "source": [
    "chunk[\"assistant\"][\"messages\"].content"
   ]
  }
 ],
 "metadata": {
  "kernelspec": {
   "display_name": "Python 3",
   "language": "python",
   "name": "python3"
  },
  "language_info": {
   "codemirror_mode": {
    "name": "ipython",
    "version": 3
   },
   "file_extension": ".py",
   "mimetype": "text/x-python",
   "name": "python",
   "nbconvert_exporter": "python",
   "pygments_lexer": "ipython3",
   "version": "3.11.9"
  }
 },
 "nbformat": 4,
 "nbformat_minor": 2
}
