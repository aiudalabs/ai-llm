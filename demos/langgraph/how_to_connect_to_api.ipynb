{
 "cells": [
  {
   "cell_type": "code",
   "execution_count": 6,
   "metadata": {},
   "outputs": [],
   "source": [
    "import requests\n",
    "\n",
    "inputs = {\n",
    "    \"input\": {\n",
    "        \"messages\": [\n",
    "            \"Como hacer un agente con Langgraph\"\n",
    "        ]\n",
    "    },\n",
    "    \"config\": {\n",
    "        \"configurable\": {\"thread_id\": \"\", \"thread_ts\": \"string\", \"user_name\": \"Noel\"}\n",
    "    },\n",
    "    \"kwargs\": {},\n",
    "}\n",
    "response = requests.post(\"http://localhost:8000/chat/invoke\", json=inputs)"
   ]
  },
  {
   "cell_type": "code",
   "execution_count": 7,
   "metadata": {},
   "outputs": [
    {
     "name": "stdout",
     "output_type": "stream",
     "text": [
      "Para crear un agente con Langgraph, primero necesitas registrarte en la plataforma y crear una cuenta. Una vez que hayas iniciado sesión, sigue estos pasos:\n",
      "\n",
      "1. Haz clic en \"Crear agente\" en la página principal de Langgraph.\n",
      "2. Ingresa el nombre de tu agente y selecciona el idioma en el que estará disponible.\n",
      "3. Define las habilidades y conocimientos que tendrá tu agente. Puedes agregar diferentes tipos de habilidades, como responder preguntas, realizar transacciones, etc.\n",
      "4. Configura las respuestas automáticas que dará tu agente a ciertas preguntas o comandos.\n",
      "5. Personaliza la apariencia de tu agente, como su nombre, imagen y colores.\n",
      "6. Prueba tu agente para asegurarte de que funcione correctamente.\n",
      "7. Publica tu agente para que esté disponible para interactuar con los usuarios.\n",
      "\n",
      "¡Listo! Ahora tienes un agente creado con Langgraph que puede ayudar a los usuarios a obtener respuestas a sus preguntas o realizar ciertas tareas de forma automatizada.\n"
     ]
    }
   ],
   "source": [
    "print(\n",
    "    response.json()[\"output\"][\"messages\"][\n",
    "        len(response.json()[\"output\"][\"messages\"]) - 1\n",
    "    ][\"content\"]\n",
    ")"
   ]
  },
  {
   "cell_type": "markdown",
   "metadata": {},
   "source": [
    "# Stream"
   ]
  },
  {
   "cell_type": "code",
   "execution_count": 17,
   "metadata": {},
   "outputs": [],
   "source": [
    "from langserve import RemoteRunnable\n",
    "from langchain_core.messages import HumanMessage, AIMessage\n",
    "\n",
    "remote_runnable = RemoteRunnable(\"http://localhost:8000/bot/\")"
   ]
  },
  {
   "cell_type": "code",
   "execution_count": 18,
   "metadata": {},
   "outputs": [
    {
     "name": "stdout",
     "output_type": "stream",
     "text": [
      "AI: \n",
      "{'assistant': {'messages': AIMessage(content='¡Hola! ¿En qué puedo ayudarte hoy?', response_metadata={'finish_reason': 'stop', 'model_name': 'gpt-3.5-turbo-0125'}, id='run-96ae05fe-7e66-4646-8a5e-3ce8ed665ec7-0')}}\n",
      "------\n",
      "AI: \n",
      "{'assistant': {'messages': AIMessage(content='', additional_kwargs={'tool_calls': [{'index': 0, 'id': 'call_mCIu7FGSr6nPAYkqWI8X0H9f', 'function': {'arguments': '{}', 'name': 'get_yomap_service_categories'}, 'type': 'function'}]}, response_metadata={'finish_reason': 'tool_calls', 'model_name': 'gpt-3.5-turbo-0125'}, id='run-71f2e6e6-7df9-4a7a-a670-e18cb52a0ea9-0', tool_calls=[{'name': 'get_yomap_service_categories', 'args': {}, 'id': 'call_mCIu7FGSr6nPAYkqWI8X0H9f'}])}}\n",
      "------\n",
      "{'tools': {'messages': [{'content': '[\"cerrajeria\", \"piano\", \"asistente_virtual\", \"8_56_hierro\", \"assistant\", \"tutorias\", \"muebles\", \"transporte_de_alimentos\", \"carrozas\", \"plomero\", \"taxi\", \"tv\", \"ai\", \"musica\", \"depilacion\", \"llaves_perdidas\", \"mototaxi\", \"moda\", \"asistente\", \"indriver\", \"cerrajeria_automotriz\", \"musica\", \"nevera\", \"musico\", \"piano\", \"taxi\", \"ayuda\", \"aseo\", \"delivery\", \"paseo_de_aves\", \"vegetariano\", \"health_panama\", \"iphone\", \"fisioterapia\", \"nueva_salud\", \"costurera\", \"1\", \"albanil\", \"street_food\", \"masajes\", \"llaves_para_autos\", \"yomap\", \"moto\", \"uber\", \"delivery\", \"manos_y_pies\", \"marketing\", \"computadoras\", \"educacion\", \"desarrollo_de_software\", \"portuguese\", \"pizza\", \"pet_care\", \"health\", \"travel_agency\", \"transport\", \"psicopedagoga\", \"spa\", \"plantas\", \"paseo_de_perros\", \"smartphone\", \"food\", \"dog_sitting\", \"pets\", \"repair\", \"home\", \"misc\", \"user\"]', 'additional_kwargs': {}, 'response_metadata': {}, 'type': 'tool', 'name': 'get_yomap_service_categories', 'id': None, 'tool_call_id': 'call_mCIu7FGSr6nPAYkqWI8X0H9f'}]}}\n",
      "------\n",
      "{'assistant': {'messages': AIMessage(content='', additional_kwargs={'tool_calls': [{'index': 0, 'id': 'call_qhnvqHQdF3ZyqBTCZDFe2NOf', 'function': {'arguments': '{\"tag\":\"plomero\"}', 'name': 'get_service_provider_from_firebase'}, 'type': 'function'}]}, response_metadata={'finish_reason': 'tool_calls', 'model_name': 'gpt-3.5-turbo-0125'}, id='run-ccc6eade-a45b-4a13-8301-7c7ed06021bd-0', tool_calls=[{'name': 'get_service_provider_from_firebase', 'args': {'tag': 'plomero'}, 'id': 'call_qhnvqHQdF3ZyqBTCZDFe2NOf'}])}}\n",
      "------\n",
      "{'tools': {'messages': [{'content': '[]', 'additional_kwargs': {}, 'response_metadata': {}, 'type': 'tool', 'name': 'get_service_provider_from_firebase', 'id': None, 'tool_call_id': 'call_qhnvqHQdF3ZyqBTCZDFe2NOf'}]}}\n",
      "------\n",
      "{'assistant': {'messages': AIMessage(content='No se encontraron proveedores de servicios de plomería en este momento. ¿Te gustaría buscar un servicio similar o en otra categoría?', response_metadata={'finish_reason': 'stop', 'model_name': 'gpt-3.5-turbo-0125'}, id='run-3656a935-c849-4c97-b86a-fb89a1997ca3-0')}}\n",
      "------\n",
      "AI: \n",
      "{'assistant': {'messages': AIMessage(content='¿Estás buscando un servicio en particular? Por favor, dime qué tipo de servicio necesitas para poder ayudarte a encontrar un proveedor adecuado.', response_metadata={'finish_reason': 'stop', 'model_name': 'gpt-3.5-turbo-0125'}, id='run-844256ff-780c-45d8-85a1-400524deeb28-0')}}\n",
      "------\n",
      "AI: \n",
      "{'assistant': {'messages': AIMessage(content='', additional_kwargs={'tool_calls': [{'index': 0, 'id': 'call_GSCdE2kvGGfTBjh1FX3yegFc', 'function': {'arguments': '{\"tag\":\"spa\"}', 'name': 'get_service_provider_from_firebase'}, 'type': 'function'}]}, response_metadata={'finish_reason': 'tool_calls', 'model_name': 'gpt-3.5-turbo-0125'}, id='run-d16266db-c58f-4344-9eab-ce80d31ce644-0', tool_calls=[{'name': 'get_service_provider_from_firebase', 'args': {'tag': 'spa'}, 'id': 'call_GSCdE2kvGGfTBjh1FX3yegFc'}])}}\n",
      "------\n",
      "{'tools': {'messages': [{'content': '[\"Carolina\", \"Angela \", \"Emulator 66980917\"]', 'additional_kwargs': {}, 'response_metadata': {}, 'type': 'tool', 'name': 'get_service_provider_from_firebase', 'id': None, 'tool_call_id': 'call_GSCdE2kvGGfTBjh1FX3yegFc'}]}}\n",
      "------\n",
      "{'assistant': {'messages': AIMessage(content='I found some spa service providers for you:\\n1. Carolina\\n2. Angela\\n3. Emulator 66980917\\n\\nIs there a specific provider you would like to know more about?', response_metadata={'finish_reason': 'stop', 'model_name': 'gpt-3.5-turbo-0125'}, id='run-4154e39d-fad6-4242-9e98-2db316cba9d5-0')}}\n",
      "------\n",
      "AI: \n",
      "{'assistant': {'messages': AIMessage(content='', additional_kwargs={'tool_calls': [{'index': 0, 'id': 'call_yLSPHg7bzvQ9h266LsByH0Fn', 'function': {'arguments': '{\"name\":\"Carolina\"}', 'name': 'get_profile_info_from_firebase'}, 'type': 'function'}]}, response_metadata={'finish_reason': 'tool_calls', 'model_name': 'gpt-3.5-turbo-0125'}, id='run-c381eef4-7260-4bf4-a72a-bd5543d6cd4f-0', tool_calls=[{'name': 'get_profile_info_from_firebase', 'args': {'name': 'Carolina'}, 'id': 'call_yLSPHg7bzvQ9h266LsByH0Fn'}])}}\n",
      "------\n",
      "{'tools': {'messages': [{'content': '{\"age\": \"29\", \"realTimeLocEnabled\": false, \"displayName\": \"Carolina\", \"tags\": [{\"text\": \"spa\", \"weight\": 0, \"id\": \"jNDxsch7qIDIubx39R1K\", \"usedBy\": 0, \"parentSlug\": \"\", \"parentId\": \"\", \"slug\": \"spa\"}, {\"text\": \"manos_y_pies\", \"weight\": 0, \"id\": \"NjIAAjPlxDpQFsTTlHvp\", \"usedBy\": 1, \"parentSlug\": \"spa\", \"parentId\": \"jNDxsch7qIDIubx39R1K\", \"slug\": \"manos_y_pies\"}, {\"text\": \"depilacion\", \"weight\": 0, \"id\": \"KENplKSXBIS9D6K4I2g0\", \"usedBy\": 0, \"parentSlug\": \"spa\", \"parentId\": \"jNDxsch7qIDIubx39R1K\", \"slug\": \"depilacion\"}], \"network\": [\"SWnS77x57jRDQ7UnFhpz\", \"ZXeLeERP2v9n3HEMCL6c\"], \"avgRating\": 4.5, \"about\": \"nails design and care . artista manicura:  bodas, shows, pellculas. Premiada\", \"socialNetworks\": [{\"url\": \"https://www.tiktok.com/@fisicamr/video/7304286339388804385\", \"name\": \"Tiktok\"}, {\"url\": \"https://instagram.com/tendencia_unas?igshid=OGQ5ZDc2ODk2ZA==\", \"name\": \"Instagram\"}, {\"url\": \"https://m.facebook.com/spamanospty\", \"name\": \"Facebook\"}], \"userId\": \"kJxLOBl87FbWJhmVIOPac3bHSeY2\", \"blockedProfiles\": [], \"service\": {\"text\": \"spa\", \"weight\": 0, \"id\": \"jNDxsch7qIDIubx39R1K\", \"usedBy\": 0, \"parentSlug\": \"\", \"parentId\": \"\", \"slug\": \"spa\"}, \"address\": \"3602, Nicanor de Obarrio O 4ta Sur, Panam\\\\u00e1, Provincia de Panam\\\\u00e1, Panam\\\\u00e1\", \"gender\": \"female\", \"totalReviews\": 6, \"location\": {\"lat\": 8.9790422, \"long\": -79.5279649}, \"photo\": \"Files/Users/kJxLOBl87FbWJhmVIOPac3bHSeY2/file_1720458441813-157994_Screenshot_2022-02-14-17-46-04-448_com.google.android.googlequicksearchbox.jpg\"}', 'additional_kwargs': {}, 'response_metadata': {}, 'type': 'tool', 'name': 'get_profile_info_from_firebase', 'id': None, 'tool_call_id': 'call_yLSPHg7bzvQ9h266LsByH0Fn'}]}}\n",
      "------\n",
      "{'assistant': {'messages': AIMessage(content='Carolina tiene redes sociales. Puedes encontrarla en:\\n\\n- Tiktok: [Tiktok](https://www.tiktok.com/@fisicamr/video/7304286339388804385)\\n- Instagram: [Instagram](https://instagram.com/tendencia_unas?igshid=OGQ5ZDc2ODk2ZA==)\\n- Facebook: [Facebook](https://m.facebook.com/spamanospty)', response_metadata={'finish_reason': 'stop', 'model_name': 'gpt-3.5-turbo-0125'}, id='run-99fd847f-315b-41f0-be7b-4932eba037eb-0')}}\n",
      "------\n",
      "AI: \n",
      "{'assistant': {'messages': AIMessage(content='¡Hola! ¿En qué puedo ayudarte hoy?', response_metadata={'finish_reason': 'stop', 'model_name': 'gpt-3.5-turbo-0125'}, id='run-483940dd-fc31-4348-9a07-59d07ce40ae4-0')}}\n",
      "------\n",
      "AI: Bye bye human\n"
     ]
    }
   ],
   "source": [
    "chat_history = []\n",
    "\n",
    "while True:\n",
    "    human = input(\"Human (Q/q to quit): \")\n",
    "    if human in {\"q\", \"Q\"}:\n",
    "        print(\"AI: Bye bye human\")\n",
    "        break\n",
    "\n",
    "    ai = None\n",
    "    print(\"AI: \")\n",
    "    async for chunk in remote_runnable.astream(\n",
    "        input={\"messages\": [human]},\n",
    "        config={\n",
    "            \"configurable\": {\n",
    "                \"thread_id\": \"\",\n",
    "                \"thread_ts\": \"string\",\n",
    "                \"user_name\": \"Noel\",\n",
    "            }\n",
    "        },\n",
    "    ):\n",
    "        # Agent Action\n",
    "        if \"actions\" in chunk:\n",
    "            for action in chunk[\"actions\"]:\n",
    "                print(\n",
    "                    f\"Calling Tool ```{action['tool']}``` with input ```{action['tool_input']}```\"\n",
    "                )\n",
    "        # Observation\n",
    "        elif \"steps\" in chunk:\n",
    "            for step in chunk[\"steps\"]:\n",
    "                print(f\"Got result: ```{step['observation']}```\")\n",
    "        # Final result\n",
    "        elif \"output\" in chunk:\n",
    "            print(chunk)\n",
    "            ai = AIMessage(content=chunk[\"output\"])\n",
    "        else:\n",
    "            print(chunk)\n",
    "        print(\"------\")\n",
    "    chat_history.extend([HumanMessage(content=human), ai])"
   ]
  },
  {
   "cell_type": "code",
   "execution_count": null,
   "metadata": {},
   "outputs": [],
   "source": []
  },
  {
   "cell_type": "code",
   "execution_count": 43,
   "metadata": {},
   "outputs": [],
   "source": [
    "def _print_event(event: dict, _printed: set, max_length=1500):\n",
    "    current_state = event.get(\"dialog_state\")\n",
    "    if current_state:\n",
    "        print(\"Currently in: \", current_state[-1])\n",
    "    message = event.get(\"messages\")\n",
    "    if message:\n",
    "        if isinstance(message, list):\n",
    "            message = message[-1]\n",
    "        if message.id not in _printed:\n",
    "            msg_repr = message.pretty_repr(html=True)\n",
    "            if len(msg_repr) > max_length:\n",
    "                msg_repr = msg_repr[:max_length] + \" ... (truncated)\"\n",
    "            print(msg_repr)\n",
    "            _printed.add(message.id)"
   ]
  },
  {
   "cell_type": "code",
   "execution_count": 44,
   "metadata": {},
   "outputs": [],
   "source": [
    "_printed = set()"
   ]
  },
  {
   "cell_type": "code",
   "execution_count": 73,
   "metadata": {},
   "outputs": [
    {
     "name": "stdout",
     "output_type": "stream",
     "text": [
      "AI: \n",
      "¡Hola! ¿En qué puedo ayudarte hoy?\n",
      "AI: \n",
      "\n",
      "\n",
      "Lo siento, parece que no pude recuperar la información de los dos primeros proveedores de servicios spa. ¿Te gustaría que intente buscar más proveedores de spa para mostrarte su información?\n",
      "AI: \n",
      "\n",
      "Carolina es una artista de manicura premiada que se especializa en diseño y cuidado de uñas. Aquí tienes más información sobre ella:\n",
      "\n",
      "- Edad: 29\n",
      "- Género: Femenino\n",
      "- Promedio de valoraciones: 4.5\n",
      "- Servicio: Spa\n",
      "- Dirección: 3602, Nicanor de Obarrio O 4ta Sur, Panamá, Provincia de Panamá, Panamá\n",
      "- Acerca de ella: Nails design and care. Artista manicura: bodas, shows, películas.\n",
      "- Redes sociales:\n",
      "  - [Tiktok](https://www.tiktok.com/@fisicamr/video/7304286339388804385)\n",
      "  - [Instagram](https://instagram.com/tendencia_unas?igshid=OGQ5ZDc2ODk2ZA==)\n",
      "  - [Facebook](https://m.facebook.com/spamanospty)\n",
      "\n",
      "¡Si necesitas más información o ayuda con algo más, házmelo saber!\n",
      "AI: \n",
      "\n",
      "\n",
      "Los servicios para el hogar disponibles en YoMap incluyen proveedores como Akshdeep, Shankar, Joginder Singh, Harpreet Singh, Abhi, Rutiner Dasheeri, Navratan Singh, Kuldeep Singh, Millycen Hurtado, entre otros. ¿Hay algo específico en lo que necesitas ayuda en tu hogar?\n",
      "AI: \n",
      "\n",
      "\n",
      "\n",
      "He encontrado un proveedor de servicios al hogar llamado Akshdeep. Aquí tienes su información:\n",
      "- Nombre: Akshdeep\n",
      "- Edad: 15 años\n",
      "- Género: Masculino\n",
      "- Dirección: 32WC+X3W, 32WC+X3W, Sudan, Punjab, India\n",
      "- Ubicación: Latitud 31.0978, Longitud 75.0192061\n",
      "\n",
      "Si necesitas más información o deseas buscar otro proveedor de servicios, házmelo saber.\n",
      "AI: Bye bye human\n"
     ]
    }
   ],
   "source": [
    "chat_history = []\n",
    "\n",
    "while True:\n",
    "    human = input(\"Human (Q/q to quit): \")\n",
    "    if human in {\"q\", \"Q\"}:\n",
    "        print(\"AI: Bye bye human\")\n",
    "        break\n",
    "\n",
    "    ai = None\n",
    "    print(\"AI: \")\n",
    "    async for chunk in remote_runnable.astream(\n",
    "        input={\"messages\": [human]},\n",
    "        config={\"configurable\": {\"thread_id\": \"\", \"thread_ts\": \"string\"}},\n",
    "    ):\n",
    "        if \"assistant\" in chunk.keys():\n",
    "            print(chunk[\"assistant\"][\"messages\"].content)"
   ]
  },
  {
   "cell_type": "code",
   "execution_count": 67,
   "metadata": {},
   "outputs": [
    {
     "data": {
      "text/plain": [
       "'Akshdeep is a 15-year-old male service provider located in Sudan, Punjab, India. He specializes in home services. If you need assistance with home-related tasks, Akshdeep may be able to help.'"
      ]
     },
     "execution_count": 67,
     "metadata": {},
     "output_type": "execute_result"
    }
   ],
   "source": [
    "chunk[\"assistant\"][\"messages\"].content"
   ]
  }
 ],
 "metadata": {
  "kernelspec": {
   "display_name": "yomap",
   "language": "python",
   "name": "python3"
  },
  "language_info": {
   "codemirror_mode": {
    "name": "ipython",
    "version": 3
   },
   "file_extension": ".py",
   "mimetype": "text/x-python",
   "name": "python",
   "nbconvert_exporter": "python",
   "pygments_lexer": "ipython3",
   "version": "3.10.0"
  }
 },
 "nbformat": 4,
 "nbformat_minor": 2
}
