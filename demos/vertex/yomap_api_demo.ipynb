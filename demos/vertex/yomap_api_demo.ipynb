{
 "cells": [
  {
   "cell_type": "code",
   "execution_count": 1,
   "metadata": {},
   "outputs": [],
   "source": [
    "# Copyright 2024 Google LLC\n",
    "#\n",
    "# Licensed under the Apache License, Version 2.0 (the \"License\");\n",
    "# you may not use this file except in compliance with the License.\n",
    "# You may obtain a copy of the License at\n",
    "#\n",
    "#    https://www.apache.org/licenses/LICENSE-2.0\n",
    "#\n",
    "# Unless required by applicable law or agreed to in writing, software\n",
    "# distributed under the License is distributed on an \"AS IS\" BASIS,\n",
    "# WITHOUT WARRANTIES OR CONDITIONS OF ANY KIND, either express or implied.\n",
    "# See the License for the specific language governing permissions and\n",
    "# limitations under the License.\n",
    "\n",
    "\"\"\"A Flask app that uses Vertex AI and Nominatim to get address coordinates.\n",
    "\n",
    "This app takes an address as input and uses the Vertex AI Gemini model to\n",
    "extract relevant location information. It then uses the Nominatim API to\n",
    "retrieve the coordinates for the address.\n",
    "\"\"\"\n",
    "\n",
    "import json\n",
    "import logging\n",
    "import os\n",
    "\n",
    "from flask import Flask, render_template, request\n",
    "import requests\n",
    "import vertexai\n",
    "from vertexai.generative_models import (\n",
    "    FunctionDeclaration,\n",
    "    GenerationConfig,\n",
    "    GenerativeModel,\n",
    "    Tool,\n",
    "    Part,\n",
    ")\n",
    "\n",
    "import firebase_admin\n",
    "from firebase_admin import credentials\n",
    "from firebase_admin import firestore\n",
    "\n",
    "# Use a service account.\n",
    "cred = credentials.Certificate(\"goblob-95e2a-0e1184d35308.json\")\n",
    "\n",
    "app = firebase_admin.initialize_app(cred)\n",
    "\n",
    "db = firestore.client()\n",
    "\n",
    "PROJECT_ID = \"goblob-95e2a\"\n",
    "\n",
    "vertexai.init(\n",
    "    project=PROJECT_ID,\n",
    "    location=\"us-central1\",\n",
    "    staging_bucket=\"gs://aiuda-docs\",\n",
    ")\n",
    "\n",
    "logger = logging.getLogger(__name__)\n",
    "\n",
    "get_service_categories = FunctionDeclaration(\n",
    "    name=\"get_service_categories\",\n",
    "    description=\"Get service categories from the database\",\n",
    "    parameters={\n",
    "        \"type\": \"object\",\n",
    "        \"properties\": {},\n",
    "    },\n",
    ")\n",
    "\n",
    "get_service_provider = FunctionDeclaration(\n",
    "    name=\"get_service_provider\",\n",
    "    description=\"Get service providers based on the tags\",\n",
    "    parameters={\n",
    "        \"type\": \"object\",\n",
    "        \"properties\": {\n",
    "            \"tag\": {\n",
    "                \"type\": \"string\",\n",
    "                \"description\": \"the category of the service the user is looking for\",\n",
    "            }\n",
    "        },\n",
    "    },\n",
    ")\n",
    "\n",
    "get_profile_info = FunctionDeclaration(\n",
    "    name=\"get_profile_info\",\n",
    "    description=\"Get profile info based on the name\",\n",
    "    parameters={\n",
    "        \"type\": \"object\",\n",
    "        \"properties\": {\n",
    "            \"name\": {\n",
    "                \"type\": \"string\",\n",
    "                \"description\": \"the name of the service provider\",\n",
    "            }\n",
    "        },\n",
    "    },\n",
    ")\n",
    "\n",
    "yomap_tool = Tool(\n",
    "    function_declarations=[\n",
    "        get_service_categories,\n",
    "        get_service_provider,\n",
    "        get_profile_info,\n",
    "    ],\n",
    ")\n",
    "\n",
    "\n",
    "# Functions implementation\n",
    "def get_service_categories_from_firebase():\n",
    "    tags_ref = (\n",
    "        db.collection(\"tags\")\n",
    "        # .where(filter=FieldFilter(\"active\", \"==\", True))\n",
    "        # .where(filter=FieldFilter(\"rating\", \">=\", 3))\n",
    "    )\n",
    "    docs = tags_ref.stream()\n",
    "\n",
    "    tags = []\n",
    "    for doc in docs:\n",
    "        if \"text\" in doc.to_dict().keys():\n",
    "            tags.append(doc.to_dict()[\"text\"])\n",
    "    return tags\n",
    "\n",
    "\n",
    "def get_service_provider_from_firebase(tag: str):\n",
    "    profile = db.collection(\"profiles\")\n",
    "    print(tag)\n",
    "    docs = profile.where(\"service.text\", \"==\", tag[\"tag\"]).get()\n",
    "    return [doc.to_dict()[\"displayName\"] for doc in docs]\n",
    "\n",
    "\n",
    "def get_profile_info_from_firebase(name: str):\n",
    "    print(name[\"name\"])\n",
    "    profile = db.collection(\"profiles\")\n",
    "\n",
    "    docs = profile.where(\"displayName\", \"==\", name[\"name\"]).get()\n",
    "\n",
    "    user_profile = docs[0].to_dict()\n",
    "\n",
    "    user_profile[\"location\"] = {\n",
    "        \"lat\": docs[0].to_dict()[\"location\"].latitude,\n",
    "        \"long\": docs[0].to_dict()[\"location\"].longitude,\n",
    "    }\n",
    "\n",
    "    return user_profile\n",
    "\n",
    "\n",
    "function_handler = {\n",
    "    \"get_service_categories\": get_service_categories_from_firebase,\n",
    "    \"get_service_provider\": get_service_provider_from_firebase,\n",
    "    \"get_profile_info\": get_profile_info_from_firebase,\n",
    "}\n",
    "\n",
    "gemini_model = GenerativeModel(\n",
    "    \"gemini-1.5-pro-001\",\n",
    "    generation_config=GenerationConfig(temperature=0),\n",
    "    tools=[yomap_tool],\n",
    ")"
   ]
  },
  {
   "cell_type": "code",
   "execution_count": 2,
   "metadata": {},
   "outputs": [],
   "source": [
    "from IPython.display import display, Markdown"
   ]
  },
  {
   "cell_type": "code",
   "execution_count": 3,
   "metadata": {},
   "outputs": [],
   "source": [
    "response = gemini_model.generate_content(\n",
    "    \"Eres un asistente que responde cualquier pregunta que te hagan los usuarios. \"\n",
    "    \"Si la pregunta esta relacionada con alguna de las tools disponibles, usa siempre la tool primero. \"\n",
    "    \"Caso contrario puedes responder usando tu propia informacion. \"\n",
    "    \" Reponde la siguiente pregunta en no mas de 50 palabras de ser posible:\"\n",
    "    + \"busca info de Noel 2\"\n",
    ")"
   ]
  },
  {
   "cell_type": "code",
   "execution_count": 4,
   "metadata": {},
   "outputs": [],
   "source": [
    "chat = gemini_model.start_chat()"
   ]
  },
  {
   "cell_type": "code",
   "execution_count": 5,
   "metadata": {},
   "outputs": [
    {
     "data": {
      "text/markdown": [
       "#### Predicted function name"
      ],
      "text/plain": [
       "<IPython.core.display.Markdown object>"
      ]
     },
     "metadata": {},
     "output_type": "display_data"
    },
    {
     "name": "stdout",
     "output_type": "stream",
     "text": [
      "get_profile_info \n",
      "\n"
     ]
    },
    {
     "data": {
      "text/markdown": [
       "#### Predicted function parameters"
      ],
      "text/plain": [
       "<IPython.core.display.Markdown object>"
      ]
     },
     "metadata": {},
     "output_type": "display_data"
    },
    {
     "name": "stdout",
     "output_type": "stream",
     "text": [
      "{'name': 'Noel 2'} \n",
      "\n",
      "Noel 2\n"
     ]
    },
    {
     "name": "stderr",
     "output_type": "stream",
     "text": [
      "/home/nmlemus/projects/ai-llm/.conda/lib/python3.11/site-packages/google/cloud/firestore_v1/base_collection.py:302: UserWarning: Detected filter using positional arguments. Prefer using the 'filter' keyword argument instead.\n",
      "  return query.where(field_path, op_string, value)\n"
     ]
    },
    {
     "ename": "TypeError",
     "evalue": "unhashable type: 'slice'",
     "output_type": "error",
     "traceback": [
      "\u001b[0;31m---------------------------------------------------------------------------\u001b[0m",
      "\u001b[0;31mTypeError\u001b[0m                                 Traceback (most recent call last)",
      "Cell \u001b[0;32mIn[5], line 25\u001b[0m\n\u001b[1;32m     22\u001b[0m     \u001b[38;5;28mprint\u001b[39m(params, \u001b[38;5;124m\"\u001b[39m\u001b[38;5;130;01m\\n\u001b[39;00m\u001b[38;5;124m\"\u001b[39m)\n\u001b[1;32m     24\u001b[0m     \u001b[38;5;66;03m# Invoke a function that calls an external API\u001b[39;00m\n\u001b[0;32m---> 25\u001b[0m     function_api_response \u001b[38;5;241m=\u001b[39m \u001b[43mfunction_handler\u001b[49m\u001b[43m[\u001b[49m\u001b[43mfunction_name\u001b[49m\u001b[43m]\u001b[49m\u001b[43m(\u001b[49m\u001b[43mparams\u001b[49m\u001b[43m)\u001b[49m\u001b[43m[\u001b[49m\n\u001b[1;32m     26\u001b[0m \u001b[43m        \u001b[49m\u001b[43m:\u001b[49m\u001b[38;5;241;43m20000\u001b[39;49m\n\u001b[1;32m     27\u001b[0m \u001b[43m    \u001b[49m\u001b[43m]\u001b[49m  \u001b[38;5;66;03m# Stay within the input token limit\u001b[39;00m\n\u001b[1;32m     28\u001b[0m     \u001b[38;5;66;03m# display(Markdown(\"#### API response\"))\u001b[39;00m\n\u001b[1;32m     29\u001b[0m     \u001b[38;5;66;03m# print(function_api_response[:500], \"...\", \"\\n\")\u001b[39;00m\n\u001b[1;32m     30\u001b[0m \n\u001b[1;32m     31\u001b[0m \u001b[38;5;66;03m# Send the API response back to Gemini, which will generate a natural language summary or another function call\u001b[39;00m\n\u001b[1;32m     32\u001b[0m response \u001b[38;5;241m=\u001b[39m chat\u001b[38;5;241m.\u001b[39msend_message(\n\u001b[1;32m     33\u001b[0m     Part\u001b[38;5;241m.\u001b[39mfrom_function_response(\n\u001b[1;32m     34\u001b[0m         name\u001b[38;5;241m=\u001b[39mfunction_name,\n\u001b[1;32m     35\u001b[0m         response\u001b[38;5;241m=\u001b[39m{\u001b[38;5;124m\"\u001b[39m\u001b[38;5;124mcontent\u001b[39m\u001b[38;5;124m\"\u001b[39m: function_api_response},\n\u001b[1;32m     36\u001b[0m     ),\n\u001b[1;32m     37\u001b[0m )\n",
      "\u001b[0;31mTypeError\u001b[0m: unhashable type: 'slice'"
     ]
    }
   ],
   "source": [
    "function_call = response.candidates[0].content.parts[0].function_call\n",
    "\n",
    "# Check for a function call or a natural language response\n",
    "if function_call.name in function_handler.keys():\n",
    "    # Extract the function call\n",
    "    function_call = response.candidates[0].content.parts[0].function_call\n",
    "\n",
    "    # Extract the function call name\n",
    "    function_name = function_call.name\n",
    "    display(Markdown(\"#### Predicted function name\"))\n",
    "    print(function_name, \"\\n\")\n",
    "\n",
    "    if function_name == \"get_service_categories\":\n",
    "        # Invoke a function that calls an external API\n",
    "        function_api_response = function_handler[function_name]()\n",
    "        display(Markdown(\"#### API response\"))\n",
    "        print(function_api_response[:500], \"...\", \"\\n\")\n",
    "    else:\n",
    "        # Extract the function call parameters\n",
    "        params = {key: value for key, value in function_call.args.items()}\n",
    "        display(Markdown(\"#### Predicted function parameters\"))\n",
    "        print(params, \"\\n\")\n",
    "\n",
    "        # Invoke a function that calls an external API\n",
    "        function_api_response = function_handler[function_name](params)[\n",
    "            :20000\n",
    "        ]  # Stay within the input token limit\n",
    "        # display(Markdown(\"#### API response\"))\n",
    "        # print(function_api_response[:500], \"...\", \"\\n\")\n",
    "\n",
    "    # Send the API response back to Gemini, which will generate a natural language summary or another function call\n",
    "    response = chat.send_message(\n",
    "        Part.from_function_response(\n",
    "            name=function_name,\n",
    "            response={\"content\": function_api_response},\n",
    "        ),\n",
    "    )\n",
    "else:\n",
    "    function_calling_in_process = False\n",
    "\n",
    "# Show the final natural language summary\n",
    "display(Markdown(\"#### Natural language response\"))\n",
    "display(Markdown(response.text.replace(\"$\", \"\\\\\\$\")))"
   ]
  },
  {
   "cell_type": "code",
   "execution_count": 19,
   "metadata": {},
   "outputs": [
    {
     "ename": "NameError",
     "evalue": "name 'function_calling_in_process' is not defined",
     "output_type": "error",
     "traceback": [
      "\u001b[0;31m---------------------------------------------------------------------------\u001b[0m",
      "\u001b[0;31mNameError\u001b[0m                                 Traceback (most recent call last)",
      "Cell \u001b[0;32mIn[19], line 1\u001b[0m\n\u001b[0;32m----> 1\u001b[0m \u001b[43mfunction_calling_in_process\u001b[49m\n",
      "\u001b[0;31mNameError\u001b[0m: name 'function_calling_in_process' is not defined"
     ]
    }
   ],
   "source": []
  },
  {
   "cell_type": "code",
   "execution_count": 20,
   "metadata": {},
   "outputs": [
    {
     "data": {
      "text/plain": [
       "candidates {\n",
       "  content {\n",
       "    role: \"model\"\n",
       "    parts {\n",
       "      function_call {\n",
       "        name: \"get_service_categories\"\n",
       "        args {\n",
       "        }\n",
       "      }\n",
       "    }\n",
       "  }\n",
       "  finish_reason: STOP\n",
       "  safety_ratings {\n",
       "    category: HARM_CATEGORY_HATE_SPEECH\n",
       "    probability: NEGLIGIBLE\n",
       "    probability_score: 0.0772387832\n",
       "    severity: HARM_SEVERITY_NEGLIGIBLE\n",
       "    severity_score: 0.0703038499\n",
       "  }\n",
       "  safety_ratings {\n",
       "    category: HARM_CATEGORY_DANGEROUS_CONTENT\n",
       "    probability: NEGLIGIBLE\n",
       "    probability_score: 0.147924066\n",
       "    severity: HARM_SEVERITY_LOW\n",
       "    severity_score: 0.227641\n",
       "  }\n",
       "  safety_ratings {\n",
       "    category: HARM_CATEGORY_HARASSMENT\n",
       "    probability: NEGLIGIBLE\n",
       "    probability_score: 0.10557884\n",
       "    severity: HARM_SEVERITY_NEGLIGIBLE\n",
       "    severity_score: 0.0484059565\n",
       "  }\n",
       "  safety_ratings {\n",
       "    category: HARM_CATEGORY_SEXUALLY_EXPLICIT\n",
       "    probability: NEGLIGIBLE\n",
       "    probability_score: 0.0881900415\n",
       "    severity: HARM_SEVERITY_NEGLIGIBLE\n",
       "    severity_score: 0.0455220081\n",
       "  }\n",
       "}\n",
       "usage_metadata {\n",
       "  prompt_token_count: 64\n",
       "  candidates_token_count: 5\n",
       "  total_token_count: 69\n",
       "}"
      ]
     },
     "execution_count": 20,
     "metadata": {},
     "output_type": "execute_result"
    }
   ],
   "source": [
    "chat.send_message(\"Cuales son las categorias de la base de datos?\")"
   ]
  },
  {
   "cell_type": "code",
   "execution_count": 26,
   "metadata": {},
   "outputs": [
    {
     "data": {
      "text/plain": [
       "{'name': 'Noel 2'}"
      ]
     },
     "execution_count": 26,
     "metadata": {},
     "output_type": "execute_result"
    }
   ],
   "source": [
    "params = {key: value for key, value in function_call.args.items()}\n",
    "params"
   ]
  },
  {
   "cell_type": "code",
   "execution_count": 22,
   "metadata": {},
   "outputs": [
    {
     "data": {
      "text/plain": [
       "candidates {\n",
       "  content {\n",
       "    role: \"model\"\n",
       "    parts {\n",
       "      function_call {\n",
       "        name: \"get_profile_info\"\n",
       "        args {\n",
       "          fields {\n",
       "            key: \"name\"\n",
       "            value {\n",
       "              string_value: \"Noel 2\"\n",
       "            }\n",
       "          }\n",
       "        }\n",
       "      }\n",
       "    }\n",
       "  }\n",
       "  finish_reason: STOP\n",
       "  safety_ratings {\n",
       "    category: HARM_CATEGORY_HATE_SPEECH\n",
       "    probability: NEGLIGIBLE\n",
       "    probability_score: 0.0963651091\n",
       "    severity: HARM_SEVERITY_NEGLIGIBLE\n",
       "    severity_score: 0.056966383\n",
       "  }\n",
       "  safety_ratings {\n",
       "    category: HARM_CATEGORY_DANGEROUS_CONTENT\n",
       "    probability: NEGLIGIBLE\n",
       "    probability_score: 0.242205635\n",
       "    severity: HARM_SEVERITY_LOW\n",
       "    severity_score: 0.217005476\n",
       "  }\n",
       "  safety_ratings {\n",
       "    category: HARM_CATEGORY_HARASSMENT\n",
       "    probability: NEGLIGIBLE\n",
       "    probability_score: 0.111241199\n",
       "    severity: HARM_SEVERITY_NEGLIGIBLE\n",
       "    severity_score: 0.0732972771\n",
       "  }\n",
       "  safety_ratings {\n",
       "    category: HARM_CATEGORY_SEXUALLY_EXPLICIT\n",
       "    probability: NEGLIGIBLE\n",
       "    probability_score: 0.152915627\n",
       "    severity: HARM_SEVERITY_NEGLIGIBLE\n",
       "    severity_score: 0.0641826466\n",
       "  }\n",
       "}\n",
       "usage_metadata {\n",
       "  prompt_token_count: 95\n",
       "  candidates_token_count: 9\n",
       "  total_token_count: 104\n",
       "}"
      ]
     },
     "execution_count": 22,
     "metadata": {},
     "output_type": "execute_result"
    }
   ],
   "source": [
    "chat.send_message(\"Puedes buscarme informacion sobre Noel 2?\")"
   ]
  },
  {
   "cell_type": "code",
   "execution_count": 6,
   "metadata": {},
   "outputs": [],
   "source": [
    "def send_chat_message(prompt):\n",
    "    display(Markdown(\"#### Prompt\"))\n",
    "    print(prompt, \"\\n\")\n",
    "    prompt += \"\"\"\n",
    "    Give a concise, high-level summary. Only use information that you learn from \n",
    "    the API responses. Always search and response in the same language the user \n",
    "    is asking.\n",
    "    \"\"\"\n",
    "\n",
    "    categories = get_service_categories_from_firebase()\n",
    "\n",
    "    prompt += (\n",
    "        \"\"\" Cuando el usuario pregunte por un servicio verifica primero si la categoria de servicio\n",
    "    solicitada esta en esta lista: \"\"\"\n",
    "        + str(categories)\n",
    "        + \". En caso de que no este busca la categoria mas parecida\"\n",
    "    )\n",
    "\n",
    "    # Send a chat message to the Gemini API\n",
    "    response = chat.send_message(prompt)\n",
    "\n",
    "    # Handle cases with multiple chained function calls\n",
    "    function_calling_in_process = True\n",
    "    while function_calling_in_process:\n",
    "        # Extract the function call response\n",
    "        function_call = response.candidates[0].content.parts[0].function_call\n",
    "\n",
    "        # Check for a function call or a natural language response\n",
    "        if function_call.name in function_handler.keys():\n",
    "            # Extract the function call\n",
    "            function_call = response.candidates[0].content.parts[0].function_call\n",
    "\n",
    "            # Extract the function call name\n",
    "            function_name = function_call.name\n",
    "            display(Markdown(\"#### Predicted function name\"))\n",
    "            print(function_name, \"\\n\")\n",
    "\n",
    "            if function_name == \"get_service_categories\":\n",
    "                # Invoke a function that calls an external API\n",
    "                function_api_response = function_handler[function_name]()\n",
    "                display(Markdown(\"#### API response\"))\n",
    "                print(function_api_response[:500], \"...\", \"\\n\")\n",
    "            else:\n",
    "                # Extract the function call parameters\n",
    "                params = {key: value for key, value in function_call.args.items()}\n",
    "                display(Markdown(\"#### Predicted function parameters\"))\n",
    "                print(params, \"\\n\")\n",
    "\n",
    "                # Invoke a function that calls an external API\n",
    "                function_api_response = function_handler[function_name](params)\n",
    "                display(Markdown(\"#### API response\"))\n",
    "                print(function_api_response, \"...\", \"\\n\")\n",
    "\n",
    "            # Send the API response back to Gemini, which will generate a natural language summary or another function call\n",
    "            response = chat.send_message(\n",
    "                Part.from_function_response(\n",
    "                    name=function_name,\n",
    "                    response={\"content\": function_api_response},\n",
    "                ),\n",
    "            )\n",
    "        else:\n",
    "            function_calling_in_process = False\n",
    "\n",
    "    # Show the final natural language summary\n",
    "    display(Markdown(\"#### Natural language response\"))\n",
    "    display(Markdown(response.text.replace(\"$\", \"\\\\\\$\")))"
   ]
  },
  {
   "cell_type": "code",
   "execution_count": 28,
   "metadata": {},
   "outputs": [
    {
     "data": {
      "text/markdown": [
       "#### Prompt"
      ],
      "text/plain": [
       "<IPython.core.display.Markdown object>"
      ]
     },
     "metadata": {},
     "output_type": "display_data"
    },
    {
     "name": "stdout",
     "output_type": "stream",
     "text": [
      "Puedes decirme cuales son las categorias? \n",
      "\n"
     ]
    },
    {
     "data": {
      "text/markdown": [
       "#### Predicted function name"
      ],
      "text/plain": [
       "<IPython.core.display.Markdown object>"
      ]
     },
     "metadata": {},
     "output_type": "display_data"
    },
    {
     "name": "stdout",
     "output_type": "stream",
     "text": [
      "get_service_categories \n",
      "\n"
     ]
    },
    {
     "data": {
      "text/markdown": [
       "#### API response"
      ],
      "text/plain": [
       "<IPython.core.display.Markdown object>"
      ]
     },
     "metadata": {},
     "output_type": "display_data"
    },
    {
     "name": "stdout",
     "output_type": "stream",
     "text": [
      "['misc', 'cerrajeria', 'piano', 'cabello', 'bateria', 'french_food', 'body_treatments', '8_56_hierro', 'turistico', 'home', 'moto', 'filmmaking', 'auto', 'music', 'video', 'aseo_completo_de_casas', 'cubana', 'uber', 'tutorias', 'muebles', 'gatos', 'transporte_de_alimentos', 'smartphone', 'carrozas', 'plomero', 'taxi', 'delivery', 'equipos_de_sonido', 'hamburguesas', '5', 'education', 'tv', 'motoboy', 'piano', 'musica', 'albanil', 'depilacion', 'llaves_perdidas', 'mototaxi', 'guitar', 'restaurant', 'moda', 'food', 'manos_y_pies', 'indriver', 'cerrajeria_automotriz', 'foodtruck', 'marketing', 'electeicidade_generale', 'repair', 'jardin', 'travel_agency', 'transport', 'piano', 'alba', 'musica', 'computadoras', 'pies', 'bateria', 'nevera', 'musico', 'speak_english', 'doctor', 'piano', 'psicopedagoga', 'electricidade', 'bicicletas', 'aire_aconditionado', 'estufas', 'musica', 'educacion', 'planchas', 'dog_sitting', '8_56_hierro', 'desarrollo_de_software', 'taxi', 'clases_de_ingles', 'speak_english', 'lavado_de_automoviles', 'clases_de_musica', 'portuguese', 'speak_english', 'pizza', 'aseo', 'maquina_de_coser', 'english', 'ar_conditionado_ac', 'bateria', 'delivery', 'nachos', 'privado', 'spa', 'linea_blanca', 'paseo_de_aves', 'aire_acondicionado', 'vegetariano', 'rapidass', 'testelectricista', 'pet_care', 'test', 'mascotas', 'health_panama', 'medico_a_domicilio', 'user', 'iphone', 'musica', 'electricista', 'piano', 'newtag', 'pets', 'fisioterapia', 'nueva_salud', 'photography', 'costurera', 'plantas', 'appliance', 'bateria', 'test', 'plomero', 'musica', 'privado', '1', 'android', 'albanil', 'health', 'ballo', 'street_food', 'masajes', 'paseo_de_perros', 'piano', 'llaves_para_autos', 'entrega'] ... \n",
      "\n"
     ]
    },
    {
     "data": {
      "text/markdown": [
       "#### Natural language response"
      ],
      "text/plain": [
       "<IPython.core.display.Markdown object>"
      ]
     },
     "metadata": {},
     "output_type": "display_data"
    },
    {
     "data": {
      "text/markdown": [
       "Estas son las categorias: misc, cerrajeria, piano, cabello, bateria, french_food, body_treatments, 8_56_hierro, turistico, home, moto, filmmaking, auto, music, video, aseo_completo_de_casas, cubana, uber, tutorias, muebles, gatos, transporte_de_alimentos, smartphone, carrozas, plomero, taxi, delivery, equipos_de_sonido, hamburguesas, 5, education, tv, motoboy, piano, musica, albanil, depilacion, llaves_perdidas, mototaxi, guitar, restaurant, moda, food, manos_y_pies, indriver, cerrajeria_automotriz, foodtruck, marketing, electeicidade_generale, repair, jardin, travel_agency, transport, piano, alba, musica, computadoras, pies, bateria, nevera, musico, speak_english, doctor, piano, psicopedagoga, electricidade, bicicletas, aire_acondicionado, estufas, musica, educacion, planchas, dog_sitting, 8_56_hierro, desarrollo_de_software, taxi, clases_de_ingles, speak_english, lavado_de_automoviles, clases_de_musica, portuguese, speak_english, pizza, aseo, maquina_de_coser, english, ar_conditionado_ac, bateria, delivery, nachos, privado, spa, linea_blanca, paseo_de_aves, aire_acondicionado, vegetariano, rapidass, testelectricista, pet_care, test, mascotas, health_panama, medico_a_domicilio, user, iphone, musica, electricista, piano, newtag, pets, fisioterapia, nueva_salud, photography, costurera, plantas, appliance, bateria, test, plomero, musica, privado, 1, android, albanil, health, ballo, street_food, masajes, paseo_de_perros, piano, llaves_para_autos, entrega. \n"
      ],
      "text/plain": [
       "<IPython.core.display.Markdown object>"
      ]
     },
     "metadata": {},
     "output_type": "display_data"
    }
   ],
   "source": [
    "send_chat_message(\"Puedes decirme cuales son las categorias?\")"
   ]
  },
  {
   "cell_type": "code",
   "execution_count": 42,
   "metadata": {},
   "outputs": [
    {
     "data": {
      "text/markdown": [
       "#### Prompt"
      ],
      "text/plain": [
       "<IPython.core.display.Markdown object>"
      ]
     },
     "metadata": {},
     "output_type": "display_data"
    },
    {
     "name": "stdout",
     "output_type": "stream",
     "text": [
      "Cuales son los proveedores de servicio span? \n",
      "\n"
     ]
    },
    {
     "data": {
      "text/markdown": [
       "#### Predicted function name"
      ],
      "text/plain": [
       "<IPython.core.display.Markdown object>"
      ]
     },
     "metadata": {},
     "output_type": "display_data"
    },
    {
     "name": "stdout",
     "output_type": "stream",
     "text": [
      "get_service_provider \n",
      "\n"
     ]
    },
    {
     "data": {
      "text/markdown": [
       "#### Predicted function parameters"
      ],
      "text/plain": [
       "<IPython.core.display.Markdown object>"
      ]
     },
     "metadata": {},
     "output_type": "display_data"
    },
    {
     "name": "stdout",
     "output_type": "stream",
     "text": [
      "{'tag': 'spa'} \n",
      "\n",
      "{'tag': 'spa'}\n"
     ]
    },
    {
     "data": {
      "text/markdown": [
       "#### API response"
      ],
      "text/plain": [
       "<IPython.core.display.Markdown object>"
      ]
     },
     "metadata": {},
     "output_type": "display_data"
    },
    {
     "name": "stdout",
     "output_type": "stream",
     "text": [
      "['Carolina', 'Angela ', 'Emulator 66980917'] ... \n",
      "\n"
     ]
    },
    {
     "data": {
      "text/markdown": [
       "#### Natural language response"
      ],
      "text/plain": [
       "<IPython.core.display.Markdown object>"
      ]
     },
     "metadata": {},
     "output_type": "display_data"
    },
    {
     "data": {
      "text/markdown": [
       "Los proveedores de servicio span son: Carolina, Angela , Emulator 66980917. \n"
      ],
      "text/plain": [
       "<IPython.core.display.Markdown object>"
      ]
     },
     "metadata": {},
     "output_type": "display_data"
    }
   ],
   "source": [
    "send_chat_message(\"Cuales son los proveedores de servicio span?\")"
   ]
  },
  {
   "cell_type": "code",
   "execution_count": 30,
   "metadata": {},
   "outputs": [
    {
     "data": {
      "text/markdown": [
       "#### Prompt"
      ],
      "text/plain": [
       "<IPython.core.display.Markdown object>"
      ]
     },
     "metadata": {},
     "output_type": "display_data"
    },
    {
     "name": "stdout",
     "output_type": "stream",
     "text": [
      "Alguien con servicio hogar? \n",
      "\n"
     ]
    },
    {
     "data": {
      "text/markdown": [
       "#### Predicted function name"
      ],
      "text/plain": [
       "<IPython.core.display.Markdown object>"
      ]
     },
     "metadata": {},
     "output_type": "display_data"
    },
    {
     "name": "stdout",
     "output_type": "stream",
     "text": [
      "get_service_provider \n",
      "\n"
     ]
    },
    {
     "data": {
      "text/markdown": [
       "#### Predicted function parameters"
      ],
      "text/plain": [
       "<IPython.core.display.Markdown object>"
      ]
     },
     "metadata": {},
     "output_type": "display_data"
    },
    {
     "name": "stdout",
     "output_type": "stream",
     "text": [
      "{'tag': 'home'} \n",
      "\n",
      "{'tag': 'home'}\n"
     ]
    },
    {
     "data": {
      "text/markdown": [
       "#### API response"
      ],
      "text/plain": [
       "<IPython.core.display.Markdown object>"
      ]
     },
     "metadata": {},
     "output_type": "display_data"
    },
    {
     "name": "stdout",
     "output_type": "stream",
     "text": [
      "['Akshdeep', 'shankar', 'joginder singh', 'Harpreet Singh', 'abhi', 'Rutiner Dasheeri', 'Navratan Singh ', 'Test user 63636363', 'Kuldeep Singh ', 'Test Real Number Colombia', 'Millycen Hurtado'] ... \n",
      "\n"
     ]
    },
    {
     "data": {
      "text/markdown": [
       "#### Natural language response"
      ],
      "text/plain": [
       "<IPython.core.display.Markdown object>"
      ]
     },
     "metadata": {},
     "output_type": "display_data"
    },
    {
     "data": {
      "text/markdown": [
       "Si, aqui hay algunos proveedores de servicio hogar: Akshdeep, shankar, joginder singh, Harpreet Singh, abhi, Rutiner Dasheeri, Navratan Singh , Test user 63636363, Kuldeep Singh , Test Real Number Colombia, Millycen Hurtado. \n"
      ],
      "text/plain": [
       "<IPython.core.display.Markdown object>"
      ]
     },
     "metadata": {},
     "output_type": "display_data"
    }
   ],
   "source": [
    "send_chat_message(\"Alguien con servicio hogar?\")"
   ]
  },
  {
   "cell_type": "code",
   "execution_count": 11,
   "metadata": {},
   "outputs": [
    {
     "data": {
      "text/markdown": [
       "#### Prompt"
      ],
      "text/plain": [
       "<IPython.core.display.Markdown object>"
      ]
     },
     "metadata": {},
     "output_type": "display_data"
    },
    {
     "name": "stdout",
     "output_type": "stream",
     "text": [
      "Tienes algun servicio que pueda ayudarme a resolver un problema con un salidero de agua? \n",
      "\n"
     ]
    },
    {
     "data": {
      "text/markdown": [
       "#### Predicted function name"
      ],
      "text/plain": [
       "<IPython.core.display.Markdown object>"
      ]
     },
     "metadata": {},
     "output_type": "display_data"
    },
    {
     "name": "stdout",
     "output_type": "stream",
     "text": [
      "get_service_provider \n",
      "\n"
     ]
    },
    {
     "data": {
      "text/markdown": [
       "#### Predicted function parameters"
      ],
      "text/plain": [
       "<IPython.core.display.Markdown object>"
      ]
     },
     "metadata": {},
     "output_type": "display_data"
    },
    {
     "name": "stdout",
     "output_type": "stream",
     "text": [
      "{'tag': 'plomero'} \n",
      "\n",
      "{'tag': 'plomero'}\n"
     ]
    },
    {
     "name": "stderr",
     "output_type": "stream",
     "text": [
      "/home/nmlemus/projects/ai-llm/.conda/lib/python3.11/site-packages/google/cloud/firestore_v1/base_collection.py:302: UserWarning: Detected filter using positional arguments. Prefer using the 'filter' keyword argument instead.\n",
      "  return query.where(field_path, op_string, value)\n"
     ]
    },
    {
     "data": {
      "text/markdown": [
       "#### API response"
      ],
      "text/plain": [
       "<IPython.core.display.Markdown object>"
      ]
     },
     "metadata": {},
     "output_type": "display_data"
    },
    {
     "name": "stdout",
     "output_type": "stream",
     "text": [
      "[] ... \n",
      "\n"
     ]
    },
    {
     "data": {
      "text/markdown": [
       "#### Natural language response"
      ],
      "text/plain": [
       "<IPython.core.display.Markdown object>"
      ]
     },
     "metadata": {},
     "output_type": "display_data"
    },
    {
     "data": {
      "text/markdown": [
       "No hay proveedores de servicio de plomero. \n"
      ],
      "text/plain": [
       "<IPython.core.display.Markdown object>"
      ]
     },
     "metadata": {},
     "output_type": "display_data"
    }
   ],
   "source": [
    "send_chat_message(\n",
    "    \"Tienes algun servicio que pueda ayudarme a resolver un problema con un salidero de agua?\"\n",
    ")"
   ]
  },
  {
   "cell_type": "code",
   "execution_count": 7,
   "metadata": {},
   "outputs": [
    {
     "data": {
      "text/markdown": [
       "#### Prompt"
      ],
      "text/plain": [
       "<IPython.core.display.Markdown object>"
      ]
     },
     "metadata": {},
     "output_type": "display_data"
    },
    {
     "name": "stdout",
     "output_type": "stream",
     "text": [
      "Info sobre Noel 2 \n",
      "\n"
     ]
    },
    {
     "data": {
      "text/markdown": [
       "#### Predicted function name"
      ],
      "text/plain": [
       "<IPython.core.display.Markdown object>"
      ]
     },
     "metadata": {},
     "output_type": "display_data"
    },
    {
     "name": "stdout",
     "output_type": "stream",
     "text": [
      "get_service_categories \n",
      "\n"
     ]
    },
    {
     "data": {
      "text/markdown": [
       "#### API response"
      ],
      "text/plain": [
       "<IPython.core.display.Markdown object>"
      ]
     },
     "metadata": {},
     "output_type": "display_data"
    },
    {
     "name": "stdout",
     "output_type": "stream",
     "text": [
      "['misc', 'cerrajeria', 'piano', 'cabello', 'bateria', 'french_food', 'body_treatments', '8_56_hierro', 'turistico', 'home', 'moto', 'filmmaking', 'auto', 'music', 'video', 'aseo_completo_de_casas', 'cubana', 'uber', 'tutorias', 'muebles', 'gatos', 'transporte_de_alimentos', 'smartphone', 'carrozas', 'plomero', 'taxi', 'delivery', 'equipos_de_sonido', 'hamburguesas', '5', 'education', 'tv', 'motoboy', 'piano', 'musica', 'albanil', 'depilacion', 'llaves_perdidas', 'mototaxi', 'guitar', 'restaurant', 'moda', 'food', 'manos_y_pies', 'indriver', 'cerrajeria_automotriz', 'foodtruck', 'marketing', 'electeicidade_generale', 'repair', 'jardin', 'travel_agency', 'transport', 'piano', 'alba', 'musica', 'computadoras', 'pies', 'bateria', 'nevera', 'musico', 'speak_english', 'doctor', 'piano', 'psicopedagoga', 'electricidade', 'bicicletas', 'aire_aconditionado', 'estufas', 'musica', 'educacion', 'planchas', 'dog_sitting', '8_56_hierro', 'desarrollo_de_software', 'taxi', 'clases_de_ingles', 'speak_english', 'lavado_de_automoviles', 'clases_de_musica', 'portuguese', 'speak_english', 'pizza', 'aseo', 'maquina_de_coser', 'english', 'ar_conditionado_ac', 'bateria', 'delivery', 'nachos', 'privado', 'spa', 'linea_blanca', 'paseo_de_aves', 'aire_acondicionado', 'vegetariano', 'rapidass', 'testelectricista', 'pet_care', 'test', 'mascotas', 'health_panama', 'medico_a_domicilio', 'user', 'iphone', 'musica', 'electricista', 'piano', 'newtag', 'pets', 'fisioterapia', 'nueva_salud', 'photography', 'costurera', 'plantas', 'appliance', 'bateria', 'test', 'plomero', 'musica', 'privado', '1', 'android', 'albanil', 'health', 'ballo', 'street_food', 'masajes', 'paseo_de_perros', 'piano', 'llaves_para_autos', 'entrega'] ... \n",
      "\n"
     ]
    },
    {
     "data": {
      "text/markdown": [
       "#### Predicted function name"
      ],
      "text/plain": [
       "<IPython.core.display.Markdown object>"
      ]
     },
     "metadata": {},
     "output_type": "display_data"
    },
    {
     "name": "stdout",
     "output_type": "stream",
     "text": [
      "get_profile_info \n",
      "\n"
     ]
    },
    {
     "data": {
      "text/markdown": [
       "#### Predicted function parameters"
      ],
      "text/plain": [
       "<IPython.core.display.Markdown object>"
      ]
     },
     "metadata": {},
     "output_type": "display_data"
    },
    {
     "name": "stdout",
     "output_type": "stream",
     "text": [
      "{'name': 'Noel 2'} \n",
      "\n",
      "Noel 2\n"
     ]
    },
    {
     "data": {
      "text/markdown": [
       "#### API response"
      ],
      "text/plain": [
       "<IPython.core.display.Markdown object>"
      ]
     },
     "metadata": {},
     "output_type": "display_data"
    },
    {
     "name": "stdout",
     "output_type": "stream",
     "text": [
      "{'age': '44', 'realTimeLocEnabled': False, 'displayName': 'Noel 2', 'tags': [{'text': 'food', 'weight': 0, 'id': 'MhMxZZfJs52GU7pA1v4O', 'usedBy': 3, 'parentSlug': '', 'parentId': '', 'slug': 'food'}], 'network': [], 'avgRating': 4.5, 'about': '', 'socialNetworks': [], 'userId': 'xG1lCeVE7EgLwXVEfPciGGWaDLn1', 'blockedProfiles': [], 'service': {'text': 'food', 'weight': 0, 'id': 'MhMxZZfJs52GU7pA1v4O', 'usedBy': 3, 'parentSlug': '', 'parentId': '', 'slug': 'food'}, 'address': '10506, Calle 74 Este, Panamá, Provincia de Panamá, Panamá', 'gender': 'male', 'photo': '', 'location': {'lat': 8.9907664, 'long': -79.5046233}, 'totalReviews': 2} ... \n",
      "\n"
     ]
    },
    {
     "data": {
      "text/markdown": [
       "#### Natural language response"
      ],
      "text/plain": [
       "<IPython.core.display.Markdown object>"
      ]
     },
     "metadata": {},
     "output_type": "display_data"
    },
    {
     "data": {
      "text/markdown": [
       "Noel 2 is a 44 year old male from Panama. He has a 4.5 star rating with 2 reviews. He provides services in the food category. \n"
      ],
      "text/plain": [
       "<IPython.core.display.Markdown object>"
      ]
     },
     "metadata": {},
     "output_type": "display_data"
    }
   ],
   "source": [
    "send_chat_message(\"Info sobre Noel 2\")"
   ]
  },
  {
   "cell_type": "code",
   "execution_count": 40,
   "metadata": {},
   "outputs": [
    {
     "name": "stdout",
     "output_type": "stream",
     "text": [
      "Noel 2\n"
     ]
    },
    {
     "data": {
      "text/plain": [
       "{'age': '44',\n",
       " 'realTimeLocEnabled': False,\n",
       " 'displayName': 'Noel 2',\n",
       " 'tags': [{'text': 'food',\n",
       "   'weight': 0,\n",
       "   'id': 'MhMxZZfJs52GU7pA1v4O',\n",
       "   'usedBy': 3,\n",
       "   'parentSlug': '',\n",
       "   'parentId': '',\n",
       "   'slug': 'food'}],\n",
       " 'network': [],\n",
       " 'avgRating': 4.5,\n",
       " 'about': '',\n",
       " 'socialNetworks': [],\n",
       " 'userId': 'xG1lCeVE7EgLwXVEfPciGGWaDLn1',\n",
       " 'blockedProfiles': [],\n",
       " 'service': {'text': 'food',\n",
       "  'weight': 0,\n",
       "  'id': 'MhMxZZfJs52GU7pA1v4O',\n",
       "  'usedBy': 3,\n",
       "  'parentSlug': '',\n",
       "  'parentId': '',\n",
       "  'slug': 'food'},\n",
       " 'address': '10506, Calle 74 Este, Panamá, Provincia de Panamá, Panamá',\n",
       " 'gender': 'male',\n",
       " 'photo': '',\n",
       " 'location': <google.cloud.firestore_v1._helpers.GeoPoint at 0x72c99c0e4c10>,\n",
       " 'totalReviews': 2}"
      ]
     },
     "execution_count": 40,
     "metadata": {},
     "output_type": "execute_result"
    }
   ],
   "source": [
    "function_handler[function_name](params)"
   ]
  }
 ],
 "metadata": {
  "kernelspec": {
   "display_name": "Python 3",
   "language": "python",
   "name": "python3"
  },
  "language_info": {
   "codemirror_mode": {
    "name": "ipython",
    "version": 3
   },
   "file_extension": ".py",
   "mimetype": "text/x-python",
   "name": "python",
   "nbconvert_exporter": "python",
   "pygments_lexer": "ipython3",
   "version": "3.11.9"
  }
 },
 "nbformat": 4,
 "nbformat_minor": 2
}
