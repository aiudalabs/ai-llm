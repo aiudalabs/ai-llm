{
 "cells": [
  {
   "cell_type": "code",
   "execution_count": 1,
   "metadata": {},
   "outputs": [],
   "source": [
    "# Copyright 2024 Google LLC\n",
    "#\n",
    "# Licensed under the Apache License, Version 2.0 (the \"License\");\n",
    "# you may not use this file except in compliance with the License.\n",
    "# You may obtain a copy of the License at\n",
    "#\n",
    "#    https://www.apache.org/licenses/LICENSE-2.0\n",
    "#\n",
    "# Unless required by applicable law or agreed to in writing, software\n",
    "# distributed under the License is distributed on an \"AS IS\" BASIS,\n",
    "# WITHOUT WARRANTIES OR CONDITIONS OF ANY KIND, either express or implied.\n",
    "# See the License for the specific language governing permissions and\n",
    "# limitations under the License.\n",
    "\n",
    "\"\"\"A Flask app that uses Vertex AI and Nominatim to get address coordinates.\n",
    "\n",
    "This app takes an address as input and uses the Vertex AI Gemini model to\n",
    "extract relevant location information. It then uses the Nominatim API to\n",
    "retrieve the coordinates for the address.\n",
    "\"\"\"\n",
    "\n",
    "import json\n",
    "import logging\n",
    "import os\n",
    "\n",
    "from flask import Flask, render_template, request\n",
    "import requests\n",
    "import vertexai\n",
    "from vertexai.generative_models import (\n",
    "    FunctionDeclaration,\n",
    "    GenerationConfig,\n",
    "    GenerativeModel,\n",
    "    Tool,\n",
    "    Part,\n",
    ")\n",
    "\n",
    "import firebase_admin\n",
    "from firebase_admin import credentials\n",
    "from firebase_admin import firestore\n",
    "\n",
    "# Use a service account.\n",
    "cred = credentials.Certificate(\"goblob-95e2a-0e1184d35308.json\")\n",
    "\n",
    "app = firebase_admin.initialize_app(cred)\n",
    "\n",
    "db = firestore.client()\n",
    "\n",
    "PROJECT_ID = \"goblob-95e2a\"\n",
    "\n",
    "vertexai.init(\n",
    "    project=PROJECT_ID,\n",
    "    location=\"us-central1\",\n",
    "    staging_bucket=\"gs://aiuda-docs\",\n",
    ")\n",
    "\n",
    "logger = logging.getLogger(__name__)\n",
    "\n",
    "get_service_categories = FunctionDeclaration(\n",
    "    name=\"get_service_categories\",\n",
    "    description=\"Get service categories from the database\",\n",
    "    parameters={\n",
    "        \"type\": \"object\",\n",
    "        \"properties\": {},\n",
    "    },\n",
    ")\n",
    "\n",
    "get_service_provider = FunctionDeclaration(\n",
    "    name=\"get_service_provider\",\n",
    "    description=\"Get service providers based on the tags\",\n",
    "    parameters={\n",
    "        \"type\": \"object\",\n",
    "        \"properties\": {\n",
    "            \"tag\": {\n",
    "                \"type\": \"string\",\n",
    "                \"description\": \"the category of the service the user is looking for\",\n",
    "            }\n",
    "        },\n",
    "    },\n",
    ")\n",
    "\n",
    "yomap_tool = Tool(\n",
    "    function_declarations=[get_service_categories, get_service_provider],\n",
    ")\n",
    "\n",
    "\n",
    "def get_service_categories_from_firebase():\n",
    "    tags_ref = (\n",
    "        db.collection(\"tags\")\n",
    "        # .where(filter=FieldFilter(\"active\", \"==\", True))\n",
    "        # .where(filter=FieldFilter(\"rating\", \">=\", 3))\n",
    "    )\n",
    "    docs = tags_ref.stream()\n",
    "\n",
    "    tags = []\n",
    "    for doc in docs:\n",
    "        if \"text\" in doc.to_dict().keys():\n",
    "            tags.append(doc.to_dict()[\"text\"])\n",
    "    return tags\n",
    "\n",
    "\n",
    "def get_service_provider_from_firebase(tag: str):\n",
    "    profile = db.collection(\"profiles\")\n",
    "    print(tag)\n",
    "    docs = profile.where(\"service.text\", \"==\", tag[\"tag\"]).get()\n",
    "    return [doc.to_dict()[\"displayName\"] for doc in docs]\n",
    "\n",
    "\n",
    "function_handler = {\n",
    "    \"get_service_categories\": get_service_categories_from_firebase,\n",
    "    \"get_service_provider\": get_service_provider_from_firebase,\n",
    "}\n",
    "\n",
    "gemini_model = GenerativeModel(\n",
    "    \"gemini-1.5-pro-001\",\n",
    "    generation_config=GenerationConfig(temperature=0),\n",
    "    tools=[yomap_tool],\n",
    ")"
   ]
  },
  {
   "cell_type": "code",
   "execution_count": 2,
   "metadata": {},
   "outputs": [],
   "source": [
    "from IPython.display import display, Markdown"
   ]
  },
  {
   "cell_type": "code",
   "execution_count": 3,
   "metadata": {},
   "outputs": [],
   "source": [
    "chat = gemini_model.start_chat()"
   ]
  },
  {
   "cell_type": "code",
   "execution_count": 4,
   "metadata": {},
   "outputs": [
    {
     "data": {
      "text/plain": [
       "candidates {\n",
       "  content {\n",
       "    role: \"model\"\n",
       "    parts {\n",
       "      function_call {\n",
       "        name: \"get_service_categories\"\n",
       "        args {\n",
       "        }\n",
       "      }\n",
       "    }\n",
       "  }\n",
       "  finish_reason: STOP\n",
       "  safety_ratings {\n",
       "    category: HARM_CATEGORY_HATE_SPEECH\n",
       "    probability: NEGLIGIBLE\n",
       "    probability_score: 0.067546688\n",
       "    severity: HARM_SEVERITY_NEGLIGIBLE\n",
       "    severity_score: 0.0682885423\n",
       "  }\n",
       "  safety_ratings {\n",
       "    category: HARM_CATEGORY_DANGEROUS_CONTENT\n",
       "    probability: NEGLIGIBLE\n",
       "    probability_score: 0.121790156\n",
       "    severity: HARM_SEVERITY_NEGLIGIBLE\n",
       "    severity_score: 0.199308\n",
       "  }\n",
       "  safety_ratings {\n",
       "    category: HARM_CATEGORY_HARASSMENT\n",
       "    probability: NEGLIGIBLE\n",
       "    probability_score: 0.107437477\n",
       "    severity: HARM_SEVERITY_NEGLIGIBLE\n",
       "    severity_score: 0.0409990288\n",
       "  }\n",
       "  safety_ratings {\n",
       "    category: HARM_CATEGORY_SEXUALLY_EXPLICIT\n",
       "    probability: NEGLIGIBLE\n",
       "    probability_score: 0.0824015141\n",
       "    severity: HARM_SEVERITY_NEGLIGIBLE\n",
       "    severity_score: 0.0442658812\n",
       "  }\n",
       "}\n",
       "usage_metadata {\n",
       "  prompt_token_count: 45\n",
       "  candidates_token_count: 5\n",
       "  total_token_count: 50\n",
       "}"
      ]
     },
     "execution_count": 4,
     "metadata": {},
     "output_type": "execute_result"
    }
   ],
   "source": [
    "chat.send_message(\"Cuales son las categorias de la base de datos?\")"
   ]
  },
  {
   "cell_type": "code",
   "execution_count": 5,
   "metadata": {},
   "outputs": [
    {
     "data": {
      "text/plain": [
       "candidates {\n",
       "  content {\n",
       "    role: \"model\"\n",
       "    parts {\n",
       "      function_call {\n",
       "        name: \"get_service_provider\"\n",
       "        args {\n",
       "          fields {\n",
       "            key: \"tag\"\n",
       "            value {\n",
       "              string_value: \"plumbing\"\n",
       "            }\n",
       "          }\n",
       "        }\n",
       "      }\n",
       "    }\n",
       "  }\n",
       "  finish_reason: STOP\n",
       "  safety_ratings {\n",
       "    category: HARM_CATEGORY_HATE_SPEECH\n",
       "    probability: NEGLIGIBLE\n",
       "    probability_score: 0.0782188699\n",
       "    severity: HARM_SEVERITY_NEGLIGIBLE\n",
       "    severity_score: 0.0632505193\n",
       "  }\n",
       "  safety_ratings {\n",
       "    category: HARM_CATEGORY_DANGEROUS_CONTENT\n",
       "    probability: NEGLIGIBLE\n",
       "    probability_score: 0.302391082\n",
       "    severity: HARM_SEVERITY_LOW\n",
       "    severity_score: 0.336767137\n",
       "  }\n",
       "  safety_ratings {\n",
       "    category: HARM_CATEGORY_HARASSMENT\n",
       "    probability: NEGLIGIBLE\n",
       "    probability_score: 0.150777549\n",
       "    severity: HARM_SEVERITY_NEGLIGIBLE\n",
       "    severity_score: 0.0484059565\n",
       "  }\n",
       "  safety_ratings {\n",
       "    category: HARM_CATEGORY_SEXUALLY_EXPLICIT\n",
       "    probability: NEGLIGIBLE\n",
       "    probability_score: 0.142231897\n",
       "    severity: HARM_SEVERITY_NEGLIGIBLE\n",
       "    severity_score: 0.0894546\n",
       "  }\n",
       "}\n",
       "usage_metadata {\n",
       "  prompt_token_count: 58\n",
       "  candidates_token_count: 8\n",
       "  total_token_count: 66\n",
       "}"
      ]
     },
     "execution_count": 5,
     "metadata": {},
     "output_type": "execute_result"
    }
   ],
   "source": [
    "chat.send_message(\"Puedes buscarme un plomero?\")"
   ]
  },
  {
   "cell_type": "code",
   "execution_count": 4,
   "metadata": {},
   "outputs": [],
   "source": [
    "def send_chat_message(prompt):\n",
    "    display(Markdown(\"#### Prompt\"))\n",
    "    print(prompt, \"\\n\")\n",
    "    prompt += \"\"\"\n",
    "    Give a concise, high-level summary. Only use information that you learn from \n",
    "    the API responses. Always search and response in the same language the user \n",
    "    is asking.\n",
    "    \"\"\"\n",
    "\n",
    "    categories = get_service_categories_from_firebase()\n",
    "\n",
    "    prompt += (\n",
    "        \"\"\" Cuando el usuario pregunte por un servicio verifica primero si la categoria de servicio\n",
    "    solicitada esta en esta lista: \"\"\"\n",
    "        + str(categories)\n",
    "        + \". En caso de que no este busca la categoria mas parecida\"\n",
    "    )\n",
    "\n",
    "    # Send a chat message to the Gemini API\n",
    "    response = chat.send_message(prompt)\n",
    "\n",
    "    # Handle cases with multiple chained function calls\n",
    "    function_calling_in_process = True\n",
    "    while function_calling_in_process:\n",
    "        # Extract the function call response\n",
    "        function_call = response.candidates[0].content.parts[0].function_call\n",
    "\n",
    "        # Check for a function call or a natural language response\n",
    "        if function_call.name in function_handler.keys():\n",
    "            # Extract the function call\n",
    "            function_call = response.candidates[0].content.parts[0].function_call\n",
    "\n",
    "            # Extract the function call name\n",
    "            function_name = function_call.name\n",
    "            display(Markdown(\"#### Predicted function name\"))\n",
    "            print(function_name, \"\\n\")\n",
    "\n",
    "            if function_name == \"get_service_categories\":\n",
    "                # Invoke a function that calls an external API\n",
    "                function_api_response = function_handler[function_name]()\n",
    "                display(Markdown(\"#### API response\"))\n",
    "                print(function_api_response[:500], \"...\", \"\\n\")\n",
    "            else:\n",
    "                # Extract the function call parameters\n",
    "                params = {key: value for key, value in function_call.args.items()}\n",
    "                display(Markdown(\"#### Predicted function parameters\"))\n",
    "                print(params, \"\\n\")\n",
    "\n",
    "                # Invoke a function that calls an external API\n",
    "                function_api_response = function_handler[function_name](params)[\n",
    "                    :20000\n",
    "                ]  # Stay within the input token limit\n",
    "                display(Markdown(\"#### API response\"))\n",
    "                print(function_api_response[:500], \"...\", \"\\n\")\n",
    "\n",
    "            # Send the API response back to Gemini, which will generate a natural language summary or another function call\n",
    "            response = chat.send_message(\n",
    "                Part.from_function_response(\n",
    "                    name=function_name,\n",
    "                    response={\"content\": function_api_response},\n",
    "                ),\n",
    "            )\n",
    "        else:\n",
    "            function_calling_in_process = False\n",
    "\n",
    "    # Show the final natural language summary\n",
    "    display(Markdown(\"#### Natural language response\"))\n",
    "    display(Markdown(response.text.replace(\"$\", \"\\\\\\$\")))"
   ]
  },
  {
   "cell_type": "code",
   "execution_count": 7,
   "metadata": {},
   "outputs": [
    {
     "data": {
      "text/markdown": [
       "#### Prompt"
      ],
      "text/plain": [
       "<IPython.core.display.Markdown object>"
      ]
     },
     "metadata": {},
     "output_type": "display_data"
    },
    {
     "name": "stdout",
     "output_type": "stream",
     "text": [
      "Puedes decirme cuales son las categorias? \n",
      "\n"
     ]
    },
    {
     "data": {
      "text/markdown": [
       "#### Predicted function name"
      ],
      "text/plain": [
       "<IPython.core.display.Markdown object>"
      ]
     },
     "metadata": {},
     "output_type": "display_data"
    },
    {
     "name": "stdout",
     "output_type": "stream",
     "text": [
      "get_service_categories \n",
      "\n"
     ]
    },
    {
     "data": {
      "text/markdown": [
       "#### API response"
      ],
      "text/plain": [
       "<IPython.core.display.Markdown object>"
      ]
     },
     "metadata": {},
     "output_type": "display_data"
    },
    {
     "name": "stdout",
     "output_type": "stream",
     "text": [
      "['misc', 'cerrajeria', 'piano', 'cabello', 'bateria', 'french_food', 'body_treatments', '8_56_hierro', 'turistico', 'home', 'moto', 'filmmaking', 'auto', 'music', 'video', 'aseo_completo_de_casas', 'cubana', 'uber', 'tutorias', 'muebles', 'gatos', 'transporte_de_alimentos', 'smartphone', 'carrozas', 'plomero', 'taxi', 'delivery', 'equipos_de_sonido', 'hamburguesas', '5', 'education', 'tv', 'motoboy', 'piano', 'musica', 'albanil', 'depilacion', 'llaves_perdidas', 'mototaxi', 'guitar', 'restaurant', 'moda', 'food', 'manos_y_pies', 'indriver', 'cerrajeria_automotriz', 'foodtruck', 'marketing', 'electeicidade_generale', 'repair', 'jardin', 'travel_agency', 'transport', 'piano', 'alba', 'musica', 'computadoras', 'pies', 'bateria', 'nevera', 'musico', 'speak_english', 'doctor', 'piano', 'psicopedagoga', 'electricidade', 'bicicletas', 'aire_aconditionado', 'estufas', 'musica', 'educacion', 'planchas', 'dog_sitting', '8_56_hierro', 'desarrollo_de_software', 'taxi', 'clases_de_ingles', 'speak_english', 'lavado_de_automoviles', 'clases_de_musica', 'portuguese', 'speak_english', 'pizza', 'aseo', 'maquina_de_coser', 'english', 'ar_conditionado_ac', 'bateria', 'delivery', 'nachos', 'privado', 'spa', 'linea_blanca', 'paseo_de_aves', 'aire_acondicionado', 'vegetariano', 'rapidass', 'testelectricista', 'pet_care', 'test', 'mascotas', 'health_panama', 'medico_a_domicilio', 'user', 'iphone', 'musica', 'electricista', 'piano', 'pets', 'fisioterapia', 'nueva_salud', 'photography', 'costurera', 'plantas', 'appliance', 'bateria', 'test', 'plomero', 'musica', 'privado', '1', 'android', 'albanil', 'health', 'ballo', 'street_food', 'masajes', 'paseo_de_perros', 'piano', 'llaves_para_autos', 'entrega'] ... \n",
      "\n"
     ]
    },
    {
     "data": {
      "text/markdown": [
       "#### Natural language response"
      ],
      "text/plain": [
       "<IPython.core.display.Markdown object>"
      ]
     },
     "metadata": {},
     "output_type": "display_data"
    },
    {
     "data": {
      "text/markdown": [
       "Las categorias son: misc, cerrajeria, piano, cabello, bateria, french_food, body_treatments, 8_56_hierro, turistico, home, moto, filmmaking, auto, music, video, aseo_completo_de_casas, cubana, uber, tutorias, muebles, gatos, transporte_de_alimentos, smartphone, carrozas, plomero, taxi, delivery, equipos_de_sonido, hamburguesas, 5, education, tv, motoboy, piano, musica, albanil, depilacion, llaves_perdidas, mototaxi, guitar, restaurant, moda, food, manos_y_pies, indriver, cerrajeria_automotriz, foodtruck, marketing, electericidade_generale, repair, jardin, travel_agency, transport, piano, alba, musica, computadoras, pies, bateria, nevera, musico, speak_english, doctor, piano, psicopedagoga, electricidade, bicicletas, aire_acondicionado, estufas, musica, educacion, planchas, dog_sitting, 8_56_hierro, desarrollo_de_software, taxi, clases_de_ingles, speak_english, lavado_de_automoviles, clases_de_musica, portuguese, speak_english, pizza, aseo, maquina_de_coser, english, ar_conditionado_ac, bateria, delivery, nachos, privado, spa, linea_blanca, paseo_de_aves, aire_acondicionado, vegetariano, rapidass, testelectricista, pet_care, test, mascotas, health_panama, medico_a_domicilio, user, iphone, musica, electricista, piano, pets, fisioterapia, nueva_salud, photography, costurera, plantas, appliance, bateria, test, plomero, musica, privado, 1, android, albanil, health, ballo, street_food, masajes, paseo_de_perros, piano, llaves_para_autos, entrega. \n"
      ],
      "text/plain": [
       "<IPython.core.display.Markdown object>"
      ]
     },
     "metadata": {},
     "output_type": "display_data"
    }
   ],
   "source": [
    "send_chat_message(\"Puedes decirme cuales son las categorias?\")"
   ]
  },
  {
   "cell_type": "code",
   "execution_count": 5,
   "metadata": {},
   "outputs": [
    {
     "data": {
      "text/markdown": [
       "#### Prompt"
      ],
      "text/plain": [
       "<IPython.core.display.Markdown object>"
      ]
     },
     "metadata": {},
     "output_type": "display_data"
    },
    {
     "name": "stdout",
     "output_type": "stream",
     "text": [
      "Cuales son los proveedores de servicio spa? \n",
      "\n"
     ]
    },
    {
     "data": {
      "text/markdown": [
       "#### Predicted function name"
      ],
      "text/plain": [
       "<IPython.core.display.Markdown object>"
      ]
     },
     "metadata": {},
     "output_type": "display_data"
    },
    {
     "name": "stdout",
     "output_type": "stream",
     "text": [
      "get_service_provider \n",
      "\n"
     ]
    },
    {
     "data": {
      "text/markdown": [
       "#### Predicted function parameters"
      ],
      "text/plain": [
       "<IPython.core.display.Markdown object>"
      ]
     },
     "metadata": {},
     "output_type": "display_data"
    },
    {
     "name": "stdout",
     "output_type": "stream",
     "text": [
      "{'tag': 'spa'} \n",
      "\n",
      "{'tag': 'spa'}\n"
     ]
    },
    {
     "name": "stderr",
     "output_type": "stream",
     "text": [
      "/home/nmlemus/projects/ai-llm/.conda/lib/python3.11/site-packages/google/cloud/firestore_v1/base_collection.py:302: UserWarning: Detected filter using positional arguments. Prefer using the 'filter' keyword argument instead.\n",
      "  return query.where(field_path, op_string, value)\n"
     ]
    },
    {
     "data": {
      "text/markdown": [
       "#### API response"
      ],
      "text/plain": [
       "<IPython.core.display.Markdown object>"
      ]
     },
     "metadata": {},
     "output_type": "display_data"
    },
    {
     "name": "stdout",
     "output_type": "stream",
     "text": [
      "['Carolina', 'Angela ', 'Emulator 66980917'] ... \n",
      "\n"
     ]
    },
    {
     "data": {
      "text/markdown": [
       "#### Natural language response"
      ],
      "text/plain": [
       "<IPython.core.display.Markdown object>"
      ]
     },
     "metadata": {},
     "output_type": "display_data"
    },
    {
     "data": {
      "text/markdown": [
       "Los proveedores de servicios de spa son Carolina, Angela y Emulator 66980917. \n"
      ],
      "text/plain": [
       "<IPython.core.display.Markdown object>"
      ]
     },
     "metadata": {},
     "output_type": "display_data"
    }
   ],
   "source": [
    "send_chat_message(\"Cuales son los proveedores de servicio spa?\")"
   ]
  },
  {
   "cell_type": "code",
   "execution_count": 6,
   "metadata": {},
   "outputs": [
    {
     "data": {
      "text/markdown": [
       "#### Prompt"
      ],
      "text/plain": [
       "<IPython.core.display.Markdown object>"
      ]
     },
     "metadata": {},
     "output_type": "display_data"
    },
    {
     "name": "stdout",
     "output_type": "stream",
     "text": [
      "Alguien con servicio span? \n",
      "\n"
     ]
    },
    {
     "data": {
      "text/markdown": [
       "#### Predicted function name"
      ],
      "text/plain": [
       "<IPython.core.display.Markdown object>"
      ]
     },
     "metadata": {},
     "output_type": "display_data"
    },
    {
     "name": "stdout",
     "output_type": "stream",
     "text": [
      "get_service_provider \n",
      "\n"
     ]
    },
    {
     "data": {
      "text/markdown": [
       "#### Predicted function parameters"
      ],
      "text/plain": [
       "<IPython.core.display.Markdown object>"
      ]
     },
     "metadata": {},
     "output_type": "display_data"
    },
    {
     "name": "stdout",
     "output_type": "stream",
     "text": [
      "{'tag': 'spa'} \n",
      "\n",
      "{'tag': 'spa'}\n"
     ]
    },
    {
     "data": {
      "text/markdown": [
       "#### API response"
      ],
      "text/plain": [
       "<IPython.core.display.Markdown object>"
      ]
     },
     "metadata": {},
     "output_type": "display_data"
    },
    {
     "name": "stdout",
     "output_type": "stream",
     "text": [
      "['Carolina', 'Angela ', 'Emulator 66980917'] ... \n",
      "\n"
     ]
    },
    {
     "data": {
      "text/markdown": [
       "#### Natural language response"
      ],
      "text/plain": [
       "<IPython.core.display.Markdown object>"
      ]
     },
     "metadata": {},
     "output_type": "display_data"
    },
    {
     "data": {
      "text/markdown": [
       "Sí, Carolina, Angela y Emulator 66980917 ofrecen servicios de spa. \n"
      ],
      "text/plain": [
       "<IPython.core.display.Markdown object>"
      ]
     },
     "metadata": {},
     "output_type": "display_data"
    }
   ],
   "source": [
    "send_chat_message(\"Alguien con servicio span?\")"
   ]
  }
 ],
 "metadata": {
  "kernelspec": {
   "display_name": "Python 3",
   "language": "python",
   "name": "python3"
  },
  "language_info": {
   "codemirror_mode": {
    "name": "ipython",
    "version": 3
   },
   "file_extension": ".py",
   "mimetype": "text/x-python",
   "name": "python",
   "nbconvert_exporter": "python",
   "pygments_lexer": "ipython3",
   "version": "3.11.9"
  }
 },
 "nbformat": 4,
 "nbformat_minor": 2
}
