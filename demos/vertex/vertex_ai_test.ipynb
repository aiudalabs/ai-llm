{
 "cells": [
  {
   "cell_type": "code",
   "metadata": {
    "ExecuteTime": {
     "end_time": "2024-07-02T03:33:46.691519Z",
     "start_time": "2024-07-02T03:33:44.018911Z"
    }
   },
   "source": [
    "import vertexai\n",
    "from vertexai.preview import reasoning_engines\n",
    "\n",
    "PROJECT_ID = \"aiuda-ffc77\"\n",
    "\n",
    "vertexai.init(\n",
    "    project=PROJECT_ID,\n",
    "    location=\"us-central1\",\n",
    "    staging_bucket=\"gs://aiuda-docs\",\n",
    ")"
   ],
   "outputs": [],
   "execution_count": 1
  },
  {
   "cell_type": "code",
   "metadata": {
    "ExecuteTime": {
     "end_time": "2024-07-02T03:33:49.701805Z",
     "start_time": "2024-07-02T03:33:49.698421Z"
    }
   },
   "source": [
    "model = \"gemini-1.0-pro\""
   ],
   "outputs": [],
   "execution_count": 2
  },
  {
   "cell_type": "code",
   "metadata": {
    "ExecuteTime": {
     "end_time": "2024-07-02T03:34:04.623593Z",
     "start_time": "2024-07-02T03:33:53.017041Z"
    }
   },
   "source": [
    "!pip install --upgrade --quiet  langchain-core langchain-google-vertexai"
   ],
   "outputs": [],
   "execution_count": 3
  },
  {
   "metadata": {},
   "cell_type": "code",
   "outputs": [],
   "execution_count": null,
   "source": ""
  },
  {
   "cell_type": "code",
   "metadata": {
    "ExecuteTime": {
     "end_time": "2024-07-02T03:34:07.043311Z",
     "start_time": "2024-07-02T03:34:06.537083Z"
    }
   },
   "source": [
    "from langchain_google_vertexai import HarmBlockThreshold, HarmCategory\n",
    "\n",
    "safety_settings = {\n",
    "    # HarmCategory.HARM_CATEGORY_UNSPECIFIED: HarmBlockThreshold.BLOCK_NONE,\n",
    "    HarmCategory.HARM_CATEGORY_DANGEROUS_CONTENT: HarmBlockThreshold.BLOCK_MEDIUM_AND_ABOVE,\n",
    "    HarmCategory.HARM_CATEGORY_HATE_SPEECH: HarmBlockThreshold.BLOCK_ONLY_HIGH,\n",
    "    HarmCategory.HARM_CATEGORY_HARASSMENT: HarmBlockThreshold.BLOCK_LOW_AND_ABOVE,\n",
    "    HarmCategory.HARM_CATEGORY_SEXUALLY_EXPLICIT: HarmBlockThreshold.BLOCK_NONE,\n",
    "}"
   ],
   "outputs": [],
   "execution_count": 4
  },
  {
   "cell_type": "code",
   "metadata": {
    "ExecuteTime": {
     "end_time": "2024-07-02T03:34:11.035870Z",
     "start_time": "2024-07-02T03:34:11.029313Z"
    }
   },
   "source": [
    "model_kwargs = {\n",
    "    # temperature (float): The sampling temperature controls the degree of\n",
    "    # randomness in token selection.\n",
    "    \"temperature\": 0.28,\n",
    "    # max_output_tokens (int): The token limit determines the maximum amount of\n",
    "    # text output from one prompt.\n",
    "    \"max_output_tokens\": 1000,\n",
    "    # top_p (float): Tokens are selected from most probable to least until\n",
    "    # the sum of their probabilities equals the top-p value.\n",
    "    \"top_p\": 0.95,\n",
    "    # top_k (int): The next token is selected from among the top-k most\n",
    "    # probable tokens.\n",
    "    \"top_k\": 40,\n",
    "    # safety_settings (Dict[HarmCategory, HarmBlockThreshold]): The safety\n",
    "    # settings to use for generating content.\n",
    "    # \"safety_settings\": safety_settings,\n",
    "}"
   ],
   "outputs": [],
   "execution_count": 5
  },
  {
   "cell_type": "code",
   "metadata": {
    "ExecuteTime": {
     "end_time": "2024-07-02T03:34:15.453212Z",
     "start_time": "2024-07-02T03:34:15.446529Z"
    }
   },
   "source": [
    "def get_exchange_rate(\n",
    "    currency_from: str = \"USD\",\n",
    "    currency_to: str = \"EUR\",\n",
    "    currency_date: str = \"latest\",\n",
    "):\n",
    "    \"\"\"Retrieves the exchange rate between two currencies on a specified date.\n",
    "\n",
    "    Uses the Frankfurter API (https://api.frankfurter.app/) to obtain\n",
    "    exchange rate data.\n",
    "\n",
    "    Args:\n",
    "        currency_from: The base currency (3-letter currency code).\n",
    "            Defaults to \"USD\" (US Dollar).\n",
    "        currency_to: The target currency (3-letter currency code).\n",
    "            Defaults to \"EUR\" (Euro).\n",
    "        currency_date: The date for which to retrieve the exchange rate.\n",
    "            Defaults to \"latest\" for the most recent exchange rate data.\n",
    "            Can be specified in YYYY-MM-DD format for historical rates.\n",
    "\n",
    "    Returns:\n",
    "        dict: A dictionary containing the exchange rate information.\n",
    "            Example: {\"amount\": 1.0, \"base\": \"USD\", \"date\": \"2023-11-24\",\n",
    "                \"rates\": {\"EUR\": 0.95534}}\n",
    "    \"\"\"\n",
    "    import requests\n",
    "\n",
    "    response = requests.get(\n",
    "        f\"https://api.frankfurter.app/{currency_date}\",\n",
    "        params={\"from\": currency_from, \"to\": currency_to},\n",
    "    )\n",
    "    return response.json()"
   ],
   "outputs": [],
   "execution_count": 6
  },
  {
   "cell_type": "code",
   "metadata": {
    "ExecuteTime": {
     "end_time": "2024-07-02T03:34:17.650348Z",
     "start_time": "2024-07-02T03:34:16.836239Z"
    }
   },
   "source": [
    "# Test the function\n",
    "\n",
    "get_exchange_rate(currency_from=\"USD\", currency_to=\"SEK\")"
   ],
   "outputs": [
    {
     "data": {
      "text/plain": [
       "{'amount': 1.0, 'base': 'USD', 'date': '2024-07-01', 'rates': {'SEK': 10.5793}}"
      ]
     },
     "execution_count": 7,
     "metadata": {},
     "output_type": "execute_result"
    }
   ],
   "execution_count": 7
  },
  {
   "cell_type": "code",
   "metadata": {
    "ExecuteTime": {
     "end_time": "2024-07-02T03:34:20.385242Z",
     "start_time": "2024-07-02T03:34:20.380144Z"
    }
   },
   "source": [
    "agent = reasoning_engines.LangchainAgent(\n",
    "    model=model,  # Required.\n",
    "    tools=[get_exchange_rate],  # Optional.\n",
    "    model_kwargs=model_kwargs,  # Optional.\n",
    ")"
   ],
   "outputs": [],
   "execution_count": 8
  },
  {
   "cell_type": "code",
   "execution_count": null,
   "metadata": {},
   "outputs": [],
   "source": []
  },
  {
   "cell_type": "code",
   "metadata": {
    "ExecuteTime": {
     "end_time": "2024-07-02T03:34:28.086070Z",
     "start_time": "2024-07-02T03:34:24.205197Z"
    }
   },
   "source": [
    "response = agent.query(\n",
    "    input=\"What is the exchange rate from US dollars to Brasilian Real currency?\"\n",
    ")"
   ],
   "outputs": [],
   "execution_count": 9
  },
  {
   "cell_type": "code",
   "metadata": {
    "ExecuteTime": {
     "end_time": "2024-07-02T03:34:28.098484Z",
     "start_time": "2024-07-02T03:34:28.089592Z"
    }
   },
   "source": [
    "response"
   ],
   "outputs": [
    {
     "data": {
      "text/plain": [
       "{'input': 'What is the exchange rate from US dollars to Brasilian Real currency?',\n",
       " 'output': 'The exchange rate from US dollars to Brazilian Real as of today, 2024-07-01, is 1 USD = 5.5855 BRL. \\n'}"
      ]
     },
     "execution_count": 10,
     "metadata": {},
     "output_type": "execute_result"
    }
   ],
   "execution_count": 10
  },
  {
   "cell_type": "markdown",
   "metadata": {},
   "source": [
    "# Deploy de App"
   ]
  },
  {
   "cell_type": "code",
   "metadata": {
    "ExecuteTime": {
     "end_time": "2024-07-02T03:38:28.527554Z",
     "start_time": "2024-07-02T03:34:37.705759Z"
    }
   },
   "source": [
    "DISPLAY_NAME = \"Demo Langchain Application\"\n",
    "\n",
    "remote_app = reasoning_engines.ReasoningEngine.create(\n",
    "    reasoning_engines.LangchainAgent(\n",
    "        model=model,\n",
    "        tools=[get_exchange_rate],\n",
    "        model_kwargs=model_kwargs,\n",
    "    ),\n",
    "    requirements=[\n",
    "        \"google-cloud-aiplatform[reasoningengine,langchain]\",\n",
    "    ],\n",
    "    display_name=DISPLAY_NAME,\n",
    ")\n",
    "remote_app"
   ],
   "outputs": [
    {
     "name": "stdout",
     "output_type": "stream",
     "text": [
      "Using bucket aiuda-docs\n",
      "Writing to gs://aiuda-docs/reasoning_engine/reasoning_engine.pkl\n",
      "Writing to gs://aiuda-docs/reasoning_engine/requirements.txt\n",
      "Creating in-memory tarfile of extra_packages\n",
      "Writing to gs://aiuda-docs/reasoning_engine/dependencies.tar.gz\n",
      "Creating ReasoningEngine\n",
      "Create ReasoningEngine backing LRO: projects/286295157330/locations/us-central1/reasoningEngines/5870899511114596352/operations/4227073311978291200\n",
      "ReasoningEngine created. Resource name: projects/286295157330/locations/us-central1/reasoningEngines/5870899511114596352\n",
      "To use this ReasoningEngine in another session:\n",
      "reasoning_engine = vertexai.preview.reasoning_engines.ReasoningEngine('projects/286295157330/locations/us-central1/reasoningEngines/5870899511114596352')\n"
     ]
    },
    {
     "data": {
      "text/plain": [
       "<vertexai.reasoning_engines._reasoning_engines.ReasoningEngine object at 0x777ec75adb90> \n",
       "resource name: projects/286295157330/locations/us-central1/reasoningEngines/5870899511114596352"
      ]
     },
     "execution_count": 11,
     "metadata": {},
     "output_type": "execute_result"
    }
   ],
   "execution_count": 11
  },
  {
   "cell_type": "code",
   "metadata": {
    "ExecuteTime": {
     "end_time": "2024-07-02T04:44:59.972480Z",
     "start_time": "2024-07-02T04:44:59.967100Z"
    }
   },
   "source": "#!pip install google-cloud-aiplatform[reasoningengine]",
   "outputs": [],
   "execution_count": 12
  },
  {
   "cell_type": "code",
   "metadata": {
    "ExecuteTime": {
     "end_time": "2024-07-02T04:45:56.713683Z",
     "start_time": "2024-07-02T04:45:56.709885Z"
    }
   },
   "source": "remote_app.resource_name",
   "outputs": [
    {
     "data": {
      "text/plain": [
       "'projects/286295157330/locations/us-central1/reasoningEngines/5870899511114596352'"
      ]
     },
     "execution_count": 13,
     "metadata": {},
     "output_type": "execute_result"
    }
   ],
   "execution_count": 13
  },
  {
   "metadata": {
    "ExecuteTime": {
     "end_time": "2024-07-02T04:46:43.225937Z",
     "start_time": "2024-07-02T04:46:38.270436Z"
    }
   },
   "cell_type": "code",
   "source": "response = remote_app.query(input=\"What is the exchange rate from US dollars to Swedish currency?\")",
   "outputs": [],
   "execution_count": 15
  },
  {
   "metadata": {
    "ExecuteTime": {
     "end_time": "2024-07-02T04:47:12.590141Z",
     "start_time": "2024-07-02T04:47:12.584072Z"
    }
   },
   "cell_type": "code",
   "source": "response['output']",
   "outputs": [
    {
     "data": {
      "text/plain": [
       "'The exchange rate from US dollars to Swedish krona (SEK) is 1 USD = 10.5793 SEK as of July 1, 2024.'"
      ]
     },
     "execution_count": 17,
     "metadata": {},
     "output_type": "execute_result"
    }
   ],
   "execution_count": 17
  },
  {
   "metadata": {},
   "cell_type": "markdown",
   "source": "# Manage the deployed application"
  },
  {
   "metadata": {
    "ExecuteTime": {
     "end_time": "2024-07-02T04:48:01.977881Z",
     "start_time": "2024-07-02T04:48:01.274360Z"
    }
   },
   "cell_type": "code",
   "source": "reasoning_engines.ReasoningEngine.list()",
   "outputs": [
    {
     "data": {
      "text/plain": [
       "[<vertexai.reasoning_engines._reasoning_engines.ReasoningEngine object at 0x777ec7382750> \n",
       " resource name: projects/286295157330/locations/us-central1/reasoningEngines/5870899511114596352,\n",
       " <vertexai.reasoning_engines._reasoning_engines.ReasoningEngine object at 0x777ec73cd110> \n",
       " resource name: projects/286295157330/locations/us-central1/reasoningEngines/5808552803773186048]"
      ]
     },
     "execution_count": 18,
     "metadata": {},
     "output_type": "execute_result"
    }
   ],
   "execution_count": 18
  },
  {
   "metadata": {
    "ExecuteTime": {
     "end_time": "2024-07-02T04:49:09.663675Z",
     "start_time": "2024-07-02T04:49:08.979071Z"
    }
   },
   "cell_type": "code",
   "source": "reasoning_engines.ReasoningEngine.list(filter='display_name=\"Demo Langchain Application\"')",
   "outputs": [
    {
     "data": {
      "text/plain": [
       "[<vertexai.reasoning_engines._reasoning_engines.ReasoningEngine object at 0x777ec7383790> \n",
       " resource name: projects/286295157330/locations/us-central1/reasoningEngines/5870899511114596352]"
      ]
     },
     "execution_count": 19,
     "metadata": {},
     "output_type": "execute_result"
    }
   ],
   "execution_count": 19
  },
  {
   "metadata": {},
   "cell_type": "code",
   "outputs": [],
   "execution_count": null,
   "source": ""
  },
  {
   "metadata": {},
   "cell_type": "code",
   "outputs": [],
   "execution_count": null,
   "source": ""
  }
 ],
 "metadata": {
  "kernelspec": {
   "display_name": "llm",
   "language": "python",
   "name": "python3"
  },
  "language_info": {
   "codemirror_mode": {
    "name": "ipython",
    "version": 3
   },
   "file_extension": ".py",
   "mimetype": "text/x-python",
   "name": "python",
   "nbconvert_exporter": "python",
   "pygments_lexer": "ipython3",
   "version": "3.11.9"
  }
 },
 "nbformat": 4,
 "nbformat_minor": 2
}
