{
 "cells": [
  {
   "cell_type": "code",
   "execution_count": 1,
   "metadata": {
    "ExecuteTime": {
     "end_time": "2024-07-02T03:33:46.691519Z",
     "start_time": "2024-07-02T03:33:44.018911Z"
    }
   },
   "outputs": [],
   "source": [
    "import vertexai\n",
    "from vertexai.preview import reasoning_engines\n",
    "\n",
    "PROJECT_ID = \"aiuda-ffc77\"\n",
    "\n",
    "vertexai.init(\n",
    "    project=PROJECT_ID,\n",
    "    location=\"us-central1\",\n",
    "    staging_bucket=\"gs://aiuda-docs\",\n",
    ")"
   ]
  },
  {
   "cell_type": "code",
   "execution_count": 2,
   "metadata": {
    "ExecuteTime": {
     "end_time": "2024-07-02T03:33:49.701805Z",
     "start_time": "2024-07-02T03:33:49.698421Z"
    }
   },
   "outputs": [],
   "source": [
    "model = \"gemini-1.0-pro\""
   ]
  },
  {
   "cell_type": "code",
   "execution_count": 3,
   "metadata": {
    "ExecuteTime": {
     "end_time": "2024-07-02T03:34:04.623593Z",
     "start_time": "2024-07-02T03:33:53.017041Z"
    }
   },
   "outputs": [],
   "source": [
    "!pip install --upgrade --quiet  langchain-core langchain-google-vertexai"
   ]
  },
  {
   "cell_type": "code",
   "execution_count": 3,
   "metadata": {},
   "outputs": [
    {
     "name": "stdout",
     "output_type": "stream",
     "text": [
      "0:00 Speaker A Your devices are getting better over time and so, we think about it across the entire portfolio from phones to watch to buds to tablet. We get really excited about how we can tell a joint narrative across everything.\n",
      "0:18 Speaker B Welcome to the Made by Google podcast, where we meet the people who work on the Google products you love. Here's your host, Rasheed Finch. Today, we're talking to Aisha Sharif and DeCarlos Love. They're both product managers for various Pixel devices and work on something that all the Pixel owners love, the Pixel feature drops. This is the Made by Google Podcast. Aisha, which feature on your Pixel phone has been most transformative in your own life?\n",
      "0:54 Speaker C So many features. I am a singer, so I actually think recorded transcription has been incredible. Because before I would record songs, I just like freestyle them, record them, type them up, but now with transcription, it works so well, even deciphering lyrics that are jumbled, I think that's huge.\n",
      "1:26 Speaker B Amazing. DeCarlos, same question to you, but for Pixel Watch, of course. Long-time listeners will know you work on Pixel Watch. What has been the most transformative feature in your own life on Pixel Watch?\n",
      "1:43 Speaker D I work on the fitness experiences and so, for me, it's definitely the ability to track my heart rate, but specifically, around the different heart rate targets and zone features that we've released. For me, it's been super helpful. My background is in more football, track and field, in terms of what I've done before, and so using the heart rate features to really help me understand that I shouldn't be going as hard when I'm running, you know, leisurely 2 or 3 miles and helping me really tone that down a bit. It's actually been pretty transformative for me to see how things like my resting heart rate have changed due to that feature.\n",
      "2:28 Speaker B Amazing. And Aisha, I know we spend a lot of time and energy on feature drops within the Pixel team. Why are they so important to us?\n",
      "2:43 Speaker C So, exactly what DeCarlos said. They're important to this narrative that your devices are getting better over time and so, we think about it across the entire portfolio from phones to watch to buds to tablet to fold, which is also a phone, but, we even thrown in, like, Chromecast to our drops sometimes and so we get really excited about how we can tell a joint narrative across everything. The other part is, with our Pixel 8 and 8 Pro, and I'm still so excited about this, we have 7 years of OS updates, security updates, and feature drops. And so, feature drops just pair so nicely into this narrative of how your devices are getting better over time and they'll continue to get better over time.\n",
      "3:33 Speaker B Yeah, we'll still be talking about Pixel 8 and Pixel 8 Pro in 2030, with those 7 years of software updates and I promise, we'll have an episode on that shortly. Now, the March feature drop is upon us but I just wanted to look back to the last one, first one from January. Aisha, could you tell us some of the highlights from the January one that just launched?\n",
      "3:58 Speaker C So it was one of the few times that we've done a software drop with hardware as well. So, it was really exciting to get that new mint color out on Pixel 8 and 8 Pro. We also had the body temperature sensor launched in the US, so now you're able to, actually, just with like, a scan of your forehead, get your body temp, which is huge. And then, a ton of AI enhancements circle to search came to Pixel 8 and 8 Pro so you can search from anywhere. One of my favorites, photo emoji. So now, you can use photos that you have in your album and react to messages with them. Most random, I was hosting a donut ice cream party and literally had a picture of a donut ice cream sandwich that I used to react to messages. Love those little random random reactions that you can put out there.\n",
      "5:00 Speaker B Amazing. And that was just 2 months ago. Now, we're upon the March feature drop already. There's one for Pixel phones, then one for Pixel Watches as well. Let's start now with the watch, DeCarlos. What's new in March?\n",
      "5:19 Speaker D The big story for us is that not only are we going to make sure that all of your watches get better over time, but, specifically, bringing things to previous gen watches. So, we had some features that launched on the Pixel Watch 2 and in this feature drop we're bringing those features to the Pixel Watch 1. Some of the things specifically are looking at our pace features. The thing I mentioned earlier around our heart rate features as well are coming to the Pixel Watch 1. That's allows you to to kind of set those different settings to target a pace that you want to stay within and get those notifications while you're working out if you're ahead or above that pace and similar with the heart rate zones as well. We're also bringing activity recognition to Pixel Watch 1 and users in addition to auto pause will be able to leverage activity recognition for them to start their workouts in case they forget to actually start it on their own, as well as they'll get a notification to help them stop their workouts in case they forget to end their workout when they're actually done. Outside of workouts, another feature that's coming in this feature drop is really around the FitBit relax app. Something that folks enjoy from Pixel Watch 2, we're also bringing that there so people can jump into, you know, take a relaxful moment and work through breathing exercises right on their wrist. \n",
      "6:42 Speaker B Let's get to the March feature drop on the phone side now. Aisha, what's new for Pixel phone users? \n",
      "6:51 Speaker C So I'm going to send the sentiment that DeCarlos shared with March really being around devices being made to last. So, Pixel Watch 1 getting features from Pixel Watch 2, we're seeing that on the phone side as well. So, Circle to Search will be expanding to Pixel 7 and 7 Pro. We're also seeing 10-bit HDR move outside of just the camera, but, it'll be available in Instagram so you can take really high quality reels. We also have partial screen sharing, so instead of having to share your entire screen of your phone or your tablet, when you're in a meeting or you might be casting, now, you can just share a specific app, which is huge for privacy. \n",
      "7:37 Speaker B Those are some amazing updates in the March feature drop. Could you tell us a little bit more about, is there any news maybe for the rest of the portfolio as well? \n",
      "7:49 Speaker C Yeah, so our screen sharing is coming to tablet, we're also seeing Docs Markup come to tablet. So, you can actually just, directly, what it sounds like, markup docs, uh, but, draw in them, take notes in them and you can do that on your phone as well. And then, another one that's amazing, Bluetooth connection is getting even better. So if you've previously connected, maybe, buds to a phone, now, you just bought a tablet. It'll show that those were associated with your account and you can much more easily connect those devices as well. \n",
      "8:29 Speaker B There is a part of this conversation I'm looking forward to most, which is asking a question from the Pixel super fans community. They're getting the opportunity each episode to ask a question and today's question comes from Casey Carpenter and they're asking, what drives your choice of new software in releases? Which is a good one. So, you mentioned now, uh, and DeCarlos, we'll start with you, you mentioned a set of features coming to the first generation Pixel Watch like, how do you sort of decide which ones make to cut this time, which one maybe come next time. How does that work?\n",
      "9:13 Speaker D For us, we we really think about the the core principle of, we want to make sure that these devices are able to continue to get better. And, we know that there has been improvements from Pixel Watch 2 and so in this case, it's about making sure that we we bring those features to the Pixel Watch 1 as well. Obviously, we'd like to think about can it actually happen. Sometimes there maybe new sensors or things like that on a newer generation that are just make some features not possible for a previous gen, but in the event that we can bring it back, we always strive to do that. Especially when we know that we have a lot of good reception from those features and users that are kind of given us the feedback on the helpfulness of them. What are the things that the users really value and really lean into that as helping shape how we think about what comes next?\n",
      "10:05 Speaker B Aisha, DeCarlos mentioned user feedback as a part of deciding what's coming in a feature drop. How important is that in making all of the decisions?\n",
      "10:20 Speaker C I think user feedback is huge to everything that we do across devices. So, in our drops, we're always thinking about what improvements we can bring to people based on user feedback, but, based on what we're hearing. And so, feature drops are a really great way to continue to enhance features that have already gone out and add improvements on top of them. It's also a way for us to introduce things that are completely new or, like DeCarlos mentioned, take things that were on newer devices and bring them back to older devices.\n",
      "10:55 Speaker B Now, I'm sure there are a lot of people listening wondering when can they get their hands on these new features. When is the March feature drop actually landing on their devices? Any thoughts there?\n",
      "11:09 Speaker C So, March feature drop, all these features will start rolling out today, March 4th.\n",
      "11:16 Speaker B Now, we've had many, many, many feature drops over the years and I'm wondering, are there any particular features that stand out to you that we launched in a feature drop, maybe, Aisha, I can start with you?\n",
      "11:33 Speaker C I think all of the call features have been incredibly helpful for me. So, a couple of my favorites, call screen, we had an enhancement in December where you get contextual chips now. So, if somebody is like, leaving a package and you're in the middle of a meeting, you can respond to that. Also, Direct My Call is available for non-toll free numbers, so if you're calling a doctor's office that starts with just your local area code, now you can actually use Direct My Call on that which is such a time-saver as well and Clear Calling, love that feature, especially when I'm trying to talk to my mom and she's talking to a million people around her as we're trying to have a conversation. So, all incredibly, incredibly helpful features.\n",
      "12:22 Speaker B That's amazing. Such staples of the Pixel family right now and they all came through a feature drop. DeCarlos, of course, Pixel Watch has had several feature drops as well. Any favorites in there for you? \n",
      "12:37 Speaker D Yeah, I have a couple outside of the things that are launching right now. I think one was when we released the SpO2 feature in a feature drop. That was one of the things that we heard and knew from the original launch of Pixel Watch 1 that people were excited and looking forward to. So, it measures your oxygen saturation, you can wear your watch when you sleep and overnight, we'll we'll measure that SpO2 oxygen saturation while you're sleeping. So, that was an exciting one and we got a lot of good feedback on being able to to release that and bring that to the Pixel Watch 1 initially. So, that was special. Oh, actually, one of the things that's happening in this latest feature drop with the Relax app, I just really love the attention in the design around the breathing animations and so something that folks should definitely check out is, you know, that the team that put a lot of good work into just thinking about the pace at which that animation occurs. It's something that you can look at and just kind of lose time just looking and seeing how those haptics in that animation happens.\n",
      "13:49 Speaker B Amazing. It's always the little things that make it extra special, right? Absolutely. That's perfect. Aisha, DeCarlos, thank you so much for making Christmas come early once again and we're all looking forward to the feature drop in March.\n",
      "14:02 Speaker C Thank you.\n",
      "14:04 Speaker D Thank you.\n",
      "14:05 Speaker B Thank you for listening to the Made by Google Podcast. Don't miss out on new episodes. Subscribe now, wherever you get your podcasts to be the first to listen. \n"
     ]
    }
   ],
   "source": [
    "import vertexai\n",
    "from vertexai.generative_models import GenerativeModel, Part\n",
    "\n",
    "# TODO(developer): Update and un-comment below lines\n",
    "# project_id = \"PROJECT_ID\"\n",
    "\n",
    "# vertexai.init(project=project_id, location=\"us-central1\")\n",
    "\n",
    "model = GenerativeModel(model_name=\"gemini-1.5-flash-001\")\n",
    "\n",
    "prompt = \"\"\"\n",
    "Can you transcribe this interview, in the format of timecode, speaker, caption.\n",
    "Use speaker A, speaker B, etc. to identify speakers.\n",
    "\"\"\"\n",
    "\n",
    "audio_file_uri = \"gs://cloud-samples-data/generative-ai/audio/pixel.mp3\"\n",
    "audio_file = Part.from_uri(audio_file_uri, mime_type=\"audio/mpeg\")\n",
    "\n",
    "contents = [audio_file, prompt]\n",
    "\n",
    "response = model.generate_content(contents)\n",
    "print(response.text)"
   ]
  },
  {
   "cell_type": "code",
   "execution_count": 4,
   "metadata": {},
   "outputs": [
    {
     "name": "stdout",
     "output_type": "stream",
     "text": [
      "## Traducción al español\n",
      "\n",
      "0:00 Orador A Tus dispositivos están mejorando con el tiempo y por eso, pensamos en ello en todo el portafolio, desde teléfonos hasta relojes, auriculares y tabletas. Nos emociona mucho cómo podemos contar una narrativa conjunta en todo.\n",
      "0:18 Orador B Bienvenidos al podcast de Made by Google, donde conocemos a las personas que trabajan en los productos de Google que te encantan. Aquí está tu presentador, Rasheed Finch. Hoy, hablamos con Aisha Sharif y DeCarlos Love. Ambos son gerentes de producto para varios dispositivos Pixel y trabajan en algo que todos los propietarios de Pixel adoran: las caídas de funciones de Pixel. Este es el podcast de Made by Google. Aisha, ¿qué función en tu teléfono Pixel ha sido más transformadora en tu propia vida?\n",
      "0:54 Orador C Tantas funciones. Soy cantante, así que creo que la transcripción grabada ha sido increíble. Porque antes grababa canciones, solo las improvisaba, las grababa, las escribía, pero ahora con la transcripción, funciona tan bien, incluso descifrando letras que están mezcladas, creo que eso es enorme.\n",
      "1:26 Orador B Increíble. DeCarlos, la misma pregunta para ti, pero para Pixel Watch, por supuesto. Los oyentes de larga duración sabrán que trabajas en Pixel Watch. ¿Cuál ha sido la función más transformadora en tu propia vida en Pixel Watch?\n",
      "1:43 Orador D Trabajo en las experiencias de acondicionamiento físico y por eso, para mí, es definitivamente la capacidad de rastrear mi frecuencia cardíaca, pero específicamente, en torno a los diferentes objetivos de frecuencia cardíaca y las funciones de zona que hemos lanzado. Para mí, ha sido súper útil. Mi experiencia es en fútbol, atletismo, en términos de lo que he hecho antes, y usar las funciones de frecuencia cardíaca para realmente ayudarme a comprender que no debería ir tan fuerte cuando estoy corriendo, ya sabes, de manera tranquila 2 o 3 millas y ayudándome a reducir eso un poco. En realidad ha sido bastante transformador para mí ver cómo cosas como mi frecuencia cardíaca en reposo han cambiado debido a esa función.\n",
      "2:28 Orador B Increíble. Y Aisha, sé que dedicamos mucho tiempo y energía a las caídas de funciones dentro del equipo de Pixel. ¿Por qué son tan importantes para nosotros?\n",
      "2:43 Orador C Entonces, exactamente lo que dijo DeCarlos. Son importantes para esta narrativa de que tus dispositivos están mejorando con el tiempo y por eso, pensamos en ello en todo el portafolio, desde teléfonos hasta relojes, auriculares hasta tabletas hasta plegables, que también es un teléfono, pero incluso hemos incluido, como, Chromecast a nuestras caídas a veces y por eso, nos entusiasma mucho cómo podemos contar una narrativa conjunta en todo. La otra parte es que, con nuestro Pixel 8 y 8 Pro, y todavía estoy muy emocionada con esto, tenemos 7 años de actualizaciones del sistema operativo, actualizaciones de seguridad y caídas de funciones. Y por eso, las caídas de funciones simplemente se combinan muy bien con esta narrativa de cómo tus dispositivos están mejorando con el tiempo y seguirán mejorando con el tiempo.\n",
      "3:33 Orador B Sí, todavía estaremos hablando de Pixel 8 y Pixel 8 Pro en 2030, con esos 7 años de actualizaciones de software y te prometo que tendremos un episodio sobre eso en breve. Ahora, la caída de funciones de marzo está a la vuelta de la esquina, pero solo quería mirar hacia atrás a la última, la primera de enero. Aisha, ¿podrías contarnos algunos de los aspectos más destacados de la de enero que se acaba de lanzar?\n",
      "3:58 Orador C Entonces, fue una de las pocas veces que hicimos una caída de software con hardware también. Por lo tanto, fue realmente emocionante sacar ese nuevo color menta en Pixel 8 y 8 Pro. También lanzamos el sensor de temperatura corporal en los EE. UU., por lo que ahora puedes, en realidad, con solo un escaneo de tu frente, obtener tu temperatura corporal, lo cual es enorme. Y luego, una gran cantidad de mejoras de IA se incorporaron a la búsqueda circular para Pixel 8 y 8 Pro, por lo que puedes buscar desde cualquier lugar. Uno de mis favoritos, el emoji de foto. Entonces, ahora, puedes usar fotos que tienes en tu álbum y reaccionar a los mensajes con ellas. Lo más aleatorio, estaba organizando una fiesta de helado de donas y literalmente tenía una foto de un sándwich de helado de donas que usé para reaccionar a los mensajes. Me encantan esas pequeñas reacciones aleatorias aleatorias que puedes publicar.\n",
      "5:00 Orador B Increíble. Y eso fue hace solo 2 meses. Ahora, ya estamos en la caída de funciones de marzo. Hay una para teléfonos Pixel, y luego una para Pixel Watches también. Empecemos ahora con el reloj, DeCarlos. ¿Qué hay de nuevo en marzo?\n",
      "5:19 Orador D La gran noticia para nosotros es que no solo vamos a asegurarnos de que todos tus relojes mejoren con el tiempo, sino que, específicamente, traigamos cosas a los relojes de generación anterior. Entonces, tuvimos algunas funciones que se lanzaron en el Pixel Watch 2 y en esta caída de funciones, estamos trayendo esas funciones al Pixel Watch 1. Algunas de las cosas específicamente están viendo nuestras funciones de ritmo. Lo que mencioné anteriormente sobre nuestras funciones de frecuencia cardíaca también está llegando al Pixel Watch 1. Eso te permite configurar esos diferentes ajustes para apuntar a un ritmo que deseas mantener y obtener esas notificaciones mientras haces ejercicio si estás por delante o por encima de ese ritmo y similar con las zonas de frecuencia cardíaca también. También estamos trayendo el reconocimiento de actividad al Pixel Watch 1 y los usuarios, además de la pausa automática, podrán aprovechar el reconocimiento de actividad para que puedan comenzar sus entrenamientos en caso de que se olviden de iniciarlo por su cuenta, así como recibirán una notificación para ayudarlos a detener sus entrenamientos en caso de que se olviden de finalizar el entrenamiento cuando realmente lo hayan terminado. Fuera de los entrenamientos, otra función que llega en esta caída de funciones es realmente alrededor de la aplicación FitBit relajar. Algo que la gente disfruta del Pixel Watch 2, también lo estamos trayendo allí para que la gente pueda saltar, ya sabes, tomarse un momento relajante y trabajar con ejercicios de respiración directamente en su muñeca.\n",
      "6:42 Orador B Vayamos a la caída de funciones de marzo en el lado del teléfono ahora. Aisha, ¿qué hay de nuevo para los usuarios de teléfonos Pixel?\n",
      "6:51 Orador C Entonces, voy a enviar el sentimiento que DeCarlos compartió con marzo realmente girando en torno a que los dispositivos están hechos para durar. Entonces, Pixel Watch 1 obtiene funciones de Pixel Watch 2, también lo estamos viendo en el lado del teléfono. Entonces, Circle to Search se expandirá a Pixel 7 y 7 Pro. También estamos viendo que el HDR de 10 bits se mueve más allá de la cámara, pero estará disponible en Instagram para que puedas tomar reels de muy alta calidad. También tenemos el uso compartido parcial de pantalla, por lo que, en lugar de tener que compartir toda la pantalla de tu teléfono o tableta, cuando estás en una reunión o tal vez estás transmitiendo, ahora puedes compartir solo una aplicación específica, lo cual es enorme para la privacidad.\n",
      "7:37 Orador B Esas son actualizaciones increíbles en la caída de funciones de marzo. ¿Podrías contarnos un poco más sobre si hay alguna noticia, tal vez, para el resto del portafolio también?\n",
      "7:49 Orador C Sí, entonces nuestro uso compartido de pantalla está llegando a la tableta, también estamos viendo que Docs Markup llega a la tableta. Entonces, en realidad puedes, directamente, como suena, marcar documentos, eh, pero dibujar en ellos, tomar notas en ellos y puedes hacer eso en tu teléfono también. Y luego, otra que es increíble, la conexión Bluetooth está mejorando aún más. Entonces, si previamente conectaste, tal vez, auriculares a un teléfono, ahora, acabas de comprar una tableta. Mostrará que esos estaban asociados con tu cuenta y puedes conectar esos dispositivos mucho más fácilmente también.\n",
      "8:29 Orador B Hay una parte de esta conversación que más espero, que es hacer una pregunta de la comunidad de súper fanáticos de Pixel. Están teniendo la oportunidad cada episodio de hacer una pregunta y la pregunta de hoy proviene de Casey Carpenter y están preguntando, ¿qué impulsa tu elección de nuevo software en las versiones? Lo cual es bueno. Entonces, mencionaste ahora, uh, y DeCarlos, comenzaremos contigo, mencionaste un conjunto de funciones que llegarán al Pixel Watch de primera generación, como, ¿cómo decides cuáles cortar esta vez, cuáles podrían venir la próxima vez? ¿Cómo funciona eso?\n",
      "9:13 Orador D Para nosotros, realmente pensamos en el principio fundamental de que queremos asegurarnos de que estos dispositivos puedan seguir mejorando. Y sabemos que ha habido mejoras desde Pixel Watch 2 y por eso, en este caso, se trata de asegurarnos de que también traigamos esas funciones al Pixel Watch 1. Obviamente, nos gustaría pensar en si realmente puede suceder. A veces, puede haber nuevos sensores o cosas como esa en una nueva generación que simplemente hacen que algunas funciones no sean posibles para una generación anterior, pero en el caso de que podamos devolverla, siempre nos esforzamos por hacerlo. Especialmente cuando sabemos que tenemos una buena recepción de esas funciones y usuarios que nos están dando retroalimentación sobre su utilidad. ¿Cuáles son las cosas que los usuarios realmente valoran y realmente se inclinan hacia eso para ayudar a moldear cómo pensamos en lo que viene después?\n",
      "10:05 Orador B Aisha, DeCarlos mencionó la retroalimentación del usuario como parte de la decisión de lo que viene en una caída de funciones. ¿Qué tan importante es eso para tomar todas las decisiones?\n",
      "10:20 Orador C Creo que la retroalimentación del usuario es enorme para todo lo que hacemos en todos los dispositivos. Entonces, en nuestras caídas, siempre estamos pensando en qué mejoras podemos brindar a las personas en función de la retroalimentación del usuario, pero en función de lo que estamos escuchando. Y por eso, las caídas de funciones son una forma realmente genial de seguir mejorando las funciones que ya se han lanzado y agregar mejoras en la parte superior de ellas. También es una forma para nosotros de introducir cosas completamente nuevas o, como mencionó DeCarlos, tomar cosas que estaban en dispositivos más nuevos y llevarlas de vuelta a los dispositivos más antiguos.\n",
      "10:55 Orador B Ahora, estoy seguro de que mucha gente que escucha se pregunta cuándo pueden poner sus manos en estas nuevas funciones. ¿Cuándo se lanzará realmente la caída de funciones de marzo en sus dispositivos? ¿Algún pensamiento ahí?\n",
      "11:09 Orador C Entonces, la caída de funciones de marzo, todas estas funciones comenzarán a implementarse hoy, 4 de marzo.\n",
      "11:16 Orador B Ahora, hemos tenido muchas, muchas, muchas caídas de funciones a lo largo de los años y me pregunto, ¿hay alguna función en particular que te destaque que hayamos lanzado en una caída de funciones, tal vez, Aisha, puedo comenzar contigo?\n",
      "11:33 Orador C Creo que todas las funciones de llamadas han sido increíblemente útiles para mí. Entonces, un par de mis favoritos, la pantalla de llamada, tuvimos una mejora en diciembre donde ahora obtienes fichas contextuales. Entonces, si alguien está como, dejando un paquete y estás en medio de una reunión, puedes responder a eso. Además, Direct My Call está disponible para números que no son gratuitos, por lo que si estás llamando a la oficina de un médico que comienza con solo tu código de área local, ahora puedes usar Direct My Call en eso, lo cual es un gran ahorro de tiempo también y Clear Calling, me encanta esa función, especialmente cuando intento hablar con mi mamá y ella está hablando con un millón de personas a su alrededor mientras intentamos tener una conversación. Entonces, todas las funciones son increíblemente, increíblemente útiles.\n",
      "12:22 Orador B Eso es increíble. Son elementos básicos de la familia Pixel ahora mismo y todos llegaron a través de una caída de funciones. DeCarlos, por supuesto, Pixel Watch también ha tenido varias caídas de funciones. ¿Algún favorito en eso para ti?\n",
      "12:37 Orador D Sí, tengo un par fuera de las cosas que se lanzan ahora mismo. Creo que una fue cuando lanzamos la función SpO2 en una caída de funciones. Esa fue una de las cosas que escuchamos y sabíamos desde el lanzamiento original de Pixel Watch 1 que la gente estaba emocionada y ansiosa. Entonces, mide tu saturación de oxígeno, puedes usar tu reloj mientras duermes y durante la noche, mediremos esa saturación de oxígeno SpO2 mientras duermes. Entonces, ese fue uno emocionante y recibimos mucha buena retroalimentación por poder lanzarlo y llevarlo al Pixel Watch 1 inicialmente. Entonces, eso fue especial. Oh, en realidad, una de las cosas que está sucediendo en esta última caída de funciones con la aplicación Relax, simplemente me encanta la atención en el diseño en torno a las animaciones de respiración y, por lo tanto, algo que la gente definitivamente debería revisar es, ya sabes, que el equipo que dedicó mucho trabajo para pensar en el ritmo al que ocurre esa animación. Es algo que puedes mirar y simplemente perder el tiempo simplemente mirando y viendo cómo ocurren esas hápticas en esa animación.\n",
      "13:49 Orador B Increíble. Siempre son las pequeñas cosas las que lo hacen extra especial, ¿verdad? Absolutamente. Eso es perfecto. Aisha, DeCarlos, muchas gracias por hacer que la Navidad llegue antes de tiempo una vez más y todos estamos ansiosos por la caída de funciones en marzo.\n",
      "14:02 Orador C Gracias.\n",
      "14:04 Orador D Gracias.\n",
      "14:05 Orador B Gracias por escuchar el podcast de Made by Google. No te pierdas los nuevos episodios. Suscríbete ahora, dondequiera que obtengas tus podcasts para ser el primero en escuchar. \n",
      "\n"
     ]
    }
   ],
   "source": [
    "response = model.generate_content([response.text, \"Translate to Spanish\"])\n",
    "print(response.text)"
   ]
  },
  {
   "cell_type": "code",
   "execution_count": 4,
   "metadata": {
    "ExecuteTime": {
     "end_time": "2024-07-02T03:34:07.043311Z",
     "start_time": "2024-07-02T03:34:06.537083Z"
    }
   },
   "outputs": [],
   "source": [
    "from langchain_google_vertexai import HarmBlockThreshold, HarmCategory\n",
    "\n",
    "safety_settings = {\n",
    "    # HarmCategory.HARM_CATEGORY_UNSPECIFIED: HarmBlockThreshold.BLOCK_NONE,\n",
    "    HarmCategory.HARM_CATEGORY_DANGEROUS_CONTENT: HarmBlockThreshold.BLOCK_MEDIUM_AND_ABOVE,\n",
    "    HarmCategory.HARM_CATEGORY_HATE_SPEECH: HarmBlockThreshold.BLOCK_ONLY_HIGH,\n",
    "    HarmCategory.HARM_CATEGORY_HARASSMENT: HarmBlockThreshold.BLOCK_LOW_AND_ABOVE,\n",
    "    HarmCategory.HARM_CATEGORY_SEXUALLY_EXPLICIT: HarmBlockThreshold.BLOCK_NONE,\n",
    "}"
   ]
  },
  {
   "cell_type": "code",
   "execution_count": 5,
   "metadata": {
    "ExecuteTime": {
     "end_time": "2024-07-02T03:34:11.035870Z",
     "start_time": "2024-07-02T03:34:11.029313Z"
    }
   },
   "outputs": [],
   "source": [
    "model_kwargs = {\n",
    "    # temperature (float): The sampling temperature controls the degree of\n",
    "    # randomness in token selection.\n",
    "    \"temperature\": 0.28,\n",
    "    # max_output_tokens (int): The token limit determines the maximum amount of\n",
    "    # text output from one prompt.\n",
    "    \"max_output_tokens\": 1000,\n",
    "    # top_p (float): Tokens are selected from most probable to least until\n",
    "    # the sum of their probabilities equals the top-p value.\n",
    "    \"top_p\": 0.95,\n",
    "    # top_k (int): The next token is selected from among the top-k most\n",
    "    # probable tokens.\n",
    "    \"top_k\": 40,\n",
    "    # safety_settings (Dict[HarmCategory, HarmBlockThreshold]): The safety\n",
    "    # settings to use for generating content.\n",
    "    # \"safety_settings\": safety_settings,\n",
    "}"
   ]
  },
  {
   "cell_type": "code",
   "execution_count": 6,
   "metadata": {
    "ExecuteTime": {
     "end_time": "2024-07-02T03:34:15.453212Z",
     "start_time": "2024-07-02T03:34:15.446529Z"
    }
   },
   "outputs": [],
   "source": [
    "def get_exchange_rate(\n",
    "    currency_from: str = \"USD\",\n",
    "    currency_to: str = \"EUR\",\n",
    "    currency_date: str = \"latest\",\n",
    "):\n",
    "    \"\"\"Retrieves the exchange rate between two currencies on a specified date.\n",
    "\n",
    "    Uses the Frankfurter API (https://api.frankfurter.app/) to obtain\n",
    "    exchange rate data.\n",
    "\n",
    "    Args:\n",
    "        currency_from: The base currency (3-letter currency code).\n",
    "            Defaults to \"USD\" (US Dollar).\n",
    "        currency_to: The target currency (3-letter currency code).\n",
    "            Defaults to \"EUR\" (Euro).\n",
    "        currency_date: The date for which to retrieve the exchange rate.\n",
    "            Defaults to \"latest\" for the most recent exchange rate data.\n",
    "            Can be specified in YYYY-MM-DD format for historical rates.\n",
    "\n",
    "    Returns:\n",
    "        dict: A dictionary containing the exchange rate information.\n",
    "            Example: {\"amount\": 1.0, \"base\": \"USD\", \"date\": \"2023-11-24\",\n",
    "                \"rates\": {\"EUR\": 0.95534}}\n",
    "    \"\"\"\n",
    "    import requests\n",
    "\n",
    "    response = requests.get(\n",
    "        f\"https://api.frankfurter.app/{currency_date}\",\n",
    "        params={\"from\": currency_from, \"to\": currency_to},\n",
    "    )\n",
    "    return response.json()"
   ]
  },
  {
   "cell_type": "code",
   "execution_count": 7,
   "metadata": {
    "ExecuteTime": {
     "end_time": "2024-07-02T03:34:17.650348Z",
     "start_time": "2024-07-02T03:34:16.836239Z"
    }
   },
   "outputs": [
    {
     "data": {
      "text/plain": [
       "{'amount': 1.0, 'base': 'USD', 'date': '2024-07-01', 'rates': {'SEK': 10.5793}}"
      ]
     },
     "execution_count": 7,
     "metadata": {},
     "output_type": "execute_result"
    }
   ],
   "source": [
    "# Test the function\n",
    "\n",
    "get_exchange_rate(currency_from=\"USD\", currency_to=\"SEK\")"
   ]
  },
  {
   "cell_type": "code",
   "execution_count": 8,
   "metadata": {
    "ExecuteTime": {
     "end_time": "2024-07-02T03:34:20.385242Z",
     "start_time": "2024-07-02T03:34:20.380144Z"
    }
   },
   "outputs": [],
   "source": [
    "agent = reasoning_engines.LangchainAgent(\n",
    "    model=model,  # Required.\n",
    "    tools=[get_exchange_rate],  # Optional.\n",
    "    model_kwargs=model_kwargs,  # Optional.\n",
    ")"
   ]
  },
  {
   "cell_type": "code",
   "execution_count": null,
   "metadata": {},
   "outputs": [],
   "source": []
  },
  {
   "cell_type": "code",
   "execution_count": 9,
   "metadata": {
    "ExecuteTime": {
     "end_time": "2024-07-02T03:34:28.086070Z",
     "start_time": "2024-07-02T03:34:24.205197Z"
    }
   },
   "outputs": [],
   "source": [
    "response = agent.query(\n",
    "    input=\"What is the exchange rate from US dollars to Brasilian Real currency?\"\n",
    ")"
   ]
  },
  {
   "cell_type": "code",
   "execution_count": 10,
   "metadata": {
    "ExecuteTime": {
     "end_time": "2024-07-02T03:34:28.098484Z",
     "start_time": "2024-07-02T03:34:28.089592Z"
    }
   },
   "outputs": [
    {
     "data": {
      "text/plain": [
       "{'input': 'What is the exchange rate from US dollars to Brasilian Real currency?',\n",
       " 'output': 'The exchange rate from US dollars to Brazilian Real as of today, 2024-07-01, is 1 USD = 5.5855 BRL. \\n'}"
      ]
     },
     "execution_count": 10,
     "metadata": {},
     "output_type": "execute_result"
    }
   ],
   "source": [
    "response"
   ]
  },
  {
   "cell_type": "markdown",
   "metadata": {},
   "source": [
    "# Deploy de App"
   ]
  },
  {
   "cell_type": "code",
   "execution_count": 11,
   "metadata": {
    "ExecuteTime": {
     "end_time": "2024-07-02T03:38:28.527554Z",
     "start_time": "2024-07-02T03:34:37.705759Z"
    }
   },
   "outputs": [
    {
     "name": "stdout",
     "output_type": "stream",
     "text": [
      "Using bucket aiuda-docs\n",
      "Writing to gs://aiuda-docs/reasoning_engine/reasoning_engine.pkl\n",
      "Writing to gs://aiuda-docs/reasoning_engine/requirements.txt\n",
      "Creating in-memory tarfile of extra_packages\n",
      "Writing to gs://aiuda-docs/reasoning_engine/dependencies.tar.gz\n",
      "Creating ReasoningEngine\n",
      "Create ReasoningEngine backing LRO: projects/286295157330/locations/us-central1/reasoningEngines/5870899511114596352/operations/4227073311978291200\n",
      "ReasoningEngine created. Resource name: projects/286295157330/locations/us-central1/reasoningEngines/5870899511114596352\n",
      "To use this ReasoningEngine in another session:\n",
      "reasoning_engine = vertexai.preview.reasoning_engines.ReasoningEngine('projects/286295157330/locations/us-central1/reasoningEngines/5870899511114596352')\n"
     ]
    },
    {
     "data": {
      "text/plain": [
       "<vertexai.reasoning_engines._reasoning_engines.ReasoningEngine object at 0x777ec75adb90> \n",
       "resource name: projects/286295157330/locations/us-central1/reasoningEngines/5870899511114596352"
      ]
     },
     "execution_count": 11,
     "metadata": {},
     "output_type": "execute_result"
    }
   ],
   "source": [
    "DISPLAY_NAME = \"Demo Langchain Application\"\n",
    "\n",
    "remote_app = reasoning_engines.ReasoningEngine.create(\n",
    "    reasoning_engines.LangchainAgent(\n",
    "        model=model,\n",
    "        tools=[get_exchange_rate],\n",
    "        model_kwargs=model_kwargs,\n",
    "    ),\n",
    "    requirements=[\n",
    "        \"google-cloud-aiplatform[reasoningengine,langchain]\",\n",
    "    ],\n",
    "    display_name=DISPLAY_NAME,\n",
    ")\n",
    "remote_app"
   ]
  },
  {
   "cell_type": "code",
   "execution_count": 12,
   "metadata": {
    "ExecuteTime": {
     "end_time": "2024-07-02T04:44:59.972480Z",
     "start_time": "2024-07-02T04:44:59.967100Z"
    }
   },
   "outputs": [],
   "source": [
    "#!pip install google-cloud-aiplatform[reasoningengine]"
   ]
  },
  {
   "cell_type": "code",
   "execution_count": 13,
   "metadata": {
    "ExecuteTime": {
     "end_time": "2024-07-02T04:45:56.713683Z",
     "start_time": "2024-07-02T04:45:56.709885Z"
    }
   },
   "outputs": [
    {
     "data": {
      "text/plain": [
       "'projects/286295157330/locations/us-central1/reasoningEngines/5870899511114596352'"
      ]
     },
     "execution_count": 13,
     "metadata": {},
     "output_type": "execute_result"
    }
   ],
   "source": [
    "remote_app.resource_name"
   ]
  },
  {
   "cell_type": "code",
   "execution_count": 15,
   "metadata": {
    "ExecuteTime": {
     "end_time": "2024-07-02T04:46:43.225937Z",
     "start_time": "2024-07-02T04:46:38.270436Z"
    }
   },
   "outputs": [],
   "source": [
    "response = remote_app.query(\n",
    "    input=\"What is the exchange rate from US dollars to Swedish currency?\"\n",
    ")"
   ]
  },
  {
   "cell_type": "code",
   "execution_count": 17,
   "metadata": {
    "ExecuteTime": {
     "end_time": "2024-07-02T04:47:12.590141Z",
     "start_time": "2024-07-02T04:47:12.584072Z"
    }
   },
   "outputs": [
    {
     "data": {
      "text/plain": [
       "'The exchange rate from US dollars to Swedish krona (SEK) is 1 USD = 10.5793 SEK as of July 1, 2024.'"
      ]
     },
     "execution_count": 17,
     "metadata": {},
     "output_type": "execute_result"
    }
   ],
   "source": [
    "response[\"output\"]"
   ]
  },
  {
   "cell_type": "markdown",
   "metadata": {},
   "source": [
    "# Manage the deployed application"
   ]
  },
  {
   "cell_type": "code",
   "execution_count": 18,
   "metadata": {
    "ExecuteTime": {
     "end_time": "2024-07-02T04:48:01.977881Z",
     "start_time": "2024-07-02T04:48:01.274360Z"
    }
   },
   "outputs": [
    {
     "data": {
      "text/plain": [
       "[<vertexai.reasoning_engines._reasoning_engines.ReasoningEngine object at 0x777ec7382750> \n",
       " resource name: projects/286295157330/locations/us-central1/reasoningEngines/5870899511114596352,\n",
       " <vertexai.reasoning_engines._reasoning_engines.ReasoningEngine object at 0x777ec73cd110> \n",
       " resource name: projects/286295157330/locations/us-central1/reasoningEngines/5808552803773186048]"
      ]
     },
     "execution_count": 18,
     "metadata": {},
     "output_type": "execute_result"
    }
   ],
   "source": [
    "reasoning_engines.ReasoningEngine.list()"
   ]
  },
  {
   "cell_type": "code",
   "execution_count": 19,
   "metadata": {
    "ExecuteTime": {
     "end_time": "2024-07-02T04:49:09.663675Z",
     "start_time": "2024-07-02T04:49:08.979071Z"
    }
   },
   "outputs": [
    {
     "data": {
      "text/plain": [
       "[<vertexai.reasoning_engines._reasoning_engines.ReasoningEngine object at 0x777ec7383790> \n",
       " resource name: projects/286295157330/locations/us-central1/reasoningEngines/5870899511114596352]"
      ]
     },
     "execution_count": 19,
     "metadata": {},
     "output_type": "execute_result"
    }
   ],
   "source": [
    "reasoning_engines.ReasoningEngine.list(\n",
    "    filter='display_name=\"Demo Langchain Application\"'\n",
    ")"
   ]
  },
  {
   "cell_type": "code",
   "execution_count": null,
   "metadata": {},
   "outputs": [],
   "source": []
  },
  {
   "cell_type": "code",
   "execution_count": null,
   "metadata": {},
   "outputs": [],
   "source": []
  }
 ],
 "metadata": {
  "kernelspec": {
   "display_name": "llm",
   "language": "python",
   "name": "python3"
  },
  "language_info": {
   "codemirror_mode": {
    "name": "ipython",
    "version": 3
   },
   "file_extension": ".py",
   "mimetype": "text/x-python",
   "name": "python",
   "nbconvert_exporter": "python",
   "pygments_lexer": "ipython3",
   "version": "3.11.9"
  }
 },
 "nbformat": 4,
 "nbformat_minor": 2
}
