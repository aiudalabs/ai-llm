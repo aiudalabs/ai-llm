{
 "cells": [
  {
   "cell_type": "markdown",
   "metadata": {},
   "source": [
    "# Client\n",
    "\n",
    "Demo of a client interacting with a remote agent that can use history.\n",
    "\n",
    "See relevant documentation about agents:\n",
    "\n",
    "* Creating a custom agent: https://python.langchain.com/docs/modules/agents/how_to/custom_agent\n",
    "* Streaming with agents: https://python.langchain.com/docs/modules/agents/how_to/streaming#custom-streaming-with-events\n",
    "* General streaming documentation: https://python.langchain.com/docs/expression_language/streaming"
   ]
  },
  {
   "cell_type": "markdown",
   "metadata": {},
   "source": [
    "You can interact with this via API directly"
   ]
  },
  {
   "metadata": {
    "ExecuteTime": {
     "end_time": "2024-07-02T05:41:01.848616Z",
     "start_time": "2024-07-02T05:40:53.340549Z"
    }
   },
   "cell_type": "code",
   "source": "!pip install sse_starlette",
   "outputs": [
    {
     "name": "stdout",
     "output_type": "stream",
     "text": [
      "Collecting sse_starlette\r\n",
      "  Downloading sse_starlette-2.1.2-py3-none-any.whl.metadata (5.8 kB)\r\n",
      "Requirement already satisfied: starlette in /home/nmlemus/projects/ai-llm/.conda/lib/python3.11/site-packages (from sse_starlette) (0.37.2)\r\n",
      "Requirement already satisfied: uvicorn in /home/nmlemus/projects/ai-llm/.conda/lib/python3.11/site-packages (from sse_starlette) (0.30.1)\r\n",
      "Requirement already satisfied: anyio in /home/nmlemus/projects/ai-llm/.conda/lib/python3.11/site-packages (from sse_starlette) (4.4.0)\r\n",
      "Requirement already satisfied: idna>=2.8 in /home/nmlemus/projects/ai-llm/.conda/lib/python3.11/site-packages (from anyio->sse_starlette) (3.7)\r\n",
      "Requirement already satisfied: sniffio>=1.1 in /home/nmlemus/projects/ai-llm/.conda/lib/python3.11/site-packages (from anyio->sse_starlette) (1.3.1)\r\n",
      "Requirement already satisfied: click>=7.0 in /home/nmlemus/projects/ai-llm/.conda/lib/python3.11/site-packages (from uvicorn->sse_starlette) (8.1.7)\r\n",
      "Requirement already satisfied: h11>=0.8 in /home/nmlemus/projects/ai-llm/.conda/lib/python3.11/site-packages (from uvicorn->sse_starlette) (0.14.0)\r\n",
      "Downloading sse_starlette-2.1.2-py3-none-any.whl (9.3 kB)\r\n",
      "Installing collected packages: sse_starlette\r\n",
      "Successfully installed sse_starlette-2.1.2\r\n"
     ]
    }
   ],
   "execution_count": 4
  },
  {
   "cell_type": "code",
   "metadata": {
    "tags": [],
    "ExecuteTime": {
     "end_time": "2024-07-02T05:48:06.571090Z",
     "start_time": "2024-07-02T05:47:56.098287Z"
    }
   },
   "source": [
    "import requests\n",
    "\n",
    "inputs = {\n",
    "    \"input\": {\n",
    "        \"input\": \"What are the categories in the database?\",\n",
    "        \"chat_history\": [],\n",
    "    }\n",
    "}\n",
    "response = requests.post(\"http://localhost:8000/invoke\", json=inputs)\n",
    "\n",
    "response.json()"
   ],
   "outputs": [
    {
     "data": {
      "text/plain": [
       "{'output': {'output': 'The categories in the database are:\\n1. misc\\n2. cerrajeria\\n3. piano\\n4. cabello\\n5. bateria\\n6. french_food\\n7. body_treatments\\n8. 8_56_hierro\\n9. home\\n10. moto\\n11. filmmaking\\n12. auto\\n13. music\\n14. video\\n15. aseo_completo_de_casas\\n16. cubana\\n17. uber\\n18. tutorias\\n19. muebles\\n20. gatos\\n21. transporte_de_alimentos\\n22. smartphone\\n23. carrozas\\n24. plomero\\n25. taxi\\n26. delivery\\n27. equipos_de_sonido\\n28. hamburguesas\\n29. education\\n30. tv\\n31. motoboy\\n32. musica\\n33. albanil\\n34. depilacion\\n35. llaves_perdidas\\n36. mototaxi\\n37. guitar\\n38. restaurant\\n39. moda\\n40. food\\n41. manos_y_pies\\n42. indriver\\n43. cerrajeria_automotriz\\n44. foodtruck\\n45. marketing\\n46. electeicidade_generale\\n47. repair\\n48. jardin\\n49. travel_agency\\n50. transport\\n51. alba\\n52. computadoras\\n53. pies\\n54. nevera\\n55. musico\\n56. speak_english\\n57. doctor\\n58. psicopedagoga\\n59. electricidade\\n60. bicicletas\\n61. aire_aconditionado\\n62. estufas\\n63. educacion\\n64. planchas\\n65. dog_sitting\\n66. desarrollo_de_software\\n67. clases_de_ingles\\n68. lavado_de_automoviles\\n69. clases_de_musica\\n70. portuguese\\n71. pizza\\n72. aseo\\n73. maquina_de_coser\\n74. english\\n75. ar_conditionado_ac\\n76. nachos\\n77. spa\\n78. linea_blanca\\n79. paseo_de_aves\\n80. aire_acondicionado\\n81. vegetariano\\n82. rapidass\\n83. testelectricista\\n84. pet_care\\n85. test\\n86. mascotas\\n87. health_panama\\n88. medico_a_domicilio\\n89. user\\n90. iphone\\n91. electricista\\n92. pets\\n93. fisioterapia\\n94. nueva_salud\\n95. photography\\n96. plantas\\n97. appliance\\n98. test\\n99. plomero\\n100. 1\\n101. android\\n102. health\\n103. ballo\\n104. street_food\\n105. masajes\\n106. paseo_de_perros\\n107. llaves_para_autos\\n108. entrega'},\n",
       " 'metadata': {'run_id': 'd13ffb7d-2046-43d5-aa60-1167e009b84b',\n",
       "  'feedback_tokens': []}}"
      ]
     },
     "execution_count": 11,
     "metadata": {},
     "output_type": "execute_result"
    }
   ],
   "execution_count": 11
  },
  {
   "cell_type": "code",
   "metadata": {
    "ExecuteTime": {
     "end_time": "2024-07-02T05:48:43.249273Z",
     "start_time": "2024-07-02T05:48:43.237787Z"
    }
   },
   "source": "print(response.json()[\"output\"][\"output\"])",
   "outputs": [
    {
     "name": "stdout",
     "output_type": "stream",
     "text": [
      "The categories in the database are:\n",
      "1. misc\n",
      "2. cerrajeria\n",
      "3. piano\n",
      "4. cabello\n",
      "5. bateria\n",
      "6. french_food\n",
      "7. body_treatments\n",
      "8. 8_56_hierro\n",
      "9. home\n",
      "10. moto\n",
      "11. filmmaking\n",
      "12. auto\n",
      "13. music\n",
      "14. video\n",
      "15. aseo_completo_de_casas\n",
      "16. cubana\n",
      "17. uber\n",
      "18. tutorias\n",
      "19. muebles\n",
      "20. gatos\n",
      "21. transporte_de_alimentos\n",
      "22. smartphone\n",
      "23. carrozas\n",
      "24. plomero\n",
      "25. taxi\n",
      "26. delivery\n",
      "27. equipos_de_sonido\n",
      "28. hamburguesas\n",
      "29. education\n",
      "30. tv\n",
      "31. motoboy\n",
      "32. musica\n",
      "33. albanil\n",
      "34. depilacion\n",
      "35. llaves_perdidas\n",
      "36. mototaxi\n",
      "37. guitar\n",
      "38. restaurant\n",
      "39. moda\n",
      "40. food\n",
      "41. manos_y_pies\n",
      "42. indriver\n",
      "43. cerrajeria_automotriz\n",
      "44. foodtruck\n",
      "45. marketing\n",
      "46. electeicidade_generale\n",
      "47. repair\n",
      "48. jardin\n",
      "49. travel_agency\n",
      "50. transport\n",
      "51. alba\n",
      "52. computadoras\n",
      "53. pies\n",
      "54. nevera\n",
      "55. musico\n",
      "56. speak_english\n",
      "57. doctor\n",
      "58. psicopedagoga\n",
      "59. electricidade\n",
      "60. bicicletas\n",
      "61. aire_aconditionado\n",
      "62. estufas\n",
      "63. educacion\n",
      "64. planchas\n",
      "65. dog_sitting\n",
      "66. desarrollo_de_software\n",
      "67. clases_de_ingles\n",
      "68. lavado_de_automoviles\n",
      "69. clases_de_musica\n",
      "70. portuguese\n",
      "71. pizza\n",
      "72. aseo\n",
      "73. maquina_de_coser\n",
      "74. english\n",
      "75. ar_conditionado_ac\n",
      "76. nachos\n",
      "77. spa\n",
      "78. linea_blanca\n",
      "79. paseo_de_aves\n",
      "80. aire_acondicionado\n",
      "81. vegetariano\n",
      "82. rapidass\n",
      "83. testelectricista\n",
      "84. pet_care\n",
      "85. test\n",
      "86. mascotas\n",
      "87. health_panama\n",
      "88. medico_a_domicilio\n",
      "89. user\n",
      "90. iphone\n",
      "91. electricista\n",
      "92. pets\n",
      "93. fisioterapia\n",
      "94. nueva_salud\n",
      "95. photography\n",
      "96. plantas\n",
      "97. appliance\n",
      "98. test\n",
      "99. plomero\n",
      "100. 1\n",
      "101. android\n",
      "102. health\n",
      "103. ballo\n",
      "104. street_food\n",
      "105. masajes\n",
      "106. paseo_de_perros\n",
      "107. llaves_para_autos\n",
      "108. entrega\n"
     ]
    }
   ],
   "execution_count": 13
  },
  {
   "cell_type": "markdown",
   "metadata": {},
   "source": [
    "You can also interact with this via the RemoteRunnable interface (to use in other chains)"
   ]
  },
  {
   "cell_type": "code",
   "metadata": {
    "tags": [],
    "ExecuteTime": {
     "end_time": "2024-07-02T05:49:05.360517Z",
     "start_time": "2024-07-02T05:49:03.622255Z"
    }
   },
   "source": [
    "from langserve import RemoteRunnable\n",
    "\n",
    "remote_runnable = RemoteRunnable(\"http://localhost:8000/\")"
   ],
   "outputs": [],
   "execution_count": 14
  },
  {
   "cell_type": "markdown",
   "metadata": {},
   "source": [
    "Remote runnable has the same interface as local runnables"
   ]
  },
  {
   "cell_type": "code",
   "metadata": {
    "tags": [],
    "ExecuteTime": {
     "end_time": "2024-07-02T05:49:07.971909Z",
     "start_time": "2024-07-02T05:49:07.967991Z"
    }
   },
   "source": [
    "from langchain_core.messages import HumanMessage, AIMessage"
   ],
   "outputs": [],
   "execution_count": 15
  },
  {
   "cell_type": "code",
   "metadata": {
    "tags": [],
    "ExecuteTime": {
     "end_time": "2024-07-02T05:49:53.639504Z",
     "start_time": "2024-07-02T05:49:09.724587Z"
    }
   },
   "source": [
    "chat_history = []\n",
    "\n",
    "while True:\n",
    "    human = input(\"Human (Q/q to quit): \")\n",
    "    if human in {\"q\", \"Q\"}:\n",
    "        print(\"AI: Bye bye human\")\n",
    "        break\n",
    "    ai = await remote_runnable.ainvoke({\"input\": human, \"chat_history\": chat_history})\n",
    "    print(f\"AI: {ai['output']}\")\n",
    "    chat_history.extend([HumanMessage(content=human),\n",
    "                        AIMessage(content=ai[\"output\"])])"
   ],
   "outputs": [
    {
     "name": "stdout",
     "output_type": "stream",
     "text": [
      "AI: There are a total of 108 categories in the database.\n",
      "AI: Yes, there is a category for \"plomero\" in the database.\n",
      "AI: Bye bye human\n"
     ]
    }
   ],
   "execution_count": 16
  },
  {
   "cell_type": "markdown",
   "metadata": {},
   "source": [
    "## Stream\n",
    "\n",
    "Please note that streaming alternates between actions and observations. It does not stream individual tokens!\n",
    "\n",
    "To stream individual tokens, we need to use the astream events endpoint (see below)."
   ]
  },
  {
   "cell_type": "code",
   "metadata": {
    "tags": [],
    "ExecuteTime": {
     "end_time": "2024-07-02T05:53:57.475138Z",
     "start_time": "2024-07-02T05:53:40.618324Z"
    }
   },
   "source": [
    "chat_history = []\n",
    "\n",
    "while True:\n",
    "    human = input(\"Human (Q/q to quit): \")\n",
    "    if human in {\"q\", \"Q\"}:\n",
    "        print(\"AI: Bye bye human\")\n",
    "        break\n",
    "\n",
    "    ai = None\n",
    "    print(\"AI: \")\n",
    "    async for chunk in remote_runnable.astream(\n",
    "        {\"input\": human, \"chat_history\": chat_history}\n",
    "    ):\n",
    "        # Agent Action\n",
    "        if \"actions\" in chunk:\n",
    "            for action in chunk[\"actions\"]:\n",
    "                print(\n",
    "                    f\"Calling Tool ```{action['tool']}``` with input ```{action['tool_input']}```\"\n",
    "                )\n",
    "        # Observation\n",
    "        elif \"steps\" in chunk:\n",
    "            for step in chunk[\"steps\"]:\n",
    "                print(f\"Got result: ```{step['observation']}```\")\n",
    "        # Final result\n",
    "        elif \"output\" in chunk:\n",
    "            print(chunk[\"output\"])\n",
    "            ai = AIMessage(content=chunk[\"output\"])\n",
    "        else:\n",
    "            raise ValueError\n",
    "        print(\"------\")\n",
    "    chat_history.extend([HumanMessage(content=human), ai])"
   ],
   "outputs": [
    {
     "name": "stdout",
     "output_type": "stream",
     "text": [
      "AI: \n",
      "¡Hola! ¿En qué puedo ayudarte hoy?\n",
      "------\n",
      "AI: \n",
      "Calling Tool ```service_categories``` with input ```{}```\n",
      "------\n",
      "Got result: ```['misc', 'cerrajeria', 'piano', 'cabello', 'bateria', 'french_food', 'body_treatments', '8_56_hierro', 'home', 'moto', 'filmmaking', 'auto', 'music', 'video', 'aseo_completo_de_casas', 'cubana', 'uber', 'tutorias', 'muebles', 'gatos', 'transporte_de_alimentos', 'smartphone', 'carrozas', 'plomero', 'taxi', 'delivery', 'equipos_de_sonido', 'hamburguesas', '5', 'education', 'tv', 'motoboy', 'piano', 'musica', 'albanil', 'depilacion', 'llaves_perdidas', 'mototaxi', 'guitar', 'restaurant', 'moda', 'food', 'manos_y_pies', 'indriver', 'cerrajeria_automotriz', 'foodtruck', 'marketing', 'electeicidade_generale', 'repair', 'jardin', 'travel_agency', 'transport', 'piano', 'alba', 'musica', 'computadoras', 'pies', 'bateria', 'nevera', 'musico', 'speak_english', 'doctor', 'piano', 'psicopedagoga', 'electricidade', 'bicicletas', 'aire_aconditionado', 'estufas', 'musica', 'educacion', 'planchas', 'dog_sitting', '8_56_hierro', 'desarrollo_de_software', 'taxi', 'clases_de_ingles', 'speak_english', 'lavado_de_automoviles', 'clases_de_musica', 'portuguese', 'speak_english', 'pizza', 'aseo', 'maquina_de_coser', 'english', 'ar_conditionado_ac', 'bateria', 'delivery', 'nachos', 'spa', 'linea_blanca', 'paseo_de_aves', 'aire_acondicionado', 'vegetariano', 'rapidass', 'testelectricista', 'pet_care', 'test', 'mascotas', 'health_panama', 'medico_a_domicilio', 'user', 'iphone', 'musica', 'electricista', 'piano', 'pets', 'fisioterapia', 'nueva_salud', 'photography', 'plantas', 'appliance', 'bateria', 'test', 'plomero', 'musica', '1', 'android', 'albanil', 'health', 'ballo', 'street_food', 'masajes', 'paseo_de_perros', 'piano', 'llaves_para_autos', 'entrega']```\n",
      "------\n",
      "Puedo ayudarte a encontrar un servicio de lavado de automóviles. ¿Te gustaría que busque un proveedor de este servicio para ti?\n",
      "------\n",
      "AI: Bye bye human\n"
     ]
    }
   ],
   "execution_count": 19
  },
  {
   "metadata": {
    "ExecuteTime": {
     "end_time": "2024-07-02T05:54:12.332285Z",
     "start_time": "2024-07-02T05:54:12.327034Z"
    }
   },
   "cell_type": "code",
   "source": "chat_history",
   "outputs": [
    {
     "data": {
      "text/plain": [
       "[HumanMessage(content='Hola'),\n",
       " AIMessage(content='¡Hola! ¿En qué puedo ayudarte hoy?'),\n",
       " HumanMessage(content='Necesito alguien que me lave el auto'),\n",
       " AIMessage(content='Puedo ayudarte a encontrar un servicio de lavado de automóviles. ¿Te gustaría que busque un proveedor de este servicio para ti?')]"
      ]
     },
     "execution_count": 20,
     "metadata": {},
     "output_type": "execute_result"
    }
   ],
   "execution_count": 20
  },
  {
   "cell_type": "markdown",
   "metadata": {},
   "source": [
    "## Stream Events"
   ]
  },
  {
   "cell_type": "code",
   "metadata": {
    "tags": [],
    "ExecuteTime": {
     "end_time": "2024-07-02T05:51:18.999873Z",
     "start_time": "2024-07-02T05:50:56.888104Z"
    }
   },
   "source": [
    "chat_history = []\n",
    "\n",
    "while True:\n",
    "    human = input(\"Human (Q/q to quit): \")\n",
    "    if human in {\"q\", \"Q\"}:\n",
    "        print(\"AI: Bye bye human\")\n",
    "        break\n",
    "    ai = None\n",
    "    print(\"AI: \")\n",
    "    async for event in remote_runnable.astream_events(\n",
    "        {\"input\": human, \"chat_history\": chat_history},\n",
    "        version=\"v1\",\n",
    "    ):\n",
    "        kind = event[\"event\"]\n",
    "        if kind == \"on_chain_start\":\n",
    "            if (\n",
    "                event[\"name\"] == \"agent\"\n",
    "            ):  # Was assigned when creating the agent with `.with_config({\"run_name\": \"Agent\"})`\n",
    "                print(\n",
    "                    f\"Starting agent: {event['name']} with input: {event['data'].get('input')}\"\n",
    "                )\n",
    "        elif kind == \"on_chain_end\":\n",
    "            if (\n",
    "                event[\"name\"] == \"agent\"\n",
    "            ):  # Was assigned when creating the agent with `.with_config({\"run_name\": \"Agent\"})`\n",
    "                print()\n",
    "                print(\"--\")\n",
    "                print(\n",
    "                    f\"Done agent: {event['name']} with output: {event['data'].get('output')['output']}\"\n",
    "                )\n",
    "        if kind == \"on_chat_model_stream\":\n",
    "            content = event[\"data\"][\"chunk\"].content\n",
    "            if content:\n",
    "                # Empty content in the context of OpenAI means\n",
    "                # that the model is asking for a tool to be invoked.\n",
    "                # So we only print non-empty content\n",
    "                print(content, end=\"|\")\n",
    "        elif kind == \"on_tool_start\":\n",
    "            print(\"--\")\n",
    "            print(\n",
    "                f\"Starting tool: {event['name']} with inputs: {event['data'].get('input')}\"\n",
    "            )\n",
    "        elif kind == \"on_tool_end\":\n",
    "            print(f\"Done tool: {event['name']}\")\n",
    "            print(f\"Tool output was: {event['data'].get('output')}\")\n",
    "            print(\"--\")"
   ],
   "outputs": [
    {
     "name": "stdout",
     "output_type": "stream",
     "text": [
      "AI: \n",
      "Starting agent: agent with input: {'input': 'Hola', 'chat_history': []}\n",
      "¡|Hola|!| ¿|En| qué| puedo| ayud|arte| hoy|?|\n",
      "--\n",
      "Done agent: agent with output: ¡Hola! ¿En qué puedo ayudarte hoy?\n",
      "AI: \n",
      "Starting agent: agent with input: {'input': 'Hay mecanicos de autos como provehedores de servicios?', 'chat_history': []}\n",
      "--\n",
      "Starting tool: service_categories with inputs: {}\n",
      "Done tool: service_categories\n",
      "Tool output was: ['misc', 'cerrajeria', 'piano', 'cabello', 'bateria', 'french_food', 'body_treatments', '8_56_hierro', 'home', 'moto', 'filmmaking', 'auto', 'music', 'video', 'aseo_completo_de_casas', 'cubana', 'uber', 'tutorias', 'muebles', 'gatos', 'transporte_de_alimentos', 'smartphone', 'carrozas', 'plomero', 'taxi', 'delivery', 'equipos_de_sonido', 'hamburguesas', '5', 'education', 'tv', 'motoboy', 'piano', 'musica', 'albanil', 'depilacion', 'llaves_perdidas', 'mototaxi', 'guitar', 'restaurant', 'moda', 'food', 'manos_y_pies', 'indriver', 'cerrajeria_automotriz', 'foodtruck', 'marketing', 'electeicidade_generale', 'repair', 'jardin', 'travel_agency', 'transport', 'piano', 'alba', 'musica', 'computadoras', 'pies', 'bateria', 'nevera', 'musico', 'speak_english', 'doctor', 'piano', 'psicopedagoga', 'electricidade', 'bicicletas', 'aire_aconditionado', 'estufas', 'musica', 'educacion', 'planchas', 'dog_sitting', '8_56_hierro', 'desarrollo_de_software', 'taxi', 'clases_de_ingles', 'speak_english', 'lavado_de_automoviles', 'clases_de_musica', 'portuguese', 'speak_english', 'pizza', 'aseo', 'maquina_de_coser', 'english', 'ar_conditionado_ac', 'bateria', 'delivery', 'nachos', 'spa', 'linea_blanca', 'paseo_de_aves', 'aire_acondicionado', 'vegetariano', 'rapidass', 'testelectricista', 'pet_care', 'test', 'mascotas', 'health_panama', 'medico_a_domicilio', 'user', 'iphone', 'musica', 'electricista', 'piano', 'pets', 'fisioterapia', 'nueva_salud', 'photography', 'plantas', 'appliance', 'bateria', 'test', 'plomero', 'musica', '1', 'android', 'albanil', 'health', 'ballo', 'street_food', 'masajes', 'paseo_de_perros', 'piano', 'llaves_para_autos', 'entrega']\n",
      "--\n",
      "S|í|,| hay| prove|edores| de| servicios| de| mec|án|ica| autom|ot|riz| en| la| categor|ía| \"|auto|\".| ¿|Te| gust|aría| buscar| algún| prove|edor| en| particular| o| neces|itas| ayuda| con| algo| más|?|\n",
      "--\n",
      "Done agent: agent with output: Sí, hay proveedores de servicios de mecánica automotriz en la categoría \"auto\". ¿Te gustaría buscar algún proveedor en particular o necesitas ayuda con algo más?\n",
      "AI: Bye bye human\n"
     ]
    }
   ],
   "execution_count": 18
  }
 ],
 "metadata": {
  "kernelspec": {
   "display_name": "Python 3 (ipykernel)",
   "language": "python",
   "name": "python3"
  },
  "language_info": {
   "codemirror_mode": {
    "name": "ipython",
    "version": 3
   },
   "file_extension": ".py",
   "mimetype": "text/x-python",
   "name": "python",
   "nbconvert_exporter": "python",
   "pygments_lexer": "ipython3",
   "version": "3.9.19"
  }
 },
 "nbformat": 4,
 "nbformat_minor": 4
}
