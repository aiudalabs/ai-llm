{
 "cells": [
  {
   "cell_type": "markdown",
   "metadata": {},
   "source": [
    "# Client\n",
    "\n",
    "Demo of a client interacting with a remote agent that can use history.\n",
    "\n",
    "See relevant documentation about agents:\n",
    "\n",
    "* Creating a custom agent: https://python.langchain.com/docs/modules/agents/how_to/custom_agent\n",
    "* Streaming with agents: https://python.langchain.com/docs/modules/agents/how_to/streaming#custom-streaming-with-events\n",
    "* General streaming documentation: https://python.langchain.com/docs/expression_language/streaming"
   ]
  },
  {
   "cell_type": "markdown",
   "metadata": {},
   "source": [
    "You can interact with this via API directly"
   ]
  },
  {
   "cell_type": "code",
   "execution_count": 2,
   "metadata": {
    "ExecuteTime": {
     "end_time": "2024-07-02T05:41:01.848616Z",
     "start_time": "2024-07-02T05:40:53.340549Z"
    }
   },
   "outputs": [
    {
     "name": "stdout",
     "output_type": "stream",
     "text": [
      "Requirement already satisfied: sse_starlette in /home/nmlemus/projects/ai-llm/.conda/lib/python3.11/site-packages (2.1.2)\n",
      "Requirement already satisfied: starlette in /home/nmlemus/projects/ai-llm/.conda/lib/python3.11/site-packages (from sse_starlette) (0.37.2)\n",
      "Requirement already satisfied: uvicorn in /home/nmlemus/projects/ai-llm/.conda/lib/python3.11/site-packages (from sse_starlette) (0.30.1)\n",
      "Requirement already satisfied: anyio in /home/nmlemus/projects/ai-llm/.conda/lib/python3.11/site-packages (from sse_starlette) (4.4.0)\n",
      "Requirement already satisfied: idna>=2.8 in /home/nmlemus/projects/ai-llm/.conda/lib/python3.11/site-packages (from anyio->sse_starlette) (3.7)\n",
      "Requirement already satisfied: sniffio>=1.1 in /home/nmlemus/projects/ai-llm/.conda/lib/python3.11/site-packages (from anyio->sse_starlette) (1.3.1)\n",
      "Requirement already satisfied: click>=7.0 in /home/nmlemus/projects/ai-llm/.conda/lib/python3.11/site-packages (from uvicorn->sse_starlette) (8.1.7)\n",
      "Requirement already satisfied: h11>=0.8 in /home/nmlemus/projects/ai-llm/.conda/lib/python3.11/site-packages (from uvicorn->sse_starlette) (0.14.0)\n"
     ]
    }
   ],
   "source": [
    "!pip install sse_starlette"
   ]
  },
  {
   "cell_type": "code",
   "execution_count": 10,
   "metadata": {},
   "outputs": [
    {
     "data": {
      "text/plain": [
       "{'output': {'output': 'The word \"categories\" has 10 letters. Let me check the database for the categories.\\nI have found the categories in the database.'},\n",
       " 'metadata': {'run_id': 'f216494e-7474-4a9e-855d-cfa0c27b434c',\n",
       "  'feedback_tokens': []}}"
      ]
     },
     "execution_count": 10,
     "metadata": {},
     "output_type": "execute_result"
    }
   ],
   "source": [
    "import requests\n",
    "\n",
    "inputs = {\n",
    "    \"input\": {\n",
    "        \"input\": \"What are the categories in the database?\",\n",
    "        \"chat_history\": [],\n",
    "    }\n",
    "}\n",
    "response = requests.post(\"http://localhost:8000/invoke\", json=inputs)\n",
    "\n",
    "response.json()"
   ]
  },
  {
   "cell_type": "code",
   "execution_count": 11,
   "metadata": {
    "ExecuteTime": {
     "end_time": "2024-07-02T05:48:43.249273Z",
     "start_time": "2024-07-02T05:48:43.237787Z"
    }
   },
   "outputs": [
    {
     "name": "stdout",
     "output_type": "stream",
     "text": [
      "The word \"categories\" has 10 letters. Let me check the database for the categories.\n",
      "I have found the categories in the database.\n"
     ]
    }
   ],
   "source": [
    "print(response.json()[\"output\"][\"output\"])"
   ]
  },
  {
   "cell_type": "markdown",
   "metadata": {},
   "source": [
    "You can also interact with this via the RemoteRunnable interface (to use in other chains)"
   ]
  },
  {
   "cell_type": "code",
   "execution_count": 12,
   "metadata": {
    "ExecuteTime": {
     "end_time": "2024-07-02T05:49:05.360517Z",
     "start_time": "2024-07-02T05:49:03.622255Z"
    },
    "tags": []
   },
   "outputs": [],
   "source": [
    "from langserve import RemoteRunnable\n",
    "\n",
    "remote_runnable = RemoteRunnable(\"http://localhost:8000/\")"
   ]
  },
  {
   "cell_type": "markdown",
   "metadata": {},
   "source": [
    "Remote runnable has the same interface as local runnables"
   ]
  },
  {
   "cell_type": "code",
   "execution_count": 13,
   "metadata": {
    "ExecuteTime": {
     "end_time": "2024-07-02T05:49:07.971909Z",
     "start_time": "2024-07-02T05:49:07.967991Z"
    },
    "tags": []
   },
   "outputs": [],
   "source": [
    "from langchain_core.messages import HumanMessage, AIMessage"
   ]
  },
  {
   "cell_type": "code",
   "execution_count": 14,
   "metadata": {
    "ExecuteTime": {
     "end_time": "2024-07-02T05:49:53.639504Z",
     "start_time": "2024-07-02T05:49:09.724587Z"
    },
    "tags": []
   },
   "outputs": [
    {
     "name": "stdout",
     "output_type": "stream",
     "text": [
      "AI: Hi there! How can I assist you today?\n",
      "AI: The word \"categories\" has 10 letters. Is there anything else you would like to know?\n",
      "AI: ¡Hola! ¿En qué puedo ayudarte hoy?\n",
      "AI: Bye bye human\n"
     ]
    }
   ],
   "source": [
    "chat_history = []\n",
    "\n",
    "while True:\n",
    "    human = input(\"Human (Q/q to quit): \")\n",
    "    if human in {\"q\", \"Q\"}:\n",
    "        print(\"AI: Bye bye human\")\n",
    "        break\n",
    "    ai = await remote_runnable.ainvoke({\"input\": human, \"chat_history\": chat_history})\n",
    "    print(f\"AI: {ai['output']}\")\n",
    "    chat_history.extend([HumanMessage(content=human), AIMessage(content=ai[\"output\"])])"
   ]
  },
  {
   "cell_type": "code",
   "execution_count": 10,
   "metadata": {},
   "outputs": [
    {
     "data": {
      "text/plain": [
       "[HumanMessage(content='what are the profiles with tag plomero?'),\n",
       " AIMessage(content='I\\'m sorry, but I couldn\\'t find any profiles with the tag \"plomero.\" If you have any other requests or need assistance with something else, feel free to let me know!'),\n",
       " HumanMessage(content='profiles with tag: plomero'),\n",
       " AIMessage(content='I apologize for the inconvenience. It seems there was an issue with retrieving profiles with the tag \"plomero.\" If you have any other specific tags or requests, please let me know so I can assist you further.'),\n",
       " HumanMessage(content='plomero'),\n",
       " AIMessage(content='I found profiles with the tag \"plomero\" in the following categories:\\n- Cerrajería\\n- 8_56_Hierro\\n- Reparación\\n- Electricidad\\n- Plomería\\n\\nIf you would like more information about any specific profile or category, feel free to ask!')]"
      ]
     },
     "execution_count": 10,
     "metadata": {},
     "output_type": "execute_result"
    }
   ],
   "source": [
    "chat_history"
   ]
  },
  {
   "cell_type": "markdown",
   "metadata": {},
   "source": [
    "## Stream\n",
    "\n",
    "Please note that streaming alternates between actions and observations. It does not stream individual tokens!\n",
    "\n",
    "To stream individual tokens, we need to use the astream events endpoint (see below)."
   ]
  },
  {
   "cell_type": "code",
   "execution_count": 19,
   "metadata": {
    "ExecuteTime": {
     "end_time": "2024-07-02T05:53:57.475138Z",
     "start_time": "2024-07-02T05:53:40.618324Z"
    },
    "tags": []
   },
   "outputs": [
    {
     "name": "stdout",
     "output_type": "stream",
     "text": [
      "AI: \n",
      "¡Hola! ¿En qué puedo ayudarte hoy?\n",
      "------\n",
      "AI: \n",
      "Calling Tool ```service_categories``` with input ```{}```\n",
      "------\n",
      "Got result: ```['misc', 'cerrajeria', 'piano', 'cabello', 'bateria', 'french_food', 'body_treatments', '8_56_hierro', 'home', 'moto', 'filmmaking', 'auto', 'music', 'video', 'aseo_completo_de_casas', 'cubana', 'uber', 'tutorias', 'muebles', 'gatos', 'transporte_de_alimentos', 'smartphone', 'carrozas', 'plomero', 'taxi', 'delivery', 'equipos_de_sonido', 'hamburguesas', '5', 'education', 'tv', 'motoboy', 'piano', 'musica', 'albanil', 'depilacion', 'llaves_perdidas', 'mototaxi', 'guitar', 'restaurant', 'moda', 'food', 'manos_y_pies', 'indriver', 'cerrajeria_automotriz', 'foodtruck', 'marketing', 'electeicidade_generale', 'repair', 'jardin', 'travel_agency', 'transport', 'piano', 'alba', 'musica', 'computadoras', 'pies', 'bateria', 'nevera', 'musico', 'speak_english', 'doctor', 'piano', 'psicopedagoga', 'electricidade', 'bicicletas', 'aire_aconditionado', 'estufas', 'musica', 'educacion', 'planchas', 'dog_sitting', '8_56_hierro', 'desarrollo_de_software', 'taxi', 'clases_de_ingles', 'speak_english', 'lavado_de_automoviles', 'clases_de_musica', 'portuguese', 'speak_english', 'pizza', 'aseo', 'maquina_de_coser', 'english', 'ar_conditionado_ac', 'bateria', 'delivery', 'nachos', 'spa', 'linea_blanca', 'paseo_de_aves', 'aire_acondicionado', 'vegetariano', 'rapidass', 'testelectricista', 'pet_care', 'test', 'mascotas', 'health_panama', 'medico_a_domicilio', 'user', 'iphone', 'musica', 'electricista', 'piano', 'pets', 'fisioterapia', 'nueva_salud', 'photography', 'plantas', 'appliance', 'bateria', 'test', 'plomero', 'musica', '1', 'android', 'albanil', 'health', 'ballo', 'street_food', 'masajes', 'paseo_de_perros', 'piano', 'llaves_para_autos', 'entrega']```\n",
      "------\n",
      "Puedo ayudarte a encontrar un servicio de lavado de automóviles. ¿Te gustaría que busque un proveedor de este servicio para ti?\n",
      "------\n",
      "AI: Bye bye human\n"
     ]
    }
   ],
   "source": [
    "chat_history = []\n",
    "\n",
    "while True:\n",
    "    human = input(\"Human (Q/q to quit): \")\n",
    "    if human in {\"q\", \"Q\"}:\n",
    "        print(\"AI: Bye bye human\")\n",
    "        break\n",
    "\n",
    "    ai = None\n",
    "    print(\"AI: \")\n",
    "    async for chunk in remote_runnable.astream(\n",
    "        {\"input\": human, \"chat_history\": chat_history}\n",
    "    ):\n",
    "        # Agent Action\n",
    "        if \"actions\" in chunk:\n",
    "            for action in chunk[\"actions\"]:\n",
    "                print(\n",
    "                    f\"Calling Tool ```{action['tool']}``` with input ```{action['tool_input']}```\"\n",
    "                )\n",
    "        # Observation\n",
    "        elif \"steps\" in chunk:\n",
    "            for step in chunk[\"steps\"]:\n",
    "                print(f\"Got result: ```{step['observation']}```\")\n",
    "        # Final result\n",
    "        elif \"output\" in chunk:\n",
    "            print(chunk[\"output\"])\n",
    "            ai = AIMessage(content=chunk[\"output\"])\n",
    "        else:\n",
    "            raise ValueError\n",
    "        print(\"------\")\n",
    "    chat_history.extend([HumanMessage(content=human), ai])"
   ]
  },
  {
   "cell_type": "code",
   "execution_count": 20,
   "metadata": {
    "ExecuteTime": {
     "end_time": "2024-07-02T05:54:12.332285Z",
     "start_time": "2024-07-02T05:54:12.327034Z"
    }
   },
   "outputs": [
    {
     "data": {
      "text/plain": [
       "[HumanMessage(content='Hola'),\n",
       " AIMessage(content='¡Hola! ¿En qué puedo ayudarte hoy?'),\n",
       " HumanMessage(content='Necesito alguien que me lave el auto'),\n",
       " AIMessage(content='Puedo ayudarte a encontrar un servicio de lavado de automóviles. ¿Te gustaría que busque un proveedor de este servicio para ti?')]"
      ]
     },
     "execution_count": 20,
     "metadata": {},
     "output_type": "execute_result"
    }
   ],
   "source": [
    "chat_history"
   ]
  },
  {
   "cell_type": "markdown",
   "metadata": {},
   "source": [
    "## Stream Events"
   ]
  },
  {
   "cell_type": "code",
   "execution_count": 18,
   "metadata": {
    "ExecuteTime": {
     "end_time": "2024-07-02T05:51:18.999873Z",
     "start_time": "2024-07-02T05:50:56.888104Z"
    },
    "tags": []
   },
   "outputs": [
    {
     "name": "stdout",
     "output_type": "stream",
     "text": [
      "AI: \n",
      "Starting agent: agent with input: {'input': 'Hola', 'chat_history': []}\n",
      "¡|Hola|!| ¿|En| qué| puedo| ayud|arte| hoy|?|\n",
      "--\n",
      "Done agent: agent with output: ¡Hola! ¿En qué puedo ayudarte hoy?\n",
      "AI: \n",
      "Starting agent: agent with input: {'input': 'Hay mecanicos de autos como provehedores de servicios?', 'chat_history': []}\n",
      "--\n",
      "Starting tool: service_categories with inputs: {}\n",
      "Done tool: service_categories\n",
      "Tool output was: ['misc', 'cerrajeria', 'piano', 'cabello', 'bateria', 'french_food', 'body_treatments', '8_56_hierro', 'home', 'moto', 'filmmaking', 'auto', 'music', 'video', 'aseo_completo_de_casas', 'cubana', 'uber', 'tutorias', 'muebles', 'gatos', 'transporte_de_alimentos', 'smartphone', 'carrozas', 'plomero', 'taxi', 'delivery', 'equipos_de_sonido', 'hamburguesas', '5', 'education', 'tv', 'motoboy', 'piano', 'musica', 'albanil', 'depilacion', 'llaves_perdidas', 'mototaxi', 'guitar', 'restaurant', 'moda', 'food', 'manos_y_pies', 'indriver', 'cerrajeria_automotriz', 'foodtruck', 'marketing', 'electeicidade_generale', 'repair', 'jardin', 'travel_agency', 'transport', 'piano', 'alba', 'musica', 'computadoras', 'pies', 'bateria', 'nevera', 'musico', 'speak_english', 'doctor', 'piano', 'psicopedagoga', 'electricidade', 'bicicletas', 'aire_aconditionado', 'estufas', 'musica', 'educacion', 'planchas', 'dog_sitting', '8_56_hierro', 'desarrollo_de_software', 'taxi', 'clases_de_ingles', 'speak_english', 'lavado_de_automoviles', 'clases_de_musica', 'portuguese', 'speak_english', 'pizza', 'aseo', 'maquina_de_coser', 'english', 'ar_conditionado_ac', 'bateria', 'delivery', 'nachos', 'spa', 'linea_blanca', 'paseo_de_aves', 'aire_acondicionado', 'vegetariano', 'rapidass', 'testelectricista', 'pet_care', 'test', 'mascotas', 'health_panama', 'medico_a_domicilio', 'user', 'iphone', 'musica', 'electricista', 'piano', 'pets', 'fisioterapia', 'nueva_salud', 'photography', 'plantas', 'appliance', 'bateria', 'test', 'plomero', 'musica', '1', 'android', 'albanil', 'health', 'ballo', 'street_food', 'masajes', 'paseo_de_perros', 'piano', 'llaves_para_autos', 'entrega']\n",
      "--\n",
      "S|í|,| hay| prove|edores| de| servicios| de| mec|án|ica| autom|ot|riz| en| la| categor|ía| \"|auto|\".| ¿|Te| gust|aría| buscar| algún| prove|edor| en| particular| o| neces|itas| ayuda| con| algo| más|?|\n",
      "--\n",
      "Done agent: agent with output: Sí, hay proveedores de servicios de mecánica automotriz en la categoría \"auto\". ¿Te gustaría buscar algún proveedor en particular o necesitas ayuda con algo más?\n",
      "AI: Bye bye human\n"
     ]
    }
   ],
   "source": [
    "chat_history = []\n",
    "\n",
    "while True:\n",
    "    human = input(\"Human (Q/q to quit): \")\n",
    "    if human in {\"q\", \"Q\"}:\n",
    "        print(\"AI: Bye bye human\")\n",
    "        break\n",
    "    ai = None\n",
    "    print(\"AI: \")\n",
    "    async for event in remote_runnable.astream_events(\n",
    "        {\"input\": human, \"chat_history\": chat_history},\n",
    "        version=\"v1\",\n",
    "    ):\n",
    "        kind = event[\"event\"]\n",
    "        if kind == \"on_chain_start\":\n",
    "            if (\n",
    "                event[\"name\"] == \"agent\"\n",
    "            ):  # Was assigned when creating the agent with `.with_config({\"run_name\": \"Agent\"})`\n",
    "                print(\n",
    "                    f\"Starting agent: {event['name']} with input: {event['data'].get('input')}\"\n",
    "                )\n",
    "        elif kind == \"on_chain_end\":\n",
    "            if (\n",
    "                event[\"name\"] == \"agent\"\n",
    "            ):  # Was assigned when creating the agent with `.with_config({\"run_name\": \"Agent\"})`\n",
    "                print()\n",
    "                print(\"--\")\n",
    "                print(\n",
    "                    f\"Done agent: {event['name']} with output: {event['data'].get('output')['output']}\"\n",
    "                )\n",
    "        if kind == \"on_chat_model_stream\":\n",
    "            content = event[\"data\"][\"chunk\"].content\n",
    "            if content:\n",
    "                # Empty content in the context of OpenAI means\n",
    "                # that the model is asking for a tool to be invoked.\n",
    "                # So we only print non-empty content\n",
    "                print(content, end=\"|\")\n",
    "        elif kind == \"on_tool_start\":\n",
    "            print(\"--\")\n",
    "            print(\n",
    "                f\"Starting tool: {event['name']} with inputs: {event['data'].get('input')}\"\n",
    "            )\n",
    "        elif kind == \"on_tool_end\":\n",
    "            print(f\"Done tool: {event['name']}\")\n",
    "            print(f\"Tool output was: {event['data'].get('output')}\")\n",
    "            print(\"--\")"
   ]
  }
 ],
 "metadata": {
  "kernelspec": {
   "display_name": "Python 3 (ipykernel)",
   "language": "python",
   "name": "python3"
  },
  "language_info": {
   "codemirror_mode": {
    "name": "ipython",
    "version": 3
   },
   "file_extension": ".py",
   "mimetype": "text/x-python",
   "name": "python",
   "nbconvert_exporter": "python",
   "pygments_lexer": "ipython3",
   "version": "3.11.9"
  }
 },
 "nbformat": 4,
 "nbformat_minor": 4
}
