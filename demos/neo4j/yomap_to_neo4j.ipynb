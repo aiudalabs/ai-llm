{
 "cells": [
  {
   "cell_type": "markdown",
   "metadata": {},
   "source": []
  },
  {
   "cell_type": "code",
   "execution_count": 13,
   "metadata": {},
   "outputs": [],
   "source": [
    "import nest_asyncio\n",
    "nest_asyncio.apply()\n",
    "\n",
    "import asyncio\n",
    "\n",
    "from neo4j import GraphDatabase\n",
    "from neo4j_graphrag.embeddings import OpenAIEmbeddings\n",
    "from neo4j_graphrag.experimental.pipeline.kg_builder import SimpleKGPipeline\n",
    "from neo4j_graphrag.llm import OpenAILLM\n"
   ]
  },
  {
   "cell_type": "code",
   "execution_count": 14,
   "metadata": {},
   "outputs": [],
   "source": [
    "NEO4J_URI = \"neo4j://localhost:7687\"\n",
    "NEO4J_USERNAME = \"neo4j\"\n",
    "NEO4J_PASSWORD = \"cassandra\""
   ]
  },
  {
   "cell_type": "code",
   "execution_count": 45,
   "metadata": {},
   "outputs": [],
   "source": [
    "from neo4j import GraphDatabase\n",
    "from neo4j_graphrag.indexes import create_vector_index\n",
    "\n",
    "NEO4J_URI = \"neo4j://localhost:7687\"\n",
    "NEO4J_USERNAME = \"neo4j\"\n",
    "NEO4J_PASSWORD = \"cassandra\"\n",
    "INDEX_NAME = \"yomap-index\"\n",
    "\n",
    "# Connect to the Neo4j database\n",
    "driver = GraphDatabase.driver(NEO4J_URI, auth=(NEO4J_USERNAME, NEO4J_PASSWORD))\n",
    "\n",
    "# Create the index\n",
    "create_vector_index(\n",
    "    driver,\n",
    "    INDEX_NAME,\n",
    "    label=\"Chunk\",\n",
    "    embedding_property=\"embedding\",\n",
    "    dimensions=3072,\n",
    "    similarity_fn=\"euclidean\",\n",
    ")\n",
    "driver.close()"
   ]
  },
  {
   "cell_type": "code",
   "execution_count": 41,
   "metadata": {},
   "outputs": [],
   "source": [
    "from neo4j import GraphDatabase\n",
    "from neo4j_graphrag.embeddings import OpenAIEmbeddings\n",
    "from neo4j_graphrag.indexes import upsert_vectors\n",
    "from neo4j_graphrag.types import EntityType\n",
    "\n",
    "NEO4J_URI = \"neo4j://localhost:7687/yomap\"\n",
    "NEO4J_USERNAME = \"neo4j\"\n",
    "NEO4J_PASSWORD = \"cassandra\"\n",
    "\n",
    "# Connect to the Neo4j database\n",
    "driver = GraphDatabase.driver(NEO4J_URI, auth=(NEO4J_USERNAME, NEO4J_PASSWORD))\n",
    "\n",
    "# Create an Embedder object\n",
    "embedder = OpenAIEmbeddings(model=\"text-embedding-3-large\")\n",
    "\n",
    "# Generate an embedding for some text\n",
    "text = (\n",
    "    \"The son of Duke Leto Atreides and the Lady Jessica, Paul is the heir of House \"\n",
    "    \"Atreides, an aristocratic family that rules the planet Caladan.\"\n",
    ")\n",
    "vector = embedder.embed_query(text)\n",
    "\n",
    "# Upsert the vector\n",
    "upsert_vectors(\n",
    "    driver,\n",
    "    ids=[\"1234\"],\n",
    "    embedding_property=\"vectorProperty\",\n",
    "    embeddings=[vector],\n",
    "    entity_type=EntityType.NODE,\n",
    ")\n",
    "driver.close()"
   ]
  },
  {
   "cell_type": "code",
   "execution_count": 42,
   "metadata": {},
   "outputs": [],
   "source": [
    "# Connect to the Neo4j database\n",
    "driver = GraphDatabase.driver(NEO4J_URI, auth=(NEO4J_USERNAME, NEO4J_PASSWORD))\n",
    "\n",
    "# List the entities and relations the LLM should look for in the text\n",
    "entities = [\"Person\", \"House\", \"Planet\"]\n",
    "relations = [\"PARENT_OF\", \"HEIR_OF\", \"RULES\"]\n",
    "potential_schema = [\n",
    "    (\"Person\", \"PARENT_OF\", \"Person\"),\n",
    "    (\"Person\", \"HEIR_OF\", \"House\"),\n",
    "    (\"House\", \"RULES\", \"Planet\"),\n",
    "]\n",
    "\n",
    "# Create an Embedder object\n",
    "embedder = OpenAIEmbeddings(model=\"text-embedding-3-large\")\n",
    "\n",
    "# Instantiate the LLM\n",
    "llm = OpenAILLM(\n",
    "    model_name=\"gpt-4o\",\n",
    "    model_params={\n",
    "        \"max_tokens\": 2000,\n",
    "        \"response_format\": {\"type\": \"json_object\"},\n",
    "        \"temperature\": 0,\n",
    "    },\n",
    ")\n",
    "\n",
    "# Instantiate the SimpleKGPipeline\n",
    "kg_builder = SimpleKGPipeline(\n",
    "    llm=llm,\n",
    "    driver=driver,\n",
    "    embedder=embedder,\n",
    "    entities=entities,\n",
    "    relations=relations,\n",
    "    on_error=\"IGNORE\",\n",
    "    from_pdf=False,\n",
    ")\n",
    "\n",
    "# Run the pipeline on a piece of text\n",
    "text = (\n",
    "    \"The son of Duke Leto Atreides and the Lady Jessica, Paul is the heir of House \"\n",
    "    \"Atreides, an aristocratic family that rules the planet Caladan.\"\n",
    ")"
   ]
  },
  {
   "cell_type": "code",
   "execution_count": 43,
   "metadata": {},
   "outputs": [],
   "source": [
    "asyncio.run(kg_builder.run_async(text=text))\n",
    "driver.close()"
   ]
  },
  {
   "cell_type": "code",
   "execution_count": null,
   "metadata": {},
   "outputs": [],
   "source": []
  },
  {
   "cell_type": "markdown",
   "metadata": {},
   "source": [
    "# Get data from Elastic"
   ]
  },
  {
   "cell_type": "code",
   "execution_count": 11,
   "metadata": {},
   "outputs": [],
   "source": [
    "from datetime import datetime\n",
    "from elasticsearch import Elasticsearch"
   ]
  },
  {
   "cell_type": "code",
   "execution_count": 12,
   "metadata": {},
   "outputs": [],
   "source": [
    "client = Elasticsearch(\n",
    "    hosts=[\"https://yomap-elastic-dev.fly.dev\"],\n",
    "    basic_auth=(\"yomapsearch\", \"@6e9qxFPQD?@dYPk\"),\n",
    ")"
   ]
  },
  {
   "cell_type": "code",
   "execution_count": 13,
   "metadata": {},
   "outputs": [],
   "source": [
    "resp = client.search(index=\"profiles\", query={\"match_all\": {}})"
   ]
  },
  {
   "cell_type": "code",
   "execution_count": 41,
   "metadata": {},
   "outputs": [
    {
     "name": "stdout",
     "output_type": "stream",
     "text": [
      "{'address': 'Panamá, , Panamá, Panama', 'gender': '', 'displayName': 'Arizza', 'rating': 0, 'about': '', 'photo': '', 'blockedProfiles': [], 'userId': 'DGnrQapGUTPhGJ6Noq2GuuDCzM82', 'totalRatingVotes': 0, 'network': [], 'tags': [{'weight': 0, 'id': 'pf8IUMBw9rVBMGHoHdYw', 'text': 'user', 'slug': 'user', 'parentId': '', 'usedBy': 14, 'parentSlug': ''}], 'service': {'weight': 0, 'id': 'pf8IUMBw9rVBMGHoHdYw', 'text': 'user', 'slug': 'user', 'parentId': '', 'usedBy': 14, 'parentSlug': ''}, 'commentsCount': 0, 'socialNetworks': [], 'location': {'lat': 8.994300842285156, 'lon': -79.55968186016943}, 'age': None, 'realTimeLocEnabled': False, 'profileId': '32z0evf2wJBkKNMaZYql'}\n",
      "{'address': 'PQ5V+3PR, PQ5V+3PR, Punto Fijo, Falcón, Venezuela', 'gender': 'female', 'realTimeLocEnabled': False, 'displayName': 'Oriana Vega24422', 'about': '', 'photo': 'Files/Users/scXuutTfVsgox7LShTB9i1vShaM2/file_1701890567783-407746_Screenshot_2023-11-20-10-53-55-423_com.facebook.katana.jpg', 'blockedProfiles': [], 'userId': 'scXuutTfVsgox7LShTB9i1vShaM2', 'network': [], 'tags': [{'weight': 0, 'id': 'pf8IUMBw9rVBMGHoHdYw', 'text': 'user', 'parentId': '', 'usedBy': 10, 'slug': 'user', 'parentSlug': ''}, {'weight': 0, 'id': 'SCbBrQfQuPrGvu4H0o0d', 'text': 'musica', 'parentId': 'pf8IUMBw9rVBMGHoHdYw', 'usedBy': 0, 'slug': 'musica', 'parentSlug': 'user'}, {'weight': 0, 'id': 'UrUBAHe2qqD8nRI3GkUO', 'text': 'piano', 'parentId': 'pf8IUMBw9rVBMGHoHdYw', 'usedBy': 0, 'slug': 'piano', 'parentSlug': 'user'}, {'weight': 0, 'id': 'MPORcJuo2AoIch1hGrWs', 'text': 'moda', 'parentId': 'pf8IUMBw9rVBMGHoHdYw', 'usedBy': 0, 'slug': 'moda', 'parentSlug': 'user'}], 'totalReviews': 0, 'service': {'weight': 0, 'id': 'pf8IUMBw9rVBMGHoHdYw', 'text': 'user', 'parentId': '', 'usedBy': 10, 'slug': 'user', 'parentSlug': ''}, 'socialNetworks': [], 'location': {'lat': 11.7080935, 'lon': -70.2067349}, 'avgRating': 0, 'age': '27', 'profileId': '3QWnkBxpnLYq4bWrLrx0'}\n",
      "{'address': 'Panamá, P.H. Bay View, Panamá, Provincia de Panamá, Panamá', 'gender': 'male', 'realTimeLocEnabled': False, 'displayName': 'Alejandro ', 'about': '', 'photo': 'Files/Users/DPMX64AB6gfevOHwSHNhgvB33iS2/file_1710278101482-989710_1710278101258.jpg', 'blockedProfiles': [], 'userId': 'DPMX64AB6gfevOHwSHNhgvB33iS2', 'network': [], 'tags': [{'weight': 0, 'id': '0EB4WWXk3vZAf51Lu6qf', 'text': 'misc', 'parentId': '', 'usedBy': 5, 'slug': 'misc', 'parentSlug': ''}, {'weight': 0, 'id': 'ODuYNkwIywwpTo09ai2P', 'text': 'marketing', 'parentId': '0EB4WWXk3vZAf51Lu6qf', 'usedBy': 0, 'slug': 'marketing', 'parentSlug': 'misc'}], 'service': {'weight': 0, 'id': '0EB4WWXk3vZAf51Lu6qf', 'text': 'misc', 'parentId': '', 'usedBy': 5, 'slug': 'misc', 'parentSlug': ''}, 'socialNetworks': [], 'location': {'lat': 8.9600785, 'lon': -79.5383008}, 'age': '32', 'totalReviews': 2, 'avgRating': 4.5, 'profileId': '4TJOzvI8vQPi0gQ00BQ0'}\n",
      "{'address': '32, Rue Fabert, Paris, Île-de-France, France', 'gender': 'male', 'displayName': 'Jules D.', 'about': '', 'photo': 'Files/Users/Tzdz06icsiU9CEQED9B0kx2J7zU2/file_1695639373038-245445_IMG_20230915_144104.jpg', 'blockedProfiles': [], 'userId': 'Tzdz06icsiU9CEQED9B0kx2J7zU2', 'network': [], 'tags': [{'weight': 0, 'id': 'pf8IUMBw9rVBMGHoHdYw', 'text': 'user', 'parentId': '', 'usedBy': 7, 'slug': 'user', 'parentSlug': ''}], 'totalReviews': 0, 'service': {'weight': 0, 'id': 'pf8IUMBw9rVBMGHoHdYw', 'text': 'user', 'parentId': '', 'usedBy': 7, 'slug': 'user', 'parentSlug': ''}, 'socialNetworks': [], 'location': {'lat': 48.8598247, 'lon': 2.3113472}, 'avgRating': 0, 'age': '28', 'realTimeLocEnabled': False, 'profileId': '5z07VKPR2ssYEoQwKzO7'}\n",
      "{'address': 'Calle 58 Este, Calle 58 Este, Panama City, Provincia de Panamá, Panamá', 'gender': 'female', 'displayName': 'Daniela Febles', 'rating': 0, 'about': '', 'photo': '', 'blockedProfiles': [], 'userId': 'vR92Qd7h79PK1icyaY3vek6lvUs2', 'totalRatingVotes': 0, 'network': [], 'tags': [{'weight': 0, 'id': 'pf8IUMBw9rVBMGHoHdYw', 'text': 'user', 'slug': 'user', 'parentId': '', 'usedBy': 14, 'parentSlug': ''}], 'service': {'weight': 0, 'id': 'pf8IUMBw9rVBMGHoHdYw', 'text': 'user', 'slug': 'user', 'parentId': '', 'usedBy': 14, 'parentSlug': ''}, 'commentsCount': 0, 'socialNetworks': [], 'location': {'lat': 8.985404968261719, 'lon': -79.51779272414699}, 'age': 32, 'realTimeLocEnabled': False, 'totalReviews': 1, 'avgRating': 4, 'profileId': '6pQtqzutZKhc1se28DT8'}\n",
      "{'address': '32WC+X3W, 32WC+X3W, Sudan, Punjab, India', 'gender': 'male', 'displayName': 'Akshdeep', 'rating': 0, 'about': '', 'photo': '', 'blockedProfiles': [], 'userId': 'Ie6f50w1oEMfqVAMNjRg7sfr3wp2', 'totalRatingVotes': 0, 'network': [], 'tags': [{'weight': 0, 'id': '5QOMIURL9xYnZgPWSSIp', 'text': 'home', 'parentId': '', 'usedBy': 12, 'slug': 'home', 'parentSlug': ''}], 'service': {'weight': 0, 'id': '5QOMIURL9xYnZgPWSSIp', 'text': 'home', 'parentId': '', 'usedBy': 12, 'slug': 'home', 'parentSlug': ''}, 'commentsCount': 0, 'socialNetworks': [], 'location': {'lat': 31.0978, 'lon': 75.0192061}, 'age': 15, 'realTimeLocEnabled': False, 'profileId': '7CTigqrL4pORT1EJEGED'}\n",
      "{'address': '1161, 1161 Katsuura, Nachikatsuura, Wakayama, Japan', 'gender': 'male', 'displayName': 'Harry', 'rating': 0, 'about': '', 'photo': '', 'blockedProfiles': [], 'userId': '13jVFa7EyRaJWlWwsUY0zOCS4kx1', 'totalRatingVotes': 0, 'network': [], 'tags': [{'weight': 0, 'id': 'pf8IUMBw9rVBMGHoHdYw', 'text': 'user', 'parentId': '', 'usedBy': 16, 'slug': 'user', 'parentSlug': ''}], 'service': {'weight': 0, 'id': 'pf8IUMBw9rVBMGHoHdYw', 'text': 'user', 'parentId': '', 'usedBy': 16, 'slug': 'user', 'parentSlug': ''}, 'commentsCount': 0, 'socialNetworks': [], 'location': {'lat': 33.6266539, 'lon': 135.9516219}, 'age': 28, 'realTimeLocEnabled': False, 'profileId': '892TDojhnZ2w0vWGGAD7'}\n",
      "{'address': 'H7G9+JFW, H7G9+JFW, Sangha, Punjab, India', 'gender': 'female', 'displayName': 'Manjeet kaur', 'rating': 0, 'about': '', 'photo': '', 'blockedProfiles': [], 'userId': 'kxioEFocgSXoJe7wm62FEMFOdtk2', 'totalRatingVotes': 0, 'network': [], 'tags': [{'weight': 0, 'text': 'user', 'id': 'pf8IUMBw9rVBMGHoHdYw', 'parentId': '', 'slug': 'user', 'usedBy': 3, 'parentSlug': ''}], 'service': {'weight': 0, 'text': 'user', 'id': 'pf8IUMBw9rVBMGHoHdYw', 'parentId': '', 'slug': 'user', 'usedBy': 3, 'parentSlug': ''}, 'commentsCount': 0, 'socialNetworks': [], 'location': {'lat': 29.5766614, 'lon': 75.2686158}, 'age': 55, 'realTimeLocEnabled': False, 'profileId': '99nPuZ1zvIJYaYXlDEDY'}\n",
      "{'gender': 'other', 'displayName': 'Jino ', 'rating': 0, 'about': '', 'photo': '', 'blockedProfiles': [], 'userId': 'bZVUKwL3V4MhokEdSKIPSZuy8Cp1', 'totalRatingVotes': 0, 'network': [], 'tags': [{'weight': 0, 'id': 'pf8IUMBw9rVBMGHoHdYw', 'text': 'user', 'slug': 'user', 'parentId': '', 'usedBy': 20, 'parentSlug': ''}], 'service': {'weight': 0, 'id': 'pf8IUMBw9rVBMGHoHdYw', 'text': 'user', 'slug': 'user', 'parentId': '', 'usedBy': 20, 'parentSlug': ''}, 'commentsCount': 0, 'socialNetworks': [], 'age': 35, 'totalReviews': 2, 'avgRating': 4.5, 'location': {'lat': 8.911564571816974, 'lon': -79.52012538725872}, 'address': 'Panama City, , Panama City, Panamá, Panama', 'realTimeLocEnabled': False, 'profileId': 'AZaYvpnjBYPMqc7D8Pdu'}\n",
      "{'gender': 'male', 'displayName': 'Ricardo De Leon', 'about': '', 'photo': '', 'blockedProfiles': [], 'userId': 'bDCL9WUicERf2dzQDDCr1MgwKzZ2', 'network': [], 'tags': [{'weight': 0, 'id': '0EB4WWXk3vZAf51Lu6qf', 'text': 'misc', 'parentId': '', 'usedBy': 6, 'slug': 'misc', 'parentSlug': ''}, {'weight': 0, 'id': 'Y42kntNtdbTX4PPIQqw6', 'text': 'educacion', 'parentId': '0EB4WWXk3vZAf51Lu6qf', 'usedBy': 1, 'slug': 'educacion', 'parentSlug': 'misc'}, {'weight': 0, 'id': 'TqZWpZfCkLF8aiHbbvhb', 'text': 'musico', 'parentId': '0EB4WWXk3vZAf51Lu6qf', 'usedBy': 0, 'slug': 'musico', 'parentSlug': 'misc'}], 'service': {'weight': 0, 'id': '0EB4WWXk3vZAf51Lu6qf', 'text': 'misc', 'parentId': '', 'usedBy': 6, 'slug': 'misc', 'parentSlug': ''}, 'socialNetworks': [], 'age': '37', 'totalReviews': 1, 'avgRating': 5, 'location': {'lat': 8.9791855, 'lon': -79.5271224}, 'address': '3732, Avenida Federico Boyd, Panamá, Provincia de Panamá, Panamá', 'realTimeLocEnabled': False, 'profileId': 'CtA32EnZGmgFL3s09WCH'}\n"
     ]
    }
   ],
   "source": [
    "paragraph = []\n",
    "\n",
    "for profile in resp[\"hits\"][\"hits\"]:\n",
    "    print(profile[\"_source\"])\n",
    "\n",
    "    address = profile[\"_source\"][\"address\"]\n",
    "    about = profile[\"_source\"][\"about\"]\n",
    "    name = profile[\"_source\"][\"displayName\"]\n",
    "    age = profile[\"_source\"][\"age\"] if profile[\"_source\"][\"age\"] is not None else 0\n",
    "    service = profile[\"_source\"][\"service\"]\n",
    "    tags = profile[\"_source\"][\"tags\"]\n",
    "\n",
    "    paragraph.append(\"name: \" + name + \" address: \" + address + \" about_me: \" + about + \" age: \" + str(age) + \" category: \" + str(service) + \" tags: \" + str(tags))"
   ]
  },
  {
   "cell_type": "code",
   "execution_count": 42,
   "metadata": {},
   "outputs": [
    {
     "data": {
      "text/plain": [
       "[\"name: Arizza address: Panamá, , Panamá, Panama about_me:  age: 0 category: {'weight': 0, 'id': 'pf8IUMBw9rVBMGHoHdYw', 'text': 'user', 'slug': 'user', 'parentId': '', 'usedBy': 14, 'parentSlug': ''} tags: [{'weight': 0, 'id': 'pf8IUMBw9rVBMGHoHdYw', 'text': 'user', 'slug': 'user', 'parentId': '', 'usedBy': 14, 'parentSlug': ''}]\",\n",
       " \"name: Oriana Vega24422 address: PQ5V+3PR, PQ5V+3PR, Punto Fijo, Falcón, Venezuela about_me:  age: 27 category: {'weight': 0, 'id': 'pf8IUMBw9rVBMGHoHdYw', 'text': 'user', 'parentId': '', 'usedBy': 10, 'slug': 'user', 'parentSlug': ''} tags: [{'weight': 0, 'id': 'pf8IUMBw9rVBMGHoHdYw', 'text': 'user', 'parentId': '', 'usedBy': 10, 'slug': 'user', 'parentSlug': ''}, {'weight': 0, 'id': 'SCbBrQfQuPrGvu4H0o0d', 'text': 'musica', 'parentId': 'pf8IUMBw9rVBMGHoHdYw', 'usedBy': 0, 'slug': 'musica', 'parentSlug': 'user'}, {'weight': 0, 'id': 'UrUBAHe2qqD8nRI3GkUO', 'text': 'piano', 'parentId': 'pf8IUMBw9rVBMGHoHdYw', 'usedBy': 0, 'slug': 'piano', 'parentSlug': 'user'}, {'weight': 0, 'id': 'MPORcJuo2AoIch1hGrWs', 'text': 'moda', 'parentId': 'pf8IUMBw9rVBMGHoHdYw', 'usedBy': 0, 'slug': 'moda', 'parentSlug': 'user'}]\",\n",
       " \"name: Alejandro  address: Panamá, P.H. Bay View, Panamá, Provincia de Panamá, Panamá about_me:  age: 32 category: {'weight': 0, 'id': '0EB4WWXk3vZAf51Lu6qf', 'text': 'misc', 'parentId': '', 'usedBy': 5, 'slug': 'misc', 'parentSlug': ''} tags: [{'weight': 0, 'id': '0EB4WWXk3vZAf51Lu6qf', 'text': 'misc', 'parentId': '', 'usedBy': 5, 'slug': 'misc', 'parentSlug': ''}, {'weight': 0, 'id': 'ODuYNkwIywwpTo09ai2P', 'text': 'marketing', 'parentId': '0EB4WWXk3vZAf51Lu6qf', 'usedBy': 0, 'slug': 'marketing', 'parentSlug': 'misc'}]\",\n",
       " \"name: Jules D. address: 32, Rue Fabert, Paris, Île-de-France, France about_me:  age: 28 category: {'weight': 0, 'id': 'pf8IUMBw9rVBMGHoHdYw', 'text': 'user', 'parentId': '', 'usedBy': 7, 'slug': 'user', 'parentSlug': ''} tags: [{'weight': 0, 'id': 'pf8IUMBw9rVBMGHoHdYw', 'text': 'user', 'parentId': '', 'usedBy': 7, 'slug': 'user', 'parentSlug': ''}]\",\n",
       " \"name: Daniela Febles address: Calle 58 Este, Calle 58 Este, Panama City, Provincia de Panamá, Panamá about_me:  age: 32 category: {'weight': 0, 'id': 'pf8IUMBw9rVBMGHoHdYw', 'text': 'user', 'slug': 'user', 'parentId': '', 'usedBy': 14, 'parentSlug': ''} tags: [{'weight': 0, 'id': 'pf8IUMBw9rVBMGHoHdYw', 'text': 'user', 'slug': 'user', 'parentId': '', 'usedBy': 14, 'parentSlug': ''}]\",\n",
       " \"name: Akshdeep address: 32WC+X3W, 32WC+X3W, Sudan, Punjab, India about_me:  age: 15 category: {'weight': 0, 'id': '5QOMIURL9xYnZgPWSSIp', 'text': 'home', 'parentId': '', 'usedBy': 12, 'slug': 'home', 'parentSlug': ''} tags: [{'weight': 0, 'id': '5QOMIURL9xYnZgPWSSIp', 'text': 'home', 'parentId': '', 'usedBy': 12, 'slug': 'home', 'parentSlug': ''}]\",\n",
       " \"name: Harry address: 1161, 1161 Katsuura, Nachikatsuura, Wakayama, Japan about_me:  age: 28 category: {'weight': 0, 'id': 'pf8IUMBw9rVBMGHoHdYw', 'text': 'user', 'parentId': '', 'usedBy': 16, 'slug': 'user', 'parentSlug': ''} tags: [{'weight': 0, 'id': 'pf8IUMBw9rVBMGHoHdYw', 'text': 'user', 'parentId': '', 'usedBy': 16, 'slug': 'user', 'parentSlug': ''}]\",\n",
       " \"name: Manjeet kaur address: H7G9+JFW, H7G9+JFW, Sangha, Punjab, India about_me:  age: 55 category: {'weight': 0, 'text': 'user', 'id': 'pf8IUMBw9rVBMGHoHdYw', 'parentId': '', 'slug': 'user', 'usedBy': 3, 'parentSlug': ''} tags: [{'weight': 0, 'text': 'user', 'id': 'pf8IUMBw9rVBMGHoHdYw', 'parentId': '', 'slug': 'user', 'usedBy': 3, 'parentSlug': ''}]\",\n",
       " \"name: Jino  address: Panama City, , Panama City, Panamá, Panama about_me:  age: 35 category: {'weight': 0, 'id': 'pf8IUMBw9rVBMGHoHdYw', 'text': 'user', 'slug': 'user', 'parentId': '', 'usedBy': 20, 'parentSlug': ''} tags: [{'weight': 0, 'id': 'pf8IUMBw9rVBMGHoHdYw', 'text': 'user', 'slug': 'user', 'parentId': '', 'usedBy': 20, 'parentSlug': ''}]\",\n",
       " \"name: Ricardo De Leon address: 3732, Avenida Federico Boyd, Panamá, Provincia de Panamá, Panamá about_me:  age: 37 category: {'weight': 0, 'id': '0EB4WWXk3vZAf51Lu6qf', 'text': 'misc', 'parentId': '', 'usedBy': 6, 'slug': 'misc', 'parentSlug': ''} tags: [{'weight': 0, 'id': '0EB4WWXk3vZAf51Lu6qf', 'text': 'misc', 'parentId': '', 'usedBy': 6, 'slug': 'misc', 'parentSlug': ''}, {'weight': 0, 'id': 'Y42kntNtdbTX4PPIQqw6', 'text': 'educacion', 'parentId': '0EB4WWXk3vZAf51Lu6qf', 'usedBy': 1, 'slug': 'educacion', 'parentSlug': 'misc'}, {'weight': 0, 'id': 'TqZWpZfCkLF8aiHbbvhb', 'text': 'musico', 'parentId': '0EB4WWXk3vZAf51Lu6qf', 'usedBy': 0, 'slug': 'musico', 'parentSlug': 'misc'}]\"]"
      ]
     },
     "execution_count": 42,
     "metadata": {},
     "output_type": "execute_result"
    }
   ],
   "source": [
    "paragraph"
   ]
  },
  {
   "cell_type": "markdown",
   "metadata": {},
   "source": [
    "## Get data from Firebase"
   ]
  },
  {
   "cell_type": "code",
   "execution_count": 15,
   "metadata": {},
   "outputs": [],
   "source": [
    "import firebase_admin\n",
    "from firebase_admin import credentials\n",
    "from firebase_admin import firestore\n",
    "from google.cloud.firestore_v1.base_query import FieldFilter\n",
    "\n",
    "from vertexai.generative_models import (\n",
    "    FunctionDeclaration,\n",
    "    GenerationConfig,\n",
    "    GenerativeModel,\n",
    "    Tool,\n",
    "    Part,\n",
    "    Content,\n",
    ")"
   ]
  },
  {
   "cell_type": "code",
   "execution_count": 16,
   "metadata": {},
   "outputs": [
    {
     "ename": "ValueError",
     "evalue": "The default Firebase app already exists. This means you called initialize_app() more than once without providing an app name as the second argument. In most cases you only need to call initialize_app() once. But if you do want to initialize multiple apps, pass a second argument to initialize_app() to give each app a unique name.",
     "output_type": "error",
     "traceback": [
      "\u001b[0;31m---------------------------------------------------------------------------\u001b[0m",
      "\u001b[0;31mValueError\u001b[0m                                Traceback (most recent call last)",
      "Cell \u001b[0;32mIn[16], line 5\u001b[0m\n\u001b[1;32m      2\u001b[0m cred \u001b[38;5;241m=\u001b[39m credentials\u001b[38;5;241m.\u001b[39mCertificate(\u001b[38;5;124m\"\u001b[39m\u001b[38;5;124mgoblob-95e2a-6add9b68fd5d.json\u001b[39m\u001b[38;5;124m\"\u001b[39m)\n\u001b[1;32m      3\u001b[0m \u001b[38;5;66;03m# cred = credentials.Certificate(\"aiuda-ffc77-b8546e446401.json\")\u001b[39;00m\n\u001b[0;32m----> 5\u001b[0m app \u001b[38;5;241m=\u001b[39m \u001b[43mfirebase_admin\u001b[49m\u001b[38;5;241;43m.\u001b[39;49m\u001b[43minitialize_app\u001b[49m\u001b[43m(\u001b[49m\u001b[43mcred\u001b[49m\u001b[43m)\u001b[49m\n\u001b[1;32m      7\u001b[0m db \u001b[38;5;241m=\u001b[39m firestore\u001b[38;5;241m.\u001b[39mclient()\n",
      "File \u001b[0;32m~/miniforge3/envs/yomap/lib/python3.10/site-packages/firebase_admin/__init__.py:74\u001b[0m, in \u001b[0;36minitialize_app\u001b[0;34m(credential, options, name)\u001b[0m\n\u001b[1;32m     71\u001b[0m         \u001b[38;5;28;01mreturn\u001b[39;00m app\n\u001b[1;32m     73\u001b[0m \u001b[38;5;28;01mif\u001b[39;00m name \u001b[38;5;241m==\u001b[39m _DEFAULT_APP_NAME:\n\u001b[0;32m---> 74\u001b[0m     \u001b[38;5;28;01mraise\u001b[39;00m \u001b[38;5;167;01mValueError\u001b[39;00m((\n\u001b[1;32m     75\u001b[0m         \u001b[38;5;124m'\u001b[39m\u001b[38;5;124mThe default Firebase app already exists. This means you called \u001b[39m\u001b[38;5;124m'\u001b[39m\n\u001b[1;32m     76\u001b[0m         \u001b[38;5;124m'\u001b[39m\u001b[38;5;124minitialize_app() more than once without providing an app name as \u001b[39m\u001b[38;5;124m'\u001b[39m\n\u001b[1;32m     77\u001b[0m         \u001b[38;5;124m'\u001b[39m\u001b[38;5;124mthe second argument. In most cases you only need to call \u001b[39m\u001b[38;5;124m'\u001b[39m\n\u001b[1;32m     78\u001b[0m         \u001b[38;5;124m'\u001b[39m\u001b[38;5;124minitialize_app() once. But if you do want to initialize multiple \u001b[39m\u001b[38;5;124m'\u001b[39m\n\u001b[1;32m     79\u001b[0m         \u001b[38;5;124m'\u001b[39m\u001b[38;5;124mapps, pass a second argument to initialize_app() to give each app \u001b[39m\u001b[38;5;124m'\u001b[39m\n\u001b[1;32m     80\u001b[0m         \u001b[38;5;124m'\u001b[39m\u001b[38;5;124ma unique name.\u001b[39m\u001b[38;5;124m'\u001b[39m))\n\u001b[1;32m     82\u001b[0m \u001b[38;5;28;01mraise\u001b[39;00m \u001b[38;5;167;01mValueError\u001b[39;00m((\n\u001b[1;32m     83\u001b[0m     \u001b[38;5;124m'\u001b[39m\u001b[38;5;124mFirebase app named \u001b[39m\u001b[38;5;124m\"\u001b[39m\u001b[38;5;132;01m{0}\u001b[39;00m\u001b[38;5;124m\"\u001b[39m\u001b[38;5;124m already exists. This means you called \u001b[39m\u001b[38;5;124m'\u001b[39m\n\u001b[1;32m     84\u001b[0m     \u001b[38;5;124m'\u001b[39m\u001b[38;5;124minitialize_app() more than once with the same app name as the \u001b[39m\u001b[38;5;124m'\u001b[39m\n\u001b[1;32m     85\u001b[0m     \u001b[38;5;124m'\u001b[39m\u001b[38;5;124msecond argument. Make sure you provide a unique name every time \u001b[39m\u001b[38;5;124m'\u001b[39m\n\u001b[1;32m     86\u001b[0m     \u001b[38;5;124m'\u001b[39m\u001b[38;5;124myou call initialize_app().\u001b[39m\u001b[38;5;124m'\u001b[39m)\u001b[38;5;241m.\u001b[39mformat(name))\n",
      "\u001b[0;31mValueError\u001b[0m: The default Firebase app already exists. This means you called initialize_app() more than once without providing an app name as the second argument. In most cases you only need to call initialize_app() once. But if you do want to initialize multiple apps, pass a second argument to initialize_app() to give each app a unique name."
     ]
    }
   ],
   "source": [
    "# Use a service account.\n",
    "cred = credentials.Certificate(\"goblob-95e2a-6add9b68fd5d.json\")\n",
    "# cred = credentials.Certificate(\"aiuda-ffc77-b8546e446401.json\")\n",
    "\n",
    "app = firebase_admin.initialize_app(cred)\n",
    "\n",
    "db = firestore.client()"
   ]
  },
  {
   "cell_type": "code",
   "execution_count": 17,
   "metadata": {},
   "outputs": [],
   "source": [
    "profile = db.collection(\"profiles\")\n",
    "docs = profile.get()\n",
    "\n",
    "# for doc in docs:\n",
    "#    print(doc.to_dict())"
   ]
  },
  {
   "cell_type": "code",
   "execution_count": 18,
   "metadata": {},
   "outputs": [
    {
     "data": {
      "text/plain": [
       "{'age': 32,\n",
       " 'tags': [{'text': 'spa',\n",
       "   'weight': 0,\n",
       "   'id': 'jNDxsch7qIDIubx39R1K',\n",
       "   'usedBy': 1,\n",
       "   'parentSlug': '',\n",
       "   'parentId': '',\n",
       "   'slug': 'spa'},\n",
       "  {'text': 'manos_y_pies',\n",
       "   'weight': 0,\n",
       "   'id': 'NjIAAjPlxDpQFsTTlHvp',\n",
       "   'usedBy': 0,\n",
       "   'parentSlug': 'spa',\n",
       "   'parentId': 'jNDxsch7qIDIubx39R1K',\n",
       "   'slug': 'manos_y_pies'}],\n",
       " 'displayName': 'Emulator 66980917',\n",
       " 'commentsCount': 0,\n",
       " 'realTimeLocEnabled': False,\n",
       " 'network': [],\n",
       " 'rating': 0,\n",
       " 'avgRating': 4.5,\n",
       " 'about': '',\n",
       " 'socialNetworks': [],\n",
       " 'userId': 'ogey2VejTNQ4q3HnIeQ5p5veipo1',\n",
       " 'totalRatingVotes': 0,\n",
       " 'blockedProfiles': [],\n",
       " 'service': {'text': 'spa',\n",
       "  'weight': 0,\n",
       "  'id': 'jNDxsch7qIDIubx39R1K',\n",
       "  'usedBy': 1,\n",
       "  'parentSlug': '',\n",
       "  'parentId': '',\n",
       "  'slug': 'spa'},\n",
       " 'address': '132, Calle C, San Miguelito, Provincia de Panamá, Panama',\n",
       " 'gender': 'female',\n",
       " 'photo': '',\n",
       " 'location': <google.cloud.firestore_v1._helpers.GeoPoint at 0x16d2f2bc0>,\n",
       " 'totalReviews': 2}"
      ]
     },
     "execution_count": 18,
     "metadata": {},
     "output_type": "execute_result"
    }
   ],
   "source": [
    "doc.to_dict()"
   ]
  },
  {
   "cell_type": "code",
   "execution_count": 19,
   "metadata": {},
   "outputs": [
    {
     "name": "stdout",
     "output_type": "stream",
     "text": [
      "Violeta IOS {'lat': 8.97548104431072, 'long': -79.50703719035977}\n",
      "violeta ios 0.7.17 {'lat': 8.97548104431072, 'long': -79.50703719035977}\n",
      "Arizza {'lat': 8.97548104431072, 'long': -79.50703719035977}\n",
      "Oriana Vega24422 {'lat': 8.97548104431072, 'long': -79.50703719035977}\n",
      "Alejandro  {'lat': 8.97548104431072, 'long': -79.50703719035977}\n",
      "Jules D. {'lat': 8.97548104431072, 'long': -79.50703719035977}\n",
      "Shiro {'lat': 8.97548104431072, 'long': -79.50703719035977}\n",
      "Daniela Febles {'lat': 8.97548104431072, 'long': -79.50703719035977}\n",
      "Akshdeep {'lat': 8.97548104431072, 'long': -79.50703719035977}\n",
      "Harry {'lat': 8.97548104431072, 'long': -79.50703719035977}\n",
      "Manjeet kaur {'lat': 8.97548104431072, 'long': -79.50703719035977}\n",
      "YoMap Assistant {'lat': 8.97548104431072, 'long': -79.50703719035977}\n",
      "Jino  {'lat': 8.97548104431072, 'long': -79.50703719035977}\n",
      "YoMap Assistant {'lat': 8.97548104431072, 'long': -79.50703719035977}\n",
      "Ricardo De Leon {'lat': 8.97548104431072, 'long': -79.50703719035977}\n",
      "shankar {'lat': 8.97548104431072, 'long': -79.50703719035977}\n",
      "joginder singh {'lat': 8.97548104431072, 'long': -79.50703719035977}\n",
      "Mario Redmi 10A {'lat': 8.97548104431072, 'long': -79.50703719035977}\n",
      "Anita  {'lat': 8.97548104431072, 'long': -79.50703719035977}\n",
      "ali {'lat': 8.97548104431072, 'long': -79.50703719035977}\n",
      "Fito Viroka {'lat': 8.97548104431072, 'long': -79.50703719035977}\n",
      "Harpreet Singh {'lat': 8.97548104431072, 'long': -79.50703719035977}\n",
      "Oges Fbios {'lat': 8.97548104431072, 'long': -79.50703719035977}\n",
      "vani manda {'lat': 8.97548104431072, 'long': -79.50703719035977}\n",
      "sachin kharre {'lat': 8.97548104431072, 'long': -79.50703719035977}\n",
      "Arka {'lat': 8.97548104431072, 'long': -79.50703719035977}\n",
      "abhi {'lat': 8.97548104431072, 'long': -79.50703719035977}\n",
      "Rutiner Dasheeri {'lat': 8.97548104431072, 'long': -79.50703719035977}\n",
      "Noel Moreno {'lat': 8.97548104431072, 'long': -79.50703719035977}\n",
      "Ricky Barranquilla  {'lat': 8.97548104431072, 'long': -79.50703719035977}\n",
      "deleter2 {'lat': 8.97548104431072, 'long': -79.50703719035977}\n",
      "error\n",
      "lucy {'lat': 8.97548104431072, 'long': -79.50703719035977}\n",
      "manpreet {'lat': 8.97548104431072, 'long': -79.50703719035977}\n",
      "Alex {'lat': 8.97548104431072, 'long': -79.50703719035977}\n",
      "YoMap LG {'lat': 8.97548104431072, 'long': -79.50703719035977}\n",
      "Navratan Singh  {'lat': 8.97548104431072, 'long': -79.50703719035977}\n",
      "Test user 63636363 {'lat': 8.97548104431072, 'long': -79.50703719035977}\n",
      "Pulor Baszo {'lat': 8.97548104431072, 'long': -79.50703719035977}\n",
      "ummed Ali  {'lat': 8.97548104431072, 'long': -79.50703719035977}\n",
      "YM Soporte stage {'lat': 8.97548104431072, 'long': -79.50703719035977}\n",
      "Harsh Tiwari  {'lat': 8.97548104431072, 'long': -79.50703719035977}\n",
      "Kuldeep Singh  {'lat': 8.97548104431072, 'long': -79.50703719035977}\n",
      "laurent {'lat': 8.97548104431072, 'long': -79.50703719035977}\n",
      "Fake user account 44  {'lat': 8.97548104431072, 'long': -79.50703719035977}\n",
      "Readet Ferche {'lat': 8.97548104431072, 'long': -79.50703719035977}\n",
      "Ewa  {'lat': 8.97548104431072, 'long': -79.50703719035977}\n",
      "Amit Kumar {'lat': 8.97548104431072, 'long': -79.50703719035977}\n",
      "Costura Ana Mer bis {'lat': 8.97548104431072, 'long': -79.50703719035977}\n",
      "Carolina 7.17 {'lat': 8.97548104431072, 'long': -79.50703719035977}\n",
      "Luis Ortiz {'lat': 8.97548104431072, 'long': -79.50703719035977}\n",
      "ice panama {'lat': 8.97548104431072, 'long': -79.50703719035977}\n",
      "Andres Laguna {'lat': 8.97548104431072, 'long': -79.50703719035977}\n",
      "Alex {'lat': 8.97548104431072, 'long': -79.50703719035977}\n",
      "Higal Ramal {'lat': 8.97548104431072, 'long': -79.50703719035977}\n",
      "Julio Baer {'lat': 8.97548104431072, 'long': -79.50703719035977}\n",
      "error\n",
      "Redmi 10A {'lat': 8.97548104431072, 'long': -79.50703719035977}\n",
      "machhitrupti17@gmail.com {'lat': 8.97548104431072, 'long': -79.50703719035977}\n",
      "Mario Test Hide 46 {'lat': 8.97548104431072, 'long': -79.50703719035977}\n",
      "Ciloo  {'lat': 8.97548104431072, 'long': -79.50703719035977}\n",
      "Gabriel {'lat': 8.97548104431072, 'long': -79.50703719035977}\n",
      "Noel 2 {'lat': 8.97548104431072, 'long': -79.50703719035977}\n",
      "Alexandre Rio {'lat': 8.97548104431072, 'long': -79.50703719035977}\n",
      "Test Real Number Colombia {'lat': 8.97548104431072, 'long': -79.50703719035977}\n",
      "Гульназира  {'lat': 8.97548104431072, 'long': -79.50703719035977}\n",
      "Millycen Hurtado {'lat': 8.97548104431072, 'long': -79.50703719035977}\n",
      "jean sams stage  {'lat': 8.97548104431072, 'long': -79.50703719035977}\n",
      "error\n",
      "Nasir Ahmad Dar {'lat': 8.97548104431072, 'long': -79.50703719035977}\n",
      "Tarandeep singh  {'lat': 8.97548104431072, 'long': -79.50703719035977}\n",
      "Angela  {'lat': 8.97548104431072, 'long': -79.50703719035977}\n",
      "Laissa {'lat': 8.97548104431072, 'long': -79.50703719035977}\n",
      "Janicy dos Santos  {'lat': 8.97548104431072, 'long': -79.50703719035977}\n",
      "HomeSecurePTY {'lat': 8.97548104431072, 'long': -79.50703719035977}\n",
      "Emulator 66980917 {'lat': 8.97548104431072, 'long': -79.50703719035977}\n"
     ]
    }
   ],
   "source": [
    "profiles = []\n",
    "for doc in docs:\n",
    "    \n",
    "    user_profile = doc.to_dict()\n",
    "\n",
    "    name = user_profile[\"displayName\"]\n",
    "    address = user_profile[\"address\"] if \"address\" in user_profile.keys() is not None else \"\"\n",
    "    gender = user_profile[\"gender\"]\n",
    "    age = user_profile[\"age\"]\n",
    "    # rating = user_profile[\"avgRating\"]\n",
    "    tags = user_profile[\"tags\"]\n",
    "    service = user_profile[\"service\"]\n",
    "    about = user_profile[\"about\"]\n",
    "\n",
    "    if user_profile[\"location\"] is not None:\n",
    "        location = {\n",
    "            \"lat\": docs[0].to_dict()[\"location\"].latitude,\n",
    "            \"long\": docs[0].to_dict()[\"location\"].longitude,\n",
    "        }\n",
    "\n",
    "    print(name, location)\n",
    "\n",
    "    try:\n",
    "        profiles.append(\"name: \" + name + \" address: \" + address + \" about_me: \" + about + \" age: \" + str(age) + \" category: \" + str(service) + \" tags: \" + str(tags) + \\\n",
    "                    \" gender: \" + gender + \" location: \" + str(location))\n",
    "    except:\n",
    "        print(\"error\")"
   ]
  },
  {
   "cell_type": "code",
   "execution_count": 20,
   "metadata": {},
   "outputs": [
    {
     "data": {
      "text/plain": [
       "[\"name: Violeta IOS address: Calle Punta Colón, Calle Punta Colón, Panama City, Provincia de Panamá, Panamá about_me: Guardo y paseo de mascotas. Soy estudiante 3er ano escuela veterinaria de Panama age: 29 category: {'text': 'pets', 'weight': 0, 'id': 'qDwGRcWqjkBpjX4rsDm0', 'usedBy': 0, 'parentSlug': '', 'parentId': '', 'slug': 'pets'} tags: [{'text': 'pets', 'weight': 0, 'id': 'qDwGRcWqjkBpjX4rsDm0', 'usedBy': 0, 'parentSlug': '', 'parentId': '', 'slug': 'pets'}, {'text': 'paseo_de_perros', 'weight': 0, 'id': 'x6gzflGmUYKkYklPtJcp', 'usedBy': 0, 'parentSlug': 'pets', 'parentId': 'qDwGRcWqjkBpjX4rsDm0', 'slug': 'paseo_de_perros'}, {'text': 'dog_sitting', 'weight': 0, 'id': 'YQlpTiiGugujzP1ZmyOT', 'usedBy': 0, 'parentSlug': 'pets', 'parentId': 'qDwGRcWqjkBpjX4rsDm0', 'slug': 'dog_sitting'}] gender: female location: {'lat': 8.97548104431072, 'long': -79.50703719035977}\",\n",
       " \"name: violeta ios 0.7.17 address:  about_me: ¡Hola! Soy Violeta, una apasionada por los animales.  con  años de experiencia. Amo cuidar de perros y pasearlos. Si buscas una persona confiable y cariñosa para tu peludo amigo, ¡contacta conmigo! age: 35 category: {'text': 'pets', 'weight': 0, 'id': 'qDwGRcWqjkBpjX4rsDm0', 'parentSlug': '', 'usedBy': 5, 'parentId': '', 'slug': 'pets'} tags: [{'text': 'pets', 'weight': 0, 'id': 'qDwGRcWqjkBpjX4rsDm0', 'parentSlug': '', 'usedBy': 5, 'parentId': '', 'slug': 'pets'}, {'text': 'dog_sitting', 'weight': 0, 'id': 'YQlpTiiGugujzP1ZmyOT', 'parentSlug': 'pets', 'usedBy': 5, 'parentId': 'qDwGRcWqjkBpjX4rsDm0', 'slug': 'dog_sitting'}, {'text': 'paseo_de_perros', 'weight': 0, 'id': 'x6gzflGmUYKkYklPtJcp', 'parentSlug': 'pets', 'usedBy': 2, 'parentId': 'qDwGRcWqjkBpjX4rsDm0', 'slug': 'paseo_de_perros'}] gender: female location: {'lat': 8.97548104431072, 'long': -79.50703719035977}\",\n",
       " \"name: Arizza address: Panamá, , Panamá, Panama about_me:  age: None category: {'text': 'user', 'weight': 0, 'id': 'pf8IUMBw9rVBMGHoHdYw', 'usedBy': 14, 'parentSlug': '', 'parentId': '', 'slug': 'user'} tags: [{'text': 'user', 'weight': 0, 'id': 'pf8IUMBw9rVBMGHoHdYw', 'usedBy': 14, 'parentSlug': '', 'parentId': '', 'slug': 'user'}] gender:  location: {'lat': 8.97548104431072, 'long': -79.50703719035977}\",\n",
       " \"name: Oriana Vega24422 address: PQ5V+3PR, PQ5V+3PR, Punto Fijo, Falcón, Venezuela about_me:  age: 27 category: {'text': 'user', 'weight': 0, 'id': 'pf8IUMBw9rVBMGHoHdYw', 'usedBy': 10, 'parentSlug': '', 'parentId': '', 'slug': 'user'} tags: [{'text': 'user', 'weight': 0, 'id': 'pf8IUMBw9rVBMGHoHdYw', 'usedBy': 10, 'parentSlug': '', 'parentId': '', 'slug': 'user'}, {'text': 'musica', 'weight': 0, 'id': 'SCbBrQfQuPrGvu4H0o0d', 'usedBy': 0, 'parentSlug': 'user', 'parentId': 'pf8IUMBw9rVBMGHoHdYw', 'slug': 'musica'}, {'text': 'piano', 'weight': 0, 'id': 'UrUBAHe2qqD8nRI3GkUO', 'usedBy': 0, 'parentSlug': 'user', 'parentId': 'pf8IUMBw9rVBMGHoHdYw', 'slug': 'piano'}, {'text': 'moda', 'weight': 0, 'id': 'MPORcJuo2AoIch1hGrWs', 'usedBy': 0, 'parentSlug': 'user', 'parentId': 'pf8IUMBw9rVBMGHoHdYw', 'slug': 'moda'}] gender: female location: {'lat': 8.97548104431072, 'long': -79.50703719035977}\",\n",
       " \"name: Alejandro  address: Panamá, P.H. Bay View, Panamá, Provincia de Panamá, Panamá about_me:  age: 32 category: {'text': 'misc', 'weight': 0, 'id': '0EB4WWXk3vZAf51Lu6qf', 'usedBy': 5, 'parentSlug': '', 'parentId': '', 'slug': 'misc'} tags: [{'text': 'misc', 'weight': 0, 'id': '0EB4WWXk3vZAf51Lu6qf', 'usedBy': 5, 'parentSlug': '', 'parentId': '', 'slug': 'misc'}, {'text': 'marketing', 'weight': 0, 'id': 'ODuYNkwIywwpTo09ai2P', 'usedBy': 0, 'parentSlug': 'misc', 'parentId': '0EB4WWXk3vZAf51Lu6qf', 'slug': 'marketing'}] gender: male location: {'lat': 8.97548104431072, 'long': -79.50703719035977}\",\n",
       " \"name: Jules D. address: 32, Rue Fabert, Paris, Île-de-France, France about_me:  age: 28 category: {'text': 'user', 'weight': 0, 'id': 'pf8IUMBw9rVBMGHoHdYw', 'usedBy': 7, 'parentSlug': '', 'parentId': '', 'slug': 'user'} tags: [{'text': 'user', 'weight': 0, 'id': 'pf8IUMBw9rVBMGHoHdYw', 'usedBy': 7, 'parentSlug': '', 'parentId': '', 'slug': 'user'}] gender: male location: {'lat': 8.97548104431072, 'long': -79.50703719035977}\",\n",
       " \"name: Shiro address: Multiplaza Panamá, Avenida Israel, Panamá, Provincia de Panamá, Panama about_me:  age: 27 category: {'text': 'food', 'weight': 0, 'id': 'MhMxZZfJs52GU7pA1v4O', 'usedBy': 4, 'parentSlug': '', 'parentId': '', 'slug': 'food'} tags: [{'text': 'food', 'weight': 0, 'id': 'MhMxZZfJs52GU7pA1v4O', 'usedBy': 4, 'parentSlug': '', 'parentId': '', 'slug': 'food'}, {'text': 'vegetariano', 'weight': 0, 'id': 'mledVqdlskDLWmhmo2rD', 'usedBy': 0, 'parentSlug': 'food', 'parentId': 'MhMxZZfJs52GU7pA1v4O', 'slug': 'vegetariano'}] gender: male location: {'lat': 8.97548104431072, 'long': -79.50703719035977}\",\n",
       " \"name: Daniela Febles address: Calle 58 Este, Calle 58 Este, Panama City, Provincia de Panamá, Panamá about_me:  age: 32 category: {'text': 'user', 'weight': 0, 'id': 'pf8IUMBw9rVBMGHoHdYw', 'usedBy': 14, 'parentSlug': '', 'parentId': '', 'slug': 'user'} tags: [{'text': 'user', 'weight': 0, 'id': 'pf8IUMBw9rVBMGHoHdYw', 'usedBy': 14, 'parentSlug': '', 'parentId': '', 'slug': 'user'}] gender: female location: {'lat': 8.97548104431072, 'long': -79.50703719035977}\",\n",
       " \"name: Akshdeep address: 32WC+X3W, 32WC+X3W, Sudan, Punjab, India about_me:  age: 15 category: {'text': 'home', 'weight': 0, 'id': '5QOMIURL9xYnZgPWSSIp', 'usedBy': 12, 'parentSlug': '', 'parentId': '', 'slug': 'home'} tags: [{'text': 'home', 'weight': 0, 'id': '5QOMIURL9xYnZgPWSSIp', 'usedBy': 12, 'parentSlug': '', 'parentId': '', 'slug': 'home'}] gender: male location: {'lat': 8.97548104431072, 'long': -79.50703719035977}\",\n",
       " \"name: Harry address: 1161, 1161 Katsuura, Nachikatsuura, Wakayama, Japan about_me:  age: 28 category: {'text': 'user', 'weight': 0, 'id': 'pf8IUMBw9rVBMGHoHdYw', 'usedBy': 16, 'parentSlug': '', 'parentId': '', 'slug': 'user'} tags: [{'text': 'user', 'weight': 0, 'id': 'pf8IUMBw9rVBMGHoHdYw', 'usedBy': 16, 'parentSlug': '', 'parentId': '', 'slug': 'user'}] gender: male location: {'lat': 8.97548104431072, 'long': -79.50703719035977}\",\n",
       " \"name: Manjeet kaur address: H7G9+JFW, H7G9+JFW, Sangha, Punjab, India about_me:  age: 55 category: {'text': 'user', 'weight': 0, 'id': 'pf8IUMBw9rVBMGHoHdYw', 'usedBy': 3, 'parentSlug': '', 'parentId': '', 'slug': 'user'} tags: [{'text': 'user', 'weight': 0, 'id': 'pf8IUMBw9rVBMGHoHdYw', 'usedBy': 3, 'parentSlug': '', 'parentId': '', 'slug': 'user'}] gender: female location: {'lat': 8.97548104431072, 'long': -79.50703719035977}\",\n",
       " \"name: YoMap Assistant address: 132, Calle C, San Miguelito, Provincia de Panamá, Panama about_me:  age: 32 category: {'text': 'misc', 'weight': 0, 'id': '0EB4WWXk3vZAf51Lu6qf', 'usedBy': 1, 'parentSlug': '', 'parentId': '', 'slug': 'misc'} tags: [{'text': 'misc', 'weight': 0, 'id': '0EB4WWXk3vZAf51Lu6qf', 'usedBy': 0, 'parentSlug': '', 'parentId': '', 'slug': 'misc'}] gender: ai location: {'lat': 8.97548104431072, 'long': -79.50703719035977}\",\n",
       " \"name: Jino  address: Panama City, , Panama City, Panamá, Panama about_me:  age: 35 category: {'text': 'user', 'weight': 0, 'id': 'pf8IUMBw9rVBMGHoHdYw', 'usedBy': 20, 'parentSlug': '', 'parentId': '', 'slug': 'user'} tags: [{'text': 'user', 'weight': 0, 'id': 'pf8IUMBw9rVBMGHoHdYw', 'usedBy': 20, 'parentSlug': '', 'parentId': '', 'slug': 'user'}] gender: other location: {'lat': 8.97548104431072, 'long': -79.50703719035977}\",\n",
       " \"name: YoMap Assistant address: Calle 74 Este, Calle 74 Este, Panamá, Provincia de Panamá, Panamá about_me: Hola soy YoMap el asistente virtual de la aplicación. Estoy aquí para ayudarte a encontrar los proveedores de servicios que resuelvan tus problemas. age: 40 category: {'text': 'misc', 'weight': 0, 'id': '0EB4WWXk3vZAf51Lu6qf', 'usedBy': 9, 'parentSlug': '', 'parentId': '', 'slug': 'misc'} tags: [{'text': 'misc', 'weight': 0, 'id': '0EB4WWXk3vZAf51Lu6qf', 'usedBy': 9, 'parentSlug': '', 'parentId': '', 'slug': 'misc'}, {'text': 'assistant', 'weight': 0, 'id': '68pTuEMhfw9UWAabc4DW', 'usedBy': 0, 'parentSlug': 'misc', 'parentId': '0EB4WWXk3vZAf51Lu6qf', 'slug': 'assistant'}, {'text': 'asistente', 'weight': 0, 'id': 'MZ6beCtxwsjBAtzHgoTg', 'usedBy': 0, 'parentSlug': 'misc', 'parentId': '0EB4WWXk3vZAf51Lu6qf', 'slug': 'asistente'}, {'text': 'ai', 'weight': 0, 'id': 'HxyaHQ9jxxbwHDBKYgKM', 'usedBy': 0, 'parentSlug': 'misc', 'parentId': '0EB4WWXk3vZAf51Lu6qf', 'slug': 'ai'}, {'text': 'ayuda', 'weight': 0, 'id': 'cF8pshhBg9gIyGzwCv3W', 'usedBy': 0, 'parentSlug': 'misc', 'parentId': '0EB4WWXk3vZAf51Lu6qf', 'slug': 'ayuda'}, {'text': 'asistente_virtual', 'weight': 0, 'id': '2z9wZ1zSdULmN4oaO3Lj', 'usedBy': 0, 'parentSlug': 'misc', 'parentId': '0EB4WWXk3vZAf51Lu6qf', 'slug': 'asistente_virtual'}] gender: other location: {'lat': 8.97548104431072, 'long': -79.50703719035977}\",\n",
       " \"name: Ricardo De Leon address: 3732, Avenida Federico Boyd, Panamá, Provincia de Panamá, Panamá about_me:  age: 37 category: {'text': 'misc', 'weight': 0, 'id': '0EB4WWXk3vZAf51Lu6qf', 'usedBy': 6, 'parentSlug': '', 'parentId': '', 'slug': 'misc'} tags: [{'text': 'misc', 'weight': 0, 'id': '0EB4WWXk3vZAf51Lu6qf', 'usedBy': 6, 'parentSlug': '', 'parentId': '', 'slug': 'misc'}, {'text': 'educacion', 'weight': 0, 'id': 'Y42kntNtdbTX4PPIQqw6', 'usedBy': 1, 'parentSlug': 'misc', 'parentId': '0EB4WWXk3vZAf51Lu6qf', 'slug': 'educacion'}, {'text': 'musico', 'weight': 0, 'id': 'TqZWpZfCkLF8aiHbbvhb', 'usedBy': 0, 'parentSlug': 'misc', 'parentId': '0EB4WWXk3vZAf51Lu6qf', 'slug': 'musico'}] gender: male location: {'lat': 8.97548104431072, 'long': -79.50703719035977}\",\n",
       " \"name: shankar address: 40, General Arun Kumar Vaidya Marg, Mumbai, Maharashtra, India about_me:  age: 19 category: {'text': 'home', 'weight': 0, 'id': '5QOMIURL9xYnZgPWSSIp', 'usedBy': 12, 'parentSlug': '', 'parentId': '', 'slug': 'home'} tags: [{'text': 'home', 'weight': 0, 'id': '5QOMIURL9xYnZgPWSSIp', 'usedBy': 12, 'parentSlug': '', 'parentId': '', 'slug': 'home'}] gender: male location: {'lat': 8.97548104431072, 'long': -79.50703719035977}\",\n",
       " \"name: joginder singh address: MRQH+4FG, MRQH+4FG, Ahmedgarh, Punjab, India about_me:  age: 55 category: {'text': 'home', 'weight': 0, 'id': '5QOMIURL9xYnZgPWSSIp', 'usedBy': 3, 'parentSlug': '', 'parentId': '', 'slug': 'home'} tags: [{'text': 'home', 'weight': 0, 'id': '5QOMIURL9xYnZgPWSSIp', 'usedBy': 3, 'parentSlug': '', 'parentId': '', 'slug': 'home'}, {'text': 'plantas', 'weight': 5, 'id': 'rq4453ZGQvE2yjnmpIft', 'usedBy': 2, 'parentSlug': 'home', 'parentId': '5QOMIURL9xYnZgPWSSIp', 'slug': 'plantas'}] gender: male location: {'lat': 8.97548104431072, 'long': -79.50703719035977}\",\n",
       " \"name: Mario Redmi 10A address: Calle 52 Este, Calle 52 Este, Panama City, Provincia de Panamá, Panamá about_me:  age: 34 category: {'text': 'repair', 'weight': 0, 'id': 'PfhQ5p3is5osNJsFIZvv', 'usedBy': 2, 'parentSlug': '', 'parentId': '', 'slug': 'repair'} tags: [{'text': 'repair', 'weight': 0, 'id': 'PfhQ5p3is5osNJsFIZvv', 'usedBy': 2, 'parentSlug': '', 'parentId': '', 'slug': 'repair'}, {'text': 'smartphone', 'weight': 0, 'id': 'BaNIwiQp2XU5zmVeIvfl', 'usedBy': 2, 'parentSlug': 'repair', 'parentId': 'PfhQ5p3is5osNJsFIZvv', 'slug': 'smartphone'}, {'text': 'computadoras', 'weight': 0, 'id': 'STgj1KUohcik0KevyNi2', 'usedBy': 1, 'parentSlug': 'repair', 'parentId': 'PfhQ5p3is5osNJsFIZvv', 'slug': 'computadoras'}] gender: male location: {'lat': 8.97548104431072, 'long': -79.50703719035977}\",\n",
       " \"name: Anita  address: WHPC+XFH, WHPC+XFH, Rawatbhata, Rajasthan, India about_me:  age: 32 category: {'text': 'health', 'weight': 0, 'id': 'vV90jYbLnMvZLV3HZ1E5', 'usedBy': 1, 'parentSlug': '', 'parentId': '', 'slug': 'health'} tags: [{'text': 'health', 'weight': 0, 'id': 'vV90jYbLnMvZLV3HZ1E5', 'usedBy': 1, 'parentSlug': '', 'parentId': '', 'slug': 'health'}] gender: female location: {'lat': 8.97548104431072, 'long': -79.50703719035977}\",\n",
       " \"name: ali address: 42, Jamsil-dong, Seoul, South Korea about_me:  age: 38 category: {'text': 'user', 'weight': 0, 'id': 'pf8IUMBw9rVBMGHoHdYw', 'usedBy': 13, 'parentSlug': '', 'parentId': '', 'slug': 'user'} tags: [{'text': 'user', 'weight': 0, 'id': 'pf8IUMBw9rVBMGHoHdYw', 'usedBy': 13, 'parentSlug': '', 'parentId': '', 'slug': 'user'}] gender: male location: {'lat': 8.97548104431072, 'long': -79.50703719035977}\",\n",
       " \"name: Fito Viroka address:  about_me: Hi, I'm Fito Viroka, a 19-year-old tech enthusiast with a passion for fixing things. From TVs to smartphones, I'm always up for a challenge. Whether it's troubleshooting hardware issues or software glitches, I thrive on finding creative solutions to get your devices back in working order. age: 19 category: {'text': 'repair', 'weight': 0, 'id': 'PfhQ5p3is5osNJsFIZvv', 'usedBy': 7, 'parentSlug': '', 'parentId': '', 'slug': 'repair'} tags: [{'text': 'repair', 'weight': 0, 'id': 'PfhQ5p3is5osNJsFIZvv', 'usedBy': 7, 'parentSlug': '', 'parentId': '', 'slug': 'repair'}, {'text': 'smartphone', 'weight': 0, 'id': 'BaNIwiQp2XU5zmVeIvfl', 'usedBy': 3, 'parentSlug': 'repair', 'parentId': 'PfhQ5p3is5osNJsFIZvv', 'slug': 'smartphone'}] gender: male location: {'lat': 8.97548104431072, 'long': -79.50703719035977}\",\n",
       " \"name: Harpreet Singh address: 5CM3+58G, 5CM3+58G, Mallian Khurd, Punjab, India about_me:  age: 22 category: {'text': 'home', 'weight': 0, 'id': '5QOMIURL9xYnZgPWSSIp', 'usedBy': 5, 'parentSlug': '', 'parentId': '', 'slug': 'home'} tags: [{'text': 'home', 'weight': 0, 'id': '5QOMIURL9xYnZgPWSSIp', 'usedBy': 5, 'parentSlug': '', 'parentId': '', 'slug': 'home'}, {'text': '1', 'weight': 0, 'id': 'v54m7Dts58PS9Vl0quWn', 'usedBy': 0, 'parentSlug': 'home', 'parentId': '5QOMIURL9xYnZgPWSSIp', 'slug': '1'}] gender: male location: {'lat': 8.97548104431072, 'long': -79.50703719035977}\",\n",
       " \"name: Oges Fbios address:  about_me: Hi, I'm Oges Fbios edit, a 26-year-old passionate about food, especially street food and pizza. I love exploring new flavors and sharing my culinary adventures. age: 26 category: {'text': 'food', 'weight': 0, 'id': 'MhMxZZfJs52GU7pA1v4O', 'parentSlug': '', 'usedBy': 4, 'parentId': '', 'slug': 'food'} tags: [{'text': 'food', 'weight': 0, 'id': 'MhMxZZfJs52GU7pA1v4O', 'parentSlug': '', 'usedBy': 4, 'parentId': '', 'slug': 'food'}, {'text': 'street_food', 'weight': 0, 'id': 'wrwpL4sBjXVoBQL9MXrq', 'parentSlug': 'food', 'usedBy': 0, 'parentId': 'MhMxZZfJs52GU7pA1v4O', 'slug': 'street_food'}, {'text': 'pizza', 'weight': 0, 'id': 'e2VKbbllDn50zQreZ39k', 'parentSlug': 'food', 'usedBy': 1, 'parentId': 'MhMxZZfJs52GU7pA1v4O', 'slug': 'pizza'}] gender: other location: {'lat': 8.97548104431072, 'long': -79.50703719035977}\",\n",
       " \"name: vani manda address: W8P6+9H2, W8P6+9H2, Chandrapur, Maharashtra, India about_me:  age: 27 category: {'text': 'food', 'weight': 0, 'id': 'MhMxZZfJs52GU7pA1v4O', 'usedBy': 2, 'parentSlug': '', 'parentId': '', 'slug': 'food'} tags: [{'text': 'food', 'weight': 0, 'id': 'MhMxZZfJs52GU7pA1v4O', 'usedBy': 2, 'parentSlug': '', 'parentId': '', 'slug': 'food'}] gender: female location: {'lat': 8.97548104431072, 'long': -79.50703719035977}\",\n",
       " \"name: sachin kharre address: 69R7+68G, 69R7+68G, Yamuna Nagar, Haryana, India about_me:  age: 25 category: {'text': 'misc', 'weight': 0, 'id': '0EB4WWXk3vZAf51Lu6qf', 'usedBy': 2, 'parentSlug': '', 'parentId': '', 'slug': 'misc'} tags: [{'text': 'misc', 'weight': 0, 'id': '0EB4WWXk3vZAf51Lu6qf', 'usedBy': 2, 'parentSlug': '', 'parentId': '', 'slug': 'misc'}, {'text': 'travel_agency', 'weight': 0, 'id': 'QHRVSTmLFvuF6FbXs7le', 'usedBy': 0, 'parentSlug': 'misc', 'parentId': '0EB4WWXk3vZAf51Lu6qf', 'slug': 'travel_agency'}] gender: male location: {'lat': 8.97548104431072, 'long': -79.50703719035977}\",\n",
       " \"name: Arka address: 223, Roy Para Road, North Dumdum, West Bengal, India about_me:  age: 19 category: {'text': 'user', 'weight': 0, 'id': 'pf8IUMBw9rVBMGHoHdYw', 'usedBy': 4, 'parentSlug': '', 'parentId': '', 'slug': 'user'} tags: [{'text': 'user', 'weight': 0, 'id': 'pf8IUMBw9rVBMGHoHdYw', 'usedBy': 4, 'parentSlug': '', 'parentId': '', 'slug': 'user'}] gender: male location: {'lat': 8.97548104431072, 'long': -79.50703719035977}\",\n",
       " \"name: abhi address: Q8VJ+35J, Dhuninath Road, Jafarabad Ganauli, Uttar Pradesh, India about_me:  age: 20 category: {'text': 'home', 'weight': 0, 'id': '5QOMIURL9xYnZgPWSSIp', 'usedBy': 2, 'parentSlug': '', 'parentId': '', 'slug': 'home'} tags: [{'text': 'home', 'weight': 0, 'id': '5QOMIURL9xYnZgPWSSIp', 'usedBy': 2, 'parentSlug': '', 'parentId': '', 'slug': 'home'}, {'text': 'plantas', 'weight': 5, 'id': 'rq4453ZGQvE2yjnmpIft', 'usedBy': 1, 'parentSlug': 'home', 'parentId': '5QOMIURL9xYnZgPWSSIp', 'slug': 'plantas'}] gender: male location: {'lat': 8.97548104431072, 'long': -79.50703719035977}\",\n",
       " \"name: Rutiner Dasheeri address:  about_me: Rutiner Dasheeri, a 26-year-old passionate about home design and birdwatching. I find solace in the beauty of nature and the challenge of creating comfortable and stylish spaces. My work often reflects my love for both, blending practicality with aesthetic appeal. age: 26 category: {'text': 'home', 'weight': 0, 'id': '5QOMIURL9xYnZgPWSSIp', 'usedBy': 8, 'parentSlug': '', 'parentId': '', 'slug': 'home'} tags: [{'text': 'home', 'weight': 0, 'id': '5QOMIURL9xYnZgPWSSIp', 'usedBy': 8, 'parentSlug': '', 'parentId': '', 'slug': 'home'}, {'text': 'paseo_de_aves', 'weight': 0, 'id': 'l4H1rmEna3Lihf0Y37wd', 'usedBy': 0, 'parentSlug': 'home', 'parentId': '5QOMIURL9xYnZgPWSSIp', 'slug': 'paseo_de_aves'}, {'text': '8_56_hierro', 'weight': 0, 'id': '4oO9k0oMt1BnpKEIyegy', 'usedBy': 0, 'parentSlug': 'home', 'parentId': '5QOMIURL9xYnZgPWSSIp', 'slug': '8_56_hierro'}] gender:  location: {'lat': 8.97548104431072, 'long': -79.50703719035977}\",\n",
       " \"name: Noel Moreno address:  about_me: Hi, I'm Noel Moreno, a seasoned professor with a passion for mathematics, computer science, and the exciting world of data science and machine learning.  I'm always eager to explore new ideas and share my knowledge with others. age: 46 category: {'text': 'education', 'weight': 9, 'id': 'JOv5OJUtBfHmhDS4fizq', 'usedBy': 0, 'parentSlug': '', 'parentId': '', 'slug': 'education'} tags: [{'text': 'education', 'weight': 9, 'id': 'JOv5OJUtBfHmhDS4fizq', 'usedBy': 0, 'parentSlug': '', 'parentId': '', 'slug': 'education'}, {'text': 'professor', 'weight': 0, 'id': 'ROKd5jhM3Nsqu0zjldgJ', 'usedBy': 0, 'parentSlug': 'education', 'parentId': 'JOv5OJUtBfHmhDS4fizq', 'slug': 'professor'}, {'text': 'matematicas', 'weight': 0, 'id': 'qVw0WSUdBxquARtrti7i', 'usedBy': 0, 'parentSlug': 'education', 'parentId': 'JOv5OJUtBfHmhDS4fizq', 'slug': 'matematicas'}, {'text': 'computacion', 'weight': 0, 'id': 'I8BglyQJKVc4TdnScIcn', 'usedBy': 0, 'parentSlug': 'education', 'parentId': 'JOv5OJUtBfHmhDS4fizq', 'slug': 'computacion'}, {'text': 'data_science', 'weight': 0, 'id': 'NTYnUhOByJm4VKfeusdU', 'usedBy': 0, 'parentSlug': 'education', 'parentId': 'JOv5OJUtBfHmhDS4fizq', 'slug': 'data_science'}, {'text': 'machine_learning', 'weight': 0, 'id': 'DxbtaN3JXTuN8Umu6Bt3', 'usedBy': 0, 'parentSlug': 'education', 'parentId': 'JOv5OJUtBfHmhDS4fizq', 'slug': 'machine_learning'}] gender: male location: {'lat': 8.97548104431072, 'long': -79.50703719035977}\",\n",
       " \"name: Ricky Barranquilla  address: XFGH+9QX, XFGH+9QX, Panamá, Provincia de Panamá, Panamá about_me: Test about me age: 63 category: {'text': 'misc', 'weight': 0, 'id': '0EB4WWXk3vZAf51Lu6qf', 'usedBy': 4, 'parentSlug': '', 'parentId': '', 'slug': 'misc'} tags: [{'text': 'misc', 'weight': 0, 'id': '0EB4WWXk3vZAf51Lu6qf', 'usedBy': 4, 'parentSlug': '', 'parentId': '', 'slug': 'misc'}, {'text': 'psicopedagoga', 'weight': 0, 'id': 'Vap8sp9QtRc9vq9gRIzy', 'usedBy': 1, 'parentSlug': 'misc', 'parentId': '0EB4WWXk3vZAf51Lu6qf', 'slug': 'psicopedagoga'}, {'text': 'travel_agency', 'weight': 0, 'id': 'QHRVSTmLFvuF6FbXs7le', 'usedBy': 1, 'parentSlug': 'misc', 'parentId': '0EB4WWXk3vZAf51Lu6qf', 'slug': 'travel_agency'}] gender: male location: {'lat': 8.97548104431072, 'long': -79.50703719035977}\",\n",
       " \"name: lucy address: Onitsha - Owerri Road, Onitsha - Owerri Road, Ogbaku, Imo, Nigeria about_me:  age: 39 category: {'text': 'food', 'weight': 0, 'id': 'MhMxZZfJs52GU7pA1v4O', 'usedBy': 1, 'parentSlug': '', 'parentId': '', 'slug': 'food'} tags: [{'text': 'food', 'weight': 0, 'id': 'MhMxZZfJs52GU7pA1v4O', 'usedBy': 1, 'parentSlug': '', 'parentId': '', 'slug': 'food'}, {'text': 'pizza', 'weight': 0, 'id': 'e2VKbbllDn50zQreZ39k', 'usedBy': 0, 'parentSlug': 'food', 'parentId': 'MhMxZZfJs52GU7pA1v4O', 'slug': 'pizza'}] gender:  location: {'lat': 8.97548104431072, 'long': -79.50703719035977}\",\n",
       " \"name: manpreet address: M6RQ+QQF, M6RQ+QQF, Sardulgarh, Punjab, India about_me:  age: 21 category: {'text': 'transport', 'weight': 0, 'id': 'RVqoavsXHaFSepN4ZkNX', 'usedBy': 3, 'parentSlug': '', 'parentId': '', 'slug': 'transport'} tags: [{'text': 'transport', 'weight': 0, 'id': 'RVqoavsXHaFSepN4ZkNX', 'usedBy': 3, 'parentSlug': '', 'parentId': '', 'slug': 'transport'}] gender: male location: {'lat': 8.97548104431072, 'long': -79.50703719035977}\",\n",
       " \"name: Alex address: Avtostantsiya Bul'var Dmitriya Donskogo, бульвар Дмитрия Донского, Moskva, Moskva, Russia about_me:  age: 32 category: {'text': 'user', 'weight': 0, 'id': 'pf8IUMBw9rVBMGHoHdYw', 'usedBy': 18, 'parentSlug': '', 'parentId': '', 'slug': 'user'} tags: [{'text': 'user', 'weight': 0, 'id': 'pf8IUMBw9rVBMGHoHdYw', 'usedBy': 18, 'parentSlug': '', 'parentId': '', 'slug': 'user'}] gender: male location: {'lat': 8.97548104431072, 'long': -79.50703719035977}\",\n",
       " \"name: YoMap LG address: Calle Punta Chiriquí, Calle Punta Chiriquí, Panamá, Provincia de Panamá, Panama about_me: Servicio de Taxi 24h\\nArea Bancaria age: 35 category: {'text': 'transport', 'weight': 0, 'id': 'RVqoavsXHaFSepN4ZkNX', 'usedBy': 2, 'parentSlug': '', 'parentId': '', 'slug': 'transport'} tags: [{'text': 'transport', 'weight': 0, 'id': 'RVqoavsXHaFSepN4ZkNX', 'usedBy': 2, 'parentSlug': '', 'parentId': '', 'slug': 'transport'}, {'text': 'indriver', 'weight': 0, 'id': 'NwoEuxAwesktwyH6qGVw', 'usedBy': 2, 'parentSlug': 'transport', 'parentId': 'RVqoavsXHaFSepN4ZkNX', 'slug': 'indriver'}, {'text': 'moto', 'weight': 0, 'id': '5xrlfFLhKrYJk6uWpEU5', 'usedBy': 1, 'parentSlug': 'transport', 'parentId': 'RVqoavsXHaFSepN4ZkNX', 'slug': 'moto'}, {'text': 'uber', 'weight': 0, 'id': '9pYJdcjbrhiaWODpYN5Q', 'usedBy': 1, 'parentSlug': 'transport', 'parentId': 'RVqoavsXHaFSepN4ZkNX', 'slug': 'uber'}, {'text': 'taxi', 'weight': 5, 'id': 'aTNWlPQ63kT3iBcRCGpp', 'usedBy': 1, 'parentSlug': 'transport', 'parentId': 'RVqoavsXHaFSepN4ZkNX', 'slug': 'taxi'}, {'text': 'delivery', 'weight': 5, 'id': 'hZr70zzB78OQMUHeKiVk', 'usedBy': 1, 'parentSlug': 'transport', 'parentId': 'RVqoavsXHaFSepN4ZkNX', 'slug': 'delivery'}] gender: female location: {'lat': 8.97548104431072, 'long': -79.50703719035977}\",\n",
       " \"name: Navratan Singh  address: 5WG5+J28, 5WG5+J28, Bathinda, Punjab, India about_me:  age: 25 category: {'text': 'home', 'weight': 0, 'id': '5QOMIURL9xYnZgPWSSIp', 'usedBy': 9, 'parentSlug': '', 'parentId': '', 'slug': 'home'} tags: [{'text': 'home', 'weight': 0, 'id': '5QOMIURL9xYnZgPWSSIp', 'usedBy': 9, 'parentSlug': '', 'parentId': '', 'slug': 'home'}] gender: male location: {'lat': 8.97548104431072, 'long': -79.50703719035977}\",\n",
       " \"name: Test user 63636363 address: Parque Omar, Vía Porras, Panamá, Provincia de Panamá, Panama about_me:  age: 23 category: {'text': 'home', 'weight': 0, 'id': '5QOMIURL9xYnZgPWSSIp', 'usedBy': 8, 'parentSlug': '', 'parentId': '', 'slug': 'home'} tags: [{'text': 'home', 'weight': 0, 'id': '5QOMIURL9xYnZgPWSSIp', 'usedBy': 8, 'parentSlug': '', 'parentId': '', 'slug': 'home'}, {'text': 'nevera', 'weight': 0, 'id': 'TmtEzayHNnIwYinBrbr4', 'usedBy': 1, 'parentSlug': 'home', 'parentId': '5QOMIURL9xYnZgPWSSIp', 'slug': 'nevera'}, {'text': 'aseo', 'weight': 5, 'id': 'fHtrCMV6cXVig3yLYz1f', 'usedBy': 1, 'parentSlug': 'home', 'parentId': '5QOMIURL9xYnZgPWSSIp', 'slug': 'aseo'}] gender: female location: {'lat': 8.97548104431072, 'long': -79.50703719035977}\",\n",
       " \"name: Pulor Baszo address: XCHR+3H9, XCHR+3H9, Panamá, Provincia de Panamá, Panamá about_me:  age: 36 category: {'text': 'user', 'weight': 0, 'id': 'pf8IUMBw9rVBMGHoHdYw', 'usedBy': 19, 'parentSlug': '', 'parentId': '', 'slug': 'user'} tags: [{'text': 'user', 'weight': 0, 'id': 'pf8IUMBw9rVBMGHoHdYw', 'usedBy': 19, 'parentSlug': '', 'parentId': '', 'slug': 'user'}] gender: female location: {'lat': 8.97548104431072, 'long': -79.50703719035977}\",\n",
       " \"name: ummed Ali  address: PGVQ+PVJ, PGVQ+PVJ, Muradnagar, Uttar Pradesh, India about_me:  age: 1011977 category: {'text': 'health', 'weight': 0, 'id': 'vV90jYbLnMvZLV3HZ1E5', 'usedBy': 3, 'parentSlug': '', 'parentId': '', 'slug': 'health'} tags: [{'text': 'health', 'weight': 0, 'id': 'vV90jYbLnMvZLV3HZ1E5', 'usedBy': 3, 'parentSlug': '', 'parentId': '', 'slug': 'health'}] gender: male location: {'lat': 8.97548104431072, 'long': -79.50703719035977}\",\n",
       " \"name: YM Soporte stage address:  about_me: I'm YM Soporte, a passionate individual with a focus on wellness and relaxation.  My expertise lies in providing exceptional spa experiences, specializing in hand and foot treatments and massages.  Let's explore the power of touch together! age: 36 category: {'text': 'spa', 'weight': 0, 'id': 'jNDxsch7qIDIubx39R1K', 'usedBy': 3, 'parentSlug': '', 'parentId': '', 'slug': 'spa'} tags: [{'text': 'spa', 'weight': 0, 'id': 'jNDxsch7qIDIubx39R1K', 'usedBy': 3, 'parentSlug': '', 'parentId': '', 'slug': 'spa'}, {'text': 'manos_y_pies', 'weight': 0, 'id': 'NjIAAjPlxDpQFsTTlHvp', 'usedBy': 1, 'parentSlug': 'spa', 'parentId': 'jNDxsch7qIDIubx39R1K', 'slug': 'manos_y_pies'}, {'text': 'masajes', 'weight': 0, 'id': 'wspM72m25FaukjUxr5n5', 'usedBy': 1, 'parentSlug': 'spa', 'parentId': 'jNDxsch7qIDIubx39R1K', 'slug': 'masajes'}] gender: other location: {'lat': 8.97548104431072, 'long': -79.50703719035977}\",\n",
       " \"name: Harsh Tiwari  address: Mirzapur Sumhari, Mirzapur Sumhari, Uttar Pradesh, India about_me:  age: 18 category: {'text': 'user', 'weight': 0, 'id': 'pf8IUMBw9rVBMGHoHdYw', 'usedBy': 17, 'parentSlug': '', 'parentId': '', 'slug': 'user'} tags: [{'text': 'user', 'weight': 0, 'id': 'pf8IUMBw9rVBMGHoHdYw', 'usedBy': 17, 'parentSlug': '', 'parentId': '', 'slug': 'user'}] gender: male location: {'lat': 8.97548104431072, 'long': -79.50703719035977}\",\n",
       " \"name: Kuldeep Singh  address: 2X73+762, 2X73+762, Talwandi Hinduan, Punjab, India about_me:  age: 28 category: {'text': 'home', 'weight': 0, 'id': '5QOMIURL9xYnZgPWSSIp', 'usedBy': 4, 'parentSlug': '', 'parentId': '', 'slug': 'home'} tags: [{'text': 'home', 'weight': 0, 'id': '5QOMIURL9xYnZgPWSSIp', 'usedBy': 4, 'parentSlug': '', 'parentId': '', 'slug': 'home'}] gender: male location: {'lat': 8.97548104431072, 'long': -79.50703719035977}\",\n",
       " \"name: laurent address: Ph The Seawaves, Avenida Ricardo Arango, Panamá, Provincia de Panamá, Panama about_me:  age: 38 category: {'text': 'user', 'weight': 0, 'id': 'pf8IUMBw9rVBMGHoHdYw', 'usedBy': 6, 'parentSlug': '', 'parentId': '', 'slug': 'user'} tags: [{'text': 'user', 'weight': 0, 'id': 'pf8IUMBw9rVBMGHoHdYw', 'usedBy': 6, 'parentSlug': '', 'parentId': '', 'slug': 'user'}] gender: male location: {'lat': 8.97548104431072, 'long': -79.50703719035977}\",\n",
       " \"name: Fake user account 44  address:  about_me: I'm a 36-year-old guy who enjoys the simple things in life: a cozy home, tending to my plants, and the occasional ride in a taxi. I've got a knack for getting things done, whether it's delivering packages or tackling projects around the house. age: 36 category: {'text': 'home', 'weight': 0, 'id': '5QOMIURL9xYnZgPWSSIp', 'usedBy': 12, 'parentSlug': '', 'parentId': '', 'slug': 'home'} tags: [{'text': 'home', 'weight': 0, 'id': '5QOMIURL9xYnZgPWSSIp', 'usedBy': 12, 'parentSlug': '', 'parentId': '', 'slug': 'home'}, {'text': 'plantas', 'weight': 5, 'id': 'rq4453ZGQvE2yjnmpIft', 'usedBy': 3, 'parentSlug': 'home', 'parentId': '5QOMIURL9xYnZgPWSSIp', 'slug': 'plantas'}, {'text': '8_56_hierro', 'weight': 0, 'id': '4oO9k0oMt1BnpKEIyegy', 'usedBy': 1, 'parentSlug': 'home', 'parentId': '5QOMIURL9xYnZgPWSSIp', 'slug': '8_56_hierro'}, {'text': 'taxi', 'weight': 0, 'id': 'C0xaRl7OutRmXVkvGNDY', 'usedBy': 1, 'parentSlug': 'home', 'parentId': '5QOMIURL9xYnZgPWSSIp', 'slug': 'taxi'}, {'text': 'delivery', 'weight': 0, 'id': 'CXPoHI4OBLhWyVMVXZbG', 'usedBy': 2, 'parentSlug': 'home', 'parentId': '5QOMIURL9xYnZgPWSSIp', 'slug': 'delivery'}] gender: male location: {'lat': 8.97548104431072, 'long': -79.50703719035977}\",\n",
       " \"name: Readet Ferche address:  about_me: Readet Ferche, a 36-year-old passionate about pets, offers dog walking services and expert care. With years of experience, he ensures your furry friend enjoys safe and engaging walks. age: 36 category: {'text': 'spa', 'weight': 0, 'id': 'jNDxsch7qIDIubx39R1K', 'usedBy': 3, 'parentSlug': '', 'parentId': '', 'slug': 'spa'} tags: [{'text': 'spa', 'weight': 0, 'id': 'jNDxsch7qIDIubx39R1K', 'usedBy': 3, 'parentSlug': '', 'parentId': '', 'slug': 'spa'}, {'text': 'masajes', 'weight': 0, 'id': 'wspM72m25FaukjUxr5n5', 'usedBy': 2, 'parentSlug': 'spa', 'parentId': 'jNDxsch7qIDIubx39R1K', 'slug': 'masajes'}] gender: male location: {'lat': 8.97548104431072, 'long': -79.50703719035977}\",\n",
       " \"name: Ewa  address: 12, Cicha, Rudniki, Opolskie, Poland about_me:  age: 28 category: {'text': 'user', 'weight': 0, 'id': 'pf8IUMBw9rVBMGHoHdYw', 'usedBy': 11, 'parentSlug': '', 'parentId': '', 'slug': 'user'} tags: [{'text': 'user', 'weight': 0, 'id': 'pf8IUMBw9rVBMGHoHdYw', 'usedBy': 11, 'parentSlug': '', 'parentId': '', 'slug': 'user'}] gender: female location: {'lat': 8.97548104431072, 'long': -79.50703719035977}\",\n",
       " \"name: Amit Kumar address: 22/352, 22/352, New Delhi, Delhi, India about_me:  age: None category: {'text': 'misc', 'weight': 0, 'id': '0EB4WWXk3vZAf51Lu6qf', 'usedBy': 1, 'parentSlug': '', 'parentId': '', 'slug': 'misc'} tags: [{'text': 'misc', 'weight': 0, 'id': '0EB4WWXk3vZAf51Lu6qf', 'usedBy': 1, 'parentSlug': '', 'parentId': '', 'slug': 'misc'}, {'text': 'desarrollo_de_software', 'weight': 0, 'id': 'YucKeCdO3C2nrlfsCdKD', 'usedBy': 0, 'parentSlug': 'misc', 'parentId': '0EB4WWXk3vZAf51Lu6qf', 'slug': 'desarrollo_de_software'}] gender:  location: {'lat': 8.97548104431072, 'long': -79.50703719035977}\",\n",
       " \"name: Costura Ana Mer bis address:  about_me: Soy Ana Mercedes Marmol, una costurera de 59 años. Siempre me ha encantado coser, y he estado cosiendo desde que era una niña. Me especializo en la creación de prendas personalizadas y únicas, y me apasiona ayudar a mis clientes a sentirse seguros y hermosos con su ropa. Además de coser, disfruto pasar tiempo con mi familia, leer y viajar. age: 59 category: {'text': 'misc', 'weight': 0, 'id': '0EB4WWXk3vZAf51Lu6qf', 'usedBy': 8, 'parentSlug': '', 'parentId': '', 'slug': 'misc'} tags: [{'text': 'misc', 'weight': 0, 'id': '0EB4WWXk3vZAf51Lu6qf', 'usedBy': 8, 'parentSlug': '', 'parentId': '', 'slug': 'misc'}, {'text': 'costurera', 'weight': 0, 'id': 'rVGdqW6alkXvpTECCmHK', 'usedBy': 0, 'parentSlug': 'misc', 'parentId': '0EB4WWXk3vZAf51Lu6qf', 'slug': 'costurera'}] gender: female location: {'lat': 8.97548104431072, 'long': -79.50703719035977}\",\n",
       " \"name: Carolina 7.17 address:  about_me: Hi, I'm Carolina! A passionate 29-year-old who loves creating a tranquil home filled with plants.  I'm also a skilled spa professional specializing in hand and foot treatments and massage therapy. Let's create some relaxation together! age: 29 category: {'text': 'home', 'weight': 0, 'id': '5QOMIURL9xYnZgPWSSIp', 'usedBy': 11, 'parentSlug': '', 'parentId': '', 'slug': 'home'} tags: [{'text': 'home', 'weight': 0, 'id': '5QOMIURL9xYnZgPWSSIp', 'usedBy': 11, 'parentSlug': '', 'parentId': '', 'slug': 'home'}] gender: female location: {'lat': 8.97548104431072, 'long': -79.50703719035977}\",\n",
       " \"name: Luis Ortiz address: Panama City, Panama City, Panamá Province, Panama about_me:  age: 52 category: {'text': 'repair', 'weight': 0, 'id': 'PfhQ5p3is5osNJsFIZvv', 'usedBy': 8, 'parentSlug': '', 'parentId': '', 'slug': 'repair'} tags: [{'text': 'repair', 'weight': 0, 'id': 'PfhQ5p3is5osNJsFIZvv', 'usedBy': 8, 'parentSlug': '', 'parentId': '', 'slug': 'repair'}, {'text': 'muebles', 'weight': 0, 'id': 'A23luLWAl3v7frg370aE', 'usedBy': 0, 'parentSlug': 'repair', 'parentId': 'PfhQ5p3is5osNJsFIZvv', 'slug': 'muebles'}] gender: male location: {'lat': 8.97548104431072, 'long': -79.50703719035977}\",\n",
       " \"name: ice panama address: Donoso, Donoso, Provincia de Colón, Panamá about_me:  age: 45 category: {'text': 'user', 'weight': 0, 'id': 'pf8IUMBw9rVBMGHoHdYw', 'usedBy': 11, 'parentSlug': '', 'parentId': '', 'slug': 'user'} tags: [{'text': 'user', 'weight': 0, 'id': 'pf8IUMBw9rVBMGHoHdYw', 'usedBy': 11, 'parentSlug': '', 'parentId': '', 'slug': 'user'}] gender: male location: {'lat': 8.97548104431072, 'long': -79.50703719035977}\",\n",
       " \"name: Andres Laguna address: Avenida 5A B Sur, Avenida 5A B Sur, Panama City, Panamá, Panama about_me: Andrés Felipe laguna miranda \\nPasaporte 170706346 \\nCalifornia calle 26 edificio de la fuentes \\n68944847\\nTipo de servicio adiestramiento canino y paseos caninos age: 25 category: {'text': 'pets', 'weight': 0, 'id': 'qDwGRcWqjkBpjX4rsDm0', 'usedBy': 4, 'parentSlug': '', 'parentId': '', 'slug': 'pets'} tags: [{'text': 'pets', 'weight': 0, 'id': 'qDwGRcWqjkBpjX4rsDm0', 'usedBy': 4, 'parentSlug': '', 'parentId': '', 'slug': 'pets'}, {'text': 'dog_sitting', 'weight': 0, 'id': 'YQlpTiiGugujzP1ZmyOT', 'usedBy': 4, 'parentSlug': 'pets', 'parentId': 'qDwGRcWqjkBpjX4rsDm0', 'slug': 'dog_sitting'}] gender: male location: {'lat': 8.97548104431072, 'long': -79.50703719035977}\",\n",
       " \"name: Alex address: XF66+2P, Ph Bay View, Panamá, Provincia de Panamá, Panamá about_me:  age: 29 category: {'text': 'user', 'weight': 0, 'id': 'pf8IUMBw9rVBMGHoHdYw', 'usedBy': 10, 'parentSlug': '', 'parentId': '', 'slug': 'user'} tags: [{'text': 'user', 'weight': 0, 'id': 'pf8IUMBw9rVBMGHoHdYw', 'usedBy': 10, 'parentSlug': '', 'parentId': '', 'slug': 'user'}] gender: male location: {'lat': 8.97548104431072, 'long': -79.50703719035977}\",\n",
       " \"name: Higal Ramal address:  about_me:  age: 58 category: {'text': 'pets', 'weight': 0, 'id': 'qDwGRcWqjkBpjX4rsDm0', 'usedBy': 1, 'parentSlug': '', 'parentId': '', 'slug': 'pets'} tags: [{'text': 'pets', 'weight': 0, 'id': 'qDwGRcWqjkBpjX4rsDm0', 'usedBy': 1, 'parentSlug': '', 'parentId': '', 'slug': 'pets'}, {'text': 'pet_care', 'weight': 0, 'id': 'nmv8dBw9XK12J49FYt4H', 'usedBy': 0, 'parentSlug': 'pets', 'parentId': 'qDwGRcWqjkBpjX4rsDm0', 'slug': 'pet_care'}, {'text': 'dog_sitting', 'weight': 0, 'id': 'YQlpTiiGugujzP1ZmyOT', 'usedBy': 1, 'parentSlug': 'pets', 'parentId': 'qDwGRcWqjkBpjX4rsDm0', 'slug': 'dog_sitting'}, {'text': 'perros', 'weight': 0, 'id': 'Xj43s2ujSMAuG8v5L0CC', 'usedBy': 0, 'parentSlug': 'pets', 'parentId': 'qDwGRcWqjkBpjX4rsDm0', 'slug': 'perros'}] gender:  location: {'lat': 8.97548104431072, 'long': -79.50703719035977}\",\n",
       " \"name: Redmi 10A address: 48, Calle C, San Miguelito, Provincia de Panamá, Panamá about_me:  age: 31 category: {'text': 'misc', 'weight': 3, 'isService': True, 'id': '0EB4WWXk3vZAf51Lu6qf', 'usedBy': 1, 'parentSlug': '', 'parentId': '', 'slug': 'misc'} tags: [{'text': 'misc', 'weight': 3, 'isService': True, 'id': '0EB4WWXk3vZAf51Lu6qf', 'usedBy': 1, 'parentSlug': '', 'parentId': '', 'slug': 'misc'}, {'text': 'iphone', 'weight': 0, 'isService': True, 'id': 'pnfFL5BtB9soCEYwweRN', 'usedBy': 1, 'parentSlug': 'misc', 'parentId': '0EB4WWXk3vZAf51Lu6qf', 'slug': 'iphone'}] gender: female location: {'lat': 8.97548104431072, 'long': -79.50703719035977}\",\n",
       " \"name: machhitrupti17@gmail.com address: 7RJQ+284, 7RJQ+284, Diwada, Gujarat, India about_me:  age: 22 category: {'text': 'user', 'weight': 0, 'id': 'pf8IUMBw9rVBMGHoHdYw', 'usedBy': 2, 'parentSlug': '', 'parentId': '', 'slug': 'user'} tags: [{'text': 'user', 'weight': 0, 'id': 'pf8IUMBw9rVBMGHoHdYw', 'usedBy': 2, 'parentSlug': '', 'parentId': '', 'slug': 'user'}] gender: female location: {'lat': 8.97548104431072, 'long': -79.50703719035977}\",\n",
       " \"name: Mario Test Hide 46 address:  about_me:  age:  category: {'text': 'user', 'weight': 0, 'id': 'pf8IUMBw9rVBMGHoHdYw', 'usedBy': 23, 'parentSlug': '', 'parentId': '', 'slug': 'user'} tags: [{'text': 'user', 'weight': 0, 'id': 'pf8IUMBw9rVBMGHoHdYw', 'usedBy': 23, 'parentSlug': '', 'parentId': '', 'slug': 'user'}] gender:  location: {'lat': 8.97548104431072, 'long': -79.50703719035977}\",\n",
       " \"name: Ciloo  address: 20, Chemin de Bretagne, Issy-les-Moulineaux, Île-de-France, France about_me:  age: 46 category: {'text': 'user', 'weight': 0, 'id': 'pf8IUMBw9rVBMGHoHdYw', 'usedBy': 9, 'parentSlug': '', 'parentId': '', 'slug': 'user'} tags: [{'text': 'user', 'weight': 0, 'id': 'pf8IUMBw9rVBMGHoHdYw', 'usedBy': 9, 'parentSlug': '', 'parentId': '', 'slug': 'user'}] gender: female location: {'lat': 8.97548104431072, 'long': -79.50703719035977}\",\n",
       " \"name: Gabriel address: 60, Quai Louis Blériot, Paris, Île-de-France, France about_me:  age: 25 category: {'text': 'user', 'weight': 0, 'id': 'pf8IUMBw9rVBMGHoHdYw', 'usedBy': 9, 'parentSlug': '', 'parentId': '', 'slug': 'user'} tags: [{'text': 'user', 'weight': 0, 'id': 'pf8IUMBw9rVBMGHoHdYw', 'usedBy': 9, 'parentSlug': '', 'parentId': '', 'slug': 'user'}] gender: male location: {'lat': 8.97548104431072, 'long': -79.50703719035977}\",\n",
       " \"name: Noel 2 address: 10506, Calle 74 Este, Panamá, Provincia de Panamá, Panamá about_me:  age: 44 category: {'text': 'food', 'weight': 0, 'id': 'MhMxZZfJs52GU7pA1v4O', 'usedBy': 3, 'parentSlug': '', 'parentId': '', 'slug': 'food'} tags: [{'text': 'food', 'weight': 0, 'id': 'MhMxZZfJs52GU7pA1v4O', 'usedBy': 3, 'parentSlug': '', 'parentId': '', 'slug': 'food'}] gender: male location: {'lat': 8.97548104431072, 'long': -79.50703719035977}\",\n",
       " \"name: Alexandre Rio address: 2040, Rua Sena, Rio de Janeiro, Brazil about_me: Carioca age: 65 category: {'text': 'repair', 'weight': 0, 'id': 'PfhQ5p3is5osNJsFIZvv', 'usedBy': 7, 'parentSlug': '', 'parentId': '', 'slug': 'repair'} tags: [{'text': 'repair', 'weight': 0, 'id': 'PfhQ5p3is5osNJsFIZvv', 'usedBy': 7, 'parentSlug': '', 'parentId': '', 'slug': 'repair'}, {'text': 'smartphone', 'weight': 0, 'id': 'BaNIwiQp2XU5zmVeIvfl', 'usedBy': 3, 'parentSlug': 'repair', 'parentId': 'PfhQ5p3is5osNJsFIZvv', 'slug': 'smartphone'}] gender: male location: {'lat': 8.97548104431072, 'long': -79.50703719035977}\",\n",
       " \"name: Test Real Number Colombia address:  about_me:  age: 35 category: {'text': 'home', 'weight': 0, 'id': '5QOMIURL9xYnZgPWSSIp', 'usedBy': 10, 'parentSlug': '', 'parentId': '', 'slug': 'home'} tags: [{'text': 'home', 'weight': 0, 'id': '5QOMIURL9xYnZgPWSSIp', 'usedBy': 10, 'parentSlug': '', 'parentId': '', 'slug': 'home'}, {'text': 'delivery', 'weight': 0, 'id': 'CXPoHI4OBLhWyVMVXZbG', 'usedBy': 1, 'parentSlug': 'home', 'parentId': '5QOMIURL9xYnZgPWSSIp', 'slug': 'delivery'}] gender: female location: {'lat': 8.97548104431072, 'long': -79.50703719035977}\",\n",
       " \"name: Гульназира  address: 27 корпус 1, Komsomol'skiy Prospekt, Surgut, Khanty-Mansiyskiy avtonomnyy okrug, Russia about_me:  age: None category: {'text': 'user', 'weight': 0, 'id': 'pf8IUMBw9rVBMGHoHdYw', 'usedBy': 2, 'parentSlug': '', 'parentId': '', 'slug': 'user'} tags: [{'text': 'user', 'weight': 0, 'id': 'pf8IUMBw9rVBMGHoHdYw', 'usedBy': 2, 'parentSlug': '', 'parentId': '', 'slug': 'user'}] gender:  location: {'lat': 8.97548104431072, 'long': -79.50703719035977}\",\n",
       " \"name: Millycen Hurtado address: Avenida La Paz, Avenida La Paz, Panama City, Provincia de Panamá, Panamá about_me:  age: 44 category: {'text': 'home', 'weight': 0, 'id': '5QOMIURL9xYnZgPWSSIp', 'usedBy': 10, 'parentSlug': '', 'parentId': '', 'slug': 'home'} tags: [{'text': 'home', 'weight': 0, 'id': '5QOMIURL9xYnZgPWSSIp', 'usedBy': 10, 'parentSlug': '', 'parentId': '', 'slug': 'home'}, {'text': 'plantas', 'weight': 5, 'id': 'rq4453ZGQvE2yjnmpIft', 'usedBy': 2, 'parentSlug': 'home', 'parentId': '5QOMIURL9xYnZgPWSSIp', 'slug': 'plantas'}] gender: female location: {'lat': 8.97548104431072, 'long': -79.50703719035977}\",\n",
       " \"name: Nasir Ahmad Dar address: MVVM+HCM, Shopian - Bemnipora Road, Bimini Pora about_me:  age: 21 category: {'text': 'repair', 'weight': 0, 'id': 'PfhQ5p3is5osNJsFIZvv', 'usedBy': 4, 'parentSlug': '', 'parentId': '', 'slug': 'repair'} tags: [{'text': 'repair', 'weight': 0, 'id': 'PfhQ5p3is5osNJsFIZvv', 'usedBy': 4, 'parentSlug': '', 'parentId': '', 'slug': 'repair'}] gender: male location: {'lat': 8.97548104431072, 'long': -79.50703719035977}\",\n",
       " \"name: Tarandeep singh  address: MHRG+CPG, Old Bazaar Road, Ratia, Haryana, India about_me:  age: 26 category: {'text': 'repair', 'weight': 0, 'id': 'PfhQ5p3is5osNJsFIZvv', 'usedBy': 3, 'parentSlug': '', 'parentId': '', 'slug': 'repair'} tags: [{'text': 'repair', 'weight': 0, 'id': 'PfhQ5p3is5osNJsFIZvv', 'usedBy': 3, 'parentSlug': '', 'parentId': '', 'slug': 'repair'}] gender: male location: {'lat': 8.97548104431072, 'long': -79.50703719035977}\",\n",
       " \"name: Angela  address: Panamá, El Mare Bethania, Panamá, Provincia de Panamá, Panamá about_me:  age: 33 category: {'text': 'spa', 'weight': 0, 'id': 'jNDxsch7qIDIubx39R1K', 'usedBy': 2, 'parentSlug': '', 'parentId': '', 'slug': 'spa'} tags: [{'text': 'spa', 'weight': 0, 'id': 'jNDxsch7qIDIubx39R1K', 'usedBy': 2, 'parentSlug': '', 'parentId': '', 'slug': 'spa'}, {'text': 'masajes', 'weight': 0, 'id': 'wspM72m25FaukjUxr5n5', 'usedBy': 0, 'parentSlug': 'spa', 'parentId': 'jNDxsch7qIDIubx39R1K', 'slug': 'masajes'}] gender: female location: {'lat': 8.97548104431072, 'long': -79.50703719035977}\",\n",
       " \"name: Laissa address: Panamá, , Panamá, Panama about_me: Soy Laissa, una apasionada del transporte y la movilidad. Mi interés por el sector automotriz y mi experiencia como conductora de Uber y motociclista me han brindado una comprensión profunda de las necesidades y desafíos de la industria del transporte. Estoy ansiosa por compartir mis conocimientos y conectar con profesionales de ideas afines en este espacio en constante evolución. age:  category: {'text': 'transport', 'weight': 0, 'id': 'RVqoavsXHaFSepN4ZkNX', 'usedBy': 2, 'parentSlug': '', 'parentId': '', 'slug': 'transport'} tags: [{'text': 'transport', 'weight': 0, 'id': 'RVqoavsXHaFSepN4ZkNX', 'usedBy': 2, 'parentSlug': '', 'parentId': '', 'slug': 'transport'}, {'text': 'uber', 'weight': 0, 'id': '9pYJdcjbrhiaWODpYN5Q', 'usedBy': 2, 'parentSlug': 'transport', 'parentId': 'RVqoavsXHaFSepN4ZkNX', 'slug': 'uber'}, {'text': 'moto', 'weight': 0, 'id': '5xrlfFLhKrYJk6uWpEU5', 'usedBy': 2, 'parentSlug': 'transport', 'parentId': 'RVqoavsXHaFSepN4ZkNX', 'slug': 'moto'}] gender:  location: {'lat': 8.97548104431072, 'long': -79.50703719035977}\",\n",
       " \"name: Janicy dos Santos  address: 55-7, 75 a Oeste, Panamá, Provincia de Panamá, Panamá about_me:  age: 32 category: {'text': 'misc', 'weight': 0, 'id': '0EB4WWXk3vZAf51Lu6qf', 'usedBy': 3, 'parentSlug': '', 'parentId': '', 'slug': 'misc'} tags: [{'text': 'misc', 'weight': 0, 'id': '0EB4WWXk3vZAf51Lu6qf', 'usedBy': 3, 'parentSlug': '', 'parentId': '', 'slug': 'misc'}, {'text': 'educacion', 'weight': 0, 'id': 'Y42kntNtdbTX4PPIQqw6', 'usedBy': 0, 'parentSlug': 'misc', 'parentId': '0EB4WWXk3vZAf51Lu6qf', 'slug': 'educacion'}, {'text': 'tutorias', 'weight': 0, 'id': '9toup7lmipaMM1EOnvmM', 'usedBy': 0, 'parentSlug': 'misc', 'parentId': '0EB4WWXk3vZAf51Lu6qf', 'slug': 'tutorias'}, {'text': 'psicopedagoga', 'weight': 0, 'id': 'Vap8sp9QtRc9vq9gRIzy', 'usedBy': 0, 'parentSlug': 'misc', 'parentId': '0EB4WWXk3vZAf51Lu6qf', 'slug': 'psicopedagoga'}] gender: male location: {'lat': 8.97548104431072, 'long': -79.50703719035977}\",\n",
       " \"name: HomeSecurePTY address: Homesecurepty, Calle 66 Este, Panamá, Provincia de Panamá, Panama about_me: Cerrajería Automotriz, Residencial Y Comercial. age: 44 category: {'text': 'repair', 'weight': 0, 'id': 'PfhQ5p3is5osNJsFIZvv', 'usedBy': 6, 'parentSlug': '', 'parentId': '', 'slug': 'repair'} tags: [{'text': 'repair', 'weight': 0, 'id': 'PfhQ5p3is5osNJsFIZvv', 'usedBy': 6, 'parentSlug': '', 'parentId': '', 'slug': 'repair'}, {'text': 'cerrajeria', 'weight': 0, 'id': '0I3QxE8KKnvqqMX3sxln', 'usedBy': 0, 'parentSlug': 'repair', 'parentId': 'PfhQ5p3is5osNJsFIZvv', 'slug': 'cerrajeria'}, {'text': 'cerrajeria_automotriz', 'weight': 0, 'id': 'O28nCICtkFIdgYnnxvG8', 'usedBy': 0, 'parentSlug': 'repair', 'parentId': 'PfhQ5p3is5osNJsFIZvv', 'slug': 'cerrajeria_automotriz'}, {'text': 'llaves_perdidas', 'weight': 0, 'id': 'KYbCRMpFyD9FGPMn8M1a', 'usedBy': 0, 'parentSlug': 'repair', 'parentId': 'PfhQ5p3is5osNJsFIZvv', 'slug': 'llaves_perdidas'}, {'text': 'llaves_para_autos', 'weight': 0, 'id': 'zEvcCFyiL9rJaNsA6v1U', 'usedBy': 0, 'parentSlug': 'repair', 'parentId': 'PfhQ5p3is5osNJsFIZvv', 'slug': 'llaves_para_autos'}] gender: male location: {'lat': 8.97548104431072, 'long': -79.50703719035977}\",\n",
       " \"name: Emulator 66980917 address: 132, Calle C, San Miguelito, Provincia de Panamá, Panama about_me:  age: 32 category: {'text': 'spa', 'weight': 0, 'id': 'jNDxsch7qIDIubx39R1K', 'usedBy': 1, 'parentSlug': '', 'parentId': '', 'slug': 'spa'} tags: [{'text': 'spa', 'weight': 0, 'id': 'jNDxsch7qIDIubx39R1K', 'usedBy': 1, 'parentSlug': '', 'parentId': '', 'slug': 'spa'}, {'text': 'manos_y_pies', 'weight': 0, 'id': 'NjIAAjPlxDpQFsTTlHvp', 'usedBy': 0, 'parentSlug': 'spa', 'parentId': 'jNDxsch7qIDIubx39R1K', 'slug': 'manos_y_pies'}] gender: female location: {'lat': 8.97548104431072, 'long': -79.50703719035977}\"]"
      ]
     },
     "execution_count": 20,
     "metadata": {},
     "output_type": "execute_result"
    }
   ],
   "source": [
    "profiles"
   ]
  },
  {
   "cell_type": "markdown",
   "metadata": {},
   "source": [
    "## Send data to Neo4j"
   ]
  },
  {
   "cell_type": "code",
   "execution_count": null,
   "metadata": {},
   "outputs": [],
   "source": []
  },
  {
   "cell_type": "code",
   "execution_count": 21,
   "metadata": {},
   "outputs": [],
   "source": [
    "def set_nodes_to_graph(text):\n",
    "\n",
    "    # Connect to the Neo4j database\n",
    "    driver = GraphDatabase.driver(NEO4J_URI, auth=(NEO4J_USERNAME, NEO4J_PASSWORD))\n",
    "\n",
    "    # List the entities and relations the LLM should look for in the text\n",
    "    entities = [\"Person\", \"Category\", \"City\", \"Tags\"]\n",
    "    relations = [\"CATEGORY_PROVIDER\", \"FROM_CITY\", \"TAGS\"]\n",
    "    potential_schema = [\n",
    "        (\"Person\", \"CATEGORY_PROVIDER\", \"Category\"),\n",
    "        (\"Person\", \"FROM_CITY\", \"City\"),\n",
    "        (\"Person\", \"TAGS\", \"Tags\"),\n",
    "    ]\n",
    "\n",
    "    # Create an Embedder object\n",
    "    embedder = OpenAIEmbeddings(model=\"text-embedding-3-large\")\n",
    "\n",
    "    # Instantiate the LLM\n",
    "    llm = OpenAILLM(\n",
    "        model_name=\"gpt-4o\",\n",
    "        model_params={\n",
    "            \"max_tokens\": 2000,\n",
    "            \"response_format\": {\"type\": \"json_object\"},\n",
    "            \"temperature\": 0,\n",
    "        },\n",
    "    )\n",
    "\n",
    "    # Instantiate the SimpleKGPipeline\n",
    "    kg_builder = SimpleKGPipeline(\n",
    "        llm=llm,\n",
    "        driver=driver,\n",
    "        embedder=embedder,\n",
    "        entities=entities,\n",
    "        relations=relations,\n",
    "        potential_schema=potential_schema,\n",
    "        on_error=\"IGNORE\",\n",
    "        from_pdf=False,\n",
    "    )\n",
    "\n",
    "    # Run the pipeline on a piece of text\n",
    "    asyncio.run(kg_builder.run_async(text=text))\n",
    "    driver.close()"
   ]
  },
  {
   "cell_type": "code",
   "execution_count": 22,
   "metadata": {},
   "outputs": [],
   "source": [
    "for item in profiles:\n",
    "    set_nodes_to_graph(item)"
   ]
  },
  {
   "cell_type": "code",
   "execution_count": 65,
   "metadata": {},
   "outputs": [
    {
     "name": "stdout",
     "output_type": "stream",
     "text": [
      "1.23 4.56 7203\n",
      "1.23 4.56 7.89 9157\n"
     ]
    }
   ],
   "source": [
    "from neo4j.spatial import CartesianPoint\n",
    "\n",
    "point = CartesianPoint((1.23, 4.56))\n",
    "print(point.x, point.y, point.srid)\n",
    "# 1.23 4.56 7203\n",
    "from neo4j.spatial import CartesianPoint\n",
    "\n",
    "point = CartesianPoint((1.23, 4.56, 7.89))\n",
    "print(point.x, point.y, point.z, point.srid)"
   ]
  },
  {
   "cell_type": "code",
   "execution_count": 27,
   "metadata": {},
   "outputs": [],
   "source": [
    "from neo4j import GraphDatabase\n",
    "\n",
    "# Neo4j connection credentials\n",
    "NEO4J_URI = \"bolt://localhost:7687\"  # Update with your Neo4j URI\n",
    "USERNAME = \"neo4j\"\n",
    "PASSWORD = \"cassandra\"\n",
    "\n",
    "# Sample location data (latitude, longitude)\n",
    "DEFAULT_LATITUDE = 40.7128   # Example: New York City\n",
    "DEFAULT_LONGITUDE = -74.0060\n",
    "\n",
    "# Neo4j update query\n",
    "UPDATE_QUERY = \"\"\"\n",
    "MATCH (p:Person)\n",
    "SET p.location = point({latitude: $latitude, longitude: $longitude})\n",
    "RETURN COUNT(p) AS updated_count;\n",
    "\"\"\"\n",
    "\n",
    "# Function to update a person's location\n",
    "def update_person_location_by_name(person_name, latitude, longitude):\n",
    "    UPDATE_QUERY = \"\"\"\n",
    "    MATCH (p:Person {name: $name})\n",
    "    SET p.location = point({latitude: $latitude, longitude: $longitude})\n",
    "    RETURN p.name AS updated_name, p.location AS new_location;\n",
    "    \"\"\"\n",
    "\n",
    "    # Connect to Neo4j\n",
    "    driver = GraphDatabase.driver(NEO4J_URI, auth=(USERNAME, PASSWORD))\n",
    "\n",
    "    with driver.session() as session:\n",
    "        result = session.run(UPDATE_QUERY, name=person_name, latitude=latitude, longitude=longitude)\n",
    "        record = result.single()\n",
    "        if record:\n",
    "            print(f\"✅ Updated location for {record['updated_name']} to {record['new_location']}\")\n",
    "        else:\n",
    "            print(f\"❌ No person found with name '{person_name}'\")\n",
    "\n",
    "    driver.close()"
   ]
  },
  {
   "cell_type": "code",
   "execution_count": 28,
   "metadata": {},
   "outputs": [
    {
     "name": "stdout",
     "output_type": "stream",
     "text": [
      "✅ Updated location for Violeta IOS to POINT(-79.50703719035977 8.97548104431072)\n",
      "❌ No person found with name 'violeta ios 0.7.17'\n",
      "✅ Updated location for Arizza to POINT(-79.55968186016943 8.994300842285156)\n",
      "✅ Updated location for Oriana Vega24422 to POINT(-70.2067349 11.7080935)\n",
      "❌ No person found with name 'Alejandro '\n",
      "✅ Updated location for Jules D. to POINT(2.3113472 48.8598247)\n",
      "✅ Updated location for Shiro to POINT(-79.5110741 8.9853828)\n",
      "✅ Updated location for Daniela Febles to POINT(-79.51779272414699 8.985404968261719)\n",
      "✅ Updated location for Akshdeep to POINT(75.0192061 31.0978)\n",
      "✅ Updated location for Harry to POINT(135.9516219 33.6266539)\n",
      "✅ Updated location for Manjeet kaur to POINT(75.2686158 29.5766614)\n",
      "<google.cloud.firestore_v1.base_document.DocumentSnapshot object at 0x16d8b0670>\n",
      "❌ No person found with name 'Jino '\n",
      "✅ Updated location for YoMap Assistant to POINT(-79.5046593 8.9898528)\n",
      "✅ Updated location for Ricardo De Leon to POINT(-79.5271224 8.9791855)\n",
      "✅ Updated location for shankar to POINT(72.862981 19.1749283)\n",
      "❌ No person found with name 'joginder singh'\n",
      "✅ Updated location for Mario Redmi 10A to POINT(-79.527052 8.980313299999997)\n",
      "❌ No person found with name 'Anita '\n",
      "✅ Updated location for ali to POINT(127.102309 37.5111082)\n",
      "✅ Updated location for Fito Viroka to POINT(-79.5204350214493 8.975854419174278)\n",
      "✅ Updated location for Harpreet Singh to POINT(75.4029692 31.1831487)\n",
      "✅ Updated location for Oges Fbios to POINT(-79.56928956626375 9.01212093304646)\n",
      "✅ Updated location for vani manda to POINT(79.3116004 19.9358966)\n",
      "✅ Updated location for sachin kharre to POINT(77.3634874 30.2405171)\n",
      "✅ Updated location for Arka to POINT(88.3958758 22.6669009)\n",
      "✅ Updated location for abhi to POINT(77.329985 28.79261)\n",
      "✅ Updated location for Rutiner Dasheeri to POINT(-79.5205196 8.9759802)\n",
      "✅ Updated location for Noel Moreno to POINT(-79.5042726 8.9909201)\n",
      "❌ No person found with name 'Ricky Barranquilla '\n",
      "❌ No person found with name 'deleter2'\n",
      "✅ Updated location for lucy to POINT(6.9724219 5.5558832)\n",
      "✅ Updated location for manpreet to POINT(75.2394813 29.6917805)\n",
      "✅ Updated location for Alex to POINT(37.576097063720226 55.56857820822842)\n",
      "✅ Updated location for YoMap LG to POINT(-79.5066973 8.975605)\n",
      "❌ No person found with name 'Navratan Singh '\n",
      "✅ Updated location for Test user 63636363 to POINT(-79.5076614 8.997366)\n",
      "✅ Updated location for Pulor Baszo to POINT(-79.55858409404756 8.977574896833866)\n",
      "❌ No person found with name 'ummed Ali '\n",
      "❌ No person found with name 'YM Soporte stage'\n",
      "❌ No person found with name 'Harsh Tiwari '\n",
      "❌ No person found with name 'Kuldeep Singh '\n",
      "✅ Updated location for laurent to POINT(-79.5271076 8.9804377)\n",
      "❌ No person found with name 'Fake user account 44 '\n",
      "✅ Updated location for Readet Ferche to POINT(-79.28913876414299 9.086820241357247)\n",
      "❌ No person found with name 'Ewa '\n",
      "✅ Updated location for Amit Kumar to POINT(77.1163409 28.7057995)\n",
      "❌ No person found with name 'Costura Ana Mer bis'\n",
      "❌ No person found with name 'Carolina 7.17'\n",
      "✅ Updated location for Luis Ortiz to POINT(-79.51986959999999 8.9823792)\n",
      "✅ Updated location for ice panama to POINT(-80.53475964814425 9.005112193838139)\n",
      "✅ Updated location for Andres Laguna to POINT(-79.52478055608721 8.976936340332031)\n",
      "✅ Updated location for Alex to POINT(-79.5382428 8.9600919)\n",
      "✅ Updated location for Higal Ramal to POINT(-79.5693449 9.012152)\n",
      "❌ No person found with name 'Julio Baer'\n",
      "✅ Updated location for Redmi 10A to POINT(-79.51750908046961 9.037180706847469)\n",
      "❌ No person found with name 'machhitrupti17@gmail.com'\n",
      "❌ No person found with name 'Mario Test Hide 46'\n",
      "❌ No person found with name 'Ciloo '\n",
      "✅ Updated location for Gabriel to POINT(2.2746571 48.8475663)\n",
      "❌ No person found with name 'Noel 2'\n",
      "✅ Updated location for Alexandre Rio to POINT(-43.3934288 -22.9646987)\n",
      "✅ Updated location for Test Real Number Colombia to POINT(-79.2265276 8.584236299999999)\n",
      "❌ No person found with name 'Гульназира '\n",
      "✅ Updated location for Millycen Hurtado to POINT(-79.52068927464094 9.007635281479647)\n",
      "❌ No person found with name 'jean sams stage '\n",
      "✅ Updated location for Nasir Ahmad Dar to POINT(74.8834235 33.6937358)\n",
      "❌ No person found with name 'Tarandeep singh '\n",
      "❌ No person found with name 'Angela '\n",
      "✅ Updated location for Laissa to POINT(-79.5326233 8.9767517)\n",
      "❌ No person found with name 'Janicy dos Santos '\n",
      "✅ Updated location for HomeSecurePTY to POINT(-79.5131565 8.995956399999997)\n",
      "✅ Updated location for Emulator 66980917 to POINT(-79.5009471103549 9.03795683773441)\n"
     ]
    }
   ],
   "source": [
    "for doc in docs:\n",
    "    \n",
    "    user_profile = doc.to_dict()\n",
    "\n",
    "    try:\n",
    "        if \"location\" in user_profile.keys():\n",
    "            location = {\n",
    "                \"lat\": doc.to_dict()[\"location\"].latitude,\n",
    "                \"long\": doc.to_dict()[\"location\"].longitude,\n",
    "            }\n",
    "\n",
    "            update_person_location_by_name(user_profile[\"displayName\"], location['lat'], location['long'])\n",
    "    except:\n",
    "        print(doc)"
   ]
  },
  {
   "cell_type": "code",
   "execution_count": 79,
   "metadata": {},
   "outputs": [
    {
     "data": {
      "text/plain": [
       "9.03795683773441"
      ]
     },
     "execution_count": 79,
     "metadata": {},
     "output_type": "execute_result"
    }
   ],
   "source": [
    "location['lat']"
   ]
  },
  {
   "cell_type": "code",
   "execution_count": 30,
   "metadata": {},
   "outputs": [
    {
     "data": {
      "text/plain": [
       "'yomap-index'"
      ]
     },
     "execution_count": 30,
     "metadata": {},
     "output_type": "execute_result"
    }
   ],
   "source": [
    "INDEX_NAME"
   ]
  },
  {
   "cell_type": "code",
   "execution_count": null,
   "metadata": {},
   "outputs": [],
   "source": []
  },
  {
   "cell_type": "code",
   "execution_count": 49,
   "metadata": {},
   "outputs": [],
   "source": [
    "from neo4j import GraphDatabase\n",
    "from neo4j_graphrag.embeddings import OpenAIEmbeddings\n",
    "from neo4j_graphrag.generation import GraphRAG\n",
    "from neo4j_graphrag.llm import OpenAILLM\n",
    "from neo4j_graphrag.retrievers import VectorRetriever\n",
    "\n",
    "# Connect to the Neo4j database\n",
    "driver = GraphDatabase.driver(NEO4J_URI, auth=(NEO4J_USERNAME, NEO4J_PASSWORD))\n",
    "\n",
    "# Create an Embedder object\n",
    "embedder = OpenAIEmbeddings(model=\"text-embedding-3-large\")\n",
    "\n",
    "# Initialize the retriever\n",
    "retriever = VectorRetriever(driver, \"yomap_index\", embedder)\n",
    "\n",
    "# Instantiate the LLM\n",
    "llm = OpenAILLM(model_name=\"gpt-4o\", model_params={\"temperature\": 0})\n",
    "\n",
    "# Instantiate the RAG pipeline\n",
    "rag = GraphRAG(retriever=retriever, llm=llm)"
   ]
  },
  {
   "cell_type": "code",
   "execution_count": null,
   "metadata": {},
   "outputs": [],
   "source": []
  },
  {
   "cell_type": "code",
   "execution_count": 50,
   "metadata": {},
   "outputs": [
    {
     "name": "stdout",
     "output_type": "stream",
     "text": [
      "Sí, en la base de datos hay varias personas que ofrecen servicios de paseo de perros:\n",
      "\n",
      "1. Violeta IOS (35 años) - Apasionada por los animales, ofrece cuidado y paseos de perros.\n",
      "2. Andres Laguna (25 años) - Ofrece adiestramiento canino y paseos caninos.\n",
      "3. Violeta IOS (29 años) - Estudiante de veterinaria, guarda y pasea mascotas.\n",
      "4. Readet Ferche (36 años) - Ofrece servicios de paseo de perros y cuidado experto.\n"
     ]
    }
   ],
   "source": [
    "# Query the graph\n",
    "query_text = \"Algun paseador de perros en la base de datos?\"\n",
    "response = rag.search(query_text=query_text, retriever_config={\"top_k\": 5})\n",
    "print(response.answer)\n",
    "driver.close()"
   ]
  },
  {
   "cell_type": "code",
   "execution_count": 51,
   "metadata": {},
   "outputs": [
    {
     "name": "stdout",
     "output_type": "stream",
     "text": [
      "Para encontrar un proveedor cerca de la latitud 8.96009198 y longitud -79.538242 que ofrezca servicios de paseo de perros, podemos revisar los datos proporcionados:\n",
      "\n",
      "1. **Andres Laguna**: Ofrece servicios de adiestramiento canino y paseos caninos. Su ubicación es en la latitud 8.97548104431072 y longitud -79.50703719035977.\n",
      "\n",
      "2. **Violeta IOS**: Ofrece servicios de paseo de perros y cuidado de mascotas. Su ubicación es en la latitud 8.97548104431072 y longitud -79.50703719035977.\n",
      "\n",
      "3. **Readet Ferche**: Ofrece servicios de paseo de perros. Su ubicación es en la latitud 8.97548104431072 y longitud -79.50703719035977.\n",
      "\n",
      "4. **Higal Ramal**: Ofrece servicios relacionados con mascotas, incluyendo cuidado de perros. Su ubicación es en la latitud 8.97548104431072 y longitud -79.50703719035977.\n",
      "\n",
      "Para calcular la distancia entre la ubicación proporcionada y la de los proveedores, podemos usar la fórmula de la distancia euclidiana en un plano cartesiano. Sin embargo, dado que todas las ubicaciones de los proveedores son las mismas, podemos calcular la distancia para uno de ellos:\n",
      "\n",
      "La distancia entre las coordenadas (8.96009198, -79.538242) y (8.97548104431072, -79.50703719035977) es aproximadamente 3.7 kilómetros. Por lo tanto, todos los proveedores mencionados están a esta distancia de la ubicación proporcionada.\n"
     ]
    }
   ],
   "source": [
    "# Query the graph\n",
    "query_text = \"alguna provider cerca de latitude: 8.96009198, longitude:  -79.538242 y que sea paseador de perros y me dices a que distancia esta de esta location\"\n",
    "response = rag.search(query_text=query_text, retriever_config={\"top_k\": 5})\n",
    "print(response.answer)\n",
    "driver.close()"
   ]
  },
  {
   "cell_type": "markdown",
   "metadata": {},
   "source": []
  },
  {
   "cell_type": "code",
   "execution_count": 102,
   "metadata": {},
   "outputs": [],
   "source": [
    "from langchain_neo4j import Neo4jVector"
   ]
  },
  {
   "cell_type": "code",
   "execution_count": null,
   "metadata": {},
   "outputs": [],
   "source": []
  },
  {
   "cell_type": "code",
   "execution_count": 106,
   "metadata": {},
   "outputs": [],
   "source": [
    "store = Neo4jVector.from_existing_index(\n",
    "    embedder,\n",
    "    url=NEO4J_URI, \n",
    "    username=NEO4J_USERNAME, \n",
    "    password=NEO4J_PASSWORD,\n",
    "    index_name=INDEX_NAME,\n",
    ")"
   ]
  },
  {
   "cell_type": "code",
   "execution_count": 110,
   "metadata": {},
   "outputs": [],
   "source": [
    "query = \"Algun paseador de perros en la base de datos?\"\n",
    "\n",
    "docs_with_score = store.similarity_search_with_score(query, k=5)"
   ]
  },
  {
   "cell_type": "code",
   "execution_count": 111,
   "metadata": {},
   "outputs": [
    {
     "name": "stdout",
     "output_type": "stream",
     "text": [
      "--------------------------------------------------------------------------------\n",
      "Score:  0.5258879065513611\n",
      "name: violeta ios 0.7.17 address:  about_me: ¡Hola! Soy Violeta, una apasionada por los animales.  con  años de experiencia. Amo cuidar de perros y pasearlos. Si buscas una persona confiable y cariñosa para tu peludo amigo, ¡contacta conmigo! age: 35 category: {'text': 'pets', 'weight': 0, 'id': 'qDwGRcWqjkBpjX4rsDm0', 'parentSlug': '', 'usedBy': 5, 'parentId': '', 'slug': 'pets'} tags: [{'text': 'pets', 'weight': 0, 'id': 'qDwGRcWqjkBpjX4rsDm0', 'parentSlug': '', 'usedBy': 5, 'parentId': '', 'slug': 'pets'}, {'text': 'dog_sitting', 'weight': 0, 'id': 'YQlpTiiGugujzP1ZmyOT', 'parentSlug': 'pets', 'usedBy': 5, 'parentId': 'qDwGRcWqjkBpjX4rsDm0', 'slug': 'dog_sitting'}, {'text': 'paseo_de_perros', 'weight': 0, 'id': 'x6gzflGmUYKkYklPtJcp', 'parentSlug': 'pets', 'usedBy': 2, 'parentId': 'qDwGRcWqjkBpjX4rsDm0', 'slug': 'paseo_de_perros'}] gender: female location: {'lat': 8.97548104431072, 'long': -79.50703719035977}\n",
      "--------------------------------------------------------------------------------\n",
      "--------------------------------------------------------------------------------\n",
      "Score:  0.5069699287414551\n",
      "name: Andres Laguna address: Avenida 5A B Sur, Avenida 5A B Sur, Panama City, Panamá, Panama about_me: Andrés Felipe laguna miranda \n",
      "Pasaporte 170706346 \n",
      "California calle 26 edificio de la fuentes \n",
      "68944847\n",
      "Tipo de servicio adiestramiento canino y paseos caninos age: 25 category: {'text': 'pets', 'weight': 0, 'id': 'qDwGRcWqjkBpjX4rsDm0', 'usedBy': 4, 'parentSlug': '', 'parentId': '', 'slug': 'pets'} tags: [{'text': 'pets', 'weight': 0, 'id': 'qDwGRcWqjkBpjX4rsDm0', 'usedBy': 4, 'parentSlug': '', 'parentId': '', 'slug': 'pets'}, {'text': 'dog_sitting', 'weight': 0, 'id': 'YQlpTiiGugujzP1ZmyOT', 'usedBy': 4, 'parentSlug': 'pets', 'parentId': 'qDwGRcWqjkBpjX4rsDm0', 'slug': 'dog_sitting'}] gender: male location: {'lat': 8.97548104431072, 'long': -79.50703719035977}\n",
      "--------------------------------------------------------------------------------\n",
      "--------------------------------------------------------------------------------\n",
      "Score:  0.5062442421913147\n",
      "name: Violeta IOS address: Calle Punta Colón, Calle Punta Colón, Panama City, Provincia de Panamá, Panamá about_me: Guardo y paseo de mascotas. Soy estudiante 3er ano escuela veterinaria de Panama age: 29 category: {'text': 'pets', 'weight': 0, 'id': 'qDwGRcWqjkBpjX4rsDm0', 'usedBy': 0, 'parentSlug': '', 'parentId': '', 'slug': 'pets'} tags: [{'text': 'pets', 'weight': 0, 'id': 'qDwGRcWqjkBpjX4rsDm0', 'usedBy': 0, 'parentSlug': '', 'parentId': '', 'slug': 'pets'}, {'text': 'paseo_de_perros', 'weight': 0, 'id': 'x6gzflGmUYKkYklPtJcp', 'usedBy': 0, 'parentSlug': 'pets', 'parentId': 'qDwGRcWqjkBpjX4rsDm0', 'slug': 'paseo_de_perros'}, {'text': 'dog_sitting', 'weight': 0, 'id': 'YQlpTiiGugujzP1ZmyOT', 'usedBy': 0, 'parentSlug': 'pets', 'parentId': 'qDwGRcWqjkBpjX4rsDm0', 'slug': 'dog_sitting'}] gender: female location: {'lat': 8.97548104431072, 'long': -79.50703719035977}\n",
      "--------------------------------------------------------------------------------\n",
      "--------------------------------------------------------------------------------\n",
      "Score:  0.49168071150779724\n",
      "name: Readet Ferche ei address:  about_me: Readet Ferche, a 36-year-old passionate about pets, offers dog walking services and expert care. With years of experience, he ensures your furry friend enjoys safe and engaging walks. age: 36 category: {'text': 'spa', 'weight': 0, 'id': 'jNDxsch7qIDIubx39R1K', 'usedBy': 3, 'parentSlug': '', 'parentId': '', 'slug': 'spa'} tags: [{'text': 'spa', 'weight': 0, 'id': 'jNDxsch7qIDIubx39R1K', 'usedBy': 3, 'parentSlug': '', 'parentId': '', 'slug': 'spa'}, {'text': 'masajes', 'weight': 0, 'id': 'wspM72m25FaukjUxr5n5', 'usedBy': 2, 'parentSlug': 'spa', 'parentId': 'jNDxsch7qIDIubx39R1K', 'slug': 'masajes'}] gender: male location: {'lat': 8.97548104431072, 'long': -79.50703719035977}\n",
      "--------------------------------------------------------------------------------\n",
      "--------------------------------------------------------------------------------\n",
      "Score:  0.47978803515434265\n",
      "name: Higal Ramal address:  about_me:  age: 58 category: {'text': 'pets', 'weight': 0, 'id': 'qDwGRcWqjkBpjX4rsDm0', 'usedBy': 1, 'parentSlug': '', 'parentId': '', 'slug': 'pets'} tags: [{'text': 'pets', 'weight': 0, 'id': 'qDwGRcWqjkBpjX4rsDm0', 'usedBy': 1, 'parentSlug': '', 'parentId': '', 'slug': 'pets'}, {'text': 'pet_care', 'weight': 0, 'id': 'nmv8dBw9XK12J49FYt4H', 'usedBy': 0, 'parentSlug': 'pets', 'parentId': 'qDwGRcWqjkBpjX4rsDm0', 'slug': 'pet_care'}, {'text': 'dog_sitting', 'weight': 0, 'id': 'YQlpTiiGugujzP1ZmyOT', 'usedBy': 1, 'parentSlug': 'pets', 'parentId': 'qDwGRcWqjkBpjX4rsDm0', 'slug': 'dog_sitting'}, {'text': 'perros', 'weight': 0, 'id': 'Xj43s2ujSMAuG8v5L0CC', 'usedBy': 0, 'parentSlug': 'pets', 'parentId': 'qDwGRcWqjkBpjX4rsDm0', 'slug': 'perros'}] gender:  location: {'lat': 8.97548104431072, 'long': -79.50703719035977}\n",
      "--------------------------------------------------------------------------------\n"
     ]
    }
   ],
   "source": [
    "for doc, score in docs_with_score:\n",
    "    print(\"-\" * 80)\n",
    "    print(\"Score: \", score)\n",
    "    print(doc.page_content)\n",
    "    print(\"-\" * 80)"
   ]
  },
  {
   "cell_type": "code",
   "execution_count": 115,
   "metadata": {},
   "outputs": [
    {
     "data": {
      "text/plain": [
       "[{'c.name': 'Alex',\n",
       "  'point.distance(c.location, point({latitude:8.96009198, longitude:  -79.538242})) / 1000': 8.841852492993769e-05},\n",
       " {'c.name': 'Laissa',\n",
       "  'point.distance(c.location, point({latitude:8.96009198, longitude:  -79.538242})) / 1000': 1.9547561527421844}]"
      ]
     },
     "execution_count": 115,
     "metadata": {},
     "output_type": "execute_result"
    }
   ],
   "source": [
    "query = \"\"\"\n",
    "MATCH (c:Person) \n",
    "\n",
    "WHERE point.distance(c.location, point({latitude: 8.96009198, longitude:  -79.538242})) / 1000 < 2\n",
    "\n",
    "RETURN c.name, point.distance(c.location, point({latitude:8.96009198, longitude:  -79.538242})) / 1000\n",
    "\"\"\"\n",
    "\n",
    "store.query(query)"
   ]
  },
  {
   "cell_type": "code",
   "execution_count": null,
   "metadata": {},
   "outputs": [],
   "source": []
  }
 ],
 "metadata": {
  "kernelspec": {
   "display_name": "yomap",
   "language": "python",
   "name": "python3"
  },
  "language_info": {
   "codemirror_mode": {
    "name": "ipython",
    "version": 3
   },
   "file_extension": ".py",
   "mimetype": "text/x-python",
   "name": "python",
   "nbconvert_exporter": "python",
   "pygments_lexer": "ipython3",
   "version": "3.10.0"
  }
 },
 "nbformat": 4,
 "nbformat_minor": 2
}
