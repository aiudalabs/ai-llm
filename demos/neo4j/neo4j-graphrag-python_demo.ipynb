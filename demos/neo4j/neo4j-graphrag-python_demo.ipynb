{
 "cells": [
  {
   "cell_type": "code",
   "execution_count": null,
   "metadata": {},
   "outputs": [],
   "source": [
    "import nest_asyncio\n",
    "nest_asyncio.apply()"
   ]
  },
  {
   "cell_type": "code",
   "execution_count": 4,
   "metadata": {},
   "outputs": [],
   "source": [
    "import asyncio\n",
    "\n",
    "from neo4j import GraphDatabase\n",
    "from neo4j_graphrag.embeddings import OpenAIEmbeddings\n",
    "from neo4j_graphrag.experimental.pipeline.kg_builder import SimpleKGPipeline\n",
    "from neo4j_graphrag.llm import OpenAILLM\n",
    "\n",
    "NEO4J_URI = \"neo4j://localhost:7687\"\n",
    "NEO4J_USERNAME = \"neo4j\"\n",
    "NEO4J_PASSWORD = \"cassandra\"\n",
    "\n",
    "# Connect to the Neo4j database\n",
    "driver = GraphDatabase.driver(NEO4J_URI, auth=(NEO4J_USERNAME, NEO4J_PASSWORD))\n",
    "\n",
    "# List the entities and relations the LLM should look for in the text\n",
    "entities = [\"Person\", \"House\", \"Planet\"]\n",
    "relations = [\"PARENT_OF\", \"HEIR_OF\", \"RULES\"]\n",
    "potential_schema = [\n",
    "    (\"Person\", \"PARENT_OF\", \"Person\"),\n",
    "    (\"Person\", \"HEIR_OF\", \"House\"),\n",
    "    (\"House\", \"RULES\", \"Planet\"),\n",
    "]\n",
    "\n",
    "# Create an Embedder object\n",
    "embedder = OpenAIEmbeddings(model=\"text-embedding-3-large\")\n",
    "\n",
    "# Instantiate the LLM\n",
    "llm = OpenAILLM(\n",
    "    model_name=\"gpt-4o\",\n",
    "    model_params={\n",
    "        \"max_tokens\": 2000,\n",
    "        \"response_format\": {\"type\": \"json_object\"},\n",
    "        \"temperature\": 0,\n",
    "    },\n",
    ")\n",
    "\n",
    "# Instantiate the SimpleKGPipeline\n",
    "kg_builder = SimpleKGPipeline(\n",
    "    llm=llm,\n",
    "    driver=driver,\n",
    "    embedder=embedder,\n",
    "    entities=entities,\n",
    "    relations=relations,\n",
    "    on_error=\"IGNORE\",\n",
    "    from_pdf=False,\n",
    ")\n",
    "\n",
    "# Run the pipeline on a piece of text\n",
    "text = (\n",
    "    \"The son of Duke Leto Atreides and the Lady Jessica, Paul is the heir of House \"\n",
    "    \"Atreides, an aristocratic family that rules the planet Caladan.\"\n",
    ")\n",
    "# asyncio.run(kg_builder.run_async(text=text))\n",
    "# driver.close()"
   ]
  },
  {
   "cell_type": "code",
   "execution_count": null,
   "metadata": {},
   "outputs": [],
   "source": []
  },
  {
   "cell_type": "code",
   "execution_count": 9,
   "metadata": {},
   "outputs": [],
   "source": [
    "asyncio.run(kg_builder.run_async(text=text))\n",
    "driver.close()"
   ]
  },
  {
   "cell_type": "markdown",
   "metadata": {},
   "source": [
    "# Creating a Vector Index"
   ]
  },
  {
   "cell_type": "code",
   "execution_count": 14,
   "metadata": {},
   "outputs": [],
   "source": [
    "from neo4j import GraphDatabase\n",
    "from neo4j_graphrag.indexes import create_vector_index\n",
    "\n",
    "NEO4J_URI = \"neo4j://localhost:7687\"\n",
    "NEO4J_USERNAME = \"neo4j\"\n",
    "NEO4J_PASSWORD = \"cassandra\"\n",
    "INDEX_NAME = \"vector-index-name\"\n",
    "\n",
    "# Connect to the Neo4j database\n",
    "driver = GraphDatabase.driver(NEO4J_URI, auth=(NEO4J_USERNAME, NEO4J_PASSWORD))\n",
    "\n",
    "# Create the index\n",
    "create_vector_index(\n",
    "    driver,\n",
    "    INDEX_NAME,\n",
    "    label=\"Chunk\",\n",
    "    embedding_property=\"embedding\",\n",
    "    dimensions=3072,\n",
    "    similarity_fn=\"euclidean\",\n",
    ")\n",
    "driver.close()"
   ]
  },
  {
   "cell_type": "markdown",
   "metadata": {},
   "source": []
  },
  {
   "cell_type": "code",
   "execution_count": 15,
   "metadata": {},
   "outputs": [],
   "source": [
    "from neo4j import GraphDatabase\n",
    "from neo4j_graphrag.embeddings import OpenAIEmbeddings\n",
    "from neo4j_graphrag.indexes import upsert_vectors\n",
    "from neo4j_graphrag.types import EntityType\n",
    "\n",
    "NEO4J_URI = \"neo4j://localhost:7687\"\n",
    "NEO4J_USERNAME = \"neo4j\"\n",
    "NEO4J_PASSWORD = \"password\"\n",
    "\n",
    "# Connect to the Neo4j database\n",
    "driver = GraphDatabase.driver(NEO4J_URI, auth=(NEO4J_USERNAME, NEO4J_PASSWORD))\n",
    "\n",
    "# Create an Embedder object\n",
    "embedder = OpenAIEmbeddings(model=\"text-embedding-3-large\")\n",
    "\n",
    "# Generate an embedding for some text\n",
    "text = (\n",
    "    \"The son of Duke Leto Atreides and the Lady Jessica, Paul is the heir of House \"\n",
    "    \"Atreides, an aristocratic family that rules the planet Caladan.\"\n",
    ")\n",
    "vector = embedder.embed_query(text)\n",
    "\n",
    "# Upsert the vector\n",
    "upsert_vectors(\n",
    "    driver,\n",
    "    ids=[\"1234\"],\n",
    "    embedding_property=\"vectorProperty\",\n",
    "    embeddings=[vector],\n",
    "    entity_type=EntityType.NODE,\n",
    ")\n",
    "driver.close()"
   ]
  },
  {
   "cell_type": "code",
   "execution_count": 16,
   "metadata": {},
   "outputs": [
    {
     "name": "stdout",
     "output_type": "stream",
     "text": [
      "Paul Atreides is the son of Duke Leto Atreides and the Lady Jessica. He is the heir of House Atreides, an aristocratic family that rules the planet Caladan.\n"
     ]
    }
   ],
   "source": [
    "from neo4j import GraphDatabase\n",
    "from neo4j_graphrag.embeddings import OpenAIEmbeddings\n",
    "from neo4j_graphrag.generation import GraphRAG\n",
    "from neo4j_graphrag.llm import OpenAILLM\n",
    "from neo4j_graphrag.retrievers import VectorRetriever\n",
    "\n",
    "NEO4J_URI = \"neo4j://localhost:7687\"\n",
    "NEO4J_USERNAME = \"neo4j\"\n",
    "NEO4J_PASSWORD = \"password\"\n",
    "INDEX_NAME = \"vector-index-name\"\n",
    "\n",
    "# Connect to the Neo4j database\n",
    "driver = GraphDatabase.driver(NEO4J_URI, auth=(NEO4J_USERNAME, NEO4J_PASSWORD))\n",
    "\n",
    "# Create an Embedder object\n",
    "embedder = OpenAIEmbeddings(model=\"text-embedding-3-large\")\n",
    "\n",
    "# Initialize the retriever\n",
    "retriever = VectorRetriever(driver, INDEX_NAME, embedder)\n",
    "\n",
    "# Instantiate the LLM\n",
    "llm = OpenAILLM(model_name=\"gpt-4o\", model_params={\"temperature\": 0})\n",
    "\n",
    "# Instantiate the RAG pipeline\n",
    "rag = GraphRAG(retriever=retriever, llm=llm)\n",
    "\n",
    "# Query the graph\n",
    "query_text = \"Who is Paul Atreides?\"\n",
    "response = rag.search(query_text=query_text, retriever_config={\"top_k\": 5})\n",
    "print(response.answer)\n",
    "driver.close()"
   ]
  }
 ],
 "metadata": {
  "kernelspec": {
   "display_name": "yomap",
   "language": "python",
   "name": "python3"
  },
  "language_info": {
   "codemirror_mode": {
    "name": "ipython",
    "version": 3
   },
   "file_extension": ".py",
   "mimetype": "text/x-python",
   "name": "python",
   "nbconvert_exporter": "python",
   "pygments_lexer": "ipython3",
   "version": "3.10.0"
  }
 },
 "nbformat": 4,
 "nbformat_minor": 2
}
