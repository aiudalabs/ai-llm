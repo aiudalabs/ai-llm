{
 "cells": [
  {
   "cell_type": "markdown",
   "metadata": {},
   "source": [
    "**Table of contents**<a id='toc0_'></a>    \n",
    "- [Install the required libraries](#toc1_)    \n",
    "- [Import libraries](#toc2_)    \n",
    "- [Connect to Firebase using Service Account](#toc3_)    \n",
    "- [Queries](#toc4_)    \n",
    "\n",
    "<!-- vscode-jupyter-toc-config\n",
    "\tnumbering=false\n",
    "\tanchor=true\n",
    "\tflat=false\n",
    "\tminLevel=1\n",
    "\tmaxLevel=6\n",
    "\t/vscode-jupyter-toc-config -->\n",
    "<!-- THIS CELL WILL BE REPLACED ON TOC UPDATE. DO NOT WRITE YOUR TEXT IN THIS CELL -->"
   ]
  },
  {
   "cell_type": "markdown",
   "metadata": {},
   "source": [
    "# <a id='toc1_'></a>[Install the required libraries](#toc0_)\n",
    "\n",
    "```bash\n",
    "!pip install --upgrade firebase-admin\n",
    "```"
   ]
  },
  {
   "cell_type": "markdown",
   "metadata": {},
   "source": [
    "# <a id='toc2_'></a>[Import libraries](#toc0_)"
   ]
  },
  {
   "cell_type": "code",
   "execution_count": 2,
   "metadata": {},
   "outputs": [],
   "source": [
    "import firebase_admin\n",
    "from firebase_admin import credentials\n",
    "from firebase_admin import firestore\n",
    "from google.cloud.firestore_v1.base_query import FieldFilter"
   ]
  },
  {
   "cell_type": "markdown",
   "metadata": {},
   "source": [
    "# <a id='toc3_'></a>[Connect to Firebase using Service Account](#toc0_)"
   ]
  },
  {
   "cell_type": "code",
   "execution_count": null,
   "metadata": {},
   "outputs": [],
   "source": [
    "# Use a service account.\n",
    "cred = credentials.Certificate(\"aiuda-ffc77-1f6910e96817.json\")\n",
    "\n",
    "app = firebase_admin.initialize_app(cred)\n",
    "\n",
    "db = firestore.client()"
   ]
  },
  {
   "cell_type": "markdown",
   "metadata": {},
   "source": [
    "# <a id='toc4_'></a>[Queries](#toc0_)"
   ]
  },
  {
   "cell_type": "code",
   "execution_count": 3,
   "metadata": {},
   "outputs": [
    {
     "name": "stdout",
     "output_type": "stream",
     "text": [
      "{'active': True, 'rating': 3, 'tags': ['Entregas', 'Medicinas', 'Encargos'], 'imageURL': 'https://firebasestorage.googleapis.com/v0/b/aiuda-ffc77.appspot.com/o/categories%2Fcasual-life-3d-side-view-of-delivery-man-standing-with-bicycle-and-looking-at-the-phone.png?alt=media&token=6dd3392e-5fd1-4b2d-a93e-23a6dc1700b3', 'name': 'Delivery'}\n",
      "{'rating': 4.5, 'active': True, 'tags': ['Limpieza', 'Pintor', 'Albañil', 'Plomero', 'Electricista'], 'imageURL': 'https://firebasestorage.googleapis.com/v0/b/aiuda-ffc77.appspot.com/o/categories%2Fhandyman.jpeg?alt=media&token=927eee83-9e54-450f-9b51-70155028f02b', 'name': 'Hogar'}\n",
      "{'rating': 5, 'active': True, 'tags': ['Autos', 'Motos', 'Electronica', 'Bicicletas', 'Aires Acondicionados'], 'imageURL': 'https://firebasestorage.googleapis.com/v0/b/aiuda-ffc77.appspot.com/o/categories%2F1024.png?alt=media&token=922cd380-5a90-498e-a262-58f57648229d', 'name': 'Mecanico'}\n",
      "{'active': True, 'rating': 4, 'tags': ['Computadoras'], 'imageURL': 'https://www.muycanal.com/wp-content/uploads/2013/06/reparaciones_electronicas.jpg', 'name': 'Reparaciones'}\n",
      "{'active': True, 'rating': 5, 'tags': ['Enfermera', 'Ciudado Adulto Mayor', 'Medico a Domicilio'], 'imageURL': 'https://firebasestorage.googleapis.com/v0/b/aiuda-ffc77.appspot.com/o/categories%2Fsalud.jpeg?alt=media&token=f414a6e4-caa6-4676-a77c-e435aab9e731', 'name': 'Salud'}\n",
      "{'active': True, 'rating': 4.2, 'tags': ['Estilista', 'Manicuri', 'Depilación', 'Maquillaje', 'Masajista'], 'imageURL': 'https://firebasestorage.googleapis.com/v0/b/aiuda-ffc77.appspot.com/o/categories%2Fspa.jpeg?alt=media&token=060ecbd7-9c6c-4d23-9f5b-9896eaa59323', 'name': 'SPA'}\n",
      "{'rating': 3.8, 'active': True, 'tags': ['Mudanzas', 'Acarreos', 'Taxi', 'Excursiones', 'Escolares'], 'imageURL': 'https://firebasestorage.googleapis.com/v0/b/aiuda-ffc77.appspot.com/o/categories%2Ficons8-taxi-64.png?alt=media&token=4e49392d-bf1e-4ad0-9e66-0bbd4dd73655', 'name': 'Transporte'}\n"
     ]
    }
   ],
   "source": [
    "categories = db.collection(\"categories\")\n",
    "docs = categories.stream()\n",
    "\n",
    "for doc in docs:\n",
    "    print(doc.to_dict())"
   ]
  },
  {
   "cell_type": "markdown",
   "metadata": {},
   "source": [
    "# LLM in Action\n",
    "\n",
    "## Create a tool to connect to firebase"
   ]
  },
  {
   "cell_type": "code",
   "execution_count": 7,
   "metadata": {},
   "outputs": [],
   "source": [
    "from dotenv import load_dotenv\n",
    "import os\n",
    "\n",
    "load_dotenv()  # take environment variables from .env.\n",
    "\n",
    "api_key = os.getenv(\"OPENAI_API_KEY\")"
   ]
  },
  {
   "cell_type": "code",
   "execution_count": 9,
   "metadata": {},
   "outputs": [],
   "source": [
    "from langchain.llms import OpenAI\n",
    "from langchain_openai import ChatOpenAI\n",
    "from langchain.tools import BaseTool, StructuredTool, Tool, tool\n",
    "from langchain.agents import load_tools, initialize_agent, AgentType"
   ]
  },
  {
   "cell_type": "code",
   "execution_count": 10,
   "metadata": {},
   "outputs": [],
   "source": [
    "llm = ChatOpenAI(openai_api_key=api_key)"
   ]
  },
  {
   "cell_type": "code",
   "execution_count": 25,
   "metadata": {},
   "outputs": [],
   "source": [
    "tools = []\n",
    "\n",
    "desc = (\n",
    "    \"use this tool when a user ask for a categories \"\n",
    "    \"It will return the user profile in JSON format.\"\n",
    "\n",
    ")\n",
    "\n",
    "\n",
    "class ServiceProvider(BaseTool):\n",
    "    name = \"Categories\"\n",
    "    description = desc\n",
    "\n",
    "    def _run(self, service: str):\n",
    "        users_ref = db.collection('categories').where(filter=FieldFilter(\n",
    "            \"active\", \"==\", True)).where(filter=FieldFilter(\"rating\", \">=\", 3))\n",
    "        docs = users_ref.stream()\n",
    "\n",
    "        providers = []\n",
    "        for doc in docs:\n",
    "            print(f'{doc.id} => {doc.to_dict()[\"name\"]}')\n",
    "            providers.append(doc.to_dict()[\"name\"])\n",
    "        return providers\n",
    "\n",
    "    def _arun(self, query: str):\n",
    "        raise NotImplementedError(\"This tool does not support async\")\n",
    "\n",
    "\n",
    "tools.append(ServiceProvider())"
   ]
  },
  {
   "cell_type": "code",
   "execution_count": 26,
   "metadata": {},
   "outputs": [],
   "source": [
    "from langchain.chains.conversation.memory import ConversationBufferWindowMemory\n",
    "\n",
    "# initialize conversational memory\n",
    "conversational_memory = ConversationBufferWindowMemory(\n",
    "    memory_key='chat_history',\n",
    "    k=1,\n",
    "    return_messages=True\n",
    ")"
   ]
  },
  {
   "cell_type": "code",
   "execution_count": 27,
   "metadata": {},
   "outputs": [],
   "source": [
    "# initialize agent with tools\n",
    "agent = initialize_agent(\n",
    "    agent=\"chat-conversational-react-description\",\n",
    "    tools=tools,\n",
    "    llm=llm,\n",
    "    verbose=True,\n",
    "    max_iterations=3,\n",
    "    early_stopping_method=\"generate\",\n",
    "    memory=conversational_memory,\n",
    ")"
   ]
  },
  {
   "cell_type": "code",
   "execution_count": 28,
   "metadata": {},
   "outputs": [
    {
     "name": "stdout",
     "output_type": "stream",
     "text": [
      "\n",
      "\n",
      "\u001b[1m> Entering new AgentExecutor chain...\u001b[0m\n",
      "\u001b[32;1m\u001b[1;3m```json\n",
      "{\n",
      "    \"action\": \"Categories\",\n",
      "    \"action_input\": \"Puedes buscar las categorias disponibles?\"\n",
      "}\n",
      "```\u001b[0mdelivery => Delivery\n",
      "transporte => Transporte\n",
      "reparaciones => Reparaciones\n",
      "spa => SPA\n",
      "hogar => Hogar\n",
      "mecanico => Mecanico\n",
      "salud => Salud\n",
      "\n",
      "Observation: \u001b[36;1m\u001b[1;3m['Delivery', 'Transporte', 'Reparaciones', 'SPA', 'Hogar', 'Mecanico', 'Salud']\u001b[0m\n",
      "Thought:\u001b[32;1m\u001b[1;3m```json\n",
      "{\n",
      "    \"action\": \"Final Answer\",\n",
      "    \"action_input\": \"['Delivery', 'Transporte', 'Reparaciones', 'SPA', 'Hogar', 'Mecanico', 'Salud']\"\n",
      "}\n",
      "```\u001b[0m\n",
      "\n",
      "\u001b[1m> Finished chain.\u001b[0m\n"
     ]
    },
    {
     "data": {
      "text/plain": [
       "{'input': 'Puedes buscar las categorias disponibles?     Por favor, devuelveme la respuesta en español',\n",
       " 'chat_history': [],\n",
       " 'output': \"['Delivery', 'Transporte', 'Reparaciones', 'SPA', 'Hogar', 'Mecanico', 'Salud']\"}"
      ]
     },
     "execution_count": 28,
     "metadata": {},
     "output_type": "execute_result"
    }
   ],
   "source": [
    "agent(\n",
    "    \"Puedes buscar las categorias disponibles? \\\n",
    "    Por favor, devuelveme la respuesta en español\"\n",
    ")"
   ]
  },
  {
   "cell_type": "code",
   "execution_count": null,
   "metadata": {},
   "outputs": [],
   "source": []
  }
 ],
 "metadata": {
  "kernelspec": {
   "display_name": "llm",
   "language": "python",
   "name": "python3"
  },
  "language_info": {
   "codemirror_mode": {
    "name": "ipython",
    "version": 3
   },
   "file_extension": ".py",
   "mimetype": "text/x-python",
   "name": "python",
   "nbconvert_exporter": "python",
   "pygments_lexer": "ipython3",
   "version": "3.9.19"
  }
 },
 "nbformat": 4,
 "nbformat_minor": 2
}
