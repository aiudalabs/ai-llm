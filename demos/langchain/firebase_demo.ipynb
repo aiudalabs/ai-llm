{
 "cells": [
  {
   "cell_type": "markdown",
   "metadata": {},
   "source": [
    "**Table of contents**<a id='toc0_'></a>    \n",
    "- [Install the required libraries](#toc1_)    \n",
    "- [Import libraries](#toc2_)    \n",
    "- [Connect to Firebase using Service Account](#toc3_)    \n",
    "- [Queries](#toc4_)    \n",
    "\n",
    "<!-- vscode-jupyter-toc-config\n",
    "\tnumbering=false\n",
    "\tanchor=true\n",
    "\tflat=false\n",
    "\tminLevel=1\n",
    "\tmaxLevel=6\n",
    "\t/vscode-jupyter-toc-config -->\n",
    "<!-- THIS CELL WILL BE REPLACED ON TOC UPDATE. DO NOT WRITE YOUR TEXT IN THIS CELL -->"
   ]
  },
  {
   "cell_type": "markdown",
   "metadata": {},
   "source": [
    "# <a id='toc1_'></a>[Install the required libraries](#toc0_)\n",
    "\n",
    "```bash\n",
    "!pip install --upgrade firebase-admin\n",
    "```"
   ]
  },
  {
   "cell_type": "code",
   "execution_count": 2,
   "metadata": {},
   "outputs": [
    {
     "name": "stdout",
     "output_type": "stream",
     "text": [
      "Collecting firebase-admin\n",
      "  Downloading firebase_admin-6.5.0-py3-none-any.whl.metadata (1.5 kB)\n",
      "Collecting cachecontrol>=0.12.6 (from firebase-admin)\n",
      "  Downloading cachecontrol-0.14.0-py3-none-any.whl.metadata (3.1 kB)\n",
      "Collecting google-api-python-client>=1.7.8 (from firebase-admin)\n",
      "  Downloading google_api_python_client-2.133.0-py2.py3-none-any.whl.metadata (6.7 kB)\n",
      "Collecting google-cloud-storage>=1.37.1 (from firebase-admin)\n",
      "  Downloading google_cloud_storage-2.17.0-py2.py3-none-any.whl.metadata (6.6 kB)\n",
      "Collecting pyjwt>=2.5.0 (from pyjwt[crypto]>=2.5.0->firebase-admin)\n",
      "  Downloading PyJWT-2.8.0-py3-none-any.whl.metadata (4.2 kB)\n",
      "Collecting google-api-core<3.0.0dev,>=1.22.1 (from google-api-core[grpc]<3.0.0dev,>=1.22.1; platform_python_implementation != \"PyPy\"->firebase-admin)\n",
      "  Downloading google_api_core-2.19.0-py3-none-any.whl.metadata (2.7 kB)\n",
      "Collecting google-cloud-firestore>=2.9.1 (from firebase-admin)\n",
      "  Downloading google_cloud_firestore-2.16.0-py2.py3-none-any.whl.metadata (5.7 kB)\n",
      "Collecting requests>=2.16.0 (from cachecontrol>=0.12.6->firebase-admin)\n",
      "  Downloading requests-2.32.3-py3-none-any.whl.metadata (4.6 kB)\n",
      "Collecting msgpack<2.0.0,>=0.5.2 (from cachecontrol>=0.12.6->firebase-admin)\n",
      "  Downloading msgpack-1.0.8-cp311-cp311-manylinux_2_17_x86_64.manylinux2014_x86_64.whl.metadata (9.1 kB)\n",
      "Collecting googleapis-common-protos<2.0.dev0,>=1.56.2 (from google-api-core<3.0.0dev,>=1.22.1->google-api-core[grpc]<3.0.0dev,>=1.22.1; platform_python_implementation != \"PyPy\"->firebase-admin)\n",
      "  Downloading googleapis_common_protos-1.63.1-py2.py3-none-any.whl.metadata (1.5 kB)\n",
      "Collecting protobuf!=3.20.0,!=3.20.1,!=4.21.0,!=4.21.1,!=4.21.2,!=4.21.3,!=4.21.4,!=4.21.5,<5.0.0.dev0,>=3.19.5 (from google-api-core<3.0.0dev,>=1.22.1->google-api-core[grpc]<3.0.0dev,>=1.22.1; platform_python_implementation != \"PyPy\"->firebase-admin)\n",
      "  Downloading protobuf-4.25.3-cp37-abi3-manylinux2014_x86_64.whl.metadata (541 bytes)\n",
      "Collecting proto-plus<2.0.0dev,>=1.22.3 (from google-api-core<3.0.0dev,>=1.22.1->google-api-core[grpc]<3.0.0dev,>=1.22.1; platform_python_implementation != \"PyPy\"->firebase-admin)\n",
      "  Downloading proto_plus-1.23.0-py3-none-any.whl.metadata (2.2 kB)\n",
      "Collecting google-auth<3.0.dev0,>=2.14.1 (from google-api-core<3.0.0dev,>=1.22.1->google-api-core[grpc]<3.0.0dev,>=1.22.1; platform_python_implementation != \"PyPy\"->firebase-admin)\n",
      "  Downloading google_auth-2.30.0-py2.py3-none-any.whl.metadata (4.7 kB)\n",
      "Collecting grpcio<2.0dev,>=1.33.2 (from google-api-core[grpc]<3.0.0dev,>=1.22.1; platform_python_implementation != \"PyPy\"->firebase-admin)\n",
      "  Downloading grpcio-1.64.1-cp311-cp311-manylinux_2_17_x86_64.manylinux2014_x86_64.whl.metadata (3.3 kB)\n",
      "Collecting grpcio-status<2.0.dev0,>=1.33.2 (from google-api-core[grpc]<3.0.0dev,>=1.22.1; platform_python_implementation != \"PyPy\"->firebase-admin)\n",
      "  Downloading grpcio_status-1.64.1-py3-none-any.whl.metadata (1.1 kB)\n",
      "Collecting httplib2<1.dev0,>=0.19.0 (from google-api-python-client>=1.7.8->firebase-admin)\n",
      "  Downloading httplib2-0.22.0-py3-none-any.whl.metadata (2.6 kB)\n",
      "Collecting google-auth-httplib2<1.0.0,>=0.2.0 (from google-api-python-client>=1.7.8->firebase-admin)\n",
      "  Downloading google_auth_httplib2-0.2.0-py2.py3-none-any.whl.metadata (2.2 kB)\n",
      "Collecting uritemplate<5,>=3.0.1 (from google-api-python-client>=1.7.8->firebase-admin)\n",
      "  Downloading uritemplate-4.1.1-py2.py3-none-any.whl.metadata (2.9 kB)\n",
      "Collecting google-cloud-core<3.0.0dev,>=1.4.1 (from google-cloud-firestore>=2.9.1->firebase-admin)\n",
      "  Downloading google_cloud_core-2.4.1-py2.py3-none-any.whl.metadata (2.7 kB)\n",
      "Collecting google-resumable-media>=2.6.0 (from google-cloud-storage>=1.37.1->firebase-admin)\n",
      "  Downloading google_resumable_media-2.7.1-py2.py3-none-any.whl.metadata (2.2 kB)\n",
      "Collecting google-crc32c<2.0dev,>=1.0 (from google-cloud-storage>=1.37.1->firebase-admin)\n",
      "  Downloading google_crc32c-1.5.0-cp311-cp311-manylinux_2_17_x86_64.manylinux2014_x86_64.whl.metadata (2.3 kB)\n",
      "Collecting cryptography>=3.4.0 (from pyjwt[crypto]>=2.5.0->firebase-admin)\n",
      "  Downloading cryptography-42.0.8-cp39-abi3-manylinux_2_28_x86_64.whl.metadata (5.3 kB)\n",
      "Collecting cffi>=1.12 (from cryptography>=3.4.0->pyjwt[crypto]>=2.5.0->firebase-admin)\n",
      "  Downloading cffi-1.16.0-cp311-cp311-manylinux_2_17_x86_64.manylinux2014_x86_64.whl.metadata (1.5 kB)\n",
      "Collecting cachetools<6.0,>=2.0.0 (from google-auth<3.0.dev0,>=2.14.1->google-api-core<3.0.0dev,>=1.22.1->google-api-core[grpc]<3.0.0dev,>=1.22.1; platform_python_implementation != \"PyPy\"->firebase-admin)\n",
      "  Downloading cachetools-5.3.3-py3-none-any.whl.metadata (5.3 kB)\n",
      "Collecting pyasn1-modules>=0.2.1 (from google-auth<3.0.dev0,>=2.14.1->google-api-core<3.0.0dev,>=1.22.1->google-api-core[grpc]<3.0.0dev,>=1.22.1; platform_python_implementation != \"PyPy\"->firebase-admin)\n",
      "  Downloading pyasn1_modules-0.4.0-py3-none-any.whl.metadata (3.4 kB)\n",
      "Collecting rsa<5,>=3.1.4 (from google-auth<3.0.dev0,>=2.14.1->google-api-core<3.0.0dev,>=1.22.1->google-api-core[grpc]<3.0.0dev,>=1.22.1; platform_python_implementation != \"PyPy\"->firebase-admin)\n",
      "  Downloading rsa-4.9-py3-none-any.whl.metadata (4.2 kB)\n",
      "INFO: pip is looking at multiple versions of grpcio-status to determine which version is compatible with other requirements. This could take a while.\n",
      "Collecting grpcio-status<2.0.dev0,>=1.33.2 (from google-api-core[grpc]<3.0.0dev,>=1.22.1; platform_python_implementation != \"PyPy\"->firebase-admin)\n",
      "  Downloading grpcio_status-1.64.0-py3-none-any.whl.metadata (1.1 kB)\n",
      "  Downloading grpcio_status-1.63.0-py3-none-any.whl.metadata (1.1 kB)\n",
      "  Downloading grpcio_status-1.62.2-py3-none-any.whl.metadata (1.3 kB)\n",
      "Collecting pyparsing!=3.0.0,!=3.0.1,!=3.0.2,!=3.0.3,<4,>=2.4.2 (from httplib2<1.dev0,>=0.19.0->google-api-python-client>=1.7.8->firebase-admin)\n",
      "  Downloading pyparsing-3.1.2-py3-none-any.whl.metadata (5.1 kB)\n",
      "Collecting charset-normalizer<4,>=2 (from requests>=2.16.0->cachecontrol>=0.12.6->firebase-admin)\n",
      "  Downloading charset_normalizer-3.3.2-cp311-cp311-manylinux_2_17_x86_64.manylinux2014_x86_64.whl.metadata (33 kB)\n",
      "Collecting idna<4,>=2.5 (from requests>=2.16.0->cachecontrol>=0.12.6->firebase-admin)\n",
      "  Downloading idna-3.7-py3-none-any.whl.metadata (9.9 kB)\n",
      "Collecting urllib3<3,>=1.21.1 (from requests>=2.16.0->cachecontrol>=0.12.6->firebase-admin)\n",
      "  Downloading urllib3-2.2.1-py3-none-any.whl.metadata (6.4 kB)\n",
      "Collecting certifi>=2017.4.17 (from requests>=2.16.0->cachecontrol>=0.12.6->firebase-admin)\n",
      "  Downloading certifi-2024.6.2-py3-none-any.whl.metadata (2.2 kB)\n",
      "Collecting pycparser (from cffi>=1.12->cryptography>=3.4.0->pyjwt[crypto]>=2.5.0->firebase-admin)\n",
      "  Downloading pycparser-2.22-py3-none-any.whl.metadata (943 bytes)\n",
      "Collecting pyasn1<0.7.0,>=0.4.6 (from pyasn1-modules>=0.2.1->google-auth<3.0.dev0,>=2.14.1->google-api-core<3.0.0dev,>=1.22.1->google-api-core[grpc]<3.0.0dev,>=1.22.1; platform_python_implementation != \"PyPy\"->firebase-admin)\n",
      "  Downloading pyasn1-0.6.0-py2.py3-none-any.whl.metadata (8.3 kB)\n",
      "Downloading firebase_admin-6.5.0-py3-none-any.whl (126 kB)\n",
      "\u001b[2K   \u001b[90m━━━━━━━━━━━━━━━━━━━━━━━━━━━━━━━━━━━━━━━\u001b[0m \u001b[32m126.3/126.3 kB\u001b[0m \u001b[31m685.3 kB/s\u001b[0m eta \u001b[36m0:00:00\u001b[0ma \u001b[36m0:00:01\u001b[0m\n",
      "\u001b[?25hDownloading cachecontrol-0.14.0-py3-none-any.whl (22 kB)\n",
      "Downloading google_api_core-2.19.0-py3-none-any.whl (139 kB)\n",
      "\u001b[2K   \u001b[90m━━━━━━━━━━━━━━━━━━━━━━━━━━━━━━━━━━━━━━━━\u001b[0m \u001b[32m139.0/139.0 kB\u001b[0m \u001b[31m2.1 MB/s\u001b[0m eta \u001b[36m0:00:00\u001b[0m \u001b[36m0:00:01\u001b[0m\n",
      "\u001b[?25hDownloading google_api_python_client-2.133.0-py2.py3-none-any.whl (11.8 MB)\n",
      "\u001b[2K   \u001b[90m━━━━━━━━━━━━━━━━━━━━━━━━━━━━━━━━━━━━━━━━\u001b[0m \u001b[32m11.8/11.8 MB\u001b[0m \u001b[31m4.0 MB/s\u001b[0m eta \u001b[36m0:00:00\u001b[0m00:01\u001b[0m00:01\u001b[0m\n",
      "\u001b[?25hDownloading google_cloud_firestore-2.16.0-py2.py3-none-any.whl (317 kB)\n",
      "\u001b[2K   \u001b[90m━━━━━━━━━━━━━━━━━━━━━━━━━━━━━━━━━━━━━━━━\u001b[0m \u001b[32m317.4/317.4 kB\u001b[0m \u001b[31m5.4 MB/s\u001b[0m eta \u001b[36m0:00:00\u001b[0ma \u001b[36m0:00:01\u001b[0m\n",
      "\u001b[?25hDownloading google_cloud_storage-2.17.0-py2.py3-none-any.whl (126 kB)\n",
      "\u001b[2K   \u001b[90m━━━━━━━━━━━━━━━━━━━━━━━━━━━━━━━━━━━━━━━━\u001b[0m \u001b[32m126.5/126.5 kB\u001b[0m \u001b[31m5.3 MB/s\u001b[0m eta \u001b[36m0:00:00\u001b[0m\n",
      "\u001b[?25hDownloading PyJWT-2.8.0-py3-none-any.whl (22 kB)\n",
      "Downloading cryptography-42.0.8-cp39-abi3-manylinux_2_28_x86_64.whl (3.9 MB)\n",
      "\u001b[2K   \u001b[90m━━━━━━━━━━━━━━━━━━━━━━━━━━━━━━━━━━━━━━━━\u001b[0m \u001b[32m3.9/3.9 MB\u001b[0m \u001b[31m4.6 MB/s\u001b[0m eta \u001b[36m0:00:00\u001b[0m00:01\u001b[0m00:01\u001b[0m\n",
      "\u001b[?25hDownloading google_auth-2.30.0-py2.py3-none-any.whl (193 kB)\n",
      "\u001b[2K   \u001b[90m━━━━━━━━━━━━━━━━━━━━━━━━━━━━━━━━━━━━━━━━\u001b[0m \u001b[32m193.7/193.7 kB\u001b[0m \u001b[31m5.6 MB/s\u001b[0m eta \u001b[36m0:00:00\u001b[0m\n",
      "\u001b[?25hDownloading google_auth_httplib2-0.2.0-py2.py3-none-any.whl (9.3 kB)\n",
      "Downloading google_cloud_core-2.4.1-py2.py3-none-any.whl (29 kB)\n",
      "Downloading google_crc32c-1.5.0-cp311-cp311-manylinux_2_17_x86_64.manylinux2014_x86_64.whl (32 kB)\n",
      "Downloading google_resumable_media-2.7.1-py2.py3-none-any.whl (81 kB)\n",
      "\u001b[2K   \u001b[90m━━━━━━━━━━━━━━━━━━━━━━━━━━━━━━━━━━━━━━━━\u001b[0m \u001b[32m81.2/81.2 kB\u001b[0m \u001b[31m7.0 MB/s\u001b[0m eta \u001b[36m0:00:00\u001b[0m\n",
      "\u001b[?25hDownloading googleapis_common_protos-1.63.1-py2.py3-none-any.whl (229 kB)\n",
      "\u001b[2K   \u001b[90m━━━━━━━━━━━━━━━━━━━━━━━━━━━━━━━━━━━━━━━━\u001b[0m \u001b[32m229.2/229.2 kB\u001b[0m \u001b[31m8.2 MB/s\u001b[0m eta \u001b[36m0:00:00\u001b[0m\n",
      "\u001b[?25hDownloading grpcio-1.64.1-cp311-cp311-manylinux_2_17_x86_64.manylinux2014_x86_64.whl (5.6 MB)\n",
      "\u001b[2K   \u001b[90m━━━━━━━━━━━━━━━━━━━━━━━━━━━━━━━━━━━━━━━━\u001b[0m \u001b[32m5.6/5.6 MB\u001b[0m \u001b[31m9.0 MB/s\u001b[0m eta \u001b[36m0:00:00\u001b[0m00:01\u001b[0mm00:01\u001b[0m\n",
      "\u001b[?25hDownloading grpcio_status-1.62.2-py3-none-any.whl (14 kB)\n",
      "Downloading httplib2-0.22.0-py3-none-any.whl (96 kB)\n",
      "\u001b[2K   \u001b[90m━━━━━━━━━━━━━━━━━━━━━━━━━━━━━━━━━━━━━━━━\u001b[0m \u001b[32m96.9/96.9 kB\u001b[0m \u001b[31m5.5 MB/s\u001b[0m eta \u001b[36m0:00:00\u001b[0m\n",
      "\u001b[?25hDownloading msgpack-1.0.8-cp311-cp311-manylinux_2_17_x86_64.manylinux2014_x86_64.whl (409 kB)\n",
      "\u001b[2K   \u001b[90m━━━━━━━━━━━━━━━━━━━━━━━━━━━━━━━━━━━━━━━━\u001b[0m \u001b[32m409.3/409.3 kB\u001b[0m \u001b[31m7.0 MB/s\u001b[0m eta \u001b[36m0:00:00\u001b[0ma \u001b[36m0:00:01\u001b[0m\n",
      "\u001b[?25hDownloading proto_plus-1.23.0-py3-none-any.whl (48 kB)\n",
      "\u001b[2K   \u001b[90m━━━━━━━━━━━━━━━━━━━━━━━━━━━━━━━━━━━━━━━━\u001b[0m \u001b[32m48.8/48.8 kB\u001b[0m \u001b[31m3.8 MB/s\u001b[0m eta \u001b[36m0:00:00\u001b[0m\n",
      "\u001b[?25hDownloading protobuf-4.25.3-cp37-abi3-manylinux2014_x86_64.whl (294 kB)\n",
      "\u001b[2K   \u001b[90m━━━━━━━━━━━━━━━━━━━━━━━━━━━━━━━━━━━━━━━━\u001b[0m \u001b[32m294.6/294.6 kB\u001b[0m \u001b[31m1.8 MB/s\u001b[0m eta \u001b[36m0:00:00\u001b[0ma \u001b[36m0:00:01\u001b[0m\n",
      "\u001b[?25hDownloading requests-2.32.3-py3-none-any.whl (64 kB)\n",
      "\u001b[2K   \u001b[90m━━━━━━━━━━━━━━━━━━━━━━━━━━━━━━━━━━━━━━━━\u001b[0m \u001b[32m64.9/64.9 kB\u001b[0m \u001b[31m2.1 MB/s\u001b[0m eta \u001b[36m0:00:00\u001b[0m\n",
      "\u001b[?25hDownloading uritemplate-4.1.1-py2.py3-none-any.whl (10 kB)\n",
      "Downloading cachetools-5.3.3-py3-none-any.whl (9.3 kB)\n",
      "Downloading certifi-2024.6.2-py3-none-any.whl (164 kB)\n",
      "\u001b[2K   \u001b[90m━━━━━━━━━━━━━━━━━━━━━━━━━━━━━━━━━━━━━━━━\u001b[0m \u001b[32m164.4/164.4 kB\u001b[0m \u001b[31m3.7 MB/s\u001b[0m eta \u001b[36m0:00:00\u001b[0m00:01\u001b[0m\n",
      "\u001b[?25hDownloading cffi-1.16.0-cp311-cp311-manylinux_2_17_x86_64.manylinux2014_x86_64.whl (464 kB)\n",
      "\u001b[2K   \u001b[90m━━━━━━━━━━━━━━━━━━━━━━━━━━━━━━━━━━━━━━━━\u001b[0m \u001b[32m464.8/464.8 kB\u001b[0m \u001b[31m4.7 MB/s\u001b[0m eta \u001b[36m0:00:00\u001b[0ma \u001b[36m0:00:01\u001b[0m\n",
      "\u001b[?25hDownloading charset_normalizer-3.3.2-cp311-cp311-manylinux_2_17_x86_64.manylinux2014_x86_64.whl (140 kB)\n",
      "\u001b[2K   \u001b[90m━━━━━━━━━━━━━━━━━━━━━━━━━━━━━━━━━━━━━━━━\u001b[0m \u001b[32m140.3/140.3 kB\u001b[0m \u001b[31m3.0 MB/s\u001b[0m eta \u001b[36m0:00:00\u001b[0ma \u001b[36m0:00:01\u001b[0m\n",
      "\u001b[?25hDownloading idna-3.7-py3-none-any.whl (66 kB)\n",
      "\u001b[2K   \u001b[90m━━━━━━━━━━━━━━━━━━━━━━━━━━━━━━━━━━━━━━━━\u001b[0m \u001b[32m66.8/66.8 kB\u001b[0m \u001b[31m7.2 MB/s\u001b[0m eta \u001b[36m0:00:00\u001b[0m\n",
      "\u001b[?25hDownloading pyasn1_modules-0.4.0-py3-none-any.whl (181 kB)\n",
      "\u001b[2K   \u001b[90m━━━━━━━━━━━━━━━━━━━━━━━━━━━━━━━━━━━━━━━━\u001b[0m \u001b[32m181.2/181.2 kB\u001b[0m \u001b[31m4.7 MB/s\u001b[0m eta \u001b[36m0:00:00\u001b[0ma \u001b[36m0:00:01\u001b[0m\n",
      "\u001b[?25hDownloading pyparsing-3.1.2-py3-none-any.whl (103 kB)\n",
      "\u001b[2K   \u001b[90m━━━━━━━━━━━━━━━━━━━━━━━━━━━━━━━━━━━━━━━━\u001b[0m \u001b[32m103.2/103.2 kB\u001b[0m \u001b[31m5.6 MB/s\u001b[0m eta \u001b[36m0:00:00\u001b[0m\n",
      "\u001b[?25hDownloading rsa-4.9-py3-none-any.whl (34 kB)\n",
      "Downloading urllib3-2.2.1-py3-none-any.whl (121 kB)\n",
      "\u001b[2K   \u001b[90m━━━━━━━━━━━━━━━━━━━━━━━━━━━━━━━━━━━━━━━━\u001b[0m \u001b[32m121.1/121.1 kB\u001b[0m \u001b[31m5.1 MB/s\u001b[0m eta \u001b[36m0:00:00\u001b[0m\n",
      "\u001b[?25hDownloading pyasn1-0.6.0-py2.py3-none-any.whl (85 kB)\n",
      "\u001b[2K   \u001b[90m━━━━━━━━━━━━━━━━━━━━━━━━━━━━━━━━━━━━━━━━\u001b[0m \u001b[32m85.3/85.3 kB\u001b[0m \u001b[31m4.9 MB/s\u001b[0m eta \u001b[36m0:00:00\u001b[0m\n",
      "\u001b[?25hDownloading pycparser-2.22-py3-none-any.whl (117 kB)\n",
      "\u001b[2K   \u001b[90m━━━━━━━━━━━━━━━━━━━━━━━━━━━━━━━━━━━━━━━━\u001b[0m \u001b[32m117.6/117.6 kB\u001b[0m \u001b[31m6.1 MB/s\u001b[0m eta \u001b[36m0:00:00\u001b[0m\n",
      "\u001b[?25hInstalling collected packages: urllib3, uritemplate, pyparsing, pyjwt, pycparser, pyasn1, protobuf, msgpack, idna, grpcio, google-crc32c, charset-normalizer, certifi, cachetools, rsa, requests, pyasn1-modules, proto-plus, httplib2, googleapis-common-protos, google-resumable-media, cffi, grpcio-status, google-auth, cryptography, cachecontrol, google-auth-httplib2, google-api-core, google-cloud-core, google-api-python-client, google-cloud-storage, google-cloud-firestore, firebase-admin\n",
      "Successfully installed cachecontrol-0.14.0 cachetools-5.3.3 certifi-2024.6.2 cffi-1.16.0 charset-normalizer-3.3.2 cryptography-42.0.8 firebase-admin-6.5.0 google-api-core-2.19.0 google-api-python-client-2.133.0 google-auth-2.30.0 google-auth-httplib2-0.2.0 google-cloud-core-2.4.1 google-cloud-firestore-2.16.0 google-cloud-storage-2.17.0 google-crc32c-1.5.0 google-resumable-media-2.7.1 googleapis-common-protos-1.63.1 grpcio-1.64.1 grpcio-status-1.62.2 httplib2-0.22.0 idna-3.7 msgpack-1.0.8 proto-plus-1.23.0 protobuf-4.25.3 pyasn1-0.6.0 pyasn1-modules-0.4.0 pycparser-2.22 pyjwt-2.8.0 pyparsing-3.1.2 requests-2.32.3 rsa-4.9 uritemplate-4.1.1 urllib3-2.2.1\n"
     ]
    }
   ],
   "source": [
    "!pip install --upgrade firebase-admin"
   ]
  },
  {
   "cell_type": "markdown",
   "metadata": {},
   "source": [
    "# <a id='toc2_'></a>[Import libraries](#toc0_)"
   ]
  },
  {
   "cell_type": "code",
   "execution_count": 1,
   "metadata": {},
   "outputs": [],
   "source": [
    "import firebase_admin\n",
    "from firebase_admin import credentials\n",
    "from firebase_admin import firestore\n",
    "from google.cloud.firestore_v1.base_query import FieldFilter"
   ]
  },
  {
   "cell_type": "markdown",
   "metadata": {},
   "source": [
    "# <a id='toc3_'></a>[Connect to Firebase using Service Account](#toc0_)"
   ]
  },
  {
   "cell_type": "code",
   "execution_count": 2,
   "metadata": {},
   "outputs": [],
   "source": [
    "# Use a service account.\n",
    "cred = credentials.Certificate(\"goblob-95e2a-1e236e39de6c.json\")\n",
    "\n",
    "app = firebase_admin.initialize_app(cred)\n",
    "\n",
    "db = firestore.client()"
   ]
  },
  {
   "cell_type": "markdown",
   "metadata": {},
   "source": [
    "# <a id='toc4_'></a>[Queries](#toc0_)"
   ]
  },
  {
   "cell_type": "code",
   "execution_count": 4,
   "metadata": {},
   "outputs": [
    {
     "name": "stdout",
     "output_type": "stream",
     "text": [
      "{'text': 'misc', 'text_es': 'otros', 'slug': 'misc', 'isService': True, 'parentSlug': '', 'usedBy': 9, 'parentId': '', 'weight': 0}\n",
      "{'text': 'cerrajeria', 'slug': 'cerrajeria', 'parentSlug': 'repair', 'usedBy': 1, 'parentId': 'PfhQ5p3is5osNJsFIZvv', 'weight': 0}\n",
      "{'text': 'piano', 'slug': 'piano', 'parentSlug': 'user', 'usedBy': 1, 'parentId': 'pf8IUMBw9rVBMGHoHdYw', 'weight': 0}\n",
      "{'text': 'cabello', 'slug': 'cabello', 'parentSlug': 'spa', 'usedBy': 0, 'parentId': 'jNDxsch7qIDIubx39R1K', 'weight': 0}\n",
      "{'text': 'bateria', 'slug': 'bateria', 'parentSlug': 'user', 'usedBy': 0, 'parentId': 'pf8IUMBw9rVBMGHoHdYw', 'weight': 0}\n",
      "{'text': 'french_food', 'slug': 'french_food', 'parentSlug': 'food', 'usedBy': 0, 'parentId': 'MhMxZZfJs52GU7pA1v4O', 'weight': 0}\n",
      "{'text': 'body_treatments', 'slug': 'body_treatments', 'parentSlug': 'spa', 'usedBy': 0, 'parentId': 'jNDxsch7qIDIubx39R1K', 'weight': 0}\n",
      "{'text': '8_56_hierro', 'slug': '8_56_hierro', 'parentSlug': 'home', 'usedBy': 1, 'parentId': '5QOMIURL9xYnZgPWSSIp', 'weight': 0}\n",
      "{'text': 'turistico', 'slug': 'turistico', 'parentSlug': 'transport', 'usedBy': 1, 'parentId': 'RVqoavsXHaFSepN4ZkNX', 'weight': 0}\n",
      "{'text': 'home', 'text_es': 'hogar', 'slug': 'home', 'isService': True, 'parentSlug': '', 'usedBy': 11, 'parentId': '', 'weight': 0}\n",
      "{'text': 'moto', 'weight': 0, 'isService': True, 'parentSlug': 'transport', 'usedBy': 2, 'parentId': 'RVqoavsXHaFSepN4ZkNX', 'slug': 'moto'}\n",
      "{'text': 'filmmaking', 'slug': 'filmmaking', 'parentSlug': 'user', 'usedBy': 1, 'parentId': 'pf8IUMBw9rVBMGHoHdYw', 'weight': 0}\n",
      "{'text': 'auto', 'slug': 'auto', 'parentSlug': 'transport', 'usedBy': 0, 'parentId': 'RVqoavsXHaFSepN4ZkNX', 'weight': 0}\n",
      "{'text': 'music', 'weight': 0, 'isService': False, 'parentSlug': 'user', 'usedBy': 0, 'parentId': 'pf8IUMBw9rVBMGHoHdYw', 'slug': 'music'}\n",
      "{'text': 'video', 'slug': 'video', 'parentSlug': 'user', 'usedBy': 1, 'parentId': 'pf8IUMBw9rVBMGHoHdYw', 'weight': 0}\n",
      "{'text': 'aseo_completo_de_casas', 'slug': 'aseo_completo_de_casas', 'parentSlug': 'home', 'usedBy': 0, 'parentId': '5QOMIURL9xYnZgPWSSIp', 'weight': 0}\n",
      "{'text': 'cubana', 'slug': 'cubana', 'parentSlug': 'food', 'usedBy': 0, 'parentId': 'MhMxZZfJs52GU7pA1v4O', 'weight': 0}\n",
      "{'text': 'uber', 'weight': 0, 'isService': True, 'parentSlug': 'transport', 'usedBy': 2, 'parentId': 'RVqoavsXHaFSepN4ZkNX', 'slug': 'uber'}\n",
      "{'text': 'tutorias', 'slug': 'tutorias', 'parentSlug': 'misc', 'usedBy': 1, 'parentId': '0EB4WWXk3vZAf51Lu6qf', 'weight': 0}\n",
      "{'text': 'muebles', 'slug': 'muebles', 'parentSlug': 'repair', 'usedBy': 1, 'parentId': 'PfhQ5p3is5osNJsFIZvv', 'weight': 0}\n",
      "{'text': 'gatos', 'slug': 'gatos', 'parentSlug': 'pets', 'usedBy': 1, 'parentId': 'qDwGRcWqjkBpjX4rsDm0', 'weight': 0}\n",
      "{'service': {'text': 'AI Assistant', 'weight': 0, 'id': 'jNDxsch7qIDIubx39R1K', 'usedBy': 1, 'parentSlug': '', 'parentId': '', 'slug': 'AI Assistant'}}\n",
      "{'text': 'transporte_de_alimentos', 'slug': 'transporte_de_alimentos', 'parentSlug': 'transport', 'usedBy': 1, 'parentId': 'RVqoavsXHaFSepN4ZkNX', 'weight': 0}\n",
      "{'text': 'smartphone', 'weight': 0, 'isService': True, 'parentSlug': 'repair', 'usedBy': 4, 'parentId': 'PfhQ5p3is5osNJsFIZvv', 'slug': 'smartphone'}\n",
      "{'text': 'carrozas', 'slug': 'carrozas', 'parentSlug': 'transport', 'usedBy': 1, 'parentId': 'RVqoavsXHaFSepN4ZkNX', 'weight': 0}\n",
      "{'text': 'plomero', 'slug': 'plomero', 'parentSlug': 'repair', 'usedBy': 1, 'parentId': 'PfhQ5p3is5osNJsFIZvv', 'weight': 0}\n",
      "{'text': 'taxi', 'slug': 'taxi', 'parentSlug': 'home', 'usedBy': 1, 'parentId': '5QOMIURL9xYnZgPWSSIp', 'weight': 0}\n",
      "{'text': 'delivery', 'slug': 'delivery', 'parentSlug': 'home', 'usedBy': 2, 'parentId': '5QOMIURL9xYnZgPWSSIp', 'weight': 0}\n",
      "{'text': 'equipos_de_sonido', 'slug': 'equipos_de_sonido', 'parentSlug': 'repair', 'usedBy': 0, 'parentId': 'PfhQ5p3is5osNJsFIZvv', 'weight': 0}\n",
      "{'text': 'hamburguesas', 'slug': 'hamburguesas', 'parentSlug': 'food', 'usedBy': 0, 'parentId': 'MhMxZZfJs52GU7pA1v4O', 'weight': 0}\n",
      "{'text': '5', 'slug': '5', 'parentSlug': 'home', 'usedBy': 0, 'parentId': '5QOMIURL9xYnZgPWSSIp', 'weight': 0}\n",
      "{'text': 'education', 'text_es': 'educación', 'weight': 0, 'isService': True, 'parentSlug': '', 'usedBy': 0, 'parentId': '', 'slug': 'education'}\n",
      "{'text': 'tv', 'weight': 0, 'isService': True, 'parentSlug': 'repair', 'usedBy': 1, 'parentId': 'PfhQ5p3is5osNJsFIZvv', 'slug': 'tv'}\n",
      "{'text': 'motoboy', 'slug': 'motoboy', 'parentSlug': 'transport', 'usedBy': 0, 'parentId': 'RVqoavsXHaFSepN4ZkNX', 'weight': 0}\n",
      "{'text': 'piano', 'slug': 'piano', 'parentSlug': 'user', 'usedBy': 0, 'parentId': 'pf8IUMBw9rVBMGHoHdYw', 'weight': 0}\n",
      "{'text': 'musica', 'slug': 'musica', 'parentSlug': 'user', 'usedBy': 1, 'parentId': 'pf8IUMBw9rVBMGHoHdYw', 'weight': 0}\n",
      "{'text': 'albanil', 'slug': 'albanil', 'parentSlug': 'home', 'usedBy': 0, 'parentId': '5QOMIURL9xYnZgPWSSIp', 'weight': 0}\n",
      "{'text': 'depilacion', 'slug': 'depilacion', 'parentSlug': 'spa', 'usedBy': 1, 'parentId': 'jNDxsch7qIDIubx39R1K', 'weight': 0}\n",
      "{'text': 'llaves_perdidas', 'slug': 'llaves_perdidas', 'parentSlug': 'repair', 'usedBy': 1, 'parentId': 'PfhQ5p3is5osNJsFIZvv', 'weight': 0}\n",
      "{'text': 'mototaxi', 'slug': 'mototaxi', 'parentSlug': 'transport', 'usedBy': 1, 'parentId': 'RVqoavsXHaFSepN4ZkNX', 'weight': 0}\n",
      "{'text': 'guitar', 'weight': 0, 'isService': False, 'parentSlug': 'user', 'usedBy': 0, 'parentId': 'pf8IUMBw9rVBMGHoHdYw', 'slug': 'guitar'}\n",
      "{'text': 'restaurant', 'text_es': 'restaurante', 'weight': 0, 'parentSlug': 'food', 'usedBy': 0, 'parentId': 'MhMxZZfJs52GU7pA1v4O', 'slug': 'restaurant'}\n",
      "{'text': 'moda', 'slug': 'moda', 'parentSlug': 'user', 'usedBy': 1, 'parentId': 'pf8IUMBw9rVBMGHoHdYw', 'weight': 0}\n",
      "{'text': 'food', 'text_es': 'comida', 'slug': 'food', 'isService': True, 'parentSlug': '', 'usedBy': 4, 'parentId': '', 'weight': 0}\n",
      "{'text': 'manos_y_pies', 'slug': 'manos_y_pies', 'parentSlug': 'spa', 'usedBy': 2, 'parentId': 'jNDxsch7qIDIubx39R1K', 'weight': 0}\n",
      "{'text': 'indriver', 'weight': 0, 'isService': True, 'parentSlug': 'transport', 'usedBy': 1, 'parentId': 'RVqoavsXHaFSepN4ZkNX', 'slug': 'indriver'}\n",
      "{'text': 'cerrajeria_automotriz', 'slug': 'cerrajeria_automotriz', 'parentSlug': 'repair', 'usedBy': 1, 'parentId': 'PfhQ5p3is5osNJsFIZvv', 'weight': 0}\n",
      "{'text': 'foodtruck', 'weight': 0, 'isService': True, 'parentSlug': 'food', 'usedBy': 0, 'parentId': 'MhMxZZfJs52GU7pA1v4O', 'slug': 'foodtruck'}\n",
      "{'text': 'marketing', 'slug': 'marketing', 'parentSlug': 'misc', 'usedBy': 2, 'parentId': '0EB4WWXk3vZAf51Lu6qf', 'weight': 0}\n",
      "{'text': 'electeicidade_generale', 'slug': 'electeicidade_generale', 'parentSlug': 'home', 'usedBy': 0, 'parentId': '5QOMIURL9xYnZgPWSSIp', 'weight': 0}\n",
      "{'text': 'repair', 'text_es': 'reparaciones', 'slug': 'repair', 'isService': True, 'parentSlug': '', 'usedBy': 8, 'parentId': '', 'weight': 0}\n",
      "{'text': 'jardin', 'slug': 'jardin', 'parentSlug': 'home', 'usedBy': 0, 'parentId': '5QOMIURL9xYnZgPWSSIp', 'weight': 0}\n",
      "{'text': 'travel_agency', 'text_es': 'agencia_de_viajes', 'weight': 0, 'parentSlug': 'misc', 'usedBy': 3, 'parentId': '0EB4WWXk3vZAf51Lu6qf', 'slug': 'travel_agency'}\n",
      "{'text': 'transport', 'text_es': 'transporte', 'slug': 'transport', 'isService': True, 'parentSlug': '', 'usedBy': 4, 'parentId': '', 'weight': 0}\n",
      "{'text': 'piano', 'slug': 'piano', 'parentSlug': 'user', 'usedBy': 0, 'parentId': 'pf8IUMBw9rVBMGHoHdYw', 'weight': 0}\n",
      "{'text': 'alba', 'slug': 'alba', 'parentSlug': 'spa', 'usedBy': 0, 'parentId': 'jNDxsch7qIDIubx39R1K', 'weight': 0}\n",
      "{'text': 'musica', 'slug': 'musica', 'parentSlug': 'user', 'usedBy': 1, 'parentId': 'pf8IUMBw9rVBMGHoHdYw', 'weight': 0}\n",
      "{'text': 'computadoras', 'weight': 0, 'isService': True, 'parentSlug': 'repair', 'usedBy': 2, 'parentId': 'PfhQ5p3is5osNJsFIZvv', 'slug': 'computadoras'}\n",
      "{'text': 'pies', 'slug': 'pies', 'parentSlug': 'spa', 'usedBy': 0, 'parentId': 'jNDxsch7qIDIubx39R1K', 'weight': 0}\n",
      "{'text': 'bateria', 'slug': 'bateria', 'parentSlug': 'user', 'usedBy': 0, 'parentId': 'pf8IUMBw9rVBMGHoHdYw', 'weight': 0}\n",
      "{'text': 'nevera', 'slug': 'nevera', 'parentSlug': 'home', 'usedBy': 1, 'parentId': '5QOMIURL9xYnZgPWSSIp', 'weight': 0}\n",
      "{'text': 'musico', 'slug': 'musico', 'parentSlug': 'misc', 'usedBy': 1, 'parentId': '0EB4WWXk3vZAf51Lu6qf', 'weight': 0}\n",
      "{'text': 'speak_english', 'slug': 'speak_english', 'parentSlug': 'transport', 'usedBy': 0, 'parentId': 'RVqoavsXHaFSepN4ZkNX', 'weight': 0}\n",
      "{'text': 'doctor', 'slug': 'doctor', 'parentSlug': 'health', 'usedBy': 0, 'parentId': 'vV90jYbLnMvZLV3HZ1E5', 'weight': 0}\n",
      "{'text': 'piano', 'slug': 'piano', 'parentSlug': 'user', 'usedBy': 1, 'parentId': 'pf8IUMBw9rVBMGHoHdYw', 'weight': 0}\n",
      "{'text': 'psicopedagoga', 'slug': 'psicopedagoga', 'parentSlug': 'misc', 'usedBy': 3, 'parentId': '0EB4WWXk3vZAf51Lu6qf', 'weight': 0}\n",
      "{'text': 'electricidade', 'slug': 'electricidade', 'parentSlug': 'transport', 'usedBy': 0, 'parentId': 'RVqoavsXHaFSepN4ZkNX', 'weight': 0}\n",
      "{'text': 'bicicletas', 'slug': 'bicicletas', 'parentSlug': 'repair', 'usedBy': 0, 'parentId': 'PfhQ5p3is5osNJsFIZvv', 'weight': 0}\n",
      "{'text': 'aire_aconditionado', 'slug': 'aire_aconditionado', 'parentSlug': 'home', 'usedBy': 0, 'parentId': '5QOMIURL9xYnZgPWSSIp', 'weight': 0}\n",
      "{'text': 'estufas', 'slug': 'estufas', 'parentSlug': 'repair', 'usedBy': 0, 'parentId': 'PfhQ5p3is5osNJsFIZvv', 'weight': 0}\n",
      "{'text': 'musica', 'slug': 'musica', 'parentSlug': 'user', 'usedBy': 0, 'parentId': 'pf8IUMBw9rVBMGHoHdYw', 'weight': 0}\n",
      "{'text': 'educacion', 'slug': 'educacion', 'parentSlug': 'misc', 'usedBy': 2, 'parentId': '0EB4WWXk3vZAf51Lu6qf', 'weight': 0}\n",
      "{'text': 'planchas', 'slug': 'planchas', 'parentSlug': 'repair', 'usedBy': 0, 'parentId': 'PfhQ5p3is5osNJsFIZvv', 'weight': 0}\n",
      "{'text': 'dog_sitting', 'slug': 'dog_sitting', 'parentSlug': 'pets', 'usedBy': 4, 'parentId': 'qDwGRcWqjkBpjX4rsDm0', 'weight': 0}\n",
      "{'text': '8_56_hierro', 'slug': '8_56_hierro', 'parentSlug': 'home', 'usedBy': 0, 'parentId': '5QOMIURL9xYnZgPWSSIp', 'weight': 0}\n",
      "{'text': 'desarrollo_de_software', 'weight': 0, 'isService': True, 'parentSlug': 'misc', 'usedBy': 1, 'parentId': '0EB4WWXk3vZAf51Lu6qf', 'slug': 'desarrollo_de_software'}\n",
      "{'text': 'taxi', 'slug': 'taxi', 'isService': True, 'parentSlug': 'transport', 'usedBy': 1, 'parentId': 'RVqoavsXHaFSepN4ZkNX', 'weight': 5}\n",
      "{'text': 'clases_de_ingles', 'slug': 'clases_de_ingles', 'parentSlug': 'education', 'usedBy': 0, 'parentId': 'EhrdFUeVL8Afb4eIsWBG', 'weight': 0}\n",
      "{'text': 'speak_english', 'slug': 'speak_english', 'parentSlug': 'transport', 'usedBy': 0, 'parentId': 'RVqoavsXHaFSepN4ZkNX', 'weight': 0}\n",
      "{'text': 'lavado_de_automoviles', 'slug': 'lavado_de_automoviles', 'parentSlug': 'misc', 'usedBy': 0, 'parentId': '0EB4WWXk3vZAf51Lu6qf', 'weight': 0}\n",
      "{'text': 'clases_de_musica', 'slug': 'clases_de_musica', 'parentSlug': 'education', 'usedBy': 0, 'parentId': 'EhrdFUeVL8Afb4eIsWBG', 'weight': 0}\n",
      "{'text': 'portuguese', 'slug': 'portuguese', 'parentSlug': 'pets', 'usedBy': 1, 'parentId': 'qDwGRcWqjkBpjX4rsDm0', 'weight': 0}\n",
      "{'text': 'speak_english', 'slug': 'speak_english', 'parentSlug': 'pets', 'usedBy': 1, 'parentId': 'qDwGRcWqjkBpjX4rsDm0', 'weight': 0}\n",
      "{'text': 'pizza', 'slug': 'pizza', 'parentSlug': 'food', 'usedBy': 2, 'parentId': 'MhMxZZfJs52GU7pA1v4O', 'weight': 0}\n",
      "{'text': 'aseo', 'slug': 'aseo', 'isService': True, 'parentSlug': 'home', 'usedBy': 1, 'parentId': '5QOMIURL9xYnZgPWSSIp', 'weight': 5}\n",
      "{'text': 'maquina_de_coser', 'slug': 'maquina_de_coser', 'parentSlug': 'repair', 'usedBy': 0, 'parentId': 'PfhQ5p3is5osNJsFIZvv', 'weight': 0}\n",
      "{'text': 'english', 'slug': 'english', 'parentSlug': 'transport', 'usedBy': 0, 'parentId': 'RVqoavsXHaFSepN4ZkNX', 'weight': 0}\n",
      "{'text': 'ar_conditionado_ac', 'slug': 'ar_conditionado_ac', 'parentSlug': 'home', 'usedBy': 0, 'parentId': '5QOMIURL9xYnZgPWSSIp', 'weight': 0}\n",
      "{'text': 'bateria', 'slug': 'bateria', 'parentSlug': 'user', 'usedBy': 0, 'parentId': 'pf8IUMBw9rVBMGHoHdYw', 'weight': 0}\n",
      "{'text': 'delivery', 'slug': 'delivery', 'isService': False, 'parentSlug': 'transport', 'usedBy': 1, 'parentId': 'RVqoavsXHaFSepN4ZkNX', 'weight': 5}\n",
      "{'text': 'nachos', 'weight': 0, 'isService': True, 'parentSlug': 'food', 'usedBy': 0, 'parentId': 'MhMxZZfJs52GU7pA1v4O', 'slug': 'nachos'}\n",
      "{'text': 'privado', 'slug': 'privado', 'parentSlug': 'transport', 'usedBy': 0, 'parentId': 'RVqoavsXHaFSepN4ZkNX', 'weight': 0}\n",
      "{'text': 'spa', 'text_es': 'spa', 'slug': 'spa', 'isService': True, 'parentSlug': '', 'usedBy': 3, 'parentId': '', 'weight': 0}\n",
      "{'text': 'linea_blanca', 'slug': 'linea_blanca', 'parentSlug': 'repair', 'usedBy': 0, 'parentId': 'PfhQ5p3is5osNJsFIZvv', 'weight': 0}\n",
      "{'text': 'paseo_de_aves', 'slug': 'paseo_de_aves', 'parentSlug': 'home', 'usedBy': 1, 'parentId': '5QOMIURL9xYnZgPWSSIp', 'weight': 0}\n",
      "{'text': 'aire_acondicionado', 'slug': 'aire_acondicionado', 'parentSlug': 'home', 'usedBy': 0, 'parentId': '5QOMIURL9xYnZgPWSSIp', 'weight': 0}\n",
      "{'text': 'vegetariano', 'slug': 'vegetariano', 'parentSlug': 'food', 'usedBy': 0, 'parentId': 'MhMxZZfJs52GU7pA1v4O', 'weight': 0}\n",
      "{'text': 'rapidass', 'weight': 0, 'isService': True, 'usedBy': 0, 'parentSlug': 'food', 'parentId': 'MhMxZZfJs52GU7pA1v4O', 'slug': 'rapidass'}\n",
      "{'text': 'testelectricista', 'slug': 'testelectricista', 'parentSlug': 'home', 'usedBy': 0, 'parentId': '5QOMIURL9xYnZgPWSSIp', 'weight': 0}\n",
      "{'text': 'pet_care', 'text_es': 'cuidado_de_mascotas', 'weight': 0, 'parentSlug': 'pets', 'usedBy': 2, 'parentId': 'qDwGRcWqjkBpjX4rsDm0', 'slug': 'pet_care'}\n",
      "{'text': 'test', 'slug': 'test', 'parentSlug': 'transport', 'usedBy': 0, 'parentId': 'RVqoavsXHaFSepN4ZkNX', 'weight': 0}\n",
      "{'text': 'mascotas', 'slug': 'mascotas', 'parentSlug': 'home', 'usedBy': 0, 'parentId': '5QOMIURL9xYnZgPWSSIp', 'weight': 0}\n",
      "{'text': 'health_panama', 'text_es': 'salud_panama', 'weight': 0, 'parentSlug': 'health', 'usedBy': 1, 'parentId': 'vV90jYbLnMvZLV3HZ1E5', 'slug': 'health_panama'}\n",
      "{'text': 'medico_a_domicilio', 'slug': 'medico_a_domicilio', 'parentSlug': 'health', 'usedBy': 0, 'parentId': 'vV90jYbLnMvZLV3HZ1E5', 'weight': 0}\n",
      "{'text': 'user', 'text_es': 'usuario', 'weight': 0, 'isService': True, 'parentSlug': '', 'usedBy': 21, 'parentId': '', 'slug': 'user'}\n",
      "{'text': 'iphone', 'weight': 0, 'isService': True, 'parentSlug': 'misc', 'usedBy': 1, 'parentId': '0EB4WWXk3vZAf51Lu6qf', 'slug': 'iphone'}\n",
      "{'text': 'musica', 'slug': 'musica', 'parentSlug': 'user', 'usedBy': 0, 'parentId': 'pf8IUMBw9rVBMGHoHdYw', 'weight': 0}\n",
      "{'text': 'electricista', 'slug': 'electricista', 'parentSlug': 'home', 'usedBy': 0, 'parentId': '5QOMIURL9xYnZgPWSSIp', 'weight': 0}\n",
      "{'text': 'piano', 'slug': 'piano', 'parentSlug': 'user', 'usedBy': 0, 'parentId': 'pf8IUMBw9rVBMGHoHdYw', 'weight': 0}\n",
      "{'text': 'pets', 'text_es': 'mascotas', 'weight': 0, 'isService': True, 'parentSlug': '', 'usedBy': 4, 'parentId': '', 'slug': 'pets'}\n",
      "{'text': 'fisioterapia', 'slug': 'fisioterapia', 'isService': True, 'parentSlug': 'health', 'usedBy': 1, 'parentId': 'vV90jYbLnMvZLV3HZ1E5', 'weight': 0}\n",
      "{'text': 'nueva_salud', 'slug': 'nueva_salud', 'parentSlug': 'health', 'usedBy': 1, 'parentId': 'vV90jYbLnMvZLV3HZ1E5', 'weight': 0}\n",
      "{'text': 'photography', 'slug': 'photography', 'parentSlug': 'user', 'usedBy': 1, 'parentId': 'pf8IUMBw9rVBMGHoHdYw', 'weight': 0}\n",
      "{'text': 'costurera', 'slug': 'costurera', 'parentSlug': 'misc', 'usedBy': 1, 'parentId': '0EB4WWXk3vZAf51Lu6qf', 'weight': 0}\n",
      "{'text': 'plantas', 'slug': 'plantas', 'isService': True, 'parentSlug': 'home', 'usedBy': 3, 'parentId': '5QOMIURL9xYnZgPWSSIp', 'weight': 5}\n",
      "{'text': 'appliance', 'slug': 'appliance', 'parentSlug': 'repair', 'usedBy': 0, 'parentId': 'PfhQ5p3is5osNJsFIZvv', 'weight': 0}\n",
      "{'text': 'bateria', 'slug': 'bateria', 'parentSlug': 'user', 'usedBy': 0, 'parentId': 'pf8IUMBw9rVBMGHoHdYw', 'weight': 0}\n",
      "{'text': 'test', 'slug': 'test', 'parentSlug': 'home', 'usedBy': 0, 'parentId': '5QOMIURL9xYnZgPWSSIp', 'weight': 0}\n",
      "{'text': 'plomero', 'slug': 'plomero', 'parentSlug': 'home', 'usedBy': 0, 'parentId': '5QOMIURL9xYnZgPWSSIp', 'weight': 0}\n",
      "{'text': 'musica', 'slug': 'musica', 'parentSlug': 'user', 'usedBy': 0, 'parentId': 'pf8IUMBw9rVBMGHoHdYw', 'weight': 0}\n",
      "{'text': 'privado', 'slug': 'privado', 'parentSlug': 'transport', 'usedBy': 1, 'parentId': 'RVqoavsXHaFSepN4ZkNX', 'weight': 0}\n",
      "{'text': '1', 'slug': '1', 'parentSlug': 'home', 'usedBy': 1, 'parentId': '5QOMIURL9xYnZgPWSSIp', 'weight': 0}\n",
      "{'text': 'android', 'weight': 0, 'isService': True, 'parentSlug': 'misc', 'usedBy': 0, 'parentId': '0EB4WWXk3vZAf51Lu6qf', 'slug': 'android'}\n",
      "{'text': 'albanil', 'slug': 'albanil', 'parentSlug': 'transport', 'usedBy': 1, 'parentId': 'RVqoavsXHaFSepN4ZkNX', 'weight': 0}\n",
      "{'text': 'health', 'text_es': 'salud', 'weight': 6, 'isService': True, 'parentSlug': '', 'usedBy': 2, 'parentId': '', 'slug': 'health'}\n",
      "{'text': 'ballo', 'weight': 0, 'isService': True, 'parentSlug': 'transport', 'usedBy': 0, 'parentId': 'RVqoavsXHaFSepN4ZkNX', 'slug': 'ballo'}\n",
      "{'text': 'street_food', 'text_es': 'puesto_callejero', 'weight': 0, 'parentSlug': 'food', 'usedBy': 1, 'parentId': 'MhMxZZfJs52GU7pA1v4O', 'slug': 'street_food'}\n",
      "{'text': 'masajes', 'slug': 'masajes', 'parentSlug': 'spa', 'usedBy': 1, 'parentId': 'jNDxsch7qIDIubx39R1K', 'weight': 0}\n",
      "{'text': 'paseo_de_perros', 'slug': 'paseo_de_perros', 'parentSlug': 'pets', 'usedBy': 3, 'parentId': 'qDwGRcWqjkBpjX4rsDm0', 'weight': 0}\n",
      "{'text': 'piano', 'slug': 'piano', 'parentSlug': 'user', 'usedBy': 0, 'parentId': 'pf8IUMBw9rVBMGHoHdYw', 'weight': 0}\n",
      "{'text': 'llaves_para_autos', 'slug': 'llaves_para_autos', 'parentSlug': 'repair', 'usedBy': 1, 'parentId': 'PfhQ5p3is5osNJsFIZvv', 'weight': 0}\n",
      "{'text': 'entrega', 'slug': 'entrega', 'parentSlug': 'transport', 'usedBy': 0, 'parentId': 'RVqoavsXHaFSepN4ZkNX', 'weight': 0}\n"
     ]
    }
   ],
   "source": [
    "categories = db.collection(\"tags\")\n",
    "docs = categories.stream()\n",
    "\n",
    "for doc in docs:\n",
    "    print(doc.to_dict())"
   ]
  },
  {
   "cell_type": "code",
   "execution_count": 9,
   "metadata": {},
   "outputs": [
    {
     "name": "stdout",
     "output_type": "stream",
     "text": [
      "8.9790422\n",
      "8.9946661\n",
      "9.03795683773441\n"
     ]
    },
    {
     "name": "stderr",
     "output_type": "stream",
     "text": [
      "/home/nmlemus/projects/ai-llm/.conda/lib/python3.11/site-packages/google/cloud/firestore_v1/base_collection.py:302: UserWarning: Detected filter using positional arguments. Prefer using the 'filter' keyword argument instead.\n",
      "  return query.where(field_path, op_string, value)\n"
     ]
    }
   ],
   "source": [
    "profile = db.collection(\"profiles\")\n",
    "\n",
    "docs = profile.where(\"service.text\", \"==\", \"spa\").get()\n",
    "\n",
    "for doc in docs:\n",
    "    print(doc.to_dict()[\"location\"].latitude)"
   ]
  },
  {
   "cell_type": "markdown",
   "metadata": {},
   "source": [
    "# LLM in Action\n",
    "\n",
    "## Create a tool to connect to firebase"
   ]
  },
  {
   "cell_type": "code",
   "execution_count": 4,
   "metadata": {},
   "outputs": [],
   "source": [
    "from dotenv import load_dotenv\n",
    "import os\n",
    "\n",
    "load_dotenv()  # take environment variables from .env.\n",
    "\n",
    "api_key = os.getenv(\"OPENAI_API_KEY\")"
   ]
  },
  {
   "cell_type": "code",
   "execution_count": 5,
   "metadata": {},
   "outputs": [],
   "source": [
    "from langchain.llms import OpenAI\n",
    "from langchain_openai import ChatOpenAI\n",
    "from langchain.tools import BaseTool, StructuredTool, Tool, tool\n",
    "from langchain.agents import load_tools, initialize_agent, AgentType"
   ]
  },
  {
   "cell_type": "code",
   "execution_count": 6,
   "metadata": {},
   "outputs": [],
   "source": [
    "llm = ChatOpenAI(openai_api_key=api_key)"
   ]
  },
  {
   "cell_type": "code",
   "execution_count": 7,
   "metadata": {},
   "outputs": [],
   "source": [
    "tools = []\n",
    "\n",
    "desc = (\n",
    "    \"use this tool when a user ask for a categories \"\n",
    "    \"It will return the user profile in JSON format.\"\n",
    ")\n",
    "\n",
    "\n",
    "class ServiceProvider(BaseTool):\n",
    "    name = \"Categories\"\n",
    "    description = desc\n",
    "\n",
    "    def _run(self, service: str):\n",
    "        users_ref = (\n",
    "            db.collection(\"categories\")\n",
    "            .where(filter=FieldFilter(\"active\", \"==\", True))\n",
    "            .where(filter=FieldFilter(\"rating\", \">=\", 3))\n",
    "        )\n",
    "        docs = users_ref.stream()\n",
    "\n",
    "        providers = []\n",
    "        for doc in docs:\n",
    "            print(f'{doc.id} => {doc.to_dict()[\"name\"]}')\n",
    "            providers.append(doc.to_dict()[\"name\"])\n",
    "        return providers\n",
    "\n",
    "    def _arun(self, query: str):\n",
    "        raise NotImplementedError(\"This tool does not support async\")\n",
    "\n",
    "\n",
    "tools.append(ServiceProvider())"
   ]
  },
  {
   "cell_type": "code",
   "execution_count": 8,
   "metadata": {},
   "outputs": [],
   "source": [
    "from langchain.chains.conversation.memory import ConversationBufferWindowMemory\n",
    "\n",
    "# initialize conversational memory\n",
    "conversational_memory = ConversationBufferWindowMemory(\n",
    "    memory_key=\"chat_history\", k=5, return_messages=True\n",
    ")"
   ]
  },
  {
   "cell_type": "code",
   "execution_count": 9,
   "metadata": {},
   "outputs": [
    {
     "name": "stderr",
     "output_type": "stream",
     "text": [
      "/home/nmlemus/miniforge3/envs/llm/lib/python3.9/site-packages/langchain_core/_api/deprecation.py:117: LangChainDeprecationWarning: The function `initialize_agent` was deprecated in LangChain 0.1.0 and will be removed in 0.2.0. Use Use new agent constructor methods like create_react_agent, create_json_agent, create_structured_chat_agent, etc. instead.\n",
      "  warn_deprecated(\n"
     ]
    }
   ],
   "source": [
    "# initialize agent with tools\n",
    "agent = initialize_agent(\n",
    "    agent=\"chat-conversational-react-description\",\n",
    "    tools=tools,\n",
    "    llm=llm,\n",
    "    verbose=True,\n",
    "    max_iterations=3,\n",
    "    early_stopping_method=\"generate\",\n",
    "    memory=conversational_memory,\n",
    ")"
   ]
  },
  {
   "cell_type": "code",
   "execution_count": 10,
   "metadata": {},
   "outputs": [
    {
     "name": "stdout",
     "output_type": "stream",
     "text": [
      "\n",
      "\n",
      "\u001b[1m> Entering new AgentExecutor chain...\u001b[0m\n",
      "\u001b[32;1m\u001b[1;3m```json\n",
      "{\n",
      "    \"action\": \"Categories\",\n",
      "    \"action_input\": \"Puedes buscar las categorias disponibles?\"\n",
      "}\n",
      "```\u001b[0mdelivery => Delivery\n",
      "transporte => Transporte\n",
      "reparaciones => Reparaciones\n",
      "spa => SPA\n",
      "hogar => Hogar\n",
      "mecanico => Mecanico\n",
      "salud => Salud\n",
      "\n",
      "Observation: \u001b[36;1m\u001b[1;3m['Delivery', 'Transporte', 'Reparaciones', 'SPA', 'Hogar', 'Mecanico', 'Salud']\u001b[0m\n",
      "Thought:\u001b[32;1m\u001b[1;3m```json\n",
      "{\n",
      "    \"action\": \"Final Answer\",\n",
      "    \"action_input\": \"Las categorías disponibles son: 'Delivery', 'Transporte', 'Reparaciones', 'SPA', 'Hogar', 'Mecanico', 'Salud'.\"\n",
      "}\n",
      "```\u001b[0m\n",
      "\n",
      "\u001b[1m> Finished chain.\u001b[0m\n"
     ]
    },
    {
     "data": {
      "text/plain": [
       "{'input': 'Puedes buscar las categorias disponibles?     Por favor, devuelveme la respuesta en español',\n",
       " 'chat_history': [],\n",
       " 'output': \"Las categorías disponibles son: 'Delivery', 'Transporte', 'Reparaciones', 'SPA', 'Hogar', 'Mecanico', 'Salud'.\"}"
      ]
     },
     "execution_count": 10,
     "metadata": {},
     "output_type": "execute_result"
    }
   ],
   "source": [
    "agent.invoke(\n",
    "    \"Puedes buscar las categorias disponibles? \\\n",
    "    Por favor, devuelveme la respuesta en español\"\n",
    ")"
   ]
  },
  {
   "cell_type": "code",
   "execution_count": 11,
   "metadata": {},
   "outputs": [
    {
     "name": "stdout",
     "output_type": "stream",
     "text": [
      "\n",
      "\n",
      "\u001b[1m> Entering new AgentExecutor chain...\u001b[0m\n",
      "\u001b[32;1m\u001b[1;3m```json\n",
      "{\n",
      "    \"action\": \"Final Answer\",\n",
      "    \"action_input\": \"La categoría 'Delivery' es la que puedes usar para pedir algo a domicilio.\"\n",
      "}\n",
      "```\u001b[0m\n",
      "\n",
      "\u001b[1m> Finished chain.\u001b[0m\n"
     ]
    },
    {
     "data": {
      "text/plain": [
       "{'input': 'Ahora puedes decirme sin usar ninguna herramienta si existe alguna catetoria que pueda usar para pedir algo a domicilio?',\n",
       " 'chat_history': [HumanMessage(content='Puedes buscar las categorias disponibles?     Por favor, devuelveme la respuesta en español'),\n",
       "  AIMessage(content=\"Las categorías disponibles son: 'Delivery', 'Transporte', 'Reparaciones', 'SPA', 'Hogar', 'Mecanico', 'Salud'.\")],\n",
       " 'output': \"La categoría 'Delivery' es la que puedes usar para pedir algo a domicilio.\"}"
      ]
     },
     "execution_count": 11,
     "metadata": {},
     "output_type": "execute_result"
    }
   ],
   "source": [
    "agent.invoke(\n",
    "    \"Ahora puedes decirme sin usar ninguna herramienta si existe alguna catetoria que pueda usar para pedir algo a domicilio?\"\n",
    ")"
   ]
  },
  {
   "cell_type": "code",
   "execution_count": 12,
   "metadata": {},
   "outputs": [
    {
     "name": "stdout",
     "output_type": "stream",
     "text": [
      "\n",
      "\n",
      "\u001b[1m> Entering new AgentExecutor chain...\u001b[0m\n",
      "\u001b[32;1m\u001b[1;3m```json\n",
      "{\n",
      "    \"action\": \"Final Answer\",\n",
      "    \"action_input\": \"La categoría 'Mecánico' es la que puedes usar para resolver un problema con el auto.\"\n",
      "}\n",
      "```\u001b[0m\n",
      "\n",
      "\u001b[1m> Finished chain.\u001b[0m\n"
     ]
    },
    {
     "data": {
      "text/plain": [
       "{'input': 'Y para resolver un problema con el auto?',\n",
       " 'chat_history': [HumanMessage(content='Puedes buscar las categorias disponibles?     Por favor, devuelveme la respuesta en español'),\n",
       "  AIMessage(content=\"Las categorías disponibles son: 'Delivery', 'Transporte', 'Reparaciones', 'SPA', 'Hogar', 'Mecanico', 'Salud'.\"),\n",
       "  HumanMessage(content='Ahora puedes decirme sin usar ninguna herramienta si existe alguna catetoria que pueda usar para pedir algo a domicilio?'),\n",
       "  AIMessage(content=\"La categoría 'Delivery' es la que puedes usar para pedir algo a domicilio.\")],\n",
       " 'output': \"La categoría 'Mecánico' es la que puedes usar para resolver un problema con el auto.\"}"
      ]
     },
     "execution_count": 12,
     "metadata": {},
     "output_type": "execute_result"
    }
   ],
   "source": [
    "agent.invoke(\"Y para resolver un problema con el auto?\")"
   ]
  }
 ],
 "metadata": {
  "kernelspec": {
   "display_name": "llm",
   "language": "python",
   "name": "python3"
  },
  "language_info": {
   "codemirror_mode": {
    "name": "ipython",
    "version": 3
   },
   "file_extension": ".py",
   "mimetype": "text/x-python",
   "name": "python",
   "nbconvert_exporter": "python",
   "pygments_lexer": "ipython3",
   "version": "3.11.9"
  }
 },
 "nbformat": 4,
 "nbformat_minor": 2
}
