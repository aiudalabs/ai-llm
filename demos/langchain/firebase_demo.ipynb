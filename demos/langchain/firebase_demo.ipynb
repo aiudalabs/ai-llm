{
 "cells": [
  {
   "cell_type": "markdown",
   "metadata": {},
   "source": [
    "**Table of contents**<a id='toc0_'></a>    \n",
    "- [Install the required libraries](#toc1_)    \n",
    "- [Import libraries](#toc2_)    \n",
    "- [Connect to Firebase using Service Account](#toc3_)    \n",
    "- [Queries](#toc4_)    \n",
    "\n",
    "<!-- vscode-jupyter-toc-config\n",
    "\tnumbering=false\n",
    "\tanchor=true\n",
    "\tflat=false\n",
    "\tminLevel=1\n",
    "\tmaxLevel=6\n",
    "\t/vscode-jupyter-toc-config -->\n",
    "<!-- THIS CELL WILL BE REPLACED ON TOC UPDATE. DO NOT WRITE YOUR TEXT IN THIS CELL -->"
   ]
  },
  {
   "cell_type": "markdown",
   "metadata": {},
   "source": [
    "# <a id='toc1_'></a>[Install the required libraries](#toc0_)\n",
    "\n",
    "```bash\n",
    "!pip install --upgrade firebase-admin\n",
    "```"
   ]
  },
  {
   "cell_type": "code",
   "execution_count": 1,
   "metadata": {},
   "outputs": [],
   "source": [
    "#!pip install --upgrade firebase-admin"
   ]
  },
  {
   "cell_type": "markdown",
   "metadata": {},
   "source": [
    "# <a id='toc2_'></a>[Import libraries](#toc0_)"
   ]
  },
  {
   "cell_type": "code",
   "execution_count": 2,
   "metadata": {},
   "outputs": [],
   "source": [
    "import firebase_admin\n",
    "from firebase_admin import credentials\n",
    "from firebase_admin import firestore\n",
    "from google.cloud.firestore_v1.base_query import FieldFilter\n",
    "\n",
    "from vertexai.generative_models import (\n",
    "    FunctionDeclaration,\n",
    "    GenerationConfig,\n",
    "    GenerativeModel,\n",
    "    Tool,\n",
    "    Part,\n",
    "    Content,\n",
    ")"
   ]
  },
  {
   "cell_type": "markdown",
   "metadata": {},
   "source": [
    "# <a id='toc3_'></a>[Connect to Firebase using Service Account](#toc0_)"
   ]
  },
  {
   "cell_type": "code",
   "execution_count": 3,
   "metadata": {},
   "outputs": [],
   "source": [
    "# Use a service account.\n",
    "cred = credentials.Certificate(\"goblob-95e2a-1e236e39de6c.json\")\n",
    "# cred = credentials.Certificate(\"aiuda-ffc77-b8546e446401.json\")\n",
    "\n",
    "app = firebase_admin.initialize_app(cred)\n",
    "\n",
    "db = firestore.client()"
   ]
  },
  {
   "cell_type": "markdown",
   "metadata": {},
   "source": [
    "# <a id='toc4_'></a>[Queries](#toc0_)"
   ]
  },
  {
   "cell_type": "code",
   "execution_count": 3,
   "metadata": {},
   "outputs": [
    {
     "data": {
      "text/plain": [
       "[]"
      ]
     },
     "execution_count": 3,
     "metadata": {},
     "output_type": "execute_result"
    }
   ],
   "source": [
    "db.collection(\"rooms\").get()"
   ]
  },
  {
   "cell_type": "code",
   "execution_count": 4,
   "metadata": {},
   "outputs": [],
   "source": [
    "AUTHOR_ID = \"bcYT3imwF7QY6OdRnRyAY19K3Zz1\"\n",
    "\n",
    "messages = db.collection(\"rooms\").document(\"wh6JjGjt1tP1ubfTQrA5\")\n",
    "messages = messages.collection(\"messages\").order_by(\n",
    "    \"createdAt\", direction=firestore.Query.ASCENDING\n",
    ")\n",
    "docs = messages.limit_to_last(20).get()\n",
    "\n",
    "history_model = []\n",
    "history_user = []\n",
    "for doc in docs:\n",
    "    if doc.to_dict()[\"authorId\"] == AUTHOR_ID:\n",
    "        role = \"model\"\n",
    "        history_model.append(\n",
    "            Content(role=role, parts=[Part.from_text(doc.to_dict()[\"text\"])])\n",
    "        )\n",
    "    else:\n",
    "        role = \"user\"\n",
    "        history_user.append(\n",
    "            Content(role=role, parts=[Part.from_text(doc.to_dict()[\"text\"])])\n",
    "        )"
   ]
  },
  {
   "cell_type": "code",
   "execution_count": 5,
   "metadata": {},
   "outputs": [
    {
     "data": {
      "text/plain": [
       "[]"
      ]
     },
     "execution_count": 5,
     "metadata": {},
     "output_type": "execute_result"
    }
   ],
   "source": [
    "history_model"
   ]
  },
  {
   "cell_type": "code",
   "execution_count": 8,
   "metadata": {},
   "outputs": [
    {
     "name": "stdout",
     "output_type": "stream",
     "text": [
      "{'age': '40', 'realTimeLocEnabled': False, 'displayName': 'YoMap Assistant', 'tags': [{'text': 'misc', 'weight': 0, 'id': '0EB4WWXk3vZAf51Lu6qf', 'usedBy': 9, 'parentSlug': '', 'parentId': '', 'slug': 'misc'}, {'text': 'assistant', 'weight': 0, 'id': '68pTuEMhfw9UWAabc4DW', 'usedBy': 0, 'parentSlug': 'misc', 'parentId': '0EB4WWXk3vZAf51Lu6qf', 'slug': 'assistant'}, {'text': 'asistente', 'weight': 0, 'id': 'MZ6beCtxwsjBAtzHgoTg', 'usedBy': 0, 'parentSlug': 'misc', 'parentId': '0EB4WWXk3vZAf51Lu6qf', 'slug': 'asistente'}, {'text': 'ai', 'weight': 0, 'id': 'HxyaHQ9jxxbwHDBKYgKM', 'usedBy': 0, 'parentSlug': 'misc', 'parentId': '0EB4WWXk3vZAf51Lu6qf', 'slug': 'ai'}, {'text': 'ayuda', 'weight': 0, 'id': 'cF8pshhBg9gIyGzwCv3W', 'usedBy': 0, 'parentSlug': 'misc', 'parentId': '0EB4WWXk3vZAf51Lu6qf', 'slug': 'ayuda'}, {'text': 'asistente_virtual', 'weight': 0, 'id': '2z9wZ1zSdULmN4oaO3Lj', 'usedBy': 0, 'parentSlug': 'misc', 'parentId': '0EB4WWXk3vZAf51Lu6qf', 'slug': 'asistente_virtual'}], 'network': [], 'avgRating': 0.0, 'about': 'Hola soy YoMap el asistente virtual de la aplicación. Estoy aquí para ayudarte a encontrar los proveedores de servicios que resuelvan tus problemas.', 'socialNetworks': [], 'userId': 'uDbcoIvPCJPHFNDmvBaRSV7YwJH2', 'blockedProfiles': [], 'service': {'text': 'misc', 'weight': 0, 'id': '0EB4WWXk3vZAf51Lu6qf', 'usedBy': 9, 'parentSlug': '', 'parentId': '', 'slug': 'misc'}, 'address': 'Calle 74 Este, Calle 74 Este, Panamá, Provincia de Panamá, Panamá', 'gender': 'other', 'photo': 'Files/Users/uDbcoIvPCJPHFNDmvBaRSV7YwJH2/file_1720997667534-483758_ic_launcher.png', 'location': <google.cloud.firestore_v1._helpers.GeoPoint object at 0x784be1593210>, 'totalReviews': 0}\n"
     ]
    },
    {
     "name": "stderr",
     "output_type": "stream",
     "text": [
      "/home/nmlemus/projects/ai-llm/.conda/lib/python3.11/site-packages/google/cloud/firestore_v1/base_collection.py:302: UserWarning: Detected filter using positional arguments. Prefer using the 'filter' keyword argument instead.\n",
      "  return query.where(field_path, op_string, value)\n"
     ]
    }
   ],
   "source": [
    "profile = db.collection(\"profiles\")\n",
    "docs = profile.where(\"userId\", \"==\", \"uDbcoIvPCJPHFNDmvBaRSV7YwJH2\").get()\n",
    "\n",
    "for doc in docs:\n",
    "    print(doc.to_dict())"
   ]
  },
  {
   "cell_type": "code",
   "execution_count": 10,
   "metadata": {},
   "outputs": [
    {
     "data": {
      "text/plain": [
       "'YoMap Assistant'"
      ]
     },
     "execution_count": 10,
     "metadata": {},
     "output_type": "execute_result"
    }
   ],
   "source": [
    "docs[0].to_dict()[\"displayName\"]"
   ]
  },
  {
   "cell_type": "code",
   "execution_count": 5,
   "metadata": {},
   "outputs": [
    {
     "data": {
      "text/plain": [
       "[]"
      ]
     },
     "execution_count": 5,
     "metadata": {},
     "output_type": "execute_result"
    }
   ],
   "source": [
    "history_user"
   ]
  },
  {
   "cell_type": "code",
   "execution_count": 6,
   "metadata": {},
   "outputs": [
    {
     "data": {
      "text/plain": [
       "10"
      ]
     },
     "execution_count": 6,
     "metadata": {},
     "output_type": "execute_result"
    }
   ],
   "source": [
    "len(history_model)"
   ]
  },
  {
   "cell_type": "code",
   "execution_count": 7,
   "metadata": {},
   "outputs": [],
   "source": [
    "history = []\n",
    "for i in range(min(len(history_user), len(history_model))):\n",
    "    history.append(history_user[i])\n",
    "    history.append(history_model[i])"
   ]
  },
  {
   "cell_type": "code",
   "execution_count": 8,
   "metadata": {},
   "outputs": [
    {
     "data": {
      "text/plain": [
       "[role: \"user\"\n",
       " parts {\n",
       "   text: \"Ok\"\n",
       " },\n",
       " role: \"model\"\n",
       " parts {\n",
       "   text: \"- No tengo proveedores para esa categoria. Puedo buscar proveedores de categorias similares. \\n\"\n",
       " },\n",
       " role: \"user\"\n",
       " parts {\n",
       "   text: \"Si\"\n",
       " },\n",
       " role: \"model\"\n",
       " parts {\n",
       "   text: \"- No tengo proveedores de servicios de aseo. Quieres que busque en otra categoria? \\n\"\n",
       " },\n",
       " role: \"user\"\n",
       " parts {\n",
       "   text: \"Que categorías tienes disponibles\"\n",
       " },\n",
       " role: \"model\"\n",
       " parts {\n",
       "   text: \"- En que otra categoria te gustaria buscar? \\n\"\n",
       " },\n",
       " role: \"user\"\n",
       " parts {\n",
       "   text: \"Busca home\"\n",
       " },\n",
       " role: \"model\"\n",
       " parts {\n",
       "   text: \"- cerrajeria\\n- piano\\n- 8_56_hierro\\n- turistico\\n- filmmaking\\n- video\\n- tutorias\\n- muebles\\n- transporte_de_alimentos\\n- carrozas\\n- plomero\\n- taxi\\n- tv\\n- musica\\n- depilacion\\n- llaves_perdidas\\n- mototaxi\\n- moda\\n- indriver\\n- cerrajeria_automotriz\\n- musica\\n- nevera\\n- musico\\n- piano\\n- desarrollo_de_software\\n- taxi\\n- speak_english\\n- aseo\\n- delivery\\n- paseo_de_aves\\n- health_panama\\n- iphone\\n- fisioterapia\\n- nueva_salud\\n- photography\\n- costurera\\n- privado\\n- 1\\n- albanil\\n- street_food\\n- masajes\\n- llaves_para_autos\\n- moto\\n- uber\\n- delivery\\n- manos_y_pies\\n- marketing\\n- computadoras\\n- educacion\\n- portuguese\\n- pizza\\n- pet_care\\n- health\\n- travel_agency\\n- psicopedagoga\\n- spa\\n- plantas\\n- paseo_de_perros\\n- smartphone\\n- food\\n- transport\\n- dog_sitting\\n- pets\\n- repair\\n- misc\\n- home\\n- user \\n\"\n",
       " },\n",
       " role: \"user\"\n",
       " parts {\n",
       "   text: \"Perfecto ahora pets\"\n",
       " },\n",
       " role: \"model\"\n",
       " parts {\n",
       "   text: \"- Tengo estos proveedores disponibles: Akshdeep, shankar, joginder singh, Harpreet Singh, abhi, Rutiner Dasheeri, Navratan Singh, Test user 63636363, Kuldeep Singh, Test Real Number Colombia, Millycen Hurtado. \\n\\n\\n\"\n",
       " },\n",
       " role: \"user\"\n",
       " parts {\n",
       "   text: \"De donde sacaste esos nombres?\"\n",
       " },\n",
       " role: \"model\"\n",
       " parts {\n",
       "   text: \"- Tengo estos proveedores disponibles: Ricardo , Daniel Vargas. \\n\"\n",
       " },\n",
       " role: \"user\"\n",
       " parts {\n",
       "   text: \"De donde salieron estos nombres - Tengo estos proveedores disponibles: Ricardo , Daniel Vargas.\"\n",
       " },\n",
       " role: \"model\"\n",
       " parts {\n",
       "   text: \"- Tengo estos proveedores disponibles: Violeta IOS, violeta ios 0.7.5, Jean Sams 7.2, Higal Ramal. \\n\"\n",
       " },\n",
       " role: \"user\"\n",
       " parts {\n",
       "   text: \"Hola\"\n",
       " },\n",
       " role: \"model\"\n",
       " parts {\n",
       "   text: \"Hola! Como puedo ayudarte hoy? 😊 \\n\"\n",
       " },\n",
       " role: \"user\"\n",
       " parts {\n",
       "   text: \"Quiero que busques alguien que ciide mascostas\"\n",
       " },\n",
       " role: \"model\"\n",
       " parts {\n",
       "   text: \"- Tengo estos proveedores disponibles: Ricardo , Daniel Vargas. \\n\"\n",
       " },\n",
       " role: \"user\"\n",
       " parts {\n",
       "   text: \"Hola\"\n",
       " },\n",
       " role: \"model\"\n",
       " parts {\n",
       "   text: \"Hola! Como puedo ayudarte hoy? 😊 \\n\"\n",
       " }]"
      ]
     },
     "execution_count": 8,
     "metadata": {},
     "output_type": "execute_result"
    }
   ],
   "source": [
    "history"
   ]
  },
  {
   "cell_type": "code",
   "execution_count": 5,
   "metadata": {},
   "outputs": [
    {
     "data": {
      "text/plain": [
       "True"
      ]
     },
     "execution_count": 5,
     "metadata": {},
     "output_type": "execute_result"
    }
   ],
   "source": [
    "\"fEKurDeCssc3F7UBS7m3XZBEx1I3\" in channels.to_dict()[\"member_ids\"]"
   ]
  },
  {
   "cell_type": "code",
   "execution_count": 3,
   "metadata": {},
   "outputs": [
    {
     "name": "stdout",
     "output_type": "stream",
     "text": [
      "{'text': 'misc', 'text_es': 'otros', 'slug': 'misc', 'isService': True, 'parentSlug': '', 'usedBy': 12, 'parentId': '', 'weight': 0}\n",
      "{'text': 'cerrajeria', 'slug': 'cerrajeria', 'parentSlug': 'repair', 'usedBy': 1, 'parentId': 'PfhQ5p3is5osNJsFIZvv', 'weight': 0}\n",
      "{'text': 'piano', 'slug': 'piano', 'parentSlug': 'user', 'usedBy': 1, 'parentId': 'pf8IUMBw9rVBMGHoHdYw', 'weight': 0}\n",
      "{'text': 'asistente_virtual', 'slug': 'asistente_virtual', 'parentSlug': 'misc', 'usedBy': 1, 'parentId': '0EB4WWXk3vZAf51Lu6qf', 'weight': 0}\n",
      "{'text': 'french_food', 'slug': 'french_food', 'parentSlug': 'food', 'usedBy': 0, 'parentId': 'MhMxZZfJs52GU7pA1v4O', 'weight': 0}\n",
      "{'text': 'yomap', 'slug': 'yomap', 'parentSlug': 'misc', 'usedBy': 2, 'parentId': '0EB4WWXk3vZAf51Lu6qf', 'weight': 0}\n",
      "{'text': '8_56_hierro', 'slug': '8_56_hierro', 'parentSlug': 'home', 'usedBy': 1, 'parentId': '5QOMIURL9xYnZgPWSSIp', 'weight': 0}\n",
      "{'text': 'home', 'text_es': 'hogar', 'slug': 'home', 'isService': True, 'parentSlug': '', 'usedBy': 11, 'parentId': '', 'weight': 0}\n",
      "{'text': 'moto', 'weight': 0, 'isService': True, 'parentSlug': 'transport', 'usedBy': 2, 'parentId': 'RVqoavsXHaFSepN4ZkNX', 'slug': 'moto'}\n",
      "{'text': 'assistant', 'slug': 'assistant', 'parentSlug': 'misc', 'usedBy': 1, 'parentId': '0EB4WWXk3vZAf51Lu6qf', 'weight': 0}\n",
      "{'text': 'music', 'weight': 0, 'isService': False, 'parentSlug': 'user', 'usedBy': 0, 'parentId': 'pf8IUMBw9rVBMGHoHdYw', 'slug': 'music'}\n",
      "{'text': 'uber', 'weight': 0, 'isService': True, 'parentSlug': 'transport', 'usedBy': 2, 'parentId': 'RVqoavsXHaFSepN4ZkNX', 'slug': 'uber'}\n",
      "{'text': 'tutorias', 'slug': 'tutorias', 'parentSlug': 'misc', 'usedBy': 1, 'parentId': '0EB4WWXk3vZAf51Lu6qf', 'weight': 0}\n",
      "{'text': 'muebles', 'slug': 'muebles', 'parentSlug': 'repair', 'usedBy': 1, 'parentId': 'PfhQ5p3is5osNJsFIZvv', 'weight': 0}\n",
      "{'service': {'text': 'AI Assistant', 'weight': 0, 'id': 'jNDxsch7qIDIubx39R1K', 'usedBy': 1, 'parentSlug': '', 'parentId': '', 'slug': 'AI Assistant'}}\n",
      "{'text': 'transporte_de_alimentos', 'slug': 'transporte_de_alimentos', 'parentSlug': 'transport', 'usedBy': 1, 'parentId': 'RVqoavsXHaFSepN4ZkNX', 'weight': 0}\n",
      "{'text': 'smartphone', 'weight': 0, 'isService': True, 'parentSlug': 'repair', 'usedBy': 4, 'parentId': 'PfhQ5p3is5osNJsFIZvv', 'slug': 'smartphone'}\n",
      "{'text': 'carrozas', 'slug': 'carrozas', 'parentSlug': 'transport', 'usedBy': 1, 'parentId': 'RVqoavsXHaFSepN4ZkNX', 'weight': 0}\n",
      "{'text': 'plomero', 'slug': 'plomero', 'parentSlug': 'repair', 'usedBy': 1, 'parentId': 'PfhQ5p3is5osNJsFIZvv', 'weight': 0}\n",
      "{'text': 'taxi', 'slug': 'taxi', 'parentSlug': 'home', 'usedBy': 1, 'parentId': '5QOMIURL9xYnZgPWSSIp', 'weight': 0}\n",
      "{'text': 'delivery', 'slug': 'delivery', 'parentSlug': 'home', 'usedBy': 2, 'parentId': '5QOMIURL9xYnZgPWSSIp', 'weight': 0}\n",
      "{'text': 'tv', 'weight': 0, 'isService': True, 'parentSlug': 'repair', 'usedBy': 1, 'parentId': 'PfhQ5p3is5osNJsFIZvv', 'slug': 'tv'}\n",
      "{'text': 'ai', 'slug': 'ai', 'parentSlug': 'misc', 'usedBy': 1, 'parentId': '0EB4WWXk3vZAf51Lu6qf', 'weight': 0}\n",
      "{'text': 'musica', 'slug': 'musica', 'parentSlug': 'user', 'usedBy': 1, 'parentId': 'pf8IUMBw9rVBMGHoHdYw', 'weight': 0}\n",
      "{'text': 'depilacion', 'slug': 'depilacion', 'parentSlug': 'spa', 'usedBy': 1, 'parentId': 'jNDxsch7qIDIubx39R1K', 'weight': 0}\n",
      "{'text': 'llaves_perdidas', 'slug': 'llaves_perdidas', 'parentSlug': 'repair', 'usedBy': 1, 'parentId': 'PfhQ5p3is5osNJsFIZvv', 'weight': 0}\n",
      "{'text': 'mototaxi', 'slug': 'mototaxi', 'parentSlug': 'transport', 'usedBy': 1, 'parentId': 'RVqoavsXHaFSepN4ZkNX', 'weight': 0}\n",
      "{'text': 'moda', 'slug': 'moda', 'parentSlug': 'user', 'usedBy': 1, 'parentId': 'pf8IUMBw9rVBMGHoHdYw', 'weight': 0}\n",
      "{'text': 'asistente', 'slug': 'asistente', 'parentSlug': 'misc', 'usedBy': 1, 'parentId': '0EB4WWXk3vZAf51Lu6qf', 'weight': 0}\n",
      "{'text': 'food', 'text_es': 'comida', 'slug': 'food', 'isService': True, 'parentSlug': '', 'usedBy': 5, 'parentId': '', 'weight': 0}\n",
      "{'text': 'manos_y_pies', 'slug': 'manos_y_pies', 'parentSlug': 'spa', 'usedBy': 2, 'parentId': 'jNDxsch7qIDIubx39R1K', 'weight': 0}\n",
      "{'text': 'indriver', 'weight': 0, 'isService': True, 'parentSlug': 'transport', 'usedBy': 1, 'parentId': 'RVqoavsXHaFSepN4ZkNX', 'slug': 'indriver'}\n",
      "{'text': 'cerrajeria_automotriz', 'slug': 'cerrajeria_automotriz', 'parentSlug': 'repair', 'usedBy': 1, 'parentId': 'PfhQ5p3is5osNJsFIZvv', 'weight': 0}\n",
      "{'text': 'marketing', 'slug': 'marketing', 'parentSlug': 'misc', 'usedBy': 2, 'parentId': '0EB4WWXk3vZAf51Lu6qf', 'weight': 0}\n",
      "{'text': 'repair', 'text_es': 'reparaciones', 'slug': 'repair', 'isService': True, 'parentSlug': '', 'usedBy': 8, 'parentId': '', 'weight': 0}\n",
      "{'text': 'travel_agency', 'text_es': 'agencia_de_viajes', 'weight': 0, 'parentSlug': 'misc', 'usedBy': 3, 'parentId': '0EB4WWXk3vZAf51Lu6qf', 'slug': 'travel_agency'}\n",
      "{'text': 'transport', 'text_es': 'transporte', 'slug': 'transport', 'isService': True, 'parentSlug': '', 'usedBy': 3, 'parentId': '', 'weight': 0}\n",
      "{'text': 'musica', 'slug': 'musica', 'parentSlug': 'user', 'usedBy': 1, 'parentId': 'pf8IUMBw9rVBMGHoHdYw', 'weight': 0}\n",
      "{'text': 'computadoras', 'weight': 0, 'isService': True, 'parentSlug': 'repair', 'usedBy': 2, 'parentId': 'PfhQ5p3is5osNJsFIZvv', 'slug': 'computadoras'}\n",
      "{'text': 'nevera', 'slug': 'nevera', 'parentSlug': 'home', 'usedBy': 1, 'parentId': '5QOMIURL9xYnZgPWSSIp', 'weight': 0}\n",
      "{'text': 'musico', 'slug': 'musico', 'parentSlug': 'misc', 'usedBy': 1, 'parentId': '0EB4WWXk3vZAf51Lu6qf', 'weight': 0}\n",
      "{'text': 'piano', 'slug': 'piano', 'parentSlug': 'user', 'usedBy': 1, 'parentId': 'pf8IUMBw9rVBMGHoHdYw', 'weight': 0}\n",
      "{'text': 'psicopedagoga', 'slug': 'psicopedagoga', 'parentSlug': 'misc', 'usedBy': 3, 'parentId': '0EB4WWXk3vZAf51Lu6qf', 'weight': 0}\n",
      "{'text': 'musica', 'slug': 'musica', 'parentSlug': 'user', 'usedBy': 0, 'parentId': 'pf8IUMBw9rVBMGHoHdYw', 'weight': 0}\n",
      "{'text': 'educacion', 'slug': 'educacion', 'parentSlug': 'misc', 'usedBy': 2, 'parentId': '0EB4WWXk3vZAf51Lu6qf', 'weight': 0}\n",
      "{'text': 'dog_sitting', 'slug': 'dog_sitting', 'parentSlug': 'pets', 'usedBy': 5, 'parentId': 'qDwGRcWqjkBpjX4rsDm0', 'weight': 0}\n",
      "{'text': 'desarrollo_de_software', 'weight': 0, 'isService': True, 'parentSlug': 'misc', 'usedBy': 2, 'parentId': '0EB4WWXk3vZAf51Lu6qf', 'slug': 'desarrollo_de_software'}\n",
      "{'text': 'taxi', 'slug': 'taxi', 'isService': True, 'parentSlug': 'transport', 'usedBy': 1, 'parentId': 'RVqoavsXHaFSepN4ZkNX', 'weight': 5}\n",
      "{'text': 'clases_de_musica', 'slug': 'clases_de_musica', 'parentSlug': 'education', 'usedBy': 0, 'parentId': 'EhrdFUeVL8Afb4eIsWBG', 'weight': 0}\n",
      "{'text': 'ayuda', 'slug': 'ayuda', 'parentSlug': 'misc', 'usedBy': 1, 'parentId': '0EB4WWXk3vZAf51Lu6qf', 'weight': 0}\n",
      "{'text': 'portuguese', 'slug': 'portuguese', 'parentSlug': 'pets', 'usedBy': 2, 'parentId': 'qDwGRcWqjkBpjX4rsDm0', 'weight': 0}\n",
      "{'text': 'pizza', 'slug': 'pizza', 'parentSlug': 'food', 'usedBy': 2, 'parentId': 'MhMxZZfJs52GU7pA1v4O', 'weight': 0}\n",
      "{'text': 'aseo', 'slug': 'aseo', 'isService': True, 'parentSlug': 'home', 'usedBy': 1, 'parentId': '5QOMIURL9xYnZgPWSSIp', 'weight': 5}\n",
      "{'text': 'english', 'slug': 'english', 'parentSlug': 'transport', 'usedBy': 0, 'parentId': 'RVqoavsXHaFSepN4ZkNX', 'weight': 0}\n",
      "{'text': 'delivery', 'slug': 'delivery', 'isService': False, 'parentSlug': 'transport', 'usedBy': 1, 'parentId': 'RVqoavsXHaFSepN4ZkNX', 'weight': 5}\n",
      "{'text': 'spa', 'text_es': 'spa', 'slug': 'spa', 'isService': True, 'parentSlug': '', 'usedBy': 3, 'parentId': '', 'weight': 0}\n",
      "{'text': 'paseo_de_aves', 'slug': 'paseo_de_aves', 'parentSlug': 'home', 'usedBy': 1, 'parentId': '5QOMIURL9xYnZgPWSSIp', 'weight': 0}\n",
      "{'text': 'vegetariano', 'slug': 'vegetariano', 'parentSlug': 'food', 'usedBy': 1, 'parentId': 'MhMxZZfJs52GU7pA1v4O', 'weight': 0}\n",
      "{'text': 'pet_care', 'text_es': 'cuidado_de_mascotas', 'weight': 0, 'parentSlug': 'pets', 'usedBy': 2, 'parentId': 'qDwGRcWqjkBpjX4rsDm0', 'slug': 'pet_care'}\n",
      "{'text': 'health_panama', 'text_es': 'salud_panama', 'weight': 0, 'parentSlug': 'health', 'usedBy': 1, 'parentId': 'vV90jYbLnMvZLV3HZ1E5', 'slug': 'health_panama'}\n",
      "{'text': 'user', 'text_es': 'usuario', 'weight': 0, 'isService': True, 'parentSlug': '', 'usedBy': 20, 'parentId': '', 'slug': 'user'}\n",
      "{'text': 'iphone', 'weight': 0, 'isService': True, 'parentSlug': 'misc', 'usedBy': 1, 'parentId': '0EB4WWXk3vZAf51Lu6qf', 'slug': 'iphone'}\n",
      "{'text': 'musica', 'slug': 'musica', 'parentSlug': 'user', 'usedBy': 0, 'parentId': 'pf8IUMBw9rVBMGHoHdYw', 'weight': 0}\n",
      "{'text': 'pets', 'text_es': 'mascotas', 'weight': 0, 'isService': True, 'parentSlug': '', 'usedBy': 5, 'parentId': '', 'slug': 'pets'}\n",
      "{'text': 'fisioterapia', 'slug': 'fisioterapia', 'isService': True, 'parentSlug': 'health', 'usedBy': 1, 'parentId': 'vV90jYbLnMvZLV3HZ1E5', 'weight': 0}\n",
      "{'text': 'nueva_salud', 'slug': 'nueva_salud', 'parentSlug': 'health', 'usedBy': 1, 'parentId': 'vV90jYbLnMvZLV3HZ1E5', 'weight': 0}\n",
      "{'text': 'costurera', 'slug': 'costurera', 'parentSlug': 'misc', 'usedBy': 1, 'parentId': '0EB4WWXk3vZAf51Lu6qf', 'weight': 0}\n",
      "{'text': 'plantas', 'slug': 'plantas', 'isService': True, 'parentSlug': 'home', 'usedBy': 3, 'parentId': '5QOMIURL9xYnZgPWSSIp', 'weight': 5}\n",
      "{'text': 'musica', 'slug': 'musica', 'parentSlug': 'user', 'usedBy': 0, 'parentId': 'pf8IUMBw9rVBMGHoHdYw', 'weight': 0}\n",
      "{'text': '1', 'slug': '1', 'parentSlug': 'home', 'usedBy': 1, 'parentId': '5QOMIURL9xYnZgPWSSIp', 'weight': 0}\n",
      "{'text': 'albanil', 'slug': 'albanil', 'parentSlug': 'transport', 'usedBy': 1, 'parentId': 'RVqoavsXHaFSepN4ZkNX', 'weight': 0}\n",
      "{'text': 'health', 'text_es': 'salud', 'weight': 6, 'isService': True, 'parentSlug': '', 'usedBy': 2, 'parentId': '', 'slug': 'health'}\n",
      "{'text': 'street_food', 'text_es': 'puesto_callejero', 'weight': 0, 'parentSlug': 'food', 'usedBy': 1, 'parentId': 'MhMxZZfJs52GU7pA1v4O', 'slug': 'street_food'}\n",
      "{'text': 'masajes', 'slug': 'masajes', 'parentSlug': 'spa', 'usedBy': 1, 'parentId': 'jNDxsch7qIDIubx39R1K', 'weight': 0}\n",
      "{'text': 'paseo_de_perros', 'slug': 'paseo_de_perros', 'parentSlug': 'pets', 'usedBy': 3, 'parentId': 'qDwGRcWqjkBpjX4rsDm0', 'weight': 0}\n",
      "{'text': 'llaves_para_autos', 'slug': 'llaves_para_autos', 'parentSlug': 'repair', 'usedBy': 1, 'parentId': 'PfhQ5p3is5osNJsFIZvv', 'weight': 0}\n"
     ]
    }
   ],
   "source": [
    "categories = db.collection(\"tags\")\n",
    "docs = categories.get()\n",
    "\n",
    "for doc in docs:\n",
    "    print(doc.to_dict())"
   ]
  },
  {
   "cell_type": "code",
   "execution_count": 4,
   "metadata": {},
   "outputs": [],
   "source": [
    "def get_service_provider_from_firebase(tag: str):\n",
    "    \"\"\"Get all the service providers based on the tag\n",
    "    or the name of the category. Use this tool each time the user\n",
    "    request some information about a particular service.\n",
    "\n",
    "    Example: if the user ask about spa, then you use this tool with tag = spa\n",
    "    \"\"\"\n",
    "\n",
    "    profile = db.collection(\"profiles\")\n",
    "    # print(tag)\n",
    "    docs = profile.where(\"service.text\", \"==\", tag).get()\n",
    "    return [doc.to_dict()[\"displayName\"] for doc in docs]"
   ]
  },
  {
   "cell_type": "code",
   "execution_count": 5,
   "metadata": {},
   "outputs": [
    {
     "name": "stderr",
     "output_type": "stream",
     "text": [
      "/home/nmlemus/projects/ai-llm/.conda/lib/python3.11/site-packages/google/cloud/firestore_v1/base_collection.py:302: UserWarning: Detected filter using positional arguments. Prefer using the 'filter' keyword argument instead.\n",
      "  return query.where(field_path, op_string, value)\n"
     ]
    }
   ],
   "source": [
    "categories_with_providers = []\n",
    "categories_whitout_providers = []\n",
    "\n",
    "for doc in docs:\n",
    "    if \"text\" in doc.to_dict().keys():\n",
    "        providers = get_service_provider_from_firebase(doc.to_dict()[\"text\"])\n",
    "\n",
    "        if len(providers) > 0:\n",
    "            categories_with_providers.append(doc.to_dict()[\"text\"])\n",
    "        else:\n",
    "            categories_whitout_providers.append(doc.to_dict()[\"text\"])"
   ]
  },
  {
   "cell_type": "code",
   "execution_count": 6,
   "metadata": {},
   "outputs": [
    {
     "data": {
      "text/plain": [
       "['misc',\n",
       " 'home',\n",
       " 'food',\n",
       " 'repair',\n",
       " 'transport',\n",
       " 'spa',\n",
       " 'user',\n",
       " 'pets',\n",
       " 'health']"
      ]
     },
     "execution_count": 6,
     "metadata": {},
     "output_type": "execute_result"
    }
   ],
   "source": [
    "categories_with_providers"
   ]
  },
  {
   "cell_type": "code",
   "execution_count": 7,
   "metadata": {},
   "outputs": [
    {
     "data": {
      "text/plain": [
       "['cerrajeria',\n",
       " 'piano',\n",
       " 'asistente_virtual',\n",
       " 'french_food',\n",
       " 'yomap',\n",
       " '8_56_hierro',\n",
       " 'moto',\n",
       " 'assistant',\n",
       " 'music',\n",
       " 'uber',\n",
       " 'tutorias',\n",
       " 'muebles',\n",
       " 'transporte_de_alimentos',\n",
       " 'smartphone',\n",
       " 'carrozas',\n",
       " 'plomero',\n",
       " 'taxi',\n",
       " 'delivery',\n",
       " 'tv',\n",
       " 'ai',\n",
       " 'musica',\n",
       " 'depilacion',\n",
       " 'llaves_perdidas',\n",
       " 'mototaxi',\n",
       " 'moda',\n",
       " 'asistente',\n",
       " 'manos_y_pies',\n",
       " 'indriver',\n",
       " 'cerrajeria_automotriz',\n",
       " 'marketing',\n",
       " 'travel_agency',\n",
       " 'musica',\n",
       " 'computadoras',\n",
       " 'nevera',\n",
       " 'musico',\n",
       " 'piano',\n",
       " 'psicopedagoga',\n",
       " 'musica',\n",
       " 'educacion',\n",
       " 'dog_sitting',\n",
       " 'desarrollo_de_software',\n",
       " 'taxi',\n",
       " 'clases_de_musica',\n",
       " 'ayuda',\n",
       " 'portuguese',\n",
       " 'pizza',\n",
       " 'aseo',\n",
       " 'english',\n",
       " 'delivery',\n",
       " 'paseo_de_aves',\n",
       " 'vegetariano',\n",
       " 'pet_care',\n",
       " 'health_panama',\n",
       " 'iphone',\n",
       " 'musica',\n",
       " 'fisioterapia',\n",
       " 'nueva_salud',\n",
       " 'costurera',\n",
       " 'plantas',\n",
       " 'musica',\n",
       " '1',\n",
       " 'albanil',\n",
       " 'street_food',\n",
       " 'masajes',\n",
       " 'paseo_de_perros',\n",
       " 'llaves_para_autos']"
      ]
     },
     "execution_count": 7,
     "metadata": {},
     "output_type": "execute_result"
    }
   ],
   "source": [
    "categories_whitout_providers"
   ]
  },
  {
   "cell_type": "code",
   "execution_count": 23,
   "metadata": {},
   "outputs": [
    {
     "data": {
      "text/plain": [
       "[]"
      ]
     },
     "execution_count": 23,
     "metadata": {},
     "output_type": "execute_result"
    }
   ],
   "source": [
    "profile = db.collection(\"profiles\")\n",
    "# print(tag)\n",
    "docs = profile.where(\"service.text\", \"==\", \"taxi\").get()\n",
    "\n",
    "docs"
   ]
  },
  {
   "cell_type": "code",
   "execution_count": 38,
   "metadata": {},
   "outputs": [
    {
     "data": {
      "text/plain": [
       "{'age': '35',\n",
       " 'realTimeLocEnabled': False,\n",
       " 'displayName': 'YoMap LG',\n",
       " 'tags': [{'text': 'transport',\n",
       "   'weight': 0,\n",
       "   'id': 'RVqoavsXHaFSepN4ZkNX',\n",
       "   'usedBy': 2,\n",
       "   'parentSlug': '',\n",
       "   'parentId': '',\n",
       "   'slug': 'transport'},\n",
       "  {'text': 'indriver',\n",
       "   'weight': 0,\n",
       "   'id': 'NwoEuxAwesktwyH6qGVw',\n",
       "   'usedBy': 2,\n",
       "   'parentSlug': 'transport',\n",
       "   'parentId': 'RVqoavsXHaFSepN4ZkNX',\n",
       "   'slug': 'indriver'},\n",
       "  {'text': 'moto',\n",
       "   'weight': 0,\n",
       "   'id': '5xrlfFLhKrYJk6uWpEU5',\n",
       "   'usedBy': 1,\n",
       "   'parentSlug': 'transport',\n",
       "   'parentId': 'RVqoavsXHaFSepN4ZkNX',\n",
       "   'slug': 'moto'},\n",
       "  {'text': 'uber',\n",
       "   'weight': 0,\n",
       "   'id': '9pYJdcjbrhiaWODpYN5Q',\n",
       "   'usedBy': 1,\n",
       "   'parentSlug': 'transport',\n",
       "   'parentId': 'RVqoavsXHaFSepN4ZkNX',\n",
       "   'slug': 'uber'},\n",
       "  {'text': 'taxi',\n",
       "   'weight': 5,\n",
       "   'id': 'aTNWlPQ63kT3iBcRCGpp',\n",
       "   'usedBy': 1,\n",
       "   'parentSlug': 'transport',\n",
       "   'parentId': 'RVqoavsXHaFSepN4ZkNX',\n",
       "   'slug': 'taxi'},\n",
       "  {'text': 'delivery',\n",
       "   'weight': 5,\n",
       "   'id': 'hZr70zzB78OQMUHeKiVk',\n",
       "   'usedBy': 1,\n",
       "   'parentSlug': 'transport',\n",
       "   'parentId': 'RVqoavsXHaFSepN4ZkNX',\n",
       "   'slug': 'delivery'}],\n",
       " 'network': ['Ovd2vt9PPvNPSbNyshC0',\n",
       "  'otxFYYupPdJhJR2uLqOU',\n",
       "  'cKAFgrXiF6jkOJq7AbiL'],\n",
       " 'avgRating': 3.86,\n",
       " 'about': 'Servicio de Taxi 24h\\nArea Bancaria',\n",
       " 'socialNetworks': [],\n",
       " 'userId': 'AhURXaJBEEgj3dWVx3Wzv29YqXC3',\n",
       " 'blockedProfiles': [],\n",
       " 'service': {'text': 'transport',\n",
       "  'weight': 0,\n",
       "  'id': 'RVqoavsXHaFSepN4ZkNX',\n",
       "  'usedBy': 2,\n",
       "  'parentSlug': '',\n",
       "  'parentId': '',\n",
       "  'slug': 'transport'},\n",
       " 'address': 'Calle Punta Chiriquí, Calle Punta Chiriquí, Panamá, Provincia de Panamá, Panama',\n",
       " 'gender': 'female',\n",
       " 'photo': 'Files/Users/AhURXaJBEEgj3dWVx3Wzv29YqXC3/file_1703267134570-73056_1703267134500.jpg',\n",
       " 'location': <google.cloud.firestore_v1._helpers.GeoPoint at 0x71184b8d2210>,\n",
       " 'totalReviews': 7}"
      ]
     },
     "execution_count": 38,
     "metadata": {},
     "output_type": "execute_result"
    }
   ],
   "source": [
    "profile = db.collection(\"profiles\").document(\"ZXeLeERP2v9n3HEMCL6c\")\n",
    "\n",
    "profile.get().to_dict()"
   ]
  },
  {
   "cell_type": "code",
   "execution_count": null,
   "metadata": {},
   "outputs": [],
   "source": []
  },
  {
   "cell_type": "code",
   "execution_count": 34,
   "metadata": {},
   "outputs": [],
   "source": [
    "# Reference to the collection of profiles\n",
    "profiles_ref = db.collection(\"profiles\")\n",
    "\n",
    "# Perform the query to filter profiles where tags.text equals \"taxi\"\n",
    "query = profiles_ref.where(\"service.text\", \"==\", \"taxi\")\n",
    "\n",
    "# Execute the query\n",
    "results = query.get()\n",
    "\n",
    "# Process and print the results\n",
    "for profile in results:\n",
    "    print(profile.to_dict())"
   ]
  },
  {
   "cell_type": "code",
   "execution_count": null,
   "metadata": {},
   "outputs": [],
   "source": []
  },
  {
   "cell_type": "code",
   "execution_count": 10,
   "metadata": {},
   "outputs": [
    {
     "name": "stdout",
     "output_type": "stream",
     "text": [
      "xiaomi -> \n",
      "Ciloo  -> \n",
      "YoMap Juan -> [4/17, 08:11] Sandrine R: Elle essaye la spa ? Ils ont des chatons souvent\n",
      "[4/17, 08:12] Tika ga kimia: oui mais ils sont super chiants\n",
      "Ciloo  -> https://youtu.be/bRCsTl1YkzU?si=R-Q3oS7SL9h4Zwz9\n",
      "Ciloo  -> tu connais mano negra ?\n"
     ]
    }
   ],
   "source": [
    "messages = db.collection(\"channels\").document(\"0g9DgDVJHmtBDTsckfhU\")\n",
    "messages = messages.collection(\"messages\")\n",
    "docs = messages.limit_to_last(5).get()\n",
    "\n",
    "for doc in docs:\n",
    "    print(doc.to_dict()[\"sender_title\"] + \" -> \" + doc.to_dict()[\"body\"])"
   ]
  },
  {
   "cell_type": "code",
   "execution_count": 13,
   "metadata": {},
   "outputs": [
    {
     "name": "stdout",
     "output_type": "stream",
     "text": [
      "Alejandro \n",
      "YoMap Assistant\n",
      "Ricardo De Leon\n",
      "sachin kharre\n",
      "Slov Kia\n",
      "Ricky Barranquilla \n",
      "Amit Kumar\n",
      "Costura Ana Mer bis\n",
      "Redmi 10A\n",
      "Janicy dos Santos \n"
     ]
    }
   ],
   "source": [
    "profile = db.collection(\"profiles\")\n",
    "\n",
    "docs = profile.where(\"service.text\", \"==\", \"misc\").get()\n",
    "\n",
    "for doc in docs:\n",
    "    print(doc.to_dict()[\"displayName\"])"
   ]
  },
  {
   "cell_type": "code",
   "execution_count": 8,
   "metadata": {},
   "outputs": [
    {
     "name": "stdout",
     "output_type": "stream",
     "text": [
      "[<google.cloud.firestore_v1.base_document.DocumentSnapshot object at 0x7d861cd21d10>]\n"
     ]
    },
    {
     "data": {
      "text/plain": [
       "{'age': 32,\n",
       " 'tags': [{'text': 'spa',\n",
       "   'weight': 0,\n",
       "   'id': 'jNDxsch7qIDIubx39R1K',\n",
       "   'usedBy': 1,\n",
       "   'parentSlug': '',\n",
       "   'parentId': '',\n",
       "   'slug': 'spa'},\n",
       "  {'text': 'manos_y_pies',\n",
       "   'weight': 0,\n",
       "   'id': 'NjIAAjPlxDpQFsTTlHvp',\n",
       "   'usedBy': 0,\n",
       "   'parentSlug': 'spa',\n",
       "   'parentId': 'jNDxsch7qIDIubx39R1K',\n",
       "   'slug': 'manos_y_pies'}],\n",
       " 'displayName': 'Emulator 66980917',\n",
       " 'commentsCount': 0,\n",
       " 'realTimeLocEnabled': False,\n",
       " 'network': [],\n",
       " 'rating': 0,\n",
       " 'about': '',\n",
       " 'socialNetworks': [],\n",
       " 'userId': 'ogey2VejTNQ4q3HnIeQ5p5veipo1',\n",
       " 'totalRatingVotes': 0,\n",
       " 'blockedProfiles': [],\n",
       " 'service': {'text': 'spa',\n",
       "  'weight': 0,\n",
       "  'id': 'jNDxsch7qIDIubx39R1K',\n",
       "  'usedBy': 1,\n",
       "  'parentSlug': '',\n",
       "  'parentId': '',\n",
       "  'slug': 'spa'},\n",
       " 'address': '132, Calle C, San Miguelito, Provincia de Panamá, Panama',\n",
       " 'gender': 'female',\n",
       " 'photo': '',\n",
       " 'location': {'lat': 9.03795683773441, 'long': -79.5009471103549}}"
      ]
     },
     "execution_count": 8,
     "metadata": {},
     "output_type": "execute_result"
    }
   ],
   "source": [
    "profile = db.collection(\"profiles\")\n",
    "\n",
    "docs = profile.where(\"displayName\", \"==\", \"Emulator 66980917\").get()\n",
    "print(docs)\n",
    "if len(docs) > 0:\n",
    "    user_profile = docs[0].to_dict()\n",
    "\n",
    "    if user_profile[\"location\"] is not None:\n",
    "        user_profile[\"location\"] = {\n",
    "            \"lat\": docs[0].to_dict()[\"location\"].latitude,\n",
    "            \"long\": docs[0].to_dict()[\"location\"].longitude,\n",
    "        }\n",
    "\n",
    "user_profile"
   ]
  },
  {
   "cell_type": "code",
   "execution_count": 40,
   "metadata": {},
   "outputs": [
    {
     "data": {
      "text/plain": [
       "8.9767517"
      ]
     },
     "execution_count": 40,
     "metadata": {},
     "output_type": "execute_result"
    }
   ],
   "source": [
    "user_profile[\"location\"].latitude"
   ]
  },
  {
   "cell_type": "code",
   "execution_count": 28,
   "metadata": {},
   "outputs": [
    {
     "data": {
      "text/plain": [
       "[]"
      ]
     },
     "execution_count": 28,
     "metadata": {},
     "output_type": "execute_result"
    }
   ],
   "source": [
    "channels = db.collection(\"channels\")\n",
    "\n",
    "docs = profile.where(\"creator_id\", \"==\", \"HHJMAWJTi3SpXUH9ZzBcITXJsjE2\").get()\n",
    "\n",
    "docs"
   ]
  },
  {
   "cell_type": "code",
   "execution_count": 29,
   "metadata": {},
   "outputs": [
    {
     "data": {
      "text/plain": [
       "{'created_at': DatetimeWithNanoseconds(2024, 7, 15, 0, 16, 48, 725000, tzinfo=datetime.timezone.utc),\n",
       " 'type': 'text',\n",
       " 'channel_type': 'normal',\n",
       " 'sender_title': 'Laissa',\n",
       " 'draft_id': None,\n",
       " 'media': None,\n",
       " 'updated_at': DatetimeWithNanoseconds(2024, 7, 15, 0, 16, 48, 725000, tzinfo=datetime.timezone.utc),\n",
       " 'status': 'sent',\n",
       " 'geolocation': None,\n",
       " 'channel_member_ids': ['uDbcoIvPCJPHFNDmvBaRSV7YwJH2',\n",
       "  'HHJMAWJTi3SpXUH9ZzBcITXJsjE2'],\n",
       " 'reply_to_id': None,\n",
       " 'member_ids': ['uDbcoIvPCJPHFNDmvBaRSV7YwJH2',\n",
       "  'HHJMAWJTi3SpXUH9ZzBcITXJsjE2'],\n",
       " 'profile_id': 'v34DujEeoB8wx4zysUQr',\n",
       " 'sender_id': 'HHJMAWJTi3SpXUH9ZzBcITXJsjE2',\n",
       " 'contact': None,\n",
       " 'channel_id': 'MjGOGNVXOwRdKVrkuOhl',\n",
       " 'body': 'hola'}"
      ]
     },
     "execution_count": 29,
     "metadata": {},
     "output_type": "execute_result"
    }
   ],
   "source": [
    "messages = db.collection(\"channels\").document(\"MjGOGNVXOwRdKVrkuOhl\")\n",
    "messages = messages.collection(\"messages\").order_by(\n",
    "    \"created_at\", direction=firestore.Query.ASCENDING\n",
    ")\n",
    "docs = messages.limit_to_last(20).get()\n",
    "\n",
    "docs[0].to_dict()"
   ]
  },
  {
   "cell_type": "code",
   "execution_count": 13,
   "metadata": {},
   "outputs": [
    {
     "data": {
      "text/plain": [
       "['cerrajeria',\n",
       " 'piano',\n",
       " '8_56_hierro',\n",
       " 'turistico',\n",
       " 'filmmaking',\n",
       " 'video',\n",
       " 'tutorias',\n",
       " 'muebles',\n",
       " 'transporte_de_alimentos',\n",
       " 'carrozas',\n",
       " 'plomero',\n",
       " 'taxi',\n",
       " 'tv',\n",
       " 'musica',\n",
       " 'depilacion',\n",
       " 'llaves_perdidas',\n",
       " 'mototaxi',\n",
       " 'moda',\n",
       " 'indriver',\n",
       " 'cerrajeria_automotriz',\n",
       " 'musica',\n",
       " 'nevera',\n",
       " 'musico',\n",
       " 'piano',\n",
       " 'desarrollo_de_software',\n",
       " 'taxi',\n",
       " 'speak_english',\n",
       " 'aseo',\n",
       " 'delivery',\n",
       " 'paseo_de_aves',\n",
       " 'health_panama',\n",
       " 'iphone',\n",
       " 'fisioterapia',\n",
       " 'nueva_salud',\n",
       " 'photography',\n",
       " 'costurera',\n",
       " 'privado',\n",
       " '1',\n",
       " 'albanil',\n",
       " 'street_food',\n",
       " 'masajes',\n",
       " 'llaves_para_autos',\n",
       " 'moto',\n",
       " 'uber',\n",
       " 'delivery',\n",
       " 'manos_y_pies',\n",
       " 'marketing',\n",
       " 'computadoras',\n",
       " 'educacion',\n",
       " 'portuguese',\n",
       " 'pizza',\n",
       " 'pet_care',\n",
       " 'health',\n",
       " 'travel_agency',\n",
       " 'psicopedagoga',\n",
       " 'spa',\n",
       " 'plantas',\n",
       " 'paseo_de_perros',\n",
       " 'smartphone',\n",
       " 'food',\n",
       " 'transport',\n",
       " 'dog_sitting',\n",
       " 'pets',\n",
       " 'repair',\n",
       " 'misc',\n",
       " 'home',\n",
       " 'user']"
      ]
     },
     "execution_count": 13,
     "metadata": {},
     "output_type": "execute_result"
    }
   ],
   "source": [
    "tags_ref = (\n",
    "    db.collection(\"tags\")\n",
    "    .where(\"usedBy\", \">=\", 1)\n",
    "    .order_by(\"usedBy\")\n",
    "    # .where(filter=FieldFilter(\"rating\", \">=\", 3))\n",
    ")\n",
    "docs = tags_ref.limit_to_last(100).get()\n",
    "\n",
    "tags = []\n",
    "for doc in docs:\n",
    "    if \"text\" in doc.to_dict().keys():\n",
    "        tags.append(doc.to_dict()[\"text\"])\n",
    "\n",
    "tags"
   ]
  },
  {
   "cell_type": "code",
   "execution_count": 15,
   "metadata": {},
   "outputs": [
    {
     "name": "stderr",
     "output_type": "stream",
     "text": [
      "/home/nmlemus/projects/ai-llm/.conda/lib/python3.11/site-packages/google/cloud/firestore_v1/base_collection.py:302: UserWarning: Detected filter using positional arguments. Prefer using the 'filter' keyword argument instead.\n",
      "  return query.where(field_path, op_string, value)\n"
     ]
    },
    {
     "name": "stdout",
     "output_type": "stream",
     "text": [
      "health -> 2\n",
      "spa -> 3\n",
      "food -> 4\n",
      "transport -> 4\n",
      "pets -> 4\n",
      "repair -> 8\n",
      "misc -> 9\n",
      "home -> 11\n",
      "user -> 21\n"
     ]
    }
   ],
   "source": [
    "for tag in tags:\n",
    "    profile = db.collection(\"profiles\")\n",
    "\n",
    "    docs = profile.where(\"service.text\", \"==\", tag).get()\n",
    "\n",
    "    if len(docs) >= 1:\n",
    "        print(tag + \" -> \" + str(len(docs)))"
   ]
  },
  {
   "cell_type": "code",
   "execution_count": null,
   "metadata": {},
   "outputs": [],
   "source": [
    "profile.limit_to_last(10)"
   ]
  },
  {
   "cell_type": "markdown",
   "metadata": {},
   "source": [
    "# LLM in Action\n",
    "\n",
    "## Create a tool to connect to firebase"
   ]
  },
  {
   "cell_type": "code",
   "execution_count": 4,
   "metadata": {},
   "outputs": [],
   "source": [
    "from dotenv import load_dotenv\n",
    "import os\n",
    "\n",
    "load_dotenv()  # take environment variables from .env.\n",
    "\n",
    "api_key = os.getenv(\"OPENAI_API_KEY\")"
   ]
  },
  {
   "cell_type": "code",
   "execution_count": 5,
   "metadata": {},
   "outputs": [],
   "source": [
    "from langchain.llms import OpenAI\n",
    "from langchain_openai import ChatOpenAI\n",
    "from langchain.tools import BaseTool, StructuredTool, Tool, tool\n",
    "from langchain.agents import load_tools, initialize_agent, AgentType"
   ]
  },
  {
   "cell_type": "code",
   "execution_count": 6,
   "metadata": {},
   "outputs": [],
   "source": [
    "llm = ChatOpenAI(openai_api_key=api_key)"
   ]
  },
  {
   "cell_type": "code",
   "execution_count": 7,
   "metadata": {},
   "outputs": [],
   "source": [
    "tools = []\n",
    "\n",
    "desc = (\n",
    "    \"use this tool when a user ask for a categories \"\n",
    "    \"It will return the user profile in JSON format.\"\n",
    ")\n",
    "\n",
    "\n",
    "class ServiceProvider(BaseTool):\n",
    "    name = \"Categories\"\n",
    "    description = desc\n",
    "\n",
    "    def _run(self, service: str):\n",
    "        users_ref = (\n",
    "            db.collection(\"categories\")\n",
    "            .where(filter=FieldFilter(\"active\", \"==\", True))\n",
    "            .where(filter=FieldFilter(\"rating\", \">=\", 3))\n",
    "        )\n",
    "        docs = users_ref.stream()\n",
    "\n",
    "        providers = []\n",
    "        for doc in docs:\n",
    "            print(f'{doc.id} => {doc.to_dict()[\"name\"]}')\n",
    "            providers.append(doc.to_dict()[\"name\"])\n",
    "        return providers\n",
    "\n",
    "    def _arun(self, query: str):\n",
    "        raise NotImplementedError(\"This tool does not support async\")\n",
    "\n",
    "\n",
    "tools.append(ServiceProvider())"
   ]
  },
  {
   "cell_type": "code",
   "execution_count": 8,
   "metadata": {},
   "outputs": [],
   "source": [
    "from langchain.chains.conversation.memory import ConversationBufferWindowMemory\n",
    "\n",
    "# initialize conversational memory\n",
    "conversational_memory = ConversationBufferWindowMemory(\n",
    "    memory_key=\"chat_history\", k=5, return_messages=True\n",
    ")"
   ]
  },
  {
   "cell_type": "code",
   "execution_count": 9,
   "metadata": {},
   "outputs": [
    {
     "name": "stderr",
     "output_type": "stream",
     "text": [
      "/home/nmlemus/miniforge3/envs/llm/lib/python3.9/site-packages/langchain_core/_api/deprecation.py:117: LangChainDeprecationWarning: The function `initialize_agent` was deprecated in LangChain 0.1.0 and will be removed in 0.2.0. Use Use new agent constructor methods like create_react_agent, create_json_agent, create_structured_chat_agent, etc. instead.\n",
      "  warn_deprecated(\n"
     ]
    }
   ],
   "source": [
    "# initialize agent with tools\n",
    "agent = initialize_agent(\n",
    "    agent=\"chat-conversational-react-description\",\n",
    "    tools=tools,\n",
    "    llm=llm,\n",
    "    verbose=True,\n",
    "    max_iterations=3,\n",
    "    early_stopping_method=\"generate\",\n",
    "    memory=conversational_memory,\n",
    ")"
   ]
  },
  {
   "cell_type": "code",
   "execution_count": 10,
   "metadata": {},
   "outputs": [
    {
     "name": "stdout",
     "output_type": "stream",
     "text": [
      "\n",
      "\n",
      "\u001b[1m> Entering new AgentExecutor chain...\u001b[0m\n",
      "\u001b[32;1m\u001b[1;3m```json\n",
      "{\n",
      "    \"action\": \"Categories\",\n",
      "    \"action_input\": \"Puedes buscar las categorias disponibles?\"\n",
      "}\n",
      "```\u001b[0mdelivery => Delivery\n",
      "transporte => Transporte\n",
      "reparaciones => Reparaciones\n",
      "spa => SPA\n",
      "hogar => Hogar\n",
      "mecanico => Mecanico\n",
      "salud => Salud\n",
      "\n",
      "Observation: \u001b[36;1m\u001b[1;3m['Delivery', 'Transporte', 'Reparaciones', 'SPA', 'Hogar', 'Mecanico', 'Salud']\u001b[0m\n",
      "Thought:\u001b[32;1m\u001b[1;3m```json\n",
      "{\n",
      "    \"action\": \"Final Answer\",\n",
      "    \"action_input\": \"Las categorías disponibles son: 'Delivery', 'Transporte', 'Reparaciones', 'SPA', 'Hogar', 'Mecanico', 'Salud'.\"\n",
      "}\n",
      "```\u001b[0m\n",
      "\n",
      "\u001b[1m> Finished chain.\u001b[0m\n"
     ]
    },
    {
     "data": {
      "text/plain": [
       "{'input': 'Puedes buscar las categorias disponibles?     Por favor, devuelveme la respuesta en español',\n",
       " 'chat_history': [],\n",
       " 'output': \"Las categorías disponibles son: 'Delivery', 'Transporte', 'Reparaciones', 'SPA', 'Hogar', 'Mecanico', 'Salud'.\"}"
      ]
     },
     "execution_count": 10,
     "metadata": {},
     "output_type": "execute_result"
    }
   ],
   "source": [
    "agent.invoke(\n",
    "    \"Puedes buscar las categorias disponibles? \\\n",
    "    Por favor, devuelveme la respuesta en español\"\n",
    ")"
   ]
  },
  {
   "cell_type": "code",
   "execution_count": 11,
   "metadata": {},
   "outputs": [
    {
     "name": "stdout",
     "output_type": "stream",
     "text": [
      "\n",
      "\n",
      "\u001b[1m> Entering new AgentExecutor chain...\u001b[0m\n",
      "\u001b[32;1m\u001b[1;3m```json\n",
      "{\n",
      "    \"action\": \"Final Answer\",\n",
      "    \"action_input\": \"La categoría 'Delivery' es la que puedes usar para pedir algo a domicilio.\"\n",
      "}\n",
      "```\u001b[0m\n",
      "\n",
      "\u001b[1m> Finished chain.\u001b[0m\n"
     ]
    },
    {
     "data": {
      "text/plain": [
       "{'input': 'Ahora puedes decirme sin usar ninguna herramienta si existe alguna catetoria que pueda usar para pedir algo a domicilio?',\n",
       " 'chat_history': [HumanMessage(content='Puedes buscar las categorias disponibles?     Por favor, devuelveme la respuesta en español'),\n",
       "  AIMessage(content=\"Las categorías disponibles son: 'Delivery', 'Transporte', 'Reparaciones', 'SPA', 'Hogar', 'Mecanico', 'Salud'.\")],\n",
       " 'output': \"La categoría 'Delivery' es la que puedes usar para pedir algo a domicilio.\"}"
      ]
     },
     "execution_count": 11,
     "metadata": {},
     "output_type": "execute_result"
    }
   ],
   "source": [
    "agent.invoke(\n",
    "    \"Ahora puedes decirme sin usar ninguna herramienta si existe alguna catetoria que pueda usar para pedir algo a domicilio?\"\n",
    ")"
   ]
  },
  {
   "cell_type": "code",
   "execution_count": 12,
   "metadata": {},
   "outputs": [
    {
     "name": "stdout",
     "output_type": "stream",
     "text": [
      "\n",
      "\n",
      "\u001b[1m> Entering new AgentExecutor chain...\u001b[0m\n",
      "\u001b[32;1m\u001b[1;3m```json\n",
      "{\n",
      "    \"action\": \"Final Answer\",\n",
      "    \"action_input\": \"La categoría 'Mecánico' es la que puedes usar para resolver un problema con el auto.\"\n",
      "}\n",
      "```\u001b[0m\n",
      "\n",
      "\u001b[1m> Finished chain.\u001b[0m\n"
     ]
    },
    {
     "data": {
      "text/plain": [
       "{'input': 'Y para resolver un problema con el auto?',\n",
       " 'chat_history': [HumanMessage(content='Puedes buscar las categorias disponibles?     Por favor, devuelveme la respuesta en español'),\n",
       "  AIMessage(content=\"Las categorías disponibles son: 'Delivery', 'Transporte', 'Reparaciones', 'SPA', 'Hogar', 'Mecanico', 'Salud'.\"),\n",
       "  HumanMessage(content='Ahora puedes decirme sin usar ninguna herramienta si existe alguna catetoria que pueda usar para pedir algo a domicilio?'),\n",
       "  AIMessage(content=\"La categoría 'Delivery' es la que puedes usar para pedir algo a domicilio.\")],\n",
       " 'output': \"La categoría 'Mecánico' es la que puedes usar para resolver un problema con el auto.\"}"
      ]
     },
     "execution_count": 12,
     "metadata": {},
     "output_type": "execute_result"
    }
   ],
   "source": [
    "agent.invoke(\"Y para resolver un problema con el auto?\")"
   ]
  }
 ],
 "metadata": {
  "kernelspec": {
   "display_name": "llm",
   "language": "python",
   "name": "python3"
  },
  "language_info": {
   "codemirror_mode": {
    "name": "ipython",
    "version": 3
   },
   "file_extension": ".py",
   "mimetype": "text/x-python",
   "name": "python",
   "nbconvert_exporter": "python",
   "pygments_lexer": "ipython3",
   "version": "3.11.9"
  }
 },
 "nbformat": 4,
 "nbformat_minor": 2
}
