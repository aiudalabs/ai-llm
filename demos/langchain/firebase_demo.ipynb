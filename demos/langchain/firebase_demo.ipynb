{
 "cells": [
  {
   "cell_type": "markdown",
   "metadata": {},
   "source": [
    "**Table of contents**<a id='toc0_'></a>    \n",
    "- [Install the required libraries](#toc1_)    \n",
    "- [Import libraries](#toc2_)    \n",
    "- [Connect to Firebase using Service Account](#toc3_)    \n",
    "- [Queries](#toc4_)    \n",
    "\n",
    "<!-- vscode-jupyter-toc-config\n",
    "\tnumbering=false\n",
    "\tanchor=true\n",
    "\tflat=false\n",
    "\tminLevel=1\n",
    "\tmaxLevel=6\n",
    "\t/vscode-jupyter-toc-config -->\n",
    "<!-- THIS CELL WILL BE REPLACED ON TOC UPDATE. DO NOT WRITE YOUR TEXT IN THIS CELL -->"
   ]
  },
  {
   "cell_type": "markdown",
   "metadata": {},
   "source": [
    "# <a id='toc1_'></a>[Install the required libraries](#toc0_)\n",
    "\n",
    "```bash\n",
    "!pip install --upgrade firebase-admin\n",
    "```"
   ]
  },
  {
   "cell_type": "markdown",
   "metadata": {},
   "source": [
    "# <a id='toc2_'></a>[Import libraries](#toc0_)"
   ]
  },
  {
   "cell_type": "code",
   "execution_count": 1,
   "metadata": {},
   "outputs": [],
   "source": [
    "import firebase_admin\n",
    "from firebase_admin import credentials\n",
    "from firebase_admin import firestore\n",
    "from google.cloud.firestore_v1.base_query import FieldFilter"
   ]
  },
  {
   "cell_type": "markdown",
   "metadata": {},
   "source": [
    "# <a id='toc3_'></a>[Connect to Firebase using Service Account](#toc0_)"
   ]
  },
  {
   "cell_type": "code",
   "execution_count": 2,
   "metadata": {},
   "outputs": [],
   "source": [
    "# Use a service account.\n",
    "cred = credentials.Certificate(\"aiuda-ffc77-1f6910e96817.json\")\n",
    "\n",
    "app = firebase_admin.initialize_app(cred)\n",
    "\n",
    "db = firestore.client()"
   ]
  },
  {
   "cell_type": "markdown",
   "metadata": {},
   "source": [
    "# <a id='toc4_'></a>[Queries](#toc0_)"
   ]
  },
  {
   "cell_type": "code",
   "execution_count": 3,
   "metadata": {},
   "outputs": [
    {
     "name": "stdout",
     "output_type": "stream",
     "text": [
      "{'active': True, 'rating': 3, 'tags': ['Entregas', 'Medicinas', 'Encargos'], 'imageURL': 'https://firebasestorage.googleapis.com/v0/b/aiuda-ffc77.appspot.com/o/categories%2Fcasual-life-3d-side-view-of-delivery-man-standing-with-bicycle-and-looking-at-the-phone.png?alt=media&token=6dd3392e-5fd1-4b2d-a93e-23a6dc1700b3', 'name': 'Delivery'}\n",
      "{'rating': 4.5, 'active': True, 'tags': ['Limpieza', 'Pintor', 'Albañil', 'Plomero', 'Electricista'], 'imageURL': 'https://firebasestorage.googleapis.com/v0/b/aiuda-ffc77.appspot.com/o/categories%2Fhandyman.jpeg?alt=media&token=927eee83-9e54-450f-9b51-70155028f02b', 'name': 'Hogar'}\n",
      "{'rating': 5, 'active': True, 'tags': ['Autos', 'Motos', 'Electronica', 'Bicicletas', 'Aires Acondicionados'], 'imageURL': 'https://firebasestorage.googleapis.com/v0/b/aiuda-ffc77.appspot.com/o/categories%2F1024.png?alt=media&token=922cd380-5a90-498e-a262-58f57648229d', 'name': 'Mecanico'}\n",
      "{'active': True, 'rating': 4, 'tags': ['Computadoras'], 'imageURL': 'https://www.muycanal.com/wp-content/uploads/2013/06/reparaciones_electronicas.jpg', 'name': 'Reparaciones'}\n",
      "{'active': True, 'rating': 5, 'tags': ['Enfermera', 'Ciudado Adulto Mayor', 'Medico a Domicilio'], 'imageURL': 'https://firebasestorage.googleapis.com/v0/b/aiuda-ffc77.appspot.com/o/categories%2Fsalud.jpeg?alt=media&token=f414a6e4-caa6-4676-a77c-e435aab9e731', 'name': 'Salud'}\n",
      "{'active': True, 'rating': 4.2, 'tags': ['Estilista', 'Manicuri', 'Depilación', 'Maquillaje', 'Masajista'], 'imageURL': 'https://firebasestorage.googleapis.com/v0/b/aiuda-ffc77.appspot.com/o/categories%2Fspa.jpeg?alt=media&token=060ecbd7-9c6c-4d23-9f5b-9896eaa59323', 'name': 'SPA'}\n",
      "{'rating': 3.8, 'active': True, 'tags': ['Mudanzas', 'Acarreos', 'Taxi', 'Excursiones', 'Escolares'], 'imageURL': 'https://firebasestorage.googleapis.com/v0/b/aiuda-ffc77.appspot.com/o/categories%2Ficons8-taxi-64.png?alt=media&token=4e49392d-bf1e-4ad0-9e66-0bbd4dd73655', 'name': 'Transporte'}\n"
     ]
    }
   ],
   "source": [
    "categories = db.collection(\"categories\")\n",
    "docs = categories.stream()\n",
    "\n",
    "for doc in docs:\n",
    "    print(doc.to_dict())"
   ]
  },
  {
   "cell_type": "markdown",
   "metadata": {},
   "source": [
    "# LLM in Action\n",
    "\n",
    "## Create a tool to connect to firebase"
   ]
  },
  {
   "cell_type": "code",
   "execution_count": 4,
   "metadata": {},
   "outputs": [],
   "source": [
    "from dotenv import load_dotenv\n",
    "import os\n",
    "\n",
    "load_dotenv()  # take environment variables from .env.\n",
    "\n",
    "api_key = os.getenv(\"OPENAI_API_KEY\")"
   ]
  },
  {
   "cell_type": "code",
   "execution_count": 5,
   "metadata": {},
   "outputs": [],
   "source": [
    "from langchain.llms import OpenAI\n",
    "from langchain_openai import ChatOpenAI\n",
    "from langchain.tools import BaseTool, StructuredTool, Tool, tool\n",
    "from langchain.agents import load_tools, initialize_agent, AgentType"
   ]
  },
  {
   "cell_type": "code",
   "execution_count": 6,
   "metadata": {},
   "outputs": [],
   "source": [
    "llm = ChatOpenAI(openai_api_key=api_key)"
   ]
  },
  {
   "cell_type": "code",
   "execution_count": 7,
   "metadata": {},
   "outputs": [],
   "source": [
    "tools = []\n",
    "\n",
    "desc = (\n",
    "    \"use this tool when a user ask for a categories \"\n",
    "    \"It will return the user profile in JSON format.\"\n",
    ")\n",
    "\n",
    "\n",
    "class ServiceProvider(BaseTool):\n",
    "    name = \"Categories\"\n",
    "    description = desc\n",
    "\n",
    "    def _run(self, service: str):\n",
    "        users_ref = (\n",
    "            db.collection(\"categories\")\n",
    "            .where(filter=FieldFilter(\"active\", \"==\", True))\n",
    "            .where(filter=FieldFilter(\"rating\", \">=\", 3))\n",
    "        )\n",
    "        docs = users_ref.stream()\n",
    "\n",
    "        providers = []\n",
    "        for doc in docs:\n",
    "            print(f'{doc.id} => {doc.to_dict()[\"name\"]}')\n",
    "            providers.append(doc.to_dict()[\"name\"])\n",
    "        return providers\n",
    "\n",
    "    def _arun(self, query: str):\n",
    "        raise NotImplementedError(\"This tool does not support async\")\n",
    "\n",
    "\n",
    "tools.append(ServiceProvider())"
   ]
  },
  {
   "cell_type": "code",
   "execution_count": 8,
   "metadata": {},
   "outputs": [],
   "source": [
    "from langchain.chains.conversation.memory import ConversationBufferWindowMemory\n",
    "\n",
    "# initialize conversational memory\n",
    "conversational_memory = ConversationBufferWindowMemory(\n",
    "    memory_key=\"chat_history\", k=5, return_messages=True\n",
    ")"
   ]
  },
  {
   "cell_type": "code",
   "execution_count": 9,
   "metadata": {},
   "outputs": [
    {
     "name": "stderr",
     "output_type": "stream",
     "text": [
      "/home/nmlemus/miniforge3/envs/llm/lib/python3.9/site-packages/langchain_core/_api/deprecation.py:117: LangChainDeprecationWarning: The function `initialize_agent` was deprecated in LangChain 0.1.0 and will be removed in 0.2.0. Use Use new agent constructor methods like create_react_agent, create_json_agent, create_structured_chat_agent, etc. instead.\n",
      "  warn_deprecated(\n"
     ]
    }
   ],
   "source": [
    "# initialize agent with tools\n",
    "agent = initialize_agent(\n",
    "    agent=\"chat-conversational-react-description\",\n",
    "    tools=tools,\n",
    "    llm=llm,\n",
    "    verbose=True,\n",
    "    max_iterations=3,\n",
    "    early_stopping_method=\"generate\",\n",
    "    memory=conversational_memory,\n",
    ")"
   ]
  },
  {
   "cell_type": "code",
   "execution_count": 10,
   "metadata": {},
   "outputs": [
    {
     "name": "stdout",
     "output_type": "stream",
     "text": [
      "\n",
      "\n",
      "\u001b[1m> Entering new AgentExecutor chain...\u001b[0m\n",
      "\u001b[32;1m\u001b[1;3m```json\n",
      "{\n",
      "    \"action\": \"Categories\",\n",
      "    \"action_input\": \"Puedes buscar las categorias disponibles?\"\n",
      "}\n",
      "```\u001b[0mdelivery => Delivery\n",
      "transporte => Transporte\n",
      "reparaciones => Reparaciones\n",
      "spa => SPA\n",
      "hogar => Hogar\n",
      "mecanico => Mecanico\n",
      "salud => Salud\n",
      "\n",
      "Observation: \u001b[36;1m\u001b[1;3m['Delivery', 'Transporte', 'Reparaciones', 'SPA', 'Hogar', 'Mecanico', 'Salud']\u001b[0m\n",
      "Thought:\u001b[32;1m\u001b[1;3m```json\n",
      "{\n",
      "    \"action\": \"Final Answer\",\n",
      "    \"action_input\": \"Las categorías disponibles son: 'Delivery', 'Transporte', 'Reparaciones', 'SPA', 'Hogar', 'Mecanico', 'Salud'.\"\n",
      "}\n",
      "```\u001b[0m\n",
      "\n",
      "\u001b[1m> Finished chain.\u001b[0m\n"
     ]
    },
    {
     "data": {
      "text/plain": [
       "{'input': 'Puedes buscar las categorias disponibles?     Por favor, devuelveme la respuesta en español',\n",
       " 'chat_history': [],\n",
       " 'output': \"Las categorías disponibles son: 'Delivery', 'Transporte', 'Reparaciones', 'SPA', 'Hogar', 'Mecanico', 'Salud'.\"}"
      ]
     },
     "execution_count": 10,
     "metadata": {},
     "output_type": "execute_result"
    }
   ],
   "source": [
    "agent.invoke(\n",
    "    \"Puedes buscar las categorias disponibles? \\\n",
    "    Por favor, devuelveme la respuesta en español\"\n",
    ")"
   ]
  },
  {
   "cell_type": "code",
   "execution_count": 11,
   "metadata": {},
   "outputs": [
    {
     "name": "stdout",
     "output_type": "stream",
     "text": [
      "\n",
      "\n",
      "\u001b[1m> Entering new AgentExecutor chain...\u001b[0m\n",
      "\u001b[32;1m\u001b[1;3m```json\n",
      "{\n",
      "    \"action\": \"Final Answer\",\n",
      "    \"action_input\": \"La categoría 'Delivery' es la que puedes usar para pedir algo a domicilio.\"\n",
      "}\n",
      "```\u001b[0m\n",
      "\n",
      "\u001b[1m> Finished chain.\u001b[0m\n"
     ]
    },
    {
     "data": {
      "text/plain": [
       "{'input': 'Ahora puedes decirme sin usar ninguna herramienta si existe alguna catetoria que pueda usar para pedir algo a domicilio?',\n",
       " 'chat_history': [HumanMessage(content='Puedes buscar las categorias disponibles?     Por favor, devuelveme la respuesta en español'),\n",
       "  AIMessage(content=\"Las categorías disponibles son: 'Delivery', 'Transporte', 'Reparaciones', 'SPA', 'Hogar', 'Mecanico', 'Salud'.\")],\n",
       " 'output': \"La categoría 'Delivery' es la que puedes usar para pedir algo a domicilio.\"}"
      ]
     },
     "execution_count": 11,
     "metadata": {},
     "output_type": "execute_result"
    }
   ],
   "source": [
    "agent.invoke(\n",
    "    \"Ahora puedes decirme sin usar ninguna herramienta si existe alguna catetoria que pueda usar para pedir algo a domicilio?\"\n",
    ")"
   ]
  },
  {
   "cell_type": "code",
   "execution_count": 12,
   "metadata": {},
   "outputs": [
    {
     "name": "stdout",
     "output_type": "stream",
     "text": [
      "\n",
      "\n",
      "\u001b[1m> Entering new AgentExecutor chain...\u001b[0m\n",
      "\u001b[32;1m\u001b[1;3m```json\n",
      "{\n",
      "    \"action\": \"Final Answer\",\n",
      "    \"action_input\": \"La categoría 'Mecánico' es la que puedes usar para resolver un problema con el auto.\"\n",
      "}\n",
      "```\u001b[0m\n",
      "\n",
      "\u001b[1m> Finished chain.\u001b[0m\n"
     ]
    },
    {
     "data": {
      "text/plain": [
       "{'input': 'Y para resolver un problema con el auto?',\n",
       " 'chat_history': [HumanMessage(content='Puedes buscar las categorias disponibles?     Por favor, devuelveme la respuesta en español'),\n",
       "  AIMessage(content=\"Las categorías disponibles son: 'Delivery', 'Transporte', 'Reparaciones', 'SPA', 'Hogar', 'Mecanico', 'Salud'.\"),\n",
       "  HumanMessage(content='Ahora puedes decirme sin usar ninguna herramienta si existe alguna catetoria que pueda usar para pedir algo a domicilio?'),\n",
       "  AIMessage(content=\"La categoría 'Delivery' es la que puedes usar para pedir algo a domicilio.\")],\n",
       " 'output': \"La categoría 'Mecánico' es la que puedes usar para resolver un problema con el auto.\"}"
      ]
     },
     "execution_count": 12,
     "metadata": {},
     "output_type": "execute_result"
    }
   ],
   "source": [
    "agent.invoke(\"Y para resolver un problema con el auto?\")"
   ]
  }
 ],
 "metadata": {
  "kernelspec": {
   "display_name": "llm",
   "language": "python",
   "name": "python3"
  },
  "language_info": {
   "codemirror_mode": {
    "name": "ipython",
    "version": 3
   },
   "file_extension": ".py",
   "mimetype": "text/x-python",
   "name": "python",
   "nbconvert_exporter": "python",
   "pygments_lexer": "ipython3",
   "version": "3.9.19"
  }
 },
 "nbformat": 4,
 "nbformat_minor": 2
}
