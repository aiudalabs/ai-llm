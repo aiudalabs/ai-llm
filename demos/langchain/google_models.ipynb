{
 "cells": [
  {
   "cell_type": "code",
   "execution_count": null,
   "metadata": {},
   "outputs": [],
   "source": []
  },
  {
   "cell_type": "code",
   "execution_count": 1,
   "metadata": {},
   "outputs": [],
   "source": [
    "from langchain_google_genai import GoogleGenerativeAI"
   ]
  },
  {
   "cell_type": "code",
   "execution_count": 2,
   "metadata": {},
   "outputs": [],
   "source": [
    "from getpass import getpass\n",
    "\n",
    "api_key = getpass()"
   ]
  },
  {
   "cell_type": "code",
   "execution_count": 3,
   "metadata": {},
   "outputs": [
    {
     "name": "stdout",
     "output_type": "stream",
     "text": [
      "## **Pros of Python**\n",
      "\n",
      "* **Easy to learn:** Python is a relatively easy language to learn, even for beginners. The syntax is simple and straightforward, and there are a lot of resources available to help you get started.\n",
      "* **Versatile:** Python can be used for a wide variety of tasks, from simple scripts to complex applications. It's a good choice for beginners because it can be used for a variety of projects, and it's also a good choice for experienced developers because it's powerful and flexible.\n",
      "* **High-level:** Python is a high-level language, which means that it's closer to human language than low-level languages like C++ or Java. This makes it easier to read and write code, and it also makes it more portable.\n",
      "* **Object-oriented:** Python is an object-oriented language, which means that it supports the concept of objects. This makes it easier to write modular code and to reuse code across different projects.\n",
      "* **Dynamically typed:** Python is a dynamically typed language, which means that you don't have to declare the types of variables when you declare them. This makes it easier to write code quickly and easily, but it can also lead to errors if you're not careful.\n",
      "* **Free and open source:** Python is free and open source software, which means that you can download it and use it for free. There are also a lot of free resources available to help you learn Python.\n",
      "\n",
      "## **Cons of Python**\n",
      "\n",
      "* **Slow:** Python is a relatively slow language compared to compiled languages like C++ or Java. This is because Python is interpreted, which means that the code is translated into machine code at runtime.\n",
      "* **Not as performant:** Python is not as performant as compiled languages like C++ or Java. This is because Python is an interpreted language, and it doesn't have the same level of compiler optimization as compiled languages.\n",
      "* **Less secure:** Python is less secure than compiled languages like C++ or Java. This is because Python is an interpreted language, and it's easier for attackers to find and exploit security vulnerabilities.\n",
      "* **Not as widely used:** Python is not as widely used as compiled languages like C++ or Java. This means that there are fewer developers who are familiar with Python, and it can be more difficult to find help if you run into problems.\n",
      "\n",
      "## **Overall, Python is a good choice for beginners and experienced developers alike. It's easy to learn, versatile, and powerful. However, it's important to be aware of its limitations, such as its slow performance and lack of security.**\n"
     ]
    }
   ],
   "source": [
    "llm = GoogleGenerativeAI(model=\"models/text-bison-001\", google_api_key=api_key)\n",
    "print(\n",
    "    llm.invoke(\n",
    "        \"What are some of the pros and cons of Python as a programming language?\"\n",
    "    )\n",
    ")"
   ]
  },
  {
   "cell_type": "markdown",
   "metadata": {},
   "source": [
    "# Vertex AI"
   ]
  },
  {
   "cell_type": "code",
   "execution_count": 5,
   "metadata": {},
   "outputs": [],
   "source": [
    "from langchain_google_vertexai import ChatVertexAI\n",
    "\n",
    "llm = ChatVertexAI(model=\"gemini-pro\")"
   ]
  },
  {
   "cell_type": "code",
   "execution_count": 6,
   "metadata": {},
   "outputs": [],
   "source": [
    "from langchain_core.pydantic_v1 import BaseModel, Field\n",
    "\n",
    "\n",
    "# Note that the docstrings here are crucial, as they will be passed along\n",
    "# to the model along with the class name.\n",
    "class add(BaseModel):\n",
    "    \"\"\"Add two integers together.\"\"\"\n",
    "\n",
    "    a: int = Field(..., description=\"First integer\")\n",
    "    b: int = Field(..., description=\"Second integer\")\n",
    "\n",
    "\n",
    "class multiply(BaseModel):\n",
    "    \"\"\"Multiply two integers together.\"\"\"\n",
    "\n",
    "    a: int = Field(..., description=\"First integer\")\n",
    "    b: int = Field(..., description=\"Second integer\")\n",
    "\n",
    "\n",
    "tools = [add, multiply]"
   ]
  },
  {
   "cell_type": "code",
   "execution_count": 7,
   "metadata": {},
   "outputs": [],
   "source": [
    "llm_with_tools = llm.bind_tools(tools)"
   ]
  },
  {
   "cell_type": "code",
   "execution_count": 13,
   "metadata": {},
   "outputs": [
    {
     "data": {
      "text/plain": [
       "AIMessage(content='', additional_kwargs={'function_call': {'name': 'multiply', 'arguments': '{\"a\": 3.0, \"b\": 12.0}'}}, response_metadata={'is_blocked': False, 'safety_ratings': [{'category': 'HARM_CATEGORY_HATE_SPEECH', 'probability_label': 'NEGLIGIBLE', 'blocked': False, 'severity': 'HARM_SEVERITY_NEGLIGIBLE'}, {'category': 'HARM_CATEGORY_DANGEROUS_CONTENT', 'probability_label': 'NEGLIGIBLE', 'blocked': False, 'severity': 'HARM_SEVERITY_NEGLIGIBLE'}, {'category': 'HARM_CATEGORY_HARASSMENT', 'probability_label': 'NEGLIGIBLE', 'blocked': False, 'severity': 'HARM_SEVERITY_NEGLIGIBLE'}, {'category': 'HARM_CATEGORY_SEXUALLY_EXPLICIT', 'probability_label': 'NEGLIGIBLE', 'blocked': False, 'severity': 'HARM_SEVERITY_NEGLIGIBLE'}], 'usage_metadata': {'prompt_token_count': 59, 'candidates_token_count': 3, 'total_token_count': 62}}, id='run-dd057330-611b-4a78-8b1a-926732164d1a-0', tool_calls=[{'name': 'multiply', 'args': {'a': 3.0, 'b': 12.0}, 'id': 'b46c6bcc-0ee2-4e25-9bdc-ad81a2577948', 'type': 'tool_call'}], usage_metadata={'input_tokens': 59, 'output_tokens': 3, 'total_tokens': 62})"
      ]
     },
     "execution_count": 13,
     "metadata": {},
     "output_type": "execute_result"
    }
   ],
   "source": [
    "llm_with_tools.invoke(\"What is 3 * 12? Also, what is 11 + 49?\")"
   ]
  },
  {
   "cell_type": "code",
   "execution_count": null,
   "metadata": {},
   "outputs": [],
   "source": []
  }
 ],
 "metadata": {
  "kernelspec": {
   "display_name": "Python 3",
   "language": "python",
   "name": "python3"
  },
  "language_info": {
   "codemirror_mode": {
    "name": "ipython",
    "version": 3
   },
   "file_extension": ".py",
   "mimetype": "text/x-python",
   "name": "python",
   "nbconvert_exporter": "python",
   "pygments_lexer": "ipython3",
   "version": "3.11.9"
  }
 },
 "nbformat": 4,
 "nbformat_minor": 2
}
