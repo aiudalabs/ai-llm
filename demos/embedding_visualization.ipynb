{
 "cells": [
  {
   "cell_type": "code",
   "execution_count": 1,
   "metadata": {},
   "outputs": [],
   "source": [
    "sentences = [\n",
    "    \"I want to book a fly\",\n",
    "    \"I need to book a hotel\",\n",
    "    \"I want to book a car\",\n",
    "    \"I read a lot of books last year\",\n",
    "    \"This book is amazing\",\n",
    "    \"The old man and the see\"\n",
    "]"
   ]
  },
  {
   "cell_type": "code",
   "execution_count": 22,
   "metadata": {},
   "outputs": [],
   "source": [
    "import firebase_admin\n",
    "from firebase_admin import credentials\n",
    "from firebase_admin import firestore\n",
    "from google.cloud.firestore_v1.base_query import FieldFilter"
   ]
  },
  {
   "cell_type": "code",
   "execution_count": 24,
   "metadata": {},
   "outputs": [],
   "source": [
    "# Use a service account.\n",
    "cred = credentials.Certificate(\"goblob-95e2a-6add9b68fd5d.json\")\n",
    "# cred = credentials.Certificate(\"aiuda-ffc77-b8546e446401.json\")\n",
    "\n",
    "app = firebase_admin.initialize_app(cred)\n",
    "\n",
    "db = firestore.client()"
   ]
  },
  {
   "cell_type": "code",
   "execution_count": 25,
   "metadata": {},
   "outputs": [],
   "source": [
    "profile = db.collection(\"profiles\")\n",
    "docs = profile.get()"
   ]
  },
  {
   "cell_type": "code",
   "execution_count": 26,
   "metadata": {},
   "outputs": [
    {
     "data": {
      "text/html": [
       "<div>\n",
       "<style scoped>\n",
       "    .dataframe tbody tr th:only-of-type {\n",
       "        vertical-align: middle;\n",
       "    }\n",
       "\n",
       "    .dataframe tbody tr th {\n",
       "        vertical-align: top;\n",
       "    }\n",
       "\n",
       "    .dataframe thead th {\n",
       "        text-align: right;\n",
       "    }\n",
       "</style>\n",
       "<table border=\"1\" class=\"dataframe\">\n",
       "  <thead>\n",
       "    <tr style=\"text-align: right;\">\n",
       "      <th></th>\n",
       "      <th>name</th>\n",
       "      <th>address</th>\n",
       "      <th>gender</th>\n",
       "      <th>age</th>\n",
       "      <th>tags</th>\n",
       "      <th>service</th>\n",
       "      <th>about</th>\n",
       "      <th>location</th>\n",
       "    </tr>\n",
       "  </thead>\n",
       "  <tbody>\n",
       "    <tr>\n",
       "      <th>0</th>\n",
       "      <td>Violeta IOS</td>\n",
       "      <td>Calle Punta Colón, Calle Punta Colón, Panama C...</td>\n",
       "      <td>female</td>\n",
       "      <td>29</td>\n",
       "      <td>[pets, paseo_de_perros, dog_sitting]</td>\n",
       "      <td>pets</td>\n",
       "      <td>Guardo y paseo de mascotas. Soy estudiante 3er...</td>\n",
       "      <td>{'lat': 8.97548104431072, 'long': -79.50703719...</td>\n",
       "    </tr>\n",
       "    <tr>\n",
       "      <th>1</th>\n",
       "      <td>violeta ios 0.7.17</td>\n",
       "      <td></td>\n",
       "      <td>female</td>\n",
       "      <td>35</td>\n",
       "      <td>[pets, dog_sitting, paseo_de_perros]</td>\n",
       "      <td>pets</td>\n",
       "      <td>¡Hola! Soy Violeta, una apasionada por los ani...</td>\n",
       "      <td>{'lat': 8.9837843, 'long': -79.5207418}</td>\n",
       "    </tr>\n",
       "    <tr>\n",
       "      <th>2</th>\n",
       "      <td>Arizza</td>\n",
       "      <td>Panamá, , Panamá, Panama</td>\n",
       "      <td></td>\n",
       "      <td>None</td>\n",
       "      <td>[user]</td>\n",
       "      <td>user</td>\n",
       "      <td></td>\n",
       "      <td>{'lat': 8.994300842285156, 'long': -79.5596818...</td>\n",
       "    </tr>\n",
       "    <tr>\n",
       "      <th>3</th>\n",
       "      <td>Oriana Vega24422</td>\n",
       "      <td>PQ5V+3PR, PQ5V+3PR, Punto Fijo, Falcón, Venezuela</td>\n",
       "      <td>female</td>\n",
       "      <td>27</td>\n",
       "      <td>[user, musica, piano, moda]</td>\n",
       "      <td>user</td>\n",
       "      <td></td>\n",
       "      <td>{'lat': 11.7080935, 'long': -70.2067349}</td>\n",
       "    </tr>\n",
       "    <tr>\n",
       "      <th>4</th>\n",
       "      <td>Alejandro</td>\n",
       "      <td>Panamá, P.H. Bay View, Panamá, Provincia de Pa...</td>\n",
       "      <td>male</td>\n",
       "      <td>32</td>\n",
       "      <td>[misc, marketing]</td>\n",
       "      <td>misc</td>\n",
       "      <td></td>\n",
       "      <td>{'lat': 8.9600785, 'long': -79.5383008}</td>\n",
       "    </tr>\n",
       "    <tr>\n",
       "      <th>...</th>\n",
       "      <td>...</td>\n",
       "      <td>...</td>\n",
       "      <td>...</td>\n",
       "      <td>...</td>\n",
       "      <td>...</td>\n",
       "      <td>...</td>\n",
       "      <td>...</td>\n",
       "      <td>...</td>\n",
       "    </tr>\n",
       "    <tr>\n",
       "      <th>69</th>\n",
       "      <td>Angela</td>\n",
       "      <td>Panamá, El Mare Bethania, Panamá, Provincia de...</td>\n",
       "      <td>female</td>\n",
       "      <td>33</td>\n",
       "      <td>[spa, masajes]</td>\n",
       "      <td>spa</td>\n",
       "      <td></td>\n",
       "      <td>{'lat': 8.9946661, 'long': -79.5328797}</td>\n",
       "    </tr>\n",
       "    <tr>\n",
       "      <th>70</th>\n",
       "      <td>Laissa</td>\n",
       "      <td>Panamá, , Panamá, Panama</td>\n",
       "      <td></td>\n",
       "      <td></td>\n",
       "      <td>[transport, uber, moto]</td>\n",
       "      <td>transport</td>\n",
       "      <td>Soy Laissa, una apasionada del transporte y la...</td>\n",
       "      <td>{'lat': 8.9767517, 'long': -79.5326233}</td>\n",
       "    </tr>\n",
       "    <tr>\n",
       "      <th>71</th>\n",
       "      <td>Janicy dos Santos</td>\n",
       "      <td>55-7, 75 a Oeste, Panamá, Provincia de Panamá,...</td>\n",
       "      <td>male</td>\n",
       "      <td>32</td>\n",
       "      <td>[misc, educacion, tutorias, psicopedagoga]</td>\n",
       "      <td>misc</td>\n",
       "      <td></td>\n",
       "      <td>{'lat': 9.0157276, 'long': -79.5295287}</td>\n",
       "    </tr>\n",
       "    <tr>\n",
       "      <th>72</th>\n",
       "      <td>HomeSecurePTY</td>\n",
       "      <td>Homesecurepty, Calle 66 Este, Panamá, Provinci...</td>\n",
       "      <td>male</td>\n",
       "      <td>44</td>\n",
       "      <td>[repair, cerrajeria, cerrajeria_automotriz, ll...</td>\n",
       "      <td>repair</td>\n",
       "      <td>Cerrajería Automotriz, Residencial Y Comercial.</td>\n",
       "      <td>{'lat': 8.995956399999997, 'long': -79.5131565}</td>\n",
       "    </tr>\n",
       "    <tr>\n",
       "      <th>73</th>\n",
       "      <td>Emulator 66980917</td>\n",
       "      <td>132, Calle C, San Miguelito, Provincia de Pana...</td>\n",
       "      <td>female</td>\n",
       "      <td>32</td>\n",
       "      <td>[spa, manos_y_pies]</td>\n",
       "      <td>spa</td>\n",
       "      <td></td>\n",
       "      <td>{'lat': 9.03795683773441, 'long': -79.50094711...</td>\n",
       "    </tr>\n",
       "  </tbody>\n",
       "</table>\n",
       "<p>74 rows × 8 columns</p>\n",
       "</div>"
      ],
      "text/plain": [
       "                  name                                            address  \\\n",
       "0          Violeta IOS  Calle Punta Colón, Calle Punta Colón, Panama C...   \n",
       "1   violeta ios 0.7.17                                                      \n",
       "2               Arizza                           Panamá, , Panamá, Panama   \n",
       "3     Oriana Vega24422  PQ5V+3PR, PQ5V+3PR, Punto Fijo, Falcón, Venezuela   \n",
       "4           Alejandro   Panamá, P.H. Bay View, Panamá, Provincia de Pa...   \n",
       "..                 ...                                                ...   \n",
       "69             Angela   Panamá, El Mare Bethania, Panamá, Provincia de...   \n",
       "70              Laissa                           Panamá, , Panamá, Panama   \n",
       "71  Janicy dos Santos   55-7, 75 a Oeste, Panamá, Provincia de Panamá,...   \n",
       "72       HomeSecurePTY  Homesecurepty, Calle 66 Este, Panamá, Provinci...   \n",
       "73   Emulator 66980917  132, Calle C, San Miguelito, Provincia de Pana...   \n",
       "\n",
       "    gender   age                                               tags  \\\n",
       "0   female    29               [pets, paseo_de_perros, dog_sitting]   \n",
       "1   female    35               [pets, dog_sitting, paseo_de_perros]   \n",
       "2           None                                             [user]   \n",
       "3   female    27                        [user, musica, piano, moda]   \n",
       "4     male    32                                  [misc, marketing]   \n",
       "..     ...   ...                                                ...   \n",
       "69  female    33                                     [spa, masajes]   \n",
       "70                                          [transport, uber, moto]   \n",
       "71    male    32         [misc, educacion, tutorias, psicopedagoga]   \n",
       "72    male    44  [repair, cerrajeria, cerrajeria_automotriz, ll...   \n",
       "73  female    32                                [spa, manos_y_pies]   \n",
       "\n",
       "      service                                              about  \\\n",
       "0        pets  Guardo y paseo de mascotas. Soy estudiante 3er...   \n",
       "1        pets  ¡Hola! Soy Violeta, una apasionada por los ani...   \n",
       "2        user                                                      \n",
       "3        user                                                      \n",
       "4        misc                                                      \n",
       "..        ...                                                ...   \n",
       "69        spa                                                      \n",
       "70  transport  Soy Laissa, una apasionada del transporte y la...   \n",
       "71       misc                                                      \n",
       "72     repair    Cerrajería Automotriz, Residencial Y Comercial.   \n",
       "73        spa                                                      \n",
       "\n",
       "                                             location  \n",
       "0   {'lat': 8.97548104431072, 'long': -79.50703719...  \n",
       "1             {'lat': 8.9837843, 'long': -79.5207418}  \n",
       "2   {'lat': 8.994300842285156, 'long': -79.5596818...  \n",
       "3            {'lat': 11.7080935, 'long': -70.2067349}  \n",
       "4             {'lat': 8.9600785, 'long': -79.5383008}  \n",
       "..                                                ...  \n",
       "69            {'lat': 8.9946661, 'long': -79.5328797}  \n",
       "70            {'lat': 8.9767517, 'long': -79.5326233}  \n",
       "71            {'lat': 9.0157276, 'long': -79.5295287}  \n",
       "72    {'lat': 8.995956399999997, 'long': -79.5131565}  \n",
       "73  {'lat': 9.03795683773441, 'long': -79.50094711...  \n",
       "\n",
       "[74 rows x 8 columns]"
      ]
     },
     "execution_count": 26,
     "metadata": {},
     "output_type": "execute_result"
    }
   ],
   "source": [
    "df_profiles = []\n",
    "\n",
    "for doc in docs:\n",
    "    user_profile = doc.to_dict()\n",
    "\n",
    "    if user_profile[\"location\"] is not None:\n",
    "        try:\n",
    "            location = {\n",
    "                \"lat\": user_profile[\"location\"].latitude,\n",
    "                \"long\": user_profile[\"location\"].longitude,\n",
    "            }\n",
    "        except:\n",
    "            location = {\n",
    "                \"lat\": 0,\n",
    "                \"long\": 0,\n",
    "            }\n",
    "    else:\n",
    "        location = {\n",
    "            \"lat\": 0,\n",
    "            \"long\": 0,\n",
    "        }\n",
    "\n",
    "    tags_array = []\n",
    "\n",
    "    for tag in doc.to_dict()[\"tags\"]:\n",
    "        tags_array.append(tag[\"text\"])\n",
    "\n",
    "    data = {\n",
    "        \"name\": user_profile[\"displayName\"],\n",
    "        \"address\": user_profile[\"address\"] if \"address\" in user_profile.keys() is not None else \"\",\n",
    "        \"gender\": user_profile[\"gender\"],\n",
    "        \"age\": user_profile[\"age\"],\n",
    "        # rating = user_profile[\"avgRating\"]\n",
    "        \"tags\": tags_array,\n",
    "        \"service\": user_profile[\"service\"][\"text\"],\n",
    "        \"about\": user_profile[\"about\"],\n",
    "        \"location\": location\n",
    "    }\n",
    "\n",
    "    df_profiles.append(data)\n",
    "\n",
    "df_profiles = pd.DataFrame.from_dict(df_profiles)\n",
    "\n",
    "df_profiles"
   ]
  },
  {
   "cell_type": "code",
   "execution_count": 27,
   "metadata": {},
   "outputs": [
    {
     "data": {
      "text/html": [
       "<div>\n",
       "<style scoped>\n",
       "    .dataframe tbody tr th:only-of-type {\n",
       "        vertical-align: middle;\n",
       "    }\n",
       "\n",
       "    .dataframe tbody tr th {\n",
       "        vertical-align: top;\n",
       "    }\n",
       "\n",
       "    .dataframe thead th {\n",
       "        text-align: right;\n",
       "    }\n",
       "</style>\n",
       "<table border=\"1\" class=\"dataframe\">\n",
       "  <thead>\n",
       "    <tr style=\"text-align: right;\">\n",
       "      <th></th>\n",
       "      <th>name</th>\n",
       "      <th>address</th>\n",
       "      <th>gender</th>\n",
       "      <th>age</th>\n",
       "      <th>tags</th>\n",
       "      <th>service</th>\n",
       "      <th>about</th>\n",
       "      <th>location</th>\n",
       "    </tr>\n",
       "  </thead>\n",
       "  <tbody>\n",
       "    <tr>\n",
       "      <th>0</th>\n",
       "      <td>Violeta IOS</td>\n",
       "      <td>Calle Punta Colón, Calle Punta Colón, Panama C...</td>\n",
       "      <td>female</td>\n",
       "      <td>29</td>\n",
       "      <td>[pets, paseo_de_perros, dog_sitting]</td>\n",
       "      <td>pets</td>\n",
       "      <td>Guardo y paseo de mascotas. Soy estudiante 3er...</td>\n",
       "      <td>{'lat': 8.97548104431072, 'long': -79.50703719...</td>\n",
       "    </tr>\n",
       "    <tr>\n",
       "      <th>1</th>\n",
       "      <td>violeta ios 0.7.17</td>\n",
       "      <td></td>\n",
       "      <td>female</td>\n",
       "      <td>35</td>\n",
       "      <td>[pets, dog_sitting, paseo_de_perros]</td>\n",
       "      <td>pets</td>\n",
       "      <td>¡Hola! Soy Violeta, una apasionada por los ani...</td>\n",
       "      <td>{'lat': 8.9837843, 'long': -79.5207418}</td>\n",
       "    </tr>\n",
       "    <tr>\n",
       "      <th>3</th>\n",
       "      <td>Oriana Vega24422</td>\n",
       "      <td>PQ5V+3PR, PQ5V+3PR, Punto Fijo, Falcón, Venezuela</td>\n",
       "      <td>female</td>\n",
       "      <td>27</td>\n",
       "      <td>[user, musica, piano, moda]</td>\n",
       "      <td>user</td>\n",
       "      <td></td>\n",
       "      <td>{'lat': 11.7080935, 'long': -70.2067349}</td>\n",
       "    </tr>\n",
       "    <tr>\n",
       "      <th>4</th>\n",
       "      <td>Alejandro</td>\n",
       "      <td>Panamá, P.H. Bay View, Panamá, Provincia de Pa...</td>\n",
       "      <td>male</td>\n",
       "      <td>32</td>\n",
       "      <td>[misc, marketing]</td>\n",
       "      <td>misc</td>\n",
       "      <td></td>\n",
       "      <td>{'lat': 8.9600785, 'long': -79.5383008}</td>\n",
       "    </tr>\n",
       "    <tr>\n",
       "      <th>5</th>\n",
       "      <td>Jules D.</td>\n",
       "      <td>32, Rue Fabert, Paris, Île-de-France, France</td>\n",
       "      <td>male</td>\n",
       "      <td>28</td>\n",
       "      <td>[user]</td>\n",
       "      <td>user</td>\n",
       "      <td></td>\n",
       "      <td>{'lat': 48.8598247, 'long': 2.3113472}</td>\n",
       "    </tr>\n",
       "    <tr>\n",
       "      <th>...</th>\n",
       "      <td>...</td>\n",
       "      <td>...</td>\n",
       "      <td>...</td>\n",
       "      <td>...</td>\n",
       "      <td>...</td>\n",
       "      <td>...</td>\n",
       "      <td>...</td>\n",
       "      <td>...</td>\n",
       "    </tr>\n",
       "    <tr>\n",
       "      <th>68</th>\n",
       "      <td>Tarandeep singh</td>\n",
       "      <td>MHRG+CPG, Old Bazaar Road, Ratia, Haryana, India</td>\n",
       "      <td>male</td>\n",
       "      <td>26</td>\n",
       "      <td>[repair]</td>\n",
       "      <td>repair</td>\n",
       "      <td></td>\n",
       "      <td>{'lat': 29.6916441, 'long': 75.5780667}</td>\n",
       "    </tr>\n",
       "    <tr>\n",
       "      <th>69</th>\n",
       "      <td>Angela</td>\n",
       "      <td>Panamá, El Mare Bethania, Panamá, Provincia de...</td>\n",
       "      <td>female</td>\n",
       "      <td>33</td>\n",
       "      <td>[spa, masajes]</td>\n",
       "      <td>spa</td>\n",
       "      <td></td>\n",
       "      <td>{'lat': 8.9946661, 'long': -79.5328797}</td>\n",
       "    </tr>\n",
       "    <tr>\n",
       "      <th>71</th>\n",
       "      <td>Janicy dos Santos</td>\n",
       "      <td>55-7, 75 a Oeste, Panamá, Provincia de Panamá,...</td>\n",
       "      <td>male</td>\n",
       "      <td>32</td>\n",
       "      <td>[misc, educacion, tutorias, psicopedagoga]</td>\n",
       "      <td>misc</td>\n",
       "      <td></td>\n",
       "      <td>{'lat': 9.0157276, 'long': -79.5295287}</td>\n",
       "    </tr>\n",
       "    <tr>\n",
       "      <th>72</th>\n",
       "      <td>HomeSecurePTY</td>\n",
       "      <td>Homesecurepty, Calle 66 Este, Panamá, Provinci...</td>\n",
       "      <td>male</td>\n",
       "      <td>44</td>\n",
       "      <td>[repair, cerrajeria, cerrajeria_automotriz, ll...</td>\n",
       "      <td>repair</td>\n",
       "      <td>Cerrajería Automotriz, Residencial Y Comercial.</td>\n",
       "      <td>{'lat': 8.995956399999997, 'long': -79.5131565}</td>\n",
       "    </tr>\n",
       "    <tr>\n",
       "      <th>73</th>\n",
       "      <td>Emulator 66980917</td>\n",
       "      <td>132, Calle C, San Miguelito, Provincia de Pana...</td>\n",
       "      <td>female</td>\n",
       "      <td>32</td>\n",
       "      <td>[spa, manos_y_pies]</td>\n",
       "      <td>spa</td>\n",
       "      <td></td>\n",
       "      <td>{'lat': 9.03795683773441, 'long': -79.50094711...</td>\n",
       "    </tr>\n",
       "  </tbody>\n",
       "</table>\n",
       "<p>66 rows × 8 columns</p>\n",
       "</div>"
      ],
      "text/plain": [
       "                  name                                            address  \\\n",
       "0          Violeta IOS  Calle Punta Colón, Calle Punta Colón, Panama C...   \n",
       "1   violeta ios 0.7.17                                                      \n",
       "3     Oriana Vega24422  PQ5V+3PR, PQ5V+3PR, Punto Fijo, Falcón, Venezuela   \n",
       "4           Alejandro   Panamá, P.H. Bay View, Panamá, Provincia de Pa...   \n",
       "5             Jules D.       32, Rue Fabert, Paris, Île-de-France, France   \n",
       "..                 ...                                                ...   \n",
       "68    Tarandeep singh    MHRG+CPG, Old Bazaar Road, Ratia, Haryana, India   \n",
       "69             Angela   Panamá, El Mare Bethania, Panamá, Provincia de...   \n",
       "71  Janicy dos Santos   55-7, 75 a Oeste, Panamá, Provincia de Panamá,...   \n",
       "72       HomeSecurePTY  Homesecurepty, Calle 66 Este, Panamá, Provinci...   \n",
       "73   Emulator 66980917  132, Calle C, San Miguelito, Provincia de Pana...   \n",
       "\n",
       "    gender  age                                               tags service  \\\n",
       "0   female   29               [pets, paseo_de_perros, dog_sitting]    pets   \n",
       "1   female   35               [pets, dog_sitting, paseo_de_perros]    pets   \n",
       "3   female   27                        [user, musica, piano, moda]    user   \n",
       "4     male   32                                  [misc, marketing]    misc   \n",
       "5     male   28                                             [user]    user   \n",
       "..     ...  ...                                                ...     ...   \n",
       "68    male   26                                           [repair]  repair   \n",
       "69  female   33                                     [spa, masajes]     spa   \n",
       "71    male   32         [misc, educacion, tutorias, psicopedagoga]    misc   \n",
       "72    male   44  [repair, cerrajeria, cerrajeria_automotriz, ll...  repair   \n",
       "73  female   32                                [spa, manos_y_pies]     spa   \n",
       "\n",
       "                                                about  \\\n",
       "0   Guardo y paseo de mascotas. Soy estudiante 3er...   \n",
       "1   ¡Hola! Soy Violeta, una apasionada por los ani...   \n",
       "3                                                       \n",
       "4                                                       \n",
       "5                                                       \n",
       "..                                                ...   \n",
       "68                                                      \n",
       "69                                                      \n",
       "71                                                      \n",
       "72    Cerrajería Automotriz, Residencial Y Comercial.   \n",
       "73                                                      \n",
       "\n",
       "                                             location  \n",
       "0   {'lat': 8.97548104431072, 'long': -79.50703719...  \n",
       "1             {'lat': 8.9837843, 'long': -79.5207418}  \n",
       "3            {'lat': 11.7080935, 'long': -70.2067349}  \n",
       "4             {'lat': 8.9600785, 'long': -79.5383008}  \n",
       "5              {'lat': 48.8598247, 'long': 2.3113472}  \n",
       "..                                                ...  \n",
       "68            {'lat': 29.6916441, 'long': 75.5780667}  \n",
       "69            {'lat': 8.9946661, 'long': -79.5328797}  \n",
       "71            {'lat': 9.0157276, 'long': -79.5295287}  \n",
       "72    {'lat': 8.995956399999997, 'long': -79.5131565}  \n",
       "73  {'lat': 9.03795683773441, 'long': -79.50094711...  \n",
       "\n",
       "[66 rows x 8 columns]"
      ]
     },
     "execution_count": 27,
     "metadata": {},
     "output_type": "execute_result"
    }
   ],
   "source": [
    "df_profiles = df_profiles.dropna()\n",
    "df_profiles = df_profiles[~df_profiles['age'].isin([''])]\n",
    "df_profiles['age'] = df_profiles.age.astype(int)\n",
    "df_profiles"
   ]
  },
  {
   "cell_type": "code",
   "execution_count": 32,
   "metadata": {},
   "outputs": [],
   "source": [
    "sentences = df_profiles[df_profiles[\"about\"] != \"\"].about.values"
   ]
  },
  {
   "cell_type": "code",
   "execution_count": 37,
   "metadata": {},
   "outputs": [],
   "source": [
    "services = df_profiles[df_profiles[\"about\"] != \"\"].service.values"
   ]
  },
  {
   "cell_type": "code",
   "execution_count": 13,
   "metadata": {},
   "outputs": [],
   "source": [
    "import pandas as pd\n",
    "\n",
    "from langchain_openai import OpenAIEmbeddings"
   ]
  },
  {
   "cell_type": "code",
   "execution_count": 64,
   "metadata": {},
   "outputs": [
    {
     "name": "stderr",
     "output_type": "stream",
     "text": [
      "/Users/nmlemus/miniforge3/envs/yomap/lib/python3.10/site-packages/sklearn/manifold/_t_sne.py:1164: FutureWarning:\n",
      "\n",
      "'n_iter' was renamed to 'max_iter' in version 1.5 and will be removed in 1.7.\n",
      "\n"
     ]
    }
   ],
   "source": [
    "from sentence_transformers import SentenceTransformer\n",
    "from sklearn.manifold import TSNE\n",
    "import seaborn as sns\n",
    "\n",
    "# Sentence data as a list\n",
    "# sentences = data['text'].tolist()\n",
    "\n",
    "# Sentences to embeddings\n",
    "# embedding_model = SentenceTransformer('all-MiniLM-L6-v2')\n",
    "embedding_model = SentenceTransformer(\"BAAI/bge-large-en-v1.5\")\n",
    "# embedding_model = SentenceTransformer(\"sentence-transformers/paraphrase-mpnet-base-v2\")\n",
    "sentence_embeddings = embedding_model.encode(sentences)\n",
    "\n",
    "# Reduce embedding dimensionality using t-SNE for visualization\n",
    "X_embedded = TSNE(n_components=2, perplexity=5, n_iter=10000).fit_transform(\n",
    "    sentence_embeddings\n",
    ")"
   ]
  },
  {
   "cell_type": "code",
   "execution_count": null,
   "metadata": {},
   "outputs": [],
   "source": [
    "df_embeddings = pd.DataFrame(X_embedded)\n",
    "df_embeddings = df_embeddings.rename(columns={0: \"x\", 1: \"y\"})\n",
    "df_embeddings = df_embeddings.assign(label=services)\n",
    "\n",
    "df_embeddings = df_embeddings.assign(text=sentences)"
   ]
  },
  {
   "cell_type": "code",
   "execution_count": null,
   "metadata": {},
   "outputs": [],
   "source": []
  },
  {
   "cell_type": "code",
   "execution_count": 41,
   "metadata": {},
   "outputs": [
    {
     "data": {
      "application/vnd.plotly.v1+json": {
       "config": {
        "plotlyServerURL": "https://plot.ly"
       },
       "data": [
        {
         "customdata": [
          [
           "Guardo y paseo de mascotas. Soy estudiante 3er ano escuela veterinaria de Panama"
          ],
          [
           "¡Hola! Soy Violeta, una apasionada por los animales.  con  años de experiencia. Amo cuidar de perros y pasearlos. Si buscas una persona confiable y cariñosa para tu peludo amigo, ¡contacta conmigo!"
          ],
          [
           "Andrés Felipe laguna miranda \nPasaporte 170706346 \nCalifornia calle 26 edificio de la fuentes \n68944847\nTipo de servicio adiestramiento canino y paseos caninos"
          ]
         ],
         "hovertemplate": "label=pets<br>x=%{x}<br>y=%{y}<br>text=%{customdata[0]}<extra></extra>",
         "legendgroup": "pets",
         "marker": {
          "color": "#636efa",
          "symbol": "circle"
         },
         "mode": "markers",
         "name": "pets",
         "orientation": "v",
         "showlegend": true,
         "type": "scatter",
         "x": [
          13.451789,
          24.55175,
          24.667004
         ],
         "xaxis": "x",
         "y": [
          31.079048,
          24.280807,
          46.844852
         ],
         "yaxis": "y"
        },
        {
         "customdata": [
          [
           "Hola soy YoMap el asistente virtual de la aplicación. Estoy aquí para ayudarte a encontrar los proveedores de servicios que resuelvan tus problemas."
          ],
          [
           "Test about me"
          ],
          [
           "Soy Ana Mercedes Marmol, una costurera de 59 años. Siempre me ha encantado coser, y he estado cosiendo desde que era una niña. Me especializo en la creación de prendas personalizadas y únicas, y me apasiona ayudar a mis clientes a sentirse seguros y hermosos con su ropa. Además de coser, disfruto pasar tiempo con mi familia, leer y viajar."
          ]
         ],
         "hovertemplate": "label=misc<br>x=%{x}<br>y=%{y}<br>text=%{customdata[0]}<extra></extra>",
         "legendgroup": "misc",
         "marker": {
          "color": "#EF553B",
          "symbol": "circle"
         },
         "mode": "markers",
         "name": "misc",
         "orientation": "v",
         "showlegend": true,
         "type": "scatter",
         "x": [
          39.780437,
          48.465263,
          18.842463
         ],
         "xaxis": "x",
         "y": [
          22.522774,
          37.751835,
          13.8478365
         ],
         "yaxis": "y"
        },
        {
         "customdata": [
          [
           "Hi, I'm Velas Mayte, a passionate home decorator with a love for candles and beautiful accents. I'm always looking for ways to create a warm and inviting atmosphere in my home. Let's talk about your design dreams!"
          ],
          [
           "Rutiner Dasheeri, a 26-year-old passionate about home design and birdwatching. I find solace in the beauty of nature and the challenge of creating comfortable and stylish spaces. My work often reflects my love for both, blending practicality with aesthetic appeal."
          ],
          [
           "I'm a 36-year-old guy who enjoys the simple things in life: a cozy home, tending to my plants, and the occasional ride in a taxi. I've got a knack for getting things done, whether it's delivering packages or tackling projects around the house."
          ],
          [
           "Hi, I'm Carolina! A passionate 29-year-old who loves creating a tranquil home filled with plants.  I'm also a skilled spa professional specializing in hand and foot treatments and massage therapy. Let's create some relaxation together!"
          ]
         ],
         "hovertemplate": "label=home<br>x=%{x}<br>y=%{y}<br>text=%{customdata[0]}<extra></extra>",
         "legendgroup": "home",
         "marker": {
          "color": "#00cc96",
          "symbol": "circle"
         },
         "mode": "markers",
         "name": "home",
         "orientation": "v",
         "showlegend": true,
         "type": "scatter",
         "x": [
          -7.3171554,
          -58.46176,
          -48.543243,
          -29.870087
         ],
         "xaxis": "x",
         "y": [
          9.454498,
          14.114719,
          20.075306,
          21.643442
         ],
         "yaxis": "y"
        },
        {
         "customdata": [
          [
           "Hi, I'm Fito Viroka, a 19-year-old tech enthusiast with a passion for fixing things. From TVs to smartphones, I'm always up for a challenge. Whether it's troubleshooting hardware issues or software glitches, I thrive on finding creative solutions to get your devices back in working order."
          ],
          [
           "Carioca"
          ],
          [
           "Cerrajería Automotriz, Residencial Y Comercial."
          ]
         ],
         "hovertemplate": "label=repair<br>x=%{x}<br>y=%{y}<br>text=%{customdata[0]}<extra></extra>",
         "legendgroup": "repair",
         "marker": {
          "color": "#ab63fa",
          "symbol": "circle"
         },
         "mode": "markers",
         "name": "repair",
         "orientation": "v",
         "showlegend": true,
         "type": "scatter",
         "x": [
          -56.288517,
          42.42926,
          27.433857
         ],
         "xaxis": "x",
         "y": [
          36.13787,
          -14.449117,
          -0.54199874
         ],
         "yaxis": "y"
        },
        {
         "customdata": [
          [
           "Hi, I'm Oges Fbios edit, a 26-year-old passionate about food, especially street food and pizza. I love exploring new flavors and sharing my culinary adventures."
          ]
         ],
         "hovertemplate": "label=food<br>x=%{x}<br>y=%{y}<br>text=%{customdata[0]}<extra></extra>",
         "legendgroup": "food",
         "marker": {
          "color": "#FFA15A",
          "symbol": "circle"
         },
         "mode": "markers",
         "name": "food",
         "orientation": "v",
         "showlegend": true,
         "type": "scatter",
         "x": [
          -48.142914
         ],
         "xaxis": "x",
         "y": [
          44.782597
         ],
         "yaxis": "y"
        },
        {
         "customdata": [
          [
           "Hi, I'm Noel Moreno, a seasoned professor with a passion for mathematics, computer science, and the exciting world of data science and machine learning.  I'm always eager to explore new ideas and share my knowledge with others."
          ]
         ],
         "hovertemplate": "label=education<br>x=%{x}<br>y=%{y}<br>text=%{customdata[0]}<extra></extra>",
         "legendgroup": "education",
         "marker": {
          "color": "#19d3f3",
          "symbol": "circle"
         },
         "mode": "markers",
         "name": "education",
         "orientation": "v",
         "showlegend": true,
         "type": "scatter",
         "x": [
          59.030106
         ],
         "xaxis": "x",
         "y": [
          21.656672
         ],
         "yaxis": "y"
        },
        {
         "customdata": [
          [
           "Servicio de Taxi 24h\nArea Bancaria"
          ]
         ],
         "hovertemplate": "label=transport<br>x=%{x}<br>y=%{y}<br>text=%{customdata[0]}<extra></extra>",
         "legendgroup": "transport",
         "marker": {
          "color": "#FF6692",
          "symbol": "circle"
         },
         "mode": "markers",
         "name": "transport",
         "orientation": "v",
         "showlegend": true,
         "type": "scatter",
         "x": [
          40.25487
         ],
         "xaxis": "x",
         "y": [
          1.3711215
         ],
         "yaxis": "y"
        },
        {
         "customdata": [
          [
           "I'm YM Soporte, a passionate individual with a focus on wellness and relaxation.  My expertise lies in providing exceptional spa experiences, specializing in hand and foot treatments and massages.  Let's explore the power of touch together!"
          ],
          [
           "Readet Ferche, a 36-year-old passionate about pets, offers dog walking services and expert care. With years of experience, he ensures your furry friend enjoys safe and engaging walks."
          ]
         ],
         "hovertemplate": "label=spa<br>x=%{x}<br>y=%{y}<br>text=%{customdata[0]}<extra></extra>",
         "legendgroup": "spa",
         "marker": {
          "color": "#B6E880",
          "symbol": "circle"
         },
         "mode": "markers",
         "name": "spa",
         "orientation": "v",
         "showlegend": true,
         "type": "scatter",
         "x": [
          -19.669317,
          -46.174774
         ],
         "xaxis": "x",
         "y": [
          23.859894,
          -1.5081185
         ],
         "yaxis": "y"
        }
       ],
       "layout": {
        "legend": {
         "title": {
          "text": "label"
         },
         "tracegroupgap": 0
        },
        "margin": {
         "t": 60
        },
        "template": {
         "data": {
          "bar": [
           {
            "error_x": {
             "color": "#2a3f5f"
            },
            "error_y": {
             "color": "#2a3f5f"
            },
            "marker": {
             "line": {
              "color": "#E5ECF6",
              "width": 0.5
             },
             "pattern": {
              "fillmode": "overlay",
              "size": 10,
              "solidity": 0.2
             }
            },
            "type": "bar"
           }
          ],
          "barpolar": [
           {
            "marker": {
             "line": {
              "color": "#E5ECF6",
              "width": 0.5
             },
             "pattern": {
              "fillmode": "overlay",
              "size": 10,
              "solidity": 0.2
             }
            },
            "type": "barpolar"
           }
          ],
          "carpet": [
           {
            "aaxis": {
             "endlinecolor": "#2a3f5f",
             "gridcolor": "white",
             "linecolor": "white",
             "minorgridcolor": "white",
             "startlinecolor": "#2a3f5f"
            },
            "baxis": {
             "endlinecolor": "#2a3f5f",
             "gridcolor": "white",
             "linecolor": "white",
             "minorgridcolor": "white",
             "startlinecolor": "#2a3f5f"
            },
            "type": "carpet"
           }
          ],
          "choropleth": [
           {
            "colorbar": {
             "outlinewidth": 0,
             "ticks": ""
            },
            "type": "choropleth"
           }
          ],
          "contour": [
           {
            "colorbar": {
             "outlinewidth": 0,
             "ticks": ""
            },
            "colorscale": [
             [
              0,
              "#0d0887"
             ],
             [
              0.1111111111111111,
              "#46039f"
             ],
             [
              0.2222222222222222,
              "#7201a8"
             ],
             [
              0.3333333333333333,
              "#9c179e"
             ],
             [
              0.4444444444444444,
              "#bd3786"
             ],
             [
              0.5555555555555556,
              "#d8576b"
             ],
             [
              0.6666666666666666,
              "#ed7953"
             ],
             [
              0.7777777777777778,
              "#fb9f3a"
             ],
             [
              0.8888888888888888,
              "#fdca26"
             ],
             [
              1,
              "#f0f921"
             ]
            ],
            "type": "contour"
           }
          ],
          "contourcarpet": [
           {
            "colorbar": {
             "outlinewidth": 0,
             "ticks": ""
            },
            "type": "contourcarpet"
           }
          ],
          "heatmap": [
           {
            "colorbar": {
             "outlinewidth": 0,
             "ticks": ""
            },
            "colorscale": [
             [
              0,
              "#0d0887"
             ],
             [
              0.1111111111111111,
              "#46039f"
             ],
             [
              0.2222222222222222,
              "#7201a8"
             ],
             [
              0.3333333333333333,
              "#9c179e"
             ],
             [
              0.4444444444444444,
              "#bd3786"
             ],
             [
              0.5555555555555556,
              "#d8576b"
             ],
             [
              0.6666666666666666,
              "#ed7953"
             ],
             [
              0.7777777777777778,
              "#fb9f3a"
             ],
             [
              0.8888888888888888,
              "#fdca26"
             ],
             [
              1,
              "#f0f921"
             ]
            ],
            "type": "heatmap"
           }
          ],
          "heatmapgl": [
           {
            "colorbar": {
             "outlinewidth": 0,
             "ticks": ""
            },
            "colorscale": [
             [
              0,
              "#0d0887"
             ],
             [
              0.1111111111111111,
              "#46039f"
             ],
             [
              0.2222222222222222,
              "#7201a8"
             ],
             [
              0.3333333333333333,
              "#9c179e"
             ],
             [
              0.4444444444444444,
              "#bd3786"
             ],
             [
              0.5555555555555556,
              "#d8576b"
             ],
             [
              0.6666666666666666,
              "#ed7953"
             ],
             [
              0.7777777777777778,
              "#fb9f3a"
             ],
             [
              0.8888888888888888,
              "#fdca26"
             ],
             [
              1,
              "#f0f921"
             ]
            ],
            "type": "heatmapgl"
           }
          ],
          "histogram": [
           {
            "marker": {
             "pattern": {
              "fillmode": "overlay",
              "size": 10,
              "solidity": 0.2
             }
            },
            "type": "histogram"
           }
          ],
          "histogram2d": [
           {
            "colorbar": {
             "outlinewidth": 0,
             "ticks": ""
            },
            "colorscale": [
             [
              0,
              "#0d0887"
             ],
             [
              0.1111111111111111,
              "#46039f"
             ],
             [
              0.2222222222222222,
              "#7201a8"
             ],
             [
              0.3333333333333333,
              "#9c179e"
             ],
             [
              0.4444444444444444,
              "#bd3786"
             ],
             [
              0.5555555555555556,
              "#d8576b"
             ],
             [
              0.6666666666666666,
              "#ed7953"
             ],
             [
              0.7777777777777778,
              "#fb9f3a"
             ],
             [
              0.8888888888888888,
              "#fdca26"
             ],
             [
              1,
              "#f0f921"
             ]
            ],
            "type": "histogram2d"
           }
          ],
          "histogram2dcontour": [
           {
            "colorbar": {
             "outlinewidth": 0,
             "ticks": ""
            },
            "colorscale": [
             [
              0,
              "#0d0887"
             ],
             [
              0.1111111111111111,
              "#46039f"
             ],
             [
              0.2222222222222222,
              "#7201a8"
             ],
             [
              0.3333333333333333,
              "#9c179e"
             ],
             [
              0.4444444444444444,
              "#bd3786"
             ],
             [
              0.5555555555555556,
              "#d8576b"
             ],
             [
              0.6666666666666666,
              "#ed7953"
             ],
             [
              0.7777777777777778,
              "#fb9f3a"
             ],
             [
              0.8888888888888888,
              "#fdca26"
             ],
             [
              1,
              "#f0f921"
             ]
            ],
            "type": "histogram2dcontour"
           }
          ],
          "mesh3d": [
           {
            "colorbar": {
             "outlinewidth": 0,
             "ticks": ""
            },
            "type": "mesh3d"
           }
          ],
          "parcoords": [
           {
            "line": {
             "colorbar": {
              "outlinewidth": 0,
              "ticks": ""
             }
            },
            "type": "parcoords"
           }
          ],
          "pie": [
           {
            "automargin": true,
            "type": "pie"
           }
          ],
          "scatter": [
           {
            "fillpattern": {
             "fillmode": "overlay",
             "size": 10,
             "solidity": 0.2
            },
            "type": "scatter"
           }
          ],
          "scatter3d": [
           {
            "line": {
             "colorbar": {
              "outlinewidth": 0,
              "ticks": ""
             }
            },
            "marker": {
             "colorbar": {
              "outlinewidth": 0,
              "ticks": ""
             }
            },
            "type": "scatter3d"
           }
          ],
          "scattercarpet": [
           {
            "marker": {
             "colorbar": {
              "outlinewidth": 0,
              "ticks": ""
             }
            },
            "type": "scattercarpet"
           }
          ],
          "scattergeo": [
           {
            "marker": {
             "colorbar": {
              "outlinewidth": 0,
              "ticks": ""
             }
            },
            "type": "scattergeo"
           }
          ],
          "scattergl": [
           {
            "marker": {
             "colorbar": {
              "outlinewidth": 0,
              "ticks": ""
             }
            },
            "type": "scattergl"
           }
          ],
          "scattermapbox": [
           {
            "marker": {
             "colorbar": {
              "outlinewidth": 0,
              "ticks": ""
             }
            },
            "type": "scattermapbox"
           }
          ],
          "scatterpolar": [
           {
            "marker": {
             "colorbar": {
              "outlinewidth": 0,
              "ticks": ""
             }
            },
            "type": "scatterpolar"
           }
          ],
          "scatterpolargl": [
           {
            "marker": {
             "colorbar": {
              "outlinewidth": 0,
              "ticks": ""
             }
            },
            "type": "scatterpolargl"
           }
          ],
          "scatterternary": [
           {
            "marker": {
             "colorbar": {
              "outlinewidth": 0,
              "ticks": ""
             }
            },
            "type": "scatterternary"
           }
          ],
          "surface": [
           {
            "colorbar": {
             "outlinewidth": 0,
             "ticks": ""
            },
            "colorscale": [
             [
              0,
              "#0d0887"
             ],
             [
              0.1111111111111111,
              "#46039f"
             ],
             [
              0.2222222222222222,
              "#7201a8"
             ],
             [
              0.3333333333333333,
              "#9c179e"
             ],
             [
              0.4444444444444444,
              "#bd3786"
             ],
             [
              0.5555555555555556,
              "#d8576b"
             ],
             [
              0.6666666666666666,
              "#ed7953"
             ],
             [
              0.7777777777777778,
              "#fb9f3a"
             ],
             [
              0.8888888888888888,
              "#fdca26"
             ],
             [
              1,
              "#f0f921"
             ]
            ],
            "type": "surface"
           }
          ],
          "table": [
           {
            "cells": {
             "fill": {
              "color": "#EBF0F8"
             },
             "line": {
              "color": "white"
             }
            },
            "header": {
             "fill": {
              "color": "#C8D4E3"
             },
             "line": {
              "color": "white"
             }
            },
            "type": "table"
           }
          ]
         },
         "layout": {
          "annotationdefaults": {
           "arrowcolor": "#2a3f5f",
           "arrowhead": 0,
           "arrowwidth": 1
          },
          "autotypenumbers": "strict",
          "coloraxis": {
           "colorbar": {
            "outlinewidth": 0,
            "ticks": ""
           }
          },
          "colorscale": {
           "diverging": [
            [
             0,
             "#8e0152"
            ],
            [
             0.1,
             "#c51b7d"
            ],
            [
             0.2,
             "#de77ae"
            ],
            [
             0.3,
             "#f1b6da"
            ],
            [
             0.4,
             "#fde0ef"
            ],
            [
             0.5,
             "#f7f7f7"
            ],
            [
             0.6,
             "#e6f5d0"
            ],
            [
             0.7,
             "#b8e186"
            ],
            [
             0.8,
             "#7fbc41"
            ],
            [
             0.9,
             "#4d9221"
            ],
            [
             1,
             "#276419"
            ]
           ],
           "sequential": [
            [
             0,
             "#0d0887"
            ],
            [
             0.1111111111111111,
             "#46039f"
            ],
            [
             0.2222222222222222,
             "#7201a8"
            ],
            [
             0.3333333333333333,
             "#9c179e"
            ],
            [
             0.4444444444444444,
             "#bd3786"
            ],
            [
             0.5555555555555556,
             "#d8576b"
            ],
            [
             0.6666666666666666,
             "#ed7953"
            ],
            [
             0.7777777777777778,
             "#fb9f3a"
            ],
            [
             0.8888888888888888,
             "#fdca26"
            ],
            [
             1,
             "#f0f921"
            ]
           ],
           "sequentialminus": [
            [
             0,
             "#0d0887"
            ],
            [
             0.1111111111111111,
             "#46039f"
            ],
            [
             0.2222222222222222,
             "#7201a8"
            ],
            [
             0.3333333333333333,
             "#9c179e"
            ],
            [
             0.4444444444444444,
             "#bd3786"
            ],
            [
             0.5555555555555556,
             "#d8576b"
            ],
            [
             0.6666666666666666,
             "#ed7953"
            ],
            [
             0.7777777777777778,
             "#fb9f3a"
            ],
            [
             0.8888888888888888,
             "#fdca26"
            ],
            [
             1,
             "#f0f921"
            ]
           ]
          },
          "colorway": [
           "#636efa",
           "#EF553B",
           "#00cc96",
           "#ab63fa",
           "#FFA15A",
           "#19d3f3",
           "#FF6692",
           "#B6E880",
           "#FF97FF",
           "#FECB52"
          ],
          "font": {
           "color": "#2a3f5f"
          },
          "geo": {
           "bgcolor": "white",
           "lakecolor": "white",
           "landcolor": "#E5ECF6",
           "showlakes": true,
           "showland": true,
           "subunitcolor": "white"
          },
          "hoverlabel": {
           "align": "left"
          },
          "hovermode": "closest",
          "mapbox": {
           "style": "light"
          },
          "paper_bgcolor": "white",
          "plot_bgcolor": "#E5ECF6",
          "polar": {
           "angularaxis": {
            "gridcolor": "white",
            "linecolor": "white",
            "ticks": ""
           },
           "bgcolor": "#E5ECF6",
           "radialaxis": {
            "gridcolor": "white",
            "linecolor": "white",
            "ticks": ""
           }
          },
          "scene": {
           "xaxis": {
            "backgroundcolor": "#E5ECF6",
            "gridcolor": "white",
            "gridwidth": 2,
            "linecolor": "white",
            "showbackground": true,
            "ticks": "",
            "zerolinecolor": "white"
           },
           "yaxis": {
            "backgroundcolor": "#E5ECF6",
            "gridcolor": "white",
            "gridwidth": 2,
            "linecolor": "white",
            "showbackground": true,
            "ticks": "",
            "zerolinecolor": "white"
           },
           "zaxis": {
            "backgroundcolor": "#E5ECF6",
            "gridcolor": "white",
            "gridwidth": 2,
            "linecolor": "white",
            "showbackground": true,
            "ticks": "",
            "zerolinecolor": "white"
           }
          },
          "shapedefaults": {
           "line": {
            "color": "#2a3f5f"
           }
          },
          "ternary": {
           "aaxis": {
            "gridcolor": "white",
            "linecolor": "white",
            "ticks": ""
           },
           "baxis": {
            "gridcolor": "white",
            "linecolor": "white",
            "ticks": ""
           },
           "bgcolor": "#E5ECF6",
           "caxis": {
            "gridcolor": "white",
            "linecolor": "white",
            "ticks": ""
           }
          },
          "title": {
           "x": 0.05
          },
          "xaxis": {
           "automargin": true,
           "gridcolor": "white",
           "linecolor": "white",
           "ticks": "",
           "title": {
            "standoff": 15
           },
           "zerolinecolor": "white",
           "zerolinewidth": 2
          },
          "yaxis": {
           "automargin": true,
           "gridcolor": "white",
           "linecolor": "white",
           "ticks": "",
           "title": {
            "standoff": 15
           },
           "zerolinecolor": "white",
           "zerolinewidth": 2
          }
         }
        },
        "xaxis": {
         "anchor": "y",
         "domain": [
          0,
          1
         ],
         "title": {
          "text": "x"
         }
        },
        "yaxis": {
         "anchor": "x",
         "domain": [
          0,
          1
         ],
         "title": {
          "text": "y"
         }
        }
       }
      }
     },
     "metadata": {},
     "output_type": "display_data"
    }
   ],
   "source": [
    "import plotly.express as px\n",
    "\n",
    "fig = px.scatter(\n",
    "    df_embeddings,\n",
    "    x=\"x\",\n",
    "    y=\"y\",\n",
    "    color=\"label\",\n",
    "    #labels={\"color\": \"label\"},\n",
    "    hover_data=[\"text\"],\n",
    "    #title=\"SurePath Data Augmentation Embedding Visualization\",\n",
    ")\n",
    "fig.show()"
   ]
  },
  {
   "cell_type": "markdown",
   "metadata": {},
   "source": [
    "# Synthetic Dataset"
   ]
  },
  {
   "cell_type": "code",
   "execution_count": 42,
   "metadata": {},
   "outputs": [],
   "source": [
    "import json"
   ]
  },
  {
   "cell_type": "code",
   "execution_count": 46,
   "metadata": {},
   "outputs": [],
   "source": [
    "def load_dataset(name):\n",
    "\n",
    "    # Load JSON data from a file\n",
    "    with open(name, \"r\") as file:\n",
    "        data = json.load(file)\n",
    "\n",
    "    training_chatgpt = pd.DataFrame.from_dict(data)\n",
    "\n",
    "    dataset = []\n",
    "\n",
    "    # Customizations to match the required format\n",
    "    for idx, row in training_chatgpt.iterrows():\n",
    "        for about_me_examples in row.about_me_examples:\n",
    "            data = {\n",
    "                \"intent\": row.category,\n",
    "                \"sentence\": about_me_examples,\n",
    "            }\n",
    "\n",
    "            dataset.append(data)\n",
    "\n",
    "    dataset = pd.DataFrame.from_dict(dataset)\n",
    "    dataset = dataset.sort_values(\"intent\")\n",
    "    dataset[\"label\"] = dataset[\"intent\"]\n",
    "\n",
    "    # Convert Labels to Int\n",
    "    dataset[\"label\"] = pd.Categorical(dataset[\"label\"])\n",
    "    dataset[\"label\"] = dataset[\"label\"].astype(\"category\").cat.codes\n",
    "\n",
    "    return dataset\n",
    "\n",
    "\n",
    "dataset = load_dataset(\"/Users/nmlemus/projects/yomap/topic_modeling/about_me_examples.json\")"
   ]
  },
  {
   "cell_type": "code",
   "execution_count": 47,
   "metadata": {},
   "outputs": [
    {
     "data": {
      "text/html": [
       "<div>\n",
       "<style scoped>\n",
       "    .dataframe tbody tr th:only-of-type {\n",
       "        vertical-align: middle;\n",
       "    }\n",
       "\n",
       "    .dataframe tbody tr th {\n",
       "        vertical-align: top;\n",
       "    }\n",
       "\n",
       "    .dataframe thead th {\n",
       "        text-align: right;\n",
       "    }\n",
       "</style>\n",
       "<table border=\"1\" class=\"dataframe\">\n",
       "  <thead>\n",
       "    <tr style=\"text-align: right;\">\n",
       "      <th></th>\n",
       "      <th>intent</th>\n",
       "      <th>sentence</th>\n",
       "      <th>label</th>\n",
       "    </tr>\n",
       "  </thead>\n",
       "  <tbody>\n",
       "    <tr>\n",
       "      <th>24</th>\n",
       "      <td>8_56_hierro</td>\n",
       "      <td>Need reliable ironwork? I provide professional...</td>\n",
       "      <td>0</td>\n",
       "    </tr>\n",
       "    <tr>\n",
       "      <th>20</th>\n",
       "      <td>8_56_hierro</td>\n",
       "      <td>I design and fabricate custom ironwork solutio...</td>\n",
       "      <td>0</td>\n",
       "    </tr>\n",
       "    <tr>\n",
       "      <th>21</th>\n",
       "      <td>8_56_hierro</td>\n",
       "      <td>Providing expert ironwork services, including ...</td>\n",
       "      <td>0</td>\n",
       "    </tr>\n",
       "    <tr>\n",
       "      <th>23</th>\n",
       "      <td>8_56_hierro</td>\n",
       "      <td>Offering comprehensive ironwork services, from...</td>\n",
       "      <td>0</td>\n",
       "    </tr>\n",
       "    <tr>\n",
       "      <th>22</th>\n",
       "      <td>8_56_hierro</td>\n",
       "      <td>With years of experience in iron fabrication, ...</td>\n",
       "      <td>0</td>\n",
       "    </tr>\n",
       "    <tr>\n",
       "      <th>...</th>\n",
       "      <td>...</td>\n",
       "      <td>...</td>\n",
       "      <td>...</td>\n",
       "    </tr>\n",
       "    <tr>\n",
       "      <th>208</th>\n",
       "      <td>vegetariano</td>\n",
       "      <td>Dedicated to promoting sustainable eating, I o...</td>\n",
       "      <td>41</td>\n",
       "    </tr>\n",
       "    <tr>\n",
       "      <th>205</th>\n",
       "      <td>vegetariano</td>\n",
       "      <td>I specialize in crafting delicious and nutriti...</td>\n",
       "      <td>41</td>\n",
       "    </tr>\n",
       "    <tr>\n",
       "      <th>206</th>\n",
       "      <td>vegetariano</td>\n",
       "      <td>Providing vegetarian catering services, I crea...</td>\n",
       "      <td>41</td>\n",
       "    </tr>\n",
       "    <tr>\n",
       "      <th>207</th>\n",
       "      <td>vegetariano</td>\n",
       "      <td>As a personal chef, I prepare balanced vegetar...</td>\n",
       "      <td>41</td>\n",
       "    </tr>\n",
       "    <tr>\n",
       "      <th>209</th>\n",
       "      <td>vegetariano</td>\n",
       "      <td>With a passion for plant-based cooking, I brin...</td>\n",
       "      <td>41</td>\n",
       "    </tr>\n",
       "  </tbody>\n",
       "</table>\n",
       "<p>210 rows × 3 columns</p>\n",
       "</div>"
      ],
      "text/plain": [
       "          intent                                           sentence  label\n",
       "24   8_56_hierro  Need reliable ironwork? I provide professional...      0\n",
       "20   8_56_hierro  I design and fabricate custom ironwork solutio...      0\n",
       "21   8_56_hierro  Providing expert ironwork services, including ...      0\n",
       "23   8_56_hierro  Offering comprehensive ironwork services, from...      0\n",
       "22   8_56_hierro  With years of experience in iron fabrication, ...      0\n",
       "..           ...                                                ...    ...\n",
       "208  vegetariano  Dedicated to promoting sustainable eating, I o...     41\n",
       "205  vegetariano  I specialize in crafting delicious and nutriti...     41\n",
       "206  vegetariano  Providing vegetarian catering services, I crea...     41\n",
       "207  vegetariano  As a personal chef, I prepare balanced vegetar...     41\n",
       "209  vegetariano  With a passion for plant-based cooking, I brin...     41\n",
       "\n",
       "[210 rows x 3 columns]"
      ]
     },
     "execution_count": 47,
     "metadata": {},
     "output_type": "execute_result"
    }
   ],
   "source": [
    "dataset"
   ]
  },
  {
   "cell_type": "code",
   "execution_count": 62,
   "metadata": {},
   "outputs": [
    {
     "data": {
      "text/html": [
       "<div>\n",
       "<style scoped>\n",
       "    .dataframe tbody tr th:only-of-type {\n",
       "        vertical-align: middle;\n",
       "    }\n",
       "\n",
       "    .dataframe tbody tr th {\n",
       "        vertical-align: top;\n",
       "    }\n",
       "\n",
       "    .dataframe thead th {\n",
       "        text-align: right;\n",
       "    }\n",
       "</style>\n",
       "<table border=\"1\" class=\"dataframe\">\n",
       "  <thead>\n",
       "    <tr style=\"text-align: right;\">\n",
       "      <th></th>\n",
       "      <th>intent</th>\n",
       "      <th>sentence</th>\n",
       "      <th>label</th>\n",
       "    </tr>\n",
       "  </thead>\n",
       "  <tbody>\n",
       "    <tr>\n",
       "      <th>24</th>\n",
       "      <td>8_56_hierro</td>\n",
       "      <td>Need reliable ironwork? I provide professional...</td>\n",
       "      <td>0.0</td>\n",
       "    </tr>\n",
       "    <tr>\n",
       "      <th>20</th>\n",
       "      <td>8_56_hierro</td>\n",
       "      <td>I design and fabricate custom ironwork solutio...</td>\n",
       "      <td>0.0</td>\n",
       "    </tr>\n",
       "    <tr>\n",
       "      <th>21</th>\n",
       "      <td>8_56_hierro</td>\n",
       "      <td>Providing expert ironwork services, including ...</td>\n",
       "      <td>0.0</td>\n",
       "    </tr>\n",
       "    <tr>\n",
       "      <th>23</th>\n",
       "      <td>8_56_hierro</td>\n",
       "      <td>Offering comprehensive ironwork services, from...</td>\n",
       "      <td>0.0</td>\n",
       "    </tr>\n",
       "    <tr>\n",
       "      <th>22</th>\n",
       "      <td>8_56_hierro</td>\n",
       "      <td>With years of experience in iron fabrication, ...</td>\n",
       "      <td>0.0</td>\n",
       "    </tr>\n",
       "    <tr>\n",
       "      <th>...</th>\n",
       "      <td>...</td>\n",
       "      <td>...</td>\n",
       "      <td>...</td>\n",
       "    </tr>\n",
       "    <tr>\n",
       "      <th>207</th>\n",
       "      <td>vegetariano</td>\n",
       "      <td>As a personal chef, I prepare balanced vegetar...</td>\n",
       "      <td>41.0</td>\n",
       "    </tr>\n",
       "    <tr>\n",
       "      <th>209</th>\n",
       "      <td>vegetariano</td>\n",
       "      <td>With a passion for plant-based cooking, I brin...</td>\n",
       "      <td>41.0</td>\n",
       "    </tr>\n",
       "    <tr>\n",
       "      <th>0</th>\n",
       "      <td>question</td>\n",
       "      <td>Busco a alguien que me arregle un pantalon</td>\n",
       "      <td>NaN</td>\n",
       "    </tr>\n",
       "    <tr>\n",
       "      <th>0</th>\n",
       "      <td>question</td>\n",
       "      <td>Necesito arreglar la cerradura de mi auto</td>\n",
       "      <td>NaN</td>\n",
       "    </tr>\n",
       "    <tr>\n",
       "      <th>0</th>\n",
       "      <td>question</td>\n",
       "      <td>I need to fix my car lock</td>\n",
       "      <td>NaN</td>\n",
       "    </tr>\n",
       "  </tbody>\n",
       "</table>\n",
       "<p>213 rows × 3 columns</p>\n",
       "</div>"
      ],
      "text/plain": [
       "          intent                                           sentence  label\n",
       "24   8_56_hierro  Need reliable ironwork? I provide professional...    0.0\n",
       "20   8_56_hierro  I design and fabricate custom ironwork solutio...    0.0\n",
       "21   8_56_hierro  Providing expert ironwork services, including ...    0.0\n",
       "23   8_56_hierro  Offering comprehensive ironwork services, from...    0.0\n",
       "22   8_56_hierro  With years of experience in iron fabrication, ...    0.0\n",
       "..           ...                                                ...    ...\n",
       "207  vegetariano  As a personal chef, I prepare balanced vegetar...   41.0\n",
       "209  vegetariano  With a passion for plant-based cooking, I brin...   41.0\n",
       "0       question         Busco a alguien que me arregle un pantalon    NaN\n",
       "0       question          Necesito arreglar la cerradura de mi auto    NaN\n",
       "0       question                          I need to fix my car lock    NaN\n",
       "\n",
       "[213 rows x 3 columns]"
      ]
     },
     "execution_count": 62,
     "metadata": {},
     "output_type": "execute_result"
    }
   ],
   "source": [
    "df = []\n",
    "questions = {\n",
    "    \"intent\": \"question\",\n",
    "    \"sentence\": \"I need to fix my car lock\"\n",
    "}\n",
    "\n",
    "df.append(questions)\n",
    "\n",
    "df = pd.DataFrame.from_dict(df)\n",
    "\n",
    "dataset = pd.concat([dataset, df])\n",
    "\n",
    "dataset"
   ]
  },
  {
   "cell_type": "code",
   "execution_count": 63,
   "metadata": {},
   "outputs": [],
   "source": [
    "sentences = dataset.sentence.values"
   ]
  },
  {
   "cell_type": "code",
   "execution_count": null,
   "metadata": {},
   "outputs": [],
   "source": []
  },
  {
   "cell_type": "code",
   "execution_count": 65,
   "metadata": {},
   "outputs": [],
   "source": [
    "df_embeddings = pd.DataFrame(X_embedded)\n",
    "df_embeddings = df_embeddings.rename(columns={0: \"x\", 1: \"y\"})\n",
    "df_embeddings = df_embeddings.assign(label=dataset.intent.values)\n",
    "\n",
    "df_embeddings = df_embeddings.assign(text=sentences)"
   ]
  },
  {
   "cell_type": "code",
   "execution_count": 66,
   "metadata": {},
   "outputs": [
    {
     "data": {
      "application/vnd.plotly.v1+json": {
       "config": {
        "plotlyServerURL": "https://plot.ly"
       },
       "data": [
        {
         "customdata": [
          [
           "Need reliable ironwork? I provide professional services for residential and commercial projects, delivering durable and visually striking designs that stand the test of time."
          ],
          [
           "I design and fabricate custom ironwork solutions, combining durability with aesthetic appeal. Whether it’s decorative railings or structural supports, my work meets the highest standards."
          ],
          [
           "Providing expert ironwork services, including repairs, welding, and custom designs. I specialize in creating functional and artistic solutions tailored to your specific needs."
          ],
          [
           "Offering comprehensive ironwork services, from design to installation. My projects are crafted with precision and care, ensuring they meet both functional and aesthetic requirements."
          ],
          [
           "With years of experience in iron fabrication, I create unique designs for fences, gates, and furniture. My focus is on delivering quality craftsmanship that enhances any space."
          ]
         ],
         "hovertemplate": "label=8_56_hierro<br>x=%{x}<br>y=%{y}<br>text=%{customdata[0]}<extra></extra>",
         "legendgroup": "8_56_hierro",
         "marker": {
          "color": "#636efa",
          "symbol": "circle"
         },
         "mode": "markers",
         "name": "8_56_hierro",
         "orientation": "v",
         "showlegend": true,
         "type": "scatter",
         "x": [
          -29.691536,
          -28.477146,
          -25.875513,
          -27.361923,
          -27.270412
         ],
         "xaxis": "x",
         "y": [
          -42.69673,
          -40.676514,
          -42.491257,
          -43.047325,
          -38.90652
         ],
         "yaxis": "y"
        },
        {
         "customdata": [
          [
           "Dedicated to helping businesses unlock the potential of AI, I focus on creating scalable, impactful solutions that deliver measurable results."
          ],
          [
           "With expertise in natural language processing and computer vision, I build intelligent systems that transform workflows and enhance productivity."
          ],
          [
           "Providing AI consulting services to guide businesses in adopting and integrating artificial intelligence technologies into their operations."
          ],
          [
           "I design and implement AI solutions tailored to your business needs, including automation, predictive analytics, and decision-making tools to drive efficiency."
          ],
          [
           "Specializing in developing machine learning models, I help organizations harness data for actionable insights and innovative solutions."
          ]
         ],
         "hovertemplate": "label=ai<br>x=%{x}<br>y=%{y}<br>text=%{customdata[0]}<extra></extra>",
         "legendgroup": "ai",
         "marker": {
          "color": "#EF553B",
          "symbol": "circle"
         },
         "mode": "markers",
         "name": "ai",
         "orientation": "v",
         "showlegend": true,
         "type": "scatter",
         "x": [
          -3.930224,
          -6.205725,
          -2.5254505,
          -3.427088,
          -0.5739356
         ],
         "xaxis": "x",
         "y": [
          8.75446,
          11.508566,
          12.955928,
          10.297739,
          8.976117
         ],
         "yaxis": "y"
        },
        {
         "customdata": [
          [
           "I offer professional virtual assistant services, specializing in organizing your workload, managing data, and providing top-notch support for personal or business projects."
          ],
          [
           "As a virtual assistant, I provide reliable support for administrative tasks such as managing schedules, handling emails, and conducting research, freeing up your time for more important priorities."
          ],
          [
           "Experienced in virtual assistance, I help manage time-consuming tasks, from email correspondence to document preparation, so you can focus on what matters most to you."
          ],
          [
           "Need help staying organized? I provide virtual assistant services to handle your day-to-day tasks, including scheduling, customer support, and data management, with efficiency and care."
          ],
          [
           "With a focus on productivity, I offer virtual assistant services tailored to your needs, ensuring seamless coordination and support for both personal and professional tasks."
          ]
         ],
         "hovertemplate": "label=asistente_virtual<br>x=%{x}<br>y=%{y}<br>text=%{customdata[0]}<extra></extra>",
         "legendgroup": "asistente_virtual",
         "marker": {
          "color": "#00cc96",
          "symbol": "circle"
         },
         "mode": "markers",
         "name": "asistente_virtual",
         "orientation": "v",
         "showlegend": true,
         "type": "scatter",
         "x": [
          26.400356,
          30.380766,
          29.206062,
          29.169443,
          27.174593
         ],
         "xaxis": "x",
         "y": [
          -3.7242622,
          -6.4556003,
          -8.519868,
          -3.703736,
          -5.2493296
         ],
         "yaxis": "y"
        },
        {
         "customdata": [
          [
           "I provide comprehensive assistant services to streamline your daily activities. From managing schedules to coordinating events, I ensure every detail is handled with care."
          ],
          [
           "Experienced in assisting individuals and businesses, I provide efficient solutions for scheduling, correspondence, and task management. My goal is to help you succeed."
          ],
          [
           "Offering dedicated support for both personal and professional tasks. I specialize in organization, time management, and administrative assistance tailored to your needs."
          ],
          [
           "Looking for a reliable assistant? I handle everything from travel planning to project coordination, helping you focus on what matters most while staying on top of responsibilities."
          ],
          [
           "As your personal assistant, I bring a proactive approach to managing your day-to-day needs, ensuring everything runs smoothly while you focus on your priorities."
          ]
         ],
         "hovertemplate": "label=assistant<br>x=%{x}<br>y=%{y}<br>text=%{customdata[0]}<extra></extra>",
         "legendgroup": "assistant",
         "marker": {
          "color": "#ab63fa",
          "symbol": "circle"
         },
         "mode": "markers",
         "name": "assistant",
         "orientation": "v",
         "showlegend": true,
         "type": "scatter",
         "x": [
          30.365713,
          22.522436,
          21.212572,
          32.68192,
          29.382456
         ],
         "xaxis": "x",
         "y": [
          -1.4526286,
          -8.507559,
          -7.0964446,
          -0.93023574,
          0.9112559
         ],
         "yaxis": "y"
        },
        {
         "customdata": [
          [
           "I specialize in creating custom parade floats that bring events to life. Whether for a festival or a corporate celebration, my designs are eye-catching and unique."
          ],
          [
           "Providing rental services for beautifully crafted carriages and floats, I help make your special occasions unforgettable with stunning decorations and professional delivery."
          ],
          [
           "With a focus on quality and aesthetics, I provide professional float-building services that enhance celebrations with vibrant and well-crafted displays."
          ],
          [
           "Offering full-service float customization, I work with clients to develop themes and designs that align with their vision and make their event stand out."
          ],
          [
           "Expert in designing and building floats for parades and events. My creations combine creativity, functionality, and durability to ensure a memorable presentation."
          ]
         ],
         "hovertemplate": "label=carrozas<br>x=%{x}<br>y=%{y}<br>text=%{customdata[0]}<extra></extra>",
         "legendgroup": "carrozas",
         "marker": {
          "color": "#FFA15A",
          "symbol": "circle"
         },
         "mode": "markers",
         "name": "carrozas",
         "orientation": "v",
         "showlegend": true,
         "type": "scatter",
         "x": [
          -33.286423,
          -34.927326,
          -34.39672,
          -33.586063,
          -33.54091
         ],
         "xaxis": "x",
         "y": [
          -22.3746,
          -15.396349,
          -16.935402,
          -18.759228,
          -23.779207
         ],
         "yaxis": "y"
        },
        {
         "customdata": [
          [
           "With years of experience, I provide comprehensive locksmith services, from repairing locks to installing advanced security systems. I prioritize your safety and ensure all work meets the highest standards."
          ],
          [
           "Need a trustworthy locksmith? I offer personalized services tailored to your security needs, from key duplication to advanced lock systems, ensuring peace of mind and reliable protection."
          ],
          [
           "As a professional locksmith, I provide a wide range of services, including lock repairs, electronic lock installation, and key replacement. My goal is to deliver secure and dependable solutions."
          ],
          [
           "I specialize in providing expert locksmith services for homes, businesses, and vehicles. Whether it’s an emergency lockout or upgrading your security system, I’m here to help you feel safe."
          ],
          [
           "Locked out or need new locks installed? I offer fast, reliable locksmith services, including key duplication, rekeying, and smart lock setups. Your security and convenience are my top priorities."
          ]
         ],
         "hovertemplate": "label=cerrajeria<br>x=%{x}<br>y=%{y}<br>text=%{customdata[0]}<extra></extra>",
         "legendgroup": "cerrajeria",
         "marker": {
          "color": "#19d3f3",
          "symbol": "circle"
         },
         "mode": "markers",
         "name": "cerrajeria",
         "orientation": "v",
         "showlegend": true,
         "type": "scatter",
         "x": [
          -43.55376,
          -47.658947,
          -44.931507,
          -45.137035,
          -48.613472
         ],
         "xaxis": "x",
         "y": [
          -102.384026,
          -101.178825,
          -103.91265,
          -101.43191,
          -102.77038
         ],
         "yaxis": "y"
        },
        {
         "customdata": [
          [
           "I specialize in automotive locksmith services, including car key duplication, transponder programming, and emergency lockout assistance."
          ],
          [
           "With years of experience, I deliver reliable automotive locksmith services to address any issue, from lockouts to key duplication and more."
          ],
          [
           "Dedicated to automotive locksmithing, I provide advanced services such as smart key programming and ignition repair for all vehicle models."
          ],
          [
           "Offering professional services for broken or lost car keys, I help you regain access to your vehicle with precision and efficiency."
          ],
          [
           "Providing expert solutions for vehicle lock repair and key replacement, I ensure your car's security and accessibility are restored quickly."
          ]
         ],
         "hovertemplate": "label=cerrajeria_automotriz<br>x=%{x}<br>y=%{y}<br>text=%{customdata[0]}<extra></extra>",
         "legendgroup": "cerrajeria_automotriz",
         "marker": {
          "color": "#FF6692",
          "symbol": "circle"
         },
         "mode": "markers",
         "name": "cerrajeria_automotriz",
         "orientation": "v",
         "showlegend": true,
         "type": "scatter",
         "x": [
          -37.170284,
          -38.60183,
          -38.350697,
          -42.093697,
          -40.379578
         ],
         "xaxis": "x",
         "y": [
          -103.62368,
          -102.03827,
          -104.80771,
          -91.94983,
          -91.696144
         ],
         "yaxis": "y"
        },
        {
         "customdata": [
          [
           "Dedicated to providing quality computer maintenance, I handle virus removal, data recovery, and regular system checkups for optimal performance."
          ],
          [
           "I provide expert computer repair services, addressing issues like hardware failures, software glitches, and network connectivity problems."
          ],
          [
           "With experience in troubleshooting, I offer fast and reliable solutions for PCs and laptops, ensuring your devices run smoothly."
          ],
          [
           "Offering professional IT support, I assist with software installations, system configurations, and resolving technical issues efficiently."
          ],
          [
           "Specializing in computer upgrades, I help improve your system’s performance with efficient solutions tailored to your needs."
          ]
         ],
         "hovertemplate": "label=computadoras<br>x=%{x}<br>y=%{y}<br>text=%{customdata[0]}<extra></extra>",
         "legendgroup": "computadoras",
         "marker": {
          "color": "#B6E880",
          "symbol": "circle"
         },
         "mode": "markers",
         "name": "computadoras",
         "orientation": "v",
         "showlegend": true,
         "type": "scatter",
         "x": [
          29.812939,
          24.40593,
          24.83653,
          26.195953,
          29.433094
         ],
         "xaxis": "x",
         "y": [
          -49.083706,
          -46.48246,
          -49.14582,
          -45.66528,
          -46.58189
         ],
         "yaxis": "y"
        },
        {
         "customdata": [
          [
           "With a focus on customer satisfaction, I offer customizable delivery options to accommodate specific requirements, ensuring a seamless experience."
          ],
          [
           "Providing professional same-day delivery solutions, I prioritize speed and accuracy to meet your urgent shipping needs with confidence."
          ],
          [
           "Specializing in local delivery services, I handle everything from groceries to personal items, guaranteeing careful handling and efficient delivery."
          ],
          [
           "Committed to providing dependable delivery services, I use advanced tracking and communication to keep clients informed every step of the way."
          ],
          [
           "I offer reliable delivery services for packages, documents, and goods, ensuring timely and secure transportation for individuals and businesses."
          ]
         ],
         "hovertemplate": "label=delivery<br>x=%{x}<br>y=%{y}<br>text=%{customdata[0]}<extra></extra>",
         "legendgroup": "delivery",
         "marker": {
          "color": "#FF97FF",
          "symbol": "circle"
         },
         "mode": "markers",
         "name": "delivery",
         "orientation": "v",
         "showlegend": true,
         "type": "scatter",
         "x": [
          6.0316033,
          35.445312,
          22.158997,
          32.13702,
          35.037624
         ],
         "xaxis": "x",
         "y": [
          64.33282,
          57.91488,
          54.607353,
          55.079327,
          54.219482
         ],
         "yaxis": "y"
        },
        {
         "customdata": [
          [
           "Dedicated to innovation, I help clients turn ideas into reality by building software that drives efficiency and growth."
          ],
          [
           "With expertise in agile development methodologies, I deliver high-quality software projects on time and within budget."
          ],
          [
           "Offering professional software testing and debugging services, I ensure your applications are reliable, secure, and optimized for performance."
          ],
          [
           "Specializing in full-stack development, I create efficient, scalable, and user-friendly software tailored to your goals."
          ],
          [
           "I design and develop custom software solutions to meet your unique business needs, from mobile apps to web applications."
          ]
         ],
         "hovertemplate": "label=desarrollo_de_software<br>x=%{x}<br>y=%{y}<br>text=%{customdata[0]}<extra></extra>",
         "legendgroup": "desarrollo_de_software",
         "marker": {
          "color": "#FECB52",
          "symbol": "circle"
         },
         "mode": "markers",
         "name": "desarrollo_de_software",
         "orientation": "v",
         "showlegend": true,
         "type": "scatter",
         "x": [
          -8.967339,
          -6.2815547,
          26.57698,
          -5.9552426,
          -4.7343955
         ],
         "xaxis": "x",
         "y": [
          5.971289,
          0.5107969,
          -51.522537,
          2.8387477,
          4.545737
         ],
         "yaxis": "y"
        },
        {
         "customdata": [
          [
           "I provide loving and attentive dog-sitting services, ensuring your furry friend feels safe and cared for while you're away."
          ],
          [
           "With years of experience in pet care, I offer feeding, grooming, and companionship services to make sure your dog is well cared for."
          ],
          [
           "Offering reliable dog-sitting services, I create a comfortable and engaging environment for pets, giving owners peace of mind during their absence."
          ],
          [
           "Dedicated to pet well-being, I provide flexible and professional care tailored to your dog's specific requirements, ensuring they feel loved and secure."
          ],
          [
           "Specializing in dog walking and exercise routines, I help keep your pet active and happy, adapting to their unique needs and energy levels."
          ]
         ],
         "hovertemplate": "label=dog_sitting<br>x=%{x}<br>y=%{y}<br>text=%{customdata[0]}<extra></extra>",
         "legendgroup": "dog_sitting",
         "marker": {
          "color": "#636efa",
          "symbol": "circle"
         },
         "mode": "markers",
         "name": "dog_sitting",
         "orientation": "v",
         "showlegend": true,
         "type": "scatter",
         "x": [
          73.17346,
          73.6734,
          74.15272,
          71.093575,
          69.46872
         ],
         "xaxis": "x",
         "y": [
          -8.610005,
          -6.274344,
          -9.789279,
          -6.5769563,
          -5.8428807
         ],
         "yaxis": "y"
        },
        {
         "customdata": [
          [
           "Committed to fostering a love for learning, I design engaging lessons that cater to diverse learning styles and empower students to achieve their potential."
          ],
          [
           "I provide personalized tutoring to help students excel in their studies, focusing on building confidence and mastering challenging subjects."
          ],
          [
           "Dedicated to lifelong learning, I provide educational services for all age groups, from foundational skills to advanced topics, ensuring growth and success."
          ],
          [
           "As an experienced educator, I offer workshops and courses that promote skill development in areas like coding, mathematics, and languages."
          ],
          [
           "Specializing in exam preparation, I create tailored learning plans that address individual needs and improve performance in standardized tests."
          ]
         ],
         "hovertemplate": "label=education<br>x=%{x}<br>y=%{y}<br>text=%{customdata[0]}<extra></extra>",
         "legendgroup": "education",
         "marker": {
          "color": "#EF553B",
          "symbol": "circle"
         },
         "mode": "markers",
         "name": "education",
         "orientation": "v",
         "showlegend": true,
         "type": "scatter",
         "x": [
          -101.38404,
          -95.762115,
          -97.438896,
          -94.31628,
          -93.43675
         ],
         "xaxis": "x",
         "y": [
          31.70369,
          36.26401,
          29.47585,
          29.476889,
          39.263996
         ],
         "yaxis": "y"
        },
        {
         "customdata": [
          [
           "Dedicated to culinary excellence, I provide professional services for all occasions, from casual dinners to formal banquets, ensuring satisfaction."
          ],
          [
           "I offer personalized meal prep services, creating nutritious and delicious dishes tailored to your dietary preferences and needs."
          ],
          [
           "As a professional caterer, I specialize in providing high-quality food for events, ensuring every guest enjoys a memorable dining experience."
          ],
          [
           "Delivering fresh and homemade meals, I bring convenience and flavor to your table with carefully crafted recipes and ingredients."
          ],
          [
           "Offering cooking classes, I help individuals learn new techniques and recipes, empowering them to create amazing meals at home."
          ]
         ],
         "hovertemplate": "label=food<br>x=%{x}<br>y=%{y}<br>text=%{customdata[0]}<extra></extra>",
         "legendgroup": "food",
         "marker": {
          "color": "#00cc96",
          "symbol": "circle"
         },
         "mode": "markers",
         "name": "food",
         "orientation": "v",
         "showlegend": true,
         "type": "scatter",
         "x": [
          -6.8897557,
          2.6364977,
          -5.746776,
          4.3683553,
          0.66819555
         ],
         "xaxis": "x",
         "y": [
          71.0134,
          76.5604,
          70.11699,
          75.69941,
          84.05081
         ],
         "yaxis": "y"
        },
        {
         "customdata": [
          [
           "I specialize in home repair and maintenance, offering solutions that keep your living space comfortable and functional. From minor fixes to significant improvements, I ensure quality results."
          ],
          [
           "Providing expert home improvement services, including painting, flooring, and small renovations. My focus is on creating spaces that are beautiful, efficient, and tailored to your needs."
          ],
          [
           "Looking to enhance your home? I offer professional repair and organization services to make your living space more enjoyable and efficient, all while prioritizing attention to detail."
          ],
          [
           "With years of experience, I provide reliable home services to keep your property in excellent condition. Whether it's repairs, installations, or renovations, I deliver dependable results."
          ],
          [
           "Committed to helping you create the perfect home environment, I offer a range of services, from handyman tasks to complete renovations, ensuring every detail is taken care of."
          ]
         ],
         "hovertemplate": "label=home<br>x=%{x}<br>y=%{y}<br>text=%{customdata[0]}<extra></extra>",
         "legendgroup": "home",
         "marker": {
          "color": "#ab63fa",
          "symbol": "circle"
         },
         "mode": "markers",
         "name": "home",
         "orientation": "v",
         "showlegend": true,
         "type": "scatter",
         "x": [
          -3.6080196,
          -3.8225334,
          -2.157693,
          -8.726404,
          -6.275826
         ],
         "xaxis": "x",
         "y": [
          -47.104664,
          -44.546658,
          -46.410732,
          -48.695946,
          -50.94147
         ],
         "yaxis": "y"
        },
        {
         "customdata": [
          [
           "As an InDriver partner, I provide safe, reliable, and affordable transportation services tailored to your schedule and preferences."
          ],
          [
           "Offering personalized ride-sharing experiences, I use the InDriver platform to ensure timely and efficient travel for short and long distances."
          ],
          [
           "I specialize in providing flexible transportation solutions, allowing passengers to set their own price for a fair and convenient ride."
          ],
          [
           "With a focus on customer satisfaction, I deliver professional and friendly ride-sharing services through the trusted InDriver app."
          ],
          [
           "Committed to safe and enjoyable travel, I offer rides that adapt to your needs, using InDriver to prioritize affordability and efficiency."
          ]
         ],
         "hovertemplate": "label=indriver<br>x=%{x}<br>y=%{y}<br>text=%{customdata[0]}<extra></extra>",
         "legendgroup": "indriver",
         "marker": {
          "color": "#FFA15A",
          "symbol": "circle"
         },
         "mode": "markers",
         "name": "indriver",
         "orientation": "v",
         "showlegend": true,
         "type": "scatter",
         "x": [
          56.14477,
          58.5445,
          46.368977,
          60.40377,
          55.057472
         ],
         "xaxis": "x",
         "y": [
          41.566963,
          40.86568,
          56.95764,
          40.774086,
          40.523914
         ],
         "yaxis": "y"
        },
        {
         "customdata": [
          [
           "With expertise in key duplication, I create precise copies for spare or replacement needs, giving you peace of mind and convenience."
          ],
          [
           "I specialize in providing fast and reliable lost key replacement services, ensuring you regain access to your home, office, or vehicle without delay."
          ],
          [
           "Committed to customer satisfaction, I deliver professional key services that prioritize safety, reliability, and quick resolution for lost or misplaced keys."
          ],
          [
           "Providing advanced key solutions, including smart key programming and electronic lock replacements, tailored to modern security standards."
          ],
          [
           "Offering emergency lockout assistance and rekeying services, I help secure your property and prevent unauthorized access after losing your keys."
          ]
         ],
         "hovertemplate": "label=llaves_perdidas<br>x=%{x}<br>y=%{y}<br>text=%{customdata[0]}<extra></extra>",
         "legendgroup": "llaves_perdidas",
         "marker": {
          "color": "#19d3f3",
          "symbol": "circle"
         },
         "mode": "markers",
         "name": "llaves_perdidas",
         "orientation": "v",
         "showlegend": true,
         "type": "scatter",
         "x": [
          -48.45399,
          -44.14134,
          -46.27312,
          -40.734848,
          -42.23447
         ],
         "xaxis": "x",
         "y": [
          -94.75821,
          -92.58195,
          -92.07644,
          -107.34984,
          -95.04729
         ],
         "yaxis": "y"
        },
        {
         "customdata": [
          [
           "I provide professional manicure and pedicure services, ensuring your hands and feet look and feel their best with a focus on hygiene and attention to detail."
          ],
          [
           "Offering therapeutic foot care treatments, I help clients relax and rejuvenate with services like exfoliation, massages, and hydration therapies."
          ],
          [
           "Specializing in nail art and custom designs, I offer creative and stylish solutions for all occasions, making your nails a unique statement."
          ],
          [
           "Dedicated to hand and foot care, I offer a variety of treatments to keep your skin healthy and your nails perfectly groomed."
          ],
          [
           "With years of experience, I ensure every manicure and pedicure is delivered with precision, using high-quality products for lasting results."
          ]
         ],
         "hovertemplate": "label=manos_y_pies<br>x=%{x}<br>y=%{y}<br>text=%{customdata[0]}<extra></extra>",
         "legendgroup": "manos_y_pies",
         "marker": {
          "color": "#FF6692",
          "symbol": "circle"
         },
         "mode": "markers",
         "name": "manos_y_pies",
         "orientation": "v",
         "showlegend": true,
         "type": "scatter",
         "x": [
          68.86727,
          76.77128,
          -16.479141,
          70.26371,
          66.81186
         ],
         "xaxis": "x",
         "y": [
          -30.225428,
          -26.760365,
          -29.192955,
          -29.776052,
          -30.943968
         ],
         "yaxis": "y"
        },
        {
         "customdata": [
          [
           "Dedicated to helping businesses thrive, I deliver innovative marketing services that drive growth and build lasting relationships with your customers."
          ],
          [
           "With expertise in SEO and content marketing, I help businesses improve their search rankings and attract more customers through effective strategies."
          ],
          [
           "Specializing in social media management, I create engaging content and campaigns to grow your online presence and connect with your audience."
          ],
          [
           "I provide comprehensive marketing strategies tailored to boost your brand’s visibility and engagement across digital and traditional platforms."
          ],
          [
           "Offering data-driven marketing solutions, I analyze trends and performance metrics to optimize campaigns and maximize ROI."
          ]
         ],
         "hovertemplate": "label=marketing<br>x=%{x}<br>y=%{y}<br>text=%{customdata[0]}<extra></extra>",
         "legendgroup": "marketing",
         "marker": {
          "color": "#B6E880",
          "symbol": "circle"
         },
         "mode": "markers",
         "name": "marketing",
         "orientation": "v",
         "showlegend": true,
         "type": "scatter",
         "x": [
          -12.31862,
          -14.241694,
          -17.579628,
          -16.815498,
          1.3343134
         ],
         "xaxis": "x",
         "y": [
          6.394497,
          6.5652313,
          7.5214143,
          6.191178,
          8.636084
         ],
         "yaxis": "y"
        },
        {
         "customdata": [
          [
           "I specialize in providing general assistance for any task that falls outside conventional categories. My goal is to offer support and solutions tailored to your unique challenges."
          ],
          [
           "As a versatile service provider, I handle tasks of all kinds with efficiency and care. From unexpected challenges to planned projects, I deliver reliable solutions that meet your specific requirements."
          ],
          [
           "Looking for a service provider who can handle anything? From organizing spaces to assembling furniture, I bring enthusiasm and attention to detail to every task, big or small."
          ],
          [
           "Need a helping hand with a variety of tasks? I bring creativity, dedication, and experience to a broad spectrum of projects, ensuring every job is completed to your satisfaction."
          ],
          [
           "I offer a wide range of services tailored to meet unique needs. Whether you need assistance with small repairs, event organization, or creative problem-solving, I am here to ensure your goals are achieved."
          ]
         ],
         "hovertemplate": "label=misc<br>x=%{x}<br>y=%{y}<br>text=%{customdata[0]}<extra></extra>",
         "legendgroup": "misc",
         "marker": {
          "color": "#FF97FF",
          "symbol": "circle"
         },
         "mode": "markers",
         "name": "misc",
         "orientation": "v",
         "showlegend": true,
         "type": "scatter",
         "x": [
          18.645668,
          15.171998,
          14.342406,
          13.843141,
          16.884272
         ],
         "xaxis": "x",
         "y": [
          -7.787538,
          -10.259272,
          -12.854869,
          -8.282176,
          -8.633282
         ],
         "yaxis": "y"
        },
        {
         "customdata": [
          [
           "Dedicated to empowering clients through fashion, I provide styling tips and guidance to enhance your look and express your individuality."
          ],
          [
           "Specializing in fashion for special events, I design and tailor elegant garments that make you stand out with confidence and sophistication."
          ],
          [
           "Offering wardrobe organization and styling services, I help you refresh your closet and curate outfits that suit your lifestyle and preferences."
          ],
          [
           "As a professional designer, I create custom clothing pieces that reflect your personality and meet your specific fashion needs."
          ],
          [
           "I provide personalized fashion consulting services to help you develop your unique style and make confident wardrobe choices for any occasion."
          ]
         ],
         "hovertemplate": "label=moda<br>x=%{x}<br>y=%{y}<br>text=%{customdata[0]}<extra></extra>",
         "legendgroup": "moda",
         "marker": {
          "color": "#FECB52",
          "symbol": "circle"
         },
         "mode": "markers",
         "name": "moda",
         "orientation": "v",
         "showlegend": true,
         "type": "scatter",
         "x": [
          -15.016718,
          -20.09688,
          -13.876023,
          -18.426224,
          -15.644536
         ],
         "xaxis": "x",
         "y": [
          -22.77055,
          -23.432455,
          -25.264883,
          -24.093061,
          -24.7214
         ],
         "yaxis": "y"
        },
        {
         "customdata": [
          [
           "Providing professional motorcycle services, including routine tune-ups, engine diagnostics, and accessory installation. I am dedicated to delivering top-quality results."
          ],
          [
           "Passionate about motorcycles, I specialize in repairs and custom modifications, ensuring your bike performs at its best while reflecting your personal style."
          ],
          [
           "With extensive experience in motorcycle maintenance, I offer a range of services, from quick fixes to detailed overhauls, always focusing on quality and safety."
          ],
          [
           "I am here to keep your motorcycle in peak condition. Whether you need basic maintenance, major repairs, or custom upgrades, I provide reliable and efficient service."
          ],
          [
           "As an experienced motorcycle mechanic, I offer repair, maintenance, and customization services to keep your bike running smoothly and looking great. Your satisfaction is my priority."
          ]
         ],
         "hovertemplate": "label=moto<br>x=%{x}<br>y=%{y}<br>text=%{customdata[0]}<extra></extra>",
         "legendgroup": "moto",
         "marker": {
          "color": "#636efa",
          "symbol": "circle"
         },
         "mode": "markers",
         "name": "moto",
         "orientation": "v",
         "showlegend": true,
         "type": "scatter",
         "x": [
          -15.84546,
          -19.960192,
          -14.173388,
          -16.789156,
          -17.606873
         ],
         "xaxis": "x",
         "y": [
          -66.27245,
          -65.654045,
          -63.566757,
          -63.953407,
          -65.286
         ],
         "yaxis": "y"
        },
        {
         "customdata": [
          [
           "Specializing in urban transportation, I help you save time with fast and flexible mototaxi services tailored to your schedule."
          ],
          [
           "I provide efficient mototaxi services for quick commutes, navigating traffic with ease and ensuring you arrive at your destination on time."
          ],
          [
           "Offering reliable and affordable motorcycle rides, I focus on providing a safe and comfortable experience for every passenger."
          ],
          [
           "Committed to safety and punctuality, I provide professional mototaxi services designed to meet your travel requirements with efficiency and care."
          ],
          [
           "With extensive knowledge of city routes, I ensure smooth and hassle-free travel for all your short-distance transportation needs."
          ]
         ],
         "hovertemplate": "label=mototaxi<br>x=%{x}<br>y=%{y}<br>text=%{customdata[0]}<extra></extra>",
         "legendgroup": "mototaxi",
         "marker": {
          "color": "#EF553B",
          "symbol": "circle"
         },
         "mode": "markers",
         "name": "mototaxi",
         "orientation": "v",
         "showlegend": true,
         "type": "scatter",
         "x": [
          42.449177,
          40.743988,
          47.96364,
          39.046223,
          38.316135
         ],
         "xaxis": "x",
         "y": [
          65.19093,
          64.67519,
          38.514343,
          63.604027,
          52.060375
         ],
         "yaxis": "y"
        },
        {
         "customdata": [
          [
           "Offering furniture customization services, I help you create pieces that match your space and aesthetic perfectly. Whether modern or classic, I deliver exceptional results."
          ],
          [
           "Expert in restoring and repairing furniture to its original beauty. From fixing structural damage to reupholstering, I bring life back to your cherished pieces."
          ],
          [
           "Providing professional furniture assembly and installation services, I ensure that your pieces are set up securely and correctly, giving you peace of mind and convenience."
          ],
          [
           "I specialize in crafting custom furniture that combines style and functionality. Whether you need a unique piece or a complete set, I ensure quality craftsmanship and durability."
          ],
          [
           "With years of experience, I provide reliable furniture repair and maintenance services to keep your home or office looking its best. I focus on quality and customer satisfaction."
          ]
         ],
         "hovertemplate": "label=muebles<br>x=%{x}<br>y=%{y}<br>text=%{customdata[0]}<extra></extra>",
         "legendgroup": "muebles",
         "marker": {
          "color": "#00cc96",
          "symbol": "circle"
         },
         "mode": "markers",
         "name": "muebles",
         "orientation": "v",
         "showlegend": true,
         "type": "scatter",
         "x": [
          -17.618914,
          -9.625904,
          14.839981,
          -18.533049,
          -8.900956
         ],
         "xaxis": "x",
         "y": [
          -34.444973,
          -44.501625,
          -67.15488,
          -35.574203,
          -47.07305
         ],
         "yaxis": "y"
        },
        {
         "customdata": [
          [
           "Providing professional music services, from live performances to studio production, I aim to bring the joy of music to audiences and creators alike."
          ],
          [
           "As a music educator, I inspire students to achieve their musical potential through personalized instruction and support, fostering both technical skills and artistic expression."
          ],
          [
           "Specializing in music production, I help artists bring their creative visions to life. From composing to mixing, I deliver high-quality results tailored to your goals."
          ],
          [
           "With years of experience as a performer, I provide live music services for events, bringing energy and professionalism to every performance, no matter the occasion."
          ],
          [
           "I offer music lessons tailored to all skill levels, helping students explore their creativity and develop their talents. My approach focuses on making learning enjoyable and effective."
          ]
         ],
         "hovertemplate": "label=music<br>x=%{x}<br>y=%{y}<br>text=%{customdata[0]}<extra></extra>",
         "legendgroup": "music",
         "marker": {
          "color": "#ab63fa",
          "symbol": "circle"
         },
         "mode": "markers",
         "name": "music",
         "orientation": "v",
         "showlegend": true,
         "type": "scatter",
         "x": [
          -46.467033,
          -79.83513,
          -47.22543,
          -49.53126,
          -79.53399
         ],
         "xaxis": "x",
         "y": [
          34.618877,
          33.94659,
          23.24117,
          36.941505,
          29.014921
         ],
         "yaxis": "y"
        },
        {
         "customdata": [
          [
           "Dedicated to sharing the joy of music, I bring energy and professionalism to every performance, whether on stage or in the studio."
          ],
          [
           "With a focus on fostering musical talent, I offer personalized lessons and mentorship to help aspiring artists achieve their goals."
          ],
          [
           "Providing professional music production services, I specialize in composing, recording, and mixing tracks that bring your creative vision to life."
          ],
          [
           "As an experienced performer, I offer live music services for weddings, parties, and corporate events, creating memorable experiences for all occasions."
          ],
          [
           "I am a music teacher passionate about inspiring students to explore their creativity and develop their skills in various instruments and vocal techniques."
          ]
         ],
         "hovertemplate": "label=musica<br>x=%{x}<br>y=%{y}<br>text=%{customdata[0]}<extra></extra>",
         "legendgroup": "musica",
         "marker": {
          "color": "#FFA15A",
          "symbol": "circle"
         },
         "mode": "markers",
         "name": "musica",
         "orientation": "v",
         "showlegend": true,
         "type": "scatter",
         "x": [
          -45.97136,
          -80.90329,
          -46.228928,
          -50.00883,
          -78.14725
         ],
         "xaxis": "x",
         "y": [
          37.716793,
          35.154736,
          24.218409,
          35.262703,
          31.186623
         ],
         "yaxis": "y"
        },
        {
         "customdata": [
          [
           "As a professional musician, I offer live performances for events, creating memorable experiences with music tailored to your occasion."
          ],
          [
           "Specializing in composing original music, I bring creativity and expertise to projects like film scores, advertisements, and personal requests."
          ],
          [
           "I provide music lessons for individuals of all skill levels, focusing on technique, theory, and creativity to help students achieve their goals."
          ],
          [
           "Dedicated to delivering high-quality performances, I bring passion and professionalism to every gig, ensuring your event is unforgettable."
          ],
          [
           "With years of experience, I collaborate with clients to produce music that captures their vision, whether for personal enjoyment or professional projects."
          ]
         ],
         "hovertemplate": "label=musico<br>x=%{x}<br>y=%{y}<br>text=%{customdata[0]}<extra></extra>",
         "legendgroup": "musico",
         "marker": {
          "color": "#19d3f3",
          "symbol": "circle"
         },
         "mode": "markers",
         "name": "musico",
         "orientation": "v",
         "showlegend": true,
         "type": "scatter",
         "x": [
          -48.991844,
          -45.50016,
          -80.96109,
          -46.74005,
          -48.09231
         ],
         "xaxis": "x",
         "y": [
          33.558495,
          21.376265,
          28.687859,
          39.47483,
          26.210022
         ],
         "yaxis": "y"
        },
        {
         "customdata": [
          [
           "I provide professional refrigerator repair services, addressing issues such as cooling problems, leaks, and unusual noises to restore your appliance to peak performance."
          ],
          [
           "Dedicated to customer satisfaction, I provide comprehensive refrigerator services, from minor fixes to major repairs, keeping your kitchen running smoothly."
          ],
          [
           "Offering fast and reliable repair services, I handle issues like thermostat malfunctions and compressor failures with precision and care."
          ],
          [
           "With years of experience, I provide expert installation of refrigerators, ensuring proper setup for optimal performance and longevity."
          ],
          [
           "Specializing in refrigerator maintenance, I offer regular checkups and cleaning services to ensure your appliance remains energy-efficient and functional."
          ]
         ],
         "hovertemplate": "label=nevera<br>x=%{x}<br>y=%{y}<br>text=%{customdata[0]}<extra></extra>",
         "legendgroup": "nevera",
         "marker": {
          "color": "#FF6692",
          "symbol": "circle"
         },
         "mode": "markers",
         "name": "nevera",
         "orientation": "v",
         "showlegend": true,
         "type": "scatter",
         "x": [
          11.273581,
          10.714881,
          20.223259,
          11.9996805,
          11.042992
         ],
         "xaxis": "x",
         "y": [
          -53.84187,
          -55.475544,
          -48.00408,
          -60.137005,
          -57.344902
         ],
         "yaxis": "y"
        },
        {
         "customdata": [
          [
           "As a passionate pianist and teacher, I offer lessons for beginners and advanced students. I focus on fostering a love for music while helping you master techniques and build confidence."
          ],
          [
           "Offering professional piano tuning and maintenance services to keep your instrument in top condition. My goal is to ensure your piano delivers optimal sound quality and performance."
          ],
          [
           "Whether you’re looking to learn piano or need an experienced performer for your event, I bring years of expertise and a dedication to sharing the joy of music with every project."
          ],
          [
           "I specialize in helping students achieve their musical goals through tailored piano lessons. With a focus on technique and creativity, I inspire a lifelong passion for playing the piano."
          ],
          [
           "Providing professional piano services, including live performances, lessons, and instrument maintenance. My mission is to make music accessible and enjoyable for everyone."
          ]
         ],
         "hovertemplate": "label=piano<br>x=%{x}<br>y=%{y}<br>text=%{customdata[0]}<extra></extra>",
         "legendgroup": "piano",
         "marker": {
          "color": "#B6E880",
          "symbol": "circle"
         },
         "mode": "markers",
         "name": "piano",
         "orientation": "v",
         "showlegend": true,
         "type": "scatter",
         "x": [
          -75.25065,
          -65.85186,
          -50.47755,
          -74.13229,
          -66.064
         ],
         "xaxis": "x",
         "y": [
          28.832272,
          26.54267,
          39.249474,
          29.79501,
          27.950989
         ],
         "yaxis": "y"
        },
        {
         "customdata": [
          [
           "I specialize in crafting artisan pizzas using fresh ingredients and traditional techniques, delivering exceptional flavor and quality every time."
          ],
          [
           "Offering fast and reliable pizza delivery services, I ensure your order arrives hot and ready to enjoy, whether for a quick meal or a group gathering."
          ],
          [
           "Providing catering services for events, I create customized pizza menus to suit your occasion, from casual parties to formal celebrations."
          ],
          [
           "Dedicated to creating unique and delicious pizza experiences, I experiment with flavors and toppings to bring variety to your table."
          ],
          [
           "With a focus on customer satisfaction, I offer freshly made pizzas with customizable options, ensuring everyone gets their favorite slice."
          ]
         ],
         "hovertemplate": "label=pizza<br>x=%{x}<br>y=%{y}<br>text=%{customdata[0]}<extra></extra>",
         "legendgroup": "pizza",
         "marker": {
          "color": "#FF97FF",
          "symbol": "circle"
         },
         "mode": "markers",
         "name": "pizza",
         "orientation": "v",
         "showlegend": true,
         "type": "scatter",
         "x": [
          0.070958115,
          7.2545266,
          -2.668844,
          2.0233965,
          4.596258
         ],
         "xaxis": "x",
         "y": [
          68.19265,
          73.23068,
          72.678444,
          67.40863,
          65.66189
         ],
         "yaxis": "y"
        },
        {
         "customdata": [
          [
           "As an experienced plumber, I offer solutions for all your plumbing needs, from fixing leaks to installing new fixtures. My work ensures functionality and long-lasting results."
          ],
          [
           "Dedicated to maintaining your plumbing systems, I offer routine inspections and preventive maintenance to keep everything running smoothly and avoid future issues."
          ],
          [
           "With a commitment to quality, I handle emergency plumbing situations promptly, minimizing damage and restoring your system to proper working order."
          ],
          [
           "Providing professional plumbing installation services, I ensure all systems are set up correctly and meet industry standards for safety and performance."
          ],
          [
           "Specializing in plumbing repairs and maintenance, I address issues like clogged drains, broken pipes, and water pressure problems with efficiency and expertise."
          ]
         ],
         "hovertemplate": "label=plomero<br>x=%{x}<br>y=%{y}<br>text=%{customdata[0]}<extra></extra>",
         "legendgroup": "plomero",
         "marker": {
          "color": "#FECB52",
          "symbol": "circle"
         },
         "mode": "markers",
         "name": "plomero",
         "orientation": "v",
         "showlegend": true,
         "type": "scatter",
         "x": [
          9.119516,
          8.559952,
          6.8779902,
          12.626821,
          7.4894376
         ],
         "xaxis": "x",
         "y": [
          -71.37193,
          -66.26806,
          -66.0725,
          -66.84399,
          -71.73045
         ],
         "yaxis": "y"
        },
        {
         "customdata": [
          [
           "I offer consultation services for parents and teachers, equipping them with tools to create supportive learning environments for students."
          ],
          [
           "Specializing in developmental assessments, I provide insights into cognitive, emotional, and behavioral growth to guide tailored interventions."
          ],
          [
           "As a professional educational psychologist, I help children and adolescents overcome learning challenges with personalized strategies and support."
          ],
          [
           "Dedicated to fostering success, I provide one-on-one support to help individuals achieve their potential in both educational and personal contexts."
          ],
          [
           "With a focus on holistic development, I design programs that enhance academic skills while addressing emotional and social needs."
          ]
         ],
         "hovertemplate": "label=psicopedagoga<br>x=%{x}<br>y=%{y}<br>text=%{customdata[0]}<extra></extra>",
         "legendgroup": "psicopedagoga",
         "marker": {
          "color": "#636efa",
          "symbol": "circle"
         },
         "mode": "markers",
         "name": "psicopedagoga",
         "orientation": "v",
         "showlegend": true,
         "type": "scatter",
         "x": [
          -104.13832,
          -99.72758,
          -97.36722,
          -100.07228,
          -101.41924
         ],
         "xaxis": "x",
         "y": [
          35.250694,
          44.942642,
          40.620216,
          37.703125,
          44.918186
         ],
         "yaxis": "y"
        },
        {
         "customdata": [
          [
           "Specializing in home and office repair services, I handle everything from minor fixes to major overhauls with care and precision."
          ],
          [
           "Dedicated to quality craftsmanship, I repair a wide range of items, using high-quality tools and techniques to ensure lasting results."
          ],
          [
           "Providing cost-effective repair services, I help clients save money by restoring their belongings instead of replacing them."
          ],
          [
           "I offer professional repair services for electronics, appliances, and more, focusing on restoring functionality and extending the lifespan of your items."
          ],
          [
           "With expertise in troubleshooting, I provide efficient repair solutions for damaged or malfunctioning equipment, ensuring timely and reliable results."
          ]
         ],
         "hovertemplate": "label=repair<br>x=%{x}<br>y=%{y}<br>text=%{customdata[0]}<extra></extra>",
         "legendgroup": "repair",
         "marker": {
          "color": "#EF553B",
          "symbol": "circle"
         },
         "mode": "markers",
         "name": "repair",
         "orientation": "v",
         "showlegend": true,
         "type": "scatter",
         "x": [
          -3.078358,
          -1.735155,
          14.194539,
          11.778653,
          22.405323
         ],
         "xaxis": "x",
         "y": [
          -50.202827,
          -54.602524,
          -49.549694,
          -49.907536,
          -47.59624
         ],
         "yaxis": "y"
        },
        {
         "customdata": [
          [
           "Dedicated to enhancing the smartphone experience, I provide services ranging from repairs to upgrades, ensuring clients get the most out of their technology."
          ],
          [
           "I provide fast and reliable smartphone repair services, addressing issues like cracked screens, battery problems, and software glitches with precision and care."
          ],
          [
           "Specializing in smartphone customization, I help clients personalize their devices with unique features and settings to fit their lifestyle and preferences."
          ],
          [
           "Offering sales and setup of the latest smartphones, I guide clients in selecting the perfect device while ensuring a smooth transition with professional setup assistance."
          ],
          [
           "With expertise in troubleshooting, I diagnose and fix smartphone issues efficiently, helping clients get their devices back in top condition quickly."
          ]
         ],
         "hovertemplate": "label=smartphone<br>x=%{x}<br>y=%{y}<br>text=%{customdata[0]}<extra></extra>",
         "legendgroup": "smartphone",
         "marker": {
          "color": "#00cc96",
          "symbol": "circle"
         },
         "mode": "markers",
         "name": "smartphone",
         "orientation": "v",
         "showlegend": true,
         "type": "scatter",
         "x": [
          18.169699,
          18.42004,
          16.97065,
          19.537369,
          19.798803
         ],
         "xaxis": "x",
         "y": [
          -38.36306,
          -41.518578,
          -36.51949,
          -35.663364,
          -40.724236
         ],
         "yaxis": "y"
        },
        {
         "customdata": [
          [
           "Specializing in holistic wellness, I offer body treatments and therapies designed to relieve stress and promote overall well-being."
          ],
          [
           "With expertise in skincare, I deliver personalized facial treatments that enhance skin health and leave you feeling refreshed."
          ],
          [
           "Dedicated to relaxation, I provide a range of spa services, from aromatherapy to deep tissue massages, tailored to your needs."
          ],
          [
           "Offering a sanctuary for self-care, I create a calming atmosphere where clients can unwind and recharge with professional spa services."
          ],
          [
           "I provide luxurious spa treatments, including massages and facials, to help clients relax and rejuvenate in a serene environment."
          ]
         ],
         "hovertemplate": "label=spa<br>x=%{x}<br>y=%{y}<br>text=%{customdata[0]}<extra></extra>",
         "legendgroup": "spa",
         "marker": {
          "color": "#ab63fa",
          "symbol": "circle"
         },
         "mode": "markers",
         "name": "spa",
         "orientation": "v",
         "showlegend": true,
         "type": "scatter",
         "x": [
          81.00726,
          79.01063,
          81.31332,
          78.89168,
          79.07193
         ],
         "xaxis": "x",
         "y": [
          -29.303028,
          -29.75187,
          -26.469248,
          -24.544573,
          -26.456678
         ],
         "yaxis": "y"
        },
        {
         "customdata": [
          [
           "Dedicated to delivering exceptional taxi services, I aim to exceed customer expectations with prompt pickups, courteous service, and smooth travel experiences."
          ],
          [
           "Providing clean, safe, and reliable taxi services. My priority is to make every journey stress-free and enjoyable for all passengers."
          ],
          [
           "With years of experience, I specialize in local and airport taxi services, focusing on customer satisfaction and punctuality in every trip."
          ],
          [
           "As a professional taxi driver, I provide dependable and comfortable transportation services, ensuring you arrive at your destination safely and on time."
          ],
          [
           "Offering 24/7 taxi services tailored to your needs. Whether for a short trip or a long-distance journey, I guarantee a pleasant and efficient ride."
          ]
         ],
         "hovertemplate": "label=taxi<br>x=%{x}<br>y=%{y}<br>text=%{customdata[0]}<extra></extra>",
         "legendgroup": "taxi",
         "marker": {
          "color": "#FFA15A",
          "symbol": "circle"
         },
         "mode": "markers",
         "name": "taxi",
         "orientation": "v",
         "showlegend": true,
         "type": "scatter",
         "x": [
          47.67503,
          39.302464,
          47.05324,
          44.046177,
          40.325386
         ],
         "xaxis": "x",
         "y": [
          47.79573,
          41.693615,
          49.820324,
          45.673916,
          39.178833
         ],
         "yaxis": "y"
        },
        {
         "customdata": [
          [
           "Offering end-to-end transport solutions, I manage logistics with precision, ensuring every trip or shipment is handled smoothly."
          ],
          [
           "With years of experience in transportation, I offer flexible and efficient services tailored to meet your specific travel or delivery needs."
          ],
          [
           "Specializing in logistics and transport solutions, I handle the movement of cargo with care, keeping your items secure throughout the journey."
          ],
          [
           "I provide reliable transportation services for goods and passengers, ensuring timely delivery and safe travel across short and long distances."
          ],
          [
           "Committed to excellence, I prioritize safety and punctuality, delivering professional transportation services for individuals and businesses."
          ]
         ],
         "hovertemplate": "label=transport<br>x=%{x}<br>y=%{y}<br>text=%{customdata[0]}<extra></extra>",
         "legendgroup": "transport",
         "marker": {
          "color": "#19d3f3",
          "symbol": "circle"
         },
         "mode": "markers",
         "name": "transport",
         "orientation": "v",
         "showlegend": true,
         "type": "scatter",
         "x": [
          29.047132,
          47.722347,
          27.862333,
          36.060173,
          37.368988
         ],
         "xaxis": "x",
         "y": [
          48.94859,
          55.77374,
          49.866108,
          52.80257,
          62.12379
         ],
         "yaxis": "y"
        },
        {
         "customdata": [
          [
           "I specialize in transporting perishable food items with care, ensuring they arrive fresh and intact. My service is perfect for businesses and individuals who value quality."
          ],
          [
           "Providing reliable food transportation services, I ensure all items are handled with proper hygiene and temperature control, maintaining the highest standards of safety."
          ],
          [
           "Expert in delivering food products, from fresh produce to packaged goods. My service prioritizes punctuality and preservation to meet your specific needs."
          ],
          [
           "Committed to safe and efficient food delivery, I provide tailored transportation solutions that guarantee freshness, whether for restaurants, events, or private use."
          ],
          [
           "With a focus on quality and reliability, I offer professional food transportation services that ensure your items reach their destination in perfect condition."
          ]
         ],
         "hovertemplate": "label=transporte_de_alimentos<br>x=%{x}<br>y=%{y}<br>text=%{customdata[0]}<extra></extra>",
         "legendgroup": "transporte_de_alimentos",
         "marker": {
          "color": "#FF6692",
          "symbol": "circle"
         },
         "mode": "markers",
         "name": "transporte_de_alimentos",
         "orientation": "v",
         "showlegend": true,
         "type": "scatter",
         "x": [
          20.954918,
          22.33037,
          19.044758,
          24.485413,
          22.249197
         ],
         "xaxis": "x",
         "y": [
          57.284893,
          61.33417,
          56.953922,
          59.623432,
          59.053448
         ],
         "yaxis": "y"
        },
        {
         "customdata": [
          [
           "Committed to customer satisfaction, I deliver reliable travel solutions, ensuring every aspect of your trip is seamless and enjoyable."
          ],
          [
           "Offering stress-free travel management, I handle all logistics, from visas to transportation, so you can focus on enjoying your journey."
          ],
          [
           "With a passion for exploring the world, I help clients discover unique destinations and hidden gems, making every trip unforgettable."
          ],
          [
           "I provide comprehensive travel planning services, including flight bookings, accommodations, and tours, tailored to your preferences and budget."
          ],
          [
           "As a travel agent, I specialize in creating personalized itineraries that ensure memorable experiences for vacations, business trips, and special events."
          ]
         ],
         "hovertemplate": "label=travel_agency<br>x=%{x}<br>y=%{y}<br>text=%{customdata[0]}<extra></extra>",
         "legendgroup": "travel_agency",
         "marker": {
          "color": "#B6E880",
          "symbol": "circle"
         },
         "mode": "markers",
         "name": "travel_agency",
         "orientation": "v",
         "showlegend": true,
         "type": "scatter",
         "x": [
          34.984337,
          29.907784,
          55.324818,
          50.80554,
          53.51156
         ],
         "xaxis": "x",
         "y": [
          49.80463,
          46.22066,
          59.0106,
          57.023952,
          58.23853
         ],
         "yaxis": "y"
        },
        {
         "customdata": [
          [
           "With a passion for education, I provide targeted tutoring that helps students build skills, overcome challenges, and achieve their academic potential."
          ],
          [
           "I provide personalized tutoring to help students excel in their studies. My approach focuses on identifying strengths and addressing challenges for lasting academic success."
          ],
          [
           "As an experienced tutor, I specialize in helping students improve their understanding and performance in subjects like math, science, and languages. Tailored lessons make learning effective."
          ],
          [
           "Committed to fostering a love for learning, I offer comprehensive tutoring services designed to boost confidence and academic skills in students of all ages."
          ],
          [
           "I work closely with students to create engaging and effective learning plans, offering support in a range of subjects to help them achieve their goals."
          ]
         ],
         "hovertemplate": "label=tutorias<br>x=%{x}<br>y=%{y}<br>text=%{customdata[0]}<extra></extra>",
         "legendgroup": "tutorias",
         "marker": {
          "color": "#FF97FF",
          "symbol": "circle"
         },
         "mode": "markers",
         "name": "tutorias",
         "orientation": "v",
         "showlegend": true,
         "type": "scatter",
         "x": [
          -98.26313,
          -96.13757,
          -93.00427,
          -98.78357,
          -101.60651
         ],
         "xaxis": "x",
         "y": [
          35.354744,
          37.62642,
          35.236977,
          30.546083,
          34.301662
         ],
         "yaxis": "y"
        },
        {
         "customdata": [
          [
           "I offer expert TV repair services to fix issues like screen damage, sound problems, or connectivity errors. My goal is to restore your viewing experience to perfection."
          ],
          [
           "Dedicated to providing fast and reliable TV services, I address all technical issues to keep your home entertainment system running smoothly."
          ],
          [
           "With years of experience, I handle all aspects of TV maintenance, from cable management to troubleshooting signal issues, for a seamless entertainment experience."
          ],
          [
           "Providing calibration services to enhance your TV’s picture and sound quality, ensuring you get the best possible performance from your device."
          ],
          [
           "Specializing in professional TV installation and mounting services, I ensure your setup is secure and positioned for optimal viewing in any room."
          ]
         ],
         "hovertemplate": "label=tv<br>x=%{x}<br>y=%{y}<br>text=%{customdata[0]}<extra></extra>",
         "legendgroup": "tv",
         "marker": {
          "color": "#FECB52",
          "symbol": "circle"
         },
         "mode": "markers",
         "name": "tv",
         "orientation": "v",
         "showlegend": true,
         "type": "scatter",
         "x": [
          10.360111,
          22.879921,
          23.852646,
          9.131121,
          16.44746
         ],
         "xaxis": "x",
         "y": [
          -47.44027,
          -61.416706,
          -62.463684,
          -45.26928,
          -66.449844
         ],
         "yaxis": "y"
        },
        {
         "customdata": [
          [
           "Providing reliable ride-sharing services, I focus on making every journey smooth and enjoyable. Whether you're commuting or heading to an event, I am here to assist."
          ],
          [
           "With extensive experience as a driver, I provide flexible and dependable transportation services, focusing on customer satisfaction and road safety."
          ],
          [
           "Committed to delivering friendly and professional ride-sharing experiences, I strive to make every trip pleasant, safe, and tailored to your needs."
          ],
          [
           "I specialize in offering timely and efficient transportation services. My goal is to provide a seamless travel experience, ensuring you arrive at your destination stress-free."
          ],
          [
           "As a professional ride-share driver, I offer safe and comfortable transportation to get you where you need to go. I prioritize punctuality and exceptional customer service."
          ]
         ],
         "hovertemplate": "label=uber<br>x=%{x}<br>y=%{y}<br>text=%{customdata[0]}<extra></extra>",
         "legendgroup": "uber",
         "marker": {
          "color": "#636efa",
          "symbol": "circle"
         },
         "mode": "markers",
         "name": "uber",
         "orientation": "v",
         "showlegend": true,
         "type": "scatter",
         "x": [
          44.662315,
          43.523464,
          46.87885,
          38.538857,
          44.393845
         ],
         "xaxis": "x",
         "y": [
          41.47612,
          49.34927,
          40.139446,
          43.39474,
          43.40697
         ],
         "yaxis": "y"
        },
        {
         "customdata": [
          [
           "Dedicated to promoting sustainable eating, I offer cooking classes that teach clients how to create satisfying vegetarian dishes at home."
          ],
          [
           "I specialize in crafting delicious and nutritious vegetarian meals using fresh, locally sourced ingredients to satisfy every palate."
          ],
          [
           "Providing vegetarian catering services, I create custom menus for events, offering flavorful dishes that celebrate plant-based cuisine."
          ],
          [
           "As a personal chef, I prepare balanced vegetarian meals tailored to your dietary needs and preferences, making healthy eating easy and enjoyable."
          ],
          [
           "With a passion for plant-based cooking, I bring creativity and flavor to every meal, ensuring a delightful experience for all."
          ]
         ],
         "hovertemplate": "label=vegetariano<br>x=%{x}<br>y=%{y}<br>text=%{customdata[0]}<extra></extra>",
         "legendgroup": "vegetariano",
         "marker": {
          "color": "#EF553B",
          "symbol": "circle"
         },
         "mode": "markers",
         "name": "vegetariano",
         "orientation": "v",
         "showlegend": true,
         "type": "scatter",
         "x": [
          0.33589336,
          -0.7881619,
          -2.2463405,
          1.1156527,
          -3.3996553
         ],
         "xaxis": "x",
         "y": [
          81.91332,
          78.77271,
          74.84031,
          78.90612,
          78.276085
         ],
         "yaxis": "y"
        },
        {
         "customdata": [
          [
           "Busco a alguien que me arregle un pantalon"
          ],
          [
           "Necesito arreglar la cerradura de mi auto"
          ],
          [
           "I need to fix my car lock"
          ]
         ],
         "hovertemplate": "label=question<br>x=%{x}<br>y=%{y}<br>text=%{customdata[0]}<extra></extra>",
         "legendgroup": "question",
         "marker": {
          "color": "#00cc96",
          "symbol": "circle"
         },
         "mode": "markers",
         "name": "question",
         "orientation": "v",
         "showlegend": true,
         "type": "scatter",
         "x": [
          -34.91251,
          -35.772324,
          -38.045704
         ],
         "xaxis": "x",
         "y": [
          -84.2625,
          -85.466774,
          -88.43912
         ],
         "yaxis": "y"
        }
       ],
       "layout": {
        "legend": {
         "title": {
          "text": "label"
         },
         "tracegroupgap": 0
        },
        "margin": {
         "t": 60
        },
        "template": {
         "data": {
          "bar": [
           {
            "error_x": {
             "color": "#2a3f5f"
            },
            "error_y": {
             "color": "#2a3f5f"
            },
            "marker": {
             "line": {
              "color": "#E5ECF6",
              "width": 0.5
             },
             "pattern": {
              "fillmode": "overlay",
              "size": 10,
              "solidity": 0.2
             }
            },
            "type": "bar"
           }
          ],
          "barpolar": [
           {
            "marker": {
             "line": {
              "color": "#E5ECF6",
              "width": 0.5
             },
             "pattern": {
              "fillmode": "overlay",
              "size": 10,
              "solidity": 0.2
             }
            },
            "type": "barpolar"
           }
          ],
          "carpet": [
           {
            "aaxis": {
             "endlinecolor": "#2a3f5f",
             "gridcolor": "white",
             "linecolor": "white",
             "minorgridcolor": "white",
             "startlinecolor": "#2a3f5f"
            },
            "baxis": {
             "endlinecolor": "#2a3f5f",
             "gridcolor": "white",
             "linecolor": "white",
             "minorgridcolor": "white",
             "startlinecolor": "#2a3f5f"
            },
            "type": "carpet"
           }
          ],
          "choropleth": [
           {
            "colorbar": {
             "outlinewidth": 0,
             "ticks": ""
            },
            "type": "choropleth"
           }
          ],
          "contour": [
           {
            "colorbar": {
             "outlinewidth": 0,
             "ticks": ""
            },
            "colorscale": [
             [
              0,
              "#0d0887"
             ],
             [
              0.1111111111111111,
              "#46039f"
             ],
             [
              0.2222222222222222,
              "#7201a8"
             ],
             [
              0.3333333333333333,
              "#9c179e"
             ],
             [
              0.4444444444444444,
              "#bd3786"
             ],
             [
              0.5555555555555556,
              "#d8576b"
             ],
             [
              0.6666666666666666,
              "#ed7953"
             ],
             [
              0.7777777777777778,
              "#fb9f3a"
             ],
             [
              0.8888888888888888,
              "#fdca26"
             ],
             [
              1,
              "#f0f921"
             ]
            ],
            "type": "contour"
           }
          ],
          "contourcarpet": [
           {
            "colorbar": {
             "outlinewidth": 0,
             "ticks": ""
            },
            "type": "contourcarpet"
           }
          ],
          "heatmap": [
           {
            "colorbar": {
             "outlinewidth": 0,
             "ticks": ""
            },
            "colorscale": [
             [
              0,
              "#0d0887"
             ],
             [
              0.1111111111111111,
              "#46039f"
             ],
             [
              0.2222222222222222,
              "#7201a8"
             ],
             [
              0.3333333333333333,
              "#9c179e"
             ],
             [
              0.4444444444444444,
              "#bd3786"
             ],
             [
              0.5555555555555556,
              "#d8576b"
             ],
             [
              0.6666666666666666,
              "#ed7953"
             ],
             [
              0.7777777777777778,
              "#fb9f3a"
             ],
             [
              0.8888888888888888,
              "#fdca26"
             ],
             [
              1,
              "#f0f921"
             ]
            ],
            "type": "heatmap"
           }
          ],
          "heatmapgl": [
           {
            "colorbar": {
             "outlinewidth": 0,
             "ticks": ""
            },
            "colorscale": [
             [
              0,
              "#0d0887"
             ],
             [
              0.1111111111111111,
              "#46039f"
             ],
             [
              0.2222222222222222,
              "#7201a8"
             ],
             [
              0.3333333333333333,
              "#9c179e"
             ],
             [
              0.4444444444444444,
              "#bd3786"
             ],
             [
              0.5555555555555556,
              "#d8576b"
             ],
             [
              0.6666666666666666,
              "#ed7953"
             ],
             [
              0.7777777777777778,
              "#fb9f3a"
             ],
             [
              0.8888888888888888,
              "#fdca26"
             ],
             [
              1,
              "#f0f921"
             ]
            ],
            "type": "heatmapgl"
           }
          ],
          "histogram": [
           {
            "marker": {
             "pattern": {
              "fillmode": "overlay",
              "size": 10,
              "solidity": 0.2
             }
            },
            "type": "histogram"
           }
          ],
          "histogram2d": [
           {
            "colorbar": {
             "outlinewidth": 0,
             "ticks": ""
            },
            "colorscale": [
             [
              0,
              "#0d0887"
             ],
             [
              0.1111111111111111,
              "#46039f"
             ],
             [
              0.2222222222222222,
              "#7201a8"
             ],
             [
              0.3333333333333333,
              "#9c179e"
             ],
             [
              0.4444444444444444,
              "#bd3786"
             ],
             [
              0.5555555555555556,
              "#d8576b"
             ],
             [
              0.6666666666666666,
              "#ed7953"
             ],
             [
              0.7777777777777778,
              "#fb9f3a"
             ],
             [
              0.8888888888888888,
              "#fdca26"
             ],
             [
              1,
              "#f0f921"
             ]
            ],
            "type": "histogram2d"
           }
          ],
          "histogram2dcontour": [
           {
            "colorbar": {
             "outlinewidth": 0,
             "ticks": ""
            },
            "colorscale": [
             [
              0,
              "#0d0887"
             ],
             [
              0.1111111111111111,
              "#46039f"
             ],
             [
              0.2222222222222222,
              "#7201a8"
             ],
             [
              0.3333333333333333,
              "#9c179e"
             ],
             [
              0.4444444444444444,
              "#bd3786"
             ],
             [
              0.5555555555555556,
              "#d8576b"
             ],
             [
              0.6666666666666666,
              "#ed7953"
             ],
             [
              0.7777777777777778,
              "#fb9f3a"
             ],
             [
              0.8888888888888888,
              "#fdca26"
             ],
             [
              1,
              "#f0f921"
             ]
            ],
            "type": "histogram2dcontour"
           }
          ],
          "mesh3d": [
           {
            "colorbar": {
             "outlinewidth": 0,
             "ticks": ""
            },
            "type": "mesh3d"
           }
          ],
          "parcoords": [
           {
            "line": {
             "colorbar": {
              "outlinewidth": 0,
              "ticks": ""
             }
            },
            "type": "parcoords"
           }
          ],
          "pie": [
           {
            "automargin": true,
            "type": "pie"
           }
          ],
          "scatter": [
           {
            "fillpattern": {
             "fillmode": "overlay",
             "size": 10,
             "solidity": 0.2
            },
            "type": "scatter"
           }
          ],
          "scatter3d": [
           {
            "line": {
             "colorbar": {
              "outlinewidth": 0,
              "ticks": ""
             }
            },
            "marker": {
             "colorbar": {
              "outlinewidth": 0,
              "ticks": ""
             }
            },
            "type": "scatter3d"
           }
          ],
          "scattercarpet": [
           {
            "marker": {
             "colorbar": {
              "outlinewidth": 0,
              "ticks": ""
             }
            },
            "type": "scattercarpet"
           }
          ],
          "scattergeo": [
           {
            "marker": {
             "colorbar": {
              "outlinewidth": 0,
              "ticks": ""
             }
            },
            "type": "scattergeo"
           }
          ],
          "scattergl": [
           {
            "marker": {
             "colorbar": {
              "outlinewidth": 0,
              "ticks": ""
             }
            },
            "type": "scattergl"
           }
          ],
          "scattermapbox": [
           {
            "marker": {
             "colorbar": {
              "outlinewidth": 0,
              "ticks": ""
             }
            },
            "type": "scattermapbox"
           }
          ],
          "scatterpolar": [
           {
            "marker": {
             "colorbar": {
              "outlinewidth": 0,
              "ticks": ""
             }
            },
            "type": "scatterpolar"
           }
          ],
          "scatterpolargl": [
           {
            "marker": {
             "colorbar": {
              "outlinewidth": 0,
              "ticks": ""
             }
            },
            "type": "scatterpolargl"
           }
          ],
          "scatterternary": [
           {
            "marker": {
             "colorbar": {
              "outlinewidth": 0,
              "ticks": ""
             }
            },
            "type": "scatterternary"
           }
          ],
          "surface": [
           {
            "colorbar": {
             "outlinewidth": 0,
             "ticks": ""
            },
            "colorscale": [
             [
              0,
              "#0d0887"
             ],
             [
              0.1111111111111111,
              "#46039f"
             ],
             [
              0.2222222222222222,
              "#7201a8"
             ],
             [
              0.3333333333333333,
              "#9c179e"
             ],
             [
              0.4444444444444444,
              "#bd3786"
             ],
             [
              0.5555555555555556,
              "#d8576b"
             ],
             [
              0.6666666666666666,
              "#ed7953"
             ],
             [
              0.7777777777777778,
              "#fb9f3a"
             ],
             [
              0.8888888888888888,
              "#fdca26"
             ],
             [
              1,
              "#f0f921"
             ]
            ],
            "type": "surface"
           }
          ],
          "table": [
           {
            "cells": {
             "fill": {
              "color": "#EBF0F8"
             },
             "line": {
              "color": "white"
             }
            },
            "header": {
             "fill": {
              "color": "#C8D4E3"
             },
             "line": {
              "color": "white"
             }
            },
            "type": "table"
           }
          ]
         },
         "layout": {
          "annotationdefaults": {
           "arrowcolor": "#2a3f5f",
           "arrowhead": 0,
           "arrowwidth": 1
          },
          "autotypenumbers": "strict",
          "coloraxis": {
           "colorbar": {
            "outlinewidth": 0,
            "ticks": ""
           }
          },
          "colorscale": {
           "diverging": [
            [
             0,
             "#8e0152"
            ],
            [
             0.1,
             "#c51b7d"
            ],
            [
             0.2,
             "#de77ae"
            ],
            [
             0.3,
             "#f1b6da"
            ],
            [
             0.4,
             "#fde0ef"
            ],
            [
             0.5,
             "#f7f7f7"
            ],
            [
             0.6,
             "#e6f5d0"
            ],
            [
             0.7,
             "#b8e186"
            ],
            [
             0.8,
             "#7fbc41"
            ],
            [
             0.9,
             "#4d9221"
            ],
            [
             1,
             "#276419"
            ]
           ],
           "sequential": [
            [
             0,
             "#0d0887"
            ],
            [
             0.1111111111111111,
             "#46039f"
            ],
            [
             0.2222222222222222,
             "#7201a8"
            ],
            [
             0.3333333333333333,
             "#9c179e"
            ],
            [
             0.4444444444444444,
             "#bd3786"
            ],
            [
             0.5555555555555556,
             "#d8576b"
            ],
            [
             0.6666666666666666,
             "#ed7953"
            ],
            [
             0.7777777777777778,
             "#fb9f3a"
            ],
            [
             0.8888888888888888,
             "#fdca26"
            ],
            [
             1,
             "#f0f921"
            ]
           ],
           "sequentialminus": [
            [
             0,
             "#0d0887"
            ],
            [
             0.1111111111111111,
             "#46039f"
            ],
            [
             0.2222222222222222,
             "#7201a8"
            ],
            [
             0.3333333333333333,
             "#9c179e"
            ],
            [
             0.4444444444444444,
             "#bd3786"
            ],
            [
             0.5555555555555556,
             "#d8576b"
            ],
            [
             0.6666666666666666,
             "#ed7953"
            ],
            [
             0.7777777777777778,
             "#fb9f3a"
            ],
            [
             0.8888888888888888,
             "#fdca26"
            ],
            [
             1,
             "#f0f921"
            ]
           ]
          },
          "colorway": [
           "#636efa",
           "#EF553B",
           "#00cc96",
           "#ab63fa",
           "#FFA15A",
           "#19d3f3",
           "#FF6692",
           "#B6E880",
           "#FF97FF",
           "#FECB52"
          ],
          "font": {
           "color": "#2a3f5f"
          },
          "geo": {
           "bgcolor": "white",
           "lakecolor": "white",
           "landcolor": "#E5ECF6",
           "showlakes": true,
           "showland": true,
           "subunitcolor": "white"
          },
          "hoverlabel": {
           "align": "left"
          },
          "hovermode": "closest",
          "mapbox": {
           "style": "light"
          },
          "paper_bgcolor": "white",
          "plot_bgcolor": "#E5ECF6",
          "polar": {
           "angularaxis": {
            "gridcolor": "white",
            "linecolor": "white",
            "ticks": ""
           },
           "bgcolor": "#E5ECF6",
           "radialaxis": {
            "gridcolor": "white",
            "linecolor": "white",
            "ticks": ""
           }
          },
          "scene": {
           "xaxis": {
            "backgroundcolor": "#E5ECF6",
            "gridcolor": "white",
            "gridwidth": 2,
            "linecolor": "white",
            "showbackground": true,
            "ticks": "",
            "zerolinecolor": "white"
           },
           "yaxis": {
            "backgroundcolor": "#E5ECF6",
            "gridcolor": "white",
            "gridwidth": 2,
            "linecolor": "white",
            "showbackground": true,
            "ticks": "",
            "zerolinecolor": "white"
           },
           "zaxis": {
            "backgroundcolor": "#E5ECF6",
            "gridcolor": "white",
            "gridwidth": 2,
            "linecolor": "white",
            "showbackground": true,
            "ticks": "",
            "zerolinecolor": "white"
           }
          },
          "shapedefaults": {
           "line": {
            "color": "#2a3f5f"
           }
          },
          "ternary": {
           "aaxis": {
            "gridcolor": "white",
            "linecolor": "white",
            "ticks": ""
           },
           "baxis": {
            "gridcolor": "white",
            "linecolor": "white",
            "ticks": ""
           },
           "bgcolor": "#E5ECF6",
           "caxis": {
            "gridcolor": "white",
            "linecolor": "white",
            "ticks": ""
           }
          },
          "title": {
           "x": 0.05
          },
          "xaxis": {
           "automargin": true,
           "gridcolor": "white",
           "linecolor": "white",
           "ticks": "",
           "title": {
            "standoff": 15
           },
           "zerolinecolor": "white",
           "zerolinewidth": 2
          },
          "yaxis": {
           "automargin": true,
           "gridcolor": "white",
           "linecolor": "white",
           "ticks": "",
           "title": {
            "standoff": 15
           },
           "zerolinecolor": "white",
           "zerolinewidth": 2
          }
         }
        },
        "xaxis": {
         "anchor": "y",
         "domain": [
          0,
          1
         ],
         "title": {
          "text": "x"
         }
        },
        "yaxis": {
         "anchor": "x",
         "domain": [
          0,
          1
         ],
         "title": {
          "text": "y"
         }
        }
       }
      }
     },
     "metadata": {},
     "output_type": "display_data"
    }
   ],
   "source": [
    "fig = px.scatter(\n",
    "    df_embeddings,\n",
    "    x=\"x\",\n",
    "    y=\"y\",\n",
    "    color=\"label\",\n",
    "    #labels={\"color\": \"label\"},\n",
    "    hover_data=[\"text\"],\n",
    "    #title=\"SurePath Data Augmentation Embedding Visualization\",\n",
    ")\n",
    "fig.show()"
   ]
  }
 ],
 "metadata": {
  "kernelspec": {
   "display_name": "yomap",
   "language": "python",
   "name": "python3"
  },
  "language_info": {
   "codemirror_mode": {
    "name": "ipython",
    "version": 3
   },
   "file_extension": ".py",
   "mimetype": "text/x-python",
   "name": "python",
   "nbconvert_exporter": "python",
   "pygments_lexer": "ipython3",
   "version": "3.10.0"
  }
 },
 "nbformat": 4,
 "nbformat_minor": 2
}
