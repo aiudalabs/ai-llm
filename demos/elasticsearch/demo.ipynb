{
 "cells": [
  {
   "cell_type": "markdown",
   "metadata": {},
   "source": [
    "**Table of contents**<a id='toc0_'></a>    \n",
    "- [Geo Queries](#toc1_)    \n",
    "- [Multimatch Queries](#toc2_)    \n",
    "\n",
    "<!-- vscode-jupyter-toc-config\n",
    "\tnumbering=false\n",
    "\tanchor=true\n",
    "\tflat=false\n",
    "\tminLevel=1\n",
    "\tmaxLevel=6\n",
    "\t/vscode-jupyter-toc-config -->\n",
    "<!-- THIS CELL WILL BE REPLACED ON TOC UPDATE. DO NOT WRITE YOUR TEXT IN THIS CELL -->"
   ]
  },
  {
   "cell_type": "markdown",
   "metadata": {},
   "source": []
  },
  {
   "cell_type": "code",
   "execution_count": 1,
   "metadata": {},
   "outputs": [],
   "source": [
    "from datetime import datetime\n",
    "from elasticsearch import Elasticsearch"
   ]
  },
  {
   "cell_type": "code",
   "execution_count": 2,
   "metadata": {},
   "outputs": [],
   "source": [
    "def pretty_response(response):\n",
    "    if len(response[\"hits\"][\"hits\"]) == 0:\n",
    "        print(\"Your search returned no results.\")\n",
    "    else:\n",
    "        for hit in response[\"hits\"][\"hits\"]:\n",
    "            id = hit[\"_id\"]\n",
    "            gender = hit[\"_source\"][\"gender\"]\n",
    "            score = hit[\"_score\"]\n",
    "            displayName = hit[\"_source\"][\"displayName\"]\n",
    "            about = hit[\"_source\"][\"about\"]\n",
    "            service = hit[\"_source\"][\"service\"][\"text\"]\n",
    "            avgRating = (\n",
    "                hit[\"_source\"][\"avgRating\"]\n",
    "                if \"avgRating\" in hit[\"_source\"].keys()\n",
    "                else 0\n",
    "            )\n",
    "            age = hit[\"_source\"][\"age\"]\n",
    "            pretty_output = f\"\\nID: {id}\\nProvider: {displayName}\\nGender: {gender}\\nAbout: {about}\\nService: {service}\\nRating: {avgRating}\\nAge: {age}\\nScore: {score}\"\n",
    "            print(pretty_output)"
   ]
  },
  {
   "cell_type": "code",
   "execution_count": 3,
   "metadata": {},
   "outputs": [],
   "source": [
    "# @6e9qxFPQD?@dYPk, SYjAskK7X@?Pie4\n",
    "\n",
    "client = Elasticsearch(\n",
    "    hosts=[\"https://yomap-elastic-dev.fly.dev\"],\n",
    "    basic_auth=(\"yomapsearch\", \"@6e9qxFPQD?@dYPk\"),\n",
    ")"
   ]
  },
  {
   "cell_type": "code",
   "execution_count": 4,
   "metadata": {},
   "outputs": [],
   "source": [
    "resp = client.search(index=\"profiles\", query={\"match_all\": {}})"
   ]
  },
  {
   "cell_type": "code",
   "execution_count": 5,
   "metadata": {},
   "outputs": [
    {
     "data": {
      "text/plain": [
       "10"
      ]
     },
     "execution_count": 5,
     "metadata": {},
     "output_type": "execute_result"
    }
   ],
   "source": [
    "len(resp[\"hits\"][\"hits\"])"
   ]
  },
  {
   "cell_type": "code",
   "execution_count": 6,
   "metadata": {},
   "outputs": [
    {
     "name": "stdout",
     "output_type": "stream",
     "text": [
      "{'gender': '', 'displayName': 'Laissa', 'about': 'Soy Laissa, una apasionada del transporte y la movilidad. Mi interés por el sector automotriz y mi experiencia como conductora de Uber y motociclista me han brindado una comprensión profunda de las necesidades y desafíos de la industria del transporte. Estoy ansiosa por compartir mis conocimientos y conectar con profesionales de ideas afines en este espacio en constante evolución.', 'photo': 'Files/Users/HHJMAWJTi3SpXUH9ZzBcITXJsjE2/file_1707589877576-628091_file_example_JPG_500kB.jpeg', 'blockedProfiles': [], 'userId': 'HHJMAWJTi3SpXUH9ZzBcITXJsjE2', 'network': [], 'tags': [{'weight': 0, 'id': 'RVqoavsXHaFSepN4ZkNX', 'text': 'transport', 'parentId': '', 'usedBy': 2, 'slug': 'transport', 'parentSlug': ''}, {'weight': 0, 'id': '9pYJdcjbrhiaWODpYN5Q', 'text': 'uber', 'parentId': 'RVqoavsXHaFSepN4ZkNX', 'usedBy': 2, 'slug': 'uber', 'parentSlug': 'transport'}, {'weight': 0, 'id': '5xrlfFLhKrYJk6uWpEU5', 'text': 'moto', 'parentId': 'RVqoavsXHaFSepN4ZkNX', 'usedBy': 2, 'slug': 'moto', 'parentSlug': 'transport'}], 'totalReviews': 2, 'service': {'weight': 0, 'id': 'RVqoavsXHaFSepN4ZkNX', 'text': 'transport', 'parentId': '', 'usedBy': 2, 'slug': 'transport', 'parentSlug': ''}, 'socialNetworks': [], 'age': '', 'address': 'Panamá, , Panamá, Panama', 'avgRating': 5, 'location': {'lat': 8.9767517, 'lon': -79.5326233}, 'realTimeLocEnabled': False, 'profileId': 'v34DujEeoB8wx4zysUQr'}\n"
     ]
    }
   ],
   "source": [
    "resp = client.search(\n",
    "    index=\"profiles\",\n",
    "    query={\"match\": {\"displayName\": \"Laissa\"}},\n",
    ")\n",
    "\n",
    "for profile in resp[\"hits\"][\"hits\"]:\n",
    "    print(profile[\"_source\"])"
   ]
  },
  {
   "cell_type": "code",
   "execution_count": 7,
   "metadata": {},
   "outputs": [
    {
     "name": "stdout",
     "output_type": "stream",
     "text": [
      "Carolina\n",
      "YoMap LG\n",
      "manpreet\n",
      "Angela \n",
      "Emulator 66980917\n",
      "Laissa\n"
     ]
    }
   ],
   "source": [
    "resp = client.search(\n",
    "    index=\"profiles\",\n",
    "    query={\"match\": {\"tags.text\": \"depilacion\" + \" spa\" + \" taxi\" + \" transport\"}},\n",
    ")\n",
    "\n",
    "for profile in resp[\"hits\"][\"hits\"]:\n",
    "    print(profile[\"_source\"][\"displayName\"])"
   ]
  },
  {
   "cell_type": "code",
   "execution_count": null,
   "metadata": {},
   "outputs": [],
   "source": []
  },
  {
   "cell_type": "code",
   "execution_count": 8,
   "metadata": {},
   "outputs": [
    {
     "name": "stdout",
     "output_type": "stream",
     "text": [
      "Costura Ana Mer bis\n"
     ]
    }
   ],
   "source": [
    "resp = client.search(\n",
    "    index=\"profiles\",\n",
    "    query={\"match\": {\"tags.text\": \"costurera\"}},\n",
    ")\n",
    "\n",
    "for profile in resp[\"hits\"][\"hits\"]:\n",
    "    print(profile[\"_source\"][\"displayName\"])"
   ]
  },
  {
   "cell_type": "code",
   "execution_count": null,
   "metadata": {},
   "outputs": [],
   "source": []
  },
  {
   "cell_type": "markdown",
   "metadata": {},
   "source": [
    "# <a id='toc1_'></a>[Geo Queries](#toc0_)"
   ]
  },
  {
   "cell_type": "code",
   "execution_count": 21,
   "metadata": {},
   "outputs": [
    {
     "name": "stdout",
     "output_type": "stream",
     "text": [
      "Angela \n",
      "Emulator 66980917\n",
      "Carolina\n",
      "Laissa\n",
      "YoMap LG\n"
     ]
    }
   ],
   "source": [
    "resp = client.search(\n",
    "    index=\"profiles\",\n",
    "    query={\n",
    "        \"bool\": {\n",
    "            \"must\": {\"match\": {\"tags.text\": \"transport \" + \" spa\"}},\n",
    "            \"filter\": {\n",
    "                \"geo_distance\": {\n",
    "                    \"distance\": \"10km\",\n",
    "                    \"location\": {\"lat\": 8.9842224, \"lon\": -79.5041315},\n",
    "                }\n",
    "            },\n",
    "        },\n",
    "    },\n",
    ")\n",
    "\n",
    "for profile in resp[\"hits\"][\"hits\"]:\n",
    "    print(profile[\"_source\"][\"displayName\"])"
   ]
  },
  {
   "cell_type": "code",
   "execution_count": 42,
   "metadata": {},
   "outputs": [
    {
     "data": {
      "text/plain": [
       "ObjectApiResponse({'took': 1, 'timed_out': False, '_shards': {'total': 1, 'successful': 1, 'skipped': 0, 'failed': 0}, 'hits': {'total': {'value': 0, 'relation': 'eq'}, 'max_score': None, 'hits': []}})"
      ]
     },
     "execution_count": 42,
     "metadata": {},
     "output_type": "execute_result"
    }
   ],
   "source": [
    "resp"
   ]
  },
  {
   "cell_type": "markdown",
   "metadata": {},
   "source": [
    "# <a id='toc2_'></a>[Multimatch Queries](#toc0_)"
   ]
  },
  {
   "cell_type": "code",
   "execution_count": 30,
   "metadata": {},
   "outputs": [
    {
     "name": "stdout",
     "output_type": "stream",
     "text": [
      "YoMap Soporte stage\n",
      "YoMap Assistant\n"
     ]
    }
   ],
   "source": [
    "resp = client.search(\n",
    "    index=\"profiles\",\n",
    "    query={\"multi_match\": {\"query\": \"assistant\", \"fields\": [\"tags.text\", \"about\"]}},\n",
    ")\n",
    "\n",
    "for profile in resp[\"hits\"][\"hits\"]:\n",
    "    print(profile[\"_source\"][\"displayName\"])"
   ]
  },
  {
   "cell_type": "code",
   "execution_count": 9,
   "metadata": {},
   "outputs": [
    {
     "name": "stdout",
     "output_type": "stream",
     "text": [
      "\n",
      "ID: v34DujEeoB8wx4zysUQr\n",
      "Provider: Laissa\n",
      "Gender: \n",
      "About: Soy Laissa, una apasionada del transporte y la movilidad. Mi interés por el sector automotriz y mi experiencia como conductora de Uber y motociclista me han brindado una comprensión profunda de las necesidades y desafíos de la industria del transporte. Estoy ansiosa por compartir mis conocimientos y conectar con profesionales de ideas afines en este espacio en constante evolución.\n",
      "Service: transport\n",
      "Rating: 5\n",
      "Age: \n",
      "Score: 2.8937988\n",
      "\n",
      "ID: ZXeLeERP2v9n3HEMCL6c\n",
      "Provider: YoMap LG\n",
      "Gender: female\n",
      "About: Servicio de Taxi 24h\n",
      "Area Bancaria\n",
      "Service: transport\n",
      "Rating: 3.86\n",
      "Age: 35\n",
      "Score: 1.9689646\n"
     ]
    }
   ],
   "source": [
    "resp = client.search(\n",
    "    index=\"profiles\",\n",
    "    query={\n",
    "        \"bool\": {\n",
    "            \"must\": {\n",
    "                \"multi_match\": {\"query\": \"uber\", \"fields\": [\"tags.text\", \"about\"]}\n",
    "            },\n",
    "            \"filter\": {\n",
    "                \"geo_distance\": {\n",
    "                    \"distance\": \"100km\",\n",
    "                    \"location\": {\"lat\": 8.9842224, \"lon\": -79.5041315},\n",
    "                }\n",
    "            },\n",
    "        },\n",
    "    },\n",
    ")\n",
    "\n",
    "# for profile in resp[\"hits\"][\"hits\"]:\n",
    "#    print(profile[\"_source\"][\"displayName\"])\n",
    "\n",
    "pretty_response(resp)"
   ]
  },
  {
   "cell_type": "markdown",
   "metadata": {},
   "source": [
    "# Fuzzy Queries"
   ]
  },
  {
   "cell_type": "code",
   "execution_count": 38,
   "metadata": {},
   "outputs": [
    {
     "name": "stdout",
     "output_type": "stream",
     "text": [
      "\n",
      "ID: oH6kfEwBhELwINiidDwJ\n",
      "Provider: Noel 2\n",
      "Gender: male\n",
      "About: \n",
      "Service: food\n",
      "Rating: 4.5\n",
      "Age: 44\n",
      "Score: 2.3627913\n",
      "\n",
      "ID: FCKoeLnfSy09VFRZuYbn\n",
      "Provider: Noel Xiaomi\n",
      "Gender: male\n",
      "About: Soy Noel Xiaomi, tengo 44 años y soy un apasionado de la tecnología, especialmente de la reparación de smartphones y computadoras. Mi experiencia y conocimientos en estas áreas me permiten ofrecer soluciones eficientes y de alta calidad. Estoy comprometido a brindar un servicio profesional y amigable, garantizando la satisfacción de mis clientes.\n",
      "Service: repair\n",
      "Rating: 4.5\n",
      "Age: 44\n",
      "Score: 2.3627913\n",
      "\n",
      "ID: CoZt1VKl9q7tKi88DciX\n",
      "Provider: YoMap Assistant\n",
      "Gender: other\n",
      "About: Hola soy YoMap el asistente virtual de la aplicación. Estoy aquí para ayudarte a encontrar los proveedores de servicios que resuelvan tus problemas.\n",
      "Service: misc\n",
      "Rating: 0\n",
      "Age: 40\n",
      "Score: 1.5290695\n"
     ]
    }
   ],
   "source": [
    "resp = client.search(\n",
    "    index=\"profiles\",\n",
    "    query={\n",
    "        \"bool\": {\n",
    "            \"must\": {\n",
    "                \"multi_match\": {\n",
    "                    \"query\": \"Nole\",\n",
    "                    \"fields\": [\"tags.text\", \"tags.slug\", \"about\", \"displayName\"],\n",
    "                    \"fuzziness\": \"AUTO\",\n",
    "                }\n",
    "            },\n",
    "            \"filter\": {\n",
    "                \"geo_distance\": {\n",
    "                    \"distance\": \"5km\",\n",
    "                    \"location\": {\"lat\": 8.9842224, \"lon\": -79.5041315},\n",
    "                }\n",
    "            },\n",
    "        },\n",
    "    },\n",
    ")\n",
    "\n",
    "pretty_response(resp)"
   ]
  },
  {
   "cell_type": "code",
   "execution_count": null,
   "metadata": {},
   "outputs": [],
   "source": []
  }
 ],
 "metadata": {
  "kernelspec": {
   "display_name": "Python 3",
   "language": "python",
   "name": "python3"
  },
  "language_info": {
   "codemirror_mode": {
    "name": "ipython",
    "version": 3
   },
   "file_extension": ".py",
   "mimetype": "text/x-python",
   "name": "python",
   "nbconvert_exporter": "python",
   "pygments_lexer": "ipython3",
   "version": "3.11.9"
  }
 },
 "nbformat": 4,
 "nbformat_minor": 2
}
