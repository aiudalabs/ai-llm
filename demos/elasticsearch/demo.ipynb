{
 "cells": [
  {
   "cell_type": "markdown",
   "metadata": {},
   "source": [
    "**Table of contents**<a id='toc0_'></a>    \n",
    "- [Geo Queries](#toc1_)    \n",
    "- [Multimatch Queries](#toc2_)    \n",
    "\n",
    "<!-- vscode-jupyter-toc-config\n",
    "\tnumbering=false\n",
    "\tanchor=true\n",
    "\tflat=false\n",
    "\tminLevel=1\n",
    "\tmaxLevel=6\n",
    "\t/vscode-jupyter-toc-config -->\n",
    "<!-- THIS CELL WILL BE REPLACED ON TOC UPDATE. DO NOT WRITE YOUR TEXT IN THIS CELL -->"
   ]
  },
  {
   "cell_type": "markdown",
   "metadata": {},
   "source": []
  },
  {
   "cell_type": "code",
   "execution_count": 2,
   "metadata": {},
   "outputs": [
    {
     "name": "stdout",
     "output_type": "stream",
     "text": [
      "Collecting elasticsearch\n",
      "  Downloading elasticsearch-8.17.0-py3-none-any.whl.metadata (8.8 kB)\n",
      "Collecting elastic-transport<9,>=8.15.1 (from elasticsearch)\n",
      "  Downloading elastic_transport-8.15.1-py3-none-any.whl.metadata (3.7 kB)\n",
      "Requirement already satisfied: urllib3<3,>=1.26.2 in /Users/nmlemus/miniforge3/envs/yomap/lib/python3.10/site-packages (from elastic-transport<9,>=8.15.1->elasticsearch) (2.3.0)\n",
      "Requirement already satisfied: certifi in /Users/nmlemus/miniforge3/envs/yomap/lib/python3.10/site-packages (from elastic-transport<9,>=8.15.1->elasticsearch) (2024.12.14)\n",
      "Downloading elasticsearch-8.17.0-py3-none-any.whl (571 kB)\n",
      "\u001b[2K   \u001b[38;2;114;156;31m━━━━━━━━━━━━━━━━━━━━━━━━━━━━━━━━━━━━━━━━\u001b[0m \u001b[32m571.2/571.2 kB\u001b[0m \u001b[31m3.7 MB/s\u001b[0m eta \u001b[36m0:00:00\u001b[0m0m eta \u001b[36m-:--:--\u001b[0m\n",
      "\u001b[?25hDownloading elastic_transport-8.15.1-py3-none-any.whl (64 kB)\n",
      "Installing collected packages: elastic-transport, elasticsearch\n",
      "Successfully installed elastic-transport-8.15.1 elasticsearch-8.17.0\n"
     ]
    }
   ],
   "source": [
    "!pip install elasticsearch"
   ]
  },
  {
   "cell_type": "code",
   "execution_count": 1,
   "metadata": {},
   "outputs": [],
   "source": [
    "from datetime import datetime\n",
    "from elasticsearch import Elasticsearch"
   ]
  },
  {
   "cell_type": "code",
   "execution_count": 2,
   "metadata": {},
   "outputs": [],
   "source": [
    "def pretty_response(response):\n",
    "    if len(response[\"hits\"][\"hits\"]) == 0:\n",
    "        print(\"Your search returned no results.\")\n",
    "    else:\n",
    "        for hit in response[\"hits\"][\"hits\"]:\n",
    "            id = hit[\"_id\"]\n",
    "            gender = hit[\"_source\"][\"gender\"]\n",
    "            score = hit[\"_score\"]\n",
    "            displayName = hit[\"_source\"][\"displayName\"]\n",
    "            about = hit[\"_source\"][\"about\"]\n",
    "            service = hit[\"_source\"][\"service\"][\"text\"]\n",
    "            avgRating = (\n",
    "                hit[\"_source\"][\"avgRating\"]\n",
    "                if \"avgRating\" in hit[\"_source\"].keys()\n",
    "                else 0\n",
    "            )\n",
    "            age = hit[\"_source\"][\"age\"]\n",
    "            pretty_output = f\"\\nID: {id}\\nProvider: {displayName}\\nGender: {gender}\\nAbout: {about}\\nService: {service}\\nRating: {avgRating}\\nAge: {age}\\nScore: {score}\"\n",
    "            print(pretty_output)"
   ]
  },
  {
   "cell_type": "code",
   "execution_count": 3,
   "metadata": {},
   "outputs": [],
   "source": [
    "# @6e9qxFPQD?@dYPk, SYjAskK7X@?Pie4\n",
    "\n",
    "client = Elasticsearch(\n",
    "    hosts=[\"https://yomap-elastic-dev.fly.dev\"],\n",
    "    basic_auth=(\"yomapsearch\", \"@6e9qxFPQD?@dYPk\"),\n",
    ")"
   ]
  },
  {
   "cell_type": "code",
   "execution_count": 4,
   "metadata": {},
   "outputs": [],
   "source": [
    "resp = client.search(index=\"profiles\", query={\"match_all\": {}})"
   ]
  },
  {
   "cell_type": "code",
   "execution_count": 5,
   "metadata": {},
   "outputs": [
    {
     "data": {
      "text/plain": [
       "10"
      ]
     },
     "execution_count": 5,
     "metadata": {},
     "output_type": "execute_result"
    }
   ],
   "source": [
    "len(resp[\"hits\"][\"hits\"])"
   ]
  },
  {
   "cell_type": "code",
   "execution_count": 6,
   "metadata": {},
   "outputs": [
    {
     "name": "stdout",
     "output_type": "stream",
     "text": [
      "{'gender': '', 'displayName': 'Laissa', 'about': 'Soy Laissa, una apasionada del transporte y la movilidad. Mi interés por el sector automotriz y mi experiencia como conductora de Uber y motociclista me han brindado una comprensión profunda de las necesidades y desafíos de la industria del transporte. Estoy ansiosa por compartir mis conocimientos y conectar con profesionales de ideas afines en este espacio en constante evolución.', 'photo': 'Files/Users/HHJMAWJTi3SpXUH9ZzBcITXJsjE2/file_1707589877576-628091_file_example_JPG_500kB.jpeg', 'blockedProfiles': [], 'userId': 'HHJMAWJTi3SpXUH9ZzBcITXJsjE2', 'network': [], 'tags': [{'weight': 0, 'id': 'RVqoavsXHaFSepN4ZkNX', 'text': 'transport', 'parentId': '', 'usedBy': 2, 'slug': 'transport', 'parentSlug': ''}, {'weight': 0, 'id': '9pYJdcjbrhiaWODpYN5Q', 'text': 'uber', 'parentId': 'RVqoavsXHaFSepN4ZkNX', 'usedBy': 2, 'slug': 'uber', 'parentSlug': 'transport'}, {'weight': 0, 'id': '5xrlfFLhKrYJk6uWpEU5', 'text': 'moto', 'parentId': 'RVqoavsXHaFSepN4ZkNX', 'usedBy': 2, 'slug': 'moto', 'parentSlug': 'transport'}], 'totalReviews': 2, 'service': {'weight': 0, 'id': 'RVqoavsXHaFSepN4ZkNX', 'text': 'transport', 'parentId': '', 'usedBy': 2, 'slug': 'transport', 'parentSlug': ''}, 'socialNetworks': [], 'age': '', 'address': 'Panamá, , Panamá, Panama', 'avgRating': 5, 'location': {'lat': 8.9767517, 'lon': -79.5326233}, 'realTimeLocEnabled': False, 'profileId': 'v34DujEeoB8wx4zysUQr', 'externalLinks': [{'id': '1737696050960-38959116', 'title': 'Instagram', 'url': 'https://instagram.com/laissa'}]}\n"
     ]
    }
   ],
   "source": [
    "resp = client.search(\n",
    "    index=\"profiles\",\n",
    "    query={\"match\": {\"displayName\": \"Laissa\"}},\n",
    ")\n",
    "\n",
    "for profile in resp[\"hits\"][\"hits\"]:\n",
    "    print(profile[\"_source\"])"
   ]
  },
  {
   "cell_type": "code",
   "execution_count": 9,
   "metadata": {},
   "outputs": [
    {
     "name": "stdout",
     "output_type": "stream",
     "text": [
      "YoMap LG\n",
      "manpreet\n",
      "Laissa\n",
      "Angela \n",
      "Emulator 66980917\n",
      "YM Soporte stage\n"
     ]
    }
   ],
   "source": [
    "resp = client.search(\n",
    "    index=\"profiles\",\n",
    "    query={\"match\": {\"tags.text\": \"depilacion\" + \" spa\" + \" taxi\" + \" transport\"}},\n",
    ")\n",
    "\n",
    "for profile in resp[\"hits\"][\"hits\"]:\n",
    "    print(profile[\"_source\"][\"displayName\"])"
   ]
  },
  {
   "cell_type": "code",
   "execution_count": null,
   "metadata": {},
   "outputs": [],
   "source": []
  },
  {
   "cell_type": "code",
   "execution_count": 10,
   "metadata": {},
   "outputs": [
    {
     "name": "stdout",
     "output_type": "stream",
     "text": [
      "Costura Ana Mer bis\n"
     ]
    }
   ],
   "source": [
    "resp = client.search(\n",
    "    index=\"profiles\",\n",
    "    query={\"match\": {\"tags.text\": \"costurera\"}},\n",
    ")\n",
    "\n",
    "for profile in resp[\"hits\"][\"hits\"]:\n",
    "    print(profile[\"_source\"][\"displayName\"])"
   ]
  },
  {
   "cell_type": "code",
   "execution_count": null,
   "metadata": {},
   "outputs": [],
   "source": []
  },
  {
   "cell_type": "markdown",
   "metadata": {},
   "source": [
    "# <a id='toc1_'></a>[Geo Queries](#toc0_)"
   ]
  },
  {
   "cell_type": "code",
   "execution_count": 11,
   "metadata": {},
   "outputs": [
    {
     "name": "stdout",
     "output_type": "stream",
     "text": [
      "Laissa\n",
      "Angela \n",
      "Emulator 66980917\n",
      "YM Soporte stage\n",
      "YoMap LG\n"
     ]
    }
   ],
   "source": [
    "resp = client.search(\n",
    "    index=\"profiles\",\n",
    "    query={\n",
    "        \"bool\": {\n",
    "            \"must\": {\"match\": {\"tags.text\": \"transport \" + \" spa\"}},\n",
    "            \"filter\": {\n",
    "                \"geo_distance\": {\n",
    "                    \"distance\": \"10km\",\n",
    "                    \"location\": {\"lat\": 8.9842224, \"lon\": -79.5041315},\n",
    "                }\n",
    "            },\n",
    "        },\n",
    "    },\n",
    ")\n",
    "\n",
    "for profile in resp[\"hits\"][\"hits\"]:\n",
    "    print(profile[\"_source\"][\"displayName\"])"
   ]
  },
  {
   "cell_type": "code",
   "execution_count": 12,
   "metadata": {},
   "outputs": [
    {
     "data": {
      "text/plain": [
       "ObjectApiResponse({'took': 1, 'timed_out': False, '_shards': {'total': 1, 'successful': 1, 'skipped': 0, 'failed': 0}, 'hits': {'total': {'value': 5, 'relation': 'eq'}, 'max_score': 2.6533737, 'hits': [{'_index': 'profiles', '_id': 'v34DujEeoB8wx4zysUQr', '_score': 2.6533737, '_source': {'gender': '', 'displayName': 'Laissa', 'about': 'Soy Laissa, una apasionada del transporte y la movilidad. Mi interés por el sector automotriz y mi experiencia como conductora de Uber y motociclista me han brindado una comprensión profunda de las necesidades y desafíos de la industria del transporte. Estoy ansiosa por compartir mis conocimientos y conectar con profesionales de ideas afines en este espacio en constante evolución.', 'photo': 'Files/Users/HHJMAWJTi3SpXUH9ZzBcITXJsjE2/file_1707589877576-628091_file_example_JPG_500kB.jpeg', 'blockedProfiles': [], 'userId': 'HHJMAWJTi3SpXUH9ZzBcITXJsjE2', 'network': [], 'tags': [{'weight': 0, 'id': 'RVqoavsXHaFSepN4ZkNX', 'text': 'transport', 'parentId': '', 'usedBy': 2, 'slug': 'transport', 'parentSlug': ''}, {'weight': 0, 'id': '9pYJdcjbrhiaWODpYN5Q', 'text': 'uber', 'parentId': 'RVqoavsXHaFSepN4ZkNX', 'usedBy': 2, 'slug': 'uber', 'parentSlug': 'transport'}, {'weight': 0, 'id': '5xrlfFLhKrYJk6uWpEU5', 'text': 'moto', 'parentId': 'RVqoavsXHaFSepN4ZkNX', 'usedBy': 2, 'slug': 'moto', 'parentSlug': 'transport'}], 'totalReviews': 2, 'service': {'weight': 0, 'id': 'RVqoavsXHaFSepN4ZkNX', 'text': 'transport', 'parentId': '', 'usedBy': 2, 'slug': 'transport', 'parentSlug': ''}, 'socialNetworks': [], 'age': '', 'address': 'Panamá, , Panamá, Panama', 'avgRating': 5, 'location': {'lat': 8.9767517, 'lon': -79.5326233}, 'realTimeLocEnabled': False, 'profileId': 'v34DujEeoB8wx4zysUQr'}}, {'_index': 'profiles', '_id': 'sfwsoRTlkNyaelNlktBa', '_score': 2.5485027, '_source': {'address': 'Panamá, El Mare Bethania, Panamá, Provincia de Panamá, Panamá', 'gender': 'female', 'displayName': 'Angela ', 'rating': 0, 'about': '', 'photo': '', 'blockedProfiles': [], 'userId': 'MGJ1qU6YOPVbJg92GhakXoXhx5J3', 'totalRatingVotes': 0, 'network': [], 'tags': [{'weight': 0, 'id': 'jNDxsch7qIDIubx39R1K', 'text': 'spa', 'parentId': '', 'usedBy': 2, 'slug': 'spa', 'parentSlug': ''}, {'weight': 0, 'text': 'masajes', 'id': 'wspM72m25FaukjUxr5n5', 'parentId': 'jNDxsch7qIDIubx39R1K', 'usedBy': 0, 'slug': 'masajes', 'parentSlug': 'spa'}], 'service': {'weight': 0, 'id': 'jNDxsch7qIDIubx39R1K', 'text': 'spa', 'parentId': '', 'usedBy': 2, 'slug': 'spa', 'parentSlug': ''}, 'commentsCount': 0, 'socialNetworks': [], 'location': {'lat': 8.9946661, 'lon': -79.5328797}, 'age': 33, 'realTimeLocEnabled': False, 'totalReviews': 2, 'avgRating': 4.5, 'profileId': 'sfwsoRTlkNyaelNlktBa'}}, {'_index': 'profiles', '_id': 'xGilUU4gHHdww4v3UWC7', '_score': 2.5485027, '_source': {'address': '132, Calle C, San Miguelito, Provincia de Panamá, Panama', 'gender': 'female', 'displayName': 'Emulator 66980917', 'rating': 0, 'about': '', 'photo': '', 'blockedProfiles': [], 'userId': 'ogey2VejTNQ4q3HnIeQ5p5veipo1', 'totalRatingVotes': 0, 'network': [], 'tags': [{'weight': 0, 'id': 'jNDxsch7qIDIubx39R1K', 'text': 'spa', 'parentId': '', 'usedBy': 1, 'slug': 'spa', 'parentSlug': ''}, {'weight': 0, 'text': 'manos_y_pies', 'id': 'NjIAAjPlxDpQFsTTlHvp', 'parentId': 'jNDxsch7qIDIubx39R1K', 'usedBy': 0, 'slug': 'manos_y_pies', 'parentSlug': 'spa'}], 'service': {'weight': 0, 'id': 'jNDxsch7qIDIubx39R1K', 'text': 'spa', 'parentId': '', 'usedBy': 1, 'slug': 'spa', 'parentSlug': ''}, 'commentsCount': 0, 'socialNetworks': [], 'location': {'lat': 9.03795683773441, 'lon': -79.5009471103549}, 'age': 32, 'realTimeLocEnabled': False, 'profileId': 'xGilUU4gHHdww4v3UWC7', 'totalReviews': 2, 'avgRating': 4.5}}, {'_index': 'profiles', '_id': 'bbQdxLrAjZ6D0hSZAEpR', '_score': 2.1263578, '_source': {'gender': 'other', 'displayName': 'YM Soporte stage', 'about': 'With a strong commitment to providing exceptional customer service and a wealth of knowledge, YoMap is confident in their ability to assist with a wide range of tasks and projects.', 'photo': 'Files/Users/MHVYdqsQwLPG6VxmNc3a3pWOqw82/file_1721168329998-525654_IMG-20240418-WA0002.jpg', 'blockedProfiles': [], 'userId': 'MHVYdqsQwLPG6VxmNc3a3pWOqw82', 'network': [], 'tags': [{'weight': 0, 'id': 'jNDxsch7qIDIubx39R1K', 'text': 'spa', 'text_es': 'spa', 'parentId': '', 'slug': 'spa', 'usedBy': 3, 'parentSlug': ''}, {'weight': 0, 'id': 'NjIAAjPlxDpQFsTTlHvp', 'text': 'manos_y_pies', 'parentId': 'jNDxsch7qIDIubx39R1K', 'slug': 'manos_y_pies', 'usedBy': 1, 'parentSlug': 'spa'}, {'weight': 0, 'id': 'wspM72m25FaukjUxr5n5', 'text': 'masajes', 'parentId': 'jNDxsch7qIDIubx39R1K', 'slug': 'masajes', 'usedBy': 1, 'parentSlug': 'spa'}], 'service': {'weight': 0, 'id': 'jNDxsch7qIDIubx39R1K', 'text': 'spa', 'parentId': '', 'usedBy': 3, 'slug': 'spa', 'parentSlug': ''}, 'socialNetworks': [{'name': 'Instagram', 'url': 'https://www.instagram.com/reel/Cy3U6PZu2kD/'}, {'name': 'Facebook', 'url': 'https://m.facebook.com/Totaltaxipanama'}, {'name': 'Tiktok', 'url': 'https://www.tiktok.com/tag/panama?lang=es'}], 'age': '36', 'totalReviews': 6, 'avgRating': 4.33, 'location': {'lat': 8.989592199999999, 'lon': -79.504975}, 'address': '80, Rue de Vaugirard, Paris, Île-de-France, France', 'realTimeLocEnabled': False, 'profileId': 'bbQdxLrAjZ6D0hSZAEpR', 'locationId': 'ChIJUwvA4gWprI8RZAqMgIdZpkM'}}, {'_index': 'profiles', '_id': 'ZXeLeERP2v9n3HEMCL6c', '_score': 1.772541, '_source': {'address': 'Calle Punta Chiriquí, Calle Punta Chiriquí, Panamá, Provincia de Panamá, Panama', 'gender': 'female', 'realTimeLocEnabled': False, 'displayName': 'YoMap LG', 'about': 'Servicio de Taxi 24h\\nArea Bancaria', 'photo': 'Files/Users/AhURXaJBEEgj3dWVx3Wzv29YqXC3/file_1703267134570-73056_1703267134500.jpg', 'blockedProfiles': [], 'userId': 'AhURXaJBEEgj3dWVx3Wzv29YqXC3', 'tags': [{'weight': 0, 'id': 'RVqoavsXHaFSepN4ZkNX', 'text': 'transport', 'parentId': '', 'usedBy': 2, 'slug': 'transport', 'parentSlug': ''}, {'weight': 0, 'id': 'NwoEuxAwesktwyH6qGVw', 'text': 'indriver', 'parentId': 'RVqoavsXHaFSepN4ZkNX', 'usedBy': 2, 'slug': 'indriver', 'parentSlug': 'transport'}, {'weight': 0, 'id': '5xrlfFLhKrYJk6uWpEU5', 'text': 'moto', 'parentId': 'RVqoavsXHaFSepN4ZkNX', 'usedBy': 1, 'slug': 'moto', 'parentSlug': 'transport'}, {'weight': 0, 'id': '9pYJdcjbrhiaWODpYN5Q', 'text': 'uber', 'parentId': 'RVqoavsXHaFSepN4ZkNX', 'usedBy': 1, 'slug': 'uber', 'parentSlug': 'transport'}, {'weight': 5, 'id': 'aTNWlPQ63kT3iBcRCGpp', 'text': 'taxi', 'parentId': 'RVqoavsXHaFSepN4ZkNX', 'usedBy': 1, 'slug': 'taxi', 'parentSlug': 'transport'}, {'weight': 5, 'id': 'hZr70zzB78OQMUHeKiVk', 'text': 'delivery', 'parentId': 'RVqoavsXHaFSepN4ZkNX', 'usedBy': 1, 'slug': 'delivery', 'parentSlug': 'transport'}], 'network': ['Ovd2vt9PPvNPSbNyshC0', 'otxFYYupPdJhJR2uLqOU', 'cKAFgrXiF6jkOJq7AbiL'], 'totalReviews': 7, 'service': {'weight': 0, 'id': 'RVqoavsXHaFSepN4ZkNX', 'text': 'transport', 'parentId': '', 'usedBy': 2, 'slug': 'transport', 'parentSlug': ''}, 'socialNetworks': [], 'location': {'lat': 8.975605, 'lon': -79.5066973}, 'avgRating': 3.86, 'age': '35', 'profileId': 'ZXeLeERP2v9n3HEMCL6c'}}]}})"
      ]
     },
     "execution_count": 12,
     "metadata": {},
     "output_type": "execute_result"
    }
   ],
   "source": [
    "resp"
   ]
  },
  {
   "cell_type": "markdown",
   "metadata": {},
   "source": [
    "# <a id='toc2_'></a>[Multimatch Queries](#toc0_)"
   ]
  },
  {
   "cell_type": "code",
   "execution_count": 13,
   "metadata": {},
   "outputs": [
    {
     "name": "stdout",
     "output_type": "stream",
     "text": [
      "YoMap Assistant\n",
      "YM Soporte stage\n"
     ]
    }
   ],
   "source": [
    "resp = client.search(\n",
    "    index=\"profiles\",\n",
    "    query={\"multi_match\": {\"query\": \"assistant\", \"fields\": [\"tags.text\", \"about\"]}},\n",
    ")\n",
    "\n",
    "for profile in resp[\"hits\"][\"hits\"]:\n",
    "    print(profile[\"_source\"][\"displayName\"])"
   ]
  },
  {
   "cell_type": "code",
   "execution_count": 14,
   "metadata": {},
   "outputs": [
    {
     "name": "stdout",
     "output_type": "stream",
     "text": [
      "\n",
      "ID: v34DujEeoB8wx4zysUQr\n",
      "Provider: Laissa\n",
      "Gender: \n",
      "About: Soy Laissa, una apasionada del transporte y la movilidad. Mi interés por el sector automotriz y mi experiencia como conductora de Uber y motociclista me han brindado una comprensión profunda de las necesidades y desafíos de la industria del transporte. Estoy ansiosa por compartir mis conocimientos y conectar con profesionales de ideas afines en este espacio en constante evolución.\n",
      "Service: transport\n",
      "Rating: 5\n",
      "Age: \n",
      "Score: 2.9398274\n",
      "\n",
      "ID: ZXeLeERP2v9n3HEMCL6c\n",
      "Provider: YoMap LG\n",
      "Gender: female\n",
      "About: Servicio de Taxi 24h\n",
      "Area Bancaria\n",
      "Service: transport\n",
      "Rating: 3.86\n",
      "Age: 35\n",
      "Score: 1.9639015\n"
     ]
    }
   ],
   "source": [
    "resp = client.search(\n",
    "    index=\"profiles\",\n",
    "    query={\n",
    "        \"bool\": {\n",
    "            \"must\": {\n",
    "                \"multi_match\": {\"query\": \"uber\", \"fields\": [\"tags.text\", \"about\"]}\n",
    "            },\n",
    "            \"filter\": {\n",
    "                \"geo_distance\": {\n",
    "                    \"distance\": \"100km\",\n",
    "                    \"location\": {\"lat\": 8.9842224, \"lon\": -79.5041315},\n",
    "                }\n",
    "            },\n",
    "        },\n",
    "    },\n",
    ")\n",
    "\n",
    "# for profile in resp[\"hits\"][\"hits\"]:\n",
    "#    print(profile[\"_source\"][\"displayName\"])\n",
    "\n",
    "pretty_response(resp)"
   ]
  },
  {
   "cell_type": "markdown",
   "metadata": {},
   "source": [
    "# Fuzzy Queries"
   ]
  },
  {
   "cell_type": "code",
   "execution_count": 17,
   "metadata": {},
   "outputs": [
    {
     "name": "stdout",
     "output_type": "stream",
     "text": [
      "\n",
      "ID: oH6kfEwBhELwINiidDwJ\n",
      "Provider: Noel 2\n",
      "Gender: male\n",
      "About: \n",
      "Service: food\n",
      "Rating: 4.5\n",
      "Age: 44\n",
      "Score: 2.2960446\n",
      "\n",
      "ID: FCKoeLnfSy09VFRZuYbn\n",
      "Provider: Noel Xiaomi\n",
      "Gender: male\n",
      "About: Noel Xiaomi, de 44 años, es un técnico experimentado en reparación de dispositivos electrónicos. Mi pasión por la tecnología, particularmente por los smartphones y las computadoras, me ha llevado a dominar habilidades de reparación expertas. Estoy comprometido a brindar soluciones efectivas y de alta calidad para restaurar los dispositivos a sus óptimas condiciones de funcionamiento.\n",
      "Service: repair\n",
      "Rating: 4.5\n",
      "Age: 44\n",
      "Score: 2.2960446\n",
      "\n",
      "ID: CoZt1VKl9q7tKi88DciX\n",
      "Provider: YoMap Assistant\n",
      "Gender: other\n",
      "About: Hola soy YoMap el asistente virtual de la aplicación. Estoy aquí para ayudarte a encontrar los proveedores de servicios que resuelvan tus problemas.\n",
      "Service: misc\n",
      "Rating: 0\n",
      "Age: 40\n",
      "Score: 1.3666141\n",
      "\n",
      "ID: ceqZenAYRFFNZgXrp2Ts\n",
      "Provider: Readet Ferche\n",
      "Gender: female\n",
      "About: ¡Hola! Soy Readet, una apasionada por los animales con 36 años. Me encanta cuidar de mascotas y pasear perros.  Si buscas un hogar cálido y seguro para tu peludo amigo, ¡contáctame!\n",
      "Service: pets\n",
      "Rating: 3\n",
      "Age: 36\n",
      "Score: 1.2158047\n"
     ]
    }
   ],
   "source": [
    "resp = client.search(\n",
    "    index=\"profiles\",\n",
    "    query={\n",
    "        \"bool\": {\n",
    "            \"must\": {\n",
    "                \"multi_match\": {\n",
    "                    \"query\": \"Nole\",\n",
    "                    \"fields\": [\"tags.text\", \"tags.slug\", \"about\", \"displayName\"],\n",
    "                    \"fuzziness\": \"AUTO\",\n",
    "                }\n",
    "            },\n",
    "            \"filter\": {\n",
    "                \"geo_distance\": {\n",
    "                    \"distance\": \"10km\",\n",
    "                    \"location\": {\"lat\": 8.9842224, \"lon\": -79.5041315},\n",
    "                }\n",
    "            },\n",
    "        },\n",
    "    },\n",
    ")\n",
    "\n",
    "pretty_response(resp)"
   ]
  },
  {
   "cell_type": "code",
   "execution_count": null,
   "metadata": {},
   "outputs": [],
   "source": []
  }
 ],
 "metadata": {
  "kernelspec": {
   "display_name": "yomap",
   "language": "python",
   "name": "python3"
  },
  "language_info": {
   "codemirror_mode": {
    "name": "ipython",
    "version": 3
   },
   "file_extension": ".py",
   "mimetype": "text/x-python",
   "name": "python",
   "nbconvert_exporter": "python",
   "pygments_lexer": "ipython3",
   "version": "3.10.0"
  }
 },
 "nbformat": 4,
 "nbformat_minor": 2
}
