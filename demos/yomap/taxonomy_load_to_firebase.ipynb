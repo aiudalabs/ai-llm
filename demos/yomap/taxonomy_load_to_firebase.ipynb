{
 "cells": [
  {
   "cell_type": "markdown",
   "metadata": {},
   "source": []
  },
  {
   "cell_type": "code",
   "execution_count": null,
   "metadata": {},
   "outputs": [],
   "source": []
  },
  {
   "cell_type": "code",
   "execution_count": 1,
   "metadata": {},
   "outputs": [],
   "source": [
    "import json\n",
    "import firebase_admin\n",
    "from firebase_admin import credentials, firestore\n",
    "\n",
    "# Inicializar Firebase\n",
    "cred = credentials.Certificate(\"goblob-95e2a-6add9b68fd5d.json\")\n",
    "firebase_admin.initialize_app(cred)\n",
    "db = firestore.client()\n",
    "\n",
    "# Cargar la taxonomía\n",
    "with open(\"/Users/nmlemus/projects/yomap/taxonomy/yomap_taxonomy_last_version.json\", \"r\", encoding=\"utf-8\") as f:\n",
    "    taxonomy = json.load(f)\n",
    "\n"
   ]
  },
  {
   "cell_type": "code",
   "execution_count": null,
   "metadata": {},
   "outputs": [],
   "source": [
    "# Subir a Firestore\n",
    "for cat in taxonomy:\n",
    "    # Crear documento para la categoría\n",
    "    cat_ref = db.collection(\"taxonomy\").document()\n",
    "    cat_data = {\n",
    "        \"name_en\": cat[\"name_en\"],\n",
    "        \"name_es\": cat[\"name_es\"]\n",
    "    }\n",
    "    cat_ref.set(cat_data)\n",
    "\n",
    "    # Subcolección: subcategories\n",
    "    for sub in cat[\"subcategories\"]:\n",
    "        sub_data = {\n",
    "            \"name_en\": sub[\"name_en\"],\n",
    "            \"name_es\": sub[\"name_es\"]\n",
    "        }\n",
    "        cat_ref.collection(\"subcategories\").add(sub_data)\n"
   ]
  },
  {
   "cell_type": "code",
   "execution_count": 2,
   "metadata": {},
   "outputs": [],
   "source": [
    "# Subir a una colección plana: service_subcategories\n",
    "for cat in taxonomy:\n",
    "    category_en = cat[\"name_en\"]\n",
    "    category_es = cat[\"name_es\"]\n",
    "    for sub in cat[\"subcategories\"]:\n",
    "        doc = {\n",
    "            \"name_en\": sub[\"name_en\"],\n",
    "            \"name_es\": sub[\"name_es\"],\n",
    "            \"category_en\": category_en,\n",
    "            \"category_es\": category_es\n",
    "        }\n",
    "        db.collection(\"taxonomy_2\").add(doc)"
   ]
  },
  {
   "cell_type": "markdown",
   "metadata": {},
   "source": [
    "# Este es el que use"
   ]
  },
  {
   "cell_type": "code",
   "execution_count": 2,
   "metadata": {},
   "outputs": [],
   "source": [
    "import re\n",
    "\n",
    "# ---------- FUNCIONES DE APOYO ----------\n",
    "def slugify(text):\n",
    "    return re.sub(r'\\s+', '_', text.strip().lower())\n",
    "\n",
    "def clean_slug(text):\n",
    "    text = text.lower()\n",
    "    text = re.sub(r'[^a-zA-Z0-9\\s]', '', text)  # Remove symbols\n",
    "    text = re.sub(r'\\s+', '_', text.strip())    # Replace spaces with underscores\n",
    "    return text\n",
    "\n",
    "# ---------- SUBE SUBCATEGORÍAS DESNORMALIZADAS ----------\n",
    "now = firestore.SERVER_TIMESTAMP  # Firebase genera el timestamp en el servidor\n",
    "\n",
    "for category in taxonomy:\n",
    "    parent_slug = clean_slug(category[\"name_en\"])\n",
    "\n",
    "    # Crear documento para la categoría\n",
    "    doc = {\n",
    "        \"dateCreated\": now,\n",
    "        \"dateUpdated\": now,\n",
    "        \"isService\": True,\n",
    "        \"isSystemCreated\": True,\n",
    "        \"parentId\": \"\",\n",
    "        \"parentSlug\": \"\",\n",
    "        \"slug\": parent_slug,\n",
    "        \"text\": parent_slug,\n",
    "        \"text_es\": clean_slug(category[\"name_es\"]),\n",
    "        \"usedBy\": 0,\n",
    "        \"weight\": 10\n",
    "    }\n",
    "    db.collection(\"taxonomy\").add(doc)\n",
    "\n",
    "    for sub in category[\"subcategories\"]:\n",
    "        sub_slug = clean_slug(sub[\"name_en\"])\n",
    "        doc = {\n",
    "            \"dateCreated\": now,\n",
    "            \"dateUpdated\": now,\n",
    "            \"isService\": True,\n",
    "            \"isSystemCreated\": True,\n",
    "            \"parentId\": \"\",\n",
    "            \"parentSlug\": parent_slug,\n",
    "            \"slug\": sub_slug,\n",
    "            \"text\": sub_slug,\n",
    "            \"text_es\": clean_slug(sub[\"name_es\"]),\n",
    "            \"usedBy\": 0,\n",
    "            \"weight\": 10\n",
    "        }\n",
    "\n",
    "        db.collection(\"taxonomy\").add(doc)"
   ]
  }
 ],
 "metadata": {
  "kernelspec": {
   "display_name": "yomap",
   "language": "python",
   "name": "python3"
  },
  "language_info": {
   "codemirror_mode": {
    "name": "ipython",
    "version": 3
   },
   "file_extension": ".py",
   "mimetype": "text/x-python",
   "name": "python",
   "nbconvert_exporter": "python",
   "pygments_lexer": "ipython3",
   "version": "3.13.2"
  }
 },
 "nbformat": 4,
 "nbformat_minor": 2
}
