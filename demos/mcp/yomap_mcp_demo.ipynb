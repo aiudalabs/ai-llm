{
 "cells": [
  {
   "cell_type": "markdown",
   "id": "ab2c9c59",
   "metadata": {},
   "source": [
    "# Servers\n",
    "\n",
    "```json\n",
    "    \"neo4j-aura\": {\n",
    "        \"command\": \"uvx\",\n",
    "        \"args\": [ \"mcp-neo4j-cypher==0.1.2\" ],\n",
    "        \"env\": {\n",
    "        \"NEO4J_URL\": \"bolt://localhost:7687\",\n",
    "        \"NEO4J_USERNAME\": \"neo4j\",\n",
    "        \"NEO4J_PASSWORD\": \"<your-password>\"\n",
    "        }\n",
    "    }\n",
    "```"
   ]
  },
  {
   "cell_type": "code",
   "execution_count": 2,
   "id": "76fea4a5",
   "metadata": {},
   "outputs": [],
   "source": [
    "from langchain_mcp_adapters.client import MultiServerMCPClient\n",
    "from langgraph.prebuilt import create_react_agent\n",
    "\n",
    "from langchain_openai import ChatOpenAI\n",
    "\n",
    "model = ChatOpenAI(model=\"gpt-4o\")"
   ]
  },
  {
   "cell_type": "code",
   "execution_count": 3,
   "id": "7014fe06",
   "metadata": {},
   "outputs": [],
   "source": [
    "NEO4J_URI = \"neo4j+s://yomap-neo-dev.fly.dev:7687\"\n",
    "NEO4J_USERNAME = \"neo4j\"\n",
    "NEO4J_PASSWORD = \"5GTAmrydyizxgRcY\""
   ]
  },
  {
   "cell_type": "code",
   "execution_count": null,
   "id": "c63f0460",
   "metadata": {},
   "outputs": [],
   "source": [
    "from langchain_mcp_adapters.client import MultiServerMCPClient\n",
    "from langgraph.prebuilt import create_react_agent\n",
    "\n",
    "from langchain_openai import ChatOpenAI\n",
    "\n",
    "model = ChatOpenAI(model=\"gpt-4o\")\n",
    "\n",
    "async with MultiServerMCPClient(\n",
    "    {\n",
    "        \"neo4j-aura\": {\n",
    "            \"command\": \"uvx\",\n",
    "            \"args\": [ \"mcp-neo4j-cypher==0.1.2\" ],\n",
    "            \"env\": {\n",
    "                \"NEO4J_URL\": NEO4J_URI,\n",
    "                \"NEO4J_USERNAME\": NEO4J_USERNAME,\n",
    "                \"NEO4J_PASSWORD\": NEO4J_PASSWORD,\n",
    "        }\n",
    "    }\n",
    "    }\n",
    ") as client:\n",
    "    agent = create_react_agent(model, client.get_tools())\n",
    "    print(client.get_tools())\n",
    "    # math_response = await agent.ainvoke({\"messages\": \"what's (3 + 5) x 12?\"})\n",
    "    weather_response = await agent.ainvoke(\n",
    "        {\n",
    "            \"messages\": \"What is the schema of the database?\",\n",
    "        }\n",
    "    )"
   ]
  },
  {
   "cell_type": "code",
   "execution_count": null,
   "id": "970bf16d",
   "metadata": {},
   "outputs": [],
   "source": []
  },
  {
   "cell_type": "code",
   "execution_count": null,
   "id": "495d91d2",
   "metadata": {},
   "outputs": [],
   "source": []
  }
 ],
 "metadata": {
  "kernelspec": {
   "display_name": "yomap",
   "language": "python",
   "name": "python3"
  },
  "language_info": {
   "codemirror_mode": {
    "name": "ipython",
    "version": 3
   },
   "file_extension": ".py",
   "mimetype": "text/x-python",
   "name": "python",
   "nbconvert_exporter": "python",
   "pygments_lexer": "ipython3",
   "version": "3.13.2"
  }
 },
 "nbformat": 4,
 "nbformat_minor": 5
}
