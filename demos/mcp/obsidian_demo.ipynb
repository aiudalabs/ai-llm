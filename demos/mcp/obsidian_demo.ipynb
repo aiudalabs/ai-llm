{
 "cells": [
  {
   "cell_type": "markdown",
   "id": "b1ae1a3d",
   "metadata": {},
   "source": []
  },
  {
   "cell_type": "code",
   "execution_count": 24,
   "id": "e281cfda",
   "metadata": {},
   "outputs": [],
   "source": [
    "from langchain_mcp_adapters.client import MultiServerMCPClient\n",
    "from langgraph.prebuilt import create_react_agent\n",
    "\n",
    "from langchain_openai import ChatOpenAI\n",
    "\n",
    "model = ChatOpenAI(model=\"gpt-4o\")\n",
    "\n",
    "async with MultiServerMCPClient(\n",
    "    {\n",
    "        \"mcp-obsidian\": {\n",
    "            \"command\": \"npx\",\n",
    "            \"args\": [\n",
    "                \"-y\",\n",
    "                \"@smithery/cli@latest\",\n",
    "                \"run\",\n",
    "                \"mcp-obsidian\",\n",
    "                \"--config\",\n",
    "                '\"{\\\\\"vaultPath\\\\\":\\\\\"/Users/nmlemus/projects/notes/YoMap\\\\\"}\"',\n",
    "            ],\n",
    "        }\n",
    "    }\n",
    ") as client:\n",
    "    agent = create_react_agent(model, client.get_tools())\n",
    "    # print(client.get_tools())\n",
    "    # math_response = await agent.ainvoke({\"messages\": \"what's (3 + 5) x 12?\"})\n",
    "    response = await agent.ainvoke(\n",
    "        {\n",
    "            \"messages\": \"Can you read the notes in obsidian://open?vault=notes&file=YoMap%2FQuestions\",\n",
    "        }\n",
    "    )"
   ]
  },
  {
   "cell_type": "code",
   "execution_count": 25,
   "id": "a4b90b5f",
   "metadata": {},
   "outputs": [
    {
     "data": {
      "text/plain": [
       "{'messages': [HumanMessage(content='Can you read the notes in obsidian://open?vault=notes&file=YoMap%2FQuestions', additional_kwargs={}, response_metadata={}, id='6f12da6e-f9d3-46bb-90ac-90a2f7f2852c'),\n",
       "  AIMessage(content='', additional_kwargs={'tool_calls': [{'id': 'call_phjxmIzmPurvc8UQifnIeIBv', 'function': {'arguments': '{\"query\":\"Questions\"}', 'name': 'search_notes'}, 'type': 'function'}], 'refusal': None}, response_metadata={'token_usage': {'completion_tokens': 15, 'prompt_tokens': 154, 'total_tokens': 169, 'completion_tokens_details': {'accepted_prediction_tokens': 0, 'audio_tokens': 0, 'reasoning_tokens': 0, 'rejected_prediction_tokens': 0}, 'prompt_tokens_details': {'audio_tokens': 0, 'cached_tokens': 0}}, 'model_name': 'gpt-4o-2024-08-06', 'system_fingerprint': 'fp_fa860cbac8', 'id': 'chatcmpl-BM3q1J4yGCz8qv5a9oyjVmwElLEn3', 'finish_reason': 'tool_calls', 'logprobs': None}, id='run-154ae428-31e7-4773-a417-9b11b3edf1a8-0', tool_calls=[{'name': 'search_notes', 'args': {'query': 'Questions'}, 'id': 'call_phjxmIzmPurvc8UQifnIeIBv', 'type': 'tool_call'}], usage_metadata={'input_tokens': 154, 'output_tokens': 15, 'total_tokens': 169, 'input_token_details': {'audio': 0, 'cache_read': 0}, 'output_token_details': {'audio': 0, 'reasoning': 0}}),\n",
       "  ToolMessage(content='/Questions.md', name='search_notes', id='4dc2a4bd-61bf-4c54-88ac-b463f8344ff5', tool_call_id='call_phjxmIzmPurvc8UQifnIeIBv'),\n",
       "  AIMessage(content='', additional_kwargs={'tool_calls': [{'id': 'call_AAxwcFwmuL2cTD8ShBoYqON3', 'function': {'arguments': '{\"paths\":[\"/Questions.md\"]}', 'name': 'read_notes'}, 'type': 'function'}], 'refusal': None}, response_metadata={'token_usage': {'completion_tokens': 18, 'prompt_tokens': 179, 'total_tokens': 197, 'completion_tokens_details': {'accepted_prediction_tokens': 0, 'audio_tokens': 0, 'reasoning_tokens': 0, 'rejected_prediction_tokens': 0}, 'prompt_tokens_details': {'audio_tokens': 0, 'cached_tokens': 0}}, 'model_name': 'gpt-4o-2024-08-06', 'system_fingerprint': 'fp_fa860cbac8', 'id': 'chatcmpl-BM3q2yODsQT9IMaMrrqkQRFmshhDe', 'finish_reason': 'tool_calls', 'logprobs': None}, id='run-fcc1b02c-6ec7-429f-b533-98af7820e72f-0', tool_calls=[{'name': 'read_notes', 'args': {'paths': ['/Questions.md']}, 'id': 'call_AAxwcFwmuL2cTD8ShBoYqON3', 'type': 'tool_call'}], usage_metadata={'input_tokens': 179, 'output_tokens': 18, 'total_tokens': 197, 'input_token_details': {'audio': 0, 'cache_read': 0}, 'output_token_details': {'audio': 0, 'reasoning': 0}}),\n",
       "  ToolMessage(content=\"/Questions.md:\\n# 2025-01-04\\n\\n## Jean Questions\\n\\n- [x] What is the final goal in your mind, In one sentence?\\n\\t- [x] Noel: for me there are to goals because there are two subsets of the population \\n\\t\\t- [x] **From the user PoV**: Find someone to solve any problem ASAP, someone I can truth in all the aspects (quality of the job, security)\\n\\t\\t- [x] From the service provider PoV: find jobs, get money, sale services\\n\\t- [x] Jean: For me Making matches between 2 or more people to do business. and exchange services and $.\\n- [x] who is searching : the service\\xa0taker\\n\\t- [x] we need to help him find what he wants as quickly as possible + provide an UI friendly, effective p2p ( + cooperative ) platform\\xa0for services\\xa0(ex taxi, manicure, pet care etc...)\\n\\t- [x] ==Noel: agree but take a look at the next section, the search need to be deterministic.==\\nwe need to help him find what he wants as quickly as possible + provide an UI friendly, effective p2p ( + cooperative ) platform\\xa0for services\\xa0(ex taxi, manicure, pet care etc...)\\n- [x] register =\\xa0 how to get max information with least possible questions\\n\\n\\nSo all this to say that with AI,\\xa0\\n\\n- [ ] Register:\\xa0 \\xa0we need to have AI ask questions 1 to Qr so that it can get the max relevant info\\n\\t- [ ] Descrito mas abajo pero en general agree, solo considero importante la taxnomia, incluso por temas de seguridad, cada servicio debe tener determinado nivel de seguridad. Ejemplo, personas que entren a mi casa deben estar registrados de forma mas segura que alguien que arregla computadoras en un taller. ==Esto solo se logra si existe una taxonomia determinista.==\\n\\n- [ ] Search : info has been organized by AI who asked Qr questions a register. so that it's best organized for AI to find the profile after asking as few 1 to Qs necessary\\xa0questions.\\n\\t- [ ] Aqui explicar la diferencia entre guardar informacion y buscarla de vuelta, son dos procesos totalmente diferentes. Mientras la IA me puede ayudar a hacer el registro menos complicado haciendo preguntas y siendo interactivo, la forma en la que se guarda la informacion debe serguir siendo indexada para garantizar respuestas fiables.\\n\\t- [ ] Dicho esto la IA ayudaria en la busqueda nuevamente haciendo preguntas y guiando la misma, pero las funciones que se ejecutan por detras deben estar predeterminadas.\\n\\n## Sobre el sistema de Tags\\n\\n- [x] Para poder dar un servicio de calidad la búsqueda tiene que ser lo mas cercana posible a algo determinístico. O sea:\\n\\t- [x] si yo busco un plomero no quiero que la aplicación me recomiende a alguien que haga trabajos en el hogar porque puede que no sea bueno, por eso es mejor tener tags claros y bien definidos.\\n- [x] Tener tags claros y definidos ayuda a realizar esa búsqueda, pueden ser infinitos pero numerables. La relación `tag` `--->` `service_provider` debe ser mucho a muchos, esto es:\\n\\t- [x] cada `tag` puede tener muchos `service_providers`\\n\\t- [x] cada `service_provider` puede pertenecer ofrecer varios servicios identificados por el `tag`\\n- [x] Debe existir una taxonomía clara, como la descrita en [[Categories Taxonomy and Organization]] . \\n\\n## Sobre el ChatBot y la AI\\n\\n> [!important] Podemos seguir usando AI\\nNada de lo descrito arriba mata la idea de AI dentro de la app, al contraria garantizaríamos que la misma funcione mejor, de manera más eficiente. \\n\\n### En el Search\\n\\n- [ ] la búsqueda en el chatbot puede ser interactiva como siempre la hemos pensado:\\n\\t- [ ] el usuario pregunta por un servicio (puede ser a través de un texto, audio o incluso imagen)\\n\\t- [ ] la IA identifica el servicio comparándolo con la lista de la [taxonomia](obsidian://open?vault=notes&file=YoMap%2FCategories%20Taxonomy%20and%20Organization)\\n\\t\\t- [ ] en caso de que el servicio - exactamente como lo ha pedido el usuario - no exista, puede buscar alguno semejante pero dentro de la misma categoria, ya esto ayuda en la busqueda:\\n\\t\\t\\t1. acelera la busqueda\\n\\t\\t\\t2. garantiza que no haya ambiguedades, si yo estoy buscando algo del hogar, el chatbot no se va a salir de esa categoria\\n\\t\\t- [ ] si el servicio existe se busca el profesional adecuado para realizarlo\\n\\t- [ ] el chatbot ira pidiendo de forma interactiva toda la info necesaria para buscar el proveedor de servicios adecuado\\n\\t\\t- [ ] location (if needed)\\n\\t\\t- [ ] date-time\\n\\t\\t- [ ] budget (podria ser tipo inDriver, donde el usuario dice cuanto paga)\\n- [ ] \\n\\n## Register\\n\\nEl chatbot puede ayudar a registrarse como mismo lo habiamos pensando, guiando al usuario en el llenado de su profile y sugiriendole las cosas que debe incluir para que lo encuentren con facilidad. Estas serian:\\n\\n- [ ] displayName (acorde al servicio)\\n- [ ] aboutMe (una buena descripcion que podemos ayudarle a mejorar)\\n- [ ] tags: los sacamos del aboutMe, pero le preguntamos al usuario si le parece bien. Estos pueden mostrarse en un Card que tenga:\\n\\t- Category (numero de providers)\\n\\t\\t- tag1 (45)\\n\\t\\t- tag2 (18)\\n- [ ] location: depende del tipo de servicio\\n\\t- [ ] real time (taxi, inDriver, etc)\\n\\t- [ ] fixed (taller de reparaciones, lavanderia, etc)\\n\\t- [ ] area (plomero, electricista). En este caso debe darse un punto central y un area de trabajo, ejemplo 10 Km. El chatbot puede mostrarte el area en el mapa y tu puedes modificar el bounding box\\n- [ ] horario de trabajo: depende del tipo\\n\\t- [ ] cuando este on\\n\\t- [ ] fijo (de Lunes a Viernes de 8 a 5)\\n\\t- [ ] 24 horas\\n- [ ] foto de perfil\\n- [ ] galeria de fotos\\n\\n\\n\", name='read_notes', id='8800782d-9ae0-4c2e-8c90-94bda162f9d5', tool_call_id='call_AAxwcFwmuL2cTD8ShBoYqON3'),\n",
       "  AIMessage(content='The note titled \"Questions\" contains a detailed discussion on the objectives and strategies for developing an AI-enhanced application aimed at matching service providers with users. Here\\'s a summary of the key points:\\n\\n1. **Final Goals:**\\n   - From the user’s perspective, the aim is to quickly find a trustworthy person to solve any problem. \\n   - For service providers, the goal is to find jobs, earn money, and sell services.\\n\\n2. **User Experience:**\\n   - The service seeker should find what they need swiftly, with a user-friendly interface that supports peer-to-peer services.\\n   - AI should assist in gathering maximum relevant information during registration by asking targeted questions.\\n   - AI should effectively organize information to facilitate easy search and retrieval.\\n\\n3. **Tag System:**\\n   - Precise and well-defined tags are crucial for deterministic searches, ensuring accurate service provider recommendations.\\n   - A many-to-many relationship between tags and service providers is suggested.\\n   - A clear taxonomy, as described in another document, is necessary.\\n\\n4. **Role of AI and ChatBot:**\\n   - AI plays a crucial role without replacing core functionalities. It enhances efficiency and efficacy.\\n   - During searches, AI can interactively assist users by identifying services and suitable professionals while adhering to the defined taxonomy.\\n\\n5. **Registration Process:**\\n   - The chatbot aids in guiding users through profile setup, suggesting details to improve findability.\\n   - Key elements include display name, detailed description, relevant tags, location preferences, working hours, and profile media.\\n\\nThe note emphasizes a structured approach to building an intelligent, efficient platform with AI at its core, enhancing but not dominating its functions.', additional_kwargs={'refusal': None}, response_metadata={'token_usage': {'completion_tokens': 338, 'prompt_tokens': 1560, 'total_tokens': 1898, 'completion_tokens_details': {'accepted_prediction_tokens': 0, 'audio_tokens': 0, 'reasoning_tokens': 0, 'rejected_prediction_tokens': 0}, 'prompt_tokens_details': {'audio_tokens': 0, 'cached_tokens': 0}}, 'model_name': 'gpt-4o-2024-08-06', 'system_fingerprint': 'fp_fa860cbac8', 'id': 'chatcmpl-BM3q3QDLzhD5mUFa1NcpaeUTXVkdl', 'finish_reason': 'stop', 'logprobs': None}, id='run-04aa74bc-da30-48e4-9753-a78b3823bbc7-0', usage_metadata={'input_tokens': 1560, 'output_tokens': 338, 'total_tokens': 1898, 'input_token_details': {'audio': 0, 'cache_read': 0}, 'output_token_details': {'audio': 0, 'reasoning': 0}})]}"
      ]
     },
     "execution_count": 25,
     "metadata": {},
     "output_type": "execute_result"
    }
   ],
   "source": [
    "response"
   ]
  },
  {
   "cell_type": "code",
   "execution_count": 27,
   "id": "6d8da8da",
   "metadata": {},
   "outputs": [
    {
     "name": "stdout",
     "output_type": "stream",
     "text": [
      "The note titled \"Questions\" contains a detailed discussion on the objectives and strategies for developing an AI-enhanced application aimed at matching service providers with users. Here's a summary of the key points:\n",
      "\n",
      "1. **Final Goals:**\n",
      "   - From the user’s perspective, the aim is to quickly find a trustworthy person to solve any problem. \n",
      "   - For service providers, the goal is to find jobs, earn money, and sell services.\n",
      "\n",
      "2. **User Experience:**\n",
      "   - The service seeker should find what they need swiftly, with a user-friendly interface that supports peer-to-peer services.\n",
      "   - AI should assist in gathering maximum relevant information during registration by asking targeted questions.\n",
      "   - AI should effectively organize information to facilitate easy search and retrieval.\n",
      "\n",
      "3. **Tag System:**\n",
      "   - Precise and well-defined tags are crucial for deterministic searches, ensuring accurate service provider recommendations.\n",
      "   - A many-to-many relationship between tags and service providers is suggested.\n",
      "   - A clear taxonomy, as described in another document, is necessary.\n",
      "\n",
      "4. **Role of AI and ChatBot:**\n",
      "   - AI plays a crucial role without replacing core functionalities. It enhances efficiency and efficacy.\n",
      "   - During searches, AI can interactively assist users by identifying services and suitable professionals while adhering to the defined taxonomy.\n",
      "\n",
      "5. **Registration Process:**\n",
      "   - The chatbot aids in guiding users through profile setup, suggesting details to improve findability.\n",
      "   - Key elements include display name, detailed description, relevant tags, location preferences, working hours, and profile media.\n",
      "\n",
      "The note emphasizes a structured approach to building an intelligent, efficient platform with AI at its core, enhancing but not dominating its functions.\n"
     ]
    }
   ],
   "source": [
    "print(response.get(\"messages\")[5].content)"
   ]
  }
 ],
 "metadata": {
  "kernelspec": {
   "display_name": "yomap",
   "language": "python",
   "name": "python3"
  },
  "language_info": {
   "codemirror_mode": {
    "name": "ipython",
    "version": 3
   },
   "file_extension": ".py",
   "mimetype": "text/x-python",
   "name": "python",
   "nbconvert_exporter": "python",
   "pygments_lexer": "ipython3",
   "version": "3.13.2"
  }
 },
 "nbformat": 4,
 "nbformat_minor": 5
}
