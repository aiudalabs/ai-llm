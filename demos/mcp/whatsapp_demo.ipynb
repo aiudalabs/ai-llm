{
 "cells": [
  {
   "cell_type": "markdown",
   "id": "51f0e00c",
   "metadata": {},
   "source": []
  },
  {
   "cell_type": "code",
   "execution_count": 3,
   "id": "4e4d3ce7",
   "metadata": {},
   "outputs": [],
   "source": [
    "from langchain_mcp_adapters.client import MultiServerMCPClient\n",
    "from langgraph.prebuilt import create_react_agent\n",
    "\n",
    "from langchain_openai import ChatOpenAI\n",
    "\n",
    "model = ChatOpenAI(model=\"gpt-4o\")\n",
    "\n",
    "async with MultiServerMCPClient(\n",
    "    {\n",
    "        \"whatsapp\": {\n",
    "            \"command\": \"/Users/nmlemus/.local/bin/uv\",\n",
    "            \"args\": [\n",
    "                \"--directory\",\n",
    "                \"/Users/nmlemus/projects/mcp/whatsapp-mcp/whatsapp-mcp-server\",\n",
    "                \"run\",\n",
    "                \"main.py\",\n",
    "            ],\n",
    "            \"transport\": \"stdio\",\n",
    "        }\n",
    "    }\n",
    ") as client:\n",
    "    agent = create_react_agent(model, client.get_tools())\n",
    "    # print(client.get_tools())\n",
    "    # math_response = await agent.ainvoke({\"messages\": \"what's (3 + 5) x 12?\"})\n",
    "    response = await agent.ainvoke(\n",
    "        {\n",
    "            \"messages\": \"Send message to 50763994214 with the summary of the book the old man and the sea\",\n",
    "        }\n",
    "    )"
   ]
  }
 ],
 "metadata": {
  "kernelspec": {
   "display_name": "yomap",
   "language": "python",
   "name": "python3"
  },
  "language_info": {
   "codemirror_mode": {
    "name": "ipython",
    "version": 3
   },
   "file_extension": ".py",
   "mimetype": "text/x-python",
   "name": "python",
   "nbconvert_exporter": "python",
   "pygments_lexer": "ipython3",
   "version": "3.13.2"
  }
 },
 "nbformat": 4,
 "nbformat_minor": 5
}
