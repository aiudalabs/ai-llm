{
 "cells": [
  {
   "cell_type": "markdown",
   "id": "ef362776",
   "metadata": {},
   "source": []
  },
  {
   "cell_type": "code",
   "execution_count": 20,
   "id": "19392e4f",
   "metadata": {},
   "outputs": [
    {
     "name": "stdout",
     "output_type": "stream",
     "text": [
      "[StructuredTool(name='load_csv', description='\\nLoad CSV File Tool\\n\\nPurpose:\\nLoad a local CSV file into a DataFrame.\\n\\nUsage Notes:\\n\\t•\\tIf a df_name is not provided, the tool will automatically assign names sequentially as df_1, df_2, and so on.\\n', args_schema={'properties': {'csv_path': {'title': 'Csv Path', 'type': 'string'}, 'df_name': {'anyOf': [{'type': 'string'}, {'type': 'null'}], 'default': None, 'title': 'Df Name'}}, 'required': ['csv_path'], 'title': 'LoadCsv', 'type': 'object'}, response_format='content_and_artifact', coroutine=<function convert_mcp_tool_to_langchain_tool.<locals>.call_tool at 0x1243fbe20>), StructuredTool(name='run_script', description='\\nPython Script Execution Tool\\n\\nPurpose:\\nExecute Python scripts for specific data analytics tasks.\\n\\nAllowed Actions\\n\\t1.\\tPrint Results: Output will be displayed as the script’s stdout.\\n\\t2.\\t[Optional] Save DataFrames: Store DataFrames in memory for future use by specifying a save_to_memory name.\\n\\nProhibited Actions\\n\\t1.\\tOverwriting Original DataFrames: Do not modify existing DataFrames to preserve their integrity for future tasks.\\n\\t2.\\tCreating Charts: Chart generation is not permitted.\\n', args_schema={'properties': {'script': {'title': 'Script', 'type': 'string'}, 'save_to_memory': {'anyOf': [{'items': {'type': 'string'}, 'type': 'array'}, {'type': 'null'}], 'default': None, 'title': 'Save To Memory'}}, 'required': ['script'], 'title': 'RunScript', 'type': 'object'}, response_format='content_and_artifact', coroutine=<function convert_mcp_tool_to_langchain_tool.<locals>.call_tool at 0x126610220>)]\n"
     ]
    }
   ],
   "source": [
    "from langchain_mcp_adapters.client import MultiServerMCPClient\n",
    "from langgraph.prebuilt import create_react_agent\n",
    "\n",
    "from langchain_openai import ChatOpenAI\n",
    "\n",
    "model = ChatOpenAI(model=\"gpt-4o\")\n",
    "\n",
    "async with MultiServerMCPClient(\n",
    "    {\n",
    "        \"mcp-server-ds\": {\n",
    "            \"command\": \"uv\",\n",
    "            \"args\": [\n",
    "                \"--directory\",\n",
    "                \"/Users/nmlemus/projects/mcp/mcp-server-data-exploration/src/mcp_server_ds\",\n",
    "                \"run\",\n",
    "                \"mcp-server-ds\",\n",
    "            ],\n",
    "        }\n",
    "    }\n",
    ") as client:\n",
    "    agent = create_react_agent(model, client.get_tools())\n",
    "    print(client.get_tools())\n",
    "    # math_response = await agent.ainvoke({\"messages\": \"what's (3 + 5) x 12?\"})\n",
    "    response = await agent.ainvoke(\n",
    "        {\n",
    "            \"messages\": \"Create a bar chart of the median house price of the cities of Los Angeles, San Diego, Sacramento, San Francisco and San Jose using city as \\\n",
    "                column for the city and price for the price /Users/nmlemus/projects/aiuda_labs/ai-llm/demos/mcp/realtor-data.csv. Formate the price in dollars. \\\n",
    "                Use the following libraries: matplotlib, pandas, seaborn. \",\n",
    "        }\n",
    "    )"
   ]
  },
  {
   "cell_type": "code",
   "execution_count": 21,
   "id": "085e1993",
   "metadata": {},
   "outputs": [
    {
     "name": "stdout",
     "output_type": "stream",
     "text": [
      "The bar chart displaying the median house prices for the specified cities has been successfully created using 'matplotlib' and 'pandas'. Since 'seaborn' is not available, we used 'matplotlib' to visualize the data. The prices were formatted in dollars, and the bars are annotated with these formatted prices.\n"
     ]
    }
   ],
   "source": [
    "print(response.get(\"messages\")[-1].content)"
   ]
  }
 ],
 "metadata": {
  "kernelspec": {
   "display_name": "yomap",
   "language": "python",
   "name": "python3"
  },
  "language_info": {
   "codemirror_mode": {
    "name": "ipython",
    "version": 3
   },
   "file_extension": ".py",
   "mimetype": "text/x-python",
   "name": "python",
   "nbconvert_exporter": "python",
   "pygments_lexer": "ipython3",
   "version": "3.13.2"
  }
 },
 "nbformat": 4,
 "nbformat_minor": 5
}
